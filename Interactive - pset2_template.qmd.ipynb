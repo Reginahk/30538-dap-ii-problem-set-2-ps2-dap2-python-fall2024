{
 "cells": [
  {
   "cell_type": "markdown",
   "metadata": {},
   "source": [
    "Connected to Python 3.12.2"
   ]
  },
  {
   "cell_type": "code",
   "execution_count": null,
   "id": "07664ec1-f9b1-4259-9aae-8b973498b4f4",
   "metadata": {},
   "outputs": [],
   "source": [
    "import pandas as pd\n",
    "import altair as alt\n",
    "alt.renderers.enable(\"png\")\n",
    "import time\n",
    "\n",
    "import warnings \n",
    "warnings.filterwarnings('ignore')"
   ]
  },
  {
   "cell_type": "code",
   "execution_count": null,
   "id": "0ae5626e-0f89-4c6b-b13d-a29848ddcadc",
   "metadata": {},
   "outputs": [],
   "source": [
    "import pandas as pd\n",
    "import altair as alt\n",
    "alt.renderers.enable(\"png\")\n",
    "import time\n",
    "\n",
    "import warnings \n",
    "warnings.filterwarnings('ignore')"
   ]
  },
  {
   "cell_type": "code",
   "execution_count": null,
   "id": "2d11993f-1ec7-476b-9269-13258719fd4d",
   "metadata": {},
   "outputs": [
    {
     "ename": "SyntaxError",
     "evalue": "invalid syntax. Perhaps you forgot a comma? (<ipython-input-3-5e7736e9785d>, line 6)",
     "output_type": "error",
     "traceback": [
      "\u001b[0;36m  Cell \u001b[0;32mIn[3], line 6\u001b[0;36m\u001b[0m\n\u001b[0;31m    NA_Count = sapply(df, function(x) sum(is.na(x)))\u001b[0m\n\u001b[0m                          ^\u001b[0m\n\u001b[0;31mSyntaxError\u001b[0m\u001b[0;31m:\u001b[0m invalid syntax. Perhaps you forgot a comma?\n"
     ]
    }
   ],
   "source": [
    "df = pd.read_csv('/Users/hkkkkk/Documents/GitHub/Python2/problem_sets/ps1/data/parking_tickets_one_percent.csv')\n",
    "count_na <- function(df) {\n",
    "\n",
    "  result <- data.frame(\n",
    "    Variable = names(df),\n",
    "    NA_Count = sapply(df, function(x) sum(is.na(x)))\n",
    "  )\n",
    "  return(result)\n",
    "}\n",
    "2.      \n",
    "3.  \n",
    "4. \n",
    "\n",
    "## Revenue increase from \"missing city sticker\" tickets (20 Points)\n",
    "\n",
    "1.\n",
    "2. \n",
    "3. \n",
    "4.\n",
    "5.\n",
    "6.\n",
    "\n",
    "## Headlines and sub-messages (20 points)\n",
    "\n",
    "1. \n",
    "2. \n",
    "3. \n",
    "\n",
    "## Understanding the structure of the data and summarizing it (Lecture 5, 20 Points)\n",
    "\n",
    "1. \n",
    "2.\n",
    "3.\n",
    "\n",
    "## Multi-view Composition (15 Points)\n",
    "\n",
    "1. \n",
    "2. \n",
    "\n",
    "## Extra Credit (max 5 points)\n",
    "\n",
    "1. \n",
    "2. "
   ]
  },
  {
   "cell_type": "code",
   "execution_count": null,
   "id": "182f848d-2c97-4b4f-b327-53f545bb68f7",
   "metadata": {},
   "outputs": [
    {
     "ename": "SyntaxError",
     "evalue": "invalid syntax. Perhaps you forgot a comma? (<ipython-input-4-ec13e284fd26>, line 6)",
     "output_type": "error",
     "traceback": [
      "\u001b[0;36m  Cell \u001b[0;32mIn[4], line 6\u001b[0;36m\u001b[0m\n\u001b[0;31m    NA_Count = sapply(df, function(x) sum(is.na(x)))\u001b[0m\n\u001b[0m                          ^\u001b[0m\n\u001b[0;31mSyntaxError\u001b[0m\u001b[0;31m:\u001b[0m invalid syntax. Perhaps you forgot a comma?\n"
     ]
    }
   ],
   "source": [
    "df = pd.read_csv('/Users/hkkkkk/Documents/GitHub/ppha30538_fall2024/未命名/problem_sets/ps2/data/parking_tickets_one_percent.csv')\n",
    "count_na <- function(df) {\n",
    "\n",
    "  result <- data.frame(\n",
    "    Variable = names(df),\n",
    "    NA_Count = sapply(df, function(x) sum(is.na(x)))\n",
    "  )\n",
    "  return(result)\n",
    "}\n",
    "2.      \n",
    "3.  \n",
    "4. \n",
    "\n",
    "## Revenue increase from \"missing city sticker\" tickets (20 Points)\n",
    "\n",
    "1.\n",
    "2. \n",
    "3. \n",
    "4.\n",
    "5.\n",
    "6.\n",
    "\n",
    "## Headlines and sub-messages (20 points)\n",
    "\n",
    "1. \n",
    "2. \n",
    "3. \n",
    "\n",
    "## Understanding the structure of the data and summarizing it (Lecture 5, 20 Points)\n",
    "\n",
    "1. \n",
    "2.\n",
    "3.\n",
    "\n",
    "## Multi-view Composition (15 Points)\n",
    "\n",
    "1. \n",
    "2. \n",
    "\n",
    "## Extra Credit (max 5 points)\n",
    "\n",
    "1. \n",
    "2. "
   ]
  },
  {
   "cell_type": "code",
   "execution_count": null,
   "id": "b362e75e-733d-49d6-9eda-cefce64f1177",
   "metadata": {},
   "outputs": [
    {
     "ename": "SyntaxError",
     "evalue": "invalid syntax. Perhaps you forgot a comma? (<ipython-input-5-ec13e284fd26>, line 6)",
     "output_type": "error",
     "traceback": [
      "\u001b[0;36m  Cell \u001b[0;32mIn[5], line 6\u001b[0;36m\u001b[0m\n\u001b[0;31m    NA_Count = sapply(df, function(x) sum(is.na(x)))\u001b[0m\n\u001b[0m                          ^\u001b[0m\n\u001b[0;31mSyntaxError\u001b[0m\u001b[0;31m:\u001b[0m invalid syntax. Perhaps you forgot a comma?\n"
     ]
    }
   ],
   "source": [
    "df = pd.read_csv('/Users/hkkkkk/Documents/GitHub/ppha30538_fall2024/未命名/problem_sets/ps2/data/parking_tickets_one_percent.csv')\n",
    "count_na <- function(df) {\n",
    "\n",
    "  result <- data.frame(\n",
    "    Variable = names(df),\n",
    "    NA_Count = sapply(df, function(x) sum(is.na(x)))\n",
    "  )\n",
    "  return(result)\n",
    "}\n",
    "2.      \n",
    "3.  \n",
    "4. \n",
    "\n",
    "## Revenue increase from \"missing city sticker\" tickets (20 Points)\n",
    "\n",
    "1.\n",
    "2. \n",
    "3. \n",
    "4.\n",
    "5.\n",
    "6.\n",
    "\n",
    "## Headlines and sub-messages (20 points)\n",
    "\n",
    "1. \n",
    "2. \n",
    "3. \n",
    "\n",
    "## Understanding the structure of the data and summarizing it (Lecture 5, 20 Points)\n",
    "\n",
    "1. \n",
    "2.\n",
    "3.\n",
    "\n",
    "## Multi-view Composition (15 Points)\n",
    "\n",
    "1. \n",
    "2. \n",
    "\n",
    "## Extra Credit (max 5 points)\n",
    "\n",
    "1. \n",
    "2. "
   ]
  },
  {
   "cell_type": "code",
   "execution_count": null,
   "id": "c17dad0d-d9ac-43cf-aa44-1771884bc12f",
   "metadata": {},
   "outputs": [
    {
     "ename": "SyntaxError",
     "evalue": "invalid syntax. Perhaps you forgot a comma? (<ipython-input-6-ec13e284fd26>, line 6)",
     "output_type": "error",
     "traceback": [
      "\u001b[0;36m  Cell \u001b[0;32mIn[6], line 6\u001b[0;36m\u001b[0m\n\u001b[0;31m    NA_Count = sapply(df, function(x) sum(is.na(x)))\u001b[0m\n\u001b[0m                          ^\u001b[0m\n\u001b[0;31mSyntaxError\u001b[0m\u001b[0;31m:\u001b[0m invalid syntax. Perhaps you forgot a comma?\n"
     ]
    }
   ],
   "source": [
    "df = pd.read_csv('/Users/hkkkkk/Documents/GitHub/ppha30538_fall2024/未命名/problem_sets/ps2/data/parking_tickets_one_percent.csv')\n",
    "count_na <- function(df) {\n",
    "\n",
    "  result <- data.frame(\n",
    "    Variable = names(df),\n",
    "    NA_Count = sapply(df, function(x) sum(is.na(x)))\n",
    "  )\n",
    "  return(result)\n",
    "}\n",
    "2.      \n",
    "3.  \n",
    "4. \n",
    "\n",
    "## Revenue increase from \"missing city sticker\" tickets (20 Points)\n",
    "\n",
    "1.\n",
    "2. \n",
    "3. \n",
    "4.\n",
    "5.\n",
    "6.\n",
    "\n",
    "## Headlines and sub-messages (20 points)\n",
    "\n",
    "1. \n",
    "2. \n",
    "3. \n",
    "\n",
    "## Understanding the structure of the data and summarizing it (Lecture 5, 20 Points)\n",
    "\n",
    "1. \n",
    "2.\n",
    "3.\n",
    "\n",
    "## Multi-view Composition (15 Points)\n",
    "\n",
    "1. \n",
    "2. \n",
    "\n",
    "## Extra Credit (max 5 points)\n",
    "\n",
    "1. \n",
    "2. "
   ]
  },
  {
   "cell_type": "code",
   "execution_count": null,
   "id": "46b84731-8dd1-4a2d-af5c-f34996d0d46c",
   "metadata": {},
   "outputs": [
    {
     "ename": "SyntaxError",
     "evalue": "invalid syntax. Perhaps you forgot a comma? (<ipython-input-7-ec13e284fd26>, line 6)",
     "output_type": "error",
     "traceback": [
      "\u001b[0;36m  Cell \u001b[0;32mIn[7], line 6\u001b[0;36m\u001b[0m\n\u001b[0;31m    NA_Count = sapply(df, function(x) sum(is.na(x)))\u001b[0m\n\u001b[0m                          ^\u001b[0m\n\u001b[0;31mSyntaxError\u001b[0m\u001b[0;31m:\u001b[0m invalid syntax. Perhaps you forgot a comma?\n"
     ]
    }
   ],
   "source": [
    "df = pd.read_csv('/Users/hkkkkk/Documents/GitHub/ppha30538_fall2024/未命名/problem_sets/ps2/data/parking_tickets_one_percent.csv')\n",
    "count_na <- function(df) {\n",
    "\n",
    "  result <- data.frame(\n",
    "    Variable = names(df),\n",
    "    NA_Count = sapply(df, function(x) sum(is.na(x)))\n",
    "  )\n",
    "  return(result)\n",
    "}\n",
    "2.      \n",
    "3.  \n",
    "4. \n",
    "\n",
    "## Revenue increase from \"missing city sticker\" tickets (20 Points)\n",
    "\n",
    "1.\n",
    "2. \n",
    "3. \n",
    "4.\n",
    "5.\n",
    "6.\n",
    "\n",
    "## Headlines and sub-messages (20 points)\n",
    "\n",
    "1. \n",
    "2. \n",
    "3. \n",
    "\n",
    "## Understanding the structure of the data and summarizing it (Lecture 5, 20 Points)\n",
    "\n",
    "1. \n",
    "2.\n",
    "3.\n",
    "\n",
    "## Multi-view Composition (15 Points)\n",
    "\n",
    "1. \n",
    "2. \n",
    "\n",
    "## Extra Credit (max 5 points)\n",
    "\n",
    "1. \n",
    "2. "
   ]
  },
  {
   "cell_type": "code",
   "execution_count": null,
   "id": "08192603-2263-4b41-8e05-6dc32f7d5599",
   "metadata": {},
   "outputs": [
    {
     "ename": "IndentationError",
     "evalue": "unexpected indent (<ipython-input-8-733a839ad0ba>, line 4)",
     "output_type": "error",
     "traceback": [
      "\u001b[0;36m  Cell \u001b[0;32mIn[8], line 4\u001b[0;36m\u001b[0m\n\u001b[0;31m    result <- data.frame(\u001b[0m\n\u001b[0m    ^\u001b[0m\n\u001b[0;31mIndentationError\u001b[0m\u001b[0;31m:\u001b[0m unexpected indent\n"
     ]
    }
   ],
   "source": [
    "df = pd.read_csv('/Users/hkkkkk/Documents/GitHub/ppha30538_fall2024/未命名/problem_sets/ps2/data/parking_tickets_one_percent.csv')\n",
    "\n",
    "\n",
    "  result <- data.frame(\n",
    "    Variable = names(df),\n",
    "    NA_Count = sapply(df, function(x) sum(is.na(x)))\n",
    "  )\n",
    "  return(result)\n",
    "}\n",
    "2.      \n",
    "3.  \n",
    "4. \n",
    "\n",
    "## Revenue increase from \"missing city sticker\" tickets (20 Points)\n",
    "\n",
    "1.\n",
    "2. \n",
    "3. \n",
    "4.\n",
    "5.\n",
    "6.\n",
    "\n",
    "## Headlines and sub-messages (20 points)\n",
    "\n",
    "1. \n",
    "2. \n",
    "3. \n",
    "\n",
    "## Understanding the structure of the data and summarizing it (Lecture 5, 20 Points)\n",
    "\n",
    "1. \n",
    "2.\n",
    "3.\n",
    "\n",
    "## Multi-view Composition (15 Points)\n",
    "\n",
    "1. \n",
    "2. \n",
    "\n",
    "## Extra Credit (max 5 points)\n",
    "\n",
    "1. \n",
    "2. "
   ]
  },
  {
   "cell_type": "code",
   "execution_count": null,
   "id": "4cced882-9d2b-4e94-b143-1f06be30ed86",
   "metadata": {},
   "outputs": [
    {
     "ename": "IndentationError",
     "evalue": "unexpected indent (<ipython-input-9-dd24d43f7369>, line 4)",
     "output_type": "error",
     "traceback": [
      "\u001b[0;36m  Cell \u001b[0;32mIn[9], line 4\u001b[0;36m\u001b[0m\n\u001b[0;31m    result <- data.frame(\u001b[0m\n\u001b[0m    ^\u001b[0m\n\u001b[0;31mIndentationError\u001b[0m\u001b[0;31m:\u001b[0m unexpected indent\n"
     ]
    }
   ],
   "source": [
    "df = pd.read_csv('/Users/hkkkkk/Documents/GitHub/Python2/problem_sets/ps1/data/parking_tickets_one_percent.csv')\n",
    "\n",
    "\n",
    "  result <- data.frame(\n",
    "    Variable = names(df),\n",
    "    NA_Count = sapply(df, function(x) sum(is.na(x)))\n",
    "  )\n",
    "  return(result)\n",
    "}\n",
    "2.      \n",
    "3.  \n",
    "4. \n",
    "\n",
    "## Revenue increase from \"missing city sticker\" tickets (20 Points)\n",
    "\n",
    "1.\n",
    "2. \n",
    "3. \n",
    "4.\n",
    "5.\n",
    "6.\n",
    "\n",
    "## Headlines and sub-messages (20 points)\n",
    "\n",
    "1. \n",
    "2. \n",
    "3. \n",
    "\n",
    "## Understanding the structure of the data and summarizing it (Lecture 5, 20 Points)\n",
    "\n",
    "1. \n",
    "2.\n",
    "3.\n",
    "\n",
    "## Multi-view Composition (15 Points)\n",
    "\n",
    "1. \n",
    "2. \n",
    "\n",
    "## Extra Credit (max 5 points)\n",
    "\n",
    "1. \n",
    "2. "
   ]
  },
  {
   "cell_type": "code",
   "execution_count": null,
   "id": "24d0343d-7f22-49c1-a033-44caca508643",
   "metadata": {},
   "outputs": [
    {
     "ename": "IndentationError",
     "evalue": "unexpected indent (<ipython-input-10-dd24d43f7369>, line 4)",
     "output_type": "error",
     "traceback": [
      "\u001b[0;36m  Cell \u001b[0;32mIn[10], line 4\u001b[0;36m\u001b[0m\n\u001b[0;31m    result <- data.frame(\u001b[0m\n\u001b[0m    ^\u001b[0m\n\u001b[0;31mIndentationError\u001b[0m\u001b[0;31m:\u001b[0m unexpected indent\n"
     ]
    }
   ],
   "source": [
    "df = pd.read_csv('/Users/hkkkkk/Documents/GitHub/Python2/problem_sets/ps1/data/parking_tickets_one_percent.csv')\n",
    "\n",
    "\n",
    "  result <- data.frame(\n",
    "    Variable = names(df),\n",
    "    NA_Count = sapply(df, function(x) sum(is.na(x)))\n",
    "  )\n",
    "  return(result)\n",
    "}\n",
    "2.      \n",
    "3.  \n",
    "4. \n",
    "\n",
    "## Revenue increase from \"missing city sticker\" tickets (20 Points)\n",
    "\n",
    "1.\n",
    "2. \n",
    "3. \n",
    "4.\n",
    "5.\n",
    "6.\n",
    "\n",
    "## Headlines and sub-messages (20 points)\n",
    "\n",
    "1. \n",
    "2. \n",
    "3. \n",
    "\n",
    "## Understanding the structure of the data and summarizing it (Lecture 5, 20 Points)\n",
    "\n",
    "1. \n",
    "2.\n",
    "3.\n",
    "\n",
    "## Multi-view Composition (15 Points)\n",
    "\n",
    "1. \n",
    "2. \n",
    "\n",
    "## Extra Credit (max 5 points)\n",
    "\n",
    "1. \n",
    "2. "
   ]
  },
  {
   "cell_type": "code",
   "execution_count": null,
   "id": "9bc23cb5-597c-497b-ab97-c45510615cb2",
   "metadata": {},
   "outputs": [],
   "source": [
    "import pandas as pd\n",
    "import altair as alt\n",
    "alt.renderers.enable(\"png\")\n",
    "import time\n",
    "\n",
    "import warnings \n",
    "warnings.filterwarnings('ignore')"
   ]
  },
  {
   "cell_type": "code",
   "execution_count": null,
   "id": "f3c2383e-16f0-451f-95ef-808063deb3d7",
   "metadata": {},
   "outputs": [],
   "source": [
    "import pandas as pd\n",
    "import altair as alt\n",
    "alt.renderers.enable(\"png\")\n",
    "import time\n",
    "\n",
    "import warnings \n",
    "warnings.filterwarnings('ignore')"
   ]
  },
  {
   "cell_type": "markdown",
   "metadata": {},
   "source": [
    "Connected to Python 3.12.2"
   ]
  },
  {
   "cell_type": "code",
   "execution_count": null,
   "id": "15f0d4c6-dbc4-4c59-b605-5a05faf97b1d",
   "metadata": {},
   "outputs": [
    {
     "ename": "IndentationError",
     "evalue": "unexpected indent (<ipython-input-1-dd24d43f7369>, line 4)",
     "output_type": "error",
     "traceback": [
      "\u001b[0;36m  Cell \u001b[0;32mIn[1], line 4\u001b[0;36m\u001b[0m\n\u001b[0;31m    result <- data.frame(\u001b[0m\n\u001b[0m    ^\u001b[0m\n\u001b[0;31mIndentationError\u001b[0m\u001b[0;31m:\u001b[0m unexpected indent\n"
     ]
    }
   ],
   "source": [
    "df = pd.read_csv('/Users/hkkkkk/Documents/GitHub/Python2/problem_sets/ps1/data/parking_tickets_one_percent.csv')\n",
    "\n",
    "\n",
    "  result <- data.frame(\n",
    "    Variable = names(df),\n",
    "    NA_Count = sapply(df, function(x) sum(is.na(x)))\n",
    "  )\n",
    "  return(result)\n",
    "}\n",
    "2.      \n",
    "3.  \n",
    "4. \n",
    "\n",
    "## Revenue increase from \"missing city sticker\" tickets (20 Points)\n",
    "\n",
    "1.\n",
    "2. \n",
    "3. \n",
    "4.\n",
    "5.\n",
    "6.\n",
    "\n",
    "## Headlines and sub-messages (20 points)\n",
    "\n",
    "1. \n",
    "2. \n",
    "3. \n",
    "\n",
    "## Understanding the structure of the data and summarizing it (Lecture 5, 20 Points)\n",
    "\n",
    "1. \n",
    "2.\n",
    "3.\n",
    "\n",
    "## Multi-view Composition (15 Points)\n",
    "\n",
    "1. \n",
    "2. \n",
    "\n",
    "## Extra Credit (max 5 points)\n",
    "\n",
    "1. \n",
    "2. "
   ]
  },
  {
   "cell_type": "markdown",
   "metadata": {},
   "source": [
    "Connected to anaconda3 (Python 3.11.10)"
   ]
  },
  {
   "cell_type": "code",
   "execution_count": null,
   "id": "0bce7cd7-8d65-45d0-b9be-f415ec8abdc0",
   "metadata": {
    "vscode": {
     "languageId": "quarto"
    }
   },
   "outputs": [
    {
     "ename": "IndentationError",
     "evalue": "unexpected indent (<ipython-input-1-dd24d43f7369>, line 4)",
     "output_type": "error",
     "traceback": [
      "\u001b[0;36m  Cell \u001b[0;32mIn[1], line 4\u001b[0;36m\u001b[0m\n\u001b[0;31m    result <- data.frame(\u001b[0m\n\u001b[0m    ^\u001b[0m\n\u001b[0;31mIndentationError\u001b[0m\u001b[0;31m:\u001b[0m unexpected indent\n"
     ]
    }
   ],
   "source": [
    "df = pd.read_csv('/Users/hkkkkk/Documents/GitHub/Python2/problem_sets/ps1/data/parking_tickets_one_percent.csv')\n",
    "\n",
    "\n",
    "  result <- data.frame(\n",
    "    Variable = names(df),\n",
    "    NA_Count = sapply(df, function(x) sum(is.na(x)))\n",
    "  )\n",
    "  return(result)\n",
    "}\n",
    "2.      \n",
    "3.  \n",
    "4. \n",
    "\n",
    "## Revenue increase from \"missing city sticker\" tickets (20 Points)\n",
    "\n",
    "1.\n",
    "2. \n",
    "3. \n",
    "4.\n",
    "5.\n",
    "6.\n",
    "\n",
    "## Headlines and sub-messages (20 points)\n",
    "\n",
    "1. \n",
    "2. \n",
    "3. \n",
    "\n",
    "## Understanding the structure of the data and summarizing it (Lecture 5, 20 Points)\n",
    "\n",
    "1. \n",
    "2.\n",
    "3.\n",
    "\n",
    "## Multi-view Composition (15 Points)\n",
    "\n",
    "1. \n",
    "2. \n",
    "\n",
    "## Extra Credit (max 5 points)\n",
    "\n",
    "1. \n",
    "2. "
   ]
  },
  {
   "cell_type": "code",
   "execution_count": null,
   "id": "28d2c689-c5bd-4bef-bca1-7a6e77c394a0",
   "metadata": {
    "vscode": {
     "languageId": "quarto"
    }
   },
   "outputs": [
    {
     "ename": "IndentationError",
     "evalue": "unexpected indent (<ipython-input-2-dd24d43f7369>, line 4)",
     "output_type": "error",
     "traceback": [
      "\u001b[0;36m  Cell \u001b[0;32mIn[2], line 4\u001b[0;36m\u001b[0m\n\u001b[0;31m    result <- data.frame(\u001b[0m\n\u001b[0m    ^\u001b[0m\n\u001b[0;31mIndentationError\u001b[0m\u001b[0;31m:\u001b[0m unexpected indent\n"
     ]
    }
   ],
   "source": [
    "df = pd.read_csv('/Users/hkkkkk/Documents/GitHub/Python2/problem_sets/ps1/data/parking_tickets_one_percent.csv')\n",
    "\n",
    "\n",
    "  result <- data.frame(\n",
    "    Variable = names(df),\n",
    "    NA_Count = sapply(df, function(x) sum(is.na(x)))\n",
    "  )\n",
    "  return(result)\n",
    "}\n",
    "2.      \n",
    "3.  \n",
    "4. \n",
    "\n",
    "## Revenue increase from \"missing city sticker\" tickets (20 Points)\n",
    "\n",
    "1.\n",
    "2. \n",
    "3. \n",
    "4.\n",
    "5.\n",
    "6.\n",
    "\n",
    "## Headlines and sub-messages (20 points)\n",
    "\n",
    "1. \n",
    "2. \n",
    "3. \n",
    "\n",
    "## Understanding the structure of the data and summarizing it (Lecture 5, 20 Points)\n",
    "\n",
    "1. \n",
    "2.\n",
    "3.\n",
    "\n",
    "## Multi-view Composition (15 Points)\n",
    "\n",
    "1. \n",
    "2. \n",
    "\n",
    "## Extra Credit (max 5 points)\n",
    "\n",
    "1. \n",
    "2. "
   ]
  },
  {
   "cell_type": "code",
   "execution_count": null,
   "id": "48c1c307-4a3c-4be6-9bb7-0929c7bdc2fb",
   "metadata": {
    "vscode": {
     "languageId": "quarto"
    }
   },
   "outputs": [
    {
     "ename": "NameError",
     "evalue": "name 'pd' is not defined",
     "output_type": "error",
     "traceback": [
      "\u001b[0;31m---------------------------------------------------------------------------\u001b[0m",
      "\u001b[0;31mNameError\u001b[0m                                 Traceback (most recent call last)",
      "File \u001b[1;32m/Users/hkkkkk/Documents/GitHub/ppha30538_fall2024/30538-dap-ii-problem-set-2-ps2-dap2-python-fall2024/pset2_template.qmd:1\u001b[0m\n\u001b[0;32m----> 1\u001b[0m df \u001b[39m=\u001b[39m pd\u001b[39m.\u001b[39mread_csv(\u001b[39m'\u001b[39m\u001b[39m/Users/hkkkkk/Documents/GitHub/Python2/problem_sets/ps1/data/parking_tickets_one_percent.csv\u001b[39m\u001b[39m'\u001b[39m)\n\u001b[1;32m      2\u001b[0m \u001b[39m2.\u001b[39m      \n\u001b[1;32m      3\u001b[0m \u001b[39m3.\u001b[39m  \n",
      "\u001b[0;31mNameError\u001b[0m: name 'pd' is not defined"
     ]
    }
   ],
   "source": [
    "df = pd.read_csv('/Users/hkkkkk/Documents/GitHub/Python2/problem_sets/ps1/data/parking_tickets_one_percent.csv')\n",
    "2.      \n",
    "3.  \n",
    "4. \n",
    "\n",
    "## Revenue increase from \"missing city sticker\" tickets (20 Points)\n",
    "\n",
    "1.\n",
    "2. \n",
    "3. \n",
    "4.\n",
    "5.\n",
    "6.\n",
    "\n",
    "## Headlines and sub-messages (20 points)\n",
    "\n",
    "1. \n",
    "2. \n",
    "3. \n",
    "\n",
    "## Understanding the structure of the data and summarizing it (Lecture 5, 20 Points)\n",
    "\n",
    "1. \n",
    "2.\n",
    "3.\n",
    "\n",
    "## Multi-view Composition (15 Points)\n",
    "\n",
    "1. \n",
    "2. \n",
    "\n",
    "## Extra Credit (max 5 points)\n",
    "\n",
    "1. \n",
    "2. "
   ]
  },
  {
   "cell_type": "code",
   "execution_count": null,
   "id": "b05686ac-f4bd-44ec-bb7a-95062605b12f",
   "metadata": {
    "vscode": {
     "languageId": "quarto"
    }
   },
   "outputs": [],
   "source": [
    "import pandas as pd\n",
    "import altair as alt\n",
    "alt.renderers.enable(\"png\")\n",
    "import time\n",
    "\n",
    "import warnings \n",
    "warnings.filterwarnings('ignore')"
   ]
  },
  {
   "cell_type": "code",
   "execution_count": null,
   "id": "6f275b2f-0d19-483d-ad80-3b80cdcd08ca",
   "metadata": {
    "vscode": {
     "languageId": "quarto"
    }
   },
   "outputs": [
    {
     "data": {
      "text/plain": [
       "2.0"
      ]
     },
     "execution_count": 5,
     "metadata": {},
     "output_type": "execute_result"
    }
   ],
   "source": [
    "df = pd.read_csv('/Users/hkkkkk/Documents/GitHub/Python2/problem_sets/ps1/data/parking_tickets_one_percent.csv')\n",
    "2.      \n",
    "3.  \n",
    "4. \n",
    "\n",
    "## Revenue increase from \"missing city sticker\" tickets (20 Points)\n",
    "\n",
    "1.\n",
    "2. \n",
    "3. \n",
    "4.\n",
    "5.\n",
    "6.\n",
    "\n",
    "## Headlines and sub-messages (20 points)\n",
    "\n",
    "1. \n",
    "2. \n",
    "3. \n",
    "\n",
    "## Understanding the structure of the data and summarizing it (Lecture 5, 20 Points)\n",
    "\n",
    "1. \n",
    "2.\n",
    "3.\n",
    "\n",
    "## Multi-view Composition (15 Points)\n",
    "\n",
    "1. \n",
    "2. \n",
    "\n",
    "## Extra Credit (max 5 points)\n",
    "\n",
    "1. \n",
    "2. "
   ]
  },
  {
   "cell_type": "code",
   "execution_count": null,
   "id": "c9e7c30f-e1cc-475b-82bd-daab36cdc7bb",
   "metadata": {
    "vscode": {
     "languageId": "quarto"
    }
   },
   "outputs": [
    {
     "data": {
      "text/plain": [
       "2.0"
      ]
     },
     "execution_count": 6,
     "metadata": {},
     "output_type": "execute_result"
    }
   ],
   "source": [
    "df = pd.read_csv('/Users/hkkkkk/Documents/GitHub/Python2/problem_sets/ps1/data/parking_tickets_one_percent.csv')\n",
    "2.      \n",
    "3.  \n",
    "4. \n",
    "\n",
    "## Revenue increase from \"missing city sticker\" tickets (20 Points)\n",
    "\n",
    "1.\n",
    "2. \n",
    "3. \n",
    "4.\n",
    "5.\n",
    "6.\n",
    "\n",
    "## Headlines and sub-messages (20 points)\n",
    "\n",
    "1. \n",
    "2. \n",
    "3. \n",
    "\n",
    "## Understanding the structure of the data and summarizing it (Lecture 5, 20 Points)\n",
    "\n",
    "1. \n",
    "2.\n",
    "3.\n",
    "\n",
    "## Multi-view Composition (15 Points)\n",
    "\n",
    "1. \n",
    "2. \n",
    "\n",
    "## Extra Credit (max 5 points)\n",
    "\n",
    "1. \n",
    "2. "
   ]
  },
  {
   "cell_type": "code",
   "execution_count": null,
   "id": "0bd960ff-d623-4eee-8c9c-11eff59bcf6b",
   "metadata": {
    "vscode": {
     "languageId": "quarto"
    }
   },
   "outputs": [
    {
     "name": "stdout",
     "output_type": "stream",
     "text": [
      "                 Variable  NA_Count\n",
      "0              Unnamed: 0         0\n",
      "1           ticket_number         0\n",
      "2              issue_date         0\n",
      "3      violation_location         0\n",
      "4    license_plate_number         0\n",
      "5     license_plate_state        97\n",
      "6      license_plate_type      2054\n",
      "7                 zipcode     54115\n",
      "8          violation_code         0\n",
      "9   violation_description         0\n",
      "10                   unit        29\n",
      "11       unit_description         0\n",
      "12           vehicle_make         0\n",
      "13     fine_level1_amount         0\n",
      "14     fine_level2_amount         0\n",
      "15     current_amount_due         0\n",
      "16         total_payments         0\n",
      "17           ticket_queue         0\n",
      "18      ticket_queue_date         0\n",
      "19           notice_level     84068\n",
      "20    hearing_disposition    259899\n",
      "21          notice_number         0\n",
      "22                officer         0\n",
      "23                address         0\n"
     ]
    },
    {
     "data": {
      "text/plain": [
       "2.0"
      ]
     },
     "execution_count": 7,
     "metadata": {},
     "output_type": "execute_result"
    }
   ],
   "source": [
    "df = pd.read_csv('/Users/hkkkkk/Documents/GitHub/Python2/problem_sets/ps1/data/parking_tickets_one_percent.csv')\n",
    "\n",
    "import pandas as pd\n",
    "\n",
    "# Function to count NAs per column\n",
    "def count_na(df):\n",
    "    # Create a DataFrame with variable names and NA counts\n",
    "    result = pd.DataFrame({\n",
    "        'Variable': df.columns,\n",
    "        'NA_Count': df.isna().sum().values\n",
    "    })\n",
    "    return result\n",
    "\n",
    "# Assuming df is your DataFrame, you can test the function like this:\n",
    "na_summary = count_na(df)\n",
    "print(na_summary)\n",
    "\n",
    "2.      \n",
    "3.  \n",
    "4. \n",
    "\n",
    "## Revenue increase from \"missing city sticker\" tickets (20 Points)\n",
    "\n",
    "1.\n",
    "2. \n",
    "3. \n",
    "4.\n",
    "5.\n",
    "6.\n",
    "\n",
    "## Headlines and sub-messages (20 points)\n",
    "\n",
    "1. \n",
    "2. \n",
    "3. \n",
    "\n",
    "## Understanding the structure of the data and summarizing it (Lecture 5, 20 Points)\n",
    "\n",
    "1. \n",
    "2.\n",
    "3.\n",
    "\n",
    "## Multi-view Composition (15 Points)\n",
    "\n",
    "1. \n",
    "2. \n",
    "\n",
    "## Extra Credit (max 5 points)\n",
    "\n",
    "1. \n",
    "2. "
   ]
  },
  {
   "cell_type": "code",
   "execution_count": null,
   "id": "954b14db-3a24-4f86-b62a-a8cb3c6dc9f0",
   "metadata": {
    "vscode": {
     "languageId": "quarto"
    }
   },
   "outputs": [
    {
     "name": "stdout",
     "output_type": "stream",
     "text": [
      "                 Variable  NA_Count\n",
      "0              Unnamed: 0         0\n",
      "1           ticket_number         0\n",
      "2              issue_date         0\n",
      "3      violation_location         0\n",
      "4    license_plate_number         0\n",
      "5     license_plate_state        97\n",
      "6      license_plate_type      2054\n",
      "7                 zipcode     54115\n",
      "8          violation_code         0\n",
      "9   violation_description         0\n",
      "10                   unit        29\n",
      "11       unit_description         0\n",
      "12           vehicle_make         0\n",
      "13     fine_level1_amount         0\n",
      "14     fine_level2_amount         0\n",
      "15     current_amount_due         0\n",
      "16         total_payments         0\n",
      "17           ticket_queue         0\n",
      "18      ticket_queue_date         0\n",
      "19           notice_level     84068\n",
      "20    hearing_disposition    259899\n",
      "21          notice_number         0\n",
      "22                officer         0\n",
      "23                address         0\n"
     ]
    },
    {
     "data": {
      "text/plain": [
       "2.0"
      ]
     },
     "execution_count": 8,
     "metadata": {},
     "output_type": "execute_result"
    }
   ],
   "source": [
    "df = pd.read_csv('/Users/hkkkkk/Documents/GitHub/Python2/problem_sets/ps1/data/parking_tickets_one_percent.csv')\n",
    "\n",
    "def count_na(df):\n",
    "\n",
    "    result = pd.DataFrame({\n",
    "        'Variable': df.columns,\n",
    "        'NA_Count': df.isna().sum().values\n",
    "    })\n",
    "    return result\n",
    "    \n",
    "na_summary = count_na(df)\n",
    "print(na_summary)\n",
    "\n",
    "2.      \n",
    "3.  \n",
    "4. \n",
    "\n",
    "## Revenue increase from \"missing city sticker\" tickets (20 Points)\n",
    "\n",
    "1.\n",
    "2. \n",
    "3. \n",
    "4.\n",
    "5.\n",
    "6.\n",
    "\n",
    "## Headlines and sub-messages (20 points)\n",
    "\n",
    "1. \n",
    "2. \n",
    "3. \n",
    "\n",
    "## Understanding the structure of the data and summarizing it (Lecture 5, 20 Points)\n",
    "\n",
    "1. \n",
    "2.\n",
    "3.\n",
    "\n",
    "## Multi-view Composition (15 Points)\n",
    "\n",
    "1. \n",
    "2. \n",
    "\n",
    "## Extra Credit (max 5 points)\n",
    "\n",
    "1. \n",
    "2. "
   ]
  },
  {
   "cell_type": "code",
   "execution_count": null,
   "id": "967edc5c-741f-4ec3-9ddf-44d4ebb4e8ee",
   "metadata": {
    "vscode": {
     "languageId": "quarto"
    }
   },
   "outputs": [
    {
     "ename": "SyntaxError",
     "evalue": "incomplete input (<ipython-input-9-716a12e4e78a>, line 4)",
     "output_type": "error",
     "traceback": [
      "\u001b[0;36m  Cell \u001b[0;32mIn[9], line 4\u001b[0;36m\u001b[0m\n\u001b[0;31m    print(violation_codes\u001b[0m\n\u001b[0m                         ^\u001b[0m\n\u001b[0;31mSyntaxError\u001b[0m\u001b[0;31m:\u001b[0m incomplete input\n"
     ]
    }
   ],
   "source": [
    "violation_codes = df['violation_code'].unique()\n",
    "\n",
    "# Print the unique violation codes\n",
    "print(violation_codes"
   ]
  },
  {
   "cell_type": "code",
   "execution_count": null,
   "id": "fdb1e44b-4020-42b6-9af5-a840b2b5c8ab",
   "metadata": {
    "vscode": {
     "languageId": "quarto"
    }
   },
   "outputs": [
    {
     "ename": "SyntaxError",
     "evalue": "incomplete input (<ipython-input-10-ea07050d7233>, line 4)",
     "output_type": "error",
     "traceback": [
      "\u001b[0;36m  Cell \u001b[0;32mIn[10], line 4\u001b[0;36m\u001b[0m\n\u001b[0;31m    print(violation_codes\u001b[0m\n\u001b[0m                         ^\u001b[0m\n\u001b[0;31mSyntaxError\u001b[0m\u001b[0;31m:\u001b[0m incomplete input\n"
     ]
    }
   ],
   "source": [
    "violation_code = df['violation_code'].unique()\n",
    "\n",
    "# Print the unique violation codes\n",
    "print(violation_codes"
   ]
  },
  {
   "cell_type": "code",
   "execution_count": null,
   "id": "935bdde5-27b6-498d-a8aa-10f3f93b8252",
   "metadata": {
    "vscode": {
     "languageId": "quarto"
    }
   },
   "outputs": [
    {
     "name": "stdout",
     "output_type": "stream",
     "text": [
      "['0964090E' '0964150B' '0976160F' '0964100A' '0964060' '0976160A'\n",
      " '0964140B' '0964050J' '0964125' '0964200B' '0964020B' '0964110A'\n",
      " '0964170A' '0976220B' '0964130' '0964080A' '0964040B' '0964190A'\n",
      " '0964190B' '0976210B' '0964110D' '0976180A' '0964170B' '0964080B'\n",
      " '0964100C' '0964110E' '0980110A' '0980110B' '0964110C' '0964100D'\n",
      " '0964100G' '0964020A' '0964160B' '0964170D' '0976160D' '0964100B'\n",
      " '0976150B' '0980080A' '0976220A' '0964110G' '0976210A' '0980120B'\n",
      " '0964041B' '0964180A' '0980130B' '0980130A' '0976110A' '0964120A'\n",
      " '0980080B' '0976170' '0940170' '0964050I' '0964070' '0964150A' '0964120B'\n",
      " '0976050B' '0940060' '0976040B' '0964091' '0940080' '0976140A' '0976050D'\n",
      " '0964091B' '0980120A' '0976160C' '0964100E' '0940220' '0964100F'\n",
      " '0964030B' '0964160C' '0976140B' '0964110H' '0976180B' '0964110F'\n",
      " '0976090B' '0976050C' '0964210' '0964170C' '0976160B' '0976130'\n",
      " '0980130C' '0964110B' '0976200A' '0976190' '0964060B' '0964190' '0912060'\n",
      " '0976080' '0980080C' '0976120' '0976200B' '0976050E' '0976070C'\n",
      " '0976050A' '0968040I' '0964020C' '0964100H' '0964050J*' '0964041'\n",
      " '0964125B' '0964125C' '0964160A' '0964125D' '0980095' '0964130A'\n",
      " '0976010A' '0976020B' '0976070A' '0976020A' '0976020E' '0976100A'\n",
      " '0976040A' '0964130B' '0976090C' '0964190C' '0976070D']\n"
     ]
    }
   ],
   "source": [
    "violation_code = df['violation_code'].unique()\n",
    "\n",
    "# Print the unique violation codes\n",
    "print(violation_code)"
   ]
  },
  {
   "cell_type": "code",
   "execution_count": null,
   "id": "000d02f2-54f9-4ab8-ae28-2d7880d1d0e6",
   "metadata": {
    "vscode": {
     "languageId": "quarto"
    }
   },
   "outputs": [
    {
     "ename": "KeyError",
     "evalue": "'Column not found: fine_amount'",
     "output_type": "error",
     "traceback": [
      "\u001b[0;31m---------------------------------------------------------------------------\u001b[0m",
      "\u001b[0;31mKeyError\u001b[0m                                  Traceback (most recent call last)",
      "File \u001b[1;32m/Users/hkkkkk/Documents/GitHub/ppha30538_fall2024/30538-dap-ii-problem-set-2-ps2-dap2-python-fall2024/pset2_template.qmd:3\u001b[0m\n\u001b[1;32m      1\u001b[0m city_sticker_violations \u001b[39m=\u001b[39m df[df[\u001b[39m'\u001b[39m\u001b[39mviolation_description\u001b[39m\u001b[39m'\u001b[39m]\u001b[39m.\u001b[39mstr\u001b[39m.\u001b[39mcontains(\u001b[39m'\u001b[39m\u001b[39mcity sticker\u001b[39m\u001b[39m'\u001b[39m, case\u001b[39m=\u001b[39m\u001b[39mFalse\u001b[39;00m, na\u001b[39m=\u001b[39m\u001b[39mFalse\u001b[39;00m)]\n\u001b[0;32m----> 3\u001b[0m offense_costs \u001b[39m=\u001b[39m city_sticker_violations\u001b[39m.\u001b[39mgroupby(\u001b[39m'\u001b[39m\u001b[39mviolation_code\u001b[39m\u001b[39m'\u001b[39m)[\u001b[39m'\u001b[39m\u001b[39mfine_amount\u001b[39m\u001b[39m'\u001b[39m]\u001b[39m.\u001b[39mfirst()\u001b[39m.\u001b[39mreset_index()\n\u001b[1;32m      5\u001b[0m \u001b[39m# Print the offense costs for each violation code\u001b[39;00m\n\u001b[1;32m      6\u001b[0m \u001b[39mprint\u001b[39m(offense_costs)\n",
      "File \u001b[0;32m/opt/anaconda3/lib/python3.11/site-packages/pandas/core/groupby/generic.py:1951\u001b[0m, in \u001b[0;36mDataFrameGroupBy.__getitem__\u001b[0;34m(self, key)\u001b[0m\n\u001b[1;32m   1944\u001b[0m \u001b[39mif\u001b[39;00m \u001b[39misinstance\u001b[39m(key, \u001b[39mtuple\u001b[39m) \u001b[39mand\u001b[39;00m \u001b[39mlen\u001b[39m(key) \u001b[39m>\u001b[39m \u001b[39m1\u001b[39m:\n\u001b[1;32m   1945\u001b[0m     \u001b[39m# if len == 1, then it becomes a SeriesGroupBy and this is actually\u001b[39;00m\n\u001b[1;32m   1946\u001b[0m     \u001b[39m# valid syntax, so don't raise\u001b[39;00m\n\u001b[1;32m   1947\u001b[0m     \u001b[39mraise\u001b[39;00m \u001b[39mValueError\u001b[39;00m(\n\u001b[1;32m   1948\u001b[0m         \u001b[39m\"\u001b[39m\u001b[39mCannot subset columns with a tuple with more than one element. \u001b[39m\u001b[39m\"\u001b[39m\n\u001b[1;32m   1949\u001b[0m         \u001b[39m\"\u001b[39m\u001b[39mUse a list instead.\u001b[39m\u001b[39m\"\u001b[39m\n\u001b[1;32m   1950\u001b[0m     )\n\u001b[0;32m-> 1951\u001b[0m \u001b[39mreturn\u001b[39;00m \u001b[39msuper\u001b[39m()\u001b[39m.\u001b[39m\u001b[39m__getitem__\u001b[39m(key)\n",
      "File \u001b[0;32m/opt/anaconda3/lib/python3.11/site-packages/pandas/core/base.py:244\u001b[0m, in \u001b[0;36mSelectionMixin.__getitem__\u001b[0;34m(self, key)\u001b[0m\n\u001b[1;32m    242\u001b[0m \u001b[39melse\u001b[39;00m:\n\u001b[1;32m    243\u001b[0m     \u001b[39mif\u001b[39;00m key \u001b[39mnot\u001b[39;00m \u001b[39min\u001b[39;00m \u001b[39mself\u001b[39m\u001b[39m.\u001b[39mobj:\n\u001b[0;32m--> 244\u001b[0m         \u001b[39mraise\u001b[39;00m \u001b[39mKeyError\u001b[39;00m(\u001b[39mf\u001b[39m\u001b[39m\"\u001b[39m\u001b[39mColumn not found: \u001b[39m\u001b[39m{\u001b[39;00mkey\u001b[39m}\u001b[39;00m\u001b[39m\"\u001b[39m)\n\u001b[1;32m    245\u001b[0m     ndim \u001b[39m=\u001b[39m \u001b[39mself\u001b[39m\u001b[39m.\u001b[39mobj[key]\u001b[39m.\u001b[39mndim\n\u001b[1;32m    246\u001b[0m     \u001b[39mreturn\u001b[39;00m \u001b[39mself\u001b[39m\u001b[39m.\u001b[39m_gotitem(key, ndim\u001b[39m=\u001b[39mndim)\n",
      "\u001b[0;31mKeyError\u001b[0m: 'Column not found: fine_amount'"
     ]
    }
   ],
   "source": [
    "city_sticker_violations = df[df['violation_description'].str.contains('city sticker', case=False, na=False)]\n",
    "\n",
    "offense_costs = city_sticker_violations.groupby('violation_code')['fine_amount'].first().reset_index()\n",
    "\n",
    "# Print the offense costs for each violation code\n",
    "print(offense_costs)\n",
    "## Revenue increase from \"missing city sticker\" tickets (35 Points)\n",
    "\n",
    "1.\n",
    "2. \n",
    "3. \n",
    "4.\n",
    "5.\n",
    "6.\n",
    "\n",
    "## Headlines and sub-messages (20 points)\n",
    "\n",
    "1. \n",
    "2. \n",
    "3. \n",
    "\n",
    "## Understanding the structure of the data and summarizing it (Lecture 5, 20 Points)\n",
    "\n",
    "1. \n",
    "2.\n",
    "3.\n",
    "\n",
    "## Multi-view Composition (15 Points)\n",
    "\n",
    "1. \n",
    "2. \n",
    "\n",
    "## Extra Credit (max 5 points)\n",
    "\n",
    "1. \n",
    "2. "
   ]
  },
  {
   "cell_type": "code",
   "execution_count": null,
   "id": "3118d58a-2172-47ae-a1ae-5672f59fb2a3",
   "metadata": {
    "vscode": {
     "languageId": "quarto"
    }
   },
   "outputs": [
    {
     "ename": "ValueError",
     "evalue": "Saving charts in 'png' format requires the vl-convert-python package: see https://altair-viz.github.io/user_guide/saving_charts.html#png-svg-and-pdf-format",
     "output_type": "error",
     "traceback": [
      "\u001b[0;31m---------------------------------------------------------------------------\u001b[0m",
      "\u001b[0;31mValueError\u001b[0m                                Traceback (most recent call last)",
      "File \u001b[0;32m/opt/anaconda3/lib/python3.11/site-packages/IPython/core/formatters.py:977\u001b[0m, in \u001b[0;36mMimeBundleFormatter.__call__\u001b[0;34m(self, obj, include, exclude)\u001b[0m\n\u001b[1;32m    974\u001b[0m     method \u001b[39m=\u001b[39m get_real_method(obj, \u001b[39mself\u001b[39m\u001b[39m.\u001b[39mprint_method)\n\u001b[1;32m    976\u001b[0m     \u001b[39mif\u001b[39;00m method \u001b[39mis\u001b[39;00m \u001b[39mnot\u001b[39;00m \u001b[39mNone\u001b[39;00m:\n\u001b[0;32m--> 977\u001b[0m         \u001b[39mreturn\u001b[39;00m method(include\u001b[39m=\u001b[39minclude, exclude\u001b[39m=\u001b[39mexclude)\n\u001b[1;32m    978\u001b[0m     \u001b[39mreturn\u001b[39;00m \u001b[39mNone\u001b[39;00m\n\u001b[1;32m    979\u001b[0m \u001b[39melse\u001b[39;00m:\n",
      "File \u001b[0;32m/opt/anaconda3/lib/python3.11/site-packages/altair/vegalite/v5/api.py:3417\u001b[0m, in \u001b[0;36mTopLevelMixin._repr_mimebundle_\u001b[0;34m(self, *args, **kwds)\u001b[0m\n\u001b[1;32m   3415\u001b[0m \u001b[39melse\u001b[39;00m:\n\u001b[1;32m   3416\u001b[0m     \u001b[39mif\u001b[39;00m renderer \u001b[39m:=\u001b[39m renderers\u001b[39m.\u001b[39mget():\n\u001b[0;32m-> 3417\u001b[0m         \u001b[39mreturn\u001b[39;00m renderer(dct)\n",
      "File \u001b[0;32m/opt/anaconda3/lib/python3.11/site-packages/altair/vegalite/v5/display.py:67\u001b[0m, in \u001b[0;36mpng_renderer\u001b[0;34m(spec, **metadata)\u001b[0m\n\u001b[1;32m     64\u001b[0m \u001b[39mdef\u001b[39;00m \u001b[39mpng_renderer\u001b[39m(spec: \u001b[39mdict\u001b[39m, \u001b[39m*\u001b[39m\u001b[39m*\u001b[39mmetadata) \u001b[39m-\u001b[39m\u001b[39m>\u001b[39m \u001b[39mdict\u001b[39m[\u001b[39mstr\u001b[39m, \u001b[39mbytes\u001b[39m]:\n\u001b[1;32m     65\u001b[0m     \u001b[39m# To get proper return value type, would need to write complex\u001b[39;00m\n\u001b[1;32m     66\u001b[0m     \u001b[39m# overload signatures for spec_to_mimebundle based on `format`\u001b[39;00m\n\u001b[0;32m---> 67\u001b[0m     \u001b[39mreturn\u001b[39;00m spec_to_mimebundle(  \u001b[39m# type: ignore[return-value]\u001b[39;00m\n\u001b[1;32m     68\u001b[0m         spec,\n\u001b[1;32m     69\u001b[0m         \u001b[39mformat\u001b[39m\u001b[39m=\u001b[39m\u001b[39m\"\u001b[39m\u001b[39mpng\u001b[39m\u001b[39m\"\u001b[39m,\n\u001b[1;32m     70\u001b[0m         mode\u001b[39m=\u001b[39m\u001b[39m\"\u001b[39m\u001b[39mvega-lite\u001b[39m\u001b[39m\"\u001b[39m,\n\u001b[1;32m     71\u001b[0m         vega_version\u001b[39m=\u001b[39mVEGA_VERSION,\n\u001b[1;32m     72\u001b[0m         vegaembed_version\u001b[39m=\u001b[39mVEGAEMBED_VERSION,\n\u001b[1;32m     73\u001b[0m         vegalite_version\u001b[39m=\u001b[39mVEGALITE_VERSION,\n\u001b[1;32m     74\u001b[0m         \u001b[39m*\u001b[39m\u001b[39m*\u001b[39mmetadata,\n\u001b[1;32m     75\u001b[0m     )\n",
      "File \u001b[0;32m/opt/anaconda3/lib/python3.11/site-packages/altair/utils/mimebundle.py:134\u001b[0m, in \u001b[0;36mspec_to_mimebundle\u001b[0;34m(spec, format, mode, vega_version, vegaembed_version, vegalite_version, embed_options, engine, **kwargs)\u001b[0m\n\u001b[1;32m    131\u001b[0m embed_options \u001b[39m=\u001b[39m preprocess_embed_options(final_embed_options)\n\u001b[1;32m    133\u001b[0m \u001b[39mif\u001b[39;00m \u001b[39mformat\u001b[39m \u001b[39min\u001b[39;00m {\u001b[39m\"\u001b[39m\u001b[39mpng\u001b[39m\u001b[39m\"\u001b[39m, \u001b[39m\"\u001b[39m\u001b[39msvg\u001b[39m\u001b[39m\"\u001b[39m, \u001b[39m\"\u001b[39m\u001b[39mpdf\u001b[39m\u001b[39m\"\u001b[39m, \u001b[39m\"\u001b[39m\u001b[39mvega\u001b[39m\u001b[39m\"\u001b[39m}:\n\u001b[0;32m--> 134\u001b[0m     \u001b[39mreturn\u001b[39;00m _spec_to_mimebundle_with_engine(\n\u001b[1;32m    135\u001b[0m         spec,\n\u001b[1;32m    136\u001b[0m         cast(Literal[\u001b[39m\"\u001b[39m\u001b[39mpng\u001b[39m\u001b[39m\"\u001b[39m, \u001b[39m\"\u001b[39m\u001b[39msvg\u001b[39m\u001b[39m\"\u001b[39m, \u001b[39m\"\u001b[39m\u001b[39mpdf\u001b[39m\u001b[39m\"\u001b[39m, \u001b[39m\"\u001b[39m\u001b[39mvega\u001b[39m\u001b[39m\"\u001b[39m], \u001b[39mformat\u001b[39m),\n\u001b[1;32m    137\u001b[0m         internal_mode,\n\u001b[1;32m    138\u001b[0m         engine\u001b[39m=\u001b[39mengine,\n\u001b[1;32m    139\u001b[0m         format_locale\u001b[39m=\u001b[39membed_options\u001b[39m.\u001b[39mget(\u001b[39m\"\u001b[39m\u001b[39mformatLocale\u001b[39m\u001b[39m\"\u001b[39m, \u001b[39mNone\u001b[39;00m),\n\u001b[1;32m    140\u001b[0m         time_format_locale\u001b[39m=\u001b[39membed_options\u001b[39m.\u001b[39mget(\u001b[39m\"\u001b[39m\u001b[39mtimeFormatLocale\u001b[39m\u001b[39m\"\u001b[39m, \u001b[39mNone\u001b[39;00m),\n\u001b[1;32m    141\u001b[0m         \u001b[39m*\u001b[39m\u001b[39m*\u001b[39mkwargs,\n\u001b[1;32m    142\u001b[0m     )\n\u001b[1;32m    143\u001b[0m \u001b[39melif\u001b[39;00m \u001b[39mformat\u001b[39m \u001b[39m==\u001b[39m \u001b[39m\"\u001b[39m\u001b[39mhtml\u001b[39m\u001b[39m\"\u001b[39m:\n\u001b[1;32m    144\u001b[0m     html \u001b[39m=\u001b[39m spec_to_html(\n\u001b[1;32m    145\u001b[0m         spec,\n\u001b[1;32m    146\u001b[0m         mode\u001b[39m=\u001b[39minternal_mode,\n\u001b[0;32m   (...)\u001b[0m\n\u001b[1;32m    151\u001b[0m         \u001b[39m*\u001b[39m\u001b[39m*\u001b[39mkwargs,\n\u001b[1;32m    152\u001b[0m     )\n",
      "File \u001b[0;32m/opt/anaconda3/lib/python3.11/site-packages/altair/utils/mimebundle.py:204\u001b[0m, in \u001b[0;36m_spec_to_mimebundle_with_engine\u001b[0;34m(spec, format, mode, format_locale, time_format_locale, **kwargs)\u001b[0m\n\u001b[1;32m    201\u001b[0m \u001b[39m# Normalize the engine string (if any) by lower casing\u001b[39;00m\n\u001b[1;32m    202\u001b[0m \u001b[39m# and removing underscores and hyphens\u001b[39;00m\n\u001b[1;32m    203\u001b[0m engine \u001b[39m=\u001b[39m kwargs\u001b[39m.\u001b[39mpop(\u001b[39m\"\u001b[39m\u001b[39mengine\u001b[39m\u001b[39m\"\u001b[39m, \u001b[39mNone\u001b[39;00m)\n\u001b[0;32m--> 204\u001b[0m normalized_engine \u001b[39m=\u001b[39m _validate_normalize_engine(engine, \u001b[39mformat\u001b[39m)\n\u001b[1;32m    206\u001b[0m \u001b[39mif\u001b[39;00m normalized_engine \u001b[39m==\u001b[39m \u001b[39m\"\u001b[39m\u001b[39mvlconvert\u001b[39m\u001b[39m\"\u001b[39m:\n\u001b[1;32m    207\u001b[0m     vlc \u001b[39m=\u001b[39m import_vl_convert()\n",
      "File \u001b[0;32m/opt/anaconda3/lib/python3.11/site-packages/altair/utils/mimebundle.py:323\u001b[0m, in \u001b[0;36m_validate_normalize_engine\u001b[0;34m(engine, format)\u001b[0m\n\u001b[1;32m    318\u001b[0m     \u001b[39melse\u001b[39;00m:\n\u001b[1;32m    319\u001b[0m         msg \u001b[39m=\u001b[39m (\n\u001b[1;32m    320\u001b[0m             \u001b[39mf\u001b[39m\u001b[39m\"\u001b[39m\u001b[39mSaving charts in \u001b[39m\u001b[39m{\u001b[39;00m\u001b[39mformat\u001b[39m\u001b[39m!r}\u001b[39;00m\u001b[39m format requires the vl-convert-python package: \u001b[39m\u001b[39m\"\u001b[39m\n\u001b[1;32m    321\u001b[0m             \u001b[39m\"\u001b[39m\u001b[39msee https://altair-viz.github.io/user_guide/saving_charts.html#png-svg-and-pdf-format\u001b[39m\u001b[39m\"\u001b[39m\n\u001b[1;32m    322\u001b[0m         )\n\u001b[0;32m--> 323\u001b[0m         \u001b[39mraise\u001b[39;00m \u001b[39mValueError\u001b[39;00m(msg)\n\u001b[1;32m    324\u001b[0m \u001b[39melse\u001b[39;00m:\n\u001b[1;32m    325\u001b[0m     msg \u001b[39m=\u001b[39m \u001b[39mf\u001b[39m\u001b[39m\"\u001b[39m\u001b[39mInvalid conversion engine \u001b[39m\u001b[39m{\u001b[39;00mengine\u001b[39m!r}\u001b[39;00m\u001b[39m. Expected vl-convert\u001b[39m\u001b[39m\"\u001b[39m\n",
      "\u001b[0;31mValueError\u001b[0m: Saving charts in 'png' format requires the vl-convert-python package: see https://altair-viz.github.io/user_guide/saving_charts.html#png-svg-and-pdf-format"
     ]
    },
    {
     "data": {
      "text/plain": [
       "alt.Chart(...)"
      ]
     },
     "metadata": {},
     "output_type": "display_data"
    }
   ],
   "source": [
    "city_sticker_violations = df[df['violation_description'].str.contains('city sticker', case=False, na=False)]\n",
    "\n",
    "# Replace with the actual violation codes you found\n",
    "old_code = 'CODE_OLD'  # Replace with the actual old code\n",
    "new_code = 'CODE_NEW'  # Replace with the actual new code\n",
    "\n",
    "# Create a new column 'combined_code' to combine the two city sticker violation codes\n",
    "city_sticker_violations['combined_code'] = city_sticker_violations['violation_code'].replace({old_code: 'CitySticker', new_code: 'CitySticker'})\n",
    "\n",
    "# Ensure the date is in datetime format\n",
    "city_sticker_violations['issue_date'] = pd.to_datetime(city_sticker_violations['issue_date'])\n",
    "\n",
    "# Group by month and count the number of tickets\n",
    "monthly_tickets = city_sticker_violations.groupby(city_sticker_violations['issue_date'].dt.to_period('M')).size().reset_index(name='ticket_count')\n",
    "\n",
    "# Convert the period back to a datetime object for Altair to plot it correctly\n",
    "monthly_tickets['issue_date'] = monthly_tickets['issue_date'].dt.to_timestamp()\n",
    "\n",
    "# Plot using Altair\n",
    "chart = alt.Chart(monthly_tickets).mark_line().encode(\n",
    "    x='issue_date:T',\n",
    "    y='ticket_count:Q',\n",
    "    tooltip=['issue_date', 'ticket_count']\n",
    ").properties(\n",
    "    title='Number of Missing City Sticker Tickets Over Time'\n",
    ")\n",
    "\n",
    "# Show the chart\n",
    "chart.show()"
   ]
  },
  {
   "cell_type": "code",
   "execution_count": null,
   "id": "0c8cc9ef-479c-40f2-905c-7a6a6502b7c3",
   "metadata": {
    "vscode": {
     "languageId": "quarto"
    }
   },
   "outputs": [
    {
     "data": {
      "text/html": [
       "<div>\n",
       "<style scoped>\n",
       "    .dataframe tbody tr th:only-of-type {\n",
       "        vertical-align: middle;\n",
       "    }\n",
       "\n",
       "    .dataframe tbody tr th {\n",
       "        vertical-align: top;\n",
       "    }\n",
       "\n",
       "    .dataframe thead th {\n",
       "        text-align: right;\n",
       "    }\n",
       "</style>\n",
       "<table border=\"1\" class=\"dataframe\">\n",
       "  <thead>\n",
       "    <tr style=\"text-align: right;\">\n",
       "      <th></th>\n",
       "      <th>Unnamed: 0</th>\n",
       "      <th>ticket_number</th>\n",
       "      <th>issue_date</th>\n",
       "      <th>violation_location</th>\n",
       "      <th>license_plate_number</th>\n",
       "      <th>license_plate_state</th>\n",
       "      <th>license_plate_type</th>\n",
       "      <th>zipcode</th>\n",
       "      <th>violation_code</th>\n",
       "      <th>violation_description</th>\n",
       "      <th>...</th>\n",
       "      <th>fine_level2_amount</th>\n",
       "      <th>current_amount_due</th>\n",
       "      <th>total_payments</th>\n",
       "      <th>ticket_queue</th>\n",
       "      <th>ticket_queue_date</th>\n",
       "      <th>notice_level</th>\n",
       "      <th>hearing_disposition</th>\n",
       "      <th>notice_number</th>\n",
       "      <th>officer</th>\n",
       "      <th>address</th>\n",
       "    </tr>\n",
       "  </thead>\n",
       "  <tbody>\n",
       "  </tbody>\n",
       "</table>\n",
       "<p>0 rows × 24 columns</p>\n",
       "</div>"
      ],
      "text/plain": [
       "Empty DataFrame\n",
       "Columns: [Unnamed: 0, ticket_number, issue_date, violation_location, license_plate_number, license_plate_state, license_plate_type, zipcode, violation_code, violation_description, unit, unit_description, vehicle_make, fine_level1_amount, fine_level2_amount, current_amount_due, total_payments, ticket_queue, ticket_queue_date, notice_level, hearing_disposition, notice_number, officer, address]\n",
       "Index: []\n",
       "\n",
       "[0 rows x 24 columns]"
      ]
     },
     "execution_count": 14,
     "metadata": {},
     "output_type": "execute_result"
    }
   ],
   "source": [
    "# Convert the issue date to datetime to filter based on the year 2012\n",
    "df['issue_date'] = pd.to_datetime(df['issue_date'], errors='coerce')\n",
    "\n",
    "# Filter for rows where violation code is '0964125' and the issue date is after 2012\n",
    "filtered_data_2012 = df[(df['violation_code'] == '0964125') & (df['issue_date'].dt.year > 2012)]\n",
    "\n",
    "# Display the results\n",
    "filtered_data_2012.head()"
   ]
  },
  {
   "cell_type": "code",
   "execution_count": null,
   "id": "38c01667-94c1-4696-ac28-eac6ea18c8d1",
   "metadata": {
    "vscode": {
     "languageId": "quarto"
    }
   },
   "outputs": [
    {
     "data": {
      "text/html": [
       "<div>\n",
       "<style scoped>\n",
       "    .dataframe tbody tr th:only-of-type {\n",
       "        vertical-align: middle;\n",
       "    }\n",
       "\n",
       "    .dataframe tbody tr th {\n",
       "        vertical-align: top;\n",
       "    }\n",
       "\n",
       "    .dataframe thead th {\n",
       "        text-align: right;\n",
       "    }\n",
       "</style>\n",
       "<table border=\"1\" class=\"dataframe\">\n",
       "  <thead>\n",
       "    <tr style=\"text-align: right;\">\n",
       "      <th></th>\n",
       "      <th>Unnamed: 0</th>\n",
       "      <th>ticket_number</th>\n",
       "      <th>issue_date</th>\n",
       "      <th>violation_location</th>\n",
       "      <th>license_plate_number</th>\n",
       "      <th>license_plate_state</th>\n",
       "      <th>license_plate_type</th>\n",
       "      <th>zipcode</th>\n",
       "      <th>violation_code</th>\n",
       "      <th>violation_description</th>\n",
       "      <th>...</th>\n",
       "      <th>fine_level2_amount</th>\n",
       "      <th>current_amount_due</th>\n",
       "      <th>total_payments</th>\n",
       "      <th>ticket_queue</th>\n",
       "      <th>ticket_queue_date</th>\n",
       "      <th>notice_level</th>\n",
       "      <th>hearing_disposition</th>\n",
       "      <th>notice_number</th>\n",
       "      <th>officer</th>\n",
       "      <th>address</th>\n",
       "    </tr>\n",
       "  </thead>\n",
       "  <tbody>\n",
       "    <tr>\n",
       "      <th>159935</th>\n",
       "      <td>159936</td>\n",
       "      <td>61684301.0</td>\n",
       "      <td>2013-01-01 02:22:00</td>\n",
       "      <td>5528 W QUINCY</td>\n",
       "      <td>81d4506e33952bfbcc9f09bdd2bfc1f53eb2298da078e7...</td>\n",
       "      <td>IL</td>\n",
       "      <td>TMP</td>\n",
       "      <td>60644</td>\n",
       "      <td>0964125B</td>\n",
       "      <td>NO CITY STICKER VEHICLE UNDER/EQUAL TO 16,000 ...</td>\n",
       "      <td>...</td>\n",
       "      <td>400</td>\n",
       "      <td>488.0</td>\n",
       "      <td>0.0</td>\n",
       "      <td>Notice</td>\n",
       "      <td>2013-01-10</td>\n",
       "      <td>SEIZ</td>\n",
       "      <td>NaN</td>\n",
       "      <td>5.160000e+09</td>\n",
       "      <td>5022</td>\n",
       "      <td>5500 w quincy, chicago, il</td>\n",
       "    </tr>\n",
       "    <tr>\n",
       "      <th>159938</th>\n",
       "      <td>159939</td>\n",
       "      <td>61853301.0</td>\n",
       "      <td>2013-01-01 08:27:00</td>\n",
       "      <td>216 N PIPE</td>\n",
       "      <td>de342832db42c5d075bd9f64522ac9c146828efa179ea3...</td>\n",
       "      <td>IL</td>\n",
       "      <td>PAS</td>\n",
       "      <td>60644</td>\n",
       "      <td>0964125B</td>\n",
       "      <td>NO CITY STICKER VEHICLE UNDER/EQUAL TO 16,000 ...</td>\n",
       "      <td>...</td>\n",
       "      <td>400</td>\n",
       "      <td>0.0</td>\n",
       "      <td>0.0</td>\n",
       "      <td>Dismissed</td>\n",
       "      <td>2013-02-15</td>\n",
       "      <td>VIOL</td>\n",
       "      <td>Not Liable</td>\n",
       "      <td>5.160000e+09</td>\n",
       "      <td>16965</td>\n",
       "      <td>200 n pipe, chicago, il</td>\n",
       "    </tr>\n",
       "    <tr>\n",
       "      <th>159965</th>\n",
       "      <td>159966</td>\n",
       "      <td>61828901.0</td>\n",
       "      <td>2013-01-01 19:09:00</td>\n",
       "      <td>6509 S CLAREMONT</td>\n",
       "      <td>2ef3a62be963f17c5c066dd1b1cca04190d1d688d38bb3...</td>\n",
       "      <td>IL</td>\n",
       "      <td>PAS</td>\n",
       "      <td>606362418</td>\n",
       "      <td>0964125B</td>\n",
       "      <td>NO CITY STICKER VEHICLE UNDER/EQUAL TO 16,000 ...</td>\n",
       "      <td>...</td>\n",
       "      <td>400</td>\n",
       "      <td>0.0</td>\n",
       "      <td>0.0</td>\n",
       "      <td>Dismissed</td>\n",
       "      <td>2013-02-06</td>\n",
       "      <td>NaN</td>\n",
       "      <td>Not Liable</td>\n",
       "      <td>5.140000e+09</td>\n",
       "      <td>18431</td>\n",
       "      <td>6500 s claremont, chicago, il</td>\n",
       "    </tr>\n",
       "    <tr>\n",
       "      <th>159981</th>\n",
       "      <td>159982</td>\n",
       "      <td>62061701.0</td>\n",
       "      <td>2013-01-02 00:06:00</td>\n",
       "      <td>201 W 99TH STREET</td>\n",
       "      <td>0368655e5f3629e9ab31cdc7e4e878fe6cb465c955c630...</td>\n",
       "      <td>IL</td>\n",
       "      <td>PAS</td>\n",
       "      <td>NaN</td>\n",
       "      <td>0964125B</td>\n",
       "      <td>NO CITY STICKER VEHICLE UNDER/EQUAL TO 16,000 ...</td>\n",
       "      <td>...</td>\n",
       "      <td>400</td>\n",
       "      <td>200.0</td>\n",
       "      <td>0.0</td>\n",
       "      <td>Define</td>\n",
       "      <td>2013-01-29</td>\n",
       "      <td>NaN</td>\n",
       "      <td>NaN</td>\n",
       "      <td>0.000000e+00</td>\n",
       "      <td>17331</td>\n",
       "      <td>200 w 99th street, chicago, il</td>\n",
       "    </tr>\n",
       "    <tr>\n",
       "      <th>159982</th>\n",
       "      <td>159983</td>\n",
       "      <td>62000000.0</td>\n",
       "      <td>2013-01-02 00:10:00</td>\n",
       "      <td>1423 S DRAKE</td>\n",
       "      <td>40a607f690c532ca4dd524235434c56a7274cd1a914455...</td>\n",
       "      <td>IL</td>\n",
       "      <td>TMP</td>\n",
       "      <td>60623</td>\n",
       "      <td>0964125B</td>\n",
       "      <td>NO CITY STICKER VEHICLE UNDER/EQUAL TO 16,000 ...</td>\n",
       "      <td>...</td>\n",
       "      <td>400</td>\n",
       "      <td>488.0</td>\n",
       "      <td>0.0</td>\n",
       "      <td>Notice</td>\n",
       "      <td>2013-01-10</td>\n",
       "      <td>SEIZ</td>\n",
       "      <td>NaN</td>\n",
       "      <td>5.160000e+09</td>\n",
       "      <td>14051</td>\n",
       "      <td>1400 s drake, chicago, il</td>\n",
       "    </tr>\n",
       "  </tbody>\n",
       "</table>\n",
       "<p>5 rows × 24 columns</p>\n",
       "</div>"
      ],
      "text/plain": [
       "        Unnamed: 0  ticket_number          issue_date violation_location  \\\n",
       "159935      159936     61684301.0 2013-01-01 02:22:00      5528 W QUINCY   \n",
       "159938      159939     61853301.0 2013-01-01 08:27:00         216 N PIPE   \n",
       "159965      159966     61828901.0 2013-01-01 19:09:00   6509 S CLAREMONT   \n",
       "159981      159982     62061701.0 2013-01-02 00:06:00  201 W 99TH STREET   \n",
       "159982      159983     62000000.0 2013-01-02 00:10:00       1423 S DRAKE   \n",
       "\n",
       "                                     license_plate_number license_plate_state  \\\n",
       "159935  81d4506e33952bfbcc9f09bdd2bfc1f53eb2298da078e7...                  IL   \n",
       "159938  de342832db42c5d075bd9f64522ac9c146828efa179ea3...                  IL   \n",
       "159965  2ef3a62be963f17c5c066dd1b1cca04190d1d688d38bb3...                  IL   \n",
       "159981  0368655e5f3629e9ab31cdc7e4e878fe6cb465c955c630...                  IL   \n",
       "159982  40a607f690c532ca4dd524235434c56a7274cd1a914455...                  IL   \n",
       "\n",
       "       license_plate_type    zipcode violation_code  \\\n",
       "159935                TMP      60644       0964125B   \n",
       "159938                PAS      60644       0964125B   \n",
       "159965                PAS  606362418       0964125B   \n",
       "159981                PAS        NaN       0964125B   \n",
       "159982                TMP      60623       0964125B   \n",
       "\n",
       "                                    violation_description  ...  \\\n",
       "159935  NO CITY STICKER VEHICLE UNDER/EQUAL TO 16,000 ...  ...   \n",
       "159938  NO CITY STICKER VEHICLE UNDER/EQUAL TO 16,000 ...  ...   \n",
       "159965  NO CITY STICKER VEHICLE UNDER/EQUAL TO 16,000 ...  ...   \n",
       "159981  NO CITY STICKER VEHICLE UNDER/EQUAL TO 16,000 ...  ...   \n",
       "159982  NO CITY STICKER VEHICLE UNDER/EQUAL TO 16,000 ...  ...   \n",
       "\n",
       "        fine_level2_amount current_amount_due total_payments  ticket_queue  \\\n",
       "159935                 400              488.0            0.0        Notice   \n",
       "159938                 400                0.0            0.0     Dismissed   \n",
       "159965                 400                0.0            0.0     Dismissed   \n",
       "159981                 400              200.0            0.0        Define   \n",
       "159982                 400              488.0            0.0        Notice   \n",
       "\n",
       "        ticket_queue_date  notice_level  hearing_disposition notice_number  \\\n",
       "159935         2013-01-10          SEIZ                  NaN  5.160000e+09   \n",
       "159938         2013-02-15          VIOL           Not Liable  5.160000e+09   \n",
       "159965         2013-02-06           NaN           Not Liable  5.140000e+09   \n",
       "159981         2013-01-29           NaN                  NaN  0.000000e+00   \n",
       "159982         2013-01-10          SEIZ                  NaN  5.160000e+09   \n",
       "\n",
       "       officer                         address  \n",
       "159935    5022      5500 w quincy, chicago, il  \n",
       "159938   16965         200 n pipe, chicago, il  \n",
       "159965   18431   6500 s claremont, chicago, il  \n",
       "159981   17331  200 w 99th street, chicago, il  \n",
       "159982   14051       1400 s drake, chicago, il  \n",
       "\n",
       "[5 rows x 24 columns]"
      ]
     },
     "execution_count": 15,
     "metadata": {},
     "output_type": "execute_result"
    }
   ],
   "source": [
    "# Convert the issue date to datetime to filter based on the year 2012\n",
    "df['issue_date'] = pd.to_datetime(df['issue_date'], errors='coerce')\n",
    "\n",
    "# Filter for rows where violation code is '0964125' and the issue date is after 2012\n",
    "filtered_data_2012 = df[(df['violation_code'] == '0964125B') & (df['issue_date'].dt.year > 2012)]\n",
    "\n",
    "# Display the results\n",
    "filtered_data_2012.head()"
   ]
  },
  {
   "cell_type": "code",
   "execution_count": null,
   "id": "208bf8d4-91fb-407d-a908-abc30c42ee56",
   "metadata": {
    "vscode": {
     "languageId": "quarto"
    }
   },
   "outputs": [
    {
     "name": "stdout",
     "output_type": "stream",
     "text": [
      "  violation_code  fine_level1_amount\n",
      "0        0964125                 120\n",
      "1       0964125B                 200\n",
      "2        0976170                 120\n"
     ]
    }
   ],
   "source": [
    "city_sticker_codes = ['0964125', '0976170', '0964125B']\n",
    "\n",
    "filtered_tickets = df[df['violation_code'].isin(city_sticker_codes)]\n",
    "\n",
    "initial_offense_costs = filtered_tickets.groupby('violation_code')['fine_level1_amount'].first().reset_index()\n",
    "\n",
    "print(initial_offense_costs)"
   ]
  },
  {
   "cell_type": "code",
   "execution_count": null,
   "id": "acfd14cb-99e0-4484-97f2-c22a18de3237",
   "metadata": {
    "vscode": {
     "languageId": "quarto"
    }
   },
   "outputs": [
    {
     "name": "stdout",
     "output_type": "stream",
     "text": [
      "  violation_code  fine_level1_amount\n",
      "0        0964125                 120\n",
      "1       0964125B                 200\n",
      "2        0976170                 120\n"
     ]
    }
   ],
   "source": [
    "city_sticker_codes = ['0964125', '0976170', '0964125B']\n",
    "\n",
    "filtered_tickets = df[df['violation_code'].isin(city_sticker_codes)]\n",
    "\n",
    "initial_offense_costs = filtered_tickets.groupby('violation_code')['fine_level1_amount'].first().reset_index()\n",
    "\n",
    "print(initial_offense_costs)"
   ]
  },
  {
   "cell_type": "code",
   "execution_count": null,
   "id": "534dd24b-9cae-45c8-abd1-1897eb482f00",
   "metadata": {
    "vscode": {
     "languageId": "quarto"
    }
   },
   "outputs": [
    {
     "ename": "ValueError",
     "evalue": "Saving charts in 'png' format requires the vl-convert-python package: see https://altair-viz.github.io/user_guide/saving_charts.html#png-svg-and-pdf-format",
     "output_type": "error",
     "traceback": [
      "\u001b[0;31m---------------------------------------------------------------------------\u001b[0m",
      "\u001b[0;31mValueError\u001b[0m                                Traceback (most recent call last)",
      "File \u001b[0;32m/opt/anaconda3/lib/python3.11/site-packages/IPython/core/formatters.py:977\u001b[0m, in \u001b[0;36mMimeBundleFormatter.__call__\u001b[0;34m(self, obj, include, exclude)\u001b[0m\n\u001b[1;32m    974\u001b[0m     method \u001b[39m=\u001b[39m get_real_method(obj, \u001b[39mself\u001b[39m\u001b[39m.\u001b[39mprint_method)\n\u001b[1;32m    976\u001b[0m     \u001b[39mif\u001b[39;00m method \u001b[39mis\u001b[39;00m \u001b[39mnot\u001b[39;00m \u001b[39mNone\u001b[39;00m:\n\u001b[0;32m--> 977\u001b[0m         \u001b[39mreturn\u001b[39;00m method(include\u001b[39m=\u001b[39minclude, exclude\u001b[39m=\u001b[39mexclude)\n\u001b[1;32m    978\u001b[0m     \u001b[39mreturn\u001b[39;00m \u001b[39mNone\u001b[39;00m\n\u001b[1;32m    979\u001b[0m \u001b[39melse\u001b[39;00m:\n",
      "File \u001b[0;32m/opt/anaconda3/lib/python3.11/site-packages/altair/vegalite/v5/api.py:3417\u001b[0m, in \u001b[0;36mTopLevelMixin._repr_mimebundle_\u001b[0;34m(self, *args, **kwds)\u001b[0m\n\u001b[1;32m   3415\u001b[0m \u001b[39melse\u001b[39;00m:\n\u001b[1;32m   3416\u001b[0m     \u001b[39mif\u001b[39;00m renderer \u001b[39m:=\u001b[39m renderers\u001b[39m.\u001b[39mget():\n\u001b[0;32m-> 3417\u001b[0m         \u001b[39mreturn\u001b[39;00m renderer(dct)\n",
      "File \u001b[0;32m/opt/anaconda3/lib/python3.11/site-packages/altair/vegalite/v5/display.py:67\u001b[0m, in \u001b[0;36mpng_renderer\u001b[0;34m(spec, **metadata)\u001b[0m\n\u001b[1;32m     64\u001b[0m \u001b[39mdef\u001b[39;00m \u001b[39mpng_renderer\u001b[39m(spec: \u001b[39mdict\u001b[39m, \u001b[39m*\u001b[39m\u001b[39m*\u001b[39mmetadata) \u001b[39m-\u001b[39m\u001b[39m>\u001b[39m \u001b[39mdict\u001b[39m[\u001b[39mstr\u001b[39m, \u001b[39mbytes\u001b[39m]:\n\u001b[1;32m     65\u001b[0m     \u001b[39m# To get proper return value type, would need to write complex\u001b[39;00m\n\u001b[1;32m     66\u001b[0m     \u001b[39m# overload signatures for spec_to_mimebundle based on `format`\u001b[39;00m\n\u001b[0;32m---> 67\u001b[0m     \u001b[39mreturn\u001b[39;00m spec_to_mimebundle(  \u001b[39m# type: ignore[return-value]\u001b[39;00m\n\u001b[1;32m     68\u001b[0m         spec,\n\u001b[1;32m     69\u001b[0m         \u001b[39mformat\u001b[39m\u001b[39m=\u001b[39m\u001b[39m\"\u001b[39m\u001b[39mpng\u001b[39m\u001b[39m\"\u001b[39m,\n\u001b[1;32m     70\u001b[0m         mode\u001b[39m=\u001b[39m\u001b[39m\"\u001b[39m\u001b[39mvega-lite\u001b[39m\u001b[39m\"\u001b[39m,\n\u001b[1;32m     71\u001b[0m         vega_version\u001b[39m=\u001b[39mVEGA_VERSION,\n\u001b[1;32m     72\u001b[0m         vegaembed_version\u001b[39m=\u001b[39mVEGAEMBED_VERSION,\n\u001b[1;32m     73\u001b[0m         vegalite_version\u001b[39m=\u001b[39mVEGALITE_VERSION,\n\u001b[1;32m     74\u001b[0m         \u001b[39m*\u001b[39m\u001b[39m*\u001b[39mmetadata,\n\u001b[1;32m     75\u001b[0m     )\n",
      "File \u001b[0;32m/opt/anaconda3/lib/python3.11/site-packages/altair/utils/mimebundle.py:134\u001b[0m, in \u001b[0;36mspec_to_mimebundle\u001b[0;34m(spec, format, mode, vega_version, vegaembed_version, vegalite_version, embed_options, engine, **kwargs)\u001b[0m\n\u001b[1;32m    131\u001b[0m embed_options \u001b[39m=\u001b[39m preprocess_embed_options(final_embed_options)\n\u001b[1;32m    133\u001b[0m \u001b[39mif\u001b[39;00m \u001b[39mformat\u001b[39m \u001b[39min\u001b[39;00m {\u001b[39m\"\u001b[39m\u001b[39mpng\u001b[39m\u001b[39m\"\u001b[39m, \u001b[39m\"\u001b[39m\u001b[39msvg\u001b[39m\u001b[39m\"\u001b[39m, \u001b[39m\"\u001b[39m\u001b[39mpdf\u001b[39m\u001b[39m\"\u001b[39m, \u001b[39m\"\u001b[39m\u001b[39mvega\u001b[39m\u001b[39m\"\u001b[39m}:\n\u001b[0;32m--> 134\u001b[0m     \u001b[39mreturn\u001b[39;00m _spec_to_mimebundle_with_engine(\n\u001b[1;32m    135\u001b[0m         spec,\n\u001b[1;32m    136\u001b[0m         cast(Literal[\u001b[39m\"\u001b[39m\u001b[39mpng\u001b[39m\u001b[39m\"\u001b[39m, \u001b[39m\"\u001b[39m\u001b[39msvg\u001b[39m\u001b[39m\"\u001b[39m, \u001b[39m\"\u001b[39m\u001b[39mpdf\u001b[39m\u001b[39m\"\u001b[39m, \u001b[39m\"\u001b[39m\u001b[39mvega\u001b[39m\u001b[39m\"\u001b[39m], \u001b[39mformat\u001b[39m),\n\u001b[1;32m    137\u001b[0m         internal_mode,\n\u001b[1;32m    138\u001b[0m         engine\u001b[39m=\u001b[39mengine,\n\u001b[1;32m    139\u001b[0m         format_locale\u001b[39m=\u001b[39membed_options\u001b[39m.\u001b[39mget(\u001b[39m\"\u001b[39m\u001b[39mformatLocale\u001b[39m\u001b[39m\"\u001b[39m, \u001b[39mNone\u001b[39;00m),\n\u001b[1;32m    140\u001b[0m         time_format_locale\u001b[39m=\u001b[39membed_options\u001b[39m.\u001b[39mget(\u001b[39m\"\u001b[39m\u001b[39mtimeFormatLocale\u001b[39m\u001b[39m\"\u001b[39m, \u001b[39mNone\u001b[39;00m),\n\u001b[1;32m    141\u001b[0m         \u001b[39m*\u001b[39m\u001b[39m*\u001b[39mkwargs,\n\u001b[1;32m    142\u001b[0m     )\n\u001b[1;32m    143\u001b[0m \u001b[39melif\u001b[39;00m \u001b[39mformat\u001b[39m \u001b[39m==\u001b[39m \u001b[39m\"\u001b[39m\u001b[39mhtml\u001b[39m\u001b[39m\"\u001b[39m:\n\u001b[1;32m    144\u001b[0m     html \u001b[39m=\u001b[39m spec_to_html(\n\u001b[1;32m    145\u001b[0m         spec,\n\u001b[1;32m    146\u001b[0m         mode\u001b[39m=\u001b[39minternal_mode,\n\u001b[0;32m   (...)\u001b[0m\n\u001b[1;32m    151\u001b[0m         \u001b[39m*\u001b[39m\u001b[39m*\u001b[39mkwargs,\n\u001b[1;32m    152\u001b[0m     )\n",
      "File \u001b[0;32m/opt/anaconda3/lib/python3.11/site-packages/altair/utils/mimebundle.py:204\u001b[0m, in \u001b[0;36m_spec_to_mimebundle_with_engine\u001b[0;34m(spec, format, mode, format_locale, time_format_locale, **kwargs)\u001b[0m\n\u001b[1;32m    201\u001b[0m \u001b[39m# Normalize the engine string (if any) by lower casing\u001b[39;00m\n\u001b[1;32m    202\u001b[0m \u001b[39m# and removing underscores and hyphens\u001b[39;00m\n\u001b[1;32m    203\u001b[0m engine \u001b[39m=\u001b[39m kwargs\u001b[39m.\u001b[39mpop(\u001b[39m\"\u001b[39m\u001b[39mengine\u001b[39m\u001b[39m\"\u001b[39m, \u001b[39mNone\u001b[39;00m)\n\u001b[0;32m--> 204\u001b[0m normalized_engine \u001b[39m=\u001b[39m _validate_normalize_engine(engine, \u001b[39mformat\u001b[39m)\n\u001b[1;32m    206\u001b[0m \u001b[39mif\u001b[39;00m normalized_engine \u001b[39m==\u001b[39m \u001b[39m\"\u001b[39m\u001b[39mvlconvert\u001b[39m\u001b[39m\"\u001b[39m:\n\u001b[1;32m    207\u001b[0m     vlc \u001b[39m=\u001b[39m import_vl_convert()\n",
      "File \u001b[0;32m/opt/anaconda3/lib/python3.11/site-packages/altair/utils/mimebundle.py:323\u001b[0m, in \u001b[0;36m_validate_normalize_engine\u001b[0;34m(engine, format)\u001b[0m\n\u001b[1;32m    318\u001b[0m     \u001b[39melse\u001b[39;00m:\n\u001b[1;32m    319\u001b[0m         msg \u001b[39m=\u001b[39m (\n\u001b[1;32m    320\u001b[0m             \u001b[39mf\u001b[39m\u001b[39m\"\u001b[39m\u001b[39mSaving charts in \u001b[39m\u001b[39m{\u001b[39;00m\u001b[39mformat\u001b[39m\u001b[39m!r}\u001b[39;00m\u001b[39m format requires the vl-convert-python package: \u001b[39m\u001b[39m\"\u001b[39m\n\u001b[1;32m    321\u001b[0m             \u001b[39m\"\u001b[39m\u001b[39msee https://altair-viz.github.io/user_guide/saving_charts.html#png-svg-and-pdf-format\u001b[39m\u001b[39m\"\u001b[39m\n\u001b[1;32m    322\u001b[0m         )\n\u001b[0;32m--> 323\u001b[0m         \u001b[39mraise\u001b[39;00m \u001b[39mValueError\u001b[39;00m(msg)\n\u001b[1;32m    324\u001b[0m \u001b[39melse\u001b[39;00m:\n\u001b[1;32m    325\u001b[0m     msg \u001b[39m=\u001b[39m \u001b[39mf\u001b[39m\u001b[39m\"\u001b[39m\u001b[39mInvalid conversion engine \u001b[39m\u001b[39m{\u001b[39;00mengine\u001b[39m!r}\u001b[39;00m\u001b[39m. Expected vl-convert\u001b[39m\u001b[39m\"\u001b[39m\n",
      "\u001b[0;31mValueError\u001b[0m: Saving charts in 'png' format requires the vl-convert-python package: see https://altair-viz.github.io/user_guide/saving_charts.html#png-svg-and-pdf-format"
     ]
    },
    {
     "data": {
      "text/plain": [
       "alt.Chart(...)"
      ]
     },
     "metadata": {},
     "output_type": "display_data"
    }
   ],
   "source": [
    "df['combined_code'] = df['violation_code'].replace({\n",
    "    '0964125': 'CitySticker',\n",
    "    '0964125B': 'CitySticker'\n",
    "})\n",
    "\n",
    "# Convert issue_date to datetime\n",
    "df['issue_date'] = pd.to_datetime(df['issue_date'], errors='coerce')\n",
    "\n",
    "# Filter for rows where the combined code is 'CitySticker'\n",
    "city_sticker_tickets = df[df['combined_code'] == 'CitySticker']\n",
    "\n",
    "# Group the data by month and count the number of tickets per month\n",
    "city_sticker_tickets_by_month = city_sticker_tickets.groupby(city_sticker_tickets['issue_date'].dt.to_period('M')).size().reset_index(name='ticket_count')\n",
    "\n",
    "# Convert the period back to a datetime object for plotting\n",
    "city_sticker_tickets_by_month['issue_date'] = city_sticker_tickets_by_month['issue_date'].dt.to_timestamp()\n",
    "\n",
    "# Plot using Altair\n",
    "chart = alt.Chart(city_sticker_tickets_by_month).mark_line().encode(\n",
    "    x='issue_date:T',\n",
    "    y='ticket_count:Q',\n",
    "    tooltip=['issue_date:T', 'ticket_count:Q']\n",
    ").properties(\n",
    "    title='Number of Missing City Sticker Tickets Over Time'\n",
    ")\n",
    "\n",
    "# Display the chart\n",
    "chart.show()"
   ]
  },
  {
   "cell_type": "code",
   "execution_count": null,
   "id": "64482fc6-7fae-42a3-bdcf-ff52984c6e59",
   "metadata": {
    "vscode": {
     "languageId": "quarto"
    }
   },
   "outputs": [
    {
     "ename": "NameError",
     "evalue": "name 'city_sticker_by_month' is not defined",
     "output_type": "error",
     "traceback": [
      "\u001b[0;31m---------------------------------------------------------------------------\u001b[0m",
      "\u001b[0;31mNameError\u001b[0m                                 Traceback (most recent call last)",
      "File \u001b[1;32m/Users/hkkkkk/Documents/GitHub/ppha30538_fall2024/30538-dap-ii-problem-set-2-ps2-dap2-python-fall2024/pset2_template.qmd:7\u001b[0m\n\u001b[1;32m      4\u001b[0m alt\u001b[39m.\u001b[39mrenderers\u001b[39m.\u001b[39menable(\u001b[39m'\u001b[39m\u001b[39mdefault\u001b[39m\u001b[39m'\u001b[39m)\n\u001b[1;32m      6\u001b[0m \u001b[39m# Then plot the chart as before\u001b[39;00m\n\u001b[0;32m----> 7\u001b[0m chart \u001b[39m=\u001b[39m alt\u001b[39m.\u001b[39mChart(city_sticker_by_month)\u001b[39m.\u001b[39mmark_line()\u001b[39m.\u001b[39mencode(\n\u001b[1;32m      8\u001b[0m     x\u001b[39m=\u001b[39m\u001b[39m'\u001b[39m\u001b[39missue_date:T\u001b[39m\u001b[39m'\u001b[39m,\n\u001b[1;32m      9\u001b[0m     y\u001b[39m=\u001b[39m\u001b[39m'\u001b[39m\u001b[39mticket_count:Q\u001b[39m\u001b[39m'\u001b[39m,\n\u001b[1;32m     10\u001b[0m     tooltip\u001b[39m=\u001b[39m[\u001b[39m'\u001b[39m\u001b[39missue_date\u001b[39m\u001b[39m'\u001b[39m, \u001b[39m'\u001b[39m\u001b[39mticket_count\u001b[39m\u001b[39m'\u001b[39m]\n\u001b[1;32m     11\u001b[0m )\u001b[39m.\u001b[39mproperties(\n\u001b[1;32m     12\u001b[0m     title\u001b[39m=\u001b[39m\u001b[39m'\u001b[39m\u001b[39mNumber of Missing City Sticker Tickets Over Time\u001b[39m\u001b[39m'\u001b[39m\n\u001b[1;32m     13\u001b[0m )\n\u001b[1;32m     15\u001b[0m chart\u001b[39m.\u001b[39mshow()\n",
      "\u001b[0;31mNameError\u001b[0m: name 'city_sticker_by_month' is not defined"
     ]
    }
   ],
   "source": [
    "import altair as alt\n",
    "\n",
    "# Set Altair to render charts inline (default for Jupyter)\n",
    "alt.renderers.enable('default')\n",
    "\n",
    "# Then plot the chart as before\n",
    "chart = alt.Chart(city_sticker_by_month).mark_line().encode(\n",
    "    x='issue_date:T',\n",
    "    y='ticket_count:Q',\n",
    "    tooltip=['issue_date', 'ticket_count']\n",
    ").properties(\n",
    "    title='Number of Missing City Sticker Tickets Over Time'\n",
    ")\n",
    "\n",
    "chart.show()"
   ]
  },
  {
   "cell_type": "code",
   "execution_count": null,
   "id": "8316729e-44fb-4742-899f-e79469bd2280",
   "metadata": {
    "vscode": {
     "languageId": "quarto"
    }
   },
   "outputs": [
    {
     "data": {
      "text/html": [
       "\n",
       "<style>\n",
       "  #altair-viz-6b3bc58fbd134b258a8717c322f04da3.vega-embed {\n",
       "    width: 100%;\n",
       "    display: flex;\n",
       "  }\n",
       "\n",
       "  #altair-viz-6b3bc58fbd134b258a8717c322f04da3.vega-embed details,\n",
       "  #altair-viz-6b3bc58fbd134b258a8717c322f04da3.vega-embed details summary {\n",
       "    position: relative;\n",
       "  }\n",
       "</style>\n",
       "<div id=\"altair-viz-6b3bc58fbd134b258a8717c322f04da3\"></div>\n",
       "<script type=\"text/javascript\">\n",
       "  var VEGA_DEBUG = (typeof VEGA_DEBUG == \"undefined\") ? {} : VEGA_DEBUG;\n",
       "  (function(spec, embedOpt){\n",
       "    let outputDiv = document.currentScript.previousElementSibling;\n",
       "    if (outputDiv.id !== \"altair-viz-6b3bc58fbd134b258a8717c322f04da3\") {\n",
       "      outputDiv = document.getElementById(\"altair-viz-6b3bc58fbd134b258a8717c322f04da3\");\n",
       "    }\n",
       "    const paths = {\n",
       "      \"vega\": \"https://cdn.jsdelivr.net/npm/vega@5?noext\",\n",
       "      \"vega-lib\": \"https://cdn.jsdelivr.net/npm/vega-lib?noext\",\n",
       "      \"vega-lite\": \"https://cdn.jsdelivr.net/npm/vega-lite@5.20.1?noext\",\n",
       "      \"vega-embed\": \"https://cdn.jsdelivr.net/npm/vega-embed@6?noext\",\n",
       "    };\n",
       "\n",
       "    function maybeLoadScript(lib, version) {\n",
       "      var key = `${lib.replace(\"-\", \"\")}_version`;\n",
       "      return (VEGA_DEBUG[key] == version) ?\n",
       "        Promise.resolve(paths[lib]) :\n",
       "        new Promise(function(resolve, reject) {\n",
       "          var s = document.createElement('script');\n",
       "          document.getElementsByTagName(\"head\")[0].appendChild(s);\n",
       "          s.async = true;\n",
       "          s.onload = () => {\n",
       "            VEGA_DEBUG[key] = version;\n",
       "            return resolve(paths[lib]);\n",
       "          };\n",
       "          s.onerror = () => reject(`Error loading script: ${paths[lib]}`);\n",
       "          s.src = paths[lib];\n",
       "        });\n",
       "    }\n",
       "\n",
       "    function showError(err) {\n",
       "      outputDiv.innerHTML = `<div class=\"error\" style=\"color:red;\">${err}</div>`;\n",
       "      throw err;\n",
       "    }\n",
       "\n",
       "    function displayChart(vegaEmbed) {\n",
       "      vegaEmbed(outputDiv, spec, embedOpt)\n",
       "        .catch(err => showError(`Javascript Error: ${err.message}<br>This usually means there's a typo in your chart specification. See the javascript console for the full traceback.`));\n",
       "    }\n",
       "\n",
       "    if(typeof define === \"function\" && define.amd) {\n",
       "      requirejs.config({paths});\n",
       "      require([\"vega-embed\"], displayChart, err => showError(`Error loading script: ${err.message}`));\n",
       "    } else {\n",
       "      maybeLoadScript(\"vega\", \"5\")\n",
       "        .then(() => maybeLoadScript(\"vega-lite\", \"5.20.1\"))\n",
       "        .then(() => maybeLoadScript(\"vega-embed\", \"6\"))\n",
       "        .catch(showError)\n",
       "        .then(() => displayChart(vegaEmbed));\n",
       "    }\n",
       "  })({\"config\": {\"view\": {\"continuousWidth\": 300, \"continuousHeight\": 300}}, \"data\": {\"name\": \"data-953883e3eaeff663890382dbdbd39466\"}, \"mark\": {\"type\": \"line\"}, \"encoding\": {\"tooltip\": [{\"field\": \"issue_date\", \"type\": \"temporal\"}, {\"field\": \"ticket_count\", \"type\": \"quantitative\"}], \"x\": {\"field\": \"issue_date\", \"type\": \"temporal\"}, \"y\": {\"field\": \"ticket_count\", \"type\": \"quantitative\"}}, \"title\": \"Number of Missing City Sticker Tickets Over Time\", \"$schema\": \"https://vega.github.io/schema/vega-lite/v5.20.1.json\", \"datasets\": {\"data-953883e3eaeff663890382dbdbd39466\": [{\"issue_date\": \"2007-01-01T00:00:00\", \"ticket_count\": 160}, {\"issue_date\": \"2007-02-01T00:00:00\", \"ticket_count\": 104}, {\"issue_date\": \"2007-03-01T00:00:00\", \"ticket_count\": 161}, {\"issue_date\": \"2007-04-01T00:00:00\", \"ticket_count\": 158}, {\"issue_date\": \"2007-05-01T00:00:00\", \"ticket_count\": 126}, {\"issue_date\": \"2007-06-01T00:00:00\", \"ticket_count\": 80}, {\"issue_date\": \"2007-07-01T00:00:00\", \"ticket_count\": 399}, {\"issue_date\": \"2007-08-01T00:00:00\", \"ticket_count\": 345}, {\"issue_date\": \"2007-09-01T00:00:00\", \"ticket_count\": 224}, {\"issue_date\": \"2007-10-01T00:00:00\", \"ticket_count\": 221}, {\"issue_date\": \"2007-11-01T00:00:00\", \"ticket_count\": 168}, {\"issue_date\": \"2007-12-01T00:00:00\", \"ticket_count\": 118}, {\"issue_date\": \"2008-01-01T00:00:00\", \"ticket_count\": 132}, {\"issue_date\": \"2008-02-01T00:00:00\", \"ticket_count\": 149}, {\"issue_date\": \"2008-03-01T00:00:00\", \"ticket_count\": 192}, {\"issue_date\": \"2008-04-01T00:00:00\", \"ticket_count\": 166}, {\"issue_date\": \"2008-05-01T00:00:00\", \"ticket_count\": 139}, {\"issue_date\": \"2008-06-01T00:00:00\", \"ticket_count\": 72}, {\"issue_date\": \"2008-07-01T00:00:00\", \"ticket_count\": 382}, {\"issue_date\": \"2008-08-01T00:00:00\", \"ticket_count\": 342}, {\"issue_date\": \"2008-09-01T00:00:00\", \"ticket_count\": 213}, {\"issue_date\": \"2008-10-01T00:00:00\", \"ticket_count\": 197}, {\"issue_date\": \"2008-11-01T00:00:00\", \"ticket_count\": 148}, {\"issue_date\": \"2008-12-01T00:00:00\", \"ticket_count\": 80}, {\"issue_date\": \"2009-01-01T00:00:00\", \"ticket_count\": 81}, {\"issue_date\": \"2009-02-01T00:00:00\", \"ticket_count\": 121}, {\"issue_date\": \"2009-03-01T00:00:00\", \"ticket_count\": 171}, {\"issue_date\": \"2009-04-01T00:00:00\", \"ticket_count\": 149}, {\"issue_date\": \"2009-05-01T00:00:00\", \"ticket_count\": 132}, {\"issue_date\": \"2009-06-01T00:00:00\", \"ticket_count\": 89}, {\"issue_date\": \"2009-07-01T00:00:00\", \"ticket_count\": 392}, {\"issue_date\": \"2009-08-01T00:00:00\", \"ticket_count\": 347}, {\"issue_date\": \"2009-09-01T00:00:00\", \"ticket_count\": 211}, {\"issue_date\": \"2009-10-01T00:00:00\", \"ticket_count\": 188}, {\"issue_date\": \"2009-11-01T00:00:00\", \"ticket_count\": 170}, {\"issue_date\": \"2009-12-01T00:00:00\", \"ticket_count\": 98}, {\"issue_date\": \"2010-01-01T00:00:00\", \"ticket_count\": 156}, {\"issue_date\": \"2010-02-01T00:00:00\", \"ticket_count\": 129}, {\"issue_date\": \"2010-03-01T00:00:00\", \"ticket_count\": 153}, {\"issue_date\": \"2010-04-01T00:00:00\", \"ticket_count\": 138}, {\"issue_date\": \"2010-05-01T00:00:00\", \"ticket_count\": 140}, {\"issue_date\": \"2010-06-01T00:00:00\", \"ticket_count\": 99}, {\"issue_date\": \"2010-07-01T00:00:00\", \"ticket_count\": 26}, {\"issue_date\": \"2010-08-01T00:00:00\", \"ticket_count\": 425}, {\"issue_date\": \"2010-09-01T00:00:00\", \"ticket_count\": 237}, {\"issue_date\": \"2010-10-01T00:00:00\", \"ticket_count\": 197}, {\"issue_date\": \"2010-11-01T00:00:00\", \"ticket_count\": 168}, {\"issue_date\": \"2010-12-01T00:00:00\", \"ticket_count\": 117}, {\"issue_date\": \"2011-01-01T00:00:00\", \"ticket_count\": 153}, {\"issue_date\": \"2011-02-01T00:00:00\", \"ticket_count\": 87}, {\"issue_date\": \"2011-03-01T00:00:00\", \"ticket_count\": 147}, {\"issue_date\": \"2011-04-01T00:00:00\", \"ticket_count\": 135}, {\"issue_date\": \"2011-05-01T00:00:00\", \"ticket_count\": 134}, {\"issue_date\": \"2011-06-01T00:00:00\", \"ticket_count\": 78}, {\"issue_date\": \"2011-07-01T00:00:00\", \"ticket_count\": 317}, {\"issue_date\": \"2011-08-01T00:00:00\", \"ticket_count\": 313}, {\"issue_date\": \"2011-09-01T00:00:00\", \"ticket_count\": 171}, {\"issue_date\": \"2011-10-01T00:00:00\", \"ticket_count\": 136}, {\"issue_date\": \"2011-11-01T00:00:00\", \"ticket_count\": 139}, {\"issue_date\": \"2011-12-01T00:00:00\", \"ticket_count\": 123}, {\"issue_date\": \"2012-01-01T00:00:00\", \"ticket_count\": 114}, {\"issue_date\": \"2012-02-01T00:00:00\", \"ticket_count\": 138}, {\"issue_date\": \"2012-03-01T00:00:00\", \"ticket_count\": 181}, {\"issue_date\": \"2012-04-01T00:00:00\", \"ticket_count\": 142}, {\"issue_date\": \"2012-05-01T00:00:00\", \"ticket_count\": 115}, {\"issue_date\": \"2012-06-01T00:00:00\", \"ticket_count\": 100}, {\"issue_date\": \"2012-07-01T00:00:00\", \"ticket_count\": 414}, {\"issue_date\": \"2012-08-01T00:00:00\", \"ticket_count\": 319}, {\"issue_date\": \"2012-09-01T00:00:00\", \"ticket_count\": 179}, {\"issue_date\": \"2012-10-01T00:00:00\", \"ticket_count\": 171}, {\"issue_date\": \"2012-11-01T00:00:00\", \"ticket_count\": 157}, {\"issue_date\": \"2012-12-01T00:00:00\", \"ticket_count\": 162}, {\"issue_date\": \"2013-01-01T00:00:00\", \"ticket_count\": 196}, {\"issue_date\": \"2013-02-01T00:00:00\", \"ticket_count\": 158}, {\"issue_date\": \"2013-03-01T00:00:00\", \"ticket_count\": 199}, {\"issue_date\": \"2013-04-01T00:00:00\", \"ticket_count\": 187}, {\"issue_date\": \"2013-05-01T00:00:00\", \"ticket_count\": 179}, {\"issue_date\": \"2013-06-01T00:00:00\", \"ticket_count\": 140}, {\"issue_date\": \"2013-07-01T00:00:00\", \"ticket_count\": 499}, {\"issue_date\": \"2013-08-01T00:00:00\", \"ticket_count\": 355}, {\"issue_date\": \"2013-09-01T00:00:00\", \"ticket_count\": 221}, {\"issue_date\": \"2013-10-01T00:00:00\", \"ticket_count\": 208}, {\"issue_date\": \"2013-11-01T00:00:00\", \"ticket_count\": 127}, {\"issue_date\": \"2013-12-01T00:00:00\", \"ticket_count\": 98}, {\"issue_date\": \"2014-01-01T00:00:00\", \"ticket_count\": 100}, {\"issue_date\": \"2014-02-01T00:00:00\", \"ticket_count\": 147}, {\"issue_date\": \"2014-03-01T00:00:00\", \"ticket_count\": 155}, {\"issue_date\": \"2014-04-01T00:00:00\", \"ticket_count\": 144}, {\"issue_date\": \"2014-05-01T00:00:00\", \"ticket_count\": 178}, {\"issue_date\": \"2014-06-01T00:00:00\", \"ticket_count\": 116}, {\"issue_date\": \"2014-07-01T00:00:00\", \"ticket_count\": 267}, {\"issue_date\": \"2014-08-01T00:00:00\", \"ticket_count\": 245}, {\"issue_date\": \"2014-09-01T00:00:00\", \"ticket_count\": 178}, {\"issue_date\": \"2014-10-01T00:00:00\", \"ticket_count\": 165}, {\"issue_date\": \"2014-11-01T00:00:00\", \"ticket_count\": 153}, {\"issue_date\": \"2014-12-01T00:00:00\", \"ticket_count\": 177}, {\"issue_date\": \"2015-01-01T00:00:00\", \"ticket_count\": 179}, {\"issue_date\": \"2015-02-01T00:00:00\", \"ticket_count\": 142}, {\"issue_date\": \"2015-03-01T00:00:00\", \"ticket_count\": 223}, {\"issue_date\": \"2015-04-01T00:00:00\", \"ticket_count\": 191}, {\"issue_date\": \"2015-05-01T00:00:00\", \"ticket_count\": 191}, {\"issue_date\": \"2015-06-01T00:00:00\", \"ticket_count\": 198}, {\"issue_date\": \"2015-07-01T00:00:00\", \"ticket_count\": 217}, {\"issue_date\": \"2015-08-01T00:00:00\", \"ticket_count\": 210}, {\"issue_date\": \"2015-09-01T00:00:00\", \"ticket_count\": 225}, {\"issue_date\": \"2015-10-01T00:00:00\", \"ticket_count\": 245}, {\"issue_date\": \"2015-11-01T00:00:00\", \"ticket_count\": 226}, {\"issue_date\": \"2015-12-01T00:00:00\", \"ticket_count\": 220}, {\"issue_date\": \"2016-01-01T00:00:00\", \"ticket_count\": 202}, {\"issue_date\": \"2016-02-01T00:00:00\", \"ticket_count\": 206}, {\"issue_date\": \"2016-03-01T00:00:00\", \"ticket_count\": 241}, {\"issue_date\": \"2016-04-01T00:00:00\", \"ticket_count\": 203}, {\"issue_date\": \"2016-05-01T00:00:00\", \"ticket_count\": 185}, {\"issue_date\": \"2016-06-01T00:00:00\", \"ticket_count\": 175}, {\"issue_date\": \"2016-07-01T00:00:00\", \"ticket_count\": 160}, {\"issue_date\": \"2016-08-01T00:00:00\", \"ticket_count\": 151}, {\"issue_date\": \"2016-09-01T00:00:00\", \"ticket_count\": 183}, {\"issue_date\": \"2016-10-01T00:00:00\", \"ticket_count\": 220}, {\"issue_date\": \"2016-11-01T00:00:00\", \"ticket_count\": 182}, {\"issue_date\": \"2016-12-01T00:00:00\", \"ticket_count\": 156}, {\"issue_date\": \"2017-01-01T00:00:00\", \"ticket_count\": 238}, {\"issue_date\": \"2017-02-01T00:00:00\", \"ticket_count\": 190}, {\"issue_date\": \"2017-03-01T00:00:00\", \"ticket_count\": 211}, {\"issue_date\": \"2017-04-01T00:00:00\", \"ticket_count\": 191}, {\"issue_date\": \"2017-05-01T00:00:00\", \"ticket_count\": 192}, {\"issue_date\": \"2017-06-01T00:00:00\", \"ticket_count\": 177}, {\"issue_date\": \"2017-07-01T00:00:00\", \"ticket_count\": 166}, {\"issue_date\": \"2017-08-01T00:00:00\", \"ticket_count\": 173}, {\"issue_date\": \"2017-09-01T00:00:00\", \"ticket_count\": 188}, {\"issue_date\": \"2017-10-01T00:00:00\", \"ticket_count\": 169}, {\"issue_date\": \"2017-11-01T00:00:00\", \"ticket_count\": 202}, {\"issue_date\": \"2017-12-01T00:00:00\", \"ticket_count\": 159}, {\"issue_date\": \"2018-01-01T00:00:00\", \"ticket_count\": 168}, {\"issue_date\": \"2018-02-01T00:00:00\", \"ticket_count\": 119}, {\"issue_date\": \"2018-03-01T00:00:00\", \"ticket_count\": 171}, {\"issue_date\": \"2018-04-01T00:00:00\", \"ticket_count\": 153}, {\"issue_date\": \"2018-05-01T00:00:00\", \"ticket_count\": 79}]}}, {\"mode\": \"vega-lite\"});\n",
       "</script>"
      ],
      "text/plain": [
       "alt.Chart(...)"
      ]
     },
     "metadata": {},
     "output_type": "display_data"
    }
   ],
   "source": [
    "df['combined_code'] = df['violation_code'].replace({\n",
    "    '0964125': 'CitySticker',\n",
    "    '0964125B': 'CitySticker'\n",
    "})\n",
    "\n",
    "# Convert issue_date to datetime\n",
    "df['issue_date'] = pd.to_datetime(df['issue_date'], errors='coerce')\n",
    "\n",
    "# Filter for rows where the combined code is 'CitySticker'\n",
    "city_sticker_tickets = df[df['combined_code'] == 'CitySticker']\n",
    "\n",
    "# Group the data by month and count the number of tickets per month\n",
    "city_sticker_tickets_by_month = city_sticker_tickets.groupby(city_sticker_tickets['issue_date'].dt.to_period('M')).size().reset_index(name='ticket_count')\n",
    "\n",
    "# Convert the period back to a datetime object for plotting\n",
    "city_sticker_tickets_by_month['issue_date'] = city_sticker_tickets_by_month['issue_date'].dt.to_timestamp()\n",
    "\n",
    "# Plot using Altair\n",
    "chart = alt.Chart(city_sticker_tickets_by_month).mark_line().encode(\n",
    "    x='issue_date:T',\n",
    "    y='ticket_count:Q',\n",
    "    tooltip=['issue_date:T', 'ticket_count:Q']\n",
    ").properties(\n",
    "    title='Number of Missing City Sticker Tickets Over Time'\n",
    ")\n",
    "\n",
    "# Display the chart\n",
    "chart.show()"
   ]
  },
  {
   "cell_type": "code",
   "execution_count": null,
   "id": "c477642a-cbc2-415d-81bd-91248f6ee58c",
   "metadata": {
    "vscode": {
     "languageId": "quarto"
    }
   },
   "outputs": [
    {
     "data": {
      "text/html": [
       "\n",
       "<style>\n",
       "  #altair-viz-9156cee376cd40c6afd1afd04c7e31bb.vega-embed {\n",
       "    width: 100%;\n",
       "    display: flex;\n",
       "  }\n",
       "\n",
       "  #altair-viz-9156cee376cd40c6afd1afd04c7e31bb.vega-embed details,\n",
       "  #altair-viz-9156cee376cd40c6afd1afd04c7e31bb.vega-embed details summary {\n",
       "    position: relative;\n",
       "  }\n",
       "</style>\n",
       "<div id=\"altair-viz-9156cee376cd40c6afd1afd04c7e31bb\"></div>\n",
       "<script type=\"text/javascript\">\n",
       "  var VEGA_DEBUG = (typeof VEGA_DEBUG == \"undefined\") ? {} : VEGA_DEBUG;\n",
       "  (function(spec, embedOpt){\n",
       "    let outputDiv = document.currentScript.previousElementSibling;\n",
       "    if (outputDiv.id !== \"altair-viz-9156cee376cd40c6afd1afd04c7e31bb\") {\n",
       "      outputDiv = document.getElementById(\"altair-viz-9156cee376cd40c6afd1afd04c7e31bb\");\n",
       "    }\n",
       "    const paths = {\n",
       "      \"vega\": \"https://cdn.jsdelivr.net/npm/vega@5?noext\",\n",
       "      \"vega-lib\": \"https://cdn.jsdelivr.net/npm/vega-lib?noext\",\n",
       "      \"vega-lite\": \"https://cdn.jsdelivr.net/npm/vega-lite@5.20.1?noext\",\n",
       "      \"vega-embed\": \"https://cdn.jsdelivr.net/npm/vega-embed@6?noext\",\n",
       "    };\n",
       "\n",
       "    function maybeLoadScript(lib, version) {\n",
       "      var key = `${lib.replace(\"-\", \"\")}_version`;\n",
       "      return (VEGA_DEBUG[key] == version) ?\n",
       "        Promise.resolve(paths[lib]) :\n",
       "        new Promise(function(resolve, reject) {\n",
       "          var s = document.createElement('script');\n",
       "          document.getElementsByTagName(\"head\")[0].appendChild(s);\n",
       "          s.async = true;\n",
       "          s.onload = () => {\n",
       "            VEGA_DEBUG[key] = version;\n",
       "            return resolve(paths[lib]);\n",
       "          };\n",
       "          s.onerror = () => reject(`Error loading script: ${paths[lib]}`);\n",
       "          s.src = paths[lib];\n",
       "        });\n",
       "    }\n",
       "\n",
       "    function showError(err) {\n",
       "      outputDiv.innerHTML = `<div class=\"error\" style=\"color:red;\">${err}</div>`;\n",
       "      throw err;\n",
       "    }\n",
       "\n",
       "    function displayChart(vegaEmbed) {\n",
       "      vegaEmbed(outputDiv, spec, embedOpt)\n",
       "        .catch(err => showError(`Javascript Error: ${err.message}<br>This usually means there's a typo in your chart specification. See the javascript console for the full traceback.`));\n",
       "    }\n",
       "\n",
       "    if(typeof define === \"function\" && define.amd) {\n",
       "      requirejs.config({paths});\n",
       "      require([\"vega-embed\"], displayChart, err => showError(`Error loading script: ${err.message}`));\n",
       "    } else {\n",
       "      maybeLoadScript(\"vega\", \"5\")\n",
       "        .then(() => maybeLoadScript(\"vega-lite\", \"5.20.1\"))\n",
       "        .then(() => maybeLoadScript(\"vega-embed\", \"6\"))\n",
       "        .catch(showError)\n",
       "        .then(() => displayChart(vegaEmbed));\n",
       "    }\n",
       "  })({\"config\": {\"view\": {\"continuousWidth\": 300, \"continuousHeight\": 300}}, \"data\": {\"name\": \"data-953883e3eaeff663890382dbdbd39466\"}, \"mark\": {\"type\": \"line\"}, \"encoding\": {\"tooltip\": [{\"field\": \"issue_date\", \"type\": \"temporal\"}, {\"field\": \"ticket_count\", \"type\": \"quantitative\"}], \"x\": {\"field\": \"issue_date\", \"type\": \"temporal\"}, \"y\": {\"field\": \"ticket_count\", \"type\": \"quantitative\"}}, \"title\": \"Number of Missing City Sticker Tickets Over Time\", \"$schema\": \"https://vega.github.io/schema/vega-lite/v5.20.1.json\", \"datasets\": {\"data-953883e3eaeff663890382dbdbd39466\": [{\"issue_date\": \"2007-01-01T00:00:00\", \"ticket_count\": 160}, {\"issue_date\": \"2007-02-01T00:00:00\", \"ticket_count\": 104}, {\"issue_date\": \"2007-03-01T00:00:00\", \"ticket_count\": 161}, {\"issue_date\": \"2007-04-01T00:00:00\", \"ticket_count\": 158}, {\"issue_date\": \"2007-05-01T00:00:00\", \"ticket_count\": 126}, {\"issue_date\": \"2007-06-01T00:00:00\", \"ticket_count\": 80}, {\"issue_date\": \"2007-07-01T00:00:00\", \"ticket_count\": 399}, {\"issue_date\": \"2007-08-01T00:00:00\", \"ticket_count\": 345}, {\"issue_date\": \"2007-09-01T00:00:00\", \"ticket_count\": 224}, {\"issue_date\": \"2007-10-01T00:00:00\", \"ticket_count\": 221}, {\"issue_date\": \"2007-11-01T00:00:00\", \"ticket_count\": 168}, {\"issue_date\": \"2007-12-01T00:00:00\", \"ticket_count\": 118}, {\"issue_date\": \"2008-01-01T00:00:00\", \"ticket_count\": 132}, {\"issue_date\": \"2008-02-01T00:00:00\", \"ticket_count\": 149}, {\"issue_date\": \"2008-03-01T00:00:00\", \"ticket_count\": 192}, {\"issue_date\": \"2008-04-01T00:00:00\", \"ticket_count\": 166}, {\"issue_date\": \"2008-05-01T00:00:00\", \"ticket_count\": 139}, {\"issue_date\": \"2008-06-01T00:00:00\", \"ticket_count\": 72}, {\"issue_date\": \"2008-07-01T00:00:00\", \"ticket_count\": 382}, {\"issue_date\": \"2008-08-01T00:00:00\", \"ticket_count\": 342}, {\"issue_date\": \"2008-09-01T00:00:00\", \"ticket_count\": 213}, {\"issue_date\": \"2008-10-01T00:00:00\", \"ticket_count\": 197}, {\"issue_date\": \"2008-11-01T00:00:00\", \"ticket_count\": 148}, {\"issue_date\": \"2008-12-01T00:00:00\", \"ticket_count\": 80}, {\"issue_date\": \"2009-01-01T00:00:00\", \"ticket_count\": 81}, {\"issue_date\": \"2009-02-01T00:00:00\", \"ticket_count\": 121}, {\"issue_date\": \"2009-03-01T00:00:00\", \"ticket_count\": 171}, {\"issue_date\": \"2009-04-01T00:00:00\", \"ticket_count\": 149}, {\"issue_date\": \"2009-05-01T00:00:00\", \"ticket_count\": 132}, {\"issue_date\": \"2009-06-01T00:00:00\", \"ticket_count\": 89}, {\"issue_date\": \"2009-07-01T00:00:00\", \"ticket_count\": 392}, {\"issue_date\": \"2009-08-01T00:00:00\", \"ticket_count\": 347}, {\"issue_date\": \"2009-09-01T00:00:00\", \"ticket_count\": 211}, {\"issue_date\": \"2009-10-01T00:00:00\", \"ticket_count\": 188}, {\"issue_date\": \"2009-11-01T00:00:00\", \"ticket_count\": 170}, {\"issue_date\": \"2009-12-01T00:00:00\", \"ticket_count\": 98}, {\"issue_date\": \"2010-01-01T00:00:00\", \"ticket_count\": 156}, {\"issue_date\": \"2010-02-01T00:00:00\", \"ticket_count\": 129}, {\"issue_date\": \"2010-03-01T00:00:00\", \"ticket_count\": 153}, {\"issue_date\": \"2010-04-01T00:00:00\", \"ticket_count\": 138}, {\"issue_date\": \"2010-05-01T00:00:00\", \"ticket_count\": 140}, {\"issue_date\": \"2010-06-01T00:00:00\", \"ticket_count\": 99}, {\"issue_date\": \"2010-07-01T00:00:00\", \"ticket_count\": 26}, {\"issue_date\": \"2010-08-01T00:00:00\", \"ticket_count\": 425}, {\"issue_date\": \"2010-09-01T00:00:00\", \"ticket_count\": 237}, {\"issue_date\": \"2010-10-01T00:00:00\", \"ticket_count\": 197}, {\"issue_date\": \"2010-11-01T00:00:00\", \"ticket_count\": 168}, {\"issue_date\": \"2010-12-01T00:00:00\", \"ticket_count\": 117}, {\"issue_date\": \"2011-01-01T00:00:00\", \"ticket_count\": 153}, {\"issue_date\": \"2011-02-01T00:00:00\", \"ticket_count\": 87}, {\"issue_date\": \"2011-03-01T00:00:00\", \"ticket_count\": 147}, {\"issue_date\": \"2011-04-01T00:00:00\", \"ticket_count\": 135}, {\"issue_date\": \"2011-05-01T00:00:00\", \"ticket_count\": 134}, {\"issue_date\": \"2011-06-01T00:00:00\", \"ticket_count\": 78}, {\"issue_date\": \"2011-07-01T00:00:00\", \"ticket_count\": 317}, {\"issue_date\": \"2011-08-01T00:00:00\", \"ticket_count\": 313}, {\"issue_date\": \"2011-09-01T00:00:00\", \"ticket_count\": 171}, {\"issue_date\": \"2011-10-01T00:00:00\", \"ticket_count\": 136}, {\"issue_date\": \"2011-11-01T00:00:00\", \"ticket_count\": 139}, {\"issue_date\": \"2011-12-01T00:00:00\", \"ticket_count\": 123}, {\"issue_date\": \"2012-01-01T00:00:00\", \"ticket_count\": 114}, {\"issue_date\": \"2012-02-01T00:00:00\", \"ticket_count\": 138}, {\"issue_date\": \"2012-03-01T00:00:00\", \"ticket_count\": 181}, {\"issue_date\": \"2012-04-01T00:00:00\", \"ticket_count\": 142}, {\"issue_date\": \"2012-05-01T00:00:00\", \"ticket_count\": 115}, {\"issue_date\": \"2012-06-01T00:00:00\", \"ticket_count\": 100}, {\"issue_date\": \"2012-07-01T00:00:00\", \"ticket_count\": 414}, {\"issue_date\": \"2012-08-01T00:00:00\", \"ticket_count\": 319}, {\"issue_date\": \"2012-09-01T00:00:00\", \"ticket_count\": 179}, {\"issue_date\": \"2012-10-01T00:00:00\", \"ticket_count\": 171}, {\"issue_date\": \"2012-11-01T00:00:00\", \"ticket_count\": 157}, {\"issue_date\": \"2012-12-01T00:00:00\", \"ticket_count\": 162}, {\"issue_date\": \"2013-01-01T00:00:00\", \"ticket_count\": 196}, {\"issue_date\": \"2013-02-01T00:00:00\", \"ticket_count\": 158}, {\"issue_date\": \"2013-03-01T00:00:00\", \"ticket_count\": 199}, {\"issue_date\": \"2013-04-01T00:00:00\", \"ticket_count\": 187}, {\"issue_date\": \"2013-05-01T00:00:00\", \"ticket_count\": 179}, {\"issue_date\": \"2013-06-01T00:00:00\", \"ticket_count\": 140}, {\"issue_date\": \"2013-07-01T00:00:00\", \"ticket_count\": 499}, {\"issue_date\": \"2013-08-01T00:00:00\", \"ticket_count\": 355}, {\"issue_date\": \"2013-09-01T00:00:00\", \"ticket_count\": 221}, {\"issue_date\": \"2013-10-01T00:00:00\", \"ticket_count\": 208}, {\"issue_date\": \"2013-11-01T00:00:00\", \"ticket_count\": 127}, {\"issue_date\": \"2013-12-01T00:00:00\", \"ticket_count\": 98}, {\"issue_date\": \"2014-01-01T00:00:00\", \"ticket_count\": 100}, {\"issue_date\": \"2014-02-01T00:00:00\", \"ticket_count\": 147}, {\"issue_date\": \"2014-03-01T00:00:00\", \"ticket_count\": 155}, {\"issue_date\": \"2014-04-01T00:00:00\", \"ticket_count\": 144}, {\"issue_date\": \"2014-05-01T00:00:00\", \"ticket_count\": 178}, {\"issue_date\": \"2014-06-01T00:00:00\", \"ticket_count\": 116}, {\"issue_date\": \"2014-07-01T00:00:00\", \"ticket_count\": 267}, {\"issue_date\": \"2014-08-01T00:00:00\", \"ticket_count\": 245}, {\"issue_date\": \"2014-09-01T00:00:00\", \"ticket_count\": 178}, {\"issue_date\": \"2014-10-01T00:00:00\", \"ticket_count\": 165}, {\"issue_date\": \"2014-11-01T00:00:00\", \"ticket_count\": 153}, {\"issue_date\": \"2014-12-01T00:00:00\", \"ticket_count\": 177}, {\"issue_date\": \"2015-01-01T00:00:00\", \"ticket_count\": 179}, {\"issue_date\": \"2015-02-01T00:00:00\", \"ticket_count\": 142}, {\"issue_date\": \"2015-03-01T00:00:00\", \"ticket_count\": 223}, {\"issue_date\": \"2015-04-01T00:00:00\", \"ticket_count\": 191}, {\"issue_date\": \"2015-05-01T00:00:00\", \"ticket_count\": 191}, {\"issue_date\": \"2015-06-01T00:00:00\", \"ticket_count\": 198}, {\"issue_date\": \"2015-07-01T00:00:00\", \"ticket_count\": 217}, {\"issue_date\": \"2015-08-01T00:00:00\", \"ticket_count\": 210}, {\"issue_date\": \"2015-09-01T00:00:00\", \"ticket_count\": 225}, {\"issue_date\": \"2015-10-01T00:00:00\", \"ticket_count\": 245}, {\"issue_date\": \"2015-11-01T00:00:00\", \"ticket_count\": 226}, {\"issue_date\": \"2015-12-01T00:00:00\", \"ticket_count\": 220}, {\"issue_date\": \"2016-01-01T00:00:00\", \"ticket_count\": 202}, {\"issue_date\": \"2016-02-01T00:00:00\", \"ticket_count\": 206}, {\"issue_date\": \"2016-03-01T00:00:00\", \"ticket_count\": 241}, {\"issue_date\": \"2016-04-01T00:00:00\", \"ticket_count\": 203}, {\"issue_date\": \"2016-05-01T00:00:00\", \"ticket_count\": 185}, {\"issue_date\": \"2016-06-01T00:00:00\", \"ticket_count\": 175}, {\"issue_date\": \"2016-07-01T00:00:00\", \"ticket_count\": 160}, {\"issue_date\": \"2016-08-01T00:00:00\", \"ticket_count\": 151}, {\"issue_date\": \"2016-09-01T00:00:00\", \"ticket_count\": 183}, {\"issue_date\": \"2016-10-01T00:00:00\", \"ticket_count\": 220}, {\"issue_date\": \"2016-11-01T00:00:00\", \"ticket_count\": 182}, {\"issue_date\": \"2016-12-01T00:00:00\", \"ticket_count\": 156}, {\"issue_date\": \"2017-01-01T00:00:00\", \"ticket_count\": 238}, {\"issue_date\": \"2017-02-01T00:00:00\", \"ticket_count\": 190}, {\"issue_date\": \"2017-03-01T00:00:00\", \"ticket_count\": 211}, {\"issue_date\": \"2017-04-01T00:00:00\", \"ticket_count\": 191}, {\"issue_date\": \"2017-05-01T00:00:00\", \"ticket_count\": 192}, {\"issue_date\": \"2017-06-01T00:00:00\", \"ticket_count\": 177}, {\"issue_date\": \"2017-07-01T00:00:00\", \"ticket_count\": 166}, {\"issue_date\": \"2017-08-01T00:00:00\", \"ticket_count\": 173}, {\"issue_date\": \"2017-09-01T00:00:00\", \"ticket_count\": 188}, {\"issue_date\": \"2017-10-01T00:00:00\", \"ticket_count\": 169}, {\"issue_date\": \"2017-11-01T00:00:00\", \"ticket_count\": 202}, {\"issue_date\": \"2017-12-01T00:00:00\", \"ticket_count\": 159}, {\"issue_date\": \"2018-01-01T00:00:00\", \"ticket_count\": 168}, {\"issue_date\": \"2018-02-01T00:00:00\", \"ticket_count\": 119}, {\"issue_date\": \"2018-03-01T00:00:00\", \"ticket_count\": 171}, {\"issue_date\": \"2018-04-01T00:00:00\", \"ticket_count\": 153}, {\"issue_date\": \"2018-05-01T00:00:00\", \"ticket_count\": 79}]}}, {\"mode\": \"vega-lite\"});\n",
       "</script>"
      ],
      "text/plain": [
       "alt.Chart(...)"
      ]
     },
     "metadata": {},
     "output_type": "display_data"
    }
   ],
   "source": [
    "df['combined_code'] = df['violation_code'].replace({\n",
    "    '0964125': 'CitySticker',\n",
    "    '0964125B': 'CitySticker'\n",
    "})\n",
    "\n",
    "# Convert issue_date to datetime\n",
    "df['issue_date'] = pd.to_datetime(df['issue_date'], errors='coerce')\n",
    "\n",
    "# Filter for rows where the combined code is 'CitySticker'\n",
    "city_sticker_tickets = df[df['combined_code'] == 'CitySticker']\n",
    "\n",
    "# Group the data by month and count the number of tickets per month\n",
    "city_sticker_tickets_by_month = city_sticker_tickets.groupby(city_sticker_tickets['issue_date'].dt.to_period('M')).size().reset_index(name='ticket_count')\n",
    "\n",
    "# Convert the period back to a datetime object for plotting\n",
    "city_sticker_tickets_by_month['issue_date'] = city_sticker_tickets_by_month['issue_date'].dt.to_timestamp()\n",
    "\n",
    "# Plot using Altair\n",
    "chart = alt.Chart(city_sticker_tickets_by_month).mark_line().encode(\n",
    "    x='issue_date:T',\n",
    "    y='ticket_count:Q',\n",
    "    tooltip=['issue_date:T', 'ticket_count:Q']\n",
    ").properties(\n",
    "    title='Number of Missing City Sticker Tickets Over Time'\n",
    ")\n",
    "\n",
    "# Display the chart\n",
    "chart.show()"
   ]
  },
  {
   "cell_type": "code",
   "execution_count": null,
   "id": "fc312706-2fbc-468d-803b-d00606000198",
   "metadata": {
    "vscode": {
     "languageId": "quarto"
    }
   },
   "outputs": [
    {
     "ename": "NameError",
     "evalue": "name 'city_sticker_by_month' is not defined",
     "output_type": "error",
     "traceback": [
      "\u001b[0;31m---------------------------------------------------------------------------\u001b[0m",
      "\u001b[0;31mNameError\u001b[0m                                 Traceback (most recent call last)",
      "File \u001b[1;32m/Users/hkkkkk/Documents/GitHub/ppha30538_fall2024/30538-dap-ii-problem-set-2-ps2-dap2-python-fall2024/pset2_template.qmd:1\u001b[0m\n\u001b[0;32m----> 1\u001b[0m chart \u001b[39m=\u001b[39m alt\u001b[39m.\u001b[39mChart(city_sticker_by_month)\u001b[39m.\u001b[39mmark_line()\u001b[39m.\u001b[39mencode(\n\u001b[1;32m      2\u001b[0m x\u001b[39m=\u001b[39malt\u001b[39m.\u001b[39mX(\u001b[39m'\u001b[39m\u001b[39missue_date:T\u001b[39m\u001b[39m'\u001b[39m, \n\u001b[1;32m      3\u001b[0m     axis\u001b[39m=\u001b[39malt\u001b[39m.\u001b[39mAxis(\u001b[39mformat\u001b[39m\u001b[39m=\u001b[39m\u001b[39m'\u001b[39m\u001b[39m%\u001b[39m\u001b[39mY-\u001b[39m\u001b[39m%\u001b[39m\u001b[39mm\u001b[39m\u001b[39m'\u001b[39m,  \u001b[39m# Custom date format for better readability\u001b[39;00m\n\u001b[1;32m      4\u001b[0m     labelAngle\u001b[39m=\u001b[39m\u001b[39m-\u001b[39m\u001b[39m45\u001b[39m,  \u001b[39m# Rotate labels for clarity\u001b[39;00m\n\u001b[1;32m      5\u001b[0m     tickCount\u001b[39m=\u001b[39m\u001b[39m'\u001b[39m\u001b[39mmonth\u001b[39m\u001b[39m'\u001b[39m,  \u001b[39m# Show tick for every month\u001b[39;00m\n\u001b[1;32m      6\u001b[0m     title\u001b[39m=\u001b[39m\u001b[39m'\u001b[39m\u001b[39mMonth of Issue\u001b[39m\u001b[39m'\u001b[39m)\n\u001b[1;32m      7\u001b[0m            ),\n\u001b[1;32m      8\u001b[0m     y\u001b[39m=\u001b[39m\u001b[39m'\u001b[39m\u001b[39mticket_count:Q\u001b[39m\u001b[39m'\u001b[39m,\n\u001b[1;32m      9\u001b[0m     tooltip\u001b[39m=\u001b[39m[\u001b[39m'\u001b[39m\u001b[39missue_date\u001b[39m\u001b[39m'\u001b[39m, \u001b[39m'\u001b[39m\u001b[39mticket_count\u001b[39m\u001b[39m'\u001b[39m]\n\u001b[1;32m     10\u001b[0m )\u001b[39m.\u001b[39mproperties(\n\u001b[1;32m     11\u001b[0m     title\u001b[39m=\u001b[39m\u001b[39m'\u001b[39m\u001b[39mNumber of Missing City Sticker Tickets Over Time\u001b[39m\u001b[39m'\u001b[39m\n\u001b[1;32m     12\u001b[0m )\n\u001b[1;32m     14\u001b[0m chart\u001b[39m.\u001b[39mshow()\n",
      "\u001b[0;31mNameError\u001b[0m: name 'city_sticker_by_month' is not defined"
     ]
    }
   ],
   "source": [
    "chart = alt.Chart(city_sticker_by_month).mark_line().encode(\n",
    "x=alt.X('issue_date:T', \n",
    "    axis=alt.Axis(format='%Y-%m',  # Custom date format for better readability\n",
    "    labelAngle=-45,  # Rotate labels for clarity\n",
    "    tickCount='month',  # Show tick for every month\n",
    "    title='Month of Issue')\n",
    "           ),\n",
    "    y='ticket_count:Q',\n",
    "    tooltip=['issue_date', 'ticket_count']\n",
    ").properties(\n",
    "    title='Number of Missing City Sticker Tickets Over Time'\n",
    ")\n",
    "\n",
    "chart.show()"
   ]
  },
  {
   "cell_type": "code",
   "execution_count": null,
   "id": "ccb51b64-df90-4ad9-abfd-aae276f47635",
   "metadata": {
    "vscode": {
     "languageId": "quarto"
    }
   },
   "outputs": [
    {
     "ename": "NameError",
     "evalue": "name 'city_sticker_by_month' is not defined",
     "output_type": "error",
     "traceback": [
      "\u001b[0;31m---------------------------------------------------------------------------\u001b[0m",
      "\u001b[0;31mNameError\u001b[0m                                 Traceback (most recent call last)",
      "File \u001b[1;32m/Users/hkkkkk/Documents/GitHub/ppha30538_fall2024/30538-dap-ii-problem-set-2-ps2-dap2-python-fall2024/pset2_template.qmd:5\u001b[0m\n\u001b[1;32m      1\u001b[0m \u001b[39mimport\u001b[39;00m \u001b[39maltair\u001b[39;00m \u001b[39mas\u001b[39;00m \u001b[39malt\u001b[39;00m\n\u001b[1;32m      3\u001b[0m alt\u001b[39m.\u001b[39mrenderers\u001b[39m.\u001b[39menable(\u001b[39m'\u001b[39m\u001b[39mdefault\u001b[39m\u001b[39m'\u001b[39m)\n\u001b[0;32m----> 5\u001b[0m chart \u001b[39m=\u001b[39m alt\u001b[39m.\u001b[39mChart(city_sticker_by_month)\u001b[39m.\u001b[39mmark_line()\u001b[39m.\u001b[39mencode(\n\u001b[1;32m      6\u001b[0m     x\u001b[39m=\u001b[39malt\u001b[39m.\u001b[39mX(\u001b[39m'\u001b[39m\u001b[39missue_date:T\u001b[39m\u001b[39m'\u001b[39m, \n\u001b[1;32m      7\u001b[0m             axis\u001b[39m=\u001b[39malt\u001b[39m.\u001b[39mAxis(\u001b[39mformat\u001b[39m\u001b[39m=\u001b[39m\u001b[39m'\u001b[39m\u001b[39m%\u001b[39m\u001b[39mY-\u001b[39m\u001b[39m%\u001b[39m\u001b[39mm\u001b[39m\u001b[39m'\u001b[39m,  \n\u001b[1;32m      8\u001b[0m                           labelAngle\u001b[39m=\u001b[39m\u001b[39m-\u001b[39m\u001b[39m45\u001b[39m, \n\u001b[1;32m      9\u001b[0m                           tickCount\u001b[39m=\u001b[39m\u001b[39m'\u001b[39m\u001b[39mmonth\u001b[39m\u001b[39m'\u001b[39m,  \n\u001b[1;32m     10\u001b[0m                           title\u001b[39m=\u001b[39m\u001b[39m'\u001b[39m\u001b[39mMonth of Issue\u001b[39m\u001b[39m'\u001b[39m)\n\u001b[1;32m     11\u001b[0m            ),\n\u001b[1;32m     12\u001b[0m     y\u001b[39m=\u001b[39m\u001b[39m'\u001b[39m\u001b[39mticket_count:Q\u001b[39m\u001b[39m'\u001b[39m,\n\u001b[1;32m     13\u001b[0m     tooltip\u001b[39m=\u001b[39m[\u001b[39m'\u001b[39m\u001b[39missue_date\u001b[39m\u001b[39m'\u001b[39m, \u001b[39m'\u001b[39m\u001b[39mticket_count\u001b[39m\u001b[39m'\u001b[39m]\n\u001b[1;32m     14\u001b[0m )\u001b[39m.\u001b[39mproperties(\n\u001b[1;32m     15\u001b[0m     title\u001b[39m=\u001b[39m\u001b[39m'\u001b[39m\u001b[39mNumber of Missing City Sticker Tickets Over Time\u001b[39m\u001b[39m'\u001b[39m\n\u001b[1;32m     16\u001b[0m )\n\u001b[1;32m     18\u001b[0m chart\u001b[39m.\u001b[39mshow()\n",
      "\u001b[0;31mNameError\u001b[0m: name 'city_sticker_by_month' is not defined"
     ]
    }
   ],
   "source": [
    "import altair as alt\n",
    "\n",
    "alt.renderers.enable('default')\n",
    "\n",
    "chart = alt.Chart(city_sticker_by_month).mark_line().encode(\n",
    "    x=alt.X('issue_date:T', \n",
    "            axis=alt.Axis(format='%Y-%m',  \n",
    "                          labelAngle=-45, \n",
    "                          tickCount='month',  \n",
    "                          title='Month of Issue')\n",
    "           ),\n",
    "    y='ticket_count:Q',\n",
    "    tooltip=['issue_date', 'ticket_count']\n",
    ").properties(\n",
    "    title='Number of Missing City Sticker Tickets Over Time'\n",
    ")\n",
    "\n",
    "chart.show()"
   ]
  },
  {
   "cell_type": "code",
   "execution_count": null,
   "id": "3d164f33-ca37-47fc-9d3d-7528a691a612",
   "metadata": {
    "vscode": {
     "languageId": "quarto"
    }
   },
   "outputs": [
    {
     "data": {
      "text/html": [
       "\n",
       "<style>\n",
       "  #altair-viz-e6b6d439fe5d4cb78cdfaf80e58a0ec3.vega-embed {\n",
       "    width: 100%;\n",
       "    display: flex;\n",
       "  }\n",
       "\n",
       "  #altair-viz-e6b6d439fe5d4cb78cdfaf80e58a0ec3.vega-embed details,\n",
       "  #altair-viz-e6b6d439fe5d4cb78cdfaf80e58a0ec3.vega-embed details summary {\n",
       "    position: relative;\n",
       "  }\n",
       "</style>\n",
       "<div id=\"altair-viz-e6b6d439fe5d4cb78cdfaf80e58a0ec3\"></div>\n",
       "<script type=\"text/javascript\">\n",
       "  var VEGA_DEBUG = (typeof VEGA_DEBUG == \"undefined\") ? {} : VEGA_DEBUG;\n",
       "  (function(spec, embedOpt){\n",
       "    let outputDiv = document.currentScript.previousElementSibling;\n",
       "    if (outputDiv.id !== \"altair-viz-e6b6d439fe5d4cb78cdfaf80e58a0ec3\") {\n",
       "      outputDiv = document.getElementById(\"altair-viz-e6b6d439fe5d4cb78cdfaf80e58a0ec3\");\n",
       "    }\n",
       "    const paths = {\n",
       "      \"vega\": \"https://cdn.jsdelivr.net/npm/vega@5?noext\",\n",
       "      \"vega-lib\": \"https://cdn.jsdelivr.net/npm/vega-lib?noext\",\n",
       "      \"vega-lite\": \"https://cdn.jsdelivr.net/npm/vega-lite@5.20.1?noext\",\n",
       "      \"vega-embed\": \"https://cdn.jsdelivr.net/npm/vega-embed@6?noext\",\n",
       "    };\n",
       "\n",
       "    function maybeLoadScript(lib, version) {\n",
       "      var key = `${lib.replace(\"-\", \"\")}_version`;\n",
       "      return (VEGA_DEBUG[key] == version) ?\n",
       "        Promise.resolve(paths[lib]) :\n",
       "        new Promise(function(resolve, reject) {\n",
       "          var s = document.createElement('script');\n",
       "          document.getElementsByTagName(\"head\")[0].appendChild(s);\n",
       "          s.async = true;\n",
       "          s.onload = () => {\n",
       "            VEGA_DEBUG[key] = version;\n",
       "            return resolve(paths[lib]);\n",
       "          };\n",
       "          s.onerror = () => reject(`Error loading script: ${paths[lib]}`);\n",
       "          s.src = paths[lib];\n",
       "        });\n",
       "    }\n",
       "\n",
       "    function showError(err) {\n",
       "      outputDiv.innerHTML = `<div class=\"error\" style=\"color:red;\">${err}</div>`;\n",
       "      throw err;\n",
       "    }\n",
       "\n",
       "    function displayChart(vegaEmbed) {\n",
       "      vegaEmbed(outputDiv, spec, embedOpt)\n",
       "        .catch(err => showError(`Javascript Error: ${err.message}<br>This usually means there's a typo in your chart specification. See the javascript console for the full traceback.`));\n",
       "    }\n",
       "\n",
       "    if(typeof define === \"function\" && define.amd) {\n",
       "      requirejs.config({paths});\n",
       "      require([\"vega-embed\"], displayChart, err => showError(`Error loading script: ${err.message}`));\n",
       "    } else {\n",
       "      maybeLoadScript(\"vega\", \"5\")\n",
       "        .then(() => maybeLoadScript(\"vega-lite\", \"5.20.1\"))\n",
       "        .then(() => maybeLoadScript(\"vega-embed\", \"6\"))\n",
       "        .catch(showError)\n",
       "        .then(() => displayChart(vegaEmbed));\n",
       "    }\n",
       "  })({\"config\": {\"view\": {\"continuousWidth\": 300, \"continuousHeight\": 300}}, \"data\": {\"name\": \"data-953883e3eaeff663890382dbdbd39466\"}, \"mark\": {\"type\": \"line\"}, \"encoding\": {\"tooltip\": [{\"field\": \"issue_date\", \"type\": \"temporal\"}, {\"field\": \"ticket_count\", \"type\": \"quantitative\"}], \"x\": {\"field\": \"issue_date\", \"type\": \"temporal\"}, \"y\": {\"field\": \"ticket_count\", \"type\": \"quantitative\"}}, \"title\": \"Number of Missing City Sticker Tickets Over Time\", \"$schema\": \"https://vega.github.io/schema/vega-lite/v5.20.1.json\", \"datasets\": {\"data-953883e3eaeff663890382dbdbd39466\": [{\"issue_date\": \"2007-01-01T00:00:00\", \"ticket_count\": 160}, {\"issue_date\": \"2007-02-01T00:00:00\", \"ticket_count\": 104}, {\"issue_date\": \"2007-03-01T00:00:00\", \"ticket_count\": 161}, {\"issue_date\": \"2007-04-01T00:00:00\", \"ticket_count\": 158}, {\"issue_date\": \"2007-05-01T00:00:00\", \"ticket_count\": 126}, {\"issue_date\": \"2007-06-01T00:00:00\", \"ticket_count\": 80}, {\"issue_date\": \"2007-07-01T00:00:00\", \"ticket_count\": 399}, {\"issue_date\": \"2007-08-01T00:00:00\", \"ticket_count\": 345}, {\"issue_date\": \"2007-09-01T00:00:00\", \"ticket_count\": 224}, {\"issue_date\": \"2007-10-01T00:00:00\", \"ticket_count\": 221}, {\"issue_date\": \"2007-11-01T00:00:00\", \"ticket_count\": 168}, {\"issue_date\": \"2007-12-01T00:00:00\", \"ticket_count\": 118}, {\"issue_date\": \"2008-01-01T00:00:00\", \"ticket_count\": 132}, {\"issue_date\": \"2008-02-01T00:00:00\", \"ticket_count\": 149}, {\"issue_date\": \"2008-03-01T00:00:00\", \"ticket_count\": 192}, {\"issue_date\": \"2008-04-01T00:00:00\", \"ticket_count\": 166}, {\"issue_date\": \"2008-05-01T00:00:00\", \"ticket_count\": 139}, {\"issue_date\": \"2008-06-01T00:00:00\", \"ticket_count\": 72}, {\"issue_date\": \"2008-07-01T00:00:00\", \"ticket_count\": 382}, {\"issue_date\": \"2008-08-01T00:00:00\", \"ticket_count\": 342}, {\"issue_date\": \"2008-09-01T00:00:00\", \"ticket_count\": 213}, {\"issue_date\": \"2008-10-01T00:00:00\", \"ticket_count\": 197}, {\"issue_date\": \"2008-11-01T00:00:00\", \"ticket_count\": 148}, {\"issue_date\": \"2008-12-01T00:00:00\", \"ticket_count\": 80}, {\"issue_date\": \"2009-01-01T00:00:00\", \"ticket_count\": 81}, {\"issue_date\": \"2009-02-01T00:00:00\", \"ticket_count\": 121}, {\"issue_date\": \"2009-03-01T00:00:00\", \"ticket_count\": 171}, {\"issue_date\": \"2009-04-01T00:00:00\", \"ticket_count\": 149}, {\"issue_date\": \"2009-05-01T00:00:00\", \"ticket_count\": 132}, {\"issue_date\": \"2009-06-01T00:00:00\", \"ticket_count\": 89}, {\"issue_date\": \"2009-07-01T00:00:00\", \"ticket_count\": 392}, {\"issue_date\": \"2009-08-01T00:00:00\", \"ticket_count\": 347}, {\"issue_date\": \"2009-09-01T00:00:00\", \"ticket_count\": 211}, {\"issue_date\": \"2009-10-01T00:00:00\", \"ticket_count\": 188}, {\"issue_date\": \"2009-11-01T00:00:00\", \"ticket_count\": 170}, {\"issue_date\": \"2009-12-01T00:00:00\", \"ticket_count\": 98}, {\"issue_date\": \"2010-01-01T00:00:00\", \"ticket_count\": 156}, {\"issue_date\": \"2010-02-01T00:00:00\", \"ticket_count\": 129}, {\"issue_date\": \"2010-03-01T00:00:00\", \"ticket_count\": 153}, {\"issue_date\": \"2010-04-01T00:00:00\", \"ticket_count\": 138}, {\"issue_date\": \"2010-05-01T00:00:00\", \"ticket_count\": 140}, {\"issue_date\": \"2010-06-01T00:00:00\", \"ticket_count\": 99}, {\"issue_date\": \"2010-07-01T00:00:00\", \"ticket_count\": 26}, {\"issue_date\": \"2010-08-01T00:00:00\", \"ticket_count\": 425}, {\"issue_date\": \"2010-09-01T00:00:00\", \"ticket_count\": 237}, {\"issue_date\": \"2010-10-01T00:00:00\", \"ticket_count\": 197}, {\"issue_date\": \"2010-11-01T00:00:00\", \"ticket_count\": 168}, {\"issue_date\": \"2010-12-01T00:00:00\", \"ticket_count\": 117}, {\"issue_date\": \"2011-01-01T00:00:00\", \"ticket_count\": 153}, {\"issue_date\": \"2011-02-01T00:00:00\", \"ticket_count\": 87}, {\"issue_date\": \"2011-03-01T00:00:00\", \"ticket_count\": 147}, {\"issue_date\": \"2011-04-01T00:00:00\", \"ticket_count\": 135}, {\"issue_date\": \"2011-05-01T00:00:00\", \"ticket_count\": 134}, {\"issue_date\": \"2011-06-01T00:00:00\", \"ticket_count\": 78}, {\"issue_date\": \"2011-07-01T00:00:00\", \"ticket_count\": 317}, {\"issue_date\": \"2011-08-01T00:00:00\", \"ticket_count\": 313}, {\"issue_date\": \"2011-09-01T00:00:00\", \"ticket_count\": 171}, {\"issue_date\": \"2011-10-01T00:00:00\", \"ticket_count\": 136}, {\"issue_date\": \"2011-11-01T00:00:00\", \"ticket_count\": 139}, {\"issue_date\": \"2011-12-01T00:00:00\", \"ticket_count\": 123}, {\"issue_date\": \"2012-01-01T00:00:00\", \"ticket_count\": 114}, {\"issue_date\": \"2012-02-01T00:00:00\", \"ticket_count\": 138}, {\"issue_date\": \"2012-03-01T00:00:00\", \"ticket_count\": 181}, {\"issue_date\": \"2012-04-01T00:00:00\", \"ticket_count\": 142}, {\"issue_date\": \"2012-05-01T00:00:00\", \"ticket_count\": 115}, {\"issue_date\": \"2012-06-01T00:00:00\", \"ticket_count\": 100}, {\"issue_date\": \"2012-07-01T00:00:00\", \"ticket_count\": 414}, {\"issue_date\": \"2012-08-01T00:00:00\", \"ticket_count\": 319}, {\"issue_date\": \"2012-09-01T00:00:00\", \"ticket_count\": 179}, {\"issue_date\": \"2012-10-01T00:00:00\", \"ticket_count\": 171}, {\"issue_date\": \"2012-11-01T00:00:00\", \"ticket_count\": 157}, {\"issue_date\": \"2012-12-01T00:00:00\", \"ticket_count\": 162}, {\"issue_date\": \"2013-01-01T00:00:00\", \"ticket_count\": 196}, {\"issue_date\": \"2013-02-01T00:00:00\", \"ticket_count\": 158}, {\"issue_date\": \"2013-03-01T00:00:00\", \"ticket_count\": 199}, {\"issue_date\": \"2013-04-01T00:00:00\", \"ticket_count\": 187}, {\"issue_date\": \"2013-05-01T00:00:00\", \"ticket_count\": 179}, {\"issue_date\": \"2013-06-01T00:00:00\", \"ticket_count\": 140}, {\"issue_date\": \"2013-07-01T00:00:00\", \"ticket_count\": 499}, {\"issue_date\": \"2013-08-01T00:00:00\", \"ticket_count\": 355}, {\"issue_date\": \"2013-09-01T00:00:00\", \"ticket_count\": 221}, {\"issue_date\": \"2013-10-01T00:00:00\", \"ticket_count\": 208}, {\"issue_date\": \"2013-11-01T00:00:00\", \"ticket_count\": 127}, {\"issue_date\": \"2013-12-01T00:00:00\", \"ticket_count\": 98}, {\"issue_date\": \"2014-01-01T00:00:00\", \"ticket_count\": 100}, {\"issue_date\": \"2014-02-01T00:00:00\", \"ticket_count\": 147}, {\"issue_date\": \"2014-03-01T00:00:00\", \"ticket_count\": 155}, {\"issue_date\": \"2014-04-01T00:00:00\", \"ticket_count\": 144}, {\"issue_date\": \"2014-05-01T00:00:00\", \"ticket_count\": 178}, {\"issue_date\": \"2014-06-01T00:00:00\", \"ticket_count\": 116}, {\"issue_date\": \"2014-07-01T00:00:00\", \"ticket_count\": 267}, {\"issue_date\": \"2014-08-01T00:00:00\", \"ticket_count\": 245}, {\"issue_date\": \"2014-09-01T00:00:00\", \"ticket_count\": 178}, {\"issue_date\": \"2014-10-01T00:00:00\", \"ticket_count\": 165}, {\"issue_date\": \"2014-11-01T00:00:00\", \"ticket_count\": 153}, {\"issue_date\": \"2014-12-01T00:00:00\", \"ticket_count\": 177}, {\"issue_date\": \"2015-01-01T00:00:00\", \"ticket_count\": 179}, {\"issue_date\": \"2015-02-01T00:00:00\", \"ticket_count\": 142}, {\"issue_date\": \"2015-03-01T00:00:00\", \"ticket_count\": 223}, {\"issue_date\": \"2015-04-01T00:00:00\", \"ticket_count\": 191}, {\"issue_date\": \"2015-05-01T00:00:00\", \"ticket_count\": 191}, {\"issue_date\": \"2015-06-01T00:00:00\", \"ticket_count\": 198}, {\"issue_date\": \"2015-07-01T00:00:00\", \"ticket_count\": 217}, {\"issue_date\": \"2015-08-01T00:00:00\", \"ticket_count\": 210}, {\"issue_date\": \"2015-09-01T00:00:00\", \"ticket_count\": 225}, {\"issue_date\": \"2015-10-01T00:00:00\", \"ticket_count\": 245}, {\"issue_date\": \"2015-11-01T00:00:00\", \"ticket_count\": 226}, {\"issue_date\": \"2015-12-01T00:00:00\", \"ticket_count\": 220}, {\"issue_date\": \"2016-01-01T00:00:00\", \"ticket_count\": 202}, {\"issue_date\": \"2016-02-01T00:00:00\", \"ticket_count\": 206}, {\"issue_date\": \"2016-03-01T00:00:00\", \"ticket_count\": 241}, {\"issue_date\": \"2016-04-01T00:00:00\", \"ticket_count\": 203}, {\"issue_date\": \"2016-05-01T00:00:00\", \"ticket_count\": 185}, {\"issue_date\": \"2016-06-01T00:00:00\", \"ticket_count\": 175}, {\"issue_date\": \"2016-07-01T00:00:00\", \"ticket_count\": 160}, {\"issue_date\": \"2016-08-01T00:00:00\", \"ticket_count\": 151}, {\"issue_date\": \"2016-09-01T00:00:00\", \"ticket_count\": 183}, {\"issue_date\": \"2016-10-01T00:00:00\", \"ticket_count\": 220}, {\"issue_date\": \"2016-11-01T00:00:00\", \"ticket_count\": 182}, {\"issue_date\": \"2016-12-01T00:00:00\", \"ticket_count\": 156}, {\"issue_date\": \"2017-01-01T00:00:00\", \"ticket_count\": 238}, {\"issue_date\": \"2017-02-01T00:00:00\", \"ticket_count\": 190}, {\"issue_date\": \"2017-03-01T00:00:00\", \"ticket_count\": 211}, {\"issue_date\": \"2017-04-01T00:00:00\", \"ticket_count\": 191}, {\"issue_date\": \"2017-05-01T00:00:00\", \"ticket_count\": 192}, {\"issue_date\": \"2017-06-01T00:00:00\", \"ticket_count\": 177}, {\"issue_date\": \"2017-07-01T00:00:00\", \"ticket_count\": 166}, {\"issue_date\": \"2017-08-01T00:00:00\", \"ticket_count\": 173}, {\"issue_date\": \"2017-09-01T00:00:00\", \"ticket_count\": 188}, {\"issue_date\": \"2017-10-01T00:00:00\", \"ticket_count\": 169}, {\"issue_date\": \"2017-11-01T00:00:00\", \"ticket_count\": 202}, {\"issue_date\": \"2017-12-01T00:00:00\", \"ticket_count\": 159}, {\"issue_date\": \"2018-01-01T00:00:00\", \"ticket_count\": 168}, {\"issue_date\": \"2018-02-01T00:00:00\", \"ticket_count\": 119}, {\"issue_date\": \"2018-03-01T00:00:00\", \"ticket_count\": 171}, {\"issue_date\": \"2018-04-01T00:00:00\", \"ticket_count\": 153}, {\"issue_date\": \"2018-05-01T00:00:00\", \"ticket_count\": 79}]}}, {\"mode\": \"vega-lite\"});\n",
       "</script>"
      ],
      "text/plain": [
       "alt.Chart(...)"
      ]
     },
     "metadata": {},
     "output_type": "display_data"
    }
   ],
   "source": [
    "df['combined_code'] = df['violation_code'].replace({\n",
    "    '0964125': 'CitySticker',\n",
    "    '0964125B': 'CitySticker'\n",
    "})\n",
    "\n",
    "df['issue_date'] = pd.to_datetime(df['issue_date'], errors='coerce')\n",
    "\n",
    "city_sticker_tickets = df[df['combined_code'] == 'CitySticker']\n",
    "\n",
    "city_sticker_tickets_by_month = city_sticker_tickets.groupby(city_sticker_tickets['issue_date'].dt.to_period('M')).size().reset_index(name='ticket_count')\n",
    "\n",
    "city_sticker_tickets_by_month['issue_date'] = city_sticker_tickets_by_month['issue_date'].dt.to_timestamp()\n",
    "\n",
    "chart = alt.Chart(city_sticker_tickets_by_month).mark_line().encode(\n",
    "    x='issue_date:T',\n",
    "    y='ticket_count:Q',\n",
    "    tooltip=['issue_date:T', 'ticket_count:Q']\n",
    ").properties(\n",
    "    title='Number of Missing City Sticker Tickets Over Time'\n",
    ")\n",
    "\n",
    "chart.show()"
   ]
  },
  {
   "cell_type": "code",
   "execution_count": null,
   "id": "6ec27a92-442f-4bf5-94c2-217e1e17f247",
   "metadata": {
    "vscode": {
     "languageId": "quarto"
    }
   },
   "outputs": [
    {
     "ename": "NameError",
     "evalue": "name 'city_sticker_by_month' is not defined",
     "output_type": "error",
     "traceback": [
      "\u001b[0;31m---------------------------------------------------------------------------\u001b[0m",
      "\u001b[0;31mNameError\u001b[0m                                 Traceback (most recent call last)",
      "File \u001b[1;32m/Users/hkkkkk/Documents/GitHub/ppha30538_fall2024/30538-dap-ii-problem-set-2-ps2-dap2-python-fall2024/pset2_template.qmd:5\u001b[0m\n\u001b[1;32m      1\u001b[0m \u001b[39mimport\u001b[39;00m \u001b[39maltair\u001b[39;00m \u001b[39mas\u001b[39;00m \u001b[39malt\u001b[39;00m\n\u001b[1;32m      3\u001b[0m alt\u001b[39m.\u001b[39mrenderers\u001b[39m.\u001b[39menable(\u001b[39m'\u001b[39m\u001b[39mdefault\u001b[39m\u001b[39m'\u001b[39m)\n\u001b[0;32m----> 5\u001b[0m chart \u001b[39m=\u001b[39m alt\u001b[39m.\u001b[39mChart(city_sticker_by_month)\u001b[39m.\u001b[39mmark_line()\u001b[39m.\u001b[39mencode(\n\u001b[1;32m      6\u001b[0m     x\u001b[39m=\u001b[39malt\u001b[39m.\u001b[39mX(\u001b[39m'\u001b[39m\u001b[39missue_date:T\u001b[39m\u001b[39m'\u001b[39m, \n\u001b[1;32m      7\u001b[0m             axis\u001b[39m=\u001b[39malt\u001b[39m.\u001b[39mAxis(\u001b[39mformat\u001b[39m\u001b[39m=\u001b[39m\u001b[39m'\u001b[39m\u001b[39m%\u001b[39m\u001b[39mY-\u001b[39m\u001b[39m%\u001b[39m\u001b[39mm\u001b[39m\u001b[39m'\u001b[39m,  \n\u001b[1;32m      8\u001b[0m                           labelAngle\u001b[39m=\u001b[39m\u001b[39m-\u001b[39m\u001b[39m45\u001b[39m, \n\u001b[1;32m      9\u001b[0m                           tickCount\u001b[39m=\u001b[39m\u001b[39m'\u001b[39m\u001b[39mmonth\u001b[39m\u001b[39m'\u001b[39m,  \n\u001b[1;32m     10\u001b[0m                           title\u001b[39m=\u001b[39m\u001b[39m'\u001b[39m\u001b[39mMonth of Issue\u001b[39m\u001b[39m'\u001b[39m)\n\u001b[1;32m     11\u001b[0m            ),\n\u001b[1;32m     12\u001b[0m     y\u001b[39m=\u001b[39m\u001b[39m'\u001b[39m\u001b[39mticket_count:Q\u001b[39m\u001b[39m'\u001b[39m,\n\u001b[1;32m     13\u001b[0m     tooltip\u001b[39m=\u001b[39m[\u001b[39m'\u001b[39m\u001b[39missue_date\u001b[39m\u001b[39m'\u001b[39m, \u001b[39m'\u001b[39m\u001b[39mticket_count\u001b[39m\u001b[39m'\u001b[39m]\n\u001b[1;32m     14\u001b[0m )\u001b[39m.\u001b[39mproperties(\n\u001b[1;32m     15\u001b[0m     title\u001b[39m=\u001b[39m\u001b[39m'\u001b[39m\u001b[39mNumber of Missing City Sticker Tickets Over Time\u001b[39m\u001b[39m'\u001b[39m\n\u001b[1;32m     16\u001b[0m )\n\u001b[1;32m     18\u001b[0m chart\u001b[39m.\u001b[39mshow()\n",
      "\u001b[0;31mNameError\u001b[0m: name 'city_sticker_by_month' is not defined"
     ]
    }
   ],
   "source": [
    "import altair as alt\n",
    "\n",
    "alt.renderers.enable('default')\n",
    "\n",
    "chart = alt.Chart(city_sticker_by_month).mark_line().encode(\n",
    "    x=alt.X('issue_date:T', \n",
    "            axis=alt.Axis(format='%Y-%m',  \n",
    "                          labelAngle=-45, \n",
    "                          tickCount='month',  \n",
    "                          title='Month of Issue')\n",
    "           ),\n",
    "    y='ticket_count:Q',\n",
    "    tooltip=['issue_date', 'ticket_count']\n",
    ").properties(\n",
    "    title='Number of Missing City Sticker Tickets Over Time'\n",
    ")\n",
    "\n",
    "chart.show()"
   ]
  },
  {
   "cell_type": "code",
   "execution_count": null,
   "id": "3a7a4175-f16f-4cd2-b9f6-f6559fc745ba",
   "metadata": {
    "vscode": {
     "languageId": "quarto"
    }
   },
   "outputs": [
    {
     "ename": "ParserError",
     "evalue": "Error tokenizing data. C error: Expected 1 fields in line 5, saw 2\n",
     "output_type": "error",
     "traceback": [
      "\u001b[0;31m---------------------------------------------------------------------------\u001b[0m",
      "\u001b[0;31mParserError\u001b[0m                               Traceback (most recent call last)",
      "File \u001b[1;32m/Users/hkkkkk/Documents/GitHub/ppha30538_fall2024/30538-dap-ii-problem-set-2-ps2-dap2-python-fall2024/pset2_template.qmd:5\u001b[0m\n\u001b[1;32m      2\u001b[0m \u001b[39mimport\u001b[39;00m \u001b[39maltair\u001b[39;00m \u001b[39mas\u001b[39;00m \u001b[39malt\u001b[39;00m\n\u001b[1;32m      4\u001b[0m \u001b[39m# Load the dataset (replace with your actual file path)\u001b[39;00m\n\u001b[0;32m----> 5\u001b[0m df \u001b[39m=\u001b[39m pd\u001b[39m.\u001b[39mread_csv(\u001b[39m'\u001b[39m\u001b[39m/Users/hkkkkk/Documents/GitHub/ppha30538_fall2024/30538-dap-ii-problem-set-2-ps2-dap2-python-fall2024/pset2_template.qmd\u001b[39m\u001b[39m'\u001b[39m)\n\u001b[1;32m      7\u001b[0m \u001b[39m# Step 1: Combine the two violation codes '0964125' and '0976170' into a new column 'combined_code'\u001b[39;00m\n\u001b[1;32m      8\u001b[0m df[\u001b[39m'\u001b[39m\u001b[39mcombined_code\u001b[39m\u001b[39m'\u001b[39m] \u001b[39m=\u001b[39m df[\u001b[39m'\u001b[39m\u001b[39mviolation_code\u001b[39m\u001b[39m'\u001b[39m]\u001b[39m.\u001b[39mreplace({\u001b[39m'\u001b[39m\u001b[39m0964125\u001b[39m\u001b[39m'\u001b[39m: \u001b[39m'\u001b[39m\u001b[39mCitySticker\u001b[39m\u001b[39m'\u001b[39m, \u001b[39m'\u001b[39m\u001b[39m0976170\u001b[39m\u001b[39m'\u001b[39m: \u001b[39m'\u001b[39m\u001b[39mCitySticker\u001b[39m\u001b[39m'\u001b[39m, \u001b[39m'\u001b[39m\u001b[39m0964125B\u001b[39m\u001b[39m'\u001b[39m: \u001b[39m'\u001b[39m\u001b[39mCitySticker\u001b[39m\u001b[39m'\u001b[39m})\n",
      "File \u001b[0;32m/opt/anaconda3/lib/python3.11/site-packages/pandas/io/parsers/readers.py:1026\u001b[0m, in \u001b[0;36mread_csv\u001b[0;34m(filepath_or_buffer, sep, delimiter, header, names, index_col, usecols, dtype, engine, converters, true_values, false_values, skipinitialspace, skiprows, skipfooter, nrows, na_values, keep_default_na, na_filter, verbose, skip_blank_lines, parse_dates, infer_datetime_format, keep_date_col, date_parser, date_format, dayfirst, cache_dates, iterator, chunksize, compression, thousands, decimal, lineterminator, quotechar, quoting, doublequote, escapechar, comment, encoding, encoding_errors, dialect, on_bad_lines, delim_whitespace, low_memory, memory_map, float_precision, storage_options, dtype_backend)\u001b[0m\n\u001b[1;32m   1013\u001b[0m kwds_defaults \u001b[39m=\u001b[39m _refine_defaults_read(\n\u001b[1;32m   1014\u001b[0m     dialect,\n\u001b[1;32m   1015\u001b[0m     delimiter,\n\u001b[0;32m   (...)\u001b[0m\n\u001b[1;32m   1022\u001b[0m     dtype_backend\u001b[39m=\u001b[39mdtype_backend,\n\u001b[1;32m   1023\u001b[0m )\n\u001b[1;32m   1024\u001b[0m kwds\u001b[39m.\u001b[39mupdate(kwds_defaults)\n\u001b[0;32m-> 1026\u001b[0m \u001b[39mreturn\u001b[39;00m _read(filepath_or_buffer, kwds)\n",
      "File \u001b[0;32m/opt/anaconda3/lib/python3.11/site-packages/pandas/io/parsers/readers.py:626\u001b[0m, in \u001b[0;36m_read\u001b[0;34m(filepath_or_buffer, kwds)\u001b[0m\n\u001b[1;32m    623\u001b[0m     \u001b[39mreturn\u001b[39;00m parser\n\u001b[1;32m    625\u001b[0m \u001b[39mwith\u001b[39;00m parser:\n\u001b[0;32m--> 626\u001b[0m     \u001b[39mreturn\u001b[39;00m parser\u001b[39m.\u001b[39mread(nrows)\n",
      "File \u001b[0;32m/opt/anaconda3/lib/python3.11/site-packages/pandas/io/parsers/readers.py:1923\u001b[0m, in \u001b[0;36mTextFileReader.read\u001b[0;34m(self, nrows)\u001b[0m\n\u001b[1;32m   1916\u001b[0m nrows \u001b[39m=\u001b[39m validate_integer(\u001b[39m\"\u001b[39m\u001b[39mnrows\u001b[39m\u001b[39m\"\u001b[39m, nrows)\n\u001b[1;32m   1917\u001b[0m \u001b[39mtry\u001b[39;00m:\n\u001b[1;32m   1918\u001b[0m     \u001b[39m# error: \"ParserBase\" has no attribute \"read\"\u001b[39;00m\n\u001b[1;32m   1919\u001b[0m     (\n\u001b[1;32m   1920\u001b[0m         index,\n\u001b[1;32m   1921\u001b[0m         columns,\n\u001b[1;32m   1922\u001b[0m         col_dict,\n\u001b[0;32m-> 1923\u001b[0m     ) \u001b[39m=\u001b[39m \u001b[39mself\u001b[39m\u001b[39m.\u001b[39m_engine\u001b[39m.\u001b[39mread(  \u001b[39m# type: ignore[attr-defined]\u001b[39;00m\n\u001b[1;32m   1924\u001b[0m         nrows\n\u001b[1;32m   1925\u001b[0m     )\n\u001b[1;32m   1926\u001b[0m \u001b[39mexcept\u001b[39;00m \u001b[39mException\u001b[39;00m:\n\u001b[1;32m   1927\u001b[0m     \u001b[39mself\u001b[39m\u001b[39m.\u001b[39mclose()\n",
      "File \u001b[0;32m/opt/anaconda3/lib/python3.11/site-packages/pandas/io/parsers/c_parser_wrapper.py:234\u001b[0m, in \u001b[0;36mCParserWrapper.read\u001b[0;34m(self, nrows)\u001b[0m\n\u001b[1;32m    232\u001b[0m \u001b[39mtry\u001b[39;00m:\n\u001b[1;32m    233\u001b[0m     \u001b[39mif\u001b[39;00m \u001b[39mself\u001b[39m\u001b[39m.\u001b[39mlow_memory:\n\u001b[0;32m--> 234\u001b[0m         chunks \u001b[39m=\u001b[39m \u001b[39mself\u001b[39m\u001b[39m.\u001b[39m_reader\u001b[39m.\u001b[39mread_low_memory(nrows)\n\u001b[1;32m    235\u001b[0m         \u001b[39m# destructive to chunks\u001b[39;00m\n\u001b[1;32m    236\u001b[0m         data \u001b[39m=\u001b[39m _concatenate_chunks(chunks)\n",
      "File \u001b[0;32mparsers.pyx:838\u001b[0m, in \u001b[0;36mpandas._libs.parsers.TextReader.read_low_memory\u001b[0;34m()\u001b[0m\n",
      "File \u001b[0;32mparsers.pyx:905\u001b[0m, in \u001b[0;36mpandas._libs.parsers.TextReader._read_rows\u001b[0;34m()\u001b[0m\n",
      "File \u001b[0;32mparsers.pyx:874\u001b[0m, in \u001b[0;36mpandas._libs.parsers.TextReader._tokenize_rows\u001b[0;34m()\u001b[0m\n",
      "File \u001b[0;32mparsers.pyx:891\u001b[0m, in \u001b[0;36mpandas._libs.parsers.TextReader._check_tokenize_status\u001b[0;34m()\u001b[0m\n",
      "File \u001b[0;32mparsers.pyx:2061\u001b[0m, in \u001b[0;36mpandas._libs.parsers.raise_parser_error\u001b[0;34m()\u001b[0m\n",
      "\u001b[0;31mParserError\u001b[0m: Error tokenizing data. C error: Expected 1 fields in line 5, saw 2\n"
     ]
    }
   ],
   "source": [
    "import pandas as pd\n",
    "import altair as alt\n",
    "\n",
    "# Load the dataset (replace with your actual file path)\n",
    "df = pd.read_csv('/Users/hkkkkk/Documents/GitHub/ppha30538_fall2024/30538-dap-ii-problem-set-2-ps2-dap2-python-fall2024/pset2_template.qmd')\n",
    "\n",
    "# Step 1: Combine the two violation codes '0964125' and '0976170' into a new column 'combined_code'\n",
    "df['combined_code'] = df['violation_code'].replace({'0964125': 'CitySticker', '0976170': 'CitySticker', '0964125B': 'CitySticker'})\n",
    "\n",
    "# Step 2: Filter for city sticker tickets based on the new combined code\n",
    "city_sticker_tickets = df[df['combined_code'] == 'CitySticker']\n",
    "\n",
    "# Step 3: Convert the issue_date column to datetime format\n",
    "city_sticker_tickets['issue_date'] = pd.to_datetime(city_sticker_tickets['issue_date'], errors='coerce')\n",
    "\n",
    "# Step 4: Group by month and count the number of tickets\n",
    "city_sticker_by_month = city_sticker_tickets.groupby(city_sticker_tickets['issue_date'].dt.to_period('M')).size().reset_index(name='ticket_count')\n",
    "\n",
    "# Convert the period back to a datetime object for plotting\n",
    "city_sticker_by_month['issue_date'] = city_sticker_by_month['issue_date'].dt.to_timestamp()\n",
    "\n",
    "# Step 5: Create a line chart of ticket counts over time with custom date labels\n",
    "chart = alt.Chart(city_sticker_by_month).mark_line().encode(\n",
    "    x=alt.X('issue_date:T', \n",
    "            axis=alt.Axis(format='%Y-%m',  # Custom date format for better readability\n",
    "                          labelAngle=-45,  # Rotate labels for clarity\n",
    "                          tickCount='month',  # Show tick for every month\n",
    "                          title='Month of Issue')\n",
    "           ),\n",
    "    y='ticket_count:Q',\n",
    "    tooltip=['issue_date', 'ticket_count']\n",
    ").properties(\n",
    "    title='Number of Missing City Sticker Tickets Over Time'\n",
    ")\n",
    "\n",
    "# Render the chart\n",
    "chart.show()"
   ]
  },
  {
   "cell_type": "code",
   "execution_count": null,
   "id": "6e8ad88b-1eb7-48dc-8113-c3257b03f30f",
   "metadata": {
    "vscode": {
     "languageId": "quarto"
    }
   },
   "outputs": [
    {
     "ename": "NameError",
     "evalue": "name 'city_sticker_by_month' is not defined",
     "output_type": "error",
     "traceback": [
      "\u001b[0;31m---------------------------------------------------------------------------\u001b[0m",
      "\u001b[0;31mNameError\u001b[0m                                 Traceback (most recent call last)",
      "File \u001b[1;32m/Users/hkkkkk/Documents/GitHub/ppha30538_fall2024/30538-dap-ii-problem-set-2-ps2-dap2-python-fall2024/pset2_template.qmd:4\u001b[0m\n\u001b[1;32m      1\u001b[0m \u001b[39mimport\u001b[39;00m \u001b[39maltair\u001b[39;00m \u001b[39mas\u001b[39;00m \u001b[39malt\u001b[39;00m\n\u001b[1;32m      3\u001b[0m \u001b[39m# Create a line chart of ticket counts over time with custom date labels\u001b[39;00m\n\u001b[0;32m----> 4\u001b[0m chart \u001b[39m=\u001b[39m alt\u001b[39m.\u001b[39mChart(city_sticker_by_month)\u001b[39m.\u001b[39mmark_line()\u001b[39m.\u001b[39mencode(\n\u001b[1;32m      5\u001b[0m     x\u001b[39m=\u001b[39malt\u001b[39m.\u001b[39mX(\u001b[39m'\u001b[39m\u001b[39missue_date:T\u001b[39m\u001b[39m'\u001b[39m, \n\u001b[1;32m      6\u001b[0m             axis\u001b[39m=\u001b[39malt\u001b[39m.\u001b[39mAxis(\u001b[39mformat\u001b[39m\u001b[39m=\u001b[39m\u001b[39m'\u001b[39m\u001b[39m%\u001b[39m\u001b[39mY-\u001b[39m\u001b[39m%\u001b[39m\u001b[39mm\u001b[39m\u001b[39m'\u001b[39m,  \u001b[39m# Custom date format to show year and month\u001b[39;00m\n\u001b[1;32m      7\u001b[0m                           labelAngle\u001b[39m=\u001b[39m\u001b[39m-\u001b[39m\u001b[39m45\u001b[39m,  \u001b[39m# Rotate labels for clarity\u001b[39;00m\n\u001b[1;32m      8\u001b[0m                           tickCount\u001b[39m=\u001b[39m\u001b[39m'\u001b[39m\u001b[39mmonth\u001b[39m\u001b[39m'\u001b[39m,  \u001b[39m# Ensure frequent date labels, showing a tick for each month\u001b[39;00m\n\u001b[1;32m      9\u001b[0m                           title\u001b[39m=\u001b[39m\u001b[39m'\u001b[39m\u001b[39mMonth of Issue\u001b[39m\u001b[39m'\u001b[39m)\n\u001b[1;32m     10\u001b[0m            ),\n\u001b[1;32m     11\u001b[0m     y\u001b[39m=\u001b[39m\u001b[39m'\u001b[39m\u001b[39mticket_count:Q\u001b[39m\u001b[39m'\u001b[39m,\n\u001b[1;32m     12\u001b[0m     tooltip\u001b[39m=\u001b[39m[\u001b[39m'\u001b[39m\u001b[39missue_date\u001b[39m\u001b[39m'\u001b[39m, \u001b[39m'\u001b[39m\u001b[39mticket_count\u001b[39m\u001b[39m'\u001b[39m]\n\u001b[1;32m     13\u001b[0m )\u001b[39m.\u001b[39mproperties(\n\u001b[1;32m     14\u001b[0m     title\u001b[39m=\u001b[39m\u001b[39m'\u001b[39m\u001b[39mNumber of Missing City Sticker Tickets Over Time\u001b[39m\u001b[39m'\u001b[39m\n\u001b[1;32m     15\u001b[0m )\n\u001b[1;32m     17\u001b[0m \u001b[39m# Render the chart\u001b[39;00m\n\u001b[1;32m     18\u001b[0m chart\u001b[39m.\u001b[39mshow()\n",
      "\u001b[0;31mNameError\u001b[0m: name 'city_sticker_by_month' is not defined"
     ]
    }
   ],
   "source": [
    "import altair as alt\n",
    "\n",
    "# Create a line chart of ticket counts over time with custom date labels\n",
    "chart = alt.Chart(city_sticker_by_month).mark_line().encode(\n",
    "    x=alt.X('issue_date:T', \n",
    "            axis=alt.Axis(format='%Y-%m',  # Custom date format to show year and month\n",
    "                          labelAngle=-45,  # Rotate labels for clarity\n",
    "                          tickCount='month',  # Ensure frequent date labels, showing a tick for each month\n",
    "                          title='Month of Issue')\n",
    "           ),\n",
    "    y='ticket_count:Q',\n",
    "    tooltip=['issue_date', 'ticket_count']\n",
    ").properties(\n",
    "    title='Number of Missing City Sticker Tickets Over Time'\n",
    ")\n",
    "\n",
    "# Render the chart\n",
    "chart.show()"
   ]
  },
  {
   "cell_type": "code",
   "execution_count": null,
   "id": "fe81ad63-3f0d-4b8a-b6a7-6e2c0ac9d41c",
   "metadata": {
    "vscode": {
     "languageId": "quarto"
    }
   },
   "outputs": [
    {
     "data": {
      "text/html": [
       "\n",
       "<style>\n",
       "  #altair-viz-173d6623d73d4cd484f66afbd17de26f.vega-embed {\n",
       "    width: 100%;\n",
       "    display: flex;\n",
       "  }\n",
       "\n",
       "  #altair-viz-173d6623d73d4cd484f66afbd17de26f.vega-embed details,\n",
       "  #altair-viz-173d6623d73d4cd484f66afbd17de26f.vega-embed details summary {\n",
       "    position: relative;\n",
       "  }\n",
       "</style>\n",
       "<div id=\"altair-viz-173d6623d73d4cd484f66afbd17de26f\"></div>\n",
       "<script type=\"text/javascript\">\n",
       "  var VEGA_DEBUG = (typeof VEGA_DEBUG == \"undefined\") ? {} : VEGA_DEBUG;\n",
       "  (function(spec, embedOpt){\n",
       "    let outputDiv = document.currentScript.previousElementSibling;\n",
       "    if (outputDiv.id !== \"altair-viz-173d6623d73d4cd484f66afbd17de26f\") {\n",
       "      outputDiv = document.getElementById(\"altair-viz-173d6623d73d4cd484f66afbd17de26f\");\n",
       "    }\n",
       "    const paths = {\n",
       "      \"vega\": \"https://cdn.jsdelivr.net/npm/vega@5?noext\",\n",
       "      \"vega-lib\": \"https://cdn.jsdelivr.net/npm/vega-lib?noext\",\n",
       "      \"vega-lite\": \"https://cdn.jsdelivr.net/npm/vega-lite@5.20.1?noext\",\n",
       "      \"vega-embed\": \"https://cdn.jsdelivr.net/npm/vega-embed@6?noext\",\n",
       "    };\n",
       "\n",
       "    function maybeLoadScript(lib, version) {\n",
       "      var key = `${lib.replace(\"-\", \"\")}_version`;\n",
       "      return (VEGA_DEBUG[key] == version) ?\n",
       "        Promise.resolve(paths[lib]) :\n",
       "        new Promise(function(resolve, reject) {\n",
       "          var s = document.createElement('script');\n",
       "          document.getElementsByTagName(\"head\")[0].appendChild(s);\n",
       "          s.async = true;\n",
       "          s.onload = () => {\n",
       "            VEGA_DEBUG[key] = version;\n",
       "            return resolve(paths[lib]);\n",
       "          };\n",
       "          s.onerror = () => reject(`Error loading script: ${paths[lib]}`);\n",
       "          s.src = paths[lib];\n",
       "        });\n",
       "    }\n",
       "\n",
       "    function showError(err) {\n",
       "      outputDiv.innerHTML = `<div class=\"error\" style=\"color:red;\">${err}</div>`;\n",
       "      throw err;\n",
       "    }\n",
       "\n",
       "    function displayChart(vegaEmbed) {\n",
       "      vegaEmbed(outputDiv, spec, embedOpt)\n",
       "        .catch(err => showError(`Javascript Error: ${err.message}<br>This usually means there's a typo in your chart specification. See the javascript console for the full traceback.`));\n",
       "    }\n",
       "\n",
       "    if(typeof define === \"function\" && define.amd) {\n",
       "      requirejs.config({paths});\n",
       "      require([\"vega-embed\"], displayChart, err => showError(`Error loading script: ${err.message}`));\n",
       "    } else {\n",
       "      maybeLoadScript(\"vega\", \"5\")\n",
       "        .then(() => maybeLoadScript(\"vega-lite\", \"5.20.1\"))\n",
       "        .then(() => maybeLoadScript(\"vega-embed\", \"6\"))\n",
       "        .catch(showError)\n",
       "        .then(() => displayChart(vegaEmbed));\n",
       "    }\n",
       "  })({\"config\": {\"view\": {\"continuousWidth\": 300, \"continuousHeight\": 300}}, \"data\": {\"name\": \"data-953883e3eaeff663890382dbdbd39466\"}, \"mark\": {\"type\": \"line\"}, \"encoding\": {\"tooltip\": [{\"field\": \"issue_date\", \"type\": \"temporal\"}, {\"field\": \"ticket_count\", \"type\": \"quantitative\"}], \"x\": {\"field\": \"issue_date\", \"type\": \"temporal\"}, \"y\": {\"field\": \"ticket_count\", \"type\": \"quantitative\"}}, \"title\": \"Number of Missing City Sticker Tickets Over Time\", \"$schema\": \"https://vega.github.io/schema/vega-lite/v5.20.1.json\", \"datasets\": {\"data-953883e3eaeff663890382dbdbd39466\": [{\"issue_date\": \"2007-01-01T00:00:00\", \"ticket_count\": 160}, {\"issue_date\": \"2007-02-01T00:00:00\", \"ticket_count\": 104}, {\"issue_date\": \"2007-03-01T00:00:00\", \"ticket_count\": 161}, {\"issue_date\": \"2007-04-01T00:00:00\", \"ticket_count\": 158}, {\"issue_date\": \"2007-05-01T00:00:00\", \"ticket_count\": 126}, {\"issue_date\": \"2007-06-01T00:00:00\", \"ticket_count\": 80}, {\"issue_date\": \"2007-07-01T00:00:00\", \"ticket_count\": 399}, {\"issue_date\": \"2007-08-01T00:00:00\", \"ticket_count\": 345}, {\"issue_date\": \"2007-09-01T00:00:00\", \"ticket_count\": 224}, {\"issue_date\": \"2007-10-01T00:00:00\", \"ticket_count\": 221}, {\"issue_date\": \"2007-11-01T00:00:00\", \"ticket_count\": 168}, {\"issue_date\": \"2007-12-01T00:00:00\", \"ticket_count\": 118}, {\"issue_date\": \"2008-01-01T00:00:00\", \"ticket_count\": 132}, {\"issue_date\": \"2008-02-01T00:00:00\", \"ticket_count\": 149}, {\"issue_date\": \"2008-03-01T00:00:00\", \"ticket_count\": 192}, {\"issue_date\": \"2008-04-01T00:00:00\", \"ticket_count\": 166}, {\"issue_date\": \"2008-05-01T00:00:00\", \"ticket_count\": 139}, {\"issue_date\": \"2008-06-01T00:00:00\", \"ticket_count\": 72}, {\"issue_date\": \"2008-07-01T00:00:00\", \"ticket_count\": 382}, {\"issue_date\": \"2008-08-01T00:00:00\", \"ticket_count\": 342}, {\"issue_date\": \"2008-09-01T00:00:00\", \"ticket_count\": 213}, {\"issue_date\": \"2008-10-01T00:00:00\", \"ticket_count\": 197}, {\"issue_date\": \"2008-11-01T00:00:00\", \"ticket_count\": 148}, {\"issue_date\": \"2008-12-01T00:00:00\", \"ticket_count\": 80}, {\"issue_date\": \"2009-01-01T00:00:00\", \"ticket_count\": 81}, {\"issue_date\": \"2009-02-01T00:00:00\", \"ticket_count\": 121}, {\"issue_date\": \"2009-03-01T00:00:00\", \"ticket_count\": 171}, {\"issue_date\": \"2009-04-01T00:00:00\", \"ticket_count\": 149}, {\"issue_date\": \"2009-05-01T00:00:00\", \"ticket_count\": 132}, {\"issue_date\": \"2009-06-01T00:00:00\", \"ticket_count\": 89}, {\"issue_date\": \"2009-07-01T00:00:00\", \"ticket_count\": 392}, {\"issue_date\": \"2009-08-01T00:00:00\", \"ticket_count\": 347}, {\"issue_date\": \"2009-09-01T00:00:00\", \"ticket_count\": 211}, {\"issue_date\": \"2009-10-01T00:00:00\", \"ticket_count\": 188}, {\"issue_date\": \"2009-11-01T00:00:00\", \"ticket_count\": 170}, {\"issue_date\": \"2009-12-01T00:00:00\", \"ticket_count\": 98}, {\"issue_date\": \"2010-01-01T00:00:00\", \"ticket_count\": 156}, {\"issue_date\": \"2010-02-01T00:00:00\", \"ticket_count\": 129}, {\"issue_date\": \"2010-03-01T00:00:00\", \"ticket_count\": 153}, {\"issue_date\": \"2010-04-01T00:00:00\", \"ticket_count\": 138}, {\"issue_date\": \"2010-05-01T00:00:00\", \"ticket_count\": 140}, {\"issue_date\": \"2010-06-01T00:00:00\", \"ticket_count\": 99}, {\"issue_date\": \"2010-07-01T00:00:00\", \"ticket_count\": 26}, {\"issue_date\": \"2010-08-01T00:00:00\", \"ticket_count\": 425}, {\"issue_date\": \"2010-09-01T00:00:00\", \"ticket_count\": 237}, {\"issue_date\": \"2010-10-01T00:00:00\", \"ticket_count\": 197}, {\"issue_date\": \"2010-11-01T00:00:00\", \"ticket_count\": 168}, {\"issue_date\": \"2010-12-01T00:00:00\", \"ticket_count\": 117}, {\"issue_date\": \"2011-01-01T00:00:00\", \"ticket_count\": 153}, {\"issue_date\": \"2011-02-01T00:00:00\", \"ticket_count\": 87}, {\"issue_date\": \"2011-03-01T00:00:00\", \"ticket_count\": 147}, {\"issue_date\": \"2011-04-01T00:00:00\", \"ticket_count\": 135}, {\"issue_date\": \"2011-05-01T00:00:00\", \"ticket_count\": 134}, {\"issue_date\": \"2011-06-01T00:00:00\", \"ticket_count\": 78}, {\"issue_date\": \"2011-07-01T00:00:00\", \"ticket_count\": 317}, {\"issue_date\": \"2011-08-01T00:00:00\", \"ticket_count\": 313}, {\"issue_date\": \"2011-09-01T00:00:00\", \"ticket_count\": 171}, {\"issue_date\": \"2011-10-01T00:00:00\", \"ticket_count\": 136}, {\"issue_date\": \"2011-11-01T00:00:00\", \"ticket_count\": 139}, {\"issue_date\": \"2011-12-01T00:00:00\", \"ticket_count\": 123}, {\"issue_date\": \"2012-01-01T00:00:00\", \"ticket_count\": 114}, {\"issue_date\": \"2012-02-01T00:00:00\", \"ticket_count\": 138}, {\"issue_date\": \"2012-03-01T00:00:00\", \"ticket_count\": 181}, {\"issue_date\": \"2012-04-01T00:00:00\", \"ticket_count\": 142}, {\"issue_date\": \"2012-05-01T00:00:00\", \"ticket_count\": 115}, {\"issue_date\": \"2012-06-01T00:00:00\", \"ticket_count\": 100}, {\"issue_date\": \"2012-07-01T00:00:00\", \"ticket_count\": 414}, {\"issue_date\": \"2012-08-01T00:00:00\", \"ticket_count\": 319}, {\"issue_date\": \"2012-09-01T00:00:00\", \"ticket_count\": 179}, {\"issue_date\": \"2012-10-01T00:00:00\", \"ticket_count\": 171}, {\"issue_date\": \"2012-11-01T00:00:00\", \"ticket_count\": 157}, {\"issue_date\": \"2012-12-01T00:00:00\", \"ticket_count\": 162}, {\"issue_date\": \"2013-01-01T00:00:00\", \"ticket_count\": 196}, {\"issue_date\": \"2013-02-01T00:00:00\", \"ticket_count\": 158}, {\"issue_date\": \"2013-03-01T00:00:00\", \"ticket_count\": 199}, {\"issue_date\": \"2013-04-01T00:00:00\", \"ticket_count\": 187}, {\"issue_date\": \"2013-05-01T00:00:00\", \"ticket_count\": 179}, {\"issue_date\": \"2013-06-01T00:00:00\", \"ticket_count\": 140}, {\"issue_date\": \"2013-07-01T00:00:00\", \"ticket_count\": 499}, {\"issue_date\": \"2013-08-01T00:00:00\", \"ticket_count\": 355}, {\"issue_date\": \"2013-09-01T00:00:00\", \"ticket_count\": 221}, {\"issue_date\": \"2013-10-01T00:00:00\", \"ticket_count\": 208}, {\"issue_date\": \"2013-11-01T00:00:00\", \"ticket_count\": 127}, {\"issue_date\": \"2013-12-01T00:00:00\", \"ticket_count\": 98}, {\"issue_date\": \"2014-01-01T00:00:00\", \"ticket_count\": 100}, {\"issue_date\": \"2014-02-01T00:00:00\", \"ticket_count\": 147}, {\"issue_date\": \"2014-03-01T00:00:00\", \"ticket_count\": 155}, {\"issue_date\": \"2014-04-01T00:00:00\", \"ticket_count\": 144}, {\"issue_date\": \"2014-05-01T00:00:00\", \"ticket_count\": 178}, {\"issue_date\": \"2014-06-01T00:00:00\", \"ticket_count\": 116}, {\"issue_date\": \"2014-07-01T00:00:00\", \"ticket_count\": 267}, {\"issue_date\": \"2014-08-01T00:00:00\", \"ticket_count\": 245}, {\"issue_date\": \"2014-09-01T00:00:00\", \"ticket_count\": 178}, {\"issue_date\": \"2014-10-01T00:00:00\", \"ticket_count\": 165}, {\"issue_date\": \"2014-11-01T00:00:00\", \"ticket_count\": 153}, {\"issue_date\": \"2014-12-01T00:00:00\", \"ticket_count\": 177}, {\"issue_date\": \"2015-01-01T00:00:00\", \"ticket_count\": 179}, {\"issue_date\": \"2015-02-01T00:00:00\", \"ticket_count\": 142}, {\"issue_date\": \"2015-03-01T00:00:00\", \"ticket_count\": 223}, {\"issue_date\": \"2015-04-01T00:00:00\", \"ticket_count\": 191}, {\"issue_date\": \"2015-05-01T00:00:00\", \"ticket_count\": 191}, {\"issue_date\": \"2015-06-01T00:00:00\", \"ticket_count\": 198}, {\"issue_date\": \"2015-07-01T00:00:00\", \"ticket_count\": 217}, {\"issue_date\": \"2015-08-01T00:00:00\", \"ticket_count\": 210}, {\"issue_date\": \"2015-09-01T00:00:00\", \"ticket_count\": 225}, {\"issue_date\": \"2015-10-01T00:00:00\", \"ticket_count\": 245}, {\"issue_date\": \"2015-11-01T00:00:00\", \"ticket_count\": 226}, {\"issue_date\": \"2015-12-01T00:00:00\", \"ticket_count\": 220}, {\"issue_date\": \"2016-01-01T00:00:00\", \"ticket_count\": 202}, {\"issue_date\": \"2016-02-01T00:00:00\", \"ticket_count\": 206}, {\"issue_date\": \"2016-03-01T00:00:00\", \"ticket_count\": 241}, {\"issue_date\": \"2016-04-01T00:00:00\", \"ticket_count\": 203}, {\"issue_date\": \"2016-05-01T00:00:00\", \"ticket_count\": 185}, {\"issue_date\": \"2016-06-01T00:00:00\", \"ticket_count\": 175}, {\"issue_date\": \"2016-07-01T00:00:00\", \"ticket_count\": 160}, {\"issue_date\": \"2016-08-01T00:00:00\", \"ticket_count\": 151}, {\"issue_date\": \"2016-09-01T00:00:00\", \"ticket_count\": 183}, {\"issue_date\": \"2016-10-01T00:00:00\", \"ticket_count\": 220}, {\"issue_date\": \"2016-11-01T00:00:00\", \"ticket_count\": 182}, {\"issue_date\": \"2016-12-01T00:00:00\", \"ticket_count\": 156}, {\"issue_date\": \"2017-01-01T00:00:00\", \"ticket_count\": 238}, {\"issue_date\": \"2017-02-01T00:00:00\", \"ticket_count\": 190}, {\"issue_date\": \"2017-03-01T00:00:00\", \"ticket_count\": 211}, {\"issue_date\": \"2017-04-01T00:00:00\", \"ticket_count\": 191}, {\"issue_date\": \"2017-05-01T00:00:00\", \"ticket_count\": 192}, {\"issue_date\": \"2017-06-01T00:00:00\", \"ticket_count\": 177}, {\"issue_date\": \"2017-07-01T00:00:00\", \"ticket_count\": 166}, {\"issue_date\": \"2017-08-01T00:00:00\", \"ticket_count\": 173}, {\"issue_date\": \"2017-09-01T00:00:00\", \"ticket_count\": 188}, {\"issue_date\": \"2017-10-01T00:00:00\", \"ticket_count\": 169}, {\"issue_date\": \"2017-11-01T00:00:00\", \"ticket_count\": 202}, {\"issue_date\": \"2017-12-01T00:00:00\", \"ticket_count\": 159}, {\"issue_date\": \"2018-01-01T00:00:00\", \"ticket_count\": 168}, {\"issue_date\": \"2018-02-01T00:00:00\", \"ticket_count\": 119}, {\"issue_date\": \"2018-03-01T00:00:00\", \"ticket_count\": 171}, {\"issue_date\": \"2018-04-01T00:00:00\", \"ticket_count\": 153}, {\"issue_date\": \"2018-05-01T00:00:00\", \"ticket_count\": 79}]}}, {\"mode\": \"vega-lite\"});\n",
       "</script>"
      ],
      "text/plain": [
       "alt.Chart(...)"
      ]
     },
     "metadata": {},
     "output_type": "display_data"
    }
   ],
   "source": [
    "df['combined_code'] = df['violation_code'].replace({\n",
    "    '0964125': 'CitySticker',\n",
    "    '0964125B': 'CitySticker'\n",
    "})\n",
    "\n",
    "df['issue_date'] = pd.to_datetime(df['issue_date'], errors='coerce')\n",
    "\n",
    "city_sticker_tickets = df[df['combined_code'] == 'CitySticker']\n",
    "\n",
    "city_sticker_tickets_by_month = city_sticker_tickets.groupby(city_sticker_tickets['issue_date'].dt.to_period('M')).size().reset_index(name='ticket_count')\n",
    "\n",
    "city_sticker_tickets_by_month['issue_date'] = city_sticker_tickets_by_month['issue_date'].dt.to_timestamp()\n",
    "\n",
    "chart = alt.Chart(city_sticker_tickets_by_month).mark_line().encode(\n",
    "    x='issue_date:T',\n",
    "    y='ticket_count:Q',\n",
    "    tooltip=['issue_date:T', 'ticket_count:Q']\n",
    ").properties(\n",
    "    title='Number of Missing City Sticker Tickets Over Time'\n",
    ")\n",
    "\n",
    "chart.show()"
   ]
  },
  {
   "cell_type": "code",
   "execution_count": null,
   "id": "23e932cf-4b49-4727-8074-b5cdb88488d3",
   "metadata": {
    "vscode": {
     "languageId": "quarto"
    }
   },
   "outputs": [
    {
     "data": {
      "text/html": [
       "\n",
       "<style>\n",
       "  #altair-viz-8795907bf1ab40e98abf0da4a94d81b3.vega-embed {\n",
       "    width: 100%;\n",
       "    display: flex;\n",
       "  }\n",
       "\n",
       "  #altair-viz-8795907bf1ab40e98abf0da4a94d81b3.vega-embed details,\n",
       "  #altair-viz-8795907bf1ab40e98abf0da4a94d81b3.vega-embed details summary {\n",
       "    position: relative;\n",
       "  }\n",
       "</style>\n",
       "<div id=\"altair-viz-8795907bf1ab40e98abf0da4a94d81b3\"></div>\n",
       "<script type=\"text/javascript\">\n",
       "  var VEGA_DEBUG = (typeof VEGA_DEBUG == \"undefined\") ? {} : VEGA_DEBUG;\n",
       "  (function(spec, embedOpt){\n",
       "    let outputDiv = document.currentScript.previousElementSibling;\n",
       "    if (outputDiv.id !== \"altair-viz-8795907bf1ab40e98abf0da4a94d81b3\") {\n",
       "      outputDiv = document.getElementById(\"altair-viz-8795907bf1ab40e98abf0da4a94d81b3\");\n",
       "    }\n",
       "    const paths = {\n",
       "      \"vega\": \"https://cdn.jsdelivr.net/npm/vega@5?noext\",\n",
       "      \"vega-lib\": \"https://cdn.jsdelivr.net/npm/vega-lib?noext\",\n",
       "      \"vega-lite\": \"https://cdn.jsdelivr.net/npm/vega-lite@5.20.1?noext\",\n",
       "      \"vega-embed\": \"https://cdn.jsdelivr.net/npm/vega-embed@6?noext\",\n",
       "    };\n",
       "\n",
       "    function maybeLoadScript(lib, version) {\n",
       "      var key = `${lib.replace(\"-\", \"\")}_version`;\n",
       "      return (VEGA_DEBUG[key] == version) ?\n",
       "        Promise.resolve(paths[lib]) :\n",
       "        new Promise(function(resolve, reject) {\n",
       "          var s = document.createElement('script');\n",
       "          document.getElementsByTagName(\"head\")[0].appendChild(s);\n",
       "          s.async = true;\n",
       "          s.onload = () => {\n",
       "            VEGA_DEBUG[key] = version;\n",
       "            return resolve(paths[lib]);\n",
       "          };\n",
       "          s.onerror = () => reject(`Error loading script: ${paths[lib]}`);\n",
       "          s.src = paths[lib];\n",
       "        });\n",
       "    }\n",
       "\n",
       "    function showError(err) {\n",
       "      outputDiv.innerHTML = `<div class=\"error\" style=\"color:red;\">${err}</div>`;\n",
       "      throw err;\n",
       "    }\n",
       "\n",
       "    function displayChart(vegaEmbed) {\n",
       "      vegaEmbed(outputDiv, spec, embedOpt)\n",
       "        .catch(err => showError(`Javascript Error: ${err.message}<br>This usually means there's a typo in your chart specification. See the javascript console for the full traceback.`));\n",
       "    }\n",
       "\n",
       "    if(typeof define === \"function\" && define.amd) {\n",
       "      requirejs.config({paths});\n",
       "      require([\"vega-embed\"], displayChart, err => showError(`Error loading script: ${err.message}`));\n",
       "    } else {\n",
       "      maybeLoadScript(\"vega\", \"5\")\n",
       "        .then(() => maybeLoadScript(\"vega-lite\", \"5.20.1\"))\n",
       "        .then(() => maybeLoadScript(\"vega-embed\", \"6\"))\n",
       "        .catch(showError)\n",
       "        .then(() => displayChart(vegaEmbed));\n",
       "    }\n",
       "  })({\"config\": {\"view\": {\"continuousWidth\": 300, \"continuousHeight\": 300}}, \"data\": {\"name\": \"data-953883e3eaeff663890382dbdbd39466\"}, \"mark\": {\"type\": \"line\"}, \"encoding\": {\"tooltip\": [{\"field\": \"issue_date\", \"type\": \"temporal\"}, {\"field\": \"ticket_count\", \"type\": \"quantitative\"}], \"x\": {\"axis\": {\"format\": \"%Y-%m\", \"labelAngle\": -45, \"tickCount\": \"month\", \"title\": \"Month of Issue\"}, \"field\": \"issue_date\", \"type\": \"temporal\"}, \"y\": {\"field\": \"ticket_count\", \"type\": \"quantitative\"}}, \"title\": \"Number of Missing City Sticker Tickets Over Time\", \"$schema\": \"https://vega.github.io/schema/vega-lite/v5.20.1.json\", \"datasets\": {\"data-953883e3eaeff663890382dbdbd39466\": [{\"issue_date\": \"2007-01-01T00:00:00\", \"ticket_count\": 160}, {\"issue_date\": \"2007-02-01T00:00:00\", \"ticket_count\": 104}, {\"issue_date\": \"2007-03-01T00:00:00\", \"ticket_count\": 161}, {\"issue_date\": \"2007-04-01T00:00:00\", \"ticket_count\": 158}, {\"issue_date\": \"2007-05-01T00:00:00\", \"ticket_count\": 126}, {\"issue_date\": \"2007-06-01T00:00:00\", \"ticket_count\": 80}, {\"issue_date\": \"2007-07-01T00:00:00\", \"ticket_count\": 399}, {\"issue_date\": \"2007-08-01T00:00:00\", \"ticket_count\": 345}, {\"issue_date\": \"2007-09-01T00:00:00\", \"ticket_count\": 224}, {\"issue_date\": \"2007-10-01T00:00:00\", \"ticket_count\": 221}, {\"issue_date\": \"2007-11-01T00:00:00\", \"ticket_count\": 168}, {\"issue_date\": \"2007-12-01T00:00:00\", \"ticket_count\": 118}, {\"issue_date\": \"2008-01-01T00:00:00\", \"ticket_count\": 132}, {\"issue_date\": \"2008-02-01T00:00:00\", \"ticket_count\": 149}, {\"issue_date\": \"2008-03-01T00:00:00\", \"ticket_count\": 192}, {\"issue_date\": \"2008-04-01T00:00:00\", \"ticket_count\": 166}, {\"issue_date\": \"2008-05-01T00:00:00\", \"ticket_count\": 139}, {\"issue_date\": \"2008-06-01T00:00:00\", \"ticket_count\": 72}, {\"issue_date\": \"2008-07-01T00:00:00\", \"ticket_count\": 382}, {\"issue_date\": \"2008-08-01T00:00:00\", \"ticket_count\": 342}, {\"issue_date\": \"2008-09-01T00:00:00\", \"ticket_count\": 213}, {\"issue_date\": \"2008-10-01T00:00:00\", \"ticket_count\": 197}, {\"issue_date\": \"2008-11-01T00:00:00\", \"ticket_count\": 148}, {\"issue_date\": \"2008-12-01T00:00:00\", \"ticket_count\": 80}, {\"issue_date\": \"2009-01-01T00:00:00\", \"ticket_count\": 81}, {\"issue_date\": \"2009-02-01T00:00:00\", \"ticket_count\": 121}, {\"issue_date\": \"2009-03-01T00:00:00\", \"ticket_count\": 171}, {\"issue_date\": \"2009-04-01T00:00:00\", \"ticket_count\": 149}, {\"issue_date\": \"2009-05-01T00:00:00\", \"ticket_count\": 132}, {\"issue_date\": \"2009-06-01T00:00:00\", \"ticket_count\": 89}, {\"issue_date\": \"2009-07-01T00:00:00\", \"ticket_count\": 392}, {\"issue_date\": \"2009-08-01T00:00:00\", \"ticket_count\": 347}, {\"issue_date\": \"2009-09-01T00:00:00\", \"ticket_count\": 211}, {\"issue_date\": \"2009-10-01T00:00:00\", \"ticket_count\": 188}, {\"issue_date\": \"2009-11-01T00:00:00\", \"ticket_count\": 170}, {\"issue_date\": \"2009-12-01T00:00:00\", \"ticket_count\": 98}, {\"issue_date\": \"2010-01-01T00:00:00\", \"ticket_count\": 156}, {\"issue_date\": \"2010-02-01T00:00:00\", \"ticket_count\": 129}, {\"issue_date\": \"2010-03-01T00:00:00\", \"ticket_count\": 153}, {\"issue_date\": \"2010-04-01T00:00:00\", \"ticket_count\": 138}, {\"issue_date\": \"2010-05-01T00:00:00\", \"ticket_count\": 140}, {\"issue_date\": \"2010-06-01T00:00:00\", \"ticket_count\": 99}, {\"issue_date\": \"2010-07-01T00:00:00\", \"ticket_count\": 26}, {\"issue_date\": \"2010-08-01T00:00:00\", \"ticket_count\": 425}, {\"issue_date\": \"2010-09-01T00:00:00\", \"ticket_count\": 237}, {\"issue_date\": \"2010-10-01T00:00:00\", \"ticket_count\": 197}, {\"issue_date\": \"2010-11-01T00:00:00\", \"ticket_count\": 168}, {\"issue_date\": \"2010-12-01T00:00:00\", \"ticket_count\": 117}, {\"issue_date\": \"2011-01-01T00:00:00\", \"ticket_count\": 153}, {\"issue_date\": \"2011-02-01T00:00:00\", \"ticket_count\": 87}, {\"issue_date\": \"2011-03-01T00:00:00\", \"ticket_count\": 147}, {\"issue_date\": \"2011-04-01T00:00:00\", \"ticket_count\": 135}, {\"issue_date\": \"2011-05-01T00:00:00\", \"ticket_count\": 134}, {\"issue_date\": \"2011-06-01T00:00:00\", \"ticket_count\": 78}, {\"issue_date\": \"2011-07-01T00:00:00\", \"ticket_count\": 317}, {\"issue_date\": \"2011-08-01T00:00:00\", \"ticket_count\": 313}, {\"issue_date\": \"2011-09-01T00:00:00\", \"ticket_count\": 171}, {\"issue_date\": \"2011-10-01T00:00:00\", \"ticket_count\": 136}, {\"issue_date\": \"2011-11-01T00:00:00\", \"ticket_count\": 139}, {\"issue_date\": \"2011-12-01T00:00:00\", \"ticket_count\": 123}, {\"issue_date\": \"2012-01-01T00:00:00\", \"ticket_count\": 114}, {\"issue_date\": \"2012-02-01T00:00:00\", \"ticket_count\": 138}, {\"issue_date\": \"2012-03-01T00:00:00\", \"ticket_count\": 181}, {\"issue_date\": \"2012-04-01T00:00:00\", \"ticket_count\": 142}, {\"issue_date\": \"2012-05-01T00:00:00\", \"ticket_count\": 115}, {\"issue_date\": \"2012-06-01T00:00:00\", \"ticket_count\": 100}, {\"issue_date\": \"2012-07-01T00:00:00\", \"ticket_count\": 414}, {\"issue_date\": \"2012-08-01T00:00:00\", \"ticket_count\": 319}, {\"issue_date\": \"2012-09-01T00:00:00\", \"ticket_count\": 179}, {\"issue_date\": \"2012-10-01T00:00:00\", \"ticket_count\": 171}, {\"issue_date\": \"2012-11-01T00:00:00\", \"ticket_count\": 157}, {\"issue_date\": \"2012-12-01T00:00:00\", \"ticket_count\": 162}, {\"issue_date\": \"2013-01-01T00:00:00\", \"ticket_count\": 196}, {\"issue_date\": \"2013-02-01T00:00:00\", \"ticket_count\": 158}, {\"issue_date\": \"2013-03-01T00:00:00\", \"ticket_count\": 199}, {\"issue_date\": \"2013-04-01T00:00:00\", \"ticket_count\": 187}, {\"issue_date\": \"2013-05-01T00:00:00\", \"ticket_count\": 179}, {\"issue_date\": \"2013-06-01T00:00:00\", \"ticket_count\": 140}, {\"issue_date\": \"2013-07-01T00:00:00\", \"ticket_count\": 499}, {\"issue_date\": \"2013-08-01T00:00:00\", \"ticket_count\": 355}, {\"issue_date\": \"2013-09-01T00:00:00\", \"ticket_count\": 221}, {\"issue_date\": \"2013-10-01T00:00:00\", \"ticket_count\": 208}, {\"issue_date\": \"2013-11-01T00:00:00\", \"ticket_count\": 127}, {\"issue_date\": \"2013-12-01T00:00:00\", \"ticket_count\": 98}, {\"issue_date\": \"2014-01-01T00:00:00\", \"ticket_count\": 100}, {\"issue_date\": \"2014-02-01T00:00:00\", \"ticket_count\": 147}, {\"issue_date\": \"2014-03-01T00:00:00\", \"ticket_count\": 155}, {\"issue_date\": \"2014-04-01T00:00:00\", \"ticket_count\": 144}, {\"issue_date\": \"2014-05-01T00:00:00\", \"ticket_count\": 178}, {\"issue_date\": \"2014-06-01T00:00:00\", \"ticket_count\": 116}, {\"issue_date\": \"2014-07-01T00:00:00\", \"ticket_count\": 267}, {\"issue_date\": \"2014-08-01T00:00:00\", \"ticket_count\": 245}, {\"issue_date\": \"2014-09-01T00:00:00\", \"ticket_count\": 178}, {\"issue_date\": \"2014-10-01T00:00:00\", \"ticket_count\": 165}, {\"issue_date\": \"2014-11-01T00:00:00\", \"ticket_count\": 153}, {\"issue_date\": \"2014-12-01T00:00:00\", \"ticket_count\": 177}, {\"issue_date\": \"2015-01-01T00:00:00\", \"ticket_count\": 179}, {\"issue_date\": \"2015-02-01T00:00:00\", \"ticket_count\": 142}, {\"issue_date\": \"2015-03-01T00:00:00\", \"ticket_count\": 223}, {\"issue_date\": \"2015-04-01T00:00:00\", \"ticket_count\": 191}, {\"issue_date\": \"2015-05-01T00:00:00\", \"ticket_count\": 191}, {\"issue_date\": \"2015-06-01T00:00:00\", \"ticket_count\": 198}, {\"issue_date\": \"2015-07-01T00:00:00\", \"ticket_count\": 217}, {\"issue_date\": \"2015-08-01T00:00:00\", \"ticket_count\": 210}, {\"issue_date\": \"2015-09-01T00:00:00\", \"ticket_count\": 225}, {\"issue_date\": \"2015-10-01T00:00:00\", \"ticket_count\": 245}, {\"issue_date\": \"2015-11-01T00:00:00\", \"ticket_count\": 226}, {\"issue_date\": \"2015-12-01T00:00:00\", \"ticket_count\": 220}, {\"issue_date\": \"2016-01-01T00:00:00\", \"ticket_count\": 202}, {\"issue_date\": \"2016-02-01T00:00:00\", \"ticket_count\": 206}, {\"issue_date\": \"2016-03-01T00:00:00\", \"ticket_count\": 241}, {\"issue_date\": \"2016-04-01T00:00:00\", \"ticket_count\": 203}, {\"issue_date\": \"2016-05-01T00:00:00\", \"ticket_count\": 185}, {\"issue_date\": \"2016-06-01T00:00:00\", \"ticket_count\": 175}, {\"issue_date\": \"2016-07-01T00:00:00\", \"ticket_count\": 160}, {\"issue_date\": \"2016-08-01T00:00:00\", \"ticket_count\": 151}, {\"issue_date\": \"2016-09-01T00:00:00\", \"ticket_count\": 183}, {\"issue_date\": \"2016-10-01T00:00:00\", \"ticket_count\": 220}, {\"issue_date\": \"2016-11-01T00:00:00\", \"ticket_count\": 182}, {\"issue_date\": \"2016-12-01T00:00:00\", \"ticket_count\": 156}, {\"issue_date\": \"2017-01-01T00:00:00\", \"ticket_count\": 238}, {\"issue_date\": \"2017-02-01T00:00:00\", \"ticket_count\": 190}, {\"issue_date\": \"2017-03-01T00:00:00\", \"ticket_count\": 211}, {\"issue_date\": \"2017-04-01T00:00:00\", \"ticket_count\": 191}, {\"issue_date\": \"2017-05-01T00:00:00\", \"ticket_count\": 192}, {\"issue_date\": \"2017-06-01T00:00:00\", \"ticket_count\": 177}, {\"issue_date\": \"2017-07-01T00:00:00\", \"ticket_count\": 166}, {\"issue_date\": \"2017-08-01T00:00:00\", \"ticket_count\": 173}, {\"issue_date\": \"2017-09-01T00:00:00\", \"ticket_count\": 188}, {\"issue_date\": \"2017-10-01T00:00:00\", \"ticket_count\": 169}, {\"issue_date\": \"2017-11-01T00:00:00\", \"ticket_count\": 202}, {\"issue_date\": \"2017-12-01T00:00:00\", \"ticket_count\": 159}, {\"issue_date\": \"2018-01-01T00:00:00\", \"ticket_count\": 168}, {\"issue_date\": \"2018-02-01T00:00:00\", \"ticket_count\": 119}, {\"issue_date\": \"2018-03-01T00:00:00\", \"ticket_count\": 171}, {\"issue_date\": \"2018-04-01T00:00:00\", \"ticket_count\": 153}, {\"issue_date\": \"2018-05-01T00:00:00\", \"ticket_count\": 79}]}}, {\"mode\": \"vega-lite\"});\n",
       "</script>"
      ],
      "text/plain": [
       "alt.Chart(...)"
      ]
     },
     "metadata": {},
     "output_type": "display_data"
    }
   ],
   "source": [
    "city_sticker_by_month = city_sticker_tickets.groupby(city_sticker_tickets['issue_date'].dt.to_period('M')).size().reset_index(name='ticket_count')\n",
    "\n",
    "# Convert the period back to a datetime object for plotting\n",
    "city_sticker_by_month['issue_date'] = city_sticker_by_month['issue_date'].dt.to_timestamp()\n",
    "\n",
    "# Step 5: Create a line chart of ticket counts over time with custom date labels\n",
    "chart = alt.Chart(city_sticker_by_month).mark_line().encode(\n",
    "    x=alt.X('issue_date:T', \n",
    "            axis=alt.Axis(format='%Y-%m',  # Custom date format to show year and month\n",
    "                          labelAngle=-45,  # Rotate labels for clarity\n",
    "                          tickCount='month',  # Ensure frequent date labels, showing a tick for each month\n",
    "                          title='Month of Issue')\n",
    "           ),\n",
    "    y='ticket_count:Q',\n",
    "    tooltip=['issue_date', 'ticket_count']\n",
    ").properties(\n",
    "    title='Number of Missing City Sticker Tickets Over Time'\n",
    ")\n",
    "\n",
    "# Render the chart\n",
    "chart.show()"
   ]
  },
  {
   "cell_type": "code",
   "execution_count": null,
   "id": "08f2d5f5-3f65-4017-8150-08516ae4cd48",
   "metadata": {
    "vscode": {
     "languageId": "quarto"
    }
   },
   "outputs": [
    {
     "name": "stdout",
     "output_type": "stream",
     "text": [
      "Projected revenue increase: $17536000.00\n"
     ]
    }
   ],
   "source": [
    "city_sticker_tickets_prior = city_sticker_tickets[(city_sticker_tickets['issue_date'] >= '2012-01-01') & \n",
    "                                                  (city_sticker_tickets['issue_date'] < '2013-01-01')]\n",
    "\n",
    "# Step 3: Calculate the number of tickets issued\n",
    "num_tickets_prior = len(city_sticker_tickets_prior)\n",
    "\n",
    "# Step 4: Define the old and new ticket prices (assuming old_price and new_price are known)\n",
    "old_price = 120  # Example old price (adjust based on actual data)\n",
    "new_price = 200  # Example new price after the increase (adjust based on actual data)\n",
    "\n",
    "# Step 5: Calculate the total revenue before and projected revenue after the increase\n",
    "revenue_before = num_tickets_prior * old_price\n",
    "revenue_after = num_tickets_prior * new_price\n",
    "\n",
    "# Step 6: Calculate the projected revenue increase\n",
    "revenue_increase = (revenue_after - revenue_before) * 100  # Multiply by 100 to account for 1% sample\n",
    "\n",
    "# Output the projected revenue increase\n",
    "print(f\"Projected revenue increase: ${revenue_increase:.2f}\")"
   ]
  },
  {
   "cell_type": "code",
   "execution_count": null,
   "id": "1c6cf787-f08e-4152-b0a7-8361687c72b4",
   "metadata": {
    "vscode": {
     "languageId": "quarto"
    }
   },
   "outputs": [
    {
     "name": "stdout",
     "output_type": "stream",
     "text": [
      "Projected revenue increase: $17536000.00\n"
     ]
    }
   ],
   "source": [
    "city_sticker_tickets_prior = city_sticker_tickets[(city_sticker_tickets['issue_date'] >= '2012-01-01') &                                (city_sticker_tickets['issue_date'] < '2013-01-01')]\n",
    "\n",
    "# Step 3: Calculate the number of tickets issued\n",
    "num_tickets_prior = len(city_sticker_tickets_prior)\n",
    "\n",
    "# Step 4: Define the old and new ticket prices (assuming old_price and new_price are known)\n",
    "old_price = 120  # Example old price (adjust based on actual data)\n",
    "new_price = 200  # Example new price after the increase (adjust based on actual data)\n",
    "\n",
    "# Step 5: Calculate the total revenue before and projected revenue after the increase\n",
    "revenue_before = num_tickets_prior * old_price\n",
    "revenue_after = num_tickets_prior * new_price\n",
    "\n",
    "# Step 6: Calculate the projected revenue increase\n",
    "revenue_increase = (revenue_after - revenue_before) * 100  # Multiply by 100 to account for 1% sample\n",
    "\n",
    "# Output the projected revenue increase\n",
    "print(f\"Projected revenue increase: ${revenue_increase:.2f}\")"
   ]
  },
  {
   "cell_type": "code",
   "execution_count": null,
   "id": "c24c24f8-5734-4e7e-a6a5-2909bfafad82",
   "metadata": {
    "vscode": {
     "languageId": "quarto"
    }
   },
   "outputs": [
    {
     "name": "stdout",
     "output_type": "stream",
     "text": [
      "The earliest issue date for violation code '0964125B' is: 2012-02-25 02:00:00\n"
     ]
    }
   ],
   "source": [
    "earliest_issue_date = df[df['violation_code'] == '0964125B']['issue_date'].min()\n",
    "\n",
    "# Display the result\n",
    "print(f\"The earliest issue date for violation code '0964125B' is: {earliest_issue_date}\")"
   ]
  },
  {
   "cell_type": "code",
   "execution_count": null,
   "id": "59986895-af31-466a-a37b-44fe1febf91a",
   "metadata": {
    "vscode": {
     "languageId": "quarto"
    }
   },
   "outputs": [
    {
     "ename": "FileNotFoundError",
     "evalue": "[Errno 2] No such file or directory: '/path_to_your_dataset/parking_tickets_one_percent.csv'",
     "output_type": "error",
     "traceback": [
      "\u001b[0;31m---------------------------------------------------------------------------\u001b[0m",
      "\u001b[0;31mFileNotFoundError\u001b[0m                         Traceback (most recent call last)",
      "File \u001b[1;32m/Users/hkkkkk/Documents/GitHub/ppha30538_fall2024/30538-dap-ii-problem-set-2-ps2-dap2-python-fall2024/pset2_template.qmd:4\u001b[0m\n\u001b[1;32m      1\u001b[0m \u001b[39mimport\u001b[39;00m \u001b[39mpandas\u001b[39;00m \u001b[39mas\u001b[39;00m \u001b[39mpd\u001b[39;00m\n\u001b[1;32m      3\u001b[0m \u001b[39m# Load the dataset (replace with your file path)\u001b[39;00m\n\u001b[0;32m----> 4\u001b[0m df \u001b[39m=\u001b[39m pd\u001b[39m.\u001b[39mread_csv(\u001b[39m'\u001b[39m\u001b[39m/path_to_your_dataset/parking_tickets_one_percent.csv\u001b[39m\u001b[39m'\u001b[39m)\n\u001b[1;32m      6\u001b[0m \u001b[39m# Convert 'issue_date' to datetime\u001b[39;00m\n\u001b[1;32m      7\u001b[0m df[\u001b[39m'\u001b[39m\u001b[39missue_date\u001b[39m\u001b[39m'\u001b[39m] \u001b[39m=\u001b[39m pd\u001b[39m.\u001b[39mto_datetime(df[\u001b[39m'\u001b[39m\u001b[39missue_date\u001b[39m\u001b[39m'\u001b[39m], errors\u001b[39m=\u001b[39m\u001b[39m'\u001b[39m\u001b[39mcoerce\u001b[39m\u001b[39m'\u001b[39m)\n",
      "File \u001b[0;32m/opt/anaconda3/lib/python3.11/site-packages/pandas/io/parsers/readers.py:1026\u001b[0m, in \u001b[0;36mread_csv\u001b[0;34m(filepath_or_buffer, sep, delimiter, header, names, index_col, usecols, dtype, engine, converters, true_values, false_values, skipinitialspace, skiprows, skipfooter, nrows, na_values, keep_default_na, na_filter, verbose, skip_blank_lines, parse_dates, infer_datetime_format, keep_date_col, date_parser, date_format, dayfirst, cache_dates, iterator, chunksize, compression, thousands, decimal, lineterminator, quotechar, quoting, doublequote, escapechar, comment, encoding, encoding_errors, dialect, on_bad_lines, delim_whitespace, low_memory, memory_map, float_precision, storage_options, dtype_backend)\u001b[0m\n\u001b[1;32m   1013\u001b[0m kwds_defaults \u001b[39m=\u001b[39m _refine_defaults_read(\n\u001b[1;32m   1014\u001b[0m     dialect,\n\u001b[1;32m   1015\u001b[0m     delimiter,\n\u001b[0;32m   (...)\u001b[0m\n\u001b[1;32m   1022\u001b[0m     dtype_backend\u001b[39m=\u001b[39mdtype_backend,\n\u001b[1;32m   1023\u001b[0m )\n\u001b[1;32m   1024\u001b[0m kwds\u001b[39m.\u001b[39mupdate(kwds_defaults)\n\u001b[0;32m-> 1026\u001b[0m \u001b[39mreturn\u001b[39;00m _read(filepath_or_buffer, kwds)\n",
      "File \u001b[0;32m/opt/anaconda3/lib/python3.11/site-packages/pandas/io/parsers/readers.py:620\u001b[0m, in \u001b[0;36m_read\u001b[0;34m(filepath_or_buffer, kwds)\u001b[0m\n\u001b[1;32m    617\u001b[0m _validate_names(kwds\u001b[39m.\u001b[39mget(\u001b[39m\"\u001b[39m\u001b[39mnames\u001b[39m\u001b[39m\"\u001b[39m, \u001b[39mNone\u001b[39;00m))\n\u001b[1;32m    619\u001b[0m \u001b[39m# Create the parser.\u001b[39;00m\n\u001b[0;32m--> 620\u001b[0m parser \u001b[39m=\u001b[39m TextFileReader(filepath_or_buffer, \u001b[39m*\u001b[39m\u001b[39m*\u001b[39mkwds)\n\u001b[1;32m    622\u001b[0m \u001b[39mif\u001b[39;00m chunksize \u001b[39mor\u001b[39;00m iterator:\n\u001b[1;32m    623\u001b[0m     \u001b[39mreturn\u001b[39;00m parser\n",
      "File \u001b[0;32m/opt/anaconda3/lib/python3.11/site-packages/pandas/io/parsers/readers.py:1620\u001b[0m, in \u001b[0;36mTextFileReader.__init__\u001b[0;34m(self, f, engine, **kwds)\u001b[0m\n\u001b[1;32m   1617\u001b[0m     \u001b[39mself\u001b[39m\u001b[39m.\u001b[39moptions[\u001b[39m\"\u001b[39m\u001b[39mhas_index_names\u001b[39m\u001b[39m\"\u001b[39m] \u001b[39m=\u001b[39m kwds[\u001b[39m\"\u001b[39m\u001b[39mhas_index_names\u001b[39m\u001b[39m\"\u001b[39m]\n\u001b[1;32m   1619\u001b[0m \u001b[39mself\u001b[39m\u001b[39m.\u001b[39mhandles: IOHandles \u001b[39m|\u001b[39m \u001b[39mNone\u001b[39;00m \u001b[39m=\u001b[39m \u001b[39mNone\u001b[39;00m\n\u001b[0;32m-> 1620\u001b[0m \u001b[39mself\u001b[39m\u001b[39m.\u001b[39m_engine \u001b[39m=\u001b[39m \u001b[39mself\u001b[39m\u001b[39m.\u001b[39m_make_engine(f, \u001b[39mself\u001b[39m\u001b[39m.\u001b[39mengine)\n",
      "File \u001b[0;32m/opt/anaconda3/lib/python3.11/site-packages/pandas/io/parsers/readers.py:1880\u001b[0m, in \u001b[0;36mTextFileReader._make_engine\u001b[0;34m(self, f, engine)\u001b[0m\n\u001b[1;32m   1878\u001b[0m     \u001b[39mif\u001b[39;00m \u001b[39m\"\u001b[39m\u001b[39mb\u001b[39m\u001b[39m\"\u001b[39m \u001b[39mnot\u001b[39;00m \u001b[39min\u001b[39;00m mode:\n\u001b[1;32m   1879\u001b[0m         mode \u001b[39m+\u001b[39m\u001b[39m=\u001b[39m \u001b[39m\"\u001b[39m\u001b[39mb\u001b[39m\u001b[39m\"\u001b[39m\n\u001b[0;32m-> 1880\u001b[0m \u001b[39mself\u001b[39m\u001b[39m.\u001b[39mhandles \u001b[39m=\u001b[39m get_handle(\n\u001b[1;32m   1881\u001b[0m     f,\n\u001b[1;32m   1882\u001b[0m     mode,\n\u001b[1;32m   1883\u001b[0m     encoding\u001b[39m=\u001b[39m\u001b[39mself\u001b[39m\u001b[39m.\u001b[39moptions\u001b[39m.\u001b[39mget(\u001b[39m\"\u001b[39m\u001b[39mencoding\u001b[39m\u001b[39m\"\u001b[39m, \u001b[39mNone\u001b[39;00m),\n\u001b[1;32m   1884\u001b[0m     compression\u001b[39m=\u001b[39m\u001b[39mself\u001b[39m\u001b[39m.\u001b[39moptions\u001b[39m.\u001b[39mget(\u001b[39m\"\u001b[39m\u001b[39mcompression\u001b[39m\u001b[39m\"\u001b[39m, \u001b[39mNone\u001b[39;00m),\n\u001b[1;32m   1885\u001b[0m     memory_map\u001b[39m=\u001b[39m\u001b[39mself\u001b[39m\u001b[39m.\u001b[39moptions\u001b[39m.\u001b[39mget(\u001b[39m\"\u001b[39m\u001b[39mmemory_map\u001b[39m\u001b[39m\"\u001b[39m, \u001b[39mFalse\u001b[39;00m),\n\u001b[1;32m   1886\u001b[0m     is_text\u001b[39m=\u001b[39mis_text,\n\u001b[1;32m   1887\u001b[0m     errors\u001b[39m=\u001b[39m\u001b[39mself\u001b[39m\u001b[39m.\u001b[39moptions\u001b[39m.\u001b[39mget(\u001b[39m\"\u001b[39m\u001b[39mencoding_errors\u001b[39m\u001b[39m\"\u001b[39m, \u001b[39m\"\u001b[39m\u001b[39mstrict\u001b[39m\u001b[39m\"\u001b[39m),\n\u001b[1;32m   1888\u001b[0m     storage_options\u001b[39m=\u001b[39m\u001b[39mself\u001b[39m\u001b[39m.\u001b[39moptions\u001b[39m.\u001b[39mget(\u001b[39m\"\u001b[39m\u001b[39mstorage_options\u001b[39m\u001b[39m\"\u001b[39m, \u001b[39mNone\u001b[39;00m),\n\u001b[1;32m   1889\u001b[0m )\n\u001b[1;32m   1890\u001b[0m \u001b[39massert\u001b[39;00m \u001b[39mself\u001b[39m\u001b[39m.\u001b[39mhandles \u001b[39mis\u001b[39;00m \u001b[39mnot\u001b[39;00m \u001b[39mNone\u001b[39;00m\n\u001b[1;32m   1891\u001b[0m f \u001b[39m=\u001b[39m \u001b[39mself\u001b[39m\u001b[39m.\u001b[39mhandles\u001b[39m.\u001b[39mhandle\n",
      "File \u001b[0;32m/opt/anaconda3/lib/python3.11/site-packages/pandas/io/common.py:873\u001b[0m, in \u001b[0;36mget_handle\u001b[0;34m(path_or_buf, mode, encoding, compression, memory_map, is_text, errors, storage_options)\u001b[0m\n\u001b[1;32m    868\u001b[0m \u001b[39melif\u001b[39;00m \u001b[39misinstance\u001b[39m(handle, \u001b[39mstr\u001b[39m):\n\u001b[1;32m    869\u001b[0m     \u001b[39m# Check whether the filename is to be opened in binary mode.\u001b[39;00m\n\u001b[1;32m    870\u001b[0m     \u001b[39m# Binary mode does not support 'encoding' and 'newline'.\u001b[39;00m\n\u001b[1;32m    871\u001b[0m     \u001b[39mif\u001b[39;00m ioargs\u001b[39m.\u001b[39mencoding \u001b[39mand\u001b[39;00m \u001b[39m\"\u001b[39m\u001b[39mb\u001b[39m\u001b[39m\"\u001b[39m \u001b[39mnot\u001b[39;00m \u001b[39min\u001b[39;00m ioargs\u001b[39m.\u001b[39mmode:\n\u001b[1;32m    872\u001b[0m         \u001b[39m# Encoding\u001b[39;00m\n\u001b[0;32m--> 873\u001b[0m         handle \u001b[39m=\u001b[39m \u001b[39mopen\u001b[39m(\n\u001b[1;32m    874\u001b[0m             handle,\n\u001b[1;32m    875\u001b[0m             ioargs\u001b[39m.\u001b[39mmode,\n\u001b[1;32m    876\u001b[0m             encoding\u001b[39m=\u001b[39mioargs\u001b[39m.\u001b[39mencoding,\n\u001b[1;32m    877\u001b[0m             errors\u001b[39m=\u001b[39merrors,\n\u001b[1;32m    878\u001b[0m             newline\u001b[39m=\u001b[39m\u001b[39m\"\u001b[39m\u001b[39m\"\u001b[39m,\n\u001b[1;32m    879\u001b[0m         )\n\u001b[1;32m    880\u001b[0m     \u001b[39melse\u001b[39;00m:\n\u001b[1;32m    881\u001b[0m         \u001b[39m# Binary mode\u001b[39;00m\n\u001b[1;32m    882\u001b[0m         handle \u001b[39m=\u001b[39m \u001b[39mopen\u001b[39m(handle, ioargs\u001b[39m.\u001b[39mmode)\n",
      "\u001b[0;31mFileNotFoundError\u001b[0m: [Errno 2] No such file or directory: '/path_to_your_dataset/parking_tickets_one_percent.csv'"
     ]
    }
   ],
   "source": [
    "import pandas as pd\n",
    "\n",
    "# Load the dataset (replace with your file path)\n",
    "df = pd.read_csv('/path_to_your_dataset/parking_tickets_one_percent.csv')\n",
    "\n",
    "# Convert 'issue_date' to datetime\n",
    "df['issue_date'] = pd.to_datetime(df['issue_date'], errors='coerce')\n",
    "\n",
    "# Step 1: Find the earliest issue date for violation code '0964125B'\n",
    "earliest_issue_date = df[df['violation_code'] == '0964125B']['issue_date'].min()\n",
    "print(f\"The earliest issue date for violation code '0964125B' is: {earliest_issue_date}\")\n",
    "\n",
    "# Step 2: Identify the year just before the price increase\n",
    "# Assuming that the price increase happened in the year after the earliest date\n",
    "year_before_increase = earliest_issue_date.year - 1\n",
    "\n",
    "# Step 3: Filter tickets issued in the calendar year prior to the increase\n",
    "tickets_prior = df[(df['violation_code'] == '0964125B') & \n",
    "                   (df['issue_date'].dt.year == year_before_increase)]\n",
    "\n",
    "# Step 4: Calculate the number of tickets issued in that year\n",
    "num_tickets_prior = len(tickets_prior)\n",
    "\n",
    "# Step 5: Define the old and new ticket prices (adjust based on actual data)\n",
    "old_price = 120  # Example old price, adjust based on actual data\n",
    "new_price = 200  # Example new price after the increase, adjust based on actual data\n",
    "\n",
    "# Step 6: Calculate the total revenue before and after the increase\n",
    "revenue_before = num_tickets_prior * old_price\n",
    "revenue_after = num_tickets_prior * new_price\n",
    "\n",
    "# Step 7: Calculate the projected revenue increase and scale it to account for 1% sample\n",
    "revenue_increase = (revenue_after - revenue_before) * 100  # Scale by 100 for full dataset\n",
    "\n",
    "# Output the projected revenue increase\n",
    "print(f\"Projected revenue increase: ${revenue_increase:,.2f}\")"
   ]
  },
  {
   "cell_type": "code",
   "execution_count": null,
   "id": "f222eafe-ddfa-4302-a11a-bce38caf9e20",
   "metadata": {
    "vscode": {
     "languageId": "quarto"
    }
   },
   "outputs": [
    {
     "name": "stdout",
     "output_type": "stream",
     "text": [
      "The earliest issue date for violation code '0964125B' is: 2012-02-25 02:00:00\n",
      "Projected revenue increase: $0.00\n"
     ]
    }
   ],
   "source": [
    "# Convert 'issue_date' to datetime\n",
    "df['issue_date'] = pd.to_datetime(df['issue_date'], errors='coerce')\n",
    "\n",
    "# Step 1: Find the earliest issue date for violation code '0964125B'\n",
    "earliest_issue_date = df[df['violation_code'] == '0964125B']['issue_date'].min()\n",
    "print(f\"The earliest issue date for violation code '0964125B' is: {earliest_issue_date}\")\n",
    "\n",
    "# Step 2: Identify the year just before the price increase\n",
    "# Assuming that the price increase happened in the year after the earliest date\n",
    "year_before_increase = earliest_issue_date.year - 1\n",
    "\n",
    "# Step 3: Filter tickets issued in the calendar year prior to the increase\n",
    "tickets_prior = df[(df['violation_code'] == '0964125B') & \n",
    "                   (df['issue_date'].dt.year == year_before_increase)]\n",
    "\n",
    "# Step 4: Calculate the number of tickets issued in that year\n",
    "num_tickets_prior = len(tickets_prior)\n",
    "\n",
    "# Step 5: Define the old and new ticket prices (adjust based on actual data)\n",
    "old_price = 120  # Example old price, adjust based on actual data\n",
    "new_price = 200  # Example new price after the increase, adjust based on actual data\n",
    "\n",
    "# Step 6: Calculate the total revenue before and after the increase\n",
    "revenue_before = num_tickets_prior * old_price\n",
    "revenue_after = num_tickets_prior * new_price\n",
    "\n",
    "# Step 7: Calculate the projected revenue increase and scale it to account for 1% sample\n",
    "revenue_increase = (revenue_after - revenue_before) * 100  # Scale by 100 for full dataset\n",
    "\n",
    "# Output the projected revenue increase\n",
    "print(f\"Projected revenue increase: ${revenue_increase:,.2f}\")"
   ]
  },
  {
   "cell_type": "code",
   "execution_count": null,
   "id": "f175869e-6c10-494a-b97e-27c3839a11cc",
   "metadata": {
    "vscode": {
     "languageId": "quarto"
    }
   },
   "outputs": [
    {
     "name": "stdout",
     "output_type": "stream",
     "text": [
      "Projected revenue increase: $15816000.00\n"
     ]
    }
   ],
   "source": [
    "city_sticker_tickets_prior = city_sticker_tickets[(city_sticker_tickets['issue_date'] >= '2012-02-25') &                                (city_sticker_tickets['issue_date'] < '2013-01-01')]\n",
    "\n",
    "num_tickets_prior = len(city_sticker_tickets_prior)\n",
    "old_price = 120 \n",
    "new_price = 200 \n",
    "\n",
    "revenue_before = num_tickets_prior * old_price\n",
    "revenue_after = num_tickets_prior * new_price\n",
    "revenue_increase = (revenue_after - revenue_before) * 100 \n",
    "\n",
    "print(f\"Projected revenue increase: ${revenue_increase:.2f}\")"
   ]
  },
  {
   "cell_type": "code",
   "execution_count": null,
   "id": "17bab677-cd9e-425c-942a-c138628cab48",
   "metadata": {
    "vscode": {
     "languageId": "quarto"
    }
   },
   "outputs": [
    {
     "name": "stdout",
     "output_type": "stream",
     "text": [
      "The earliest issue date for violation code '0964125B' is: 2012-02-25 02:00:00\n"
     ]
    }
   ],
   "source": [
    "earliest_issue_date = df[df['violation_code'] == '0964125B']['issue_date'].min()\n",
    "\n",
    "# Display the result\n",
    "print(f\"The earliest issue date for violation code '0964125B' is: {earliest_issue_date}\")"
   ]
  },
  {
   "cell_type": "code",
   "execution_count": null,
   "id": "79ead6cf-a31e-41e5-b1b2-ad4eb247c279",
   "metadata": {
    "vscode": {
     "languageId": "quarto"
    }
   },
   "outputs": [
    {
     "ename": "KeyError",
     "evalue": "'payment_amount'",
     "output_type": "error",
     "traceback": [
      "\u001b[0;31m---------------------------------------------------------------------------\u001b[0m",
      "\u001b[0;31mKeyError\u001b[0m                                  Traceback (most recent call last)",
      "File \u001b[0;32m/opt/anaconda3/lib/python3.11/site-packages/pandas/core/indexes/base.py:3805\u001b[0m, in \u001b[0;36mIndex.get_loc\u001b[0;34m(self, key)\u001b[0m\n\u001b[1;32m   3804\u001b[0m \u001b[39mtry\u001b[39;00m:\n\u001b[0;32m-> 3805\u001b[0m     \u001b[39mreturn\u001b[39;00m \u001b[39mself\u001b[39m\u001b[39m.\u001b[39m_engine\u001b[39m.\u001b[39mget_loc(casted_key)\n\u001b[1;32m   3806\u001b[0m \u001b[39mexcept\u001b[39;00m \u001b[39mKeyError\u001b[39;00m \u001b[39mas\u001b[39;00m err:\n",
      "File \u001b[0;32mindex.pyx:167\u001b[0m, in \u001b[0;36mpandas._libs.index.IndexEngine.get_loc\u001b[0;34m()\u001b[0m\n",
      "File \u001b[0;32mindex.pyx:196\u001b[0m, in \u001b[0;36mpandas._libs.index.IndexEngine.get_loc\u001b[0;34m()\u001b[0m\n",
      "File \u001b[0;32mpandas/_libs/hashtable_class_helper.pxi:7081\u001b[0m, in \u001b[0;36mpandas._libs.hashtable.PyObjectHashTable.get_item\u001b[0;34m()\u001b[0m\n",
      "File \u001b[0;32mpandas/_libs/hashtable_class_helper.pxi:7089\u001b[0m, in \u001b[0;36mpandas._libs.hashtable.PyObjectHashTable.get_item\u001b[0;34m()\u001b[0m\n",
      "\u001b[0;31mKeyError\u001b[0m: 'payment_amount'",
      "\nThe above exception was the direct cause of the following exception:\n",
      "\u001b[0;31mKeyError\u001b[0m                                  Traceback (most recent call last)",
      "File \u001b[1;32m/Users/hkkkkk/Documents/GitHub/ppha30538_fall2024/30538-dap-ii-problem-set-2-ps2-dap2-python-fall2024/pset2_template.qmd:10\u001b[0m\n\u001b[1;32m      3\u001b[0m tickets_2013 \u001b[39m=\u001b[39m city_sticker_tickets[city_sticker_tickets[\u001b[39m'\u001b[39m\u001b[39missue_date\u001b[39m\u001b[39m'\u001b[39m]\u001b[39m.\u001b[39mdt\u001b[39m.\u001b[39myear \u001b[39m==\u001b[39m \u001b[39m2013\u001b[39m]\n\u001b[1;32m      5\u001b[0m \u001b[39m# Step 3: Calculate repayment rates for 2012 and 2013\u001b[39;00m\n\u001b[1;32m      6\u001b[0m \u001b[39m# Assuming 'payment_amount' indicates the amount paid (create this column if necessary)\u001b[39;00m\n\u001b[1;32m      7\u001b[0m \u001b[39m# If 'payment_amount' is greater than zero, the ticket is considered paid\u001b[39;00m\n\u001b[1;32m      8\u001b[0m \n\u001b[1;32m      9\u001b[0m \u001b[39m# Repayment rate for 2012\u001b[39;00m\n\u001b[0;32m---> 10\u001b[0m tickets_2012[\u001b[39m'\u001b[39m\u001b[39mpaid\u001b[39m\u001b[39m'\u001b[39m] \u001b[39m=\u001b[39m tickets_2012[\u001b[39m'\u001b[39m\u001b[39mpayment_amount\u001b[39m\u001b[39m'\u001b[39m] \u001b[39m>\u001b[39m \u001b[39m0\u001b[39m\n\u001b[1;32m     11\u001b[0m num_tickets_2012 \u001b[39m=\u001b[39m \u001b[39mlen\u001b[39m(tickets_2012)\n\u001b[1;32m     12\u001b[0m num_paid_2012 \u001b[39m=\u001b[39m tickets_2012[\u001b[39m'\u001b[39m\u001b[39mpaid\u001b[39m\u001b[39m'\u001b[39m]\u001b[39m.\u001b[39msum()\n",
      "File \u001b[0;32m/opt/anaconda3/lib/python3.11/site-packages/pandas/core/frame.py:4090\u001b[0m, in \u001b[0;36mDataFrame.__getitem__\u001b[0;34m(self, key)\u001b[0m\n\u001b[1;32m   4088\u001b[0m \u001b[39mif\u001b[39;00m \u001b[39mself\u001b[39m\u001b[39m.\u001b[39mcolumns\u001b[39m.\u001b[39mnlevels \u001b[39m>\u001b[39m \u001b[39m1\u001b[39m:\n\u001b[1;32m   4089\u001b[0m     \u001b[39mreturn\u001b[39;00m \u001b[39mself\u001b[39m\u001b[39m.\u001b[39m_getitem_multilevel(key)\n\u001b[0;32m-> 4090\u001b[0m indexer \u001b[39m=\u001b[39m \u001b[39mself\u001b[39m\u001b[39m.\u001b[39mcolumns\u001b[39m.\u001b[39mget_loc(key)\n\u001b[1;32m   4091\u001b[0m \u001b[39mif\u001b[39;00m is_integer(indexer):\n\u001b[1;32m   4092\u001b[0m     indexer \u001b[39m=\u001b[39m [indexer]\n",
      "File \u001b[0;32m/opt/anaconda3/lib/python3.11/site-packages/pandas/core/indexes/base.py:3812\u001b[0m, in \u001b[0;36mIndex.get_loc\u001b[0;34m(self, key)\u001b[0m\n\u001b[1;32m   3807\u001b[0m     \u001b[39mif\u001b[39;00m \u001b[39misinstance\u001b[39m(casted_key, \u001b[39mslice\u001b[39m) \u001b[39mor\u001b[39;00m (\n\u001b[1;32m   3808\u001b[0m         \u001b[39misinstance\u001b[39m(casted_key, abc\u001b[39m.\u001b[39mIterable)\n\u001b[1;32m   3809\u001b[0m         \u001b[39mand\u001b[39;00m \u001b[39many\u001b[39m(\u001b[39misinstance\u001b[39m(x, \u001b[39mslice\u001b[39m) \u001b[39mfor\u001b[39;00m x \u001b[39min\u001b[39;00m casted_key)\n\u001b[1;32m   3810\u001b[0m     ):\n\u001b[1;32m   3811\u001b[0m         \u001b[39mraise\u001b[39;00m InvalidIndexError(key)\n\u001b[0;32m-> 3812\u001b[0m     \u001b[39mraise\u001b[39;00m \u001b[39mKeyError\u001b[39;00m(key) \u001b[39mfrom\u001b[39;00m \u001b[39merr\u001b[39;00m\n\u001b[1;32m   3813\u001b[0m \u001b[39mexcept\u001b[39;00m \u001b[39mTypeError\u001b[39;00m:\n\u001b[1;32m   3814\u001b[0m     \u001b[39m# If we have a listlike key, _check_indexing_error will raise\u001b[39;00m\n\u001b[1;32m   3815\u001b[0m     \u001b[39m#  InvalidIndexError. Otherwise we fall through and re-raise\u001b[39;00m\n\u001b[1;32m   3816\u001b[0m     \u001b[39m#  the TypeError.\u001b[39;00m\n\u001b[1;32m   3817\u001b[0m     \u001b[39mself\u001b[39m\u001b[39m.\u001b[39m_check_indexing_error(key)\n",
      "\u001b[0;31mKeyError\u001b[0m: 'payment_amount'"
     ]
    }
   ],
   "source": [
    "tickets_2012 = city_sticker_tickets[(city_sticker_tickets['issue_date'] >= '2012-02-25') & \n",
    "                                    (city_sticker_tickets['issue_date'] < '2013-01-01')]\n",
    "tickets_2013 = city_sticker_tickets[city_sticker_tickets['issue_date'].dt.year == 2013]\n",
    "\n",
    "# Step 3: Calculate repayment rates for 2012 and 2013\n",
    "# Assuming 'payment_amount' indicates the amount paid (create this column if necessary)\n",
    "# If 'payment_amount' is greater than zero, the ticket is considered paid\n",
    "\n",
    "# Repayment rate for 2012\n",
    "tickets_2012['paid'] = tickets_2012['payment_amount'] > 0\n",
    "num_tickets_2012 = len(tickets_2012)\n",
    "num_paid_2012 = tickets_2012['paid'].sum()\n",
    "repayment_rate_2012 = num_paid_2012 / num_tickets_2012\n",
    "\n",
    "# Repayment rate for 2013\n",
    "tickets_2013['paid'] = tickets_2013['payment_amount'] > 0\n",
    "num_tickets_2013 = len(tickets_2013)\n",
    "num_paid_2013 = tickets_2013['paid'].sum()\n",
    "repayment_rate_2013 = num_paid_2013 / num_tickets_2013\n",
    "\n",
    "print(f\"Repayment Rate in 2012 (Feb 25 onwards): {repayment_rate_2012:.2%}\")\n",
    "print(f\"Repayment Rate in 2013: {repayment_rate_2013:.2%}\")\n",
    "\n",
    "# Step 4: Project revenue using the new repayment rate (assuming same number of tickets issued)\n",
    "# Define old and new ticket prices (adjust these values based on actual data)\n",
    "old_price = 120  # Example old price\n",
    "new_price = 200  # Example new price\n",
    "\n",
    "# Revenue before the price increase\n",
    "revenue_before = num_tickets_2012 * repayment_rate_2012 * old_price\n",
    "\n",
    "# Revenue after the price increase using the new repayment rate\n",
    "revenue_after = num_tickets_2012 * repayment_rate_2013 * new_price\n",
    "\n",
    "# Calculate the change in revenue\n",
    "revenue_change = (revenue_after - revenue_before) * 100  # Multiply by 100 to account for 1% sample\n",
    "\n",
    "# Output the projected change in revenue\n",
    "print(f\"Projected Change in Revenue: ${revenue_change:,.2f}\")"
   ]
  },
  {
   "cell_type": "code",
   "execution_count": null,
   "id": "0c824ae5-0f0a-43c0-82a4-b0bf5a2ce44f",
   "metadata": {
    "vscode": {
     "languageId": "quarto"
    }
   },
   "outputs": [
    {
     "name": "stdout",
     "output_type": "stream",
     "text": [
      "Projected revenue increase: $15816000.00\n"
     ]
    }
   ],
   "source": [
    "city_sticker_tickets_prior = city_sticker_tickets[(city_sticker_tickets['issue_date'] >= '2012-02-25') &                                (city_sticker_tickets['issue_date'] < '2013-01-01')]\n",
    "\n",
    "num_tickets_prior = len(city_sticker_tickets_prior)\n",
    "old_price = 120 \n",
    "new_price = 200 \n",
    "\n",
    "revenue_before = num_tickets_prior * old_price\n",
    "revenue_after = num_tickets_prior * new_price\n",
    "revenue_increase = (revenue_after - revenue_before) * 100 \n",
    "\n",
    "print(f\"Projected revenue increase: ${revenue_increase:.2f}\")"
   ]
  },
  {
   "cell_type": "code",
   "execution_count": null,
   "id": "41248bab-36b8-4455-95d7-26cf6462be6b",
   "metadata": {
    "vscode": {
     "languageId": "quarto"
    }
   },
   "outputs": [
    {
     "ename": "KeyError",
     "evalue": "'payment_amount'",
     "output_type": "error",
     "traceback": [
      "\u001b[0;31m---------------------------------------------------------------------------\u001b[0m",
      "\u001b[0;31mKeyError\u001b[0m                                  Traceback (most recent call last)",
      "File \u001b[0;32m/opt/anaconda3/lib/python3.11/site-packages/pandas/core/indexes/base.py:3805\u001b[0m, in \u001b[0;36mIndex.get_loc\u001b[0;34m(self, key)\u001b[0m\n\u001b[1;32m   3804\u001b[0m \u001b[39mtry\u001b[39;00m:\n\u001b[0;32m-> 3805\u001b[0m     \u001b[39mreturn\u001b[39;00m \u001b[39mself\u001b[39m\u001b[39m.\u001b[39m_engine\u001b[39m.\u001b[39mget_loc(casted_key)\n\u001b[1;32m   3806\u001b[0m \u001b[39mexcept\u001b[39;00m \u001b[39mKeyError\u001b[39;00m \u001b[39mas\u001b[39;00m err:\n",
      "File \u001b[0;32mindex.pyx:167\u001b[0m, in \u001b[0;36mpandas._libs.index.IndexEngine.get_loc\u001b[0;34m()\u001b[0m\n",
      "File \u001b[0;32mindex.pyx:196\u001b[0m, in \u001b[0;36mpandas._libs.index.IndexEngine.get_loc\u001b[0;34m()\u001b[0m\n",
      "File \u001b[0;32mpandas/_libs/hashtable_class_helper.pxi:7081\u001b[0m, in \u001b[0;36mpandas._libs.hashtable.PyObjectHashTable.get_item\u001b[0;34m()\u001b[0m\n",
      "File \u001b[0;32mpandas/_libs/hashtable_class_helper.pxi:7089\u001b[0m, in \u001b[0;36mpandas._libs.hashtable.PyObjectHashTable.get_item\u001b[0;34m()\u001b[0m\n",
      "\u001b[0;31mKeyError\u001b[0m: 'payment_amount'",
      "\nThe above exception was the direct cause of the following exception:\n",
      "\u001b[0;31mKeyError\u001b[0m                                  Traceback (most recent call last)",
      "File \u001b[1;32m/Users/hkkkkk/Documents/GitHub/ppha30538_fall2024/30538-dap-ii-problem-set-2-ps2-dap2-python-fall2024/pset2_template.qmd:10\u001b[0m\n\u001b[1;32m      3\u001b[0m tickets_2013 \u001b[39m=\u001b[39m city_sticker_tickets[city_sticker_tickets[\u001b[39m'\u001b[39m\u001b[39missue_date\u001b[39m\u001b[39m'\u001b[39m]\u001b[39m.\u001b[39mdt\u001b[39m.\u001b[39myear \u001b[39m==\u001b[39m \u001b[39m2013\u001b[39m]\n\u001b[1;32m      5\u001b[0m \u001b[39m# Step 3: Calculate repayment rates for 2012 and 2013\u001b[39;00m\n\u001b[1;32m      6\u001b[0m \u001b[39m# Assuming 'payment_amount' indicates the amount paid (create this column if necessary)\u001b[39;00m\n\u001b[1;32m      7\u001b[0m \u001b[39m# If 'payment_amount' is greater than zero, the ticket is considered paid\u001b[39;00m\n\u001b[1;32m      8\u001b[0m \n\u001b[1;32m      9\u001b[0m \u001b[39m# Repayment rate for 2012\u001b[39;00m\n\u001b[0;32m---> 10\u001b[0m tickets_2012[\u001b[39m'\u001b[39m\u001b[39mpaid\u001b[39m\u001b[39m'\u001b[39m] \u001b[39m=\u001b[39m tickets_2012[\u001b[39m'\u001b[39m\u001b[39mpayment_amount\u001b[39m\u001b[39m'\u001b[39m] \u001b[39m>\u001b[39m \u001b[39m0\u001b[39m\n\u001b[1;32m     11\u001b[0m num_tickets_2012 \u001b[39m=\u001b[39m \u001b[39mlen\u001b[39m(tickets_2012)\n\u001b[1;32m     12\u001b[0m num_paid_2012 \u001b[39m=\u001b[39m tickets_2012[\u001b[39m'\u001b[39m\u001b[39mpaid\u001b[39m\u001b[39m'\u001b[39m]\u001b[39m.\u001b[39msum()\n",
      "File \u001b[0;32m/opt/anaconda3/lib/python3.11/site-packages/pandas/core/frame.py:4090\u001b[0m, in \u001b[0;36mDataFrame.__getitem__\u001b[0;34m(self, key)\u001b[0m\n\u001b[1;32m   4088\u001b[0m \u001b[39mif\u001b[39;00m \u001b[39mself\u001b[39m\u001b[39m.\u001b[39mcolumns\u001b[39m.\u001b[39mnlevels \u001b[39m>\u001b[39m \u001b[39m1\u001b[39m:\n\u001b[1;32m   4089\u001b[0m     \u001b[39mreturn\u001b[39;00m \u001b[39mself\u001b[39m\u001b[39m.\u001b[39m_getitem_multilevel(key)\n\u001b[0;32m-> 4090\u001b[0m indexer \u001b[39m=\u001b[39m \u001b[39mself\u001b[39m\u001b[39m.\u001b[39mcolumns\u001b[39m.\u001b[39mget_loc(key)\n\u001b[1;32m   4091\u001b[0m \u001b[39mif\u001b[39;00m is_integer(indexer):\n\u001b[1;32m   4092\u001b[0m     indexer \u001b[39m=\u001b[39m [indexer]\n",
      "File \u001b[0;32m/opt/anaconda3/lib/python3.11/site-packages/pandas/core/indexes/base.py:3812\u001b[0m, in \u001b[0;36mIndex.get_loc\u001b[0;34m(self, key)\u001b[0m\n\u001b[1;32m   3807\u001b[0m     \u001b[39mif\u001b[39;00m \u001b[39misinstance\u001b[39m(casted_key, \u001b[39mslice\u001b[39m) \u001b[39mor\u001b[39;00m (\n\u001b[1;32m   3808\u001b[0m         \u001b[39misinstance\u001b[39m(casted_key, abc\u001b[39m.\u001b[39mIterable)\n\u001b[1;32m   3809\u001b[0m         \u001b[39mand\u001b[39;00m \u001b[39many\u001b[39m(\u001b[39misinstance\u001b[39m(x, \u001b[39mslice\u001b[39m) \u001b[39mfor\u001b[39;00m x \u001b[39min\u001b[39;00m casted_key)\n\u001b[1;32m   3810\u001b[0m     ):\n\u001b[1;32m   3811\u001b[0m         \u001b[39mraise\u001b[39;00m InvalidIndexError(key)\n\u001b[0;32m-> 3812\u001b[0m     \u001b[39mraise\u001b[39;00m \u001b[39mKeyError\u001b[39;00m(key) \u001b[39mfrom\u001b[39;00m \u001b[39merr\u001b[39;00m\n\u001b[1;32m   3813\u001b[0m \u001b[39mexcept\u001b[39;00m \u001b[39mTypeError\u001b[39;00m:\n\u001b[1;32m   3814\u001b[0m     \u001b[39m# If we have a listlike key, _check_indexing_error will raise\u001b[39;00m\n\u001b[1;32m   3815\u001b[0m     \u001b[39m#  InvalidIndexError. Otherwise we fall through and re-raise\u001b[39;00m\n\u001b[1;32m   3816\u001b[0m     \u001b[39m#  the TypeError.\u001b[39;00m\n\u001b[1;32m   3817\u001b[0m     \u001b[39mself\u001b[39m\u001b[39m.\u001b[39m_check_indexing_error(key)\n",
      "\u001b[0;31mKeyError\u001b[0m: 'payment_amount'"
     ]
    }
   ],
   "source": [
    "tickets_2012 = city_sticker_tickets[(city_sticker_tickets['issue_date'] >= '2012-02-25') & \n",
    "                                    (city_sticker_tickets['issue_date'] < '2013-01-01')]\n",
    "tickets_2013 = city_sticker_tickets[city_sticker_tickets['issue_date'].dt.year == 2013]\n",
    "\n",
    "# Step 3: Calculate repayment rates for 2012 and 2013\n",
    "# Assuming 'payment_amount' indicates the amount paid (create this column if necessary)\n",
    "# If 'payment_amount' is greater than zero, the ticket is considered paid\n",
    "\n",
    "# Repayment rate for 2012\n",
    "tickets_2012['paid'] = tickets_2012['payment_amount'] > 0\n",
    "num_tickets_2012 = len(tickets_2012)\n",
    "num_paid_2012 = tickets_2012['paid'].sum()\n",
    "repayment_rate_2012 = num_paid_2012 / num_tickets_2012\n",
    "\n",
    "# Repayment rate for 2013\n",
    "tickets_2013['paid'] = tickets_2013['payment_amount'] > 0\n",
    "num_tickets_2013 = len(tickets_2013)\n",
    "num_paid_2013 = tickets_2013['paid'].sum()\n",
    "repayment_rate_2013 = num_paid_2013 / num_tickets_2013\n",
    "\n",
    "print(f\"Repayment Rate in 2012 (Feb 25 onwards): {repayment_rate_2012:.2%}\")\n",
    "print(f\"Repayment Rate in 2013: {repayment_rate_2013:.2%}\")\n",
    "\n",
    "# Step 4: Project revenue using the new repayment rate (assuming same number of tickets issued)\n",
    "# Define old and new ticket prices (adjust these values based on actual data)\n",
    "old_price = 120  # Example old price\n",
    "new_price = 200  # Example new price\n",
    "\n",
    "# Revenue before the price increase\n",
    "revenue_before = num_tickets_2012 * repayment_rate_2012 * old_price\n",
    "\n",
    "# Revenue after the price increase using the new repayment rate\n",
    "revenue_after = num_tickets_2012 * repayment_rate_2013 * new_price\n",
    "\n",
    "# Calculate the change in revenue\n",
    "revenue_change = (revenue_after - revenue_before) * 100  # Multiply by 100 to account for 1% sample\n",
    "\n",
    "# Output the projected change in revenue\n",
    "print(f\"Projected Change in Revenue: ${revenue_change:,.2f}\")"
   ]
  },
  {
   "cell_type": "code",
   "execution_count": null,
   "id": "242783d5-6c12-4225-a0c4-50796afd91c4",
   "metadata": {
    "vscode": {
     "languageId": "quarto"
    }
   },
   "outputs": [
    {
     "ename": "KeyError",
     "evalue": "'payment_amount'",
     "output_type": "error",
     "traceback": [
      "\u001b[0;31m---------------------------------------------------------------------------\u001b[0m",
      "\u001b[0;31mKeyError\u001b[0m                                  Traceback (most recent call last)",
      "File \u001b[0;32m/opt/anaconda3/lib/python3.11/site-packages/pandas/core/indexes/base.py:3805\u001b[0m, in \u001b[0;36mIndex.get_loc\u001b[0;34m(self, key)\u001b[0m\n\u001b[1;32m   3804\u001b[0m \u001b[39mtry\u001b[39;00m:\n\u001b[0;32m-> 3805\u001b[0m     \u001b[39mreturn\u001b[39;00m \u001b[39mself\u001b[39m\u001b[39m.\u001b[39m_engine\u001b[39m.\u001b[39mget_loc(casted_key)\n\u001b[1;32m   3806\u001b[0m \u001b[39mexcept\u001b[39;00m \u001b[39mKeyError\u001b[39;00m \u001b[39mas\u001b[39;00m err:\n",
      "File \u001b[0;32mindex.pyx:167\u001b[0m, in \u001b[0;36mpandas._libs.index.IndexEngine.get_loc\u001b[0;34m()\u001b[0m\n",
      "File \u001b[0;32mindex.pyx:196\u001b[0m, in \u001b[0;36mpandas._libs.index.IndexEngine.get_loc\u001b[0;34m()\u001b[0m\n",
      "File \u001b[0;32mpandas/_libs/hashtable_class_helper.pxi:7081\u001b[0m, in \u001b[0;36mpandas._libs.hashtable.PyObjectHashTable.get_item\u001b[0;34m()\u001b[0m\n",
      "File \u001b[0;32mpandas/_libs/hashtable_class_helper.pxi:7089\u001b[0m, in \u001b[0;36mpandas._libs.hashtable.PyObjectHashTable.get_item\u001b[0;34m()\u001b[0m\n",
      "\u001b[0;31mKeyError\u001b[0m: 'payment_amount'",
      "\nThe above exception was the direct cause of the following exception:\n",
      "\u001b[0;31mKeyError\u001b[0m                                  Traceback (most recent call last)",
      "File \u001b[1;32m/Users/hkkkkk/Documents/GitHub/ppha30538_fall2024/30538-dap-ii-problem-set-2-ps2-dap2-python-fall2024/pset2_template.qmd:9\u001b[0m\n\u001b[1;32m      2\u001b[0m tickets_2013 \u001b[39m=\u001b[39m city_sticker_tickets[city_sticker_tickets[\u001b[39m'\u001b[39m\u001b[39missue_date\u001b[39m\u001b[39m'\u001b[39m]\u001b[39m.\u001b[39mdt\u001b[39m.\u001b[39myear \u001b[39m==\u001b[39m \u001b[39m2013\u001b[39m]\n\u001b[1;32m      4\u001b[0m \u001b[39m# Step 3: Calculate repayment rates for 2012 and 2013\u001b[39;00m\n\u001b[1;32m      5\u001b[0m \u001b[39m# Assuming 'payment_amount' indicates the amount paid (create this column if necessary)\u001b[39;00m\n\u001b[1;32m      6\u001b[0m \u001b[39m# If 'payment_amount' is greater than zero, the ticket is considered paid\u001b[39;00m\n\u001b[1;32m      7\u001b[0m \n\u001b[1;32m      8\u001b[0m \u001b[39m# Repayment rate for 2012\u001b[39;00m\n\u001b[0;32m----> 9\u001b[0m tickets_2012[\u001b[39m'\u001b[39m\u001b[39mpaid\u001b[39m\u001b[39m'\u001b[39m] \u001b[39m=\u001b[39m tickets_2012[\u001b[39m'\u001b[39m\u001b[39mpayment_amount\u001b[39m\u001b[39m'\u001b[39m] \u001b[39m>\u001b[39m \u001b[39m0\u001b[39m\n\u001b[1;32m     10\u001b[0m num_tickets_2012 \u001b[39m=\u001b[39m \u001b[39mlen\u001b[39m(tickets_2012)\n\u001b[1;32m     11\u001b[0m num_paid_2012 \u001b[39m=\u001b[39m tickets_2012[\u001b[39m'\u001b[39m\u001b[39mpaid\u001b[39m\u001b[39m'\u001b[39m]\u001b[39m.\u001b[39msum()\n",
      "File \u001b[0;32m/opt/anaconda3/lib/python3.11/site-packages/pandas/core/frame.py:4090\u001b[0m, in \u001b[0;36mDataFrame.__getitem__\u001b[0;34m(self, key)\u001b[0m\n\u001b[1;32m   4088\u001b[0m \u001b[39mif\u001b[39;00m \u001b[39mself\u001b[39m\u001b[39m.\u001b[39mcolumns\u001b[39m.\u001b[39mnlevels \u001b[39m>\u001b[39m \u001b[39m1\u001b[39m:\n\u001b[1;32m   4089\u001b[0m     \u001b[39mreturn\u001b[39;00m \u001b[39mself\u001b[39m\u001b[39m.\u001b[39m_getitem_multilevel(key)\n\u001b[0;32m-> 4090\u001b[0m indexer \u001b[39m=\u001b[39m \u001b[39mself\u001b[39m\u001b[39m.\u001b[39mcolumns\u001b[39m.\u001b[39mget_loc(key)\n\u001b[1;32m   4091\u001b[0m \u001b[39mif\u001b[39;00m is_integer(indexer):\n\u001b[1;32m   4092\u001b[0m     indexer \u001b[39m=\u001b[39m [indexer]\n",
      "File \u001b[0;32m/opt/anaconda3/lib/python3.11/site-packages/pandas/core/indexes/base.py:3812\u001b[0m, in \u001b[0;36mIndex.get_loc\u001b[0;34m(self, key)\u001b[0m\n\u001b[1;32m   3807\u001b[0m     \u001b[39mif\u001b[39;00m \u001b[39misinstance\u001b[39m(casted_key, \u001b[39mslice\u001b[39m) \u001b[39mor\u001b[39;00m (\n\u001b[1;32m   3808\u001b[0m         \u001b[39misinstance\u001b[39m(casted_key, abc\u001b[39m.\u001b[39mIterable)\n\u001b[1;32m   3809\u001b[0m         \u001b[39mand\u001b[39;00m \u001b[39many\u001b[39m(\u001b[39misinstance\u001b[39m(x, \u001b[39mslice\u001b[39m) \u001b[39mfor\u001b[39;00m x \u001b[39min\u001b[39;00m casted_key)\n\u001b[1;32m   3810\u001b[0m     ):\n\u001b[1;32m   3811\u001b[0m         \u001b[39mraise\u001b[39;00m InvalidIndexError(key)\n\u001b[0;32m-> 3812\u001b[0m     \u001b[39mraise\u001b[39;00m \u001b[39mKeyError\u001b[39;00m(key) \u001b[39mfrom\u001b[39;00m \u001b[39merr\u001b[39;00m\n\u001b[1;32m   3813\u001b[0m \u001b[39mexcept\u001b[39;00m \u001b[39mTypeError\u001b[39;00m:\n\u001b[1;32m   3814\u001b[0m     \u001b[39m# If we have a listlike key, _check_indexing_error will raise\u001b[39;00m\n\u001b[1;32m   3815\u001b[0m     \u001b[39m#  InvalidIndexError. Otherwise we fall through and re-raise\u001b[39;00m\n\u001b[1;32m   3816\u001b[0m     \u001b[39m#  the TypeError.\u001b[39;00m\n\u001b[1;32m   3817\u001b[0m     \u001b[39mself\u001b[39m\u001b[39m.\u001b[39m_check_indexing_error(key)\n",
      "\u001b[0;31mKeyError\u001b[0m: 'payment_amount'"
     ]
    }
   ],
   "source": [
    "tickets_2012 = city_sticker_tickets[(city_sticker_tickets['issue_date'] >= '2012-02-25') & (city_sticker_tickets['issue_date'] < '2013-01-01')]\n",
    "tickets_2013 = city_sticker_tickets[city_sticker_tickets['issue_date'].dt.year == 2013]\n",
    "\n",
    "# Step 3: Calculate repayment rates for 2012 and 2013\n",
    "# Assuming 'payment_amount' indicates the amount paid (create this column if necessary)\n",
    "# If 'payment_amount' is greater than zero, the ticket is considered paid\n",
    "\n",
    "# Repayment rate for 2012\n",
    "tickets_2012['paid'] = tickets_2012['payment_amount'] > 0\n",
    "num_tickets_2012 = len(tickets_2012)\n",
    "num_paid_2012 = tickets_2012['paid'].sum()\n",
    "repayment_rate_2012 = num_paid_2012 / num_tickets_2012\n",
    "\n",
    "# Repayment rate for 2013\n",
    "tickets_2013['paid'] = tickets_2013['payment_amount'] > 0\n",
    "num_tickets_2013 = len(tickets_2013)\n",
    "num_paid_2013 = tickets_2013['paid'].sum()\n",
    "repayment_rate_2013 = num_paid_2013 / num_tickets_2013\n",
    "\n",
    "print(f\"Repayment Rate in 2012 (Feb 25 onwards): {repayment_rate_2012:.2%}\")\n",
    "print(f\"Repayment Rate in 2013: {repayment_rate_2013:.2%}\")\n",
    "\n",
    "# Step 4: Project revenue using the new repayment rate (assuming same number of tickets issued)\n",
    "# Define old and new ticket prices (adjust these values based on actual data)\n",
    "old_price = 120  # Example old price\n",
    "new_price = 200  # Example new price\n",
    "\n",
    "# Revenue before the price increase\n",
    "revenue_before = num_tickets_2012 * repayment_rate_2012 * old_price\n",
    "\n",
    "# Revenue after the price increase using the new repayment rate\n",
    "revenue_after = num_tickets_2012 * repayment_rate_2013 * new_price\n",
    "\n",
    "# Calculate the change in revenue\n",
    "revenue_change = (revenue_after - revenue_before) * 100  # Multiply by 100 to account for 1% sample\n",
    "\n",
    "# Output the projected change in revenue\n",
    "print(f\"Projected Change in Revenue: ${revenue_change:,.2f}\")"
   ]
  },
  {
   "cell_type": "code",
   "execution_count": null,
   "id": "535ff177-dfe9-412f-a50f-ce08300685f3",
   "metadata": {
    "vscode": {
     "languageId": "quarto"
    }
   },
   "outputs": [
    {
     "name": "stdout",
     "output_type": "stream",
     "text": [
      "Projected revenue increase: $15816000.00\n"
     ]
    }
   ],
   "source": [
    "city_sticker_tickets_prior = city_sticker_tickets[(city_sticker_tickets['issue_date'] >= '2012-02-25') &                                (city_sticker_tickets['issue_date'] < '2013-01-01')]\n",
    "\n",
    "num_tickets_prior = len(city_sticker_tickets_prior)\n",
    "old_price = 120 \n",
    "new_price = 200 \n",
    "\n",
    "revenue_before = num_tickets_prior * old_price\n",
    "revenue_after = num_tickets_prior * new_price\n",
    "revenue_increase = (revenue_after - revenue_before) * 100 \n",
    "\n",
    "print(f\"Projected revenue increase: ${revenue_increase:.2f}\")"
   ]
  },
  {
   "cell_type": "code",
   "execution_count": null,
   "id": "2bb26edd-d119-436d-add5-fef978834609",
   "metadata": {
    "vscode": {
     "languageId": "quarto"
    }
   },
   "outputs": [
    {
     "name": "stdout",
     "output_type": "stream",
     "text": [
      "Repayment Rate in 2012 (Feb 25 onwards): 51.80%\n",
      "Repayment Rate in 2013: 43.79%\n",
      "Projected Change in Revenue: $5,025,190.49\n"
     ]
    }
   ],
   "source": [
    "# Step 2: Filter tickets for 2012 (before price increase) and 2013 (after price increase)\n",
    "tickets_2012 = city_sticker_tickets[(city_sticker_tickets['issue_date'] >= '2012-02-25') & (city_sticker_tickets['issue_date'] < '2013-01-01')]\n",
    "tickets_2013 = city_sticker_tickets[city_sticker_tickets['issue_date'].dt.year == 2013]\n",
    "\n",
    "# Step 3: Calculate repayment rates based on 'total_payments' being greater than 0\n",
    "tickets_2012['paid'] = tickets_2012['total_payments'] > 0\n",
    "num_tickets_2012 = len(tickets_2012)\n",
    "num_paid_2012 = tickets_2012['paid'].sum()\n",
    "repayment_rate_2012 = num_paid_2012 / num_tickets_2012\n",
    "\n",
    "tickets_2013['paid'] = tickets_2013['total_payments'] > 0\n",
    "num_tickets_2013 = len(tickets_2013)\n",
    "num_paid_2013 = tickets_2013['paid'].sum()\n",
    "repayment_rate_2013 = num_paid_2013 / num_tickets_2013\n",
    "\n",
    "# Output the repayment rates\n",
    "print(f\"Repayment Rate in 2012 (Feb 25 onwards): {repayment_rate_2012:.2%}\")\n",
    "print(f\"Repayment Rate in 2013: {repayment_rate_2013:.2%}\")\n",
    "\n",
    "# Step 4: Calculate revenue before and after the price increase\n",
    "# Define old and new ticket prices (adjust these values based on actual data)\n",
    "old_price = 120  # Example old price before increase\n",
    "new_price = 200  # Example new price after increase\n",
    "\n",
    "# Revenue calculation for 2012\n",
    "revenue_before = num_tickets_2012 * repayment_rate_2012 * old_price\n",
    "\n",
    "# Revenue calculation for 2013 using new repayment rate and new price\n",
    "revenue_after = num_tickets_2012 * repayment_rate_2013 * new_price  # Same ticket count assumed\n",
    "\n",
    "# Step 5: Calculate the change in revenue and scale it for the full dataset\n",
    "revenue_change = (revenue_after - revenue_before) * 100  # Multiply by 100 to account for 1% sample\n",
    "\n",
    "# Output the projected change in revenue\n",
    "print(f\"Projected Change in Revenue: ${revenue_change:,.2f}\")"
   ]
  },
  {
   "cell_type": "code",
   "execution_count": null,
   "id": "c05e69da-6083-4a42-beec-ec90b5d41c9e",
   "metadata": {
    "vscode": {
     "languageId": "quarto"
    }
   },
   "outputs": [
    {
     "name": "stdout",
     "output_type": "stream",
     "text": [
      "Repayment Rate in 2012 (Feb 25 onwards): 51.80%\n",
      "Repayment Rate in 2013: 43.79%\n",
      "Projected Change in Revenue: $5,025,190.49\n"
     ]
    }
   ],
   "source": [
    "tickets_2012 = city_sticker_tickets[(city_sticker_tickets['issue_date'] >= '2012-02-25') & (city_sticker_tickets['issue_date'] < '2013-01-01')]\n",
    "tickets_2013 = city_sticker_tickets[city_sticker_tickets['issue_date'].dt.year == 2013]\n",
    "\n",
    "tickets_2012['paid'] = tickets_2012['total_payments'] > 0\n",
    "num_tickets_2012 = len(tickets_2012)\n",
    "num_paid_2012 = tickets_2012['paid'].sum()\n",
    "repayment_rate_2012 = num_paid_2012 / num_tickets_2012\n",
    "\n",
    "tickets_2013['paid'] = tickets_2013['total_payments'] > 0\n",
    "num_tickets_2013 = len(tickets_2013)\n",
    "num_paid_2013 = tickets_2013['paid'].sum()\n",
    "repayment_rate_2013 = num_paid_2013 / num_tickets_2013\n",
    "\n",
    "print(f\"Repayment Rate in 2012 (Feb 25 onwards): {repayment_rate_2012:.2%}\")\n",
    "print(f\"Repayment Rate in 2013: {repayment_rate_2013:.2%}\")\n",
    "\n",
    "old_price = 120 \n",
    "new_price = 200  \n",
    "revenue_before = num_tickets_2012 * repayment_rate_2012 * old_price\n",
    "\n",
    "revenue_after = num_tickets_2012 * repayment_rate_2013 * new_price  \n",
    "\n",
    "revenue_change = (revenue_after - revenue_before) * 100  \n",
    "\n",
    "print(f\"Projected Change in Revenue: ${revenue_change:,.2f}\")"
   ]
  },
  {
   "cell_type": "code",
   "execution_count": null,
   "id": "a6b5eeb3-701c-43f6-b7a4-52b3b483742b",
   "metadata": {
    "vscode": {
     "languageId": "quarto"
    }
   },
   "outputs": [
    {
     "ename": "NameError",
     "evalue": "name 'monthly_repayment' is not defined",
     "output_type": "error",
     "traceback": [
      "\u001b[0;31m---------------------------------------------------------------------------\u001b[0m",
      "\u001b[0;31mNameError\u001b[0m                                 Traceback (most recent call last)",
      "File \u001b[1;32m/Users/hkkkkk/Documents/GitHub/ppha30538_fall2024/30538-dap-ii-problem-set-2-ps2-dap2-python-fall2024/pset2_template.qmd:1\u001b[0m\n\u001b[0;32m----> 1\u001b[0m monthly_repayment[\u001b[39m'\u001b[39m\u001b[39mrepayment_rate\u001b[39m\u001b[39m'\u001b[39m] \u001b[39m=\u001b[39m monthly_repayment[\u001b[39m'\u001b[39m\u001b[39mtickets_paid\u001b[39m\u001b[39m'\u001b[39m] \u001b[39m/\u001b[39m monthly_repayment[\u001b[39m'\u001b[39m\u001b[39mtotal_tickets\u001b[39m\u001b[39m'\u001b[39m]\n\u001b[1;32m      3\u001b[0m \u001b[39m# Convert 'month' back to a timestamp for plotting\u001b[39;00m\n\u001b[1;32m      4\u001b[0m monthly_repayment[\u001b[39m'\u001b[39m\u001b[39mmonth\u001b[39m\u001b[39m'\u001b[39m] \u001b[39m=\u001b[39m monthly_repayment[\u001b[39m'\u001b[39m\u001b[39mmonth\u001b[39m\u001b[39m'\u001b[39m]\u001b[39m.\u001b[39mdt\u001b[39m.\u001b[39mto_timestamp()\n",
      "\u001b[0;31mNameError\u001b[0m: name 'monthly_repayment' is not defined"
     ]
    }
   ],
   "source": [
    "monthly_repayment['repayment_rate'] = monthly_repayment['tickets_paid'] / monthly_repayment['total_tickets']\n",
    "\n",
    "# Convert 'month' back to a timestamp for plotting\n",
    "monthly_repayment['month'] = monthly_repayment['month'].dt.to_timestamp()\n",
    "\n",
    "# Step 5: Create a line chart for repayment rates\n",
    "repayment_rate_chart = alt.Chart(monthly_repayment).mark_line().encode(\n",
    "    x=alt.X('month:T', title='Month'),\n",
    "    y=alt.Y('repayment_rate:Q', title='Repayment Rate'),\n",
    "    tooltip=['month', 'repayment_rate']\n",
    ").properties(\n",
    "    title='Repayment Rates for Missing City Sticker Tickets'\n",
    ")\n",
    "\n",
    "# Step 6: Add a vertical line for the policy change (assumed on January 1, 2013)\n",
    "policy_change_date = pd.to_datetime('2013-01-01')\n",
    "policy_change_line = alt.Chart(pd.DataFrame({'policy_change': [policy_change_date]})).mark_rule(color='red').encode(\n",
    "    x='policy_change:T'\n",
    ")\n",
    "\n",
    "# Combine the repayment rate chart and the vertical policy change line\n",
    "final_chart = repayment_rate_chart + policy_change_line\n",
    "\n",
    "# Display the chart\n",
    "final_chart.show()"
   ]
  },
  {
   "cell_type": "code",
   "execution_count": null,
   "id": "8790145c-46d2-4e18-99eb-9513c4d40958",
   "metadata": {
    "vscode": {
     "languageId": "quarto"
    }
   },
   "outputs": [
    {
     "ename": "KeyError",
     "evalue": "'month'",
     "output_type": "error",
     "traceback": [
      "\u001b[0;31m---------------------------------------------------------------------------\u001b[0m",
      "\u001b[0;31mKeyError\u001b[0m                                  Traceback (most recent call last)",
      "File \u001b[1;32m/Users/hkkkkk/Documents/GitHub/ppha30538_fall2024/30538-dap-ii-problem-set-2-ps2-dap2-python-fall2024/pset2_template.qmd:1\u001b[0m\n\u001b[0;32m----> 1\u001b[0m monthly_repayment \u001b[39m=\u001b[39m city_sticker_tickets\u001b[39m.\u001b[39mgroupby(\u001b[39m'\u001b[39m\u001b[39mmonth\u001b[39m\u001b[39m'\u001b[39m)\u001b[39m.\u001b[39magg(\n\u001b[1;32m      2\u001b[0m     total_tickets\u001b[39m=\u001b[39m(\u001b[39m'\u001b[39m\u001b[39mcombined_code\u001b[39m\u001b[39m'\u001b[39m, \u001b[39m'\u001b[39m\u001b[39msize\u001b[39m\u001b[39m'\u001b[39m),\n\u001b[1;32m      3\u001b[0m     tickets_paid\u001b[39m=\u001b[39m(\u001b[39m'\u001b[39m\u001b[39mpaid\u001b[39m\u001b[39m'\u001b[39m, \u001b[39m'\u001b[39m\u001b[39msum\u001b[39m\u001b[39m'\u001b[39m)\n\u001b[1;32m      4\u001b[0m )\u001b[39m.\u001b[39mreset_index()\n\u001b[1;32m      6\u001b[0m monthly_repayment[\u001b[39m'\u001b[39m\u001b[39mrepayment_rate\u001b[39m\u001b[39m'\u001b[39m] \u001b[39m=\u001b[39m monthly_repayment[\u001b[39m'\u001b[39m\u001b[39mtickets_paid\u001b[39m\u001b[39m'\u001b[39m] \u001b[39m/\u001b[39m monthly_repayment[\u001b[39m'\u001b[39m\u001b[39mtotal_tickets\u001b[39m\u001b[39m'\u001b[39m]\n\u001b[1;32m      8\u001b[0m \u001b[39m# Convert 'month' back to a timestamp for plotting\u001b[39;00m\n",
      "File \u001b[0;32m/opt/anaconda3/lib/python3.11/site-packages/pandas/core/frame.py:9170\u001b[0m, in \u001b[0;36mDataFrame.groupby\u001b[0;34m(self, by, axis, level, as_index, sort, group_keys, observed, dropna)\u001b[0m\n\u001b[1;32m   9167\u001b[0m \u001b[39mif\u001b[39;00m level \u001b[39mis\u001b[39;00m \u001b[39mNone\u001b[39;00m \u001b[39mand\u001b[39;00m by \u001b[39mis\u001b[39;00m \u001b[39mNone\u001b[39;00m:\n\u001b[1;32m   9168\u001b[0m     \u001b[39mraise\u001b[39;00m \u001b[39mTypeError\u001b[39;00m(\u001b[39m\"\u001b[39m\u001b[39mYou have to supply one of \u001b[39m\u001b[39m'\u001b[39m\u001b[39mby\u001b[39m\u001b[39m'\u001b[39m\u001b[39m and \u001b[39m\u001b[39m'\u001b[39m\u001b[39mlevel\u001b[39m\u001b[39m'\u001b[39m\u001b[39m\"\u001b[39m)\n\u001b[0;32m-> 9170\u001b[0m \u001b[39mreturn\u001b[39;00m DataFrameGroupBy(\n\u001b[1;32m   9171\u001b[0m     obj\u001b[39m=\u001b[39m\u001b[39mself\u001b[39m,\n\u001b[1;32m   9172\u001b[0m     keys\u001b[39m=\u001b[39mby,\n\u001b[1;32m   9173\u001b[0m     axis\u001b[39m=\u001b[39maxis,\n\u001b[1;32m   9174\u001b[0m     level\u001b[39m=\u001b[39mlevel,\n\u001b[1;32m   9175\u001b[0m     as_index\u001b[39m=\u001b[39mas_index,\n\u001b[1;32m   9176\u001b[0m     sort\u001b[39m=\u001b[39msort,\n\u001b[1;32m   9177\u001b[0m     group_keys\u001b[39m=\u001b[39mgroup_keys,\n\u001b[1;32m   9178\u001b[0m     observed\u001b[39m=\u001b[39mobserved,\n\u001b[1;32m   9179\u001b[0m     dropna\u001b[39m=\u001b[39mdropna,\n\u001b[1;32m   9180\u001b[0m )\n",
      "File \u001b[0;32m/opt/anaconda3/lib/python3.11/site-packages/pandas/core/groupby/groupby.py:1329\u001b[0m, in \u001b[0;36mGroupBy.__init__\u001b[0;34m(self, obj, keys, axis, level, grouper, exclusions, selection, as_index, sort, group_keys, observed, dropna)\u001b[0m\n\u001b[1;32m   1326\u001b[0m \u001b[39mself\u001b[39m\u001b[39m.\u001b[39mdropna \u001b[39m=\u001b[39m dropna\n\u001b[1;32m   1328\u001b[0m \u001b[39mif\u001b[39;00m grouper \u001b[39mis\u001b[39;00m \u001b[39mNone\u001b[39;00m:\n\u001b[0;32m-> 1329\u001b[0m     grouper, exclusions, obj \u001b[39m=\u001b[39m get_grouper(\n\u001b[1;32m   1330\u001b[0m         obj,\n\u001b[1;32m   1331\u001b[0m         keys,\n\u001b[1;32m   1332\u001b[0m         axis\u001b[39m=\u001b[39maxis,\n\u001b[1;32m   1333\u001b[0m         level\u001b[39m=\u001b[39mlevel,\n\u001b[1;32m   1334\u001b[0m         sort\u001b[39m=\u001b[39msort,\n\u001b[1;32m   1335\u001b[0m         observed\u001b[39m=\u001b[39m\u001b[39mFalse\u001b[39;00m \u001b[39mif\u001b[39;00m observed \u001b[39mis\u001b[39;00m lib\u001b[39m.\u001b[39mno_default \u001b[39melse\u001b[39;00m observed,\n\u001b[1;32m   1336\u001b[0m         dropna\u001b[39m=\u001b[39m\u001b[39mself\u001b[39m\u001b[39m.\u001b[39mdropna,\n\u001b[1;32m   1337\u001b[0m     )\n\u001b[1;32m   1339\u001b[0m \u001b[39mif\u001b[39;00m observed \u001b[39mis\u001b[39;00m lib\u001b[39m.\u001b[39mno_default:\n\u001b[1;32m   1340\u001b[0m     \u001b[39mif\u001b[39;00m \u001b[39many\u001b[39m(ping\u001b[39m.\u001b[39m_passed_categorical \u001b[39mfor\u001b[39;00m ping \u001b[39min\u001b[39;00m grouper\u001b[39m.\u001b[39mgroupings):\n",
      "File \u001b[0;32m/opt/anaconda3/lib/python3.11/site-packages/pandas/core/groupby/grouper.py:1043\u001b[0m, in \u001b[0;36mget_grouper\u001b[0;34m(obj, key, axis, level, sort, observed, validate, dropna)\u001b[0m\n\u001b[1;32m   1041\u001b[0m         in_axis, level, gpr \u001b[39m=\u001b[39m \u001b[39mFalse\u001b[39;00m, gpr, \u001b[39mNone\u001b[39;00m\n\u001b[1;32m   1042\u001b[0m     \u001b[39melse\u001b[39;00m:\n\u001b[0;32m-> 1043\u001b[0m         \u001b[39mraise\u001b[39;00m \u001b[39mKeyError\u001b[39;00m(gpr)\n\u001b[1;32m   1044\u001b[0m \u001b[39melif\u001b[39;00m \u001b[39misinstance\u001b[39m(gpr, Grouper) \u001b[39mand\u001b[39;00m gpr\u001b[39m.\u001b[39mkey \u001b[39mis\u001b[39;00m \u001b[39mnot\u001b[39;00m \u001b[39mNone\u001b[39;00m:\n\u001b[1;32m   1045\u001b[0m     \u001b[39m# Add key to exclusions\u001b[39;00m\n\u001b[1;32m   1046\u001b[0m     exclusions\u001b[39m.\u001b[39madd(gpr\u001b[39m.\u001b[39mkey)\n",
      "\u001b[0;31mKeyError\u001b[0m: 'month'"
     ]
    }
   ],
   "source": [
    "monthly_repayment = city_sticker_tickets.groupby('month').agg(\n",
    "    total_tickets=('combined_code', 'size'),\n",
    "    tickets_paid=('paid', 'sum')\n",
    ").reset_index()\n",
    "\n",
    "monthly_repayment['repayment_rate'] = monthly_repayment['tickets_paid'] / monthly_repayment['total_tickets']\n",
    "\n",
    "# Convert 'month' back to a timestamp for plotting\n",
    "monthly_repayment['month'] = monthly_repayment['month'].dt.to_timestamp()\n",
    "\n",
    "# Step 5: Create a line chart for repayment rates\n",
    "repayment_rate_chart = alt.Chart(monthly_repayment).mark_line().encode(\n",
    "    x=alt.X('month:T', title='Month'),\n",
    "    y=alt.Y('repayment_rate:Q', title='Repayment Rate'),\n",
    "    tooltip=['month', 'repayment_rate']\n",
    ").properties(\n",
    "    title='Repayment Rates for Missing City Sticker Tickets'\n",
    ")\n",
    "\n",
    "# Step 6: Add a vertical line for the policy change (assumed on January 1, 2013)\n",
    "policy_change_date = pd.to_datetime('2013-01-01')\n",
    "policy_change_line = alt.Chart(pd.DataFrame({'policy_change': [policy_change_date]})).mark_rule(color='red').encode(\n",
    "    x='policy_change:T'\n",
    ")\n",
    "\n",
    "# Combine the repayment rate chart and the vertical policy change line\n",
    "final_chart = repayment_rate_chart + policy_change_line\n",
    "\n",
    "# Display the chart\n",
    "final_chart.show()"
   ]
  },
  {
   "cell_type": "code",
   "execution_count": null,
   "id": "5f6ad6cb-b4af-42a3-9723-7678d9354d00",
   "metadata": {
    "vscode": {
     "languageId": "quarto"
    }
   },
   "outputs": [
    {
     "ename": "KeyError",
     "evalue": "'month'",
     "output_type": "error",
     "traceback": [
      "\u001b[0;31m---------------------------------------------------------------------------\u001b[0m",
      "\u001b[0;31mKeyError\u001b[0m                                  Traceback (most recent call last)",
      "File \u001b[1;32m/Users/hkkkkk/Documents/GitHub/ppha30538_fall2024/30538-dap-ii-problem-set-2-ps2-dap2-python-fall2024/pset2_template.qmd:1\u001b[0m\n\u001b[0;32m----> 1\u001b[0m monthly_repayment \u001b[39m=\u001b[39m city_sticker_tickets\u001b[39m.\u001b[39mgroupby(\u001b[39m'\u001b[39m\u001b[39mmonth\u001b[39m\u001b[39m'\u001b[39m)\u001b[39m.\u001b[39magg(\n\u001b[1;32m      2\u001b[0m     total_tickets\u001b[39m=\u001b[39m(\u001b[39m'\u001b[39m\u001b[39mcombined_code\u001b[39m\u001b[39m'\u001b[39m, \u001b[39m'\u001b[39m\u001b[39msize\u001b[39m\u001b[39m'\u001b[39m),\n\u001b[1;32m      3\u001b[0m     tickets_paid\u001b[39m=\u001b[39m(\u001b[39m'\u001b[39m\u001b[39mpaid\u001b[39m\u001b[39m'\u001b[39m, \u001b[39m'\u001b[39m\u001b[39msum\u001b[39m\u001b[39m'\u001b[39m)\n\u001b[1;32m      4\u001b[0m )\u001b[39m.\u001b[39mreset_index()\n\u001b[1;32m      6\u001b[0m monthly_repayment[\u001b[39m'\u001b[39m\u001b[39mrepayment_rate\u001b[39m\u001b[39m'\u001b[39m] \u001b[39m=\u001b[39m monthly_repayment[\u001b[39m'\u001b[39m\u001b[39mtickets_paid\u001b[39m\u001b[39m'\u001b[39m] \u001b[39m/\u001b[39m monthly_repayment[\u001b[39m'\u001b[39m\u001b[39mtotal_tickets\u001b[39m\u001b[39m'\u001b[39m]\n\u001b[1;32m      8\u001b[0m monthly_repayment[\u001b[39m'\u001b[39m\u001b[39mmonth\u001b[39m\u001b[39m'\u001b[39m] \u001b[39m=\u001b[39m monthly_repayment[\u001b[39m'\u001b[39m\u001b[39mmonth\u001b[39m\u001b[39m'\u001b[39m]\u001b[39m.\u001b[39mdt\u001b[39m.\u001b[39mto_timestamp()\n",
      "File \u001b[0;32m/opt/anaconda3/lib/python3.11/site-packages/pandas/core/frame.py:9170\u001b[0m, in \u001b[0;36mDataFrame.groupby\u001b[0;34m(self, by, axis, level, as_index, sort, group_keys, observed, dropna)\u001b[0m\n\u001b[1;32m   9167\u001b[0m \u001b[39mif\u001b[39;00m level \u001b[39mis\u001b[39;00m \u001b[39mNone\u001b[39;00m \u001b[39mand\u001b[39;00m by \u001b[39mis\u001b[39;00m \u001b[39mNone\u001b[39;00m:\n\u001b[1;32m   9168\u001b[0m     \u001b[39mraise\u001b[39;00m \u001b[39mTypeError\u001b[39;00m(\u001b[39m\"\u001b[39m\u001b[39mYou have to supply one of \u001b[39m\u001b[39m'\u001b[39m\u001b[39mby\u001b[39m\u001b[39m'\u001b[39m\u001b[39m and \u001b[39m\u001b[39m'\u001b[39m\u001b[39mlevel\u001b[39m\u001b[39m'\u001b[39m\u001b[39m\"\u001b[39m)\n\u001b[0;32m-> 9170\u001b[0m \u001b[39mreturn\u001b[39;00m DataFrameGroupBy(\n\u001b[1;32m   9171\u001b[0m     obj\u001b[39m=\u001b[39m\u001b[39mself\u001b[39m,\n\u001b[1;32m   9172\u001b[0m     keys\u001b[39m=\u001b[39mby,\n\u001b[1;32m   9173\u001b[0m     axis\u001b[39m=\u001b[39maxis,\n\u001b[1;32m   9174\u001b[0m     level\u001b[39m=\u001b[39mlevel,\n\u001b[1;32m   9175\u001b[0m     as_index\u001b[39m=\u001b[39mas_index,\n\u001b[1;32m   9176\u001b[0m     sort\u001b[39m=\u001b[39msort,\n\u001b[1;32m   9177\u001b[0m     group_keys\u001b[39m=\u001b[39mgroup_keys,\n\u001b[1;32m   9178\u001b[0m     observed\u001b[39m=\u001b[39mobserved,\n\u001b[1;32m   9179\u001b[0m     dropna\u001b[39m=\u001b[39mdropna,\n\u001b[1;32m   9180\u001b[0m )\n",
      "File \u001b[0;32m/opt/anaconda3/lib/python3.11/site-packages/pandas/core/groupby/groupby.py:1329\u001b[0m, in \u001b[0;36mGroupBy.__init__\u001b[0;34m(self, obj, keys, axis, level, grouper, exclusions, selection, as_index, sort, group_keys, observed, dropna)\u001b[0m\n\u001b[1;32m   1326\u001b[0m \u001b[39mself\u001b[39m\u001b[39m.\u001b[39mdropna \u001b[39m=\u001b[39m dropna\n\u001b[1;32m   1328\u001b[0m \u001b[39mif\u001b[39;00m grouper \u001b[39mis\u001b[39;00m \u001b[39mNone\u001b[39;00m:\n\u001b[0;32m-> 1329\u001b[0m     grouper, exclusions, obj \u001b[39m=\u001b[39m get_grouper(\n\u001b[1;32m   1330\u001b[0m         obj,\n\u001b[1;32m   1331\u001b[0m         keys,\n\u001b[1;32m   1332\u001b[0m         axis\u001b[39m=\u001b[39maxis,\n\u001b[1;32m   1333\u001b[0m         level\u001b[39m=\u001b[39mlevel,\n\u001b[1;32m   1334\u001b[0m         sort\u001b[39m=\u001b[39msort,\n\u001b[1;32m   1335\u001b[0m         observed\u001b[39m=\u001b[39m\u001b[39mFalse\u001b[39;00m \u001b[39mif\u001b[39;00m observed \u001b[39mis\u001b[39;00m lib\u001b[39m.\u001b[39mno_default \u001b[39melse\u001b[39;00m observed,\n\u001b[1;32m   1336\u001b[0m         dropna\u001b[39m=\u001b[39m\u001b[39mself\u001b[39m\u001b[39m.\u001b[39mdropna,\n\u001b[1;32m   1337\u001b[0m     )\n\u001b[1;32m   1339\u001b[0m \u001b[39mif\u001b[39;00m observed \u001b[39mis\u001b[39;00m lib\u001b[39m.\u001b[39mno_default:\n\u001b[1;32m   1340\u001b[0m     \u001b[39mif\u001b[39;00m \u001b[39many\u001b[39m(ping\u001b[39m.\u001b[39m_passed_categorical \u001b[39mfor\u001b[39;00m ping \u001b[39min\u001b[39;00m grouper\u001b[39m.\u001b[39mgroupings):\n",
      "File \u001b[0;32m/opt/anaconda3/lib/python3.11/site-packages/pandas/core/groupby/grouper.py:1043\u001b[0m, in \u001b[0;36mget_grouper\u001b[0;34m(obj, key, axis, level, sort, observed, validate, dropna)\u001b[0m\n\u001b[1;32m   1041\u001b[0m         in_axis, level, gpr \u001b[39m=\u001b[39m \u001b[39mFalse\u001b[39;00m, gpr, \u001b[39mNone\u001b[39;00m\n\u001b[1;32m   1042\u001b[0m     \u001b[39melse\u001b[39;00m:\n\u001b[0;32m-> 1043\u001b[0m         \u001b[39mraise\u001b[39;00m \u001b[39mKeyError\u001b[39;00m(gpr)\n\u001b[1;32m   1044\u001b[0m \u001b[39melif\u001b[39;00m \u001b[39misinstance\u001b[39m(gpr, Grouper) \u001b[39mand\u001b[39;00m gpr\u001b[39m.\u001b[39mkey \u001b[39mis\u001b[39;00m \u001b[39mnot\u001b[39;00m \u001b[39mNone\u001b[39;00m:\n\u001b[1;32m   1045\u001b[0m     \u001b[39m# Add key to exclusions\u001b[39;00m\n\u001b[1;32m   1046\u001b[0m     exclusions\u001b[39m.\u001b[39madd(gpr\u001b[39m.\u001b[39mkey)\n",
      "\u001b[0;31mKeyError\u001b[0m: 'month'"
     ]
    }
   ],
   "source": [
    "monthly_repayment = city_sticker_tickets.groupby('month').agg(\n",
    "    total_tickets=('combined_code', 'size'),\n",
    "    tickets_paid=('paid', 'sum')\n",
    ").reset_index()\n",
    "\n",
    "monthly_repayment['repayment_rate'] = monthly_repayment['tickets_paid'] / monthly_repayment['total_tickets']\n",
    "\n",
    "monthly_repayment['month'] = monthly_repayment['month'].dt.to_timestamp()\n",
    "\n",
    "# Step 5: Create a line chart for repayment rates\n",
    "repayment_rate_chart = alt.Chart(monthly_repayment).mark_line().encode(\n",
    "    x=alt.X('month:T', title='Month'),\n",
    "    y=alt.Y('repayment_rate:Q', title='Repayment Rate'),\n",
    "    tooltip=['month', 'repayment_rate']\n",
    ").properties(\n",
    "    title='Repayment Rates for Missing City Sticker Tickets'\n",
    ")\n",
    "\n",
    "# Step 6: Add a vertical line for the policy change (assumed on January 1, 2013)\n",
    "policy_change_date = pd.to_datetime('2013-01-01')\n",
    "policy_change_line = alt.Chart(pd.DataFrame({'policy_change': [policy_change_date]})).mark_rule(color='red').encode(\n",
    "    x='policy_change:T'\n",
    ")\n",
    "\n",
    "# Combine the repayment rate chart and the vertical policy change line\n",
    "final_chart = repayment_rate_chart + policy_change_line\n",
    "\n",
    "# Display the chart\n",
    "final_chart.show()"
   ]
  },
  {
   "cell_type": "code",
   "execution_count": null,
   "id": "cb1a8466-985c-4e60-b651-606d2bd74120",
   "metadata": {
    "vscode": {
     "languageId": "quarto"
    }
   },
   "outputs": [
    {
     "data": {
      "text/html": [
       "\n",
       "<style>\n",
       "  #altair-viz-b16a83ff156b478b8143ffed3a8e1948.vega-embed {\n",
       "    width: 100%;\n",
       "    display: flex;\n",
       "  }\n",
       "\n",
       "  #altair-viz-b16a83ff156b478b8143ffed3a8e1948.vega-embed details,\n",
       "  #altair-viz-b16a83ff156b478b8143ffed3a8e1948.vega-embed details summary {\n",
       "    position: relative;\n",
       "  }\n",
       "</style>\n",
       "<div id=\"altair-viz-b16a83ff156b478b8143ffed3a8e1948\"></div>\n",
       "<script type=\"text/javascript\">\n",
       "  var VEGA_DEBUG = (typeof VEGA_DEBUG == \"undefined\") ? {} : VEGA_DEBUG;\n",
       "  (function(spec, embedOpt){\n",
       "    let outputDiv = document.currentScript.previousElementSibling;\n",
       "    if (outputDiv.id !== \"altair-viz-b16a83ff156b478b8143ffed3a8e1948\") {\n",
       "      outputDiv = document.getElementById(\"altair-viz-b16a83ff156b478b8143ffed3a8e1948\");\n",
       "    }\n",
       "    const paths = {\n",
       "      \"vega\": \"https://cdn.jsdelivr.net/npm/vega@5?noext\",\n",
       "      \"vega-lib\": \"https://cdn.jsdelivr.net/npm/vega-lib?noext\",\n",
       "      \"vega-lite\": \"https://cdn.jsdelivr.net/npm/vega-lite@5.20.1?noext\",\n",
       "      \"vega-embed\": \"https://cdn.jsdelivr.net/npm/vega-embed@6?noext\",\n",
       "    };\n",
       "\n",
       "    function maybeLoadScript(lib, version) {\n",
       "      var key = `${lib.replace(\"-\", \"\")}_version`;\n",
       "      return (VEGA_DEBUG[key] == version) ?\n",
       "        Promise.resolve(paths[lib]) :\n",
       "        new Promise(function(resolve, reject) {\n",
       "          var s = document.createElement('script');\n",
       "          document.getElementsByTagName(\"head\")[0].appendChild(s);\n",
       "          s.async = true;\n",
       "          s.onload = () => {\n",
       "            VEGA_DEBUG[key] = version;\n",
       "            return resolve(paths[lib]);\n",
       "          };\n",
       "          s.onerror = () => reject(`Error loading script: ${paths[lib]}`);\n",
       "          s.src = paths[lib];\n",
       "        });\n",
       "    }\n",
       "\n",
       "    function showError(err) {\n",
       "      outputDiv.innerHTML = `<div class=\"error\" style=\"color:red;\">${err}</div>`;\n",
       "      throw err;\n",
       "    }\n",
       "\n",
       "    function displayChart(vegaEmbed) {\n",
       "      vegaEmbed(outputDiv, spec, embedOpt)\n",
       "        .catch(err => showError(`Javascript Error: ${err.message}<br>This usually means there's a typo in your chart specification. See the javascript console for the full traceback.`));\n",
       "    }\n",
       "\n",
       "    if(typeof define === \"function\" && define.amd) {\n",
       "      requirejs.config({paths});\n",
       "      require([\"vega-embed\"], displayChart, err => showError(`Error loading script: ${err.message}`));\n",
       "    } else {\n",
       "      maybeLoadScript(\"vega\", \"5\")\n",
       "        .then(() => maybeLoadScript(\"vega-lite\", \"5.20.1\"))\n",
       "        .then(() => maybeLoadScript(\"vega-embed\", \"6\"))\n",
       "        .catch(showError)\n",
       "        .then(() => displayChart(vegaEmbed));\n",
       "    }\n",
       "  })({\"config\": {\"view\": {\"continuousWidth\": 300, \"continuousHeight\": 300}}, \"layer\": [{\"data\": {\"name\": \"data-b0671a151ec70b985b1d010447c5c586\"}, \"mark\": {\"type\": \"line\"}, \"encoding\": {\"tooltip\": [{\"field\": \"month\", \"type\": \"temporal\"}, {\"field\": \"repayment_rate\", \"type\": \"quantitative\"}], \"x\": {\"field\": \"month\", \"title\": \"Month\", \"type\": \"temporal\"}, \"y\": {\"field\": \"repayment_rate\", \"title\": \"Repayment Rate\", \"type\": \"quantitative\"}}, \"title\": \"Repayment Rates for Missing City Sticker Tickets\"}, {\"data\": {\"name\": \"data-4b5d0292083392bba6cb3b55cc5b672c\"}, \"mark\": {\"type\": \"rule\", \"color\": \"red\"}, \"encoding\": {\"x\": {\"field\": \"policy_change\", \"type\": \"temporal\"}}}], \"$schema\": \"https://vega.github.io/schema/vega-lite/v5.20.1.json\", \"datasets\": {\"data-b0671a151ec70b985b1d010447c5c586\": [{\"month\": \"2007-01-01T00:00:00\", \"total_tickets\": 160, \"tickets_paid\": 87, \"repayment_rate\": 0.54375}, {\"month\": \"2007-02-01T00:00:00\", \"total_tickets\": 104, \"tickets_paid\": 54, \"repayment_rate\": 0.5192307692307693}, {\"month\": \"2007-03-01T00:00:00\", \"total_tickets\": 161, \"tickets_paid\": 92, \"repayment_rate\": 0.5714285714285714}, {\"month\": \"2007-04-01T00:00:00\", \"total_tickets\": 158, \"tickets_paid\": 86, \"repayment_rate\": 0.5443037974683544}, {\"month\": \"2007-05-01T00:00:00\", \"total_tickets\": 126, \"tickets_paid\": 67, \"repayment_rate\": 0.5317460317460317}, {\"month\": \"2007-06-01T00:00:00\", \"total_tickets\": 80, \"tickets_paid\": 49, \"repayment_rate\": 0.6125}, {\"month\": \"2007-07-01T00:00:00\", \"total_tickets\": 399, \"tickets_paid\": 260, \"repayment_rate\": 0.6516290726817042}, {\"month\": \"2007-08-01T00:00:00\", \"total_tickets\": 345, \"tickets_paid\": 200, \"repayment_rate\": 0.5797101449275363}, {\"month\": \"2007-09-01T00:00:00\", \"total_tickets\": 224, \"tickets_paid\": 115, \"repayment_rate\": 0.5133928571428571}, {\"month\": \"2007-10-01T00:00:00\", \"total_tickets\": 221, \"tickets_paid\": 119, \"repayment_rate\": 0.5384615384615384}, {\"month\": \"2007-11-01T00:00:00\", \"total_tickets\": 168, \"tickets_paid\": 88, \"repayment_rate\": 0.5238095238095238}, {\"month\": \"2007-12-01T00:00:00\", \"total_tickets\": 118, \"tickets_paid\": 49, \"repayment_rate\": 0.4152542372881356}, {\"month\": \"2008-01-01T00:00:00\", \"total_tickets\": 132, \"tickets_paid\": 75, \"repayment_rate\": 0.5681818181818182}, {\"month\": \"2008-02-01T00:00:00\", \"total_tickets\": 149, \"tickets_paid\": 86, \"repayment_rate\": 0.5771812080536913}, {\"month\": \"2008-03-01T00:00:00\", \"total_tickets\": 192, \"tickets_paid\": 104, \"repayment_rate\": 0.5416666666666666}, {\"month\": \"2008-04-01T00:00:00\", \"total_tickets\": 166, \"tickets_paid\": 89, \"repayment_rate\": 0.536144578313253}, {\"month\": \"2008-05-01T00:00:00\", \"total_tickets\": 139, \"tickets_paid\": 79, \"repayment_rate\": 0.5683453237410072}, {\"month\": \"2008-06-01T00:00:00\", \"total_tickets\": 72, \"tickets_paid\": 41, \"repayment_rate\": 0.5694444444444444}, {\"month\": \"2008-07-01T00:00:00\", \"total_tickets\": 382, \"tickets_paid\": 255, \"repayment_rate\": 0.6675392670157068}, {\"month\": \"2008-08-01T00:00:00\", \"total_tickets\": 342, \"tickets_paid\": 211, \"repayment_rate\": 0.6169590643274854}, {\"month\": \"2008-09-01T00:00:00\", \"total_tickets\": 213, \"tickets_paid\": 125, \"repayment_rate\": 0.5868544600938967}, {\"month\": \"2008-10-01T00:00:00\", \"total_tickets\": 197, \"tickets_paid\": 123, \"repayment_rate\": 0.6243654822335025}, {\"month\": \"2008-11-01T00:00:00\", \"total_tickets\": 148, \"tickets_paid\": 75, \"repayment_rate\": 0.5067567567567568}, {\"month\": \"2008-12-01T00:00:00\", \"total_tickets\": 80, \"tickets_paid\": 49, \"repayment_rate\": 0.6125}, {\"month\": \"2009-01-01T00:00:00\", \"total_tickets\": 81, \"tickets_paid\": 46, \"repayment_rate\": 0.5679012345679012}, {\"month\": \"2009-02-01T00:00:00\", \"total_tickets\": 121, \"tickets_paid\": 62, \"repayment_rate\": 0.512396694214876}, {\"month\": \"2009-03-01T00:00:00\", \"total_tickets\": 171, \"tickets_paid\": 98, \"repayment_rate\": 0.5730994152046783}, {\"month\": \"2009-04-01T00:00:00\", \"total_tickets\": 149, \"tickets_paid\": 82, \"repayment_rate\": 0.5503355704697986}, {\"month\": \"2009-05-01T00:00:00\", \"total_tickets\": 132, \"tickets_paid\": 75, \"repayment_rate\": 0.5681818181818182}, {\"month\": \"2009-06-01T00:00:00\", \"total_tickets\": 89, \"tickets_paid\": 47, \"repayment_rate\": 0.5280898876404494}, {\"month\": \"2009-07-01T00:00:00\", \"total_tickets\": 392, \"tickets_paid\": 228, \"repayment_rate\": 0.5816326530612245}, {\"month\": \"2009-08-01T00:00:00\", \"total_tickets\": 347, \"tickets_paid\": 187, \"repayment_rate\": 0.5389048991354467}, {\"month\": \"2009-09-01T00:00:00\", \"total_tickets\": 211, \"tickets_paid\": 113, \"repayment_rate\": 0.5355450236966824}, {\"month\": \"2009-10-01T00:00:00\", \"total_tickets\": 188, \"tickets_paid\": 88, \"repayment_rate\": 0.46808510638297873}, {\"month\": \"2009-11-01T00:00:00\", \"total_tickets\": 170, \"tickets_paid\": 79, \"repayment_rate\": 0.4647058823529412}, {\"month\": \"2009-12-01T00:00:00\", \"total_tickets\": 98, \"tickets_paid\": 56, \"repayment_rate\": 0.5714285714285714}, {\"month\": \"2010-01-01T00:00:00\", \"total_tickets\": 156, \"tickets_paid\": 81, \"repayment_rate\": 0.5192307692307693}, {\"month\": \"2010-02-01T00:00:00\", \"total_tickets\": 129, \"tickets_paid\": 68, \"repayment_rate\": 0.5271317829457365}, {\"month\": \"2010-03-01T00:00:00\", \"total_tickets\": 153, \"tickets_paid\": 77, \"repayment_rate\": 0.5032679738562091}, {\"month\": \"2010-04-01T00:00:00\", \"total_tickets\": 138, \"tickets_paid\": 84, \"repayment_rate\": 0.6086956521739131}, {\"month\": \"2010-05-01T00:00:00\", \"total_tickets\": 140, \"tickets_paid\": 78, \"repayment_rate\": 0.5571428571428572}, {\"month\": \"2010-06-01T00:00:00\", \"total_tickets\": 99, \"tickets_paid\": 46, \"repayment_rate\": 0.46464646464646464}, {\"month\": \"2010-07-01T00:00:00\", \"total_tickets\": 26, \"tickets_paid\": 3, \"repayment_rate\": 0.11538461538461539}, {\"month\": \"2010-08-01T00:00:00\", \"total_tickets\": 425, \"tickets_paid\": 247, \"repayment_rate\": 0.5811764705882353}, {\"month\": \"2010-09-01T00:00:00\", \"total_tickets\": 237, \"tickets_paid\": 122, \"repayment_rate\": 0.5147679324894515}, {\"month\": \"2010-10-01T00:00:00\", \"total_tickets\": 197, \"tickets_paid\": 110, \"repayment_rate\": 0.5583756345177665}, {\"month\": \"2010-11-01T00:00:00\", \"total_tickets\": 168, \"tickets_paid\": 74, \"repayment_rate\": 0.44047619047619047}, {\"month\": \"2010-12-01T00:00:00\", \"total_tickets\": 117, \"tickets_paid\": 67, \"repayment_rate\": 0.5726495726495726}, {\"month\": \"2011-01-01T00:00:00\", \"total_tickets\": 153, \"tickets_paid\": 89, \"repayment_rate\": 0.5816993464052288}, {\"month\": \"2011-02-01T00:00:00\", \"total_tickets\": 87, \"tickets_paid\": 48, \"repayment_rate\": 0.5517241379310345}, {\"month\": \"2011-03-01T00:00:00\", \"total_tickets\": 147, \"tickets_paid\": 75, \"repayment_rate\": 0.5102040816326531}, {\"month\": \"2011-04-01T00:00:00\", \"total_tickets\": 135, \"tickets_paid\": 68, \"repayment_rate\": 0.5037037037037037}, {\"month\": \"2011-05-01T00:00:00\", \"total_tickets\": 134, \"tickets_paid\": 65, \"repayment_rate\": 0.48507462686567165}, {\"month\": \"2011-06-01T00:00:00\", \"total_tickets\": 78, \"tickets_paid\": 43, \"repayment_rate\": 0.5512820512820513}, {\"month\": \"2011-07-01T00:00:00\", \"total_tickets\": 317, \"tickets_paid\": 185, \"repayment_rate\": 0.583596214511041}, {\"month\": \"2011-08-01T00:00:00\", \"total_tickets\": 313, \"tickets_paid\": 181, \"repayment_rate\": 0.5782747603833865}, {\"month\": \"2011-09-01T00:00:00\", \"total_tickets\": 171, \"tickets_paid\": 99, \"repayment_rate\": 0.5789473684210527}, {\"month\": \"2011-10-01T00:00:00\", \"total_tickets\": 136, \"tickets_paid\": 75, \"repayment_rate\": 0.5514705882352942}, {\"month\": \"2011-11-01T00:00:00\", \"total_tickets\": 139, \"tickets_paid\": 70, \"repayment_rate\": 0.5035971223021583}, {\"month\": \"2011-12-01T00:00:00\", \"total_tickets\": 123, \"tickets_paid\": 72, \"repayment_rate\": 0.5853658536585366}, {\"month\": \"2012-01-01T00:00:00\", \"total_tickets\": 114, \"tickets_paid\": 57, \"repayment_rate\": 0.5}, {\"month\": \"2012-02-01T00:00:00\", \"total_tickets\": 138, \"tickets_paid\": 68, \"repayment_rate\": 0.4927536231884058}, {\"month\": \"2012-03-01T00:00:00\", \"total_tickets\": 181, \"tickets_paid\": 98, \"repayment_rate\": 0.5414364640883977}, {\"month\": \"2012-04-01T00:00:00\", \"total_tickets\": 142, \"tickets_paid\": 79, \"repayment_rate\": 0.5563380281690141}, {\"month\": \"2012-05-01T00:00:00\", \"total_tickets\": 115, \"tickets_paid\": 61, \"repayment_rate\": 0.5304347826086957}, {\"month\": \"2012-06-01T00:00:00\", \"total_tickets\": 100, \"tickets_paid\": 47, \"repayment_rate\": 0.47}, {\"month\": \"2012-07-01T00:00:00\", \"total_tickets\": 414, \"tickets_paid\": 231, \"repayment_rate\": 0.5579710144927537}, {\"month\": \"2012-08-01T00:00:00\", \"total_tickets\": 319, \"tickets_paid\": 165, \"repayment_rate\": 0.5172413793103449}, {\"month\": \"2012-09-01T00:00:00\", \"total_tickets\": 179, \"tickets_paid\": 96, \"repayment_rate\": 0.5363128491620112}, {\"month\": \"2012-10-01T00:00:00\", \"total_tickets\": 171, \"tickets_paid\": 84, \"repayment_rate\": 0.49122807017543857}, {\"month\": \"2012-11-01T00:00:00\", \"total_tickets\": 157, \"tickets_paid\": 73, \"repayment_rate\": 0.46496815286624205}, {\"month\": \"2012-12-01T00:00:00\", \"total_tickets\": 162, \"tickets_paid\": 72, \"repayment_rate\": 0.4444444444444444}, {\"month\": \"2013-01-01T00:00:00\", \"total_tickets\": 196, \"tickets_paid\": 78, \"repayment_rate\": 0.3979591836734694}, {\"month\": \"2013-02-01T00:00:00\", \"total_tickets\": 158, \"tickets_paid\": 64, \"repayment_rate\": 0.4050632911392405}, {\"month\": \"2013-03-01T00:00:00\", \"total_tickets\": 199, \"tickets_paid\": 91, \"repayment_rate\": 0.457286432160804}, {\"month\": \"2013-04-01T00:00:00\", \"total_tickets\": 187, \"tickets_paid\": 81, \"repayment_rate\": 0.43315508021390375}, {\"month\": \"2013-05-01T00:00:00\", \"total_tickets\": 179, \"tickets_paid\": 87, \"repayment_rate\": 0.4860335195530726}, {\"month\": \"2013-06-01T00:00:00\", \"total_tickets\": 140, \"tickets_paid\": 55, \"repayment_rate\": 0.39285714285714285}, {\"month\": \"2013-07-01T00:00:00\", \"total_tickets\": 499, \"tickets_paid\": 291, \"repayment_rate\": 0.5831663326653307}, {\"month\": \"2013-08-01T00:00:00\", \"total_tickets\": 355, \"tickets_paid\": 151, \"repayment_rate\": 0.4253521126760563}, {\"month\": \"2013-09-01T00:00:00\", \"total_tickets\": 221, \"tickets_paid\": 86, \"repayment_rate\": 0.3891402714932127}, {\"month\": \"2013-10-01T00:00:00\", \"total_tickets\": 208, \"tickets_paid\": 65, \"repayment_rate\": 0.3125}, {\"month\": \"2013-11-01T00:00:00\", \"total_tickets\": 127, \"tickets_paid\": 45, \"repayment_rate\": 0.3543307086614173}, {\"month\": \"2013-12-01T00:00:00\", \"total_tickets\": 98, \"tickets_paid\": 30, \"repayment_rate\": 0.30612244897959184}, {\"month\": \"2014-01-01T00:00:00\", \"total_tickets\": 100, \"tickets_paid\": 47, \"repayment_rate\": 0.47}, {\"month\": \"2014-02-01T00:00:00\", \"total_tickets\": 147, \"tickets_paid\": 63, \"repayment_rate\": 0.42857142857142855}, {\"month\": \"2014-03-01T00:00:00\", \"total_tickets\": 155, \"tickets_paid\": 67, \"repayment_rate\": 0.432258064516129}, {\"month\": \"2014-04-01T00:00:00\", \"total_tickets\": 144, \"tickets_paid\": 55, \"repayment_rate\": 0.3819444444444444}, {\"month\": \"2014-05-01T00:00:00\", \"total_tickets\": 178, \"tickets_paid\": 66, \"repayment_rate\": 0.3707865168539326}, {\"month\": \"2014-06-01T00:00:00\", \"total_tickets\": 116, \"tickets_paid\": 49, \"repayment_rate\": 0.4224137931034483}, {\"month\": \"2014-07-01T00:00:00\", \"total_tickets\": 267, \"tickets_paid\": 128, \"repayment_rate\": 0.4794007490636704}, {\"month\": \"2014-08-01T00:00:00\", \"total_tickets\": 245, \"tickets_paid\": 102, \"repayment_rate\": 0.4163265306122449}, {\"month\": \"2014-09-01T00:00:00\", \"total_tickets\": 178, \"tickets_paid\": 63, \"repayment_rate\": 0.3539325842696629}, {\"month\": \"2014-10-01T00:00:00\", \"total_tickets\": 165, \"tickets_paid\": 63, \"repayment_rate\": 0.38181818181818183}, {\"month\": \"2014-11-01T00:00:00\", \"total_tickets\": 153, \"tickets_paid\": 59, \"repayment_rate\": 0.38562091503267976}, {\"month\": \"2014-12-01T00:00:00\", \"total_tickets\": 177, \"tickets_paid\": 79, \"repayment_rate\": 0.4463276836158192}, {\"month\": \"2015-01-01T00:00:00\", \"total_tickets\": 179, \"tickets_paid\": 84, \"repayment_rate\": 0.4692737430167598}, {\"month\": \"2015-02-01T00:00:00\", \"total_tickets\": 142, \"tickets_paid\": 61, \"repayment_rate\": 0.4295774647887324}, {\"month\": \"2015-03-01T00:00:00\", \"total_tickets\": 223, \"tickets_paid\": 99, \"repayment_rate\": 0.4439461883408072}, {\"month\": \"2015-04-01T00:00:00\", \"total_tickets\": 191, \"tickets_paid\": 72, \"repayment_rate\": 0.3769633507853403}, {\"month\": \"2015-05-01T00:00:00\", \"total_tickets\": 191, \"tickets_paid\": 90, \"repayment_rate\": 0.4712041884816754}, {\"month\": \"2015-06-01T00:00:00\", \"total_tickets\": 198, \"tickets_paid\": 79, \"repayment_rate\": 0.398989898989899}, {\"month\": \"2015-07-01T00:00:00\", \"total_tickets\": 217, \"tickets_paid\": 102, \"repayment_rate\": 0.4700460829493088}, {\"month\": \"2015-08-01T00:00:00\", \"total_tickets\": 210, \"tickets_paid\": 80, \"repayment_rate\": 0.38095238095238093}, {\"month\": \"2015-09-01T00:00:00\", \"total_tickets\": 225, \"tickets_paid\": 98, \"repayment_rate\": 0.43555555555555553}, {\"month\": \"2015-10-01T00:00:00\", \"total_tickets\": 245, \"tickets_paid\": 105, \"repayment_rate\": 0.42857142857142855}, {\"month\": \"2015-11-01T00:00:00\", \"total_tickets\": 226, \"tickets_paid\": 105, \"repayment_rate\": 0.4646017699115044}, {\"month\": \"2015-12-01T00:00:00\", \"total_tickets\": 220, \"tickets_paid\": 106, \"repayment_rate\": 0.4818181818181818}, {\"month\": \"2016-01-01T00:00:00\", \"total_tickets\": 202, \"tickets_paid\": 92, \"repayment_rate\": 0.45544554455445546}, {\"month\": \"2016-02-01T00:00:00\", \"total_tickets\": 206, \"tickets_paid\": 91, \"repayment_rate\": 0.441747572815534}, {\"month\": \"2016-03-01T00:00:00\", \"total_tickets\": 241, \"tickets_paid\": 112, \"repayment_rate\": 0.46473029045643155}, {\"month\": \"2016-04-01T00:00:00\", \"total_tickets\": 203, \"tickets_paid\": 81, \"repayment_rate\": 0.39901477832512317}, {\"month\": \"2016-05-01T00:00:00\", \"total_tickets\": 185, \"tickets_paid\": 76, \"repayment_rate\": 0.41081081081081083}, {\"month\": \"2016-06-01T00:00:00\", \"total_tickets\": 175, \"tickets_paid\": 81, \"repayment_rate\": 0.46285714285714286}, {\"month\": \"2016-07-01T00:00:00\", \"total_tickets\": 160, \"tickets_paid\": 85, \"repayment_rate\": 0.53125}, {\"month\": \"2016-08-01T00:00:00\", \"total_tickets\": 151, \"tickets_paid\": 65, \"repayment_rate\": 0.4304635761589404}, {\"month\": \"2016-09-01T00:00:00\", \"total_tickets\": 183, \"tickets_paid\": 81, \"repayment_rate\": 0.4426229508196721}, {\"month\": \"2016-10-01T00:00:00\", \"total_tickets\": 220, \"tickets_paid\": 97, \"repayment_rate\": 0.4409090909090909}, {\"month\": \"2016-11-01T00:00:00\", \"total_tickets\": 182, \"tickets_paid\": 80, \"repayment_rate\": 0.43956043956043955}, {\"month\": \"2016-12-01T00:00:00\", \"total_tickets\": 156, \"tickets_paid\": 80, \"repayment_rate\": 0.5128205128205128}, {\"month\": \"2017-01-01T00:00:00\", \"total_tickets\": 238, \"tickets_paid\": 124, \"repayment_rate\": 0.5210084033613446}, {\"month\": \"2017-02-01T00:00:00\", \"total_tickets\": 190, \"tickets_paid\": 77, \"repayment_rate\": 0.4052631578947368}, {\"month\": \"2017-03-01T00:00:00\", \"total_tickets\": 211, \"tickets_paid\": 98, \"repayment_rate\": 0.46445497630331756}, {\"month\": \"2017-04-01T00:00:00\", \"total_tickets\": 191, \"tickets_paid\": 79, \"repayment_rate\": 0.41361256544502617}, {\"month\": \"2017-05-01T00:00:00\", \"total_tickets\": 192, \"tickets_paid\": 84, \"repayment_rate\": 0.4375}, {\"month\": \"2017-06-01T00:00:00\", \"total_tickets\": 177, \"tickets_paid\": 72, \"repayment_rate\": 0.4067796610169492}, {\"month\": \"2017-07-01T00:00:00\", \"total_tickets\": 166, \"tickets_paid\": 71, \"repayment_rate\": 0.42771084337349397}, {\"month\": \"2017-08-01T00:00:00\", \"total_tickets\": 173, \"tickets_paid\": 67, \"repayment_rate\": 0.3872832369942196}, {\"month\": \"2017-09-01T00:00:00\", \"total_tickets\": 188, \"tickets_paid\": 62, \"repayment_rate\": 0.32978723404255317}, {\"month\": \"2017-10-01T00:00:00\", \"total_tickets\": 169, \"tickets_paid\": 66, \"repayment_rate\": 0.3905325443786982}, {\"month\": \"2017-11-01T00:00:00\", \"total_tickets\": 202, \"tickets_paid\": 72, \"repayment_rate\": 0.3564356435643564}, {\"month\": \"2017-12-01T00:00:00\", \"total_tickets\": 159, \"tickets_paid\": 54, \"repayment_rate\": 0.33962264150943394}, {\"month\": \"2018-01-01T00:00:00\", \"total_tickets\": 168, \"tickets_paid\": 49, \"repayment_rate\": 0.2916666666666667}, {\"month\": \"2018-02-01T00:00:00\", \"total_tickets\": 119, \"tickets_paid\": 31, \"repayment_rate\": 0.2605042016806723}, {\"month\": \"2018-03-01T00:00:00\", \"total_tickets\": 171, \"tickets_paid\": 40, \"repayment_rate\": 0.23391812865497075}, {\"month\": \"2018-04-01T00:00:00\", \"total_tickets\": 153, \"tickets_paid\": 20, \"repayment_rate\": 0.13071895424836602}, {\"month\": \"2018-05-01T00:00:00\", \"total_tickets\": 79, \"tickets_paid\": 3, \"repayment_rate\": 0.0379746835443038}], \"data-4b5d0292083392bba6cb3b55cc5b672c\": [{\"policy_change\": \"2013-01-01T00:00:00\"}]}}, {\"mode\": \"vega-lite\"});\n",
       "</script>"
      ],
      "text/plain": [
       "alt.LayerChart(...)"
      ]
     },
     "metadata": {},
     "output_type": "display_data"
    }
   ],
   "source": [
    "city_sticker_tickets['month'] = city_sticker_tickets['issue_date'].dt.to_period('M')\n",
    "\n",
    "# Step 3: Mark tickets as paid if 'total_payments' is greater than 0\n",
    "city_sticker_tickets['paid'] = city_sticker_tickets['total_payments'] > 0\n",
    "\n",
    "# Step 4: Calculate repayment rates by month\n",
    "monthly_repayment = city_sticker_tickets.groupby('month').agg(\n",
    "    total_tickets=('combined_code', 'size'),\n",
    "    tickets_paid=('paid', 'sum')\n",
    ").reset_index()\n",
    "\n",
    "# Calculate repayment rate\n",
    "monthly_repayment['repayment_rate'] = monthly_repayment['tickets_paid'] / monthly_repayment['total_tickets']\n",
    "\n",
    "# Convert 'month' back to a timestamp for plotting\n",
    "monthly_repayment['month'] = monthly_repayment['month'].dt.to_timestamp()\n",
    "\n",
    "# Step 5: Create a line chart for repayment rates\n",
    "repayment_rate_chart = alt.Chart(monthly_repayment).mark_line().encode(\n",
    "    x=alt.X('month:T', title='Month'),\n",
    "    y=alt.Y('repayment_rate:Q', title='Repayment Rate'),\n",
    "    tooltip=['month', 'repayment_rate']\n",
    ").properties(\n",
    "    title='Repayment Rates for Missing City Sticker Tickets'\n",
    ")\n",
    "\n",
    "# Step 6: Add a vertical line for the policy change (assumed on January 1, 2013)\n",
    "policy_change_date = pd.to_datetime('2013-01-01')\n",
    "policy_change_line = alt.Chart(pd.DataFrame({'policy_change': [policy_change_date]})).mark_rule(color='red').encode(\n",
    "    x='policy_change:T'\n",
    ")\n",
    "\n",
    "# Combine the repayment rate chart and the vertical policy change line\n",
    "final_chart = repayment_rate_chart + policy_change_line\n",
    "\n",
    "# Display the chart\n",
    "final_chart.show()"
   ]
  },
  {
   "cell_type": "code",
   "execution_count": null,
   "id": "c9147726-9bf8-44ea-a971-7cd1eabce445",
   "metadata": {
    "vscode": {
     "languageId": "quarto"
    }
   },
   "outputs": [
    {
     "data": {
      "text/html": [
       "\n",
       "<style>\n",
       "  #altair-viz-d07d3385914143aaa919b1d95278e005.vega-embed {\n",
       "    width: 100%;\n",
       "    display: flex;\n",
       "  }\n",
       "\n",
       "  #altair-viz-d07d3385914143aaa919b1d95278e005.vega-embed details,\n",
       "  #altair-viz-d07d3385914143aaa919b1d95278e005.vega-embed details summary {\n",
       "    position: relative;\n",
       "  }\n",
       "</style>\n",
       "<div id=\"altair-viz-d07d3385914143aaa919b1d95278e005\"></div>\n",
       "<script type=\"text/javascript\">\n",
       "  var VEGA_DEBUG = (typeof VEGA_DEBUG == \"undefined\") ? {} : VEGA_DEBUG;\n",
       "  (function(spec, embedOpt){\n",
       "    let outputDiv = document.currentScript.previousElementSibling;\n",
       "    if (outputDiv.id !== \"altair-viz-d07d3385914143aaa919b1d95278e005\") {\n",
       "      outputDiv = document.getElementById(\"altair-viz-d07d3385914143aaa919b1d95278e005\");\n",
       "    }\n",
       "    const paths = {\n",
       "      \"vega\": \"https://cdn.jsdelivr.net/npm/vega@5?noext\",\n",
       "      \"vega-lib\": \"https://cdn.jsdelivr.net/npm/vega-lib?noext\",\n",
       "      \"vega-lite\": \"https://cdn.jsdelivr.net/npm/vega-lite@5.20.1?noext\",\n",
       "      \"vega-embed\": \"https://cdn.jsdelivr.net/npm/vega-embed@6?noext\",\n",
       "    };\n",
       "\n",
       "    function maybeLoadScript(lib, version) {\n",
       "      var key = `${lib.replace(\"-\", \"\")}_version`;\n",
       "      return (VEGA_DEBUG[key] == version) ?\n",
       "        Promise.resolve(paths[lib]) :\n",
       "        new Promise(function(resolve, reject) {\n",
       "          var s = document.createElement('script');\n",
       "          document.getElementsByTagName(\"head\")[0].appendChild(s);\n",
       "          s.async = true;\n",
       "          s.onload = () => {\n",
       "            VEGA_DEBUG[key] = version;\n",
       "            return resolve(paths[lib]);\n",
       "          };\n",
       "          s.onerror = () => reject(`Error loading script: ${paths[lib]}`);\n",
       "          s.src = paths[lib];\n",
       "        });\n",
       "    }\n",
       "\n",
       "    function showError(err) {\n",
       "      outputDiv.innerHTML = `<div class=\"error\" style=\"color:red;\">${err}</div>`;\n",
       "      throw err;\n",
       "    }\n",
       "\n",
       "    function displayChart(vegaEmbed) {\n",
       "      vegaEmbed(outputDiv, spec, embedOpt)\n",
       "        .catch(err => showError(`Javascript Error: ${err.message}<br>This usually means there's a typo in your chart specification. See the javascript console for the full traceback.`));\n",
       "    }\n",
       "\n",
       "    if(typeof define === \"function\" && define.amd) {\n",
       "      requirejs.config({paths});\n",
       "      require([\"vega-embed\"], displayChart, err => showError(`Error loading script: ${err.message}`));\n",
       "    } else {\n",
       "      maybeLoadScript(\"vega\", \"5\")\n",
       "        .then(() => maybeLoadScript(\"vega-lite\", \"5.20.1\"))\n",
       "        .then(() => maybeLoadScript(\"vega-embed\", \"6\"))\n",
       "        .catch(showError)\n",
       "        .then(() => displayChart(vegaEmbed));\n",
       "    }\n",
       "  })({\"config\": {\"view\": {\"continuousWidth\": 300, \"continuousHeight\": 300}}, \"layer\": [{\"data\": {\"name\": \"data-b0671a151ec70b985b1d010447c5c586\"}, \"mark\": {\"type\": \"line\"}, \"encoding\": {\"tooltip\": [{\"field\": \"month\", \"type\": \"temporal\"}, {\"field\": \"repayment_rate\", \"type\": \"quantitative\"}], \"x\": {\"field\": \"month\", \"title\": \"Month\", \"type\": \"temporal\"}, \"y\": {\"field\": \"repayment_rate\", \"title\": \"Repayment Rate\", \"type\": \"quantitative\"}}, \"title\": \"Repayment Rates for Missing City Sticker Tickets\"}, {\"data\": {\"name\": \"data-26b483c840285d36dae7e77c5dc8deab\"}, \"mark\": {\"type\": \"rule\", \"color\": \"red\"}, \"encoding\": {\"x\": {\"field\": \"policy_change\", \"type\": \"temporal\"}}}], \"$schema\": \"https://vega.github.io/schema/vega-lite/v5.20.1.json\", \"datasets\": {\"data-b0671a151ec70b985b1d010447c5c586\": [{\"month\": \"2007-01-01T00:00:00\", \"total_tickets\": 160, \"tickets_paid\": 87, \"repayment_rate\": 0.54375}, {\"month\": \"2007-02-01T00:00:00\", \"total_tickets\": 104, \"tickets_paid\": 54, \"repayment_rate\": 0.5192307692307693}, {\"month\": \"2007-03-01T00:00:00\", \"total_tickets\": 161, \"tickets_paid\": 92, \"repayment_rate\": 0.5714285714285714}, {\"month\": \"2007-04-01T00:00:00\", \"total_tickets\": 158, \"tickets_paid\": 86, \"repayment_rate\": 0.5443037974683544}, {\"month\": \"2007-05-01T00:00:00\", \"total_tickets\": 126, \"tickets_paid\": 67, \"repayment_rate\": 0.5317460317460317}, {\"month\": \"2007-06-01T00:00:00\", \"total_tickets\": 80, \"tickets_paid\": 49, \"repayment_rate\": 0.6125}, {\"month\": \"2007-07-01T00:00:00\", \"total_tickets\": 399, \"tickets_paid\": 260, \"repayment_rate\": 0.6516290726817042}, {\"month\": \"2007-08-01T00:00:00\", \"total_tickets\": 345, \"tickets_paid\": 200, \"repayment_rate\": 0.5797101449275363}, {\"month\": \"2007-09-01T00:00:00\", \"total_tickets\": 224, \"tickets_paid\": 115, \"repayment_rate\": 0.5133928571428571}, {\"month\": \"2007-10-01T00:00:00\", \"total_tickets\": 221, \"tickets_paid\": 119, \"repayment_rate\": 0.5384615384615384}, {\"month\": \"2007-11-01T00:00:00\", \"total_tickets\": 168, \"tickets_paid\": 88, \"repayment_rate\": 0.5238095238095238}, {\"month\": \"2007-12-01T00:00:00\", \"total_tickets\": 118, \"tickets_paid\": 49, \"repayment_rate\": 0.4152542372881356}, {\"month\": \"2008-01-01T00:00:00\", \"total_tickets\": 132, \"tickets_paid\": 75, \"repayment_rate\": 0.5681818181818182}, {\"month\": \"2008-02-01T00:00:00\", \"total_tickets\": 149, \"tickets_paid\": 86, \"repayment_rate\": 0.5771812080536913}, {\"month\": \"2008-03-01T00:00:00\", \"total_tickets\": 192, \"tickets_paid\": 104, \"repayment_rate\": 0.5416666666666666}, {\"month\": \"2008-04-01T00:00:00\", \"total_tickets\": 166, \"tickets_paid\": 89, \"repayment_rate\": 0.536144578313253}, {\"month\": \"2008-05-01T00:00:00\", \"total_tickets\": 139, \"tickets_paid\": 79, \"repayment_rate\": 0.5683453237410072}, {\"month\": \"2008-06-01T00:00:00\", \"total_tickets\": 72, \"tickets_paid\": 41, \"repayment_rate\": 0.5694444444444444}, {\"month\": \"2008-07-01T00:00:00\", \"total_tickets\": 382, \"tickets_paid\": 255, \"repayment_rate\": 0.6675392670157068}, {\"month\": \"2008-08-01T00:00:00\", \"total_tickets\": 342, \"tickets_paid\": 211, \"repayment_rate\": 0.6169590643274854}, {\"month\": \"2008-09-01T00:00:00\", \"total_tickets\": 213, \"tickets_paid\": 125, \"repayment_rate\": 0.5868544600938967}, {\"month\": \"2008-10-01T00:00:00\", \"total_tickets\": 197, \"tickets_paid\": 123, \"repayment_rate\": 0.6243654822335025}, {\"month\": \"2008-11-01T00:00:00\", \"total_tickets\": 148, \"tickets_paid\": 75, \"repayment_rate\": 0.5067567567567568}, {\"month\": \"2008-12-01T00:00:00\", \"total_tickets\": 80, \"tickets_paid\": 49, \"repayment_rate\": 0.6125}, {\"month\": \"2009-01-01T00:00:00\", \"total_tickets\": 81, \"tickets_paid\": 46, \"repayment_rate\": 0.5679012345679012}, {\"month\": \"2009-02-01T00:00:00\", \"total_tickets\": 121, \"tickets_paid\": 62, \"repayment_rate\": 0.512396694214876}, {\"month\": \"2009-03-01T00:00:00\", \"total_tickets\": 171, \"tickets_paid\": 98, \"repayment_rate\": 0.5730994152046783}, {\"month\": \"2009-04-01T00:00:00\", \"total_tickets\": 149, \"tickets_paid\": 82, \"repayment_rate\": 0.5503355704697986}, {\"month\": \"2009-05-01T00:00:00\", \"total_tickets\": 132, \"tickets_paid\": 75, \"repayment_rate\": 0.5681818181818182}, {\"month\": \"2009-06-01T00:00:00\", \"total_tickets\": 89, \"tickets_paid\": 47, \"repayment_rate\": 0.5280898876404494}, {\"month\": \"2009-07-01T00:00:00\", \"total_tickets\": 392, \"tickets_paid\": 228, \"repayment_rate\": 0.5816326530612245}, {\"month\": \"2009-08-01T00:00:00\", \"total_tickets\": 347, \"tickets_paid\": 187, \"repayment_rate\": 0.5389048991354467}, {\"month\": \"2009-09-01T00:00:00\", \"total_tickets\": 211, \"tickets_paid\": 113, \"repayment_rate\": 0.5355450236966824}, {\"month\": \"2009-10-01T00:00:00\", \"total_tickets\": 188, \"tickets_paid\": 88, \"repayment_rate\": 0.46808510638297873}, {\"month\": \"2009-11-01T00:00:00\", \"total_tickets\": 170, \"tickets_paid\": 79, \"repayment_rate\": 0.4647058823529412}, {\"month\": \"2009-12-01T00:00:00\", \"total_tickets\": 98, \"tickets_paid\": 56, \"repayment_rate\": 0.5714285714285714}, {\"month\": \"2010-01-01T00:00:00\", \"total_tickets\": 156, \"tickets_paid\": 81, \"repayment_rate\": 0.5192307692307693}, {\"month\": \"2010-02-01T00:00:00\", \"total_tickets\": 129, \"tickets_paid\": 68, \"repayment_rate\": 0.5271317829457365}, {\"month\": \"2010-03-01T00:00:00\", \"total_tickets\": 153, \"tickets_paid\": 77, \"repayment_rate\": 0.5032679738562091}, {\"month\": \"2010-04-01T00:00:00\", \"total_tickets\": 138, \"tickets_paid\": 84, \"repayment_rate\": 0.6086956521739131}, {\"month\": \"2010-05-01T00:00:00\", \"total_tickets\": 140, \"tickets_paid\": 78, \"repayment_rate\": 0.5571428571428572}, {\"month\": \"2010-06-01T00:00:00\", \"total_tickets\": 99, \"tickets_paid\": 46, \"repayment_rate\": 0.46464646464646464}, {\"month\": \"2010-07-01T00:00:00\", \"total_tickets\": 26, \"tickets_paid\": 3, \"repayment_rate\": 0.11538461538461539}, {\"month\": \"2010-08-01T00:00:00\", \"total_tickets\": 425, \"tickets_paid\": 247, \"repayment_rate\": 0.5811764705882353}, {\"month\": \"2010-09-01T00:00:00\", \"total_tickets\": 237, \"tickets_paid\": 122, \"repayment_rate\": 0.5147679324894515}, {\"month\": \"2010-10-01T00:00:00\", \"total_tickets\": 197, \"tickets_paid\": 110, \"repayment_rate\": 0.5583756345177665}, {\"month\": \"2010-11-01T00:00:00\", \"total_tickets\": 168, \"tickets_paid\": 74, \"repayment_rate\": 0.44047619047619047}, {\"month\": \"2010-12-01T00:00:00\", \"total_tickets\": 117, \"tickets_paid\": 67, \"repayment_rate\": 0.5726495726495726}, {\"month\": \"2011-01-01T00:00:00\", \"total_tickets\": 153, \"tickets_paid\": 89, \"repayment_rate\": 0.5816993464052288}, {\"month\": \"2011-02-01T00:00:00\", \"total_tickets\": 87, \"tickets_paid\": 48, \"repayment_rate\": 0.5517241379310345}, {\"month\": \"2011-03-01T00:00:00\", \"total_tickets\": 147, \"tickets_paid\": 75, \"repayment_rate\": 0.5102040816326531}, {\"month\": \"2011-04-01T00:00:00\", \"total_tickets\": 135, \"tickets_paid\": 68, \"repayment_rate\": 0.5037037037037037}, {\"month\": \"2011-05-01T00:00:00\", \"total_tickets\": 134, \"tickets_paid\": 65, \"repayment_rate\": 0.48507462686567165}, {\"month\": \"2011-06-01T00:00:00\", \"total_tickets\": 78, \"tickets_paid\": 43, \"repayment_rate\": 0.5512820512820513}, {\"month\": \"2011-07-01T00:00:00\", \"total_tickets\": 317, \"tickets_paid\": 185, \"repayment_rate\": 0.583596214511041}, {\"month\": \"2011-08-01T00:00:00\", \"total_tickets\": 313, \"tickets_paid\": 181, \"repayment_rate\": 0.5782747603833865}, {\"month\": \"2011-09-01T00:00:00\", \"total_tickets\": 171, \"tickets_paid\": 99, \"repayment_rate\": 0.5789473684210527}, {\"month\": \"2011-10-01T00:00:00\", \"total_tickets\": 136, \"tickets_paid\": 75, \"repayment_rate\": 0.5514705882352942}, {\"month\": \"2011-11-01T00:00:00\", \"total_tickets\": 139, \"tickets_paid\": 70, \"repayment_rate\": 0.5035971223021583}, {\"month\": \"2011-12-01T00:00:00\", \"total_tickets\": 123, \"tickets_paid\": 72, \"repayment_rate\": 0.5853658536585366}, {\"month\": \"2012-01-01T00:00:00\", \"total_tickets\": 114, \"tickets_paid\": 57, \"repayment_rate\": 0.5}, {\"month\": \"2012-02-01T00:00:00\", \"total_tickets\": 138, \"tickets_paid\": 68, \"repayment_rate\": 0.4927536231884058}, {\"month\": \"2012-03-01T00:00:00\", \"total_tickets\": 181, \"tickets_paid\": 98, \"repayment_rate\": 0.5414364640883977}, {\"month\": \"2012-04-01T00:00:00\", \"total_tickets\": 142, \"tickets_paid\": 79, \"repayment_rate\": 0.5563380281690141}, {\"month\": \"2012-05-01T00:00:00\", \"total_tickets\": 115, \"tickets_paid\": 61, \"repayment_rate\": 0.5304347826086957}, {\"month\": \"2012-06-01T00:00:00\", \"total_tickets\": 100, \"tickets_paid\": 47, \"repayment_rate\": 0.47}, {\"month\": \"2012-07-01T00:00:00\", \"total_tickets\": 414, \"tickets_paid\": 231, \"repayment_rate\": 0.5579710144927537}, {\"month\": \"2012-08-01T00:00:00\", \"total_tickets\": 319, \"tickets_paid\": 165, \"repayment_rate\": 0.5172413793103449}, {\"month\": \"2012-09-01T00:00:00\", \"total_tickets\": 179, \"tickets_paid\": 96, \"repayment_rate\": 0.5363128491620112}, {\"month\": \"2012-10-01T00:00:00\", \"total_tickets\": 171, \"tickets_paid\": 84, \"repayment_rate\": 0.49122807017543857}, {\"month\": \"2012-11-01T00:00:00\", \"total_tickets\": 157, \"tickets_paid\": 73, \"repayment_rate\": 0.46496815286624205}, {\"month\": \"2012-12-01T00:00:00\", \"total_tickets\": 162, \"tickets_paid\": 72, \"repayment_rate\": 0.4444444444444444}, {\"month\": \"2013-01-01T00:00:00\", \"total_tickets\": 196, \"tickets_paid\": 78, \"repayment_rate\": 0.3979591836734694}, {\"month\": \"2013-02-01T00:00:00\", \"total_tickets\": 158, \"tickets_paid\": 64, \"repayment_rate\": 0.4050632911392405}, {\"month\": \"2013-03-01T00:00:00\", \"total_tickets\": 199, \"tickets_paid\": 91, \"repayment_rate\": 0.457286432160804}, {\"month\": \"2013-04-01T00:00:00\", \"total_tickets\": 187, \"tickets_paid\": 81, \"repayment_rate\": 0.43315508021390375}, {\"month\": \"2013-05-01T00:00:00\", \"total_tickets\": 179, \"tickets_paid\": 87, \"repayment_rate\": 0.4860335195530726}, {\"month\": \"2013-06-01T00:00:00\", \"total_tickets\": 140, \"tickets_paid\": 55, \"repayment_rate\": 0.39285714285714285}, {\"month\": \"2013-07-01T00:00:00\", \"total_tickets\": 499, \"tickets_paid\": 291, \"repayment_rate\": 0.5831663326653307}, {\"month\": \"2013-08-01T00:00:00\", \"total_tickets\": 355, \"tickets_paid\": 151, \"repayment_rate\": 0.4253521126760563}, {\"month\": \"2013-09-01T00:00:00\", \"total_tickets\": 221, \"tickets_paid\": 86, \"repayment_rate\": 0.3891402714932127}, {\"month\": \"2013-10-01T00:00:00\", \"total_tickets\": 208, \"tickets_paid\": 65, \"repayment_rate\": 0.3125}, {\"month\": \"2013-11-01T00:00:00\", \"total_tickets\": 127, \"tickets_paid\": 45, \"repayment_rate\": 0.3543307086614173}, {\"month\": \"2013-12-01T00:00:00\", \"total_tickets\": 98, \"tickets_paid\": 30, \"repayment_rate\": 0.30612244897959184}, {\"month\": \"2014-01-01T00:00:00\", \"total_tickets\": 100, \"tickets_paid\": 47, \"repayment_rate\": 0.47}, {\"month\": \"2014-02-01T00:00:00\", \"total_tickets\": 147, \"tickets_paid\": 63, \"repayment_rate\": 0.42857142857142855}, {\"month\": \"2014-03-01T00:00:00\", \"total_tickets\": 155, \"tickets_paid\": 67, \"repayment_rate\": 0.432258064516129}, {\"month\": \"2014-04-01T00:00:00\", \"total_tickets\": 144, \"tickets_paid\": 55, \"repayment_rate\": 0.3819444444444444}, {\"month\": \"2014-05-01T00:00:00\", \"total_tickets\": 178, \"tickets_paid\": 66, \"repayment_rate\": 0.3707865168539326}, {\"month\": \"2014-06-01T00:00:00\", \"total_tickets\": 116, \"tickets_paid\": 49, \"repayment_rate\": 0.4224137931034483}, {\"month\": \"2014-07-01T00:00:00\", \"total_tickets\": 267, \"tickets_paid\": 128, \"repayment_rate\": 0.4794007490636704}, {\"month\": \"2014-08-01T00:00:00\", \"total_tickets\": 245, \"tickets_paid\": 102, \"repayment_rate\": 0.4163265306122449}, {\"month\": \"2014-09-01T00:00:00\", \"total_tickets\": 178, \"tickets_paid\": 63, \"repayment_rate\": 0.3539325842696629}, {\"month\": \"2014-10-01T00:00:00\", \"total_tickets\": 165, \"tickets_paid\": 63, \"repayment_rate\": 0.38181818181818183}, {\"month\": \"2014-11-01T00:00:00\", \"total_tickets\": 153, \"tickets_paid\": 59, \"repayment_rate\": 0.38562091503267976}, {\"month\": \"2014-12-01T00:00:00\", \"total_tickets\": 177, \"tickets_paid\": 79, \"repayment_rate\": 0.4463276836158192}, {\"month\": \"2015-01-01T00:00:00\", \"total_tickets\": 179, \"tickets_paid\": 84, \"repayment_rate\": 0.4692737430167598}, {\"month\": \"2015-02-01T00:00:00\", \"total_tickets\": 142, \"tickets_paid\": 61, \"repayment_rate\": 0.4295774647887324}, {\"month\": \"2015-03-01T00:00:00\", \"total_tickets\": 223, \"tickets_paid\": 99, \"repayment_rate\": 0.4439461883408072}, {\"month\": \"2015-04-01T00:00:00\", \"total_tickets\": 191, \"tickets_paid\": 72, \"repayment_rate\": 0.3769633507853403}, {\"month\": \"2015-05-01T00:00:00\", \"total_tickets\": 191, \"tickets_paid\": 90, \"repayment_rate\": 0.4712041884816754}, {\"month\": \"2015-06-01T00:00:00\", \"total_tickets\": 198, \"tickets_paid\": 79, \"repayment_rate\": 0.398989898989899}, {\"month\": \"2015-07-01T00:00:00\", \"total_tickets\": 217, \"tickets_paid\": 102, \"repayment_rate\": 0.4700460829493088}, {\"month\": \"2015-08-01T00:00:00\", \"total_tickets\": 210, \"tickets_paid\": 80, \"repayment_rate\": 0.38095238095238093}, {\"month\": \"2015-09-01T00:00:00\", \"total_tickets\": 225, \"tickets_paid\": 98, \"repayment_rate\": 0.43555555555555553}, {\"month\": \"2015-10-01T00:00:00\", \"total_tickets\": 245, \"tickets_paid\": 105, \"repayment_rate\": 0.42857142857142855}, {\"month\": \"2015-11-01T00:00:00\", \"total_tickets\": 226, \"tickets_paid\": 105, \"repayment_rate\": 0.4646017699115044}, {\"month\": \"2015-12-01T00:00:00\", \"total_tickets\": 220, \"tickets_paid\": 106, \"repayment_rate\": 0.4818181818181818}, {\"month\": \"2016-01-01T00:00:00\", \"total_tickets\": 202, \"tickets_paid\": 92, \"repayment_rate\": 0.45544554455445546}, {\"month\": \"2016-02-01T00:00:00\", \"total_tickets\": 206, \"tickets_paid\": 91, \"repayment_rate\": 0.441747572815534}, {\"month\": \"2016-03-01T00:00:00\", \"total_tickets\": 241, \"tickets_paid\": 112, \"repayment_rate\": 0.46473029045643155}, {\"month\": \"2016-04-01T00:00:00\", \"total_tickets\": 203, \"tickets_paid\": 81, \"repayment_rate\": 0.39901477832512317}, {\"month\": \"2016-05-01T00:00:00\", \"total_tickets\": 185, \"tickets_paid\": 76, \"repayment_rate\": 0.41081081081081083}, {\"month\": \"2016-06-01T00:00:00\", \"total_tickets\": 175, \"tickets_paid\": 81, \"repayment_rate\": 0.46285714285714286}, {\"month\": \"2016-07-01T00:00:00\", \"total_tickets\": 160, \"tickets_paid\": 85, \"repayment_rate\": 0.53125}, {\"month\": \"2016-08-01T00:00:00\", \"total_tickets\": 151, \"tickets_paid\": 65, \"repayment_rate\": 0.4304635761589404}, {\"month\": \"2016-09-01T00:00:00\", \"total_tickets\": 183, \"tickets_paid\": 81, \"repayment_rate\": 0.4426229508196721}, {\"month\": \"2016-10-01T00:00:00\", \"total_tickets\": 220, \"tickets_paid\": 97, \"repayment_rate\": 0.4409090909090909}, {\"month\": \"2016-11-01T00:00:00\", \"total_tickets\": 182, \"tickets_paid\": 80, \"repayment_rate\": 0.43956043956043955}, {\"month\": \"2016-12-01T00:00:00\", \"total_tickets\": 156, \"tickets_paid\": 80, \"repayment_rate\": 0.5128205128205128}, {\"month\": \"2017-01-01T00:00:00\", \"total_tickets\": 238, \"tickets_paid\": 124, \"repayment_rate\": 0.5210084033613446}, {\"month\": \"2017-02-01T00:00:00\", \"total_tickets\": 190, \"tickets_paid\": 77, \"repayment_rate\": 0.4052631578947368}, {\"month\": \"2017-03-01T00:00:00\", \"total_tickets\": 211, \"tickets_paid\": 98, \"repayment_rate\": 0.46445497630331756}, {\"month\": \"2017-04-01T00:00:00\", \"total_tickets\": 191, \"tickets_paid\": 79, \"repayment_rate\": 0.41361256544502617}, {\"month\": \"2017-05-01T00:00:00\", \"total_tickets\": 192, \"tickets_paid\": 84, \"repayment_rate\": 0.4375}, {\"month\": \"2017-06-01T00:00:00\", \"total_tickets\": 177, \"tickets_paid\": 72, \"repayment_rate\": 0.4067796610169492}, {\"month\": \"2017-07-01T00:00:00\", \"total_tickets\": 166, \"tickets_paid\": 71, \"repayment_rate\": 0.42771084337349397}, {\"month\": \"2017-08-01T00:00:00\", \"total_tickets\": 173, \"tickets_paid\": 67, \"repayment_rate\": 0.3872832369942196}, {\"month\": \"2017-09-01T00:00:00\", \"total_tickets\": 188, \"tickets_paid\": 62, \"repayment_rate\": 0.32978723404255317}, {\"month\": \"2017-10-01T00:00:00\", \"total_tickets\": 169, \"tickets_paid\": 66, \"repayment_rate\": 0.3905325443786982}, {\"month\": \"2017-11-01T00:00:00\", \"total_tickets\": 202, \"tickets_paid\": 72, \"repayment_rate\": 0.3564356435643564}, {\"month\": \"2017-12-01T00:00:00\", \"total_tickets\": 159, \"tickets_paid\": 54, \"repayment_rate\": 0.33962264150943394}, {\"month\": \"2018-01-01T00:00:00\", \"total_tickets\": 168, \"tickets_paid\": 49, \"repayment_rate\": 0.2916666666666667}, {\"month\": \"2018-02-01T00:00:00\", \"total_tickets\": 119, \"tickets_paid\": 31, \"repayment_rate\": 0.2605042016806723}, {\"month\": \"2018-03-01T00:00:00\", \"total_tickets\": 171, \"tickets_paid\": 40, \"repayment_rate\": 0.23391812865497075}, {\"month\": \"2018-04-01T00:00:00\", \"total_tickets\": 153, \"tickets_paid\": 20, \"repayment_rate\": 0.13071895424836602}, {\"month\": \"2018-05-01T00:00:00\", \"total_tickets\": 79, \"tickets_paid\": 3, \"repayment_rate\": 0.0379746835443038}], \"data-26b483c840285d36dae7e77c5dc8deab\": [{\"policy_change\": \"2012-02-25T00:00:00\"}]}}, {\"mode\": \"vega-lite\"});\n",
       "</script>"
      ],
      "text/plain": [
       "alt.LayerChart(...)"
      ]
     },
     "metadata": {},
     "output_type": "display_data"
    }
   ],
   "source": [
    "city_sticker_tickets['month'] = city_sticker_tickets['issue_date'].dt.to_period('M')\n",
    "\n",
    "city_sticker_tickets['paid'] = city_sticker_tickets['total_payments'] > 0\n",
    "\n",
    "monthly_repayment = city_sticker_tickets.groupby('month').agg(\n",
    "    total_tickets=('combined_code', 'size'),\n",
    "    tickets_paid=('paid', 'sum')\n",
    ").reset_index()\n",
    "\n",
    "monthly_repayment['repayment_rate'] = monthly_repayment['tickets_paid'] / monthly_repayment['total_tickets']\n",
    "\n",
    "monthly_repayment['month'] = monthly_repayment['month'].dt.to_timestamp()\n",
    "\n",
    "repayment_rate_chart = alt.Chart(monthly_repayment).mark_line().encode(\n",
    "    x=alt.X('month:T', title='Month'),\n",
    "    y=alt.Y('repayment_rate:Q', title='Repayment Rate'),\n",
    "    tooltip=['month', 'repayment_rate']\n",
    ").properties(\n",
    "    title='Repayment Rates for Missing City Sticker Tickets'\n",
    ")\n",
    "\n",
    "# Step 6: Add a vertical line for the policy change (assumed on January 1, 2013)\n",
    "policy_change_date = pd.to_datetime('2012-02-25')\n",
    "policy_change_line = alt.Chart(pd.DataFrame({'policy_change': [policy_change_date]})).mark_rule(color='red').encode(\n",
    "    x='policy_change:T'\n",
    ")\n",
    "\n",
    "\n",
    "final_chart = repayment_rate_chart + policy_change_line\n",
    "\n",
    "final_chart.show()"
   ]
  },
  {
   "cell_type": "code",
   "execution_count": null,
   "id": "43803054-2293-4f9e-bfbe-eacb5e949dc4",
   "metadata": {
    "vscode": {
     "languageId": "quarto"
    }
   },
   "outputs": [
    {
     "ename": "KeyError",
     "evalue": "\"Column(s) ['paid'] do not exist\"",
     "output_type": "error",
     "traceback": [
      "\u001b[0;31m---------------------------------------------------------------------------\u001b[0m",
      "\u001b[0;31mKeyError\u001b[0m                                  Traceback (most recent call last)",
      "File \u001b[1;32m/Users/hkkkkk/Documents/GitHub/ppha30538_fall2024/30538-dap-ii-problem-set-2-ps2-dap2-python-fall2024/pset2_template.qmd:1\u001b[0m\n\u001b[0;32m----> 1\u001b[0m violation_stats \u001b[39m=\u001b[39m df\u001b[39m.\u001b[39mgroupby(\u001b[39m'\u001b[39m\u001b[39mviolation_code\u001b[39m\u001b[39m'\u001b[39m)\u001b[39m.\u001b[39magg(\n\u001b[1;32m      2\u001b[0m     total_tickets\u001b[39m=\u001b[39m(\u001b[39m'\u001b[39m\u001b[39mviolation_code\u001b[39m\u001b[39m'\u001b[39m, \u001b[39m'\u001b[39m\u001b[39msize\u001b[39m\u001b[39m'\u001b[39m),\n\u001b[1;32m      3\u001b[0m     tickets_paid\u001b[39m=\u001b[39m(\u001b[39m'\u001b[39m\u001b[39mpaid\u001b[39m\u001b[39m'\u001b[39m, \u001b[39m'\u001b[39m\u001b[39msum\u001b[39m\u001b[39m'\u001b[39m)\n\u001b[1;32m      4\u001b[0m )\u001b[39m.\u001b[39mreset_index()\n\u001b[1;32m      6\u001b[0m \u001b[39m# Calculate repayment rate for each violation type\u001b[39;00m\n\u001b[1;32m      7\u001b[0m violation_stats[\u001b[39m'\u001b[39m\u001b[39mrepayment_rate\u001b[39m\u001b[39m'\u001b[39m] \u001b[39m=\u001b[39m violation_stats[\u001b[39m'\u001b[39m\u001b[39mtickets_paid\u001b[39m\u001b[39m'\u001b[39m] \u001b[39m/\u001b[39m violation_stats[\u001b[39m'\u001b[39m\u001b[39mtotal_tickets\u001b[39m\u001b[39m'\u001b[39m]\n",
      "File \u001b[0;32m/opt/anaconda3/lib/python3.11/site-packages/pandas/core/groupby/generic.py:1432\u001b[0m, in \u001b[0;36mDataFrameGroupBy.aggregate\u001b[0;34m(self, func, engine, engine_kwargs, *args, **kwargs)\u001b[0m\n\u001b[1;32m   1429\u001b[0m     kwargs[\u001b[39m\"\u001b[39m\u001b[39mengine_kwargs\u001b[39m\u001b[39m\"\u001b[39m] \u001b[39m=\u001b[39m engine_kwargs\n\u001b[1;32m   1431\u001b[0m op \u001b[39m=\u001b[39m GroupByApply(\u001b[39mself\u001b[39m, func, args\u001b[39m=\u001b[39margs, kwargs\u001b[39m=\u001b[39mkwargs)\n\u001b[0;32m-> 1432\u001b[0m result \u001b[39m=\u001b[39m op\u001b[39m.\u001b[39magg()\n\u001b[1;32m   1433\u001b[0m \u001b[39mif\u001b[39;00m \u001b[39mnot\u001b[39;00m is_dict_like(func) \u001b[39mand\u001b[39;00m result \u001b[39mis\u001b[39;00m \u001b[39mnot\u001b[39;00m \u001b[39mNone\u001b[39;00m:\n\u001b[1;32m   1434\u001b[0m     \u001b[39m# GH #52849\u001b[39;00m\n\u001b[1;32m   1435\u001b[0m     \u001b[39mif\u001b[39;00m \u001b[39mnot\u001b[39;00m \u001b[39mself\u001b[39m\u001b[39m.\u001b[39mas_index \u001b[39mand\u001b[39;00m is_list_like(func):\n",
      "File \u001b[0;32m/opt/anaconda3/lib/python3.11/site-packages/pandas/core/apply.py:190\u001b[0m, in \u001b[0;36mApply.agg\u001b[0;34m(self)\u001b[0m\n\u001b[1;32m    187\u001b[0m     \u001b[39mreturn\u001b[39;00m \u001b[39mself\u001b[39m\u001b[39m.\u001b[39mapply_str()\n\u001b[1;32m    189\u001b[0m \u001b[39mif\u001b[39;00m is_dict_like(func):\n\u001b[0;32m--> 190\u001b[0m     \u001b[39mreturn\u001b[39;00m \u001b[39mself\u001b[39m\u001b[39m.\u001b[39magg_dict_like()\n\u001b[1;32m    191\u001b[0m \u001b[39melif\u001b[39;00m is_list_like(func):\n\u001b[1;32m    192\u001b[0m     \u001b[39m# we require a list, but not a 'str'\u001b[39;00m\n\u001b[1;32m    193\u001b[0m     \u001b[39mreturn\u001b[39;00m \u001b[39mself\u001b[39m\u001b[39m.\u001b[39magg_list_like()\n",
      "File \u001b[0;32m/opt/anaconda3/lib/python3.11/site-packages/pandas/core/apply.py:423\u001b[0m, in \u001b[0;36mApply.agg_dict_like\u001b[0;34m(self)\u001b[0m\n\u001b[1;32m    415\u001b[0m \u001b[39mdef\u001b[39;00m \u001b[39magg_dict_like\u001b[39m(\u001b[39mself\u001b[39m) \u001b[39m-\u001b[39m\u001b[39m>\u001b[39m DataFrame \u001b[39m|\u001b[39m Series:\n\u001b[1;32m    416\u001b[0m \u001b[39m    \u001b[39m\u001b[39m\"\"\"\u001b[39;00m\n\u001b[1;32m    417\u001b[0m \u001b[39m    Compute aggregation in the case of a dict-like argument.\u001b[39;00m\n\u001b[1;32m    418\u001b[0m \n\u001b[0;32m   (...)\u001b[0m\n\u001b[1;32m    421\u001b[0m \u001b[39m    Result of aggregation.\u001b[39;00m\n\u001b[1;32m    422\u001b[0m \u001b[39m    \"\"\"\u001b[39;00m\n\u001b[0;32m--> 423\u001b[0m     \u001b[39mreturn\u001b[39;00m \u001b[39mself\u001b[39m\u001b[39m.\u001b[39magg_or_apply_dict_like(op_name\u001b[39m=\u001b[39m\u001b[39m\"\u001b[39m\u001b[39magg\u001b[39m\u001b[39m\"\u001b[39m)\n",
      "File \u001b[0;32m/opt/anaconda3/lib/python3.11/site-packages/pandas/core/apply.py:1608\u001b[0m, in \u001b[0;36mGroupByApply.agg_or_apply_dict_like\u001b[0;34m(self, op_name)\u001b[0m\n\u001b[1;32m   1603\u001b[0m     kwargs\u001b[39m.\u001b[39mupdate({\u001b[39m\"\u001b[39m\u001b[39mengine\u001b[39m\u001b[39m\"\u001b[39m: engine, \u001b[39m\"\u001b[39m\u001b[39mengine_kwargs\u001b[39m\u001b[39m\"\u001b[39m: engine_kwargs})\n\u001b[1;32m   1605\u001b[0m \u001b[39mwith\u001b[39;00m com\u001b[39m.\u001b[39mtemp_setattr(\n\u001b[1;32m   1606\u001b[0m     obj, \u001b[39m\"\u001b[39m\u001b[39mas_index\u001b[39m\u001b[39m\"\u001b[39m, \u001b[39mTrue\u001b[39;00m, condition\u001b[39m=\u001b[39m\u001b[39mhasattr\u001b[39m(obj, \u001b[39m\"\u001b[39m\u001b[39mas_index\u001b[39m\u001b[39m\"\u001b[39m)\n\u001b[1;32m   1607\u001b[0m ):\n\u001b[0;32m-> 1608\u001b[0m     result_index, result_data \u001b[39m=\u001b[39m \u001b[39mself\u001b[39m\u001b[39m.\u001b[39mcompute_dict_like(\n\u001b[1;32m   1609\u001b[0m         op_name, selected_obj, selection, kwargs\n\u001b[1;32m   1610\u001b[0m     )\n\u001b[1;32m   1611\u001b[0m result \u001b[39m=\u001b[39m \u001b[39mself\u001b[39m\u001b[39m.\u001b[39mwrap_results_dict_like(selected_obj, result_index, result_data)\n\u001b[1;32m   1612\u001b[0m \u001b[39mreturn\u001b[39;00m result\n",
      "File \u001b[0;32m/opt/anaconda3/lib/python3.11/site-packages/pandas/core/apply.py:462\u001b[0m, in \u001b[0;36mApply.compute_dict_like\u001b[0;34m(self, op_name, selected_obj, selection, kwargs)\u001b[0m\n\u001b[1;32m    460\u001b[0m is_groupby \u001b[39m=\u001b[39m \u001b[39misinstance\u001b[39m(obj, (DataFrameGroupBy, SeriesGroupBy))\n\u001b[1;32m    461\u001b[0m func \u001b[39m=\u001b[39m cast(AggFuncTypeDict, \u001b[39mself\u001b[39m\u001b[39m.\u001b[39mfunc)\n\u001b[0;32m--> 462\u001b[0m func \u001b[39m=\u001b[39m \u001b[39mself\u001b[39m\u001b[39m.\u001b[39mnormalize_dictlike_arg(op_name, selected_obj, func)\n\u001b[1;32m    464\u001b[0m is_non_unique_col \u001b[39m=\u001b[39m (\n\u001b[1;32m    465\u001b[0m     selected_obj\u001b[39m.\u001b[39mndim \u001b[39m==\u001b[39m \u001b[39m2\u001b[39m\n\u001b[1;32m    466\u001b[0m     \u001b[39mand\u001b[39;00m selected_obj\u001b[39m.\u001b[39mcolumns\u001b[39m.\u001b[39mnunique() \u001b[39m<\u001b[39m \u001b[39mlen\u001b[39m(selected_obj\u001b[39m.\u001b[39mcolumns)\n\u001b[1;32m    467\u001b[0m )\n\u001b[1;32m    469\u001b[0m \u001b[39mif\u001b[39;00m selected_obj\u001b[39m.\u001b[39mndim \u001b[39m==\u001b[39m \u001b[39m1\u001b[39m:\n\u001b[1;32m    470\u001b[0m     \u001b[39m# key only used for output\u001b[39;00m\n",
      "File \u001b[0;32m/opt/anaconda3/lib/python3.11/site-packages/pandas/core/apply.py:663\u001b[0m, in \u001b[0;36mApply.normalize_dictlike_arg\u001b[0;34m(self, how, obj, func)\u001b[0m\n\u001b[1;32m    661\u001b[0m     cols \u001b[39m=\u001b[39m Index(\u001b[39mlist\u001b[39m(func\u001b[39m.\u001b[39mkeys()))\u001b[39m.\u001b[39mdifference(obj\u001b[39m.\u001b[39mcolumns, sort\u001b[39m=\u001b[39m\u001b[39mTrue\u001b[39;00m)\n\u001b[1;32m    662\u001b[0m     \u001b[39mif\u001b[39;00m \u001b[39mlen\u001b[39m(cols) \u001b[39m>\u001b[39m \u001b[39m0\u001b[39m:\n\u001b[0;32m--> 663\u001b[0m         \u001b[39mraise\u001b[39;00m \u001b[39mKeyError\u001b[39;00m(\u001b[39mf\u001b[39m\u001b[39m\"\u001b[39m\u001b[39mColumn(s) \u001b[39m\u001b[39m{\u001b[39;00m\u001b[39mlist\u001b[39m(cols)\u001b[39m}\u001b[39;00m\u001b[39m do not exist\u001b[39m\u001b[39m\"\u001b[39m)\n\u001b[1;32m    665\u001b[0m aggregator_types \u001b[39m=\u001b[39m (\u001b[39mlist\u001b[39m, \u001b[39mtuple\u001b[39m, \u001b[39mdict\u001b[39m)\n\u001b[1;32m    667\u001b[0m \u001b[39m# if we have a dict of any non-scalars\u001b[39;00m\n\u001b[1;32m    668\u001b[0m \u001b[39m# eg. {'A' : ['mean']}, normalize all to\u001b[39;00m\n\u001b[1;32m    669\u001b[0m \u001b[39m# be list-likes\u001b[39;00m\n\u001b[1;32m    670\u001b[0m \u001b[39m# Cannot use func.values() because arg may be a Series\u001b[39;00m\n",
      "\u001b[0;31mKeyError\u001b[0m: \"Column(s) ['paid'] do not exist\""
     ]
    }
   ],
   "source": [
    "violation_stats = df.groupby('violation_code').agg(\n",
    "    total_tickets=('violation_code', 'size'),\n",
    "    tickets_paid=('paid', 'sum')\n",
    ").reset_index()\n",
    "\n",
    "# Calculate repayment rate for each violation type\n",
    "violation_stats['repayment_rate'] = violation_stats['tickets_paid'] / violation_stats['total_tickets']\n",
    "\n",
    "# Step 3: Identify the top 3 violations with high ticket counts and repayment rates\n",
    "# We can sort by 'total_tickets' and 'repayment_rate' to find the top violations\n",
    "top_violations = violation_stats.sort_values(by=['total_tickets', 'repayment_rate'], ascending=[False, False]).head(3)\n",
    "\n",
    "# Step 4: Create a plot to visualize the number of tickets and repayment rate\n",
    "violation_chart = alt.Chart(violation_stats).mark_circle(size=60).encode(\n",
    "    x=alt.X('total_tickets:Q', title='Total Tickets Issued'),\n",
    "    y=alt.Y('repayment_rate:Q', title='Repayment Rate'),\n",
    "    color=alt.condition(\n",
    "        alt.FieldOneOfPredicate(field='violation_code', oneOf=top_violations['violation_code'].tolist()),\n",
    "        alt.value('red'),  # Highlight top 3 violations\n",
    "        alt.value('blue')  # Other violations\n",
    "    ),\n",
    "    tooltip=['violation_code', 'total_tickets', 'repayment_rate']\n",
    ").properties(\n",
    "    title='Violation Types: Total Tickets Issued vs. Repayment Rate'\n",
    ")\n",
    "\n",
    "# Display the chart\n",
    "violation_chart.show()\n",
    "\n",
    "# Display the top 3 recommended violation types for increasing prices\n",
    "print(\"Top 3 Violation Types to Increase Prices:\")\n",
    "print(top_violations)"
   ]
  },
  {
   "cell_type": "code",
   "execution_count": null,
   "id": "456b58fe-da8c-4d08-9525-2ea241659fd9",
   "metadata": {
    "vscode": {
     "languageId": "quarto"
    }
   },
   "outputs": [
    {
     "data": {
      "text/html": [
       "\n",
       "<style>\n",
       "  #altair-viz-d060595c961c4072b4634d089a57ee8e.vega-embed {\n",
       "    width: 100%;\n",
       "    display: flex;\n",
       "  }\n",
       "\n",
       "  #altair-viz-d060595c961c4072b4634d089a57ee8e.vega-embed details,\n",
       "  #altair-viz-d060595c961c4072b4634d089a57ee8e.vega-embed details summary {\n",
       "    position: relative;\n",
       "  }\n",
       "</style>\n",
       "<div id=\"altair-viz-d060595c961c4072b4634d089a57ee8e\"></div>\n",
       "<script type=\"text/javascript\">\n",
       "  var VEGA_DEBUG = (typeof VEGA_DEBUG == \"undefined\") ? {} : VEGA_DEBUG;\n",
       "  (function(spec, embedOpt){\n",
       "    let outputDiv = document.currentScript.previousElementSibling;\n",
       "    if (outputDiv.id !== \"altair-viz-d060595c961c4072b4634d089a57ee8e\") {\n",
       "      outputDiv = document.getElementById(\"altair-viz-d060595c961c4072b4634d089a57ee8e\");\n",
       "    }\n",
       "    const paths = {\n",
       "      \"vega\": \"https://cdn.jsdelivr.net/npm/vega@5?noext\",\n",
       "      \"vega-lib\": \"https://cdn.jsdelivr.net/npm/vega-lib?noext\",\n",
       "      \"vega-lite\": \"https://cdn.jsdelivr.net/npm/vega-lite@5.20.1?noext\",\n",
       "      \"vega-embed\": \"https://cdn.jsdelivr.net/npm/vega-embed@6?noext\",\n",
       "    };\n",
       "\n",
       "    function maybeLoadScript(lib, version) {\n",
       "      var key = `${lib.replace(\"-\", \"\")}_version`;\n",
       "      return (VEGA_DEBUG[key] == version) ?\n",
       "        Promise.resolve(paths[lib]) :\n",
       "        new Promise(function(resolve, reject) {\n",
       "          var s = document.createElement('script');\n",
       "          document.getElementsByTagName(\"head\")[0].appendChild(s);\n",
       "          s.async = true;\n",
       "          s.onload = () => {\n",
       "            VEGA_DEBUG[key] = version;\n",
       "            return resolve(paths[lib]);\n",
       "          };\n",
       "          s.onerror = () => reject(`Error loading script: ${paths[lib]}`);\n",
       "          s.src = paths[lib];\n",
       "        });\n",
       "    }\n",
       "\n",
       "    function showError(err) {\n",
       "      outputDiv.innerHTML = `<div class=\"error\" style=\"color:red;\">${err}</div>`;\n",
       "      throw err;\n",
       "    }\n",
       "\n",
       "    function displayChart(vegaEmbed) {\n",
       "      vegaEmbed(outputDiv, spec, embedOpt)\n",
       "        .catch(err => showError(`Javascript Error: ${err.message}<br>This usually means there's a typo in your chart specification. See the javascript console for the full traceback.`));\n",
       "    }\n",
       "\n",
       "    if(typeof define === \"function\" && define.amd) {\n",
       "      requirejs.config({paths});\n",
       "      require([\"vega-embed\"], displayChart, err => showError(`Error loading script: ${err.message}`));\n",
       "    } else {\n",
       "      maybeLoadScript(\"vega\", \"5\")\n",
       "        .then(() => maybeLoadScript(\"vega-lite\", \"5.20.1\"))\n",
       "        .then(() => maybeLoadScript(\"vega-embed\", \"6\"))\n",
       "        .catch(showError)\n",
       "        .then(() => displayChart(vegaEmbed));\n",
       "    }\n",
       "  })({\"config\": {\"view\": {\"continuousWidth\": 300, \"continuousHeight\": 300}}, \"data\": {\"name\": \"data-5c2f390b8b9393b0cdc191a29a0a89e9\"}, \"mark\": {\"type\": \"circle\", \"size\": 60}, \"encoding\": {\"color\": {\"condition\": {\"test\": {\"field\": \"violation_code\", \"oneOf\": [\"0976160F\", \"0964040B\", \"0964090E\"]}, \"value\": \"red\"}, \"value\": \"blue\"}, \"tooltip\": [{\"field\": \"violation_code\", \"type\": \"nominal\"}, {\"field\": \"total_tickets\", \"type\": \"quantitative\"}, {\"field\": \"repayment_rate\", \"type\": \"quantitative\"}], \"x\": {\"field\": \"total_tickets\", \"title\": \"Total Tickets Issued\", \"type\": \"quantitative\"}, \"y\": {\"field\": \"repayment_rate\", \"title\": \"Repayment Rate\", \"type\": \"quantitative\"}}, \"title\": \"Violation Types: Total Tickets Issued vs. Repayment Rate\", \"$schema\": \"https://vega.github.io/schema/vega-lite/v5.20.1.json\", \"datasets\": {\"data-5c2f390b8b9393b0cdc191a29a0a89e9\": [{\"violation_code\": \"0912060\", \"total_tickets\": 1233, \"tickets_paid\": 746, \"repayment_rate\": 0.6050283860502839}, {\"violation_code\": \"0940060\", \"total_tickets\": 236, \"tickets_paid\": 161, \"repayment_rate\": 0.6822033898305084}, {\"violation_code\": \"0940080\", \"total_tickets\": 81, \"tickets_paid\": 40, \"repayment_rate\": 0.49382716049382713}, {\"violation_code\": \"0940170\", \"total_tickets\": 64, \"tickets_paid\": 35, \"repayment_rate\": 0.546875}, {\"violation_code\": \"0940220\", \"total_tickets\": 32, \"tickets_paid\": 21, \"repayment_rate\": 0.65625}, {\"violation_code\": \"0964020A\", \"total_tickets\": 1111, \"tickets_paid\": 860, \"repayment_rate\": 0.774077407740774}, {\"violation_code\": \"0964020B\", \"total_tickets\": 1577, \"tickets_paid\": 799, \"repayment_rate\": 0.5066582117945466}, {\"violation_code\": \"0964020C\", \"total_tickets\": 14, \"tickets_paid\": 10, \"repayment_rate\": 0.7142857142857143}, {\"violation_code\": \"0964030B\", \"total_tickets\": 110, \"tickets_paid\": 80, \"repayment_rate\": 0.7272727272727273}, {\"violation_code\": \"0964040B\", \"total_tickets\": 32082, \"tickets_paid\": 26085, \"repayment_rate\": 0.8130727510753694}, {\"violation_code\": \"0964041\", \"total_tickets\": 245, \"tickets_paid\": 201, \"repayment_rate\": 0.8204081632653061}, {\"violation_code\": \"0964041B\", \"total_tickets\": 242, \"tickets_paid\": 174, \"repayment_rate\": 0.71900826446281}, {\"violation_code\": \"0964050I\", \"total_tickets\": 5, \"tickets_paid\": 3, \"repayment_rate\": 0.6}, {\"violation_code\": \"0964050J\", \"total_tickets\": 2034, \"tickets_paid\": 1153, \"repayment_rate\": 0.5668633235004916}, {\"violation_code\": \"0964050J*\", \"total_tickets\": 5, \"tickets_paid\": 3, \"repayment_rate\": 0.6}, {\"violation_code\": \"0964060\", \"total_tickets\": 827, \"tickets_paid\": 605, \"repayment_rate\": 0.7315598548972189}, {\"violation_code\": \"0964060B\", \"total_tickets\": 12, \"tickets_paid\": 8, \"repayment_rate\": 0.6666666666666666}, {\"violation_code\": \"0964070\", \"total_tickets\": 164, \"tickets_paid\": 114, \"repayment_rate\": 0.6951219512195121}, {\"violation_code\": \"0964080A\", \"total_tickets\": 11965, \"tickets_paid\": 9279, \"repayment_rate\": 0.7755119097367321}, {\"violation_code\": \"0964080B\", \"total_tickets\": 8640, \"tickets_paid\": 6548, \"repayment_rate\": 0.7578703703703704}, {\"violation_code\": \"0964090E\", \"total_tickets\": 23683, \"tickets_paid\": 17667, \"repayment_rate\": 0.7459781277709749}, {\"violation_code\": \"0964091\", \"total_tickets\": 117, \"tickets_paid\": 99, \"repayment_rate\": 0.8461538461538461}, {\"violation_code\": \"0964091B\", \"total_tickets\": 3, \"tickets_paid\": 1, \"repayment_rate\": 0.3333333333333333}, {\"violation_code\": \"0964100A\", \"total_tickets\": 6104, \"tickets_paid\": 4203, \"repayment_rate\": 0.688564875491481}, {\"violation_code\": \"0964100B\", \"total_tickets\": 86, \"tickets_paid\": 49, \"repayment_rate\": 0.5697674418604651}, {\"violation_code\": \"0964100C\", \"total_tickets\": 1579, \"tickets_paid\": 1044, \"repayment_rate\": 0.6611779607346422}, {\"violation_code\": \"0964100D\", \"total_tickets\": 436, \"tickets_paid\": 340, \"repayment_rate\": 0.7798165137614679}, {\"violation_code\": \"0964100E\", \"total_tickets\": 42, \"tickets_paid\": 30, \"repayment_rate\": 0.7142857142857143}, {\"violation_code\": \"0964100F\", \"total_tickets\": 393, \"tickets_paid\": 284, \"repayment_rate\": 0.72264631043257}, {\"violation_code\": \"0964100G\", \"total_tickets\": 2191, \"tickets_paid\": 1777, \"repayment_rate\": 0.8110451848471018}, {\"violation_code\": \"0964100H\", \"total_tickets\": 4, \"tickets_paid\": 1, \"repayment_rate\": 0.25}, {\"violation_code\": \"0964110A\", \"total_tickets\": 2904, \"tickets_paid\": 1747, \"repayment_rate\": 0.6015840220385675}, {\"violation_code\": \"0964110B\", \"total_tickets\": 26, \"tickets_paid\": 19, \"repayment_rate\": 0.7307692307692307}, {\"violation_code\": \"0964110C\", \"total_tickets\": 1953, \"tickets_paid\": 1402, \"repayment_rate\": 0.7178699436763953}, {\"violation_code\": \"0964110D\", \"total_tickets\": 1036, \"tickets_paid\": 713, \"repayment_rate\": 0.6882239382239382}, {\"violation_code\": \"0964110E\", \"total_tickets\": 495, \"tickets_paid\": 362, \"repayment_rate\": 0.7313131313131314}, {\"violation_code\": \"0964110F\", \"total_tickets\": 40, \"tickets_paid\": 29, \"repayment_rate\": 0.725}, {\"violation_code\": \"0964110G\", \"total_tickets\": 247, \"tickets_paid\": 183, \"repayment_rate\": 0.7408906882591093}, {\"violation_code\": \"0964110H\", \"total_tickets\": 17, \"tickets_paid\": 11, \"repayment_rate\": 0.6470588235294118}, {\"violation_code\": \"0964120A\", \"total_tickets\": 183, \"tickets_paid\": 77, \"repayment_rate\": 0.4207650273224044}, {\"violation_code\": \"0964120B\", \"total_tickets\": 62, \"tickets_paid\": 38, \"repayment_rate\": 0.6129032258064516}, {\"violation_code\": \"0964125\", \"total_tickets\": 10758, \"tickets_paid\": 5973, \"repayment_rate\": 0.5552147239263804}, {\"violation_code\": \"0964125B\", \"total_tickets\": 14246, \"tickets_paid\": 6160, \"repayment_rate\": 0.43240207777621786}, {\"violation_code\": \"0964125C\", \"total_tickets\": 131, \"tickets_paid\": 19, \"repayment_rate\": 0.1450381679389313}, {\"violation_code\": \"0964125D\", \"total_tickets\": 399, \"tickets_paid\": 306, \"repayment_rate\": 0.7669172932330827}, {\"violation_code\": \"0964130\", \"total_tickets\": 2050, \"tickets_paid\": 1109, \"repayment_rate\": 0.5409756097560976}, {\"violation_code\": \"0964130A\", \"total_tickets\": 998, \"tickets_paid\": 426, \"repayment_rate\": 0.42685370741482964}, {\"violation_code\": \"0964130B\", \"total_tickets\": 20, \"tickets_paid\": 13, \"repayment_rate\": 0.65}, {\"violation_code\": \"0964140B\", \"total_tickets\": 6004, \"tickets_paid\": 4051, \"repayment_rate\": 0.6747168554297135}, {\"violation_code\": \"0964150A\", \"total_tickets\": 7, \"tickets_paid\": 4, \"repayment_rate\": 0.5714285714285714}, {\"violation_code\": \"0964150B\", \"total_tickets\": 19753, \"tickets_paid\": 14038, \"repayment_rate\": 0.710676859211259}, {\"violation_code\": \"0964160A\", \"total_tickets\": 1, \"tickets_paid\": 1, \"repayment_rate\": 1.0}, {\"violation_code\": \"0964160B\", \"total_tickets\": 1204, \"tickets_paid\": 850, \"repayment_rate\": 0.7059800664451827}, {\"violation_code\": \"0964160C\", \"total_tickets\": 5, \"tickets_paid\": 3, \"repayment_rate\": 0.6}, {\"violation_code\": \"0964170A\", \"total_tickets\": 4789, \"tickets_paid\": 3332, \"repayment_rate\": 0.6957611192315724}, {\"violation_code\": \"0964170B\", \"total_tickets\": 456, \"tickets_paid\": 314, \"repayment_rate\": 0.6885964912280702}, {\"violation_code\": \"0964170C\", \"total_tickets\": 41, \"tickets_paid\": 30, \"repayment_rate\": 0.7317073170731707}, {\"violation_code\": \"0964170D\", \"total_tickets\": 302, \"tickets_paid\": 150, \"repayment_rate\": 0.4966887417218543}, {\"violation_code\": \"0964180A\", \"total_tickets\": 34, \"tickets_paid\": 20, \"repayment_rate\": 0.5882352941176471}, {\"violation_code\": \"0964190\", \"total_tickets\": 18756, \"tickets_paid\": 15122, \"repayment_rate\": 0.8062486670931969}, {\"violation_code\": \"0964190A\", \"total_tickets\": 20600, \"tickets_paid\": 16387, \"repayment_rate\": 0.7954854368932038}, {\"violation_code\": \"0964190B\", \"total_tickets\": 9736, \"tickets_paid\": 7279, \"repayment_rate\": 0.7476376335250616}, {\"violation_code\": \"0964190C\", \"total_tickets\": 100, \"tickets_paid\": 45, \"repayment_rate\": 0.45}, {\"violation_code\": \"0964200B\", \"total_tickets\": 341, \"tickets_paid\": 214, \"repayment_rate\": 0.6275659824046921}, {\"violation_code\": \"0964210\", \"total_tickets\": 20, \"tickets_paid\": 13, \"repayment_rate\": 0.65}, {\"violation_code\": \"0968040I\", \"total_tickets\": 4, \"tickets_paid\": 3, \"repayment_rate\": 0.75}, {\"violation_code\": \"0976010A\", \"total_tickets\": 1, \"tickets_paid\": 1, \"repayment_rate\": 1.0}, {\"violation_code\": \"0976020A\", \"total_tickets\": 6, \"tickets_paid\": 5, \"repayment_rate\": 0.8333333333333334}, {\"violation_code\": \"0976020B\", \"total_tickets\": 1, \"tickets_paid\": 1, \"repayment_rate\": 1.0}, {\"violation_code\": \"0976020E\", \"total_tickets\": 1, \"tickets_paid\": 1, \"repayment_rate\": 1.0}, {\"violation_code\": \"0976040A\", \"total_tickets\": 2, \"tickets_paid\": 0, \"repayment_rate\": 0.0}, {\"violation_code\": \"0976040B\", \"total_tickets\": 4, \"tickets_paid\": 3, \"repayment_rate\": 0.75}, {\"violation_code\": \"0976050A\", \"total_tickets\": 7, \"tickets_paid\": 2, \"repayment_rate\": 0.2857142857142857}, {\"violation_code\": \"0976050B\", \"total_tickets\": 443, \"tickets_paid\": 266, \"repayment_rate\": 0.600451467268623}, {\"violation_code\": \"0976050C\", \"total_tickets\": 115, \"tickets_paid\": 64, \"repayment_rate\": 0.5565217391304348}, {\"violation_code\": \"0976050D\", \"total_tickets\": 110, \"tickets_paid\": 62, \"repayment_rate\": 0.5636363636363636}, {\"violation_code\": \"0976050E\", \"total_tickets\": 4, \"tickets_paid\": 1, \"repayment_rate\": 0.25}, {\"violation_code\": \"0976070A\", \"total_tickets\": 3, \"tickets_paid\": 2, \"repayment_rate\": 0.6666666666666666}, {\"violation_code\": \"0976070C\", \"total_tickets\": 2, \"tickets_paid\": 2, \"repayment_rate\": 1.0}, {\"violation_code\": \"0976070D\", \"total_tickets\": 1, \"tickets_paid\": 1, \"repayment_rate\": 1.0}, {\"violation_code\": \"0976080\", \"total_tickets\": 9, \"tickets_paid\": 5, \"repayment_rate\": 0.5555555555555556}, {\"violation_code\": \"0976090B\", \"total_tickets\": 9, \"tickets_paid\": 6, \"repayment_rate\": 0.6666666666666666}, {\"violation_code\": \"0976090C\", \"total_tickets\": 4, \"tickets_paid\": 0, \"repayment_rate\": 0.0}, {\"violation_code\": \"0976100A\", \"total_tickets\": 1, \"tickets_paid\": 0, \"repayment_rate\": 0.0}, {\"violation_code\": \"0976110A\", \"total_tickets\": 21, \"tickets_paid\": 11, \"repayment_rate\": 0.5238095238095238}, {\"violation_code\": \"0976120\", \"total_tickets\": 27, \"tickets_paid\": 20, \"repayment_rate\": 0.7407407407407407}, {\"violation_code\": \"0976130\", \"total_tickets\": 1, \"tickets_paid\": 1, \"repayment_rate\": 1.0}, {\"violation_code\": \"0976140A\", \"total_tickets\": 9, \"tickets_paid\": 5, \"repayment_rate\": 0.5555555555555556}, {\"violation_code\": \"0976140B\", \"total_tickets\": 12, \"tickets_paid\": 7, \"repayment_rate\": 0.5833333333333334}, {\"violation_code\": \"0976150B\", \"total_tickets\": 102, \"tickets_paid\": 78, \"repayment_rate\": 0.7647058823529411}, {\"violation_code\": \"0976160A\", \"total_tickets\": 16853, \"tickets_paid\": 8792, \"repayment_rate\": 0.5216875333768468}, {\"violation_code\": \"0976160B\", \"total_tickets\": 3072, \"tickets_paid\": 1322, \"repayment_rate\": 0.4303385416666667}, {\"violation_code\": \"0976160C\", \"total_tickets\": 21, \"tickets_paid\": 12, \"repayment_rate\": 0.5714285714285714}, {\"violation_code\": \"0976160D\", \"total_tickets\": 1920, \"tickets_paid\": 1186, \"repayment_rate\": 0.6177083333333333}, {\"violation_code\": \"0976160F\", \"total_tickets\": 44811, \"tickets_paid\": 27248, \"repayment_rate\": 0.6080649840440964}, {\"violation_code\": \"0976170\", \"total_tickets\": 15, \"tickets_paid\": 10, \"repayment_rate\": 0.6666666666666666}, {\"violation_code\": \"0976180A\", \"total_tickets\": 981, \"tickets_paid\": 700, \"repayment_rate\": 0.7135575942915392}, {\"violation_code\": \"0976180B\", \"total_tickets\": 54, \"tickets_paid\": 38, \"repayment_rate\": 0.7037037037037037}, {\"violation_code\": \"0976190\", \"total_tickets\": 1, \"tickets_paid\": 1, \"repayment_rate\": 1.0}, {\"violation_code\": \"0976200A\", \"total_tickets\": 6, \"tickets_paid\": 3, \"repayment_rate\": 0.5}, {\"violation_code\": \"0976200B\", \"total_tickets\": 3, \"tickets_paid\": 3, \"repayment_rate\": 1.0}, {\"violation_code\": \"0976210A\", \"total_tickets\": 162, \"tickets_paid\": 97, \"repayment_rate\": 0.5987654320987654}, {\"violation_code\": \"0976210B\", \"total_tickets\": 576, \"tickets_paid\": 351, \"repayment_rate\": 0.609375}, {\"violation_code\": \"0976220A\", \"total_tickets\": 271, \"tickets_paid\": 155, \"repayment_rate\": 0.5719557195571956}, {\"violation_code\": \"0976220B\", \"total_tickets\": 1697, \"tickets_paid\": 1086, \"repayment_rate\": 0.6399528579846788}, {\"violation_code\": \"0980080A\", \"total_tickets\": 664, \"tickets_paid\": 129, \"repayment_rate\": 0.19427710843373494}, {\"violation_code\": \"0980080B\", \"total_tickets\": 34, \"tickets_paid\": 14, \"repayment_rate\": 0.4117647058823529}, {\"violation_code\": \"0980080C\", \"total_tickets\": 12, \"tickets_paid\": 4, \"repayment_rate\": 0.3333333333333333}, {\"violation_code\": \"0980095\", \"total_tickets\": 4, \"tickets_paid\": 2, \"repayment_rate\": 0.5}, {\"violation_code\": \"0980110A\", \"total_tickets\": 1104, \"tickets_paid\": 281, \"repayment_rate\": 0.2545289855072464}, {\"violation_code\": \"0980110B\", \"total_tickets\": 446, \"tickets_paid\": 106, \"repayment_rate\": 0.23766816143497757}, {\"violation_code\": \"0980120A\", \"total_tickets\": 119, \"tickets_paid\": 36, \"repayment_rate\": 0.3025210084033613}, {\"violation_code\": \"0980120B\", \"total_tickets\": 378, \"tickets_paid\": 220, \"repayment_rate\": 0.582010582010582}, {\"violation_code\": \"0980130A\", \"total_tickets\": 90, \"tickets_paid\": 66, \"repayment_rate\": 0.7333333333333333}, {\"violation_code\": \"0980130B\", \"total_tickets\": 225, \"tickets_paid\": 161, \"repayment_rate\": 0.7155555555555555}, {\"violation_code\": \"0980130C\", \"total_tickets\": 9, \"tickets_paid\": 2, \"repayment_rate\": 0.2222222222222222}]}}, {\"mode\": \"vega-lite\"});\n",
       "</script>"
      ],
      "text/plain": [
       "alt.Chart(...)"
      ]
     },
     "metadata": {},
     "output_type": "display_data"
    },
    {
     "name": "stdout",
     "output_type": "stream",
     "text": [
      "Top 3 Violation Types to Increase Prices:\n",
      "   violation_code  total_tickets  tickets_paid  repayment_rate\n",
      "94       0976160F          44811         27248        0.608065\n",
      "9        0964040B          32082         26085        0.813073\n",
      "20       0964090E          23683         17667        0.745978\n"
     ]
    }
   ],
   "source": [
    "df['paid'] = df['total_payments'] > 0\n",
    "violation_stats = df.groupby('violation_code').agg(\n",
    "    total_tickets=('violation_code', 'size'),\n",
    "    tickets_paid=('paid', 'sum')\n",
    ").reset_index()\n",
    "\n",
    "# Calculate repayment rate for each violation type\n",
    "violation_stats['repayment_rate'] = violation_stats['tickets_paid'] / violation_stats['total_tickets']\n",
    "\n",
    "# Step 3: Identify the top 3 violations with high ticket counts and repayment rates\n",
    "# We can sort by 'total_tickets' and 'repayment_rate' to find the top violations\n",
    "top_violations = violation_stats.sort_values(by=['total_tickets', 'repayment_rate'], ascending=[False, False]).head(3)\n",
    "\n",
    "# Step 4: Create a plot to visualize the number of tickets and repayment rate\n",
    "violation_chart = alt.Chart(violation_stats).mark_circle(size=60).encode(\n",
    "    x=alt.X('total_tickets:Q', title='Total Tickets Issued'),\n",
    "    y=alt.Y('repayment_rate:Q', title='Repayment Rate'),\n",
    "    color=alt.condition(\n",
    "        alt.FieldOneOfPredicate(field='violation_code', oneOf=top_violations['violation_code'].tolist()),\n",
    "        alt.value('red'),  # Highlight top 3 violations\n",
    "        alt.value('blue')  # Other violations\n",
    "    ),\n",
    "    tooltip=['violation_code', 'total_tickets', 'repayment_rate']\n",
    ").properties(\n",
    "    title='Violation Types: Total Tickets Issued vs. Repayment Rate'\n",
    ")\n",
    "\n",
    "# Display the chart\n",
    "violation_chart.show()\n",
    "\n",
    "# Display the top 3 recommended violation types for increasing prices\n",
    "print(\"Top 3 Violation Types to Increase Prices:\")\n",
    "print(top_violations)"
   ]
  },
  {
   "cell_type": "code",
   "execution_count": null,
   "id": "ceb37997-e9cb-4f9f-a827-8f45143ca292",
   "metadata": {
    "vscode": {
     "languageId": "quarto"
    }
   },
   "outputs": [
    {
     "data": {
      "text/html": [
       "\n",
       "<style>\n",
       "  #altair-viz-15154386199041858e880d0b4f69ab5b.vega-embed {\n",
       "    width: 100%;\n",
       "    display: flex;\n",
       "  }\n",
       "\n",
       "  #altair-viz-15154386199041858e880d0b4f69ab5b.vega-embed details,\n",
       "  #altair-viz-15154386199041858e880d0b4f69ab5b.vega-embed details summary {\n",
       "    position: relative;\n",
       "  }\n",
       "</style>\n",
       "<div id=\"altair-viz-15154386199041858e880d0b4f69ab5b\"></div>\n",
       "<script type=\"text/javascript\">\n",
       "  var VEGA_DEBUG = (typeof VEGA_DEBUG == \"undefined\") ? {} : VEGA_DEBUG;\n",
       "  (function(spec, embedOpt){\n",
       "    let outputDiv = document.currentScript.previousElementSibling;\n",
       "    if (outputDiv.id !== \"altair-viz-15154386199041858e880d0b4f69ab5b\") {\n",
       "      outputDiv = document.getElementById(\"altair-viz-15154386199041858e880d0b4f69ab5b\");\n",
       "    }\n",
       "    const paths = {\n",
       "      \"vega\": \"https://cdn.jsdelivr.net/npm/vega@5?noext\",\n",
       "      \"vega-lib\": \"https://cdn.jsdelivr.net/npm/vega-lib?noext\",\n",
       "      \"vega-lite\": \"https://cdn.jsdelivr.net/npm/vega-lite@5.20.1?noext\",\n",
       "      \"vega-embed\": \"https://cdn.jsdelivr.net/npm/vega-embed@6?noext\",\n",
       "    };\n",
       "\n",
       "    function maybeLoadScript(lib, version) {\n",
       "      var key = `${lib.replace(\"-\", \"\")}_version`;\n",
       "      return (VEGA_DEBUG[key] == version) ?\n",
       "        Promise.resolve(paths[lib]) :\n",
       "        new Promise(function(resolve, reject) {\n",
       "          var s = document.createElement('script');\n",
       "          document.getElementsByTagName(\"head\")[0].appendChild(s);\n",
       "          s.async = true;\n",
       "          s.onload = () => {\n",
       "            VEGA_DEBUG[key] = version;\n",
       "            return resolve(paths[lib]);\n",
       "          };\n",
       "          s.onerror = () => reject(`Error loading script: ${paths[lib]}`);\n",
       "          s.src = paths[lib];\n",
       "        });\n",
       "    }\n",
       "\n",
       "    function showError(err) {\n",
       "      outputDiv.innerHTML = `<div class=\"error\" style=\"color:red;\">${err}</div>`;\n",
       "      throw err;\n",
       "    }\n",
       "\n",
       "    function displayChart(vegaEmbed) {\n",
       "      vegaEmbed(outputDiv, spec, embedOpt)\n",
       "        .catch(err => showError(`Javascript Error: ${err.message}<br>This usually means there's a typo in your chart specification. See the javascript console for the full traceback.`));\n",
       "    }\n",
       "\n",
       "    if(typeof define === \"function\" && define.amd) {\n",
       "      requirejs.config({paths});\n",
       "      require([\"vega-embed\"], displayChart, err => showError(`Error loading script: ${err.message}`));\n",
       "    } else {\n",
       "      maybeLoadScript(\"vega\", \"5\")\n",
       "        .then(() => maybeLoadScript(\"vega-lite\", \"5.20.1\"))\n",
       "        .then(() => maybeLoadScript(\"vega-embed\", \"6\"))\n",
       "        .catch(showError)\n",
       "        .then(() => displayChart(vegaEmbed));\n",
       "    }\n",
       "  })({\"config\": {\"view\": {\"continuousWidth\": 300, \"continuousHeight\": 300}}, \"data\": {\"name\": \"data-5c2f390b8b9393b0cdc191a29a0a89e9\"}, \"mark\": {\"type\": \"circle\", \"size\": 60}, \"encoding\": {\"color\": {\"condition\": {\"test\": {\"field\": \"violation_code\", \"oneOf\": [\"0976160F\", \"0964040B\", \"0964090E\"]}, \"value\": \"red\"}, \"value\": \"blue\"}, \"tooltip\": [{\"field\": \"violation_code\", \"type\": \"nominal\"}, {\"field\": \"total_tickets\", \"type\": \"quantitative\"}, {\"field\": \"repayment_rate\", \"type\": \"quantitative\"}], \"x\": {\"field\": \"total_tickets\", \"title\": \"Total Tickets Issued\", \"type\": \"quantitative\"}, \"y\": {\"field\": \"repayment_rate\", \"title\": \"Repayment Rate\", \"type\": \"quantitative\"}}, \"title\": \"Violation Types: Total Tickets Issued vs. Repayment Rate\", \"$schema\": \"https://vega.github.io/schema/vega-lite/v5.20.1.json\", \"datasets\": {\"data-5c2f390b8b9393b0cdc191a29a0a89e9\": [{\"violation_code\": \"0912060\", \"total_tickets\": 1233, \"tickets_paid\": 746, \"repayment_rate\": 0.6050283860502839}, {\"violation_code\": \"0940060\", \"total_tickets\": 236, \"tickets_paid\": 161, \"repayment_rate\": 0.6822033898305084}, {\"violation_code\": \"0940080\", \"total_tickets\": 81, \"tickets_paid\": 40, \"repayment_rate\": 0.49382716049382713}, {\"violation_code\": \"0940170\", \"total_tickets\": 64, \"tickets_paid\": 35, \"repayment_rate\": 0.546875}, {\"violation_code\": \"0940220\", \"total_tickets\": 32, \"tickets_paid\": 21, \"repayment_rate\": 0.65625}, {\"violation_code\": \"0964020A\", \"total_tickets\": 1111, \"tickets_paid\": 860, \"repayment_rate\": 0.774077407740774}, {\"violation_code\": \"0964020B\", \"total_tickets\": 1577, \"tickets_paid\": 799, \"repayment_rate\": 0.5066582117945466}, {\"violation_code\": \"0964020C\", \"total_tickets\": 14, \"tickets_paid\": 10, \"repayment_rate\": 0.7142857142857143}, {\"violation_code\": \"0964030B\", \"total_tickets\": 110, \"tickets_paid\": 80, \"repayment_rate\": 0.7272727272727273}, {\"violation_code\": \"0964040B\", \"total_tickets\": 32082, \"tickets_paid\": 26085, \"repayment_rate\": 0.8130727510753694}, {\"violation_code\": \"0964041\", \"total_tickets\": 245, \"tickets_paid\": 201, \"repayment_rate\": 0.8204081632653061}, {\"violation_code\": \"0964041B\", \"total_tickets\": 242, \"tickets_paid\": 174, \"repayment_rate\": 0.71900826446281}, {\"violation_code\": \"0964050I\", \"total_tickets\": 5, \"tickets_paid\": 3, \"repayment_rate\": 0.6}, {\"violation_code\": \"0964050J\", \"total_tickets\": 2034, \"tickets_paid\": 1153, \"repayment_rate\": 0.5668633235004916}, {\"violation_code\": \"0964050J*\", \"total_tickets\": 5, \"tickets_paid\": 3, \"repayment_rate\": 0.6}, {\"violation_code\": \"0964060\", \"total_tickets\": 827, \"tickets_paid\": 605, \"repayment_rate\": 0.7315598548972189}, {\"violation_code\": \"0964060B\", \"total_tickets\": 12, \"tickets_paid\": 8, \"repayment_rate\": 0.6666666666666666}, {\"violation_code\": \"0964070\", \"total_tickets\": 164, \"tickets_paid\": 114, \"repayment_rate\": 0.6951219512195121}, {\"violation_code\": \"0964080A\", \"total_tickets\": 11965, \"tickets_paid\": 9279, \"repayment_rate\": 0.7755119097367321}, {\"violation_code\": \"0964080B\", \"total_tickets\": 8640, \"tickets_paid\": 6548, \"repayment_rate\": 0.7578703703703704}, {\"violation_code\": \"0964090E\", \"total_tickets\": 23683, \"tickets_paid\": 17667, \"repayment_rate\": 0.7459781277709749}, {\"violation_code\": \"0964091\", \"total_tickets\": 117, \"tickets_paid\": 99, \"repayment_rate\": 0.8461538461538461}, {\"violation_code\": \"0964091B\", \"total_tickets\": 3, \"tickets_paid\": 1, \"repayment_rate\": 0.3333333333333333}, {\"violation_code\": \"0964100A\", \"total_tickets\": 6104, \"tickets_paid\": 4203, \"repayment_rate\": 0.688564875491481}, {\"violation_code\": \"0964100B\", \"total_tickets\": 86, \"tickets_paid\": 49, \"repayment_rate\": 0.5697674418604651}, {\"violation_code\": \"0964100C\", \"total_tickets\": 1579, \"tickets_paid\": 1044, \"repayment_rate\": 0.6611779607346422}, {\"violation_code\": \"0964100D\", \"total_tickets\": 436, \"tickets_paid\": 340, \"repayment_rate\": 0.7798165137614679}, {\"violation_code\": \"0964100E\", \"total_tickets\": 42, \"tickets_paid\": 30, \"repayment_rate\": 0.7142857142857143}, {\"violation_code\": \"0964100F\", \"total_tickets\": 393, \"tickets_paid\": 284, \"repayment_rate\": 0.72264631043257}, {\"violation_code\": \"0964100G\", \"total_tickets\": 2191, \"tickets_paid\": 1777, \"repayment_rate\": 0.8110451848471018}, {\"violation_code\": \"0964100H\", \"total_tickets\": 4, \"tickets_paid\": 1, \"repayment_rate\": 0.25}, {\"violation_code\": \"0964110A\", \"total_tickets\": 2904, \"tickets_paid\": 1747, \"repayment_rate\": 0.6015840220385675}, {\"violation_code\": \"0964110B\", \"total_tickets\": 26, \"tickets_paid\": 19, \"repayment_rate\": 0.7307692307692307}, {\"violation_code\": \"0964110C\", \"total_tickets\": 1953, \"tickets_paid\": 1402, \"repayment_rate\": 0.7178699436763953}, {\"violation_code\": \"0964110D\", \"total_tickets\": 1036, \"tickets_paid\": 713, \"repayment_rate\": 0.6882239382239382}, {\"violation_code\": \"0964110E\", \"total_tickets\": 495, \"tickets_paid\": 362, \"repayment_rate\": 0.7313131313131314}, {\"violation_code\": \"0964110F\", \"total_tickets\": 40, \"tickets_paid\": 29, \"repayment_rate\": 0.725}, {\"violation_code\": \"0964110G\", \"total_tickets\": 247, \"tickets_paid\": 183, \"repayment_rate\": 0.7408906882591093}, {\"violation_code\": \"0964110H\", \"total_tickets\": 17, \"tickets_paid\": 11, \"repayment_rate\": 0.6470588235294118}, {\"violation_code\": \"0964120A\", \"total_tickets\": 183, \"tickets_paid\": 77, \"repayment_rate\": 0.4207650273224044}, {\"violation_code\": \"0964120B\", \"total_tickets\": 62, \"tickets_paid\": 38, \"repayment_rate\": 0.6129032258064516}, {\"violation_code\": \"0964125\", \"total_tickets\": 10758, \"tickets_paid\": 5973, \"repayment_rate\": 0.5552147239263804}, {\"violation_code\": \"0964125B\", \"total_tickets\": 14246, \"tickets_paid\": 6160, \"repayment_rate\": 0.43240207777621786}, {\"violation_code\": \"0964125C\", \"total_tickets\": 131, \"tickets_paid\": 19, \"repayment_rate\": 0.1450381679389313}, {\"violation_code\": \"0964125D\", \"total_tickets\": 399, \"tickets_paid\": 306, \"repayment_rate\": 0.7669172932330827}, {\"violation_code\": \"0964130\", \"total_tickets\": 2050, \"tickets_paid\": 1109, \"repayment_rate\": 0.5409756097560976}, {\"violation_code\": \"0964130A\", \"total_tickets\": 998, \"tickets_paid\": 426, \"repayment_rate\": 0.42685370741482964}, {\"violation_code\": \"0964130B\", \"total_tickets\": 20, \"tickets_paid\": 13, \"repayment_rate\": 0.65}, {\"violation_code\": \"0964140B\", \"total_tickets\": 6004, \"tickets_paid\": 4051, \"repayment_rate\": 0.6747168554297135}, {\"violation_code\": \"0964150A\", \"total_tickets\": 7, \"tickets_paid\": 4, \"repayment_rate\": 0.5714285714285714}, {\"violation_code\": \"0964150B\", \"total_tickets\": 19753, \"tickets_paid\": 14038, \"repayment_rate\": 0.710676859211259}, {\"violation_code\": \"0964160A\", \"total_tickets\": 1, \"tickets_paid\": 1, \"repayment_rate\": 1.0}, {\"violation_code\": \"0964160B\", \"total_tickets\": 1204, \"tickets_paid\": 850, \"repayment_rate\": 0.7059800664451827}, {\"violation_code\": \"0964160C\", \"total_tickets\": 5, \"tickets_paid\": 3, \"repayment_rate\": 0.6}, {\"violation_code\": \"0964170A\", \"total_tickets\": 4789, \"tickets_paid\": 3332, \"repayment_rate\": 0.6957611192315724}, {\"violation_code\": \"0964170B\", \"total_tickets\": 456, \"tickets_paid\": 314, \"repayment_rate\": 0.6885964912280702}, {\"violation_code\": \"0964170C\", \"total_tickets\": 41, \"tickets_paid\": 30, \"repayment_rate\": 0.7317073170731707}, {\"violation_code\": \"0964170D\", \"total_tickets\": 302, \"tickets_paid\": 150, \"repayment_rate\": 0.4966887417218543}, {\"violation_code\": \"0964180A\", \"total_tickets\": 34, \"tickets_paid\": 20, \"repayment_rate\": 0.5882352941176471}, {\"violation_code\": \"0964190\", \"total_tickets\": 18756, \"tickets_paid\": 15122, \"repayment_rate\": 0.8062486670931969}, {\"violation_code\": \"0964190A\", \"total_tickets\": 20600, \"tickets_paid\": 16387, \"repayment_rate\": 0.7954854368932038}, {\"violation_code\": \"0964190B\", \"total_tickets\": 9736, \"tickets_paid\": 7279, \"repayment_rate\": 0.7476376335250616}, {\"violation_code\": \"0964190C\", \"total_tickets\": 100, \"tickets_paid\": 45, \"repayment_rate\": 0.45}, {\"violation_code\": \"0964200B\", \"total_tickets\": 341, \"tickets_paid\": 214, \"repayment_rate\": 0.6275659824046921}, {\"violation_code\": \"0964210\", \"total_tickets\": 20, \"tickets_paid\": 13, \"repayment_rate\": 0.65}, {\"violation_code\": \"0968040I\", \"total_tickets\": 4, \"tickets_paid\": 3, \"repayment_rate\": 0.75}, {\"violation_code\": \"0976010A\", \"total_tickets\": 1, \"tickets_paid\": 1, \"repayment_rate\": 1.0}, {\"violation_code\": \"0976020A\", \"total_tickets\": 6, \"tickets_paid\": 5, \"repayment_rate\": 0.8333333333333334}, {\"violation_code\": \"0976020B\", \"total_tickets\": 1, \"tickets_paid\": 1, \"repayment_rate\": 1.0}, {\"violation_code\": \"0976020E\", \"total_tickets\": 1, \"tickets_paid\": 1, \"repayment_rate\": 1.0}, {\"violation_code\": \"0976040A\", \"total_tickets\": 2, \"tickets_paid\": 0, \"repayment_rate\": 0.0}, {\"violation_code\": \"0976040B\", \"total_tickets\": 4, \"tickets_paid\": 3, \"repayment_rate\": 0.75}, {\"violation_code\": \"0976050A\", \"total_tickets\": 7, \"tickets_paid\": 2, \"repayment_rate\": 0.2857142857142857}, {\"violation_code\": \"0976050B\", \"total_tickets\": 443, \"tickets_paid\": 266, \"repayment_rate\": 0.600451467268623}, {\"violation_code\": \"0976050C\", \"total_tickets\": 115, \"tickets_paid\": 64, \"repayment_rate\": 0.5565217391304348}, {\"violation_code\": \"0976050D\", \"total_tickets\": 110, \"tickets_paid\": 62, \"repayment_rate\": 0.5636363636363636}, {\"violation_code\": \"0976050E\", \"total_tickets\": 4, \"tickets_paid\": 1, \"repayment_rate\": 0.25}, {\"violation_code\": \"0976070A\", \"total_tickets\": 3, \"tickets_paid\": 2, \"repayment_rate\": 0.6666666666666666}, {\"violation_code\": \"0976070C\", \"total_tickets\": 2, \"tickets_paid\": 2, \"repayment_rate\": 1.0}, {\"violation_code\": \"0976070D\", \"total_tickets\": 1, \"tickets_paid\": 1, \"repayment_rate\": 1.0}, {\"violation_code\": \"0976080\", \"total_tickets\": 9, \"tickets_paid\": 5, \"repayment_rate\": 0.5555555555555556}, {\"violation_code\": \"0976090B\", \"total_tickets\": 9, \"tickets_paid\": 6, \"repayment_rate\": 0.6666666666666666}, {\"violation_code\": \"0976090C\", \"total_tickets\": 4, \"tickets_paid\": 0, \"repayment_rate\": 0.0}, {\"violation_code\": \"0976100A\", \"total_tickets\": 1, \"tickets_paid\": 0, \"repayment_rate\": 0.0}, {\"violation_code\": \"0976110A\", \"total_tickets\": 21, \"tickets_paid\": 11, \"repayment_rate\": 0.5238095238095238}, {\"violation_code\": \"0976120\", \"total_tickets\": 27, \"tickets_paid\": 20, \"repayment_rate\": 0.7407407407407407}, {\"violation_code\": \"0976130\", \"total_tickets\": 1, \"tickets_paid\": 1, \"repayment_rate\": 1.0}, {\"violation_code\": \"0976140A\", \"total_tickets\": 9, \"tickets_paid\": 5, \"repayment_rate\": 0.5555555555555556}, {\"violation_code\": \"0976140B\", \"total_tickets\": 12, \"tickets_paid\": 7, \"repayment_rate\": 0.5833333333333334}, {\"violation_code\": \"0976150B\", \"total_tickets\": 102, \"tickets_paid\": 78, \"repayment_rate\": 0.7647058823529411}, {\"violation_code\": \"0976160A\", \"total_tickets\": 16853, \"tickets_paid\": 8792, \"repayment_rate\": 0.5216875333768468}, {\"violation_code\": \"0976160B\", \"total_tickets\": 3072, \"tickets_paid\": 1322, \"repayment_rate\": 0.4303385416666667}, {\"violation_code\": \"0976160C\", \"total_tickets\": 21, \"tickets_paid\": 12, \"repayment_rate\": 0.5714285714285714}, {\"violation_code\": \"0976160D\", \"total_tickets\": 1920, \"tickets_paid\": 1186, \"repayment_rate\": 0.6177083333333333}, {\"violation_code\": \"0976160F\", \"total_tickets\": 44811, \"tickets_paid\": 27248, \"repayment_rate\": 0.6080649840440964}, {\"violation_code\": \"0976170\", \"total_tickets\": 15, \"tickets_paid\": 10, \"repayment_rate\": 0.6666666666666666}, {\"violation_code\": \"0976180A\", \"total_tickets\": 981, \"tickets_paid\": 700, \"repayment_rate\": 0.7135575942915392}, {\"violation_code\": \"0976180B\", \"total_tickets\": 54, \"tickets_paid\": 38, \"repayment_rate\": 0.7037037037037037}, {\"violation_code\": \"0976190\", \"total_tickets\": 1, \"tickets_paid\": 1, \"repayment_rate\": 1.0}, {\"violation_code\": \"0976200A\", \"total_tickets\": 6, \"tickets_paid\": 3, \"repayment_rate\": 0.5}, {\"violation_code\": \"0976200B\", \"total_tickets\": 3, \"tickets_paid\": 3, \"repayment_rate\": 1.0}, {\"violation_code\": \"0976210A\", \"total_tickets\": 162, \"tickets_paid\": 97, \"repayment_rate\": 0.5987654320987654}, {\"violation_code\": \"0976210B\", \"total_tickets\": 576, \"tickets_paid\": 351, \"repayment_rate\": 0.609375}, {\"violation_code\": \"0976220A\", \"total_tickets\": 271, \"tickets_paid\": 155, \"repayment_rate\": 0.5719557195571956}, {\"violation_code\": \"0976220B\", \"total_tickets\": 1697, \"tickets_paid\": 1086, \"repayment_rate\": 0.6399528579846788}, {\"violation_code\": \"0980080A\", \"total_tickets\": 664, \"tickets_paid\": 129, \"repayment_rate\": 0.19427710843373494}, {\"violation_code\": \"0980080B\", \"total_tickets\": 34, \"tickets_paid\": 14, \"repayment_rate\": 0.4117647058823529}, {\"violation_code\": \"0980080C\", \"total_tickets\": 12, \"tickets_paid\": 4, \"repayment_rate\": 0.3333333333333333}, {\"violation_code\": \"0980095\", \"total_tickets\": 4, \"tickets_paid\": 2, \"repayment_rate\": 0.5}, {\"violation_code\": \"0980110A\", \"total_tickets\": 1104, \"tickets_paid\": 281, \"repayment_rate\": 0.2545289855072464}, {\"violation_code\": \"0980110B\", \"total_tickets\": 446, \"tickets_paid\": 106, \"repayment_rate\": 0.23766816143497757}, {\"violation_code\": \"0980120A\", \"total_tickets\": 119, \"tickets_paid\": 36, \"repayment_rate\": 0.3025210084033613}, {\"violation_code\": \"0980120B\", \"total_tickets\": 378, \"tickets_paid\": 220, \"repayment_rate\": 0.582010582010582}, {\"violation_code\": \"0980130A\", \"total_tickets\": 90, \"tickets_paid\": 66, \"repayment_rate\": 0.7333333333333333}, {\"violation_code\": \"0980130B\", \"total_tickets\": 225, \"tickets_paid\": 161, \"repayment_rate\": 0.7155555555555555}, {\"violation_code\": \"0980130C\", \"total_tickets\": 9, \"tickets_paid\": 2, \"repayment_rate\": 0.2222222222222222}]}}, {\"mode\": \"vega-lite\"});\n",
       "</script>"
      ],
      "text/plain": [
       "alt.Chart(...)"
      ]
     },
     "metadata": {},
     "output_type": "display_data"
    },
    {
     "name": "stdout",
     "output_type": "stream",
     "text": [
      "Top 3 Violation Types to Increase Prices:\n"
     ]
    },
    {
     "ename": "KeyError",
     "evalue": "\"['violation_description'] not in index\"",
     "output_type": "error",
     "traceback": [
      "\u001b[0;31m---------------------------------------------------------------------------\u001b[0m",
      "\u001b[0;31mKeyError\u001b[0m                                  Traceback (most recent call last)",
      "File \u001b[1;32m/Users/hkkkkk/Documents/GitHub/ppha30538_fall2024/30538-dap-ii-problem-set-2-ps2-dap2-python-fall2024/pset2_template.qmd:33\u001b[0m\n\u001b[1;32m     31\u001b[0m \u001b[39m# Display the top 3 recommended violation types for increasing prices\u001b[39;00m\n\u001b[1;32m     32\u001b[0m \u001b[39mprint\u001b[39m(\u001b[39m\"\u001b[39m\u001b[39mTop 3 Violation Types to Increase Prices:\u001b[39m\u001b[39m\"\u001b[39m)\n\u001b[0;32m---> 33\u001b[0m \u001b[39mprint\u001b[39m(top_violations[[\u001b[39m'\u001b[39m\u001b[39mviolation_code\u001b[39m\u001b[39m'\u001b[39m, \u001b[39m'\u001b[39m\u001b[39mviolation_description\u001b[39m\u001b[39m'\u001b[39m, \u001b[39m'\u001b[39m\u001b[39mtotal_tickets\u001b[39m\u001b[39m'\u001b[39m, \u001b[39m'\u001b[39m\u001b[39mrepayment_rate\u001b[39m\u001b[39m'\u001b[39m]])\n\u001b[1;32m     35\u001b[0m \u001b[39mprint\u001b[39m(top_violations)\n",
      "File \u001b[0;32m/opt/anaconda3/lib/python3.11/site-packages/pandas/core/frame.py:4096\u001b[0m, in \u001b[0;36mDataFrame.__getitem__\u001b[0;34m(self, key)\u001b[0m\n\u001b[1;32m   4094\u001b[0m     \u001b[39mif\u001b[39;00m is_iterator(key):\n\u001b[1;32m   4095\u001b[0m         key \u001b[39m=\u001b[39m \u001b[39mlist\u001b[39m(key)\n\u001b[0;32m-> 4096\u001b[0m     indexer \u001b[39m=\u001b[39m \u001b[39mself\u001b[39m\u001b[39m.\u001b[39mcolumns\u001b[39m.\u001b[39m_get_indexer_strict(key, \u001b[39m\"\u001b[39m\u001b[39mcolumns\u001b[39m\u001b[39m\"\u001b[39m)[\u001b[39m1\u001b[39m]\n\u001b[1;32m   4098\u001b[0m \u001b[39m# take() does not accept boolean indexers\u001b[39;00m\n\u001b[1;32m   4099\u001b[0m \u001b[39mif\u001b[39;00m \u001b[39mgetattr\u001b[39m(indexer, \u001b[39m\"\u001b[39m\u001b[39mdtype\u001b[39m\u001b[39m\"\u001b[39m, \u001b[39mNone\u001b[39;00m) \u001b[39m==\u001b[39m \u001b[39mbool\u001b[39m:\n",
      "File \u001b[0;32m/opt/anaconda3/lib/python3.11/site-packages/pandas/core/indexes/base.py:6200\u001b[0m, in \u001b[0;36mIndex._get_indexer_strict\u001b[0;34m(self, key, axis_name)\u001b[0m\n\u001b[1;32m   6197\u001b[0m \u001b[39melse\u001b[39;00m:\n\u001b[1;32m   6198\u001b[0m     keyarr, indexer, new_indexer \u001b[39m=\u001b[39m \u001b[39mself\u001b[39m\u001b[39m.\u001b[39m_reindex_non_unique(keyarr)\n\u001b[0;32m-> 6200\u001b[0m \u001b[39mself\u001b[39m\u001b[39m.\u001b[39m_raise_if_missing(keyarr, indexer, axis_name)\n\u001b[1;32m   6202\u001b[0m keyarr \u001b[39m=\u001b[39m \u001b[39mself\u001b[39m\u001b[39m.\u001b[39mtake(indexer)\n\u001b[1;32m   6203\u001b[0m \u001b[39mif\u001b[39;00m \u001b[39misinstance\u001b[39m(key, Index):\n\u001b[1;32m   6204\u001b[0m     \u001b[39m# GH 42790 - Preserve name from an Index\u001b[39;00m\n",
      "File \u001b[0;32m/opt/anaconda3/lib/python3.11/site-packages/pandas/core/indexes/base.py:6252\u001b[0m, in \u001b[0;36mIndex._raise_if_missing\u001b[0;34m(self, key, indexer, axis_name)\u001b[0m\n\u001b[1;32m   6249\u001b[0m     \u001b[39mraise\u001b[39;00m \u001b[39mKeyError\u001b[39;00m(\u001b[39mf\u001b[39m\u001b[39m\"\u001b[39m\u001b[39mNone of [\u001b[39m\u001b[39m{\u001b[39;00mkey\u001b[39m}\u001b[39;00m\u001b[39m] are in the [\u001b[39m\u001b[39m{\u001b[39;00maxis_name\u001b[39m}\u001b[39;00m\u001b[39m]\u001b[39m\u001b[39m\"\u001b[39m)\n\u001b[1;32m   6251\u001b[0m not_found \u001b[39m=\u001b[39m \u001b[39mlist\u001b[39m(ensure_index(key)[missing_mask\u001b[39m.\u001b[39mnonzero()[\u001b[39m0\u001b[39m]]\u001b[39m.\u001b[39munique())\n\u001b[0;32m-> 6252\u001b[0m \u001b[39mraise\u001b[39;00m \u001b[39mKeyError\u001b[39;00m(\u001b[39mf\u001b[39m\u001b[39m\"\u001b[39m\u001b[39m{\u001b[39;00mnot_found\u001b[39m}\u001b[39;00m\u001b[39m not in index\u001b[39m\u001b[39m\"\u001b[39m)\n",
      "\u001b[0;31mKeyError\u001b[0m: \"['violation_description'] not in index\""
     ]
    }
   ],
   "source": [
    "df['paid'] = df['total_payments'] > 0\n",
    "violation_stats = df.groupby('violation_code').agg(\n",
    "    total_tickets=('violation_code', 'size'),\n",
    "    tickets_paid=('paid', 'sum')\n",
    ").reset_index()\n",
    "\n",
    "# Calculate repayment rate for each violation type\n",
    "violation_stats['repayment_rate'] = violation_stats['tickets_paid'] / violation_stats['total_tickets']\n",
    "\n",
    "# Step 3: Identify the top 3 violations with high ticket counts and repayment rates\n",
    "# We can sort by 'total_tickets' and 'repayment_rate' to find the top violations\n",
    "top_violations = violation_stats.sort_values(by=['total_tickets', 'repayment_rate'], ascending=[False, False]).head(3)\n",
    "\n",
    "# Step 4: Create a plot to visualize the number of tickets and repayment rate\n",
    "violation_chart = alt.Chart(violation_stats).mark_circle(size=60).encode(\n",
    "    x=alt.X('total_tickets:Q', title='Total Tickets Issued'),\n",
    "    y=alt.Y('repayment_rate:Q', title='Repayment Rate'),\n",
    "    color=alt.condition(\n",
    "        alt.FieldOneOfPredicate(field='violation_code', oneOf=top_violations['violation_code'].tolist()),\n",
    "        alt.value('red'),  # Highlight top 3 violations\n",
    "        alt.value('blue')  # Other violations\n",
    "    ),\n",
    "    tooltip=['violation_code', 'total_tickets', 'repayment_rate']\n",
    ").properties(\n",
    "    title='Violation Types: Total Tickets Issued vs. Repayment Rate'\n",
    ")\n",
    "\n",
    "# Display the chart\n",
    "violation_chart.show()\n",
    "\n",
    "# Display the top 3 recommended violation types for increasing prices\n",
    "print(\"Top 3 Violation Types to Increase Prices:\")\n",
    "print(top_violations[['violation_code', 'violation_description', 'total_tickets', 'repayment_rate']])\n",
    "\n",
    "print(top_violations)"
   ]
  },
  {
   "cell_type": "code",
   "execution_count": null,
   "id": "9d26da79-cbfb-4b1d-bfcf-ea7ae1a91c47",
   "metadata": {
    "vscode": {
     "languageId": "quarto"
    }
   },
   "outputs": [
    {
     "data": {
      "text/html": [
       "\n",
       "<style>\n",
       "  #altair-viz-fe0312480b7e4c6692886da44fc1254e.vega-embed {\n",
       "    width: 100%;\n",
       "    display: flex;\n",
       "  }\n",
       "\n",
       "  #altair-viz-fe0312480b7e4c6692886da44fc1254e.vega-embed details,\n",
       "  #altair-viz-fe0312480b7e4c6692886da44fc1254e.vega-embed details summary {\n",
       "    position: relative;\n",
       "  }\n",
       "</style>\n",
       "<div id=\"altair-viz-fe0312480b7e4c6692886da44fc1254e\"></div>\n",
       "<script type=\"text/javascript\">\n",
       "  var VEGA_DEBUG = (typeof VEGA_DEBUG == \"undefined\") ? {} : VEGA_DEBUG;\n",
       "  (function(spec, embedOpt){\n",
       "    let outputDiv = document.currentScript.previousElementSibling;\n",
       "    if (outputDiv.id !== \"altair-viz-fe0312480b7e4c6692886da44fc1254e\") {\n",
       "      outputDiv = document.getElementById(\"altair-viz-fe0312480b7e4c6692886da44fc1254e\");\n",
       "    }\n",
       "    const paths = {\n",
       "      \"vega\": \"https://cdn.jsdelivr.net/npm/vega@5?noext\",\n",
       "      \"vega-lib\": \"https://cdn.jsdelivr.net/npm/vega-lib?noext\",\n",
       "      \"vega-lite\": \"https://cdn.jsdelivr.net/npm/vega-lite@5.20.1?noext\",\n",
       "      \"vega-embed\": \"https://cdn.jsdelivr.net/npm/vega-embed@6?noext\",\n",
       "    };\n",
       "\n",
       "    function maybeLoadScript(lib, version) {\n",
       "      var key = `${lib.replace(\"-\", \"\")}_version`;\n",
       "      return (VEGA_DEBUG[key] == version) ?\n",
       "        Promise.resolve(paths[lib]) :\n",
       "        new Promise(function(resolve, reject) {\n",
       "          var s = document.createElement('script');\n",
       "          document.getElementsByTagName(\"head\")[0].appendChild(s);\n",
       "          s.async = true;\n",
       "          s.onload = () => {\n",
       "            VEGA_DEBUG[key] = version;\n",
       "            return resolve(paths[lib]);\n",
       "          };\n",
       "          s.onerror = () => reject(`Error loading script: ${paths[lib]}`);\n",
       "          s.src = paths[lib];\n",
       "        });\n",
       "    }\n",
       "\n",
       "    function showError(err) {\n",
       "      outputDiv.innerHTML = `<div class=\"error\" style=\"color:red;\">${err}</div>`;\n",
       "      throw err;\n",
       "    }\n",
       "\n",
       "    function displayChart(vegaEmbed) {\n",
       "      vegaEmbed(outputDiv, spec, embedOpt)\n",
       "        .catch(err => showError(`Javascript Error: ${err.message}<br>This usually means there's a typo in your chart specification. See the javascript console for the full traceback.`));\n",
       "    }\n",
       "\n",
       "    if(typeof define === \"function\" && define.amd) {\n",
       "      requirejs.config({paths});\n",
       "      require([\"vega-embed\"], displayChart, err => showError(`Error loading script: ${err.message}`));\n",
       "    } else {\n",
       "      maybeLoadScript(\"vega\", \"5\")\n",
       "        .then(() => maybeLoadScript(\"vega-lite\", \"5.20.1\"))\n",
       "        .then(() => maybeLoadScript(\"vega-embed\", \"6\"))\n",
       "        .catch(showError)\n",
       "        .then(() => displayChart(vegaEmbed));\n",
       "    }\n",
       "  })({\"config\": {\"view\": {\"continuousWidth\": 300, \"continuousHeight\": 300}}, \"data\": {\"name\": \"data-cfc6b09e0afaffd4d60db3bd6bbaa024\"}, \"mark\": {\"type\": \"circle\", \"size\": 60}, \"encoding\": {\"color\": {\"condition\": {\"test\": {\"field\": \"violation_code\", \"oneOf\": [\"0976160F\", \"0964040B\", \"0964090E\"]}, \"value\": \"red\"}, \"value\": \"blue\"}, \"tooltip\": [{\"field\": \"violation_code\", \"type\": \"nominal\"}, {\"field\": \"total_tickets\", \"type\": \"quantitative\"}, {\"field\": \"repayment_rate\", \"type\": \"quantitative\"}], \"x\": {\"field\": \"total_tickets\", \"title\": \"Total Tickets Issued\", \"type\": \"quantitative\"}, \"y\": {\"field\": \"repayment_rate\", \"title\": \"Repayment Rate\", \"type\": \"quantitative\"}}, \"title\": \"Violation Types: Total Tickets Issued vs. Repayment Rate\", \"$schema\": \"https://vega.github.io/schema/vega-lite/v5.20.1.json\", \"datasets\": {\"data-cfc6b09e0afaffd4d60db3bd6bbaa024\": [{\"violation_code\": \"0912060\", \"violation_description\": \"STAND, PARK, OR OTHER USE OF BUS LANE\", \"total_tickets\": 1233, \"tickets_paid\": 746, \"repayment_rate\": 0.6050283860502839}, {\"violation_code\": \"0940060\", \"violation_description\": \"PARK/STAND ON BICYCLE PATH\", \"total_tickets\": 236, \"tickets_paid\": 161, \"repayment_rate\": 0.6822033898305084}, {\"violation_code\": \"0940080\", \"violation_description\": \"PARKED/STANDING UNATTENDED W/MOTOR RUNNI\", \"total_tickets\": 81, \"tickets_paid\": 40, \"repayment_rate\": 0.49382716049382713}, {\"violation_code\": \"0940170\", \"violation_description\": \"UNSAFE CONDITION\", \"total_tickets\": 64, \"tickets_paid\": 35, \"repayment_rate\": 0.546875}, {\"violation_code\": \"0940220\", \"violation_description\": \"NO OPERATOR SIGNAL\", \"total_tickets\": 32, \"tickets_paid\": 21, \"repayment_rate\": 0.65625}, {\"violation_code\": \"0964020A\", \"violation_description\": \"WRONG DIRECTION OR 12'' FROM CURB\", \"total_tickets\": 1111, \"tickets_paid\": 860, \"repayment_rate\": 0.774077407740774}, {\"violation_code\": \"0964020B\", \"violation_description\": \"OBSTRUCT ROADWAY\", \"total_tickets\": 1577, \"tickets_paid\": 799, \"repayment_rate\": 0.5066582117945466}, {\"violation_code\": \"0964020C\", \"violation_description\": \"PARK MOTORCYCLE/SCOOTER PARK AT 90 DEGREE ANGLE\", \"total_tickets\": 14, \"tickets_paid\": 10, \"repayment_rate\": 0.7142857142857143}, {\"violation_code\": \"0964030B\", \"violation_description\": \"OUTSIDE DIAGONAL MARKINGS\", \"total_tickets\": 110, \"tickets_paid\": 80, \"repayment_rate\": 0.7272727272727273}, {\"violation_code\": \"0964040B\", \"violation_description\": \"STREET CLEANING\", \"total_tickets\": 28712, \"tickets_paid\": 23426, \"repayment_rate\": 0.8158957926999164}, {\"violation_code\": \"0964040B\", \"violation_description\": \"STREET CLEANING OR SPECIAL EVENT\", \"total_tickets\": 3370, \"tickets_paid\": 2659, \"repayment_rate\": 0.7890207715133531}, {\"violation_code\": \"0964041\", \"violation_description\": \"SPECIAL EVENTS RESTRICTION\", \"total_tickets\": 245, \"tickets_paid\": 201, \"repayment_rate\": 0.8204081632653061}, {\"violation_code\": \"0964041B\", \"violation_description\": \"SPECIAL EVENTS RESTRICTION\", \"total_tickets\": 217, \"tickets_paid\": 157, \"repayment_rate\": 0.7235023041474654}, {\"violation_code\": \"0964041B\", \"violation_description\": \"Special Events\", \"total_tickets\": 25, \"tickets_paid\": 17, \"repayment_rate\": 0.68}, {\"violation_code\": \"0964050I\", \"violation_description\": \"DISABLED PARKING\", \"total_tickets\": 5, \"tickets_paid\": 3, \"repayment_rate\": 0.6}, {\"violation_code\": \"0964050J\", \"violation_description\": \"DISABLED PARKING ZONE\", \"total_tickets\": 2034, \"tickets_paid\": 1153, \"repayment_rate\": 0.5668633235004916}, {\"violation_code\": \"0964050J*\", \"violation_description\": \"INVALID PLACARD\", \"total_tickets\": 5, \"tickets_paid\": 3, \"repayment_rate\": 0.6}, {\"violation_code\": \"0964060\", \"violation_description\": \"3-7 AM SNOW ROUTE\", \"total_tickets\": 827, \"tickets_paid\": 605, \"repayment_rate\": 0.7315598548972189}, {\"violation_code\": \"0964060B\", \"violation_description\": \"3-7 AM SNOW ROUTE\", \"total_tickets\": 12, \"tickets_paid\": 8, \"repayment_rate\": 0.6666666666666666}, {\"violation_code\": \"0964070\", \"violation_description\": \"SNOW ROUTE: 2' OF SNOW OR MORE\", \"total_tickets\": 20, \"tickets_paid\": 13, \"repayment_rate\": 0.65}, {\"violation_code\": \"0964070\", \"violation_description\": \"SNOW ROUTE: 2'' OF SNOW OR MORE\", \"total_tickets\": 144, \"tickets_paid\": 101, \"repayment_rate\": 0.7013888888888888}, {\"violation_code\": \"0964080A\", \"violation_description\": \"RUSH HOUR PARKING\", \"total_tickets\": 11965, \"tickets_paid\": 9279, \"repayment_rate\": 0.7755119097367321}, {\"violation_code\": \"0964080B\", \"violation_description\": \"NO STANDING/PARKING TIME RESTRICTED\", \"total_tickets\": 8640, \"tickets_paid\": 6548, \"repayment_rate\": 0.7578703703703704}, {\"violation_code\": \"0964090E\", \"violation_description\": \"RESIDENTIAL PERMIT PARKING\", \"total_tickets\": 23683, \"tickets_paid\": 17667, \"repayment_rate\": 0.7459781277709749}, {\"violation_code\": \"0964091\", \"violation_description\": \"INDUSTRIAL PERMIT PARKING\", \"total_tickets\": 117, \"tickets_paid\": 99, \"repayment_rate\": 0.8461538461538461}, {\"violation_code\": \"0964091B\", \"violation_description\": \"INDUSTRIAL PERMIT PARKING\", \"total_tickets\": 3, \"tickets_paid\": 1, \"repayment_rate\": 0.3333333333333333}, {\"violation_code\": \"0964100A\", \"violation_description\": \"WITHIN 15' OF FIRE HYDRANT\", \"total_tickets\": 6104, \"tickets_paid\": 4203, \"repayment_rate\": 0.688564875491481}, {\"violation_code\": \"0964100B\", \"violation_description\": \"PARK IN FIRE LANE\", \"total_tickets\": 86, \"tickets_paid\": 49, \"repayment_rate\": 0.5697674418604651}, {\"violation_code\": \"0964100C\", \"violation_description\": \"BLOCK ACCESS/ALLEY/DRIVEWAY/FIRELANE\", \"total_tickets\": 1579, \"tickets_paid\": 1044, \"repayment_rate\": 0.6611779607346422}, {\"violation_code\": \"0964100D\", \"violation_description\": \"DISABLED CURB CUT\", \"total_tickets\": 436, \"tickets_paid\": 340, \"repayment_rate\": 0.7798165137614679}, {\"violation_code\": \"0964100E\", \"violation_description\": \"UNDER FIRE ESCAPE\", \"total_tickets\": 42, \"tickets_paid\": 30, \"repayment_rate\": 0.7142857142857143}, {\"violation_code\": \"0964100F\", \"violation_description\": \"20'OF CROSSWALK\", \"total_tickets\": 393, \"tickets_paid\": 284, \"repayment_rate\": 0.72264631043257}, {\"violation_code\": \"0964100G\", \"violation_description\": \"STOP SIGN OR TRAFFIC SIGNAL\", \"total_tickets\": 2191, \"tickets_paid\": 1777, \"repayment_rate\": 0.8110451848471018}, {\"violation_code\": \"0964100H\", \"violation_description\": \"THEATER ENTRANCE/EXIT\", \"total_tickets\": 4, \"tickets_paid\": 1, \"repayment_rate\": 0.25}, {\"violation_code\": \"0964110A\", \"violation_description\": \"DOUBLE PARKING OR STANDING\", \"total_tickets\": 2904, \"tickets_paid\": 1747, \"repayment_rate\": 0.6015840220385675}, {\"violation_code\": \"0964110B\", \"violation_description\": \"PARK OR STAND WITHIN INTERSECTION\", \"total_tickets\": 26, \"tickets_paid\": 19, \"repayment_rate\": 0.7307692307692307}, {\"violation_code\": \"0964110C\", \"violation_description\": \"PARK OR STAND ON CROSSWALK\", \"total_tickets\": 1953, \"tickets_paid\": 1402, \"repayment_rate\": 0.7178699436763953}, {\"violation_code\": \"0964110D\", \"violation_description\": \"PARK OR STAND ON SIDEWALK\", \"total_tickets\": 1036, \"tickets_paid\": 713, \"repayment_rate\": 0.6882239382239382}, {\"violation_code\": \"0964110E\", \"violation_description\": \"PARK OR STAND ON PARKWAY\", \"total_tickets\": 495, \"tickets_paid\": 362, \"repayment_rate\": 0.7313131313131314}, {\"violation_code\": \"0964110F\", \"violation_description\": \"PARK OR STAND ON BRIDGE\", \"total_tickets\": 40, \"tickets_paid\": 29, \"repayment_rate\": 0.725}, {\"violation_code\": \"0964110G\", \"violation_description\": \"PARK OR STAND IN VIADUCT/UNDERPASS\", \"total_tickets\": 247, \"tickets_paid\": 183, \"repayment_rate\": 0.7408906882591093}, {\"violation_code\": \"0964110H\", \"violation_description\": \"PARK OR STAND ON OR WITHIN 10' RR TRACKS\", \"total_tickets\": 17, \"tickets_paid\": 11, \"repayment_rate\": 0.6470588235294118}, {\"violation_code\": \"0964120A\", \"violation_description\": \"PARK OR STAND ON CITY PROPERTY\", \"total_tickets\": 183, \"tickets_paid\": 77, \"repayment_rate\": 0.4207650273224044}, {\"violation_code\": \"0964120B\", \"violation_description\": \"PARK OR STAND ON CHA PROPERTY\", \"total_tickets\": 62, \"tickets_paid\": 38, \"repayment_rate\": 0.6129032258064516}, {\"violation_code\": \"0964125\", \"violation_description\": \"NO CITY STICKER OR IMPROPER DISPLAY\", \"total_tickets\": 10758, \"tickets_paid\": 5973, \"repayment_rate\": 0.5552147239263804}, {\"violation_code\": \"0964125B\", \"violation_description\": \"NO CITY STICKER VEHICLE UNDER/EQUAL TO 16,000 LBS.\", \"total_tickets\": 14246, \"tickets_paid\": 6160, \"repayment_rate\": 0.43240207777621786}, {\"violation_code\": \"0964125C\", \"violation_description\": \"NO CITY STICKER VEHICLE OVER 16,000 LBS.\", \"total_tickets\": 131, \"tickets_paid\": 19, \"repayment_rate\": 0.1450381679389313}, {\"violation_code\": \"0964125D\", \"violation_description\": \"IMPROPER DISPLAY OF CITY STICKER\", \"total_tickets\": 399, \"tickets_paid\": 306, \"repayment_rate\": 0.7669172932330827}, {\"violation_code\": \"0964130\", \"violation_description\": \"PARK OR BLOCK ALLEY\", \"total_tickets\": 2050, \"tickets_paid\": 1109, \"repayment_rate\": 0.5409756097560976}, {\"violation_code\": \"0964130A\", \"violation_description\": \"PARK ALLEY\", \"total_tickets\": 998, \"tickets_paid\": 426, \"repayment_rate\": 0.42685370741482964}, {\"violation_code\": \"0964130B\", \"violation_description\": \"BLOCK ALLEY\", \"total_tickets\": 20, \"tickets_paid\": 13, \"repayment_rate\": 0.65}, {\"violation_code\": \"0964140B\", \"violation_description\": \"PARK OR STAND IN BUS/TAXI/CARRIAGE STAND\", \"total_tickets\": 6004, \"tickets_paid\": 4051, \"repayment_rate\": 0.6747168554297135}, {\"violation_code\": \"0964150A\", \"violation_description\": \"PARK OR STAND NEAR FIRE STATION OR RR XX\", \"total_tickets\": 7, \"tickets_paid\": 4, \"repayment_rate\": 0.5714285714285714}, {\"violation_code\": \"0964150B\", \"violation_description\": \"PARKING/STANDING PROHIBITED ANYTIME\", \"total_tickets\": 19753, \"tickets_paid\": 14038, \"repayment_rate\": 0.710676859211259}, {\"violation_code\": \"0964160A\", \"violation_description\": \"CURB LOADING ZONE\", \"total_tickets\": 1, \"tickets_paid\": 1, \"repayment_rate\": 1.0}, {\"violation_code\": \"0964160B\", \"violation_description\": \"CURB LOADING ZONE\", \"total_tickets\": 1204, \"tickets_paid\": 850, \"repayment_rate\": 0.7059800664451827}, {\"violation_code\": \"0964160C\", \"violation_description\": \"NO DISPLAY OF BACK-IN PERMIT\", \"total_tickets\": 5, \"tickets_paid\": 3, \"repayment_rate\": 0.6}, {\"violation_code\": \"0964170A\", \"violation_description\": \"TRUCK,RV,BUS, OR TAXI RESIDENTIAL STREET\", \"total_tickets\": 4789, \"tickets_paid\": 3332, \"repayment_rate\": 0.6957611192315724}, {\"violation_code\": \"0964170B\", \"violation_description\": \"TRUCK,MOTOR HOME, BUS BUSINESS STREET\", \"total_tickets\": 456, \"tickets_paid\": 314, \"repayment_rate\": 0.6885964912280702}, {\"violation_code\": \"0964170C\", \"violation_description\": \"VEH 6' OR HIGHER WITHIN 20' OF CROSSWALK\", \"total_tickets\": 41, \"tickets_paid\": 30, \"repayment_rate\": 0.7317073170731707}, {\"violation_code\": \"0964170D\", \"violation_description\": \"TRUCK OR SEMI-TRAILER PROHIBITED\", \"total_tickets\": 145, \"tickets_paid\": 78, \"repayment_rate\": 0.5379310344827586}, {\"violation_code\": \"0964170D\", \"violation_description\": \"TRUCK TRAILOR/SEMI/TRAILER PROHIBITED\", \"total_tickets\": 157, \"tickets_paid\": 72, \"repayment_rate\": 0.4585987261146497}, {\"violation_code\": \"0964180A\", \"violation_description\": \"NO PARKING IN LOOP\", \"total_tickets\": 34, \"tickets_paid\": 20, \"repayment_rate\": 0.5882352941176471}, {\"violation_code\": \"0964190\", \"violation_description\": \"EXPIRED METER OR OVERSTAY\", \"total_tickets\": 18756, \"tickets_paid\": 15122, \"repayment_rate\": 0.8062486670931969}, {\"violation_code\": \"0964190A\", \"violation_description\": \"EXP. METER NON-CENTRAL BUSINESS DISTRICT\", \"total_tickets\": 20600, \"tickets_paid\": 16387, \"repayment_rate\": 0.7954854368932038}, {\"violation_code\": \"0964190B\", \"violation_description\": \"EXPIRED METER CENTRAL BUSINESS DISTRICT\", \"total_tickets\": 9736, \"tickets_paid\": 7279, \"repayment_rate\": 0.7476376335250616}, {\"violation_code\": \"0964190C\", \"violation_description\": \"NON PYMT/NON-COM VEH PARKED IN COM LOADING ZONE\", \"total_tickets\": 100, \"tickets_paid\": 45, \"repayment_rate\": 0.45}, {\"violation_code\": \"0964200B\", \"violation_description\": \"OUTSIDE METERED SPACE\", \"total_tickets\": 63, \"tickets_paid\": 49, \"repayment_rate\": 0.7777777777777778}, {\"violation_code\": \"0964200B\", \"violation_description\": \"PARK OUTSIDE METERED SPACE\", \"total_tickets\": 278, \"tickets_paid\": 165, \"repayment_rate\": 0.5935251798561151}, {\"violation_code\": \"0964210\", \"violation_description\": \"FAIL TO DISPLAY TV NEWS PERMIT\", \"total_tickets\": 20, \"tickets_paid\": 13, \"repayment_rate\": 0.65}, {\"violation_code\": \"0968040I\", \"violation_description\": \"PARK/STAND IN WRIGLEY BUS PERMIT ZONE\", \"total_tickets\": 4, \"tickets_paid\": 3, \"repayment_rate\": 0.75}, {\"violation_code\": \"0976010A\", \"violation_description\": \"BRAKES REQUIRED DURING OPERATION\", \"total_tickets\": 1, \"tickets_paid\": 1, \"repayment_rate\": 1.0}, {\"violation_code\": \"0976020A\", \"violation_description\": \"SERVICE BRAKES:STOPPING CAPABILITY\", \"total_tickets\": 6, \"tickets_paid\": 5, \"repayment_rate\": 0.8333333333333334}, {\"violation_code\": \"0976020B\", \"violation_description\": \"HAND BRAKES:PROPER STOPPING CAPABILITY\", \"total_tickets\": 1, \"tickets_paid\": 1, \"repayment_rate\": 1.0}, {\"violation_code\": \"0976020E\", \"violation_description\": \"BRAKES REQUIRED IN GOOD WORKING ORDER\", \"total_tickets\": 1, \"tickets_paid\": 1, \"repayment_rate\": 1.0}, {\"violation_code\": \"0976040A\", \"violation_description\": \"HORN REQUIRED DURING OPERATION\", \"total_tickets\": 2, \"tickets_paid\": 0, \"repayment_rate\": 0.0}, {\"violation_code\": \"0976040B\", \"violation_description\": \"USE OF SIREN/BELL/WHISTLE PROHIBITED\", \"total_tickets\": 4, \"tickets_paid\": 3, \"repayment_rate\": 0.75}, {\"violation_code\": \"0976050A\", \"violation_description\": \"MOTORCYCLE HEAD LAMP VISIBLE 500'\", \"total_tickets\": 7, \"tickets_paid\": 2, \"repayment_rate\": 0.2857142857142857}, {\"violation_code\": \"0976050B\", \"violation_description\": \"TWO HEAD LAMPS REQUIRED VISIBLE 1000'\", \"total_tickets\": 443, \"tickets_paid\": 266, \"repayment_rate\": 0.600451467268623}, {\"violation_code\": \"0976050C\", \"violation_description\": \"RED REAR LAMP REQUIRED VISIBLE 500'\", \"total_tickets\": 115, \"tickets_paid\": 64, \"repayment_rate\": 0.5565217391304348}, {\"violation_code\": \"0976050D\", \"violation_description\": \"REAR PLATE LIT AND LEGIBLE FOR 50'\", \"total_tickets\": 110, \"tickets_paid\": 62, \"repayment_rate\": 0.5636363636363636}, {\"violation_code\": \"0976050E\", \"violation_description\": \"2 REAR TRAILER LAMPS REQ'D VISIBLE 500'\", \"total_tickets\": 4, \"tickets_paid\": 1, \"repayment_rate\": 0.25}, {\"violation_code\": \"0976070A\", \"violation_description\": \"IMPROPER SIDE COWL/FENDER LAMPS\", \"total_tickets\": 3, \"tickets_paid\": 2, \"repayment_rate\": 0.6666666666666666}, {\"violation_code\": \"0976070C\", \"violation_description\": \"BACK-UP LAMP LIT DURING OPERATION\", \"total_tickets\": 2, \"tickets_paid\": 2, \"repayment_rate\": 1.0}, {\"violation_code\": \"0976070D\", \"violation_description\": \"MORE THAN FOUR FRONT MOUNTED LAMPS\", \"total_tickets\": 1, \"tickets_paid\": 1, \"repayment_rate\": 1.0}, {\"violation_code\": \"0976080\", \"violation_description\": \"IMPROPER LAMPS NON-MOTOR VEHICLE\", \"total_tickets\": 9, \"tickets_paid\": 5, \"repayment_rate\": 0.5555555555555556}, {\"violation_code\": \"0976090B\", \"violation_description\": \"IMPROPER LAMP FOR PARKED VEH ON UNLIT ST\", \"total_tickets\": 9, \"tickets_paid\": 6, \"repayment_rate\": 0.6666666666666666}, {\"violation_code\": \"0976090C\", \"violation_description\": \"DEPR./DIMMED LAMPS\", \"total_tickets\": 4, \"tickets_paid\": 0, \"repayment_rate\": 0.0}, {\"violation_code\": \"0976100A\", \"violation_description\": \"SUSPENSION MODIFIED BEYOND 3\", \"total_tickets\": 1, \"tickets_paid\": 0, \"repayment_rate\": 0.0}, {\"violation_code\": \"0976110A\", \"violation_description\": \"PROPER FRONT AND REAR BUMPERS REQUIRED\", \"total_tickets\": 21, \"tickets_paid\": 11, \"repayment_rate\": 0.5238095238095238}, {\"violation_code\": \"0976120\", \"violation_description\": \"REAR VIEW MIRROR REQUIRED\", \"total_tickets\": 27, \"tickets_paid\": 20, \"repayment_rate\": 0.7407407407407407}, {\"violation_code\": \"0976130\", \"violation_description\": \"TWO RED REAR TRAILER REFLECTORS REQUIRED\", \"total_tickets\": 1, \"tickets_paid\": 1, \"repayment_rate\": 1.0}, {\"violation_code\": \"0976140A\", \"violation_description\": \"NO OR IMPROPER MUFFLER\", \"total_tickets\": 9, \"tickets_paid\": 5, \"repayment_rate\": 0.5555555555555556}, {\"violation_code\": \"0976140B\", \"violation_description\": \"EXCESS FUMES/SMOKE DURING OPERATION\", \"total_tickets\": 12, \"tickets_paid\": 7, \"repayment_rate\": 0.5833333333333334}, {\"violation_code\": \"0976150B\", \"violation_description\": \"BURGLAR ALARM SOUNDING OVER 4 MINUTES\", \"total_tickets\": 102, \"tickets_paid\": 78, \"repayment_rate\": 0.7647058823529411}, {\"violation_code\": \"0976160A\", \"violation_description\": \"MISSING/NONCOMPLIANT FRONT AND/OR REAR PLATE\", \"total_tickets\": 1024, \"tickets_paid\": 331, \"repayment_rate\": 0.3232421875}, {\"violation_code\": \"0976160A\", \"violation_description\": \"REAR AND FRONT PLATE REQUIRED\", \"total_tickets\": 15829, \"tickets_paid\": 8461, \"repayment_rate\": 0.5345252384863226}, {\"violation_code\": \"0976160B\", \"violation_description\": \"EXPIRED PLATE OR TEMPORARY REGISTRATION\", \"total_tickets\": 2720, \"tickets_paid\": 1120, \"repayment_rate\": 0.4117647058823529}, {\"violation_code\": \"0976160B\", \"violation_description\": \"REAR PLATE REQUIRED MOTORCYCLE/TRAILER\", \"total_tickets\": 352, \"tickets_paid\": 202, \"repayment_rate\": 0.5738636363636364}, {\"violation_code\": \"0976160C\", \"violation_description\": \"FRONT PLATE REQUIRED FOR TRUCK TRACTORS\", \"total_tickets\": 21, \"tickets_paid\": 12, \"repayment_rate\": 0.5714285714285714}, {\"violation_code\": \"0976160D\", \"violation_description\": \"NONCOMPLIANT PLATE(S)\", \"total_tickets\": 1920, \"tickets_paid\": 1186, \"repayment_rate\": 0.6177083333333333}, {\"violation_code\": \"0976160F\", \"violation_description\": \"EXPIRED PLATES OR TEMPORARY REGISTRATION\", \"total_tickets\": 44811, \"tickets_paid\": 27248, \"repayment_rate\": 0.6080649840440964}, {\"violation_code\": \"0976170\", \"violation_description\": \"NO CITY STICKER OR IMPROPER DISPLAY\", \"total_tickets\": 15, \"tickets_paid\": 10, \"repayment_rate\": 0.6666666666666666}, {\"violation_code\": \"0976180A\", \"violation_description\": \"SAFETY BELTS REQUIRED\", \"total_tickets\": 981, \"tickets_paid\": 700, \"repayment_rate\": 0.7135575942915392}, {\"violation_code\": \"0976180B\", \"violation_description\": \"SAFETY BELTS REQUIRED ON SCHOOL BUS\", \"total_tickets\": 54, \"tickets_paid\": 38, \"repayment_rate\": 0.7037037037037037}, {\"violation_code\": \"0976190\", \"violation_description\": \"COMMERCIAL IDENTIFICATION ETC. REQUIRED\", \"total_tickets\": 1, \"tickets_paid\": 1, \"repayment_rate\": 1.0}, {\"violation_code\": \"0976200A\", \"violation_description\": \"PROJECTING LOAD (LEFT OR RIGHT SIDE)\", \"total_tickets\": 6, \"tickets_paid\": 3, \"repayment_rate\": 0.5}, {\"violation_code\": \"0976200B\", \"violation_description\": \"PROJECTING LOAD (REAR)\", \"total_tickets\": 3, \"tickets_paid\": 3, \"repayment_rate\": 1.0}, {\"violation_code\": \"0976210A\", \"violation_description\": \"LAMPS BROKEN OR INOPERABLE\", \"total_tickets\": 162, \"tickets_paid\": 97, \"repayment_rate\": 0.5987654320987654}, {\"violation_code\": \"0976210B\", \"violation_description\": \"WINDOWS MISSING OR CRACKED BEYOND 6\", \"total_tickets\": 576, \"tickets_paid\": 351, \"repayment_rate\": 0.609375}, {\"violation_code\": \"0976220A\", \"violation_description\": \"OBSTRUCTED OR IMPROPERLY TINTED WINDOWS\", \"total_tickets\": 271, \"tickets_paid\": 155, \"repayment_rate\": 0.5719557195571956}, {\"violation_code\": \"0976220B\", \"violation_description\": \"SMOKED/TINTED WINDOWS PARKED/STANDING\", \"total_tickets\": 1697, \"tickets_paid\": 1086, \"repayment_rate\": 0.6399528579846788}, {\"violation_code\": \"0980080A\", \"violation_description\": \"PARK VEHICLE SOLE PURPOSE OF DISPLAYING FOR SALE\", \"total_tickets\": 664, \"tickets_paid\": 129, \"repayment_rate\": 0.19427710843373494}, {\"violation_code\": \"0980080B\", \"violation_description\": \"PARK VEHICLE TO GREASE OR REPAIR\", \"total_tickets\": 34, \"tickets_paid\": 14, \"repayment_rate\": 0.4117647058823529}, {\"violation_code\": \"0980080C\", \"violation_description\": \"PARK VEHICLE TO SELL MERCHANDISE\", \"total_tickets\": 12, \"tickets_paid\": 4, \"repayment_rate\": 0.3333333333333333}, {\"violation_code\": \"0980095\", \"violation_description\": \"EXCESSIVE DIESEL POWERED VEHICLE ENGINE RUNNING\", \"total_tickets\": 4, \"tickets_paid\": 2, \"repayment_rate\": 0.5}, {\"violation_code\": \"0980110A\", \"violation_description\": \"ABANDONED VEH. FOR 7 DAYS OR INOPERABLE\", \"total_tickets\": 1104, \"tickets_paid\": 281, \"repayment_rate\": 0.2545289855072464}, {\"violation_code\": \"0980110B\", \"violation_description\": \"HAZARDOUS DILAPIDATED VEHICLE\", \"total_tickets\": 148, \"tickets_paid\": 37, \"repayment_rate\": 0.25}, {\"violation_code\": \"0980110B\", \"violation_description\": \"HAZARDOUS DILAPITATED VEHICLE\", \"total_tickets\": 298, \"tickets_paid\": 69, \"repayment_rate\": 0.23154362416107382}, {\"violation_code\": \"0980120A\", \"violation_description\": \"NO PARK IN PUBLIC LOT\", \"total_tickets\": 119, \"tickets_paid\": 36, \"repayment_rate\": 0.3025210084033613}, {\"violation_code\": \"0980120B\", \"violation_description\": \"NO PARK IN PRIVATE LOT\", \"total_tickets\": 378, \"tickets_paid\": 220, \"repayment_rate\": 0.582010582010582}, {\"violation_code\": \"0980130A\", \"violation_description\": \"FAIL TO PAY OR OUTSIDE SPACE IN CITY LOT\", \"total_tickets\": 90, \"tickets_paid\": 66, \"repayment_rate\": 0.7333333333333333}, {\"violation_code\": \"0980130B\", \"violation_description\": \"PARK IN CITY LOT WHEN CLOSED\", \"total_tickets\": 225, \"tickets_paid\": 161, \"repayment_rate\": 0.7155555555555555}, {\"violation_code\": \"0980130C\", \"violation_description\": \"PARK IN CITY LOT OVER 30 DAYS\", \"total_tickets\": 9, \"tickets_paid\": 2, \"repayment_rate\": 0.2222222222222222}]}}, {\"mode\": \"vega-lite\"});\n",
       "</script>"
      ],
      "text/plain": [
       "alt.Chart(...)"
      ]
     },
     "metadata": {},
     "output_type": "display_data"
    },
    {
     "name": "stdout",
     "output_type": "stream",
     "text": [
      "Top 3 Violation Types to Increase Prices:\n",
      "    violation_code                     violation_description  total_tickets  \\\n",
      "101       0976160F  EXPIRED PLATES OR TEMPORARY REGISTRATION          44811   \n",
      "9         0964040B                           STREET CLEANING          28712   \n",
      "23        0964090E                RESIDENTIAL PERMIT PARKING          23683   \n",
      "\n",
      "     repayment_rate  \n",
      "101        0.608065  \n",
      "9          0.815896  \n",
      "23         0.745978  \n",
      "    violation_code                     violation_description  total_tickets  \\\n",
      "101       0976160F  EXPIRED PLATES OR TEMPORARY REGISTRATION          44811   \n",
      "9         0964040B                           STREET CLEANING          28712   \n",
      "23        0964090E                RESIDENTIAL PERMIT PARKING          23683   \n",
      "\n",
      "     tickets_paid  repayment_rate  \n",
      "101         27248        0.608065  \n",
      "9           23426        0.815896  \n",
      "23          17667        0.745978  \n"
     ]
    }
   ],
   "source": [
    "df['paid'] = df['total_payments'] > 0\n",
    "violation_stats = df.groupby(['violation_code', 'violation_description']).agg(\n",
    "    total_tickets=('violation_code', 'size'),\n",
    "    tickets_paid=('paid', 'sum')\n",
    ").reset_index()\n",
    "\n",
    "# Calculate repayment rate for each violation type\n",
    "violation_stats['repayment_rate'] = violation_stats['tickets_paid'] / violation_stats['total_tickets']\n",
    "\n",
    "# Step 3: Identify the top 3 violations with high ticket counts and repayment rates\n",
    "# We can sort by 'total_tickets' and 'repayment_rate' to find the top violations\n",
    "top_violations = violation_stats.sort_values(by=['total_tickets', 'repayment_rate'], ascending=[False, False]).head(3)\n",
    "\n",
    "# Step 4: Create a plot to visualize the number of tickets and repayment rate\n",
    "violation_chart = alt.Chart(violation_stats).mark_circle(size=60).encode(\n",
    "    x=alt.X('total_tickets:Q', title='Total Tickets Issued'),\n",
    "    y=alt.Y('repayment_rate:Q', title='Repayment Rate'),\n",
    "    color=alt.condition(\n",
    "        alt.FieldOneOfPredicate(field='violation_code', oneOf=top_violations['violation_code'].tolist()),\n",
    "        alt.value('red'),  # Highlight top 3 violations\n",
    "        alt.value('blue')  # Other violations\n",
    "    ),\n",
    "    tooltip=['violation_code', 'total_tickets', 'repayment_rate']\n",
    ").properties(\n",
    "    title='Violation Types: Total Tickets Issued vs. Repayment Rate'\n",
    ")\n",
    "\n",
    "# Display the chart\n",
    "violation_chart.show()\n",
    "\n",
    "# Display the top 3 recommended violation types for increasing prices\n",
    "print(\"Top 3 Violation Types to Increase Prices:\")\n",
    "print(top_violations[['violation_code', 'violation_description', 'total_tickets', 'repayment_rate']])\n",
    "\n",
    "print(top_violations)"
   ]
  },
  {
   "cell_type": "code",
   "execution_count": null,
   "id": "baaf5f7d-3f38-4a8f-baec-af2cef4c0b9d",
   "metadata": {
    "vscode": {
     "languageId": "quarto"
    }
   },
   "outputs": [
    {
     "ename": "KeyError",
     "evalue": "\"Column(s) ['fine_amount'] do not exist\"",
     "output_type": "error",
     "traceback": [
      "\u001b[0;31m---------------------------------------------------------------------------\u001b[0m",
      "\u001b[0;31mKeyError\u001b[0m                                  Traceback (most recent call last)",
      "File \u001b[1;32m/Users/hkkkkk/Documents/GitHub/ppha30538_fall2024/30538-dap-ii-problem-set-2-ps2-dap2-python-fall2024/pset2_template.qmd:1\u001b[0m\n\u001b[0;32m----> 1\u001b[0m violation_summary \u001b[39m=\u001b[39m df\u001b[39m.\u001b[39mgroupby(\u001b[39m'\u001b[39m\u001b[39mviolation_description\u001b[39m\u001b[39m'\u001b[39m)\u001b[39m.\u001b[39magg(\n\u001b[1;32m      2\u001b[0m     total_tickets\u001b[39m=\u001b[39m(\u001b[39m'\u001b[39m\u001b[39mviolation_description\u001b[39m\u001b[39m'\u001b[39m, \u001b[39m'\u001b[39m\u001b[39msize\u001b[39m\u001b[39m'\u001b[39m),\n\u001b[1;32m      3\u001b[0m     tickets_paid\u001b[39m=\u001b[39m(\u001b[39m'\u001b[39m\u001b[39mpaid\u001b[39m\u001b[39m'\u001b[39m, \u001b[39m'\u001b[39m\u001b[39msum\u001b[39m\u001b[39m'\u001b[39m),\n\u001b[1;32m      4\u001b[0m     avg_fine\u001b[39m=\u001b[39m(\u001b[39m'\u001b[39m\u001b[39mfine_amount\u001b[39m\u001b[39m'\u001b[39m, \u001b[39m'\u001b[39m\u001b[39mmean\u001b[39m\u001b[39m'\u001b[39m)  \u001b[39m# Assuming 'fine_amount' column exists\u001b[39;00m\n\u001b[1;32m      5\u001b[0m )\u001b[39m.\u001b[39mreset_index()\n\u001b[1;32m      7\u001b[0m \u001b[39m# Calculate the repayment rate (fraction of tickets paid)\u001b[39;00m\n\u001b[1;32m      8\u001b[0m violation_summary[\u001b[39m'\u001b[39m\u001b[39mrepayment_rate\u001b[39m\u001b[39m'\u001b[39m] \u001b[39m=\u001b[39m violation_summary[\u001b[39m'\u001b[39m\u001b[39mtickets_paid\u001b[39m\u001b[39m'\u001b[39m] \u001b[39m/\u001b[39m violation_summary[\u001b[39m'\u001b[39m\u001b[39mtotal_tickets\u001b[39m\u001b[39m'\u001b[39m]\n",
      "File \u001b[0;32m/opt/anaconda3/lib/python3.11/site-packages/pandas/core/groupby/generic.py:1432\u001b[0m, in \u001b[0;36mDataFrameGroupBy.aggregate\u001b[0;34m(self, func, engine, engine_kwargs, *args, **kwargs)\u001b[0m\n\u001b[1;32m   1429\u001b[0m     kwargs[\u001b[39m\"\u001b[39m\u001b[39mengine_kwargs\u001b[39m\u001b[39m\"\u001b[39m] \u001b[39m=\u001b[39m engine_kwargs\n\u001b[1;32m   1431\u001b[0m op \u001b[39m=\u001b[39m GroupByApply(\u001b[39mself\u001b[39m, func, args\u001b[39m=\u001b[39margs, kwargs\u001b[39m=\u001b[39mkwargs)\n\u001b[0;32m-> 1432\u001b[0m result \u001b[39m=\u001b[39m op\u001b[39m.\u001b[39magg()\n\u001b[1;32m   1433\u001b[0m \u001b[39mif\u001b[39;00m \u001b[39mnot\u001b[39;00m is_dict_like(func) \u001b[39mand\u001b[39;00m result \u001b[39mis\u001b[39;00m \u001b[39mnot\u001b[39;00m \u001b[39mNone\u001b[39;00m:\n\u001b[1;32m   1434\u001b[0m     \u001b[39m# GH #52849\u001b[39;00m\n\u001b[1;32m   1435\u001b[0m     \u001b[39mif\u001b[39;00m \u001b[39mnot\u001b[39;00m \u001b[39mself\u001b[39m\u001b[39m.\u001b[39mas_index \u001b[39mand\u001b[39;00m is_list_like(func):\n",
      "File \u001b[0;32m/opt/anaconda3/lib/python3.11/site-packages/pandas/core/apply.py:190\u001b[0m, in \u001b[0;36mApply.agg\u001b[0;34m(self)\u001b[0m\n\u001b[1;32m    187\u001b[0m     \u001b[39mreturn\u001b[39;00m \u001b[39mself\u001b[39m\u001b[39m.\u001b[39mapply_str()\n\u001b[1;32m    189\u001b[0m \u001b[39mif\u001b[39;00m is_dict_like(func):\n\u001b[0;32m--> 190\u001b[0m     \u001b[39mreturn\u001b[39;00m \u001b[39mself\u001b[39m\u001b[39m.\u001b[39magg_dict_like()\n\u001b[1;32m    191\u001b[0m \u001b[39melif\u001b[39;00m is_list_like(func):\n\u001b[1;32m    192\u001b[0m     \u001b[39m# we require a list, but not a 'str'\u001b[39;00m\n\u001b[1;32m    193\u001b[0m     \u001b[39mreturn\u001b[39;00m \u001b[39mself\u001b[39m\u001b[39m.\u001b[39magg_list_like()\n",
      "File \u001b[0;32m/opt/anaconda3/lib/python3.11/site-packages/pandas/core/apply.py:423\u001b[0m, in \u001b[0;36mApply.agg_dict_like\u001b[0;34m(self)\u001b[0m\n\u001b[1;32m    415\u001b[0m \u001b[39mdef\u001b[39;00m \u001b[39magg_dict_like\u001b[39m(\u001b[39mself\u001b[39m) \u001b[39m-\u001b[39m\u001b[39m>\u001b[39m DataFrame \u001b[39m|\u001b[39m Series:\n\u001b[1;32m    416\u001b[0m \u001b[39m    \u001b[39m\u001b[39m\"\"\"\u001b[39;00m\n\u001b[1;32m    417\u001b[0m \u001b[39m    Compute aggregation in the case of a dict-like argument.\u001b[39;00m\n\u001b[1;32m    418\u001b[0m \n\u001b[0;32m   (...)\u001b[0m\n\u001b[1;32m    421\u001b[0m \u001b[39m    Result of aggregation.\u001b[39;00m\n\u001b[1;32m    422\u001b[0m \u001b[39m    \"\"\"\u001b[39;00m\n\u001b[0;32m--> 423\u001b[0m     \u001b[39mreturn\u001b[39;00m \u001b[39mself\u001b[39m\u001b[39m.\u001b[39magg_or_apply_dict_like(op_name\u001b[39m=\u001b[39m\u001b[39m\"\u001b[39m\u001b[39magg\u001b[39m\u001b[39m\"\u001b[39m)\n",
      "File \u001b[0;32m/opt/anaconda3/lib/python3.11/site-packages/pandas/core/apply.py:1608\u001b[0m, in \u001b[0;36mGroupByApply.agg_or_apply_dict_like\u001b[0;34m(self, op_name)\u001b[0m\n\u001b[1;32m   1603\u001b[0m     kwargs\u001b[39m.\u001b[39mupdate({\u001b[39m\"\u001b[39m\u001b[39mengine\u001b[39m\u001b[39m\"\u001b[39m: engine, \u001b[39m\"\u001b[39m\u001b[39mengine_kwargs\u001b[39m\u001b[39m\"\u001b[39m: engine_kwargs})\n\u001b[1;32m   1605\u001b[0m \u001b[39mwith\u001b[39;00m com\u001b[39m.\u001b[39mtemp_setattr(\n\u001b[1;32m   1606\u001b[0m     obj, \u001b[39m\"\u001b[39m\u001b[39mas_index\u001b[39m\u001b[39m\"\u001b[39m, \u001b[39mTrue\u001b[39;00m, condition\u001b[39m=\u001b[39m\u001b[39mhasattr\u001b[39m(obj, \u001b[39m\"\u001b[39m\u001b[39mas_index\u001b[39m\u001b[39m\"\u001b[39m)\n\u001b[1;32m   1607\u001b[0m ):\n\u001b[0;32m-> 1608\u001b[0m     result_index, result_data \u001b[39m=\u001b[39m \u001b[39mself\u001b[39m\u001b[39m.\u001b[39mcompute_dict_like(\n\u001b[1;32m   1609\u001b[0m         op_name, selected_obj, selection, kwargs\n\u001b[1;32m   1610\u001b[0m     )\n\u001b[1;32m   1611\u001b[0m result \u001b[39m=\u001b[39m \u001b[39mself\u001b[39m\u001b[39m.\u001b[39mwrap_results_dict_like(selected_obj, result_index, result_data)\n\u001b[1;32m   1612\u001b[0m \u001b[39mreturn\u001b[39;00m result\n",
      "File \u001b[0;32m/opt/anaconda3/lib/python3.11/site-packages/pandas/core/apply.py:462\u001b[0m, in \u001b[0;36mApply.compute_dict_like\u001b[0;34m(self, op_name, selected_obj, selection, kwargs)\u001b[0m\n\u001b[1;32m    460\u001b[0m is_groupby \u001b[39m=\u001b[39m \u001b[39misinstance\u001b[39m(obj, (DataFrameGroupBy, SeriesGroupBy))\n\u001b[1;32m    461\u001b[0m func \u001b[39m=\u001b[39m cast(AggFuncTypeDict, \u001b[39mself\u001b[39m\u001b[39m.\u001b[39mfunc)\n\u001b[0;32m--> 462\u001b[0m func \u001b[39m=\u001b[39m \u001b[39mself\u001b[39m\u001b[39m.\u001b[39mnormalize_dictlike_arg(op_name, selected_obj, func)\n\u001b[1;32m    464\u001b[0m is_non_unique_col \u001b[39m=\u001b[39m (\n\u001b[1;32m    465\u001b[0m     selected_obj\u001b[39m.\u001b[39mndim \u001b[39m==\u001b[39m \u001b[39m2\u001b[39m\n\u001b[1;32m    466\u001b[0m     \u001b[39mand\u001b[39;00m selected_obj\u001b[39m.\u001b[39mcolumns\u001b[39m.\u001b[39mnunique() \u001b[39m<\u001b[39m \u001b[39mlen\u001b[39m(selected_obj\u001b[39m.\u001b[39mcolumns)\n\u001b[1;32m    467\u001b[0m )\n\u001b[1;32m    469\u001b[0m \u001b[39mif\u001b[39;00m selected_obj\u001b[39m.\u001b[39mndim \u001b[39m==\u001b[39m \u001b[39m1\u001b[39m:\n\u001b[1;32m    470\u001b[0m     \u001b[39m# key only used for output\u001b[39;00m\n",
      "File \u001b[0;32m/opt/anaconda3/lib/python3.11/site-packages/pandas/core/apply.py:663\u001b[0m, in \u001b[0;36mApply.normalize_dictlike_arg\u001b[0;34m(self, how, obj, func)\u001b[0m\n\u001b[1;32m    661\u001b[0m     cols \u001b[39m=\u001b[39m Index(\u001b[39mlist\u001b[39m(func\u001b[39m.\u001b[39mkeys()))\u001b[39m.\u001b[39mdifference(obj\u001b[39m.\u001b[39mcolumns, sort\u001b[39m=\u001b[39m\u001b[39mTrue\u001b[39;00m)\n\u001b[1;32m    662\u001b[0m     \u001b[39mif\u001b[39;00m \u001b[39mlen\u001b[39m(cols) \u001b[39m>\u001b[39m \u001b[39m0\u001b[39m:\n\u001b[0;32m--> 663\u001b[0m         \u001b[39mraise\u001b[39;00m \u001b[39mKeyError\u001b[39;00m(\u001b[39mf\u001b[39m\u001b[39m\"\u001b[39m\u001b[39mColumn(s) \u001b[39m\u001b[39m{\u001b[39;00m\u001b[39mlist\u001b[39m(cols)\u001b[39m}\u001b[39;00m\u001b[39m do not exist\u001b[39m\u001b[39m\"\u001b[39m)\n\u001b[1;32m    665\u001b[0m aggregator_types \u001b[39m=\u001b[39m (\u001b[39mlist\u001b[39m, \u001b[39mtuple\u001b[39m, \u001b[39mdict\u001b[39m)\n\u001b[1;32m    667\u001b[0m \u001b[39m# if we have a dict of any non-scalars\u001b[39;00m\n\u001b[1;32m    668\u001b[0m \u001b[39m# eg. {'A' : ['mean']}, normalize all to\u001b[39;00m\n\u001b[1;32m    669\u001b[0m \u001b[39m# be list-likes\u001b[39;00m\n\u001b[1;32m    670\u001b[0m \u001b[39m# Cannot use func.values() because arg may be a Series\u001b[39;00m\n",
      "\u001b[0;31mKeyError\u001b[0m: \"Column(s) ['fine_amount'] do not exist\""
     ]
    }
   ],
   "source": [
    "violation_summary = df.groupby('violation_description').agg(\n",
    "    total_tickets=('violation_description', 'size'),\n",
    "    tickets_paid=('paid', 'sum'),\n",
    "    avg_fine=('fine_amount', 'mean')  # Assuming 'fine_amount' column exists\n",
    ").reset_index()\n",
    "\n",
    "# Calculate the repayment rate (fraction of tickets paid)\n",
    "violation_summary['repayment_rate'] = violation_summary['tickets_paid'] / violation_summary['total_tickets']\n",
    "\n",
    "# Step 3: Sort by total tickets issued\n",
    "violation_summary_sorted = violation_summary.sort_values(by='total_tickets', ascending=False)\n",
    "\n",
    "# Step 4: Print the top 5 most common violation descriptions\n",
    "top_5_violations = violation_summary_sorted.head(5)\n",
    "\n",
    "print(\"Top 5 Most Common Violation Descriptions:\")\n",
    "print(top_5_violations[['violation_description', 'repayment_rate', 'avg_fine', 'total_tickets']])"
   ]
  },
  {
   "cell_type": "code",
   "execution_count": null,
   "id": "11857779-8285-40f0-8526-941e35a1b634",
   "metadata": {
    "vscode": {
     "languageId": "quarto"
    }
   },
   "outputs": [
    {
     "name": "stdout",
     "output_type": "stream",
     "text": [
      "Top 5 Most Common Violation Descriptions:\n",
      "                        violation_description  repayment_rate  total_tickets\n",
      "23   EXPIRED PLATES OR TEMPORARY REGISTRATION        0.608065          44811\n",
      "101                           STREET CLEANING        0.815896          28712\n",
      "90                 RESIDENTIAL PERMIT PARKING        0.745978          23683\n",
      "19   EXP. METER NON-CENTRAL BUSINESS DISTRICT        0.795485          20600\n",
      "81        PARKING/STANDING PROHIBITED ANYTIME        0.710677          19753\n"
     ]
    }
   ],
   "source": [
    "violation_summary = df.groupby('violation_description').agg(\n",
    "    total_tickets=('violation_description', 'size'),\n",
    "    tickets_paid=('paid', 'sum')\n",
    ").reset_index()\n",
    "\n",
    "# Calculate the repayment rate (fraction of tickets paid)\n",
    "violation_summary['repayment_rate'] = violation_summary['tickets_paid'] / violation_summary['total_tickets']\n",
    "\n",
    "# Step 3: Sort by total tickets issued\n",
    "violation_summary_sorted = violation_summary.sort_values(by='total_tickets', ascending=False)\n",
    "\n",
    "# Step 4: Print the top 5 most common violation descriptions\n",
    "top_5_violations = violation_summary_sorted.head(5)\n",
    "\n",
    "print(\"Top 5 Most Common Violation Descriptions:\")\n",
    "print(top_5_violations[['violation_description', 'repayment_rate', 'total_tickets']])"
   ]
  },
  {
   "cell_type": "code",
   "execution_count": null,
   "id": "f8695833-792b-46ff-b886-3b6ca8891dc5",
   "metadata": {
    "vscode": {
     "languageId": "quarto"
    }
   },
   "outputs": [
    {
     "name": "stdout",
     "output_type": "stream",
     "text": [
      "Top 5 Most Common Violation Descriptions:\n",
      "                        violation_description  repayment_rate  total_tickets\n",
      "23   EXPIRED PLATES OR TEMPORARY REGISTRATION        0.608065          44811\n",
      "101                           STREET CLEANING        0.815896          28712\n",
      "90                 RESIDENTIAL PERMIT PARKING        0.745978          23683\n",
      "19   EXP. METER NON-CENTRAL BUSINESS DISTRICT        0.795485          20600\n",
      "81        PARKING/STANDING PROHIBITED ANYTIME        0.710677          19753\n"
     ]
    }
   ],
   "source": [
    "violation_summary = df.groupby('violation_description').agg(\n",
    "    total_tickets=('violation_description', 'size'),\n",
    "    tickets_paid=('paid', 'sum')\n",
    ").reset_index()\n",
    "\n",
    "violation_summary['repayment_rate'] = violation_summary['tickets_paid'] / violation_summary['total_tickets']\n",
    "\n",
    "violation_summary_sorted = violation_summary.sort_values(by='total_tickets', ascending=False)\n",
    "\n",
    "top_5_violations = violation_summary_sorted.head(5)\n",
    "\n",
    "print(\"Top 5 Most Common Violation Descriptions:\")\n",
    "print(top_5_violations[['violation_description', 'repayment_rate', 'total_tickets']])"
   ]
  },
  {
   "cell_type": "code",
   "execution_count": null,
   "id": "5bdd26ef-c123-4d47-9bd2-29933c5b86e3",
   "metadata": {
    "vscode": {
     "languageId": "quarto"
    }
   },
   "outputs": [
    {
     "data": {
      "text/html": [
       "\n",
       "<style>\n",
       "  #altair-viz-a40a66ed7a604f33adee68eaa28d9b76.vega-embed {\n",
       "    width: 100%;\n",
       "    display: flex;\n",
       "  }\n",
       "\n",
       "  #altair-viz-a40a66ed7a604f33adee68eaa28d9b76.vega-embed details,\n",
       "  #altair-viz-a40a66ed7a604f33adee68eaa28d9b76.vega-embed details summary {\n",
       "    position: relative;\n",
       "  }\n",
       "</style>\n",
       "<div id=\"altair-viz-a40a66ed7a604f33adee68eaa28d9b76\"></div>\n",
       "<script type=\"text/javascript\">\n",
       "  var VEGA_DEBUG = (typeof VEGA_DEBUG == \"undefined\") ? {} : VEGA_DEBUG;\n",
       "  (function(spec, embedOpt){\n",
       "    let outputDiv = document.currentScript.previousElementSibling;\n",
       "    if (outputDiv.id !== \"altair-viz-a40a66ed7a604f33adee68eaa28d9b76\") {\n",
       "      outputDiv = document.getElementById(\"altair-viz-a40a66ed7a604f33adee68eaa28d9b76\");\n",
       "    }\n",
       "    const paths = {\n",
       "      \"vega\": \"https://cdn.jsdelivr.net/npm/vega@5?noext\",\n",
       "      \"vega-lib\": \"https://cdn.jsdelivr.net/npm/vega-lib?noext\",\n",
       "      \"vega-lite\": \"https://cdn.jsdelivr.net/npm/vega-lite@5.20.1?noext\",\n",
       "      \"vega-embed\": \"https://cdn.jsdelivr.net/npm/vega-embed@6?noext\",\n",
       "    };\n",
       "\n",
       "    function maybeLoadScript(lib, version) {\n",
       "      var key = `${lib.replace(\"-\", \"\")}_version`;\n",
       "      return (VEGA_DEBUG[key] == version) ?\n",
       "        Promise.resolve(paths[lib]) :\n",
       "        new Promise(function(resolve, reject) {\n",
       "          var s = document.createElement('script');\n",
       "          document.getElementsByTagName(\"head\")[0].appendChild(s);\n",
       "          s.async = true;\n",
       "          s.onload = () => {\n",
       "            VEGA_DEBUG[key] = version;\n",
       "            return resolve(paths[lib]);\n",
       "          };\n",
       "          s.onerror = () => reject(`Error loading script: ${paths[lib]}`);\n",
       "          s.src = paths[lib];\n",
       "        });\n",
       "    }\n",
       "\n",
       "    function showError(err) {\n",
       "      outputDiv.innerHTML = `<div class=\"error\" style=\"color:red;\">${err}</div>`;\n",
       "      throw err;\n",
       "    }\n",
       "\n",
       "    function displayChart(vegaEmbed) {\n",
       "      vegaEmbed(outputDiv, spec, embedOpt)\n",
       "        .catch(err => showError(`Javascript Error: ${err.message}<br>This usually means there's a typo in your chart specification. See the javascript console for the full traceback.`));\n",
       "    }\n",
       "\n",
       "    if(typeof define === \"function\" && define.amd) {\n",
       "      requirejs.config({paths});\n",
       "      require([\"vega-embed\"], displayChart, err => showError(`Error loading script: ${err.message}`));\n",
       "    } else {\n",
       "      maybeLoadScript(\"vega\", \"5\")\n",
       "        .then(() => maybeLoadScript(\"vega-lite\", \"5.20.1\"))\n",
       "        .then(() => maybeLoadScript(\"vega-embed\", \"6\"))\n",
       "        .catch(showError)\n",
       "        .then(() => displayChart(vegaEmbed));\n",
       "    }\n",
       "  })({\"config\": {\"view\": {\"continuousWidth\": 300, \"continuousHeight\": 300}}, \"data\": {\"name\": \"data-cfc6b09e0afaffd4d60db3bd6bbaa024\"}, \"mark\": {\"type\": \"circle\", \"size\": 60}, \"encoding\": {\"color\": {\"condition\": {\"test\": {\"field\": \"violation_code\", \"oneOf\": [\"0976160F\", \"0964040B\", \"0964090E\"]}, \"value\": \"red\"}, \"value\": \"blue\"}, \"tooltip\": [{\"field\": \"violation_code\", \"type\": \"nominal\"}, {\"field\": \"total_tickets\", \"type\": \"quantitative\"}, {\"field\": \"repayment_rate\", \"type\": \"quantitative\"}], \"x\": {\"field\": \"total_tickets\", \"title\": \"Total Tickets Issued\", \"type\": \"quantitative\"}, \"y\": {\"field\": \"repayment_rate\", \"title\": \"Repayment Rate\", \"type\": \"quantitative\"}}, \"title\": \"Violation Types: Total Tickets Issued vs. Repayment Rate\", \"$schema\": \"https://vega.github.io/schema/vega-lite/v5.20.1.json\", \"datasets\": {\"data-cfc6b09e0afaffd4d60db3bd6bbaa024\": [{\"violation_code\": \"0912060\", \"violation_description\": \"STAND, PARK, OR OTHER USE OF BUS LANE\", \"total_tickets\": 1233, \"tickets_paid\": 746, \"repayment_rate\": 0.6050283860502839}, {\"violation_code\": \"0940060\", \"violation_description\": \"PARK/STAND ON BICYCLE PATH\", \"total_tickets\": 236, \"tickets_paid\": 161, \"repayment_rate\": 0.6822033898305084}, {\"violation_code\": \"0940080\", \"violation_description\": \"PARKED/STANDING UNATTENDED W/MOTOR RUNNI\", \"total_tickets\": 81, \"tickets_paid\": 40, \"repayment_rate\": 0.49382716049382713}, {\"violation_code\": \"0940170\", \"violation_description\": \"UNSAFE CONDITION\", \"total_tickets\": 64, \"tickets_paid\": 35, \"repayment_rate\": 0.546875}, {\"violation_code\": \"0940220\", \"violation_description\": \"NO OPERATOR SIGNAL\", \"total_tickets\": 32, \"tickets_paid\": 21, \"repayment_rate\": 0.65625}, {\"violation_code\": \"0964020A\", \"violation_description\": \"WRONG DIRECTION OR 12'' FROM CURB\", \"total_tickets\": 1111, \"tickets_paid\": 860, \"repayment_rate\": 0.774077407740774}, {\"violation_code\": \"0964020B\", \"violation_description\": \"OBSTRUCT ROADWAY\", \"total_tickets\": 1577, \"tickets_paid\": 799, \"repayment_rate\": 0.5066582117945466}, {\"violation_code\": \"0964020C\", \"violation_description\": \"PARK MOTORCYCLE/SCOOTER PARK AT 90 DEGREE ANGLE\", \"total_tickets\": 14, \"tickets_paid\": 10, \"repayment_rate\": 0.7142857142857143}, {\"violation_code\": \"0964030B\", \"violation_description\": \"OUTSIDE DIAGONAL MARKINGS\", \"total_tickets\": 110, \"tickets_paid\": 80, \"repayment_rate\": 0.7272727272727273}, {\"violation_code\": \"0964040B\", \"violation_description\": \"STREET CLEANING\", \"total_tickets\": 28712, \"tickets_paid\": 23426, \"repayment_rate\": 0.8158957926999164}, {\"violation_code\": \"0964040B\", \"violation_description\": \"STREET CLEANING OR SPECIAL EVENT\", \"total_tickets\": 3370, \"tickets_paid\": 2659, \"repayment_rate\": 0.7890207715133531}, {\"violation_code\": \"0964041\", \"violation_description\": \"SPECIAL EVENTS RESTRICTION\", \"total_tickets\": 245, \"tickets_paid\": 201, \"repayment_rate\": 0.8204081632653061}, {\"violation_code\": \"0964041B\", \"violation_description\": \"SPECIAL EVENTS RESTRICTION\", \"total_tickets\": 217, \"tickets_paid\": 157, \"repayment_rate\": 0.7235023041474654}, {\"violation_code\": \"0964041B\", \"violation_description\": \"Special Events\", \"total_tickets\": 25, \"tickets_paid\": 17, \"repayment_rate\": 0.68}, {\"violation_code\": \"0964050I\", \"violation_description\": \"DISABLED PARKING\", \"total_tickets\": 5, \"tickets_paid\": 3, \"repayment_rate\": 0.6}, {\"violation_code\": \"0964050J\", \"violation_description\": \"DISABLED PARKING ZONE\", \"total_tickets\": 2034, \"tickets_paid\": 1153, \"repayment_rate\": 0.5668633235004916}, {\"violation_code\": \"0964050J*\", \"violation_description\": \"INVALID PLACARD\", \"total_tickets\": 5, \"tickets_paid\": 3, \"repayment_rate\": 0.6}, {\"violation_code\": \"0964060\", \"violation_description\": \"3-7 AM SNOW ROUTE\", \"total_tickets\": 827, \"tickets_paid\": 605, \"repayment_rate\": 0.7315598548972189}, {\"violation_code\": \"0964060B\", \"violation_description\": \"3-7 AM SNOW ROUTE\", \"total_tickets\": 12, \"tickets_paid\": 8, \"repayment_rate\": 0.6666666666666666}, {\"violation_code\": \"0964070\", \"violation_description\": \"SNOW ROUTE: 2' OF SNOW OR MORE\", \"total_tickets\": 20, \"tickets_paid\": 13, \"repayment_rate\": 0.65}, {\"violation_code\": \"0964070\", \"violation_description\": \"SNOW ROUTE: 2'' OF SNOW OR MORE\", \"total_tickets\": 144, \"tickets_paid\": 101, \"repayment_rate\": 0.7013888888888888}, {\"violation_code\": \"0964080A\", \"violation_description\": \"RUSH HOUR PARKING\", \"total_tickets\": 11965, \"tickets_paid\": 9279, \"repayment_rate\": 0.7755119097367321}, {\"violation_code\": \"0964080B\", \"violation_description\": \"NO STANDING/PARKING TIME RESTRICTED\", \"total_tickets\": 8640, \"tickets_paid\": 6548, \"repayment_rate\": 0.7578703703703704}, {\"violation_code\": \"0964090E\", \"violation_description\": \"RESIDENTIAL PERMIT PARKING\", \"total_tickets\": 23683, \"tickets_paid\": 17667, \"repayment_rate\": 0.7459781277709749}, {\"violation_code\": \"0964091\", \"violation_description\": \"INDUSTRIAL PERMIT PARKING\", \"total_tickets\": 117, \"tickets_paid\": 99, \"repayment_rate\": 0.8461538461538461}, {\"violation_code\": \"0964091B\", \"violation_description\": \"INDUSTRIAL PERMIT PARKING\", \"total_tickets\": 3, \"tickets_paid\": 1, \"repayment_rate\": 0.3333333333333333}, {\"violation_code\": \"0964100A\", \"violation_description\": \"WITHIN 15' OF FIRE HYDRANT\", \"total_tickets\": 6104, \"tickets_paid\": 4203, \"repayment_rate\": 0.688564875491481}, {\"violation_code\": \"0964100B\", \"violation_description\": \"PARK IN FIRE LANE\", \"total_tickets\": 86, \"tickets_paid\": 49, \"repayment_rate\": 0.5697674418604651}, {\"violation_code\": \"0964100C\", \"violation_description\": \"BLOCK ACCESS/ALLEY/DRIVEWAY/FIRELANE\", \"total_tickets\": 1579, \"tickets_paid\": 1044, \"repayment_rate\": 0.6611779607346422}, {\"violation_code\": \"0964100D\", \"violation_description\": \"DISABLED CURB CUT\", \"total_tickets\": 436, \"tickets_paid\": 340, \"repayment_rate\": 0.7798165137614679}, {\"violation_code\": \"0964100E\", \"violation_description\": \"UNDER FIRE ESCAPE\", \"total_tickets\": 42, \"tickets_paid\": 30, \"repayment_rate\": 0.7142857142857143}, {\"violation_code\": \"0964100F\", \"violation_description\": \"20'OF CROSSWALK\", \"total_tickets\": 393, \"tickets_paid\": 284, \"repayment_rate\": 0.72264631043257}, {\"violation_code\": \"0964100G\", \"violation_description\": \"STOP SIGN OR TRAFFIC SIGNAL\", \"total_tickets\": 2191, \"tickets_paid\": 1777, \"repayment_rate\": 0.8110451848471018}, {\"violation_code\": \"0964100H\", \"violation_description\": \"THEATER ENTRANCE/EXIT\", \"total_tickets\": 4, \"tickets_paid\": 1, \"repayment_rate\": 0.25}, {\"violation_code\": \"0964110A\", \"violation_description\": \"DOUBLE PARKING OR STANDING\", \"total_tickets\": 2904, \"tickets_paid\": 1747, \"repayment_rate\": 0.6015840220385675}, {\"violation_code\": \"0964110B\", \"violation_description\": \"PARK OR STAND WITHIN INTERSECTION\", \"total_tickets\": 26, \"tickets_paid\": 19, \"repayment_rate\": 0.7307692307692307}, {\"violation_code\": \"0964110C\", \"violation_description\": \"PARK OR STAND ON CROSSWALK\", \"total_tickets\": 1953, \"tickets_paid\": 1402, \"repayment_rate\": 0.7178699436763953}, {\"violation_code\": \"0964110D\", \"violation_description\": \"PARK OR STAND ON SIDEWALK\", \"total_tickets\": 1036, \"tickets_paid\": 713, \"repayment_rate\": 0.6882239382239382}, {\"violation_code\": \"0964110E\", \"violation_description\": \"PARK OR STAND ON PARKWAY\", \"total_tickets\": 495, \"tickets_paid\": 362, \"repayment_rate\": 0.7313131313131314}, {\"violation_code\": \"0964110F\", \"violation_description\": \"PARK OR STAND ON BRIDGE\", \"total_tickets\": 40, \"tickets_paid\": 29, \"repayment_rate\": 0.725}, {\"violation_code\": \"0964110G\", \"violation_description\": \"PARK OR STAND IN VIADUCT/UNDERPASS\", \"total_tickets\": 247, \"tickets_paid\": 183, \"repayment_rate\": 0.7408906882591093}, {\"violation_code\": \"0964110H\", \"violation_description\": \"PARK OR STAND ON OR WITHIN 10' RR TRACKS\", \"total_tickets\": 17, \"tickets_paid\": 11, \"repayment_rate\": 0.6470588235294118}, {\"violation_code\": \"0964120A\", \"violation_description\": \"PARK OR STAND ON CITY PROPERTY\", \"total_tickets\": 183, \"tickets_paid\": 77, \"repayment_rate\": 0.4207650273224044}, {\"violation_code\": \"0964120B\", \"violation_description\": \"PARK OR STAND ON CHA PROPERTY\", \"total_tickets\": 62, \"tickets_paid\": 38, \"repayment_rate\": 0.6129032258064516}, {\"violation_code\": \"0964125\", \"violation_description\": \"NO CITY STICKER OR IMPROPER DISPLAY\", \"total_tickets\": 10758, \"tickets_paid\": 5973, \"repayment_rate\": 0.5552147239263804}, {\"violation_code\": \"0964125B\", \"violation_description\": \"NO CITY STICKER VEHICLE UNDER/EQUAL TO 16,000 LBS.\", \"total_tickets\": 14246, \"tickets_paid\": 6160, \"repayment_rate\": 0.43240207777621786}, {\"violation_code\": \"0964125C\", \"violation_description\": \"NO CITY STICKER VEHICLE OVER 16,000 LBS.\", \"total_tickets\": 131, \"tickets_paid\": 19, \"repayment_rate\": 0.1450381679389313}, {\"violation_code\": \"0964125D\", \"violation_description\": \"IMPROPER DISPLAY OF CITY STICKER\", \"total_tickets\": 399, \"tickets_paid\": 306, \"repayment_rate\": 0.7669172932330827}, {\"violation_code\": \"0964130\", \"violation_description\": \"PARK OR BLOCK ALLEY\", \"total_tickets\": 2050, \"tickets_paid\": 1109, \"repayment_rate\": 0.5409756097560976}, {\"violation_code\": \"0964130A\", \"violation_description\": \"PARK ALLEY\", \"total_tickets\": 998, \"tickets_paid\": 426, \"repayment_rate\": 0.42685370741482964}, {\"violation_code\": \"0964130B\", \"violation_description\": \"BLOCK ALLEY\", \"total_tickets\": 20, \"tickets_paid\": 13, \"repayment_rate\": 0.65}, {\"violation_code\": \"0964140B\", \"violation_description\": \"PARK OR STAND IN BUS/TAXI/CARRIAGE STAND\", \"total_tickets\": 6004, \"tickets_paid\": 4051, \"repayment_rate\": 0.6747168554297135}, {\"violation_code\": \"0964150A\", \"violation_description\": \"PARK OR STAND NEAR FIRE STATION OR RR XX\", \"total_tickets\": 7, \"tickets_paid\": 4, \"repayment_rate\": 0.5714285714285714}, {\"violation_code\": \"0964150B\", \"violation_description\": \"PARKING/STANDING PROHIBITED ANYTIME\", \"total_tickets\": 19753, \"tickets_paid\": 14038, \"repayment_rate\": 0.710676859211259}, {\"violation_code\": \"0964160A\", \"violation_description\": \"CURB LOADING ZONE\", \"total_tickets\": 1, \"tickets_paid\": 1, \"repayment_rate\": 1.0}, {\"violation_code\": \"0964160B\", \"violation_description\": \"CURB LOADING ZONE\", \"total_tickets\": 1204, \"tickets_paid\": 850, \"repayment_rate\": 0.7059800664451827}, {\"violation_code\": \"0964160C\", \"violation_description\": \"NO DISPLAY OF BACK-IN PERMIT\", \"total_tickets\": 5, \"tickets_paid\": 3, \"repayment_rate\": 0.6}, {\"violation_code\": \"0964170A\", \"violation_description\": \"TRUCK,RV,BUS, OR TAXI RESIDENTIAL STREET\", \"total_tickets\": 4789, \"tickets_paid\": 3332, \"repayment_rate\": 0.6957611192315724}, {\"violation_code\": \"0964170B\", \"violation_description\": \"TRUCK,MOTOR HOME, BUS BUSINESS STREET\", \"total_tickets\": 456, \"tickets_paid\": 314, \"repayment_rate\": 0.6885964912280702}, {\"violation_code\": \"0964170C\", \"violation_description\": \"VEH 6' OR HIGHER WITHIN 20' OF CROSSWALK\", \"total_tickets\": 41, \"tickets_paid\": 30, \"repayment_rate\": 0.7317073170731707}, {\"violation_code\": \"0964170D\", \"violation_description\": \"TRUCK OR SEMI-TRAILER PROHIBITED\", \"total_tickets\": 145, \"tickets_paid\": 78, \"repayment_rate\": 0.5379310344827586}, {\"violation_code\": \"0964170D\", \"violation_description\": \"TRUCK TRAILOR/SEMI/TRAILER PROHIBITED\", \"total_tickets\": 157, \"tickets_paid\": 72, \"repayment_rate\": 0.4585987261146497}, {\"violation_code\": \"0964180A\", \"violation_description\": \"NO PARKING IN LOOP\", \"total_tickets\": 34, \"tickets_paid\": 20, \"repayment_rate\": 0.5882352941176471}, {\"violation_code\": \"0964190\", \"violation_description\": \"EXPIRED METER OR OVERSTAY\", \"total_tickets\": 18756, \"tickets_paid\": 15122, \"repayment_rate\": 0.8062486670931969}, {\"violation_code\": \"0964190A\", \"violation_description\": \"EXP. METER NON-CENTRAL BUSINESS DISTRICT\", \"total_tickets\": 20600, \"tickets_paid\": 16387, \"repayment_rate\": 0.7954854368932038}, {\"violation_code\": \"0964190B\", \"violation_description\": \"EXPIRED METER CENTRAL BUSINESS DISTRICT\", \"total_tickets\": 9736, \"tickets_paid\": 7279, \"repayment_rate\": 0.7476376335250616}, {\"violation_code\": \"0964190C\", \"violation_description\": \"NON PYMT/NON-COM VEH PARKED IN COM LOADING ZONE\", \"total_tickets\": 100, \"tickets_paid\": 45, \"repayment_rate\": 0.45}, {\"violation_code\": \"0964200B\", \"violation_description\": \"OUTSIDE METERED SPACE\", \"total_tickets\": 63, \"tickets_paid\": 49, \"repayment_rate\": 0.7777777777777778}, {\"violation_code\": \"0964200B\", \"violation_description\": \"PARK OUTSIDE METERED SPACE\", \"total_tickets\": 278, \"tickets_paid\": 165, \"repayment_rate\": 0.5935251798561151}, {\"violation_code\": \"0964210\", \"violation_description\": \"FAIL TO DISPLAY TV NEWS PERMIT\", \"total_tickets\": 20, \"tickets_paid\": 13, \"repayment_rate\": 0.65}, {\"violation_code\": \"0968040I\", \"violation_description\": \"PARK/STAND IN WRIGLEY BUS PERMIT ZONE\", \"total_tickets\": 4, \"tickets_paid\": 3, \"repayment_rate\": 0.75}, {\"violation_code\": \"0976010A\", \"violation_description\": \"BRAKES REQUIRED DURING OPERATION\", \"total_tickets\": 1, \"tickets_paid\": 1, \"repayment_rate\": 1.0}, {\"violation_code\": \"0976020A\", \"violation_description\": \"SERVICE BRAKES:STOPPING CAPABILITY\", \"total_tickets\": 6, \"tickets_paid\": 5, \"repayment_rate\": 0.8333333333333334}, {\"violation_code\": \"0976020B\", \"violation_description\": \"HAND BRAKES:PROPER STOPPING CAPABILITY\", \"total_tickets\": 1, \"tickets_paid\": 1, \"repayment_rate\": 1.0}, {\"violation_code\": \"0976020E\", \"violation_description\": \"BRAKES REQUIRED IN GOOD WORKING ORDER\", \"total_tickets\": 1, \"tickets_paid\": 1, \"repayment_rate\": 1.0}, {\"violation_code\": \"0976040A\", \"violation_description\": \"HORN REQUIRED DURING OPERATION\", \"total_tickets\": 2, \"tickets_paid\": 0, \"repayment_rate\": 0.0}, {\"violation_code\": \"0976040B\", \"violation_description\": \"USE OF SIREN/BELL/WHISTLE PROHIBITED\", \"total_tickets\": 4, \"tickets_paid\": 3, \"repayment_rate\": 0.75}, {\"violation_code\": \"0976050A\", \"violation_description\": \"MOTORCYCLE HEAD LAMP VISIBLE 500'\", \"total_tickets\": 7, \"tickets_paid\": 2, \"repayment_rate\": 0.2857142857142857}, {\"violation_code\": \"0976050B\", \"violation_description\": \"TWO HEAD LAMPS REQUIRED VISIBLE 1000'\", \"total_tickets\": 443, \"tickets_paid\": 266, \"repayment_rate\": 0.600451467268623}, {\"violation_code\": \"0976050C\", \"violation_description\": \"RED REAR LAMP REQUIRED VISIBLE 500'\", \"total_tickets\": 115, \"tickets_paid\": 64, \"repayment_rate\": 0.5565217391304348}, {\"violation_code\": \"0976050D\", \"violation_description\": \"REAR PLATE LIT AND LEGIBLE FOR 50'\", \"total_tickets\": 110, \"tickets_paid\": 62, \"repayment_rate\": 0.5636363636363636}, {\"violation_code\": \"0976050E\", \"violation_description\": \"2 REAR TRAILER LAMPS REQ'D VISIBLE 500'\", \"total_tickets\": 4, \"tickets_paid\": 1, \"repayment_rate\": 0.25}, {\"violation_code\": \"0976070A\", \"violation_description\": \"IMPROPER SIDE COWL/FENDER LAMPS\", \"total_tickets\": 3, \"tickets_paid\": 2, \"repayment_rate\": 0.6666666666666666}, {\"violation_code\": \"0976070C\", \"violation_description\": \"BACK-UP LAMP LIT DURING OPERATION\", \"total_tickets\": 2, \"tickets_paid\": 2, \"repayment_rate\": 1.0}, {\"violation_code\": \"0976070D\", \"violation_description\": \"MORE THAN FOUR FRONT MOUNTED LAMPS\", \"total_tickets\": 1, \"tickets_paid\": 1, \"repayment_rate\": 1.0}, {\"violation_code\": \"0976080\", \"violation_description\": \"IMPROPER LAMPS NON-MOTOR VEHICLE\", \"total_tickets\": 9, \"tickets_paid\": 5, \"repayment_rate\": 0.5555555555555556}, {\"violation_code\": \"0976090B\", \"violation_description\": \"IMPROPER LAMP FOR PARKED VEH ON UNLIT ST\", \"total_tickets\": 9, \"tickets_paid\": 6, \"repayment_rate\": 0.6666666666666666}, {\"violation_code\": \"0976090C\", \"violation_description\": \"DEPR./DIMMED LAMPS\", \"total_tickets\": 4, \"tickets_paid\": 0, \"repayment_rate\": 0.0}, {\"violation_code\": \"0976100A\", \"violation_description\": \"SUSPENSION MODIFIED BEYOND 3\", \"total_tickets\": 1, \"tickets_paid\": 0, \"repayment_rate\": 0.0}, {\"violation_code\": \"0976110A\", \"violation_description\": \"PROPER FRONT AND REAR BUMPERS REQUIRED\", \"total_tickets\": 21, \"tickets_paid\": 11, \"repayment_rate\": 0.5238095238095238}, {\"violation_code\": \"0976120\", \"violation_description\": \"REAR VIEW MIRROR REQUIRED\", \"total_tickets\": 27, \"tickets_paid\": 20, \"repayment_rate\": 0.7407407407407407}, {\"violation_code\": \"0976130\", \"violation_description\": \"TWO RED REAR TRAILER REFLECTORS REQUIRED\", \"total_tickets\": 1, \"tickets_paid\": 1, \"repayment_rate\": 1.0}, {\"violation_code\": \"0976140A\", \"violation_description\": \"NO OR IMPROPER MUFFLER\", \"total_tickets\": 9, \"tickets_paid\": 5, \"repayment_rate\": 0.5555555555555556}, {\"violation_code\": \"0976140B\", \"violation_description\": \"EXCESS FUMES/SMOKE DURING OPERATION\", \"total_tickets\": 12, \"tickets_paid\": 7, \"repayment_rate\": 0.5833333333333334}, {\"violation_code\": \"0976150B\", \"violation_description\": \"BURGLAR ALARM SOUNDING OVER 4 MINUTES\", \"total_tickets\": 102, \"tickets_paid\": 78, \"repayment_rate\": 0.7647058823529411}, {\"violation_code\": \"0976160A\", \"violation_description\": \"MISSING/NONCOMPLIANT FRONT AND/OR REAR PLATE\", \"total_tickets\": 1024, \"tickets_paid\": 331, \"repayment_rate\": 0.3232421875}, {\"violation_code\": \"0976160A\", \"violation_description\": \"REAR AND FRONT PLATE REQUIRED\", \"total_tickets\": 15829, \"tickets_paid\": 8461, \"repayment_rate\": 0.5345252384863226}, {\"violation_code\": \"0976160B\", \"violation_description\": \"EXPIRED PLATE OR TEMPORARY REGISTRATION\", \"total_tickets\": 2720, \"tickets_paid\": 1120, \"repayment_rate\": 0.4117647058823529}, {\"violation_code\": \"0976160B\", \"violation_description\": \"REAR PLATE REQUIRED MOTORCYCLE/TRAILER\", \"total_tickets\": 352, \"tickets_paid\": 202, \"repayment_rate\": 0.5738636363636364}, {\"violation_code\": \"0976160C\", \"violation_description\": \"FRONT PLATE REQUIRED FOR TRUCK TRACTORS\", \"total_tickets\": 21, \"tickets_paid\": 12, \"repayment_rate\": 0.5714285714285714}, {\"violation_code\": \"0976160D\", \"violation_description\": \"NONCOMPLIANT PLATE(S)\", \"total_tickets\": 1920, \"tickets_paid\": 1186, \"repayment_rate\": 0.6177083333333333}, {\"violation_code\": \"0976160F\", \"violation_description\": \"EXPIRED PLATES OR TEMPORARY REGISTRATION\", \"total_tickets\": 44811, \"tickets_paid\": 27248, \"repayment_rate\": 0.6080649840440964}, {\"violation_code\": \"0976170\", \"violation_description\": \"NO CITY STICKER OR IMPROPER DISPLAY\", \"total_tickets\": 15, \"tickets_paid\": 10, \"repayment_rate\": 0.6666666666666666}, {\"violation_code\": \"0976180A\", \"violation_description\": \"SAFETY BELTS REQUIRED\", \"total_tickets\": 981, \"tickets_paid\": 700, \"repayment_rate\": 0.7135575942915392}, {\"violation_code\": \"0976180B\", \"violation_description\": \"SAFETY BELTS REQUIRED ON SCHOOL BUS\", \"total_tickets\": 54, \"tickets_paid\": 38, \"repayment_rate\": 0.7037037037037037}, {\"violation_code\": \"0976190\", \"violation_description\": \"COMMERCIAL IDENTIFICATION ETC. REQUIRED\", \"total_tickets\": 1, \"tickets_paid\": 1, \"repayment_rate\": 1.0}, {\"violation_code\": \"0976200A\", \"violation_description\": \"PROJECTING LOAD (LEFT OR RIGHT SIDE)\", \"total_tickets\": 6, \"tickets_paid\": 3, \"repayment_rate\": 0.5}, {\"violation_code\": \"0976200B\", \"violation_description\": \"PROJECTING LOAD (REAR)\", \"total_tickets\": 3, \"tickets_paid\": 3, \"repayment_rate\": 1.0}, {\"violation_code\": \"0976210A\", \"violation_description\": \"LAMPS BROKEN OR INOPERABLE\", \"total_tickets\": 162, \"tickets_paid\": 97, \"repayment_rate\": 0.5987654320987654}, {\"violation_code\": \"0976210B\", \"violation_description\": \"WINDOWS MISSING OR CRACKED BEYOND 6\", \"total_tickets\": 576, \"tickets_paid\": 351, \"repayment_rate\": 0.609375}, {\"violation_code\": \"0976220A\", \"violation_description\": \"OBSTRUCTED OR IMPROPERLY TINTED WINDOWS\", \"total_tickets\": 271, \"tickets_paid\": 155, \"repayment_rate\": 0.5719557195571956}, {\"violation_code\": \"0976220B\", \"violation_description\": \"SMOKED/TINTED WINDOWS PARKED/STANDING\", \"total_tickets\": 1697, \"tickets_paid\": 1086, \"repayment_rate\": 0.6399528579846788}, {\"violation_code\": \"0980080A\", \"violation_description\": \"PARK VEHICLE SOLE PURPOSE OF DISPLAYING FOR SALE\", \"total_tickets\": 664, \"tickets_paid\": 129, \"repayment_rate\": 0.19427710843373494}, {\"violation_code\": \"0980080B\", \"violation_description\": \"PARK VEHICLE TO GREASE OR REPAIR\", \"total_tickets\": 34, \"tickets_paid\": 14, \"repayment_rate\": 0.4117647058823529}, {\"violation_code\": \"0980080C\", \"violation_description\": \"PARK VEHICLE TO SELL MERCHANDISE\", \"total_tickets\": 12, \"tickets_paid\": 4, \"repayment_rate\": 0.3333333333333333}, {\"violation_code\": \"0980095\", \"violation_description\": \"EXCESSIVE DIESEL POWERED VEHICLE ENGINE RUNNING\", \"total_tickets\": 4, \"tickets_paid\": 2, \"repayment_rate\": 0.5}, {\"violation_code\": \"0980110A\", \"violation_description\": \"ABANDONED VEH. FOR 7 DAYS OR INOPERABLE\", \"total_tickets\": 1104, \"tickets_paid\": 281, \"repayment_rate\": 0.2545289855072464}, {\"violation_code\": \"0980110B\", \"violation_description\": \"HAZARDOUS DILAPIDATED VEHICLE\", \"total_tickets\": 148, \"tickets_paid\": 37, \"repayment_rate\": 0.25}, {\"violation_code\": \"0980110B\", \"violation_description\": \"HAZARDOUS DILAPITATED VEHICLE\", \"total_tickets\": 298, \"tickets_paid\": 69, \"repayment_rate\": 0.23154362416107382}, {\"violation_code\": \"0980120A\", \"violation_description\": \"NO PARK IN PUBLIC LOT\", \"total_tickets\": 119, \"tickets_paid\": 36, \"repayment_rate\": 0.3025210084033613}, {\"violation_code\": \"0980120B\", \"violation_description\": \"NO PARK IN PRIVATE LOT\", \"total_tickets\": 378, \"tickets_paid\": 220, \"repayment_rate\": 0.582010582010582}, {\"violation_code\": \"0980130A\", \"violation_description\": \"FAIL TO PAY OR OUTSIDE SPACE IN CITY LOT\", \"total_tickets\": 90, \"tickets_paid\": 66, \"repayment_rate\": 0.7333333333333333}, {\"violation_code\": \"0980130B\", \"violation_description\": \"PARK IN CITY LOT WHEN CLOSED\", \"total_tickets\": 225, \"tickets_paid\": 161, \"repayment_rate\": 0.7155555555555555}, {\"violation_code\": \"0980130C\", \"violation_description\": \"PARK IN CITY LOT OVER 30 DAYS\", \"total_tickets\": 9, \"tickets_paid\": 2, \"repayment_rate\": 0.2222222222222222}]}}, {\"mode\": \"vega-lite\"});\n",
       "</script>"
      ],
      "text/plain": [
       "alt.Chart(...)"
      ]
     },
     "metadata": {},
     "output_type": "display_data"
    },
    {
     "name": "stdout",
     "output_type": "stream",
     "text": [
      "Top 3 Violation Types to Increase Prices:\n",
      "    violation_code                     violation_description  total_tickets  \\\n",
      "101       0976160F  EXPIRED PLATES OR TEMPORARY REGISTRATION          44811   \n",
      "9         0964040B                           STREET CLEANING          28712   \n",
      "23        0964090E                RESIDENTIAL PERMIT PARKING          23683   \n",
      "\n",
      "     repayment_rate  \n",
      "101        0.608065  \n",
      "9          0.815896  \n",
      "23         0.745978  \n",
      "    violation_code                     violation_description  total_tickets  \\\n",
      "101       0976160F  EXPIRED PLATES OR TEMPORARY REGISTRATION          44811   \n",
      "9         0964040B                           STREET CLEANING          28712   \n",
      "23        0964090E                RESIDENTIAL PERMIT PARKING          23683   \n",
      "\n",
      "     tickets_paid  repayment_rate  \n",
      "101         27248        0.608065  \n",
      "9           23426        0.815896  \n",
      "23          17667        0.745978  \n"
     ]
    }
   ],
   "source": [
    "df['paid'] = df['total_payments'] > 0\n",
    "violation_stats = df.groupby(['violation_code', 'violation_description']).agg(\n",
    "    total_tickets=('violation_code', 'size'),\n",
    "    tickets_paid=('paid', 'sum')\n",
    ").reset_index()\n",
    "\n",
    "# Calculate repayment rate for each violation type\n",
    "violation_stats['repayment_rate'] = violation_stats['tickets_paid'] / violation_stats['total_tickets']\n",
    "\n",
    "# Step 3: Identify the top 3 violations with high ticket counts and repayment rates\n",
    "# We can sort by 'total_tickets' and 'repayment_rate' to find the top violations\n",
    "top_violations = violation_stats.sort_values(by=['total_tickets', 'repayment_rate'], ascending=[False, False]).head(3)\n",
    "\n",
    "# Step 4: Create a plot to visualize the number of tickets and repayment rate\n",
    "violation_chart = alt.Chart(violation_stats).mark_circle(size=60).encode(\n",
    "    x=alt.X('total_tickets:Q', title='Total Tickets Issued'),\n",
    "    y=alt.Y('repayment_rate:Q', title='Repayment Rate'),\n",
    "    color=alt.condition(\n",
    "        alt.FieldOneOfPredicate(field='violation_code', oneOf=top_violations['violation_code'].tolist()),\n",
    "        alt.value('red'),  # Highlight top 3 violations\n",
    "        alt.value('blue')  # Other violations\n",
    "    ),\n",
    "    tooltip=['violation_code', 'total_tickets', 'repayment_rate']\n",
    ").properties(\n",
    "    title='Violation Types: Total Tickets Issued vs. Repayment Rate'\n",
    ")\n",
    "\n",
    "# Display the chart\n",
    "violation_chart.show()\n",
    "\n",
    "# Display the top 3 recommended violation types for increasing prices\n",
    "print(\"Top 3 Violation Types to Increase Prices:\")\n",
    "print(top_violations[['violation_code', 'violation_description', 'total_tickets', 'repayment_rate']])\n",
    "\n",
    "print(top_violations)"
   ]
  },
  {
   "cell_type": "code",
   "execution_count": null,
   "id": "f3c4a117-2925-4a07-98d8-581abb409875",
   "metadata": {
    "vscode": {
     "languageId": "quarto"
    }
   },
   "outputs": [
    {
     "data": {
      "text/html": [
       "\n",
       "<style>\n",
       "  #altair-viz-c05d9d0cf80746a89a3edd2f5ed78134.vega-embed {\n",
       "    width: 100%;\n",
       "    display: flex;\n",
       "  }\n",
       "\n",
       "  #altair-viz-c05d9d0cf80746a89a3edd2f5ed78134.vega-embed details,\n",
       "  #altair-viz-c05d9d0cf80746a89a3edd2f5ed78134.vega-embed details summary {\n",
       "    position: relative;\n",
       "  }\n",
       "</style>\n",
       "<div id=\"altair-viz-c05d9d0cf80746a89a3edd2f5ed78134\"></div>\n",
       "<script type=\"text/javascript\">\n",
       "  var VEGA_DEBUG = (typeof VEGA_DEBUG == \"undefined\") ? {} : VEGA_DEBUG;\n",
       "  (function(spec, embedOpt){\n",
       "    let outputDiv = document.currentScript.previousElementSibling;\n",
       "    if (outputDiv.id !== \"altair-viz-c05d9d0cf80746a89a3edd2f5ed78134\") {\n",
       "      outputDiv = document.getElementById(\"altair-viz-c05d9d0cf80746a89a3edd2f5ed78134\");\n",
       "    }\n",
       "    const paths = {\n",
       "      \"vega\": \"https://cdn.jsdelivr.net/npm/vega@5?noext\",\n",
       "      \"vega-lib\": \"https://cdn.jsdelivr.net/npm/vega-lib?noext\",\n",
       "      \"vega-lite\": \"https://cdn.jsdelivr.net/npm/vega-lite@5.20.1?noext\",\n",
       "      \"vega-embed\": \"https://cdn.jsdelivr.net/npm/vega-embed@6?noext\",\n",
       "    };\n",
       "\n",
       "    function maybeLoadScript(lib, version) {\n",
       "      var key = `${lib.replace(\"-\", \"\")}_version`;\n",
       "      return (VEGA_DEBUG[key] == version) ?\n",
       "        Promise.resolve(paths[lib]) :\n",
       "        new Promise(function(resolve, reject) {\n",
       "          var s = document.createElement('script');\n",
       "          document.getElementsByTagName(\"head\")[0].appendChild(s);\n",
       "          s.async = true;\n",
       "          s.onload = () => {\n",
       "            VEGA_DEBUG[key] = version;\n",
       "            return resolve(paths[lib]);\n",
       "          };\n",
       "          s.onerror = () => reject(`Error loading script: ${paths[lib]}`);\n",
       "          s.src = paths[lib];\n",
       "        });\n",
       "    }\n",
       "\n",
       "    function showError(err) {\n",
       "      outputDiv.innerHTML = `<div class=\"error\" style=\"color:red;\">${err}</div>`;\n",
       "      throw err;\n",
       "    }\n",
       "\n",
       "    function displayChart(vegaEmbed) {\n",
       "      vegaEmbed(outputDiv, spec, embedOpt)\n",
       "        .catch(err => showError(`Javascript Error: ${err.message}<br>This usually means there's a typo in your chart specification. See the javascript console for the full traceback.`));\n",
       "    }\n",
       "\n",
       "    if(typeof define === \"function\" && define.amd) {\n",
       "      requirejs.config({paths});\n",
       "      require([\"vega-embed\"], displayChart, err => showError(`Error loading script: ${err.message}`));\n",
       "    } else {\n",
       "      maybeLoadScript(\"vega\", \"5\")\n",
       "        .then(() => maybeLoadScript(\"vega-lite\", \"5.20.1\"))\n",
       "        .then(() => maybeLoadScript(\"vega-embed\", \"6\"))\n",
       "        .catch(showError)\n",
       "        .then(() => displayChart(vegaEmbed));\n",
       "    }\n",
       "  })({\"config\": {\"view\": {\"continuousWidth\": 300, \"continuousHeight\": 300}}, \"data\": {\"name\": \"data-5c2f390b8b9393b0cdc191a29a0a89e9\"}, \"mark\": {\"type\": \"circle\", \"size\": 60}, \"encoding\": {\"color\": {\"condition\": {\"test\": {\"field\": \"violation_code\", \"oneOf\": [\"0976160F\", \"0964040B\", \"0964090E\"]}, \"value\": \"red\"}, \"value\": \"blue\"}, \"tooltip\": [{\"field\": \"violation_code\", \"type\": \"nominal\"}, {\"field\": \"total_tickets\", \"type\": \"quantitative\"}, {\"field\": \"repayment_rate\", \"type\": \"quantitative\"}], \"x\": {\"field\": \"total_tickets\", \"title\": \"Total Tickets Issued\", \"type\": \"quantitative\"}, \"y\": {\"field\": \"repayment_rate\", \"title\": \"Repayment Rate\", \"type\": \"quantitative\"}}, \"title\": \"Violation Types: Total Tickets Issued vs. Repayment Rate\", \"$schema\": \"https://vega.github.io/schema/vega-lite/v5.20.1.json\", \"datasets\": {\"data-5c2f390b8b9393b0cdc191a29a0a89e9\": [{\"violation_code\": \"0912060\", \"total_tickets\": 1233, \"tickets_paid\": 746, \"repayment_rate\": 0.6050283860502839}, {\"violation_code\": \"0940060\", \"total_tickets\": 236, \"tickets_paid\": 161, \"repayment_rate\": 0.6822033898305084}, {\"violation_code\": \"0940080\", \"total_tickets\": 81, \"tickets_paid\": 40, \"repayment_rate\": 0.49382716049382713}, {\"violation_code\": \"0940170\", \"total_tickets\": 64, \"tickets_paid\": 35, \"repayment_rate\": 0.546875}, {\"violation_code\": \"0940220\", \"total_tickets\": 32, \"tickets_paid\": 21, \"repayment_rate\": 0.65625}, {\"violation_code\": \"0964020A\", \"total_tickets\": 1111, \"tickets_paid\": 860, \"repayment_rate\": 0.774077407740774}, {\"violation_code\": \"0964020B\", \"total_tickets\": 1577, \"tickets_paid\": 799, \"repayment_rate\": 0.5066582117945466}, {\"violation_code\": \"0964020C\", \"total_tickets\": 14, \"tickets_paid\": 10, \"repayment_rate\": 0.7142857142857143}, {\"violation_code\": \"0964030B\", \"total_tickets\": 110, \"tickets_paid\": 80, \"repayment_rate\": 0.7272727272727273}, {\"violation_code\": \"0964040B\", \"total_tickets\": 32082, \"tickets_paid\": 26085, \"repayment_rate\": 0.8130727510753694}, {\"violation_code\": \"0964041\", \"total_tickets\": 245, \"tickets_paid\": 201, \"repayment_rate\": 0.8204081632653061}, {\"violation_code\": \"0964041B\", \"total_tickets\": 242, \"tickets_paid\": 174, \"repayment_rate\": 0.71900826446281}, {\"violation_code\": \"0964050I\", \"total_tickets\": 5, \"tickets_paid\": 3, \"repayment_rate\": 0.6}, {\"violation_code\": \"0964050J\", \"total_tickets\": 2034, \"tickets_paid\": 1153, \"repayment_rate\": 0.5668633235004916}, {\"violation_code\": \"0964050J*\", \"total_tickets\": 5, \"tickets_paid\": 3, \"repayment_rate\": 0.6}, {\"violation_code\": \"0964060\", \"total_tickets\": 827, \"tickets_paid\": 605, \"repayment_rate\": 0.7315598548972189}, {\"violation_code\": \"0964060B\", \"total_tickets\": 12, \"tickets_paid\": 8, \"repayment_rate\": 0.6666666666666666}, {\"violation_code\": \"0964070\", \"total_tickets\": 164, \"tickets_paid\": 114, \"repayment_rate\": 0.6951219512195121}, {\"violation_code\": \"0964080A\", \"total_tickets\": 11965, \"tickets_paid\": 9279, \"repayment_rate\": 0.7755119097367321}, {\"violation_code\": \"0964080B\", \"total_tickets\": 8640, \"tickets_paid\": 6548, \"repayment_rate\": 0.7578703703703704}, {\"violation_code\": \"0964090E\", \"total_tickets\": 23683, \"tickets_paid\": 17667, \"repayment_rate\": 0.7459781277709749}, {\"violation_code\": \"0964091\", \"total_tickets\": 117, \"tickets_paid\": 99, \"repayment_rate\": 0.8461538461538461}, {\"violation_code\": \"0964091B\", \"total_tickets\": 3, \"tickets_paid\": 1, \"repayment_rate\": 0.3333333333333333}, {\"violation_code\": \"0964100A\", \"total_tickets\": 6104, \"tickets_paid\": 4203, \"repayment_rate\": 0.688564875491481}, {\"violation_code\": \"0964100B\", \"total_tickets\": 86, \"tickets_paid\": 49, \"repayment_rate\": 0.5697674418604651}, {\"violation_code\": \"0964100C\", \"total_tickets\": 1579, \"tickets_paid\": 1044, \"repayment_rate\": 0.6611779607346422}, {\"violation_code\": \"0964100D\", \"total_tickets\": 436, \"tickets_paid\": 340, \"repayment_rate\": 0.7798165137614679}, {\"violation_code\": \"0964100E\", \"total_tickets\": 42, \"tickets_paid\": 30, \"repayment_rate\": 0.7142857142857143}, {\"violation_code\": \"0964100F\", \"total_tickets\": 393, \"tickets_paid\": 284, \"repayment_rate\": 0.72264631043257}, {\"violation_code\": \"0964100G\", \"total_tickets\": 2191, \"tickets_paid\": 1777, \"repayment_rate\": 0.8110451848471018}, {\"violation_code\": \"0964100H\", \"total_tickets\": 4, \"tickets_paid\": 1, \"repayment_rate\": 0.25}, {\"violation_code\": \"0964110A\", \"total_tickets\": 2904, \"tickets_paid\": 1747, \"repayment_rate\": 0.6015840220385675}, {\"violation_code\": \"0964110B\", \"total_tickets\": 26, \"tickets_paid\": 19, \"repayment_rate\": 0.7307692307692307}, {\"violation_code\": \"0964110C\", \"total_tickets\": 1953, \"tickets_paid\": 1402, \"repayment_rate\": 0.7178699436763953}, {\"violation_code\": \"0964110D\", \"total_tickets\": 1036, \"tickets_paid\": 713, \"repayment_rate\": 0.6882239382239382}, {\"violation_code\": \"0964110E\", \"total_tickets\": 495, \"tickets_paid\": 362, \"repayment_rate\": 0.7313131313131314}, {\"violation_code\": \"0964110F\", \"total_tickets\": 40, \"tickets_paid\": 29, \"repayment_rate\": 0.725}, {\"violation_code\": \"0964110G\", \"total_tickets\": 247, \"tickets_paid\": 183, \"repayment_rate\": 0.7408906882591093}, {\"violation_code\": \"0964110H\", \"total_tickets\": 17, \"tickets_paid\": 11, \"repayment_rate\": 0.6470588235294118}, {\"violation_code\": \"0964120A\", \"total_tickets\": 183, \"tickets_paid\": 77, \"repayment_rate\": 0.4207650273224044}, {\"violation_code\": \"0964120B\", \"total_tickets\": 62, \"tickets_paid\": 38, \"repayment_rate\": 0.6129032258064516}, {\"violation_code\": \"0964125\", \"total_tickets\": 10758, \"tickets_paid\": 5973, \"repayment_rate\": 0.5552147239263804}, {\"violation_code\": \"0964125B\", \"total_tickets\": 14246, \"tickets_paid\": 6160, \"repayment_rate\": 0.43240207777621786}, {\"violation_code\": \"0964125C\", \"total_tickets\": 131, \"tickets_paid\": 19, \"repayment_rate\": 0.1450381679389313}, {\"violation_code\": \"0964125D\", \"total_tickets\": 399, \"tickets_paid\": 306, \"repayment_rate\": 0.7669172932330827}, {\"violation_code\": \"0964130\", \"total_tickets\": 2050, \"tickets_paid\": 1109, \"repayment_rate\": 0.5409756097560976}, {\"violation_code\": \"0964130A\", \"total_tickets\": 998, \"tickets_paid\": 426, \"repayment_rate\": 0.42685370741482964}, {\"violation_code\": \"0964130B\", \"total_tickets\": 20, \"tickets_paid\": 13, \"repayment_rate\": 0.65}, {\"violation_code\": \"0964140B\", \"total_tickets\": 6004, \"tickets_paid\": 4051, \"repayment_rate\": 0.6747168554297135}, {\"violation_code\": \"0964150A\", \"total_tickets\": 7, \"tickets_paid\": 4, \"repayment_rate\": 0.5714285714285714}, {\"violation_code\": \"0964150B\", \"total_tickets\": 19753, \"tickets_paid\": 14038, \"repayment_rate\": 0.710676859211259}, {\"violation_code\": \"0964160A\", \"total_tickets\": 1, \"tickets_paid\": 1, \"repayment_rate\": 1.0}, {\"violation_code\": \"0964160B\", \"total_tickets\": 1204, \"tickets_paid\": 850, \"repayment_rate\": 0.7059800664451827}, {\"violation_code\": \"0964160C\", \"total_tickets\": 5, \"tickets_paid\": 3, \"repayment_rate\": 0.6}, {\"violation_code\": \"0964170A\", \"total_tickets\": 4789, \"tickets_paid\": 3332, \"repayment_rate\": 0.6957611192315724}, {\"violation_code\": \"0964170B\", \"total_tickets\": 456, \"tickets_paid\": 314, \"repayment_rate\": 0.6885964912280702}, {\"violation_code\": \"0964170C\", \"total_tickets\": 41, \"tickets_paid\": 30, \"repayment_rate\": 0.7317073170731707}, {\"violation_code\": \"0964170D\", \"total_tickets\": 302, \"tickets_paid\": 150, \"repayment_rate\": 0.4966887417218543}, {\"violation_code\": \"0964180A\", \"total_tickets\": 34, \"tickets_paid\": 20, \"repayment_rate\": 0.5882352941176471}, {\"violation_code\": \"0964190\", \"total_tickets\": 18756, \"tickets_paid\": 15122, \"repayment_rate\": 0.8062486670931969}, {\"violation_code\": \"0964190A\", \"total_tickets\": 20600, \"tickets_paid\": 16387, \"repayment_rate\": 0.7954854368932038}, {\"violation_code\": \"0964190B\", \"total_tickets\": 9736, \"tickets_paid\": 7279, \"repayment_rate\": 0.7476376335250616}, {\"violation_code\": \"0964190C\", \"total_tickets\": 100, \"tickets_paid\": 45, \"repayment_rate\": 0.45}, {\"violation_code\": \"0964200B\", \"total_tickets\": 341, \"tickets_paid\": 214, \"repayment_rate\": 0.6275659824046921}, {\"violation_code\": \"0964210\", \"total_tickets\": 20, \"tickets_paid\": 13, \"repayment_rate\": 0.65}, {\"violation_code\": \"0968040I\", \"total_tickets\": 4, \"tickets_paid\": 3, \"repayment_rate\": 0.75}, {\"violation_code\": \"0976010A\", \"total_tickets\": 1, \"tickets_paid\": 1, \"repayment_rate\": 1.0}, {\"violation_code\": \"0976020A\", \"total_tickets\": 6, \"tickets_paid\": 5, \"repayment_rate\": 0.8333333333333334}, {\"violation_code\": \"0976020B\", \"total_tickets\": 1, \"tickets_paid\": 1, \"repayment_rate\": 1.0}, {\"violation_code\": \"0976020E\", \"total_tickets\": 1, \"tickets_paid\": 1, \"repayment_rate\": 1.0}, {\"violation_code\": \"0976040A\", \"total_tickets\": 2, \"tickets_paid\": 0, \"repayment_rate\": 0.0}, {\"violation_code\": \"0976040B\", \"total_tickets\": 4, \"tickets_paid\": 3, \"repayment_rate\": 0.75}, {\"violation_code\": \"0976050A\", \"total_tickets\": 7, \"tickets_paid\": 2, \"repayment_rate\": 0.2857142857142857}, {\"violation_code\": \"0976050B\", \"total_tickets\": 443, \"tickets_paid\": 266, \"repayment_rate\": 0.600451467268623}, {\"violation_code\": \"0976050C\", \"total_tickets\": 115, \"tickets_paid\": 64, \"repayment_rate\": 0.5565217391304348}, {\"violation_code\": \"0976050D\", \"total_tickets\": 110, \"tickets_paid\": 62, \"repayment_rate\": 0.5636363636363636}, {\"violation_code\": \"0976050E\", \"total_tickets\": 4, \"tickets_paid\": 1, \"repayment_rate\": 0.25}, {\"violation_code\": \"0976070A\", \"total_tickets\": 3, \"tickets_paid\": 2, \"repayment_rate\": 0.6666666666666666}, {\"violation_code\": \"0976070C\", \"total_tickets\": 2, \"tickets_paid\": 2, \"repayment_rate\": 1.0}, {\"violation_code\": \"0976070D\", \"total_tickets\": 1, \"tickets_paid\": 1, \"repayment_rate\": 1.0}, {\"violation_code\": \"0976080\", \"total_tickets\": 9, \"tickets_paid\": 5, \"repayment_rate\": 0.5555555555555556}, {\"violation_code\": \"0976090B\", \"total_tickets\": 9, \"tickets_paid\": 6, \"repayment_rate\": 0.6666666666666666}, {\"violation_code\": \"0976090C\", \"total_tickets\": 4, \"tickets_paid\": 0, \"repayment_rate\": 0.0}, {\"violation_code\": \"0976100A\", \"total_tickets\": 1, \"tickets_paid\": 0, \"repayment_rate\": 0.0}, {\"violation_code\": \"0976110A\", \"total_tickets\": 21, \"tickets_paid\": 11, \"repayment_rate\": 0.5238095238095238}, {\"violation_code\": \"0976120\", \"total_tickets\": 27, \"tickets_paid\": 20, \"repayment_rate\": 0.7407407407407407}, {\"violation_code\": \"0976130\", \"total_tickets\": 1, \"tickets_paid\": 1, \"repayment_rate\": 1.0}, {\"violation_code\": \"0976140A\", \"total_tickets\": 9, \"tickets_paid\": 5, \"repayment_rate\": 0.5555555555555556}, {\"violation_code\": \"0976140B\", \"total_tickets\": 12, \"tickets_paid\": 7, \"repayment_rate\": 0.5833333333333334}, {\"violation_code\": \"0976150B\", \"total_tickets\": 102, \"tickets_paid\": 78, \"repayment_rate\": 0.7647058823529411}, {\"violation_code\": \"0976160A\", \"total_tickets\": 16853, \"tickets_paid\": 8792, \"repayment_rate\": 0.5216875333768468}, {\"violation_code\": \"0976160B\", \"total_tickets\": 3072, \"tickets_paid\": 1322, \"repayment_rate\": 0.4303385416666667}, {\"violation_code\": \"0976160C\", \"total_tickets\": 21, \"tickets_paid\": 12, \"repayment_rate\": 0.5714285714285714}, {\"violation_code\": \"0976160D\", \"total_tickets\": 1920, \"tickets_paid\": 1186, \"repayment_rate\": 0.6177083333333333}, {\"violation_code\": \"0976160F\", \"total_tickets\": 44811, \"tickets_paid\": 27248, \"repayment_rate\": 0.6080649840440964}, {\"violation_code\": \"0976170\", \"total_tickets\": 15, \"tickets_paid\": 10, \"repayment_rate\": 0.6666666666666666}, {\"violation_code\": \"0976180A\", \"total_tickets\": 981, \"tickets_paid\": 700, \"repayment_rate\": 0.7135575942915392}, {\"violation_code\": \"0976180B\", \"total_tickets\": 54, \"tickets_paid\": 38, \"repayment_rate\": 0.7037037037037037}, {\"violation_code\": \"0976190\", \"total_tickets\": 1, \"tickets_paid\": 1, \"repayment_rate\": 1.0}, {\"violation_code\": \"0976200A\", \"total_tickets\": 6, \"tickets_paid\": 3, \"repayment_rate\": 0.5}, {\"violation_code\": \"0976200B\", \"total_tickets\": 3, \"tickets_paid\": 3, \"repayment_rate\": 1.0}, {\"violation_code\": \"0976210A\", \"total_tickets\": 162, \"tickets_paid\": 97, \"repayment_rate\": 0.5987654320987654}, {\"violation_code\": \"0976210B\", \"total_tickets\": 576, \"tickets_paid\": 351, \"repayment_rate\": 0.609375}, {\"violation_code\": \"0976220A\", \"total_tickets\": 271, \"tickets_paid\": 155, \"repayment_rate\": 0.5719557195571956}, {\"violation_code\": \"0976220B\", \"total_tickets\": 1697, \"tickets_paid\": 1086, \"repayment_rate\": 0.6399528579846788}, {\"violation_code\": \"0980080A\", \"total_tickets\": 664, \"tickets_paid\": 129, \"repayment_rate\": 0.19427710843373494}, {\"violation_code\": \"0980080B\", \"total_tickets\": 34, \"tickets_paid\": 14, \"repayment_rate\": 0.4117647058823529}, {\"violation_code\": \"0980080C\", \"total_tickets\": 12, \"tickets_paid\": 4, \"repayment_rate\": 0.3333333333333333}, {\"violation_code\": \"0980095\", \"total_tickets\": 4, \"tickets_paid\": 2, \"repayment_rate\": 0.5}, {\"violation_code\": \"0980110A\", \"total_tickets\": 1104, \"tickets_paid\": 281, \"repayment_rate\": 0.2545289855072464}, {\"violation_code\": \"0980110B\", \"total_tickets\": 446, \"tickets_paid\": 106, \"repayment_rate\": 0.23766816143497757}, {\"violation_code\": \"0980120A\", \"total_tickets\": 119, \"tickets_paid\": 36, \"repayment_rate\": 0.3025210084033613}, {\"violation_code\": \"0980120B\", \"total_tickets\": 378, \"tickets_paid\": 220, \"repayment_rate\": 0.582010582010582}, {\"violation_code\": \"0980130A\", \"total_tickets\": 90, \"tickets_paid\": 66, \"repayment_rate\": 0.7333333333333333}, {\"violation_code\": \"0980130B\", \"total_tickets\": 225, \"tickets_paid\": 161, \"repayment_rate\": 0.7155555555555555}, {\"violation_code\": \"0980130C\", \"total_tickets\": 9, \"tickets_paid\": 2, \"repayment_rate\": 0.2222222222222222}]}}, {\"mode\": \"vega-lite\"});\n",
       "</script>"
      ],
      "text/plain": [
       "alt.Chart(...)"
      ]
     },
     "metadata": {},
     "output_type": "display_data"
    },
    {
     "name": "stdout",
     "output_type": "stream",
     "text": [
      "Top 3 Violation Types to Increase Prices:\n"
     ]
    },
    {
     "ename": "KeyError",
     "evalue": "\"['violation_description'] not in index\"",
     "output_type": "error",
     "traceback": [
      "\u001b[0;31m---------------------------------------------------------------------------\u001b[0m",
      "\u001b[0;31mKeyError\u001b[0m                                  Traceback (most recent call last)",
      "File \u001b[1;32m/Users/hkkkkk/Documents/GitHub/ppha30538_fall2024/30538-dap-ii-problem-set-2-ps2-dap2-python-fall2024/pset2_template.qmd:33\u001b[0m\n\u001b[1;32m     31\u001b[0m \u001b[39m# Display the top 3 recommended violation types for increasing prices\u001b[39;00m\n\u001b[1;32m     32\u001b[0m \u001b[39mprint\u001b[39m(\u001b[39m\"\u001b[39m\u001b[39mTop 3 Violation Types to Increase Prices:\u001b[39m\u001b[39m\"\u001b[39m)\n\u001b[0;32m---> 33\u001b[0m \u001b[39mprint\u001b[39m(top_violations[[\u001b[39m'\u001b[39m\u001b[39mviolation_code\u001b[39m\u001b[39m'\u001b[39m, \u001b[39m'\u001b[39m\u001b[39mviolation_description\u001b[39m\u001b[39m'\u001b[39m, \u001b[39m'\u001b[39m\u001b[39mtotal_tickets\u001b[39m\u001b[39m'\u001b[39m, \u001b[39m'\u001b[39m\u001b[39mrepayment_rate\u001b[39m\u001b[39m'\u001b[39m]])\n\u001b[1;32m     35\u001b[0m \u001b[39mprint\u001b[39m(top_violations)\n",
      "File \u001b[0;32m/opt/anaconda3/lib/python3.11/site-packages/pandas/core/frame.py:4096\u001b[0m, in \u001b[0;36mDataFrame.__getitem__\u001b[0;34m(self, key)\u001b[0m\n\u001b[1;32m   4094\u001b[0m     \u001b[39mif\u001b[39;00m is_iterator(key):\n\u001b[1;32m   4095\u001b[0m         key \u001b[39m=\u001b[39m \u001b[39mlist\u001b[39m(key)\n\u001b[0;32m-> 4096\u001b[0m     indexer \u001b[39m=\u001b[39m \u001b[39mself\u001b[39m\u001b[39m.\u001b[39mcolumns\u001b[39m.\u001b[39m_get_indexer_strict(key, \u001b[39m\"\u001b[39m\u001b[39mcolumns\u001b[39m\u001b[39m\"\u001b[39m)[\u001b[39m1\u001b[39m]\n\u001b[1;32m   4098\u001b[0m \u001b[39m# take() does not accept boolean indexers\u001b[39;00m\n\u001b[1;32m   4099\u001b[0m \u001b[39mif\u001b[39;00m \u001b[39mgetattr\u001b[39m(indexer, \u001b[39m\"\u001b[39m\u001b[39mdtype\u001b[39m\u001b[39m\"\u001b[39m, \u001b[39mNone\u001b[39;00m) \u001b[39m==\u001b[39m \u001b[39mbool\u001b[39m:\n",
      "File \u001b[0;32m/opt/anaconda3/lib/python3.11/site-packages/pandas/core/indexes/base.py:6200\u001b[0m, in \u001b[0;36mIndex._get_indexer_strict\u001b[0;34m(self, key, axis_name)\u001b[0m\n\u001b[1;32m   6197\u001b[0m \u001b[39melse\u001b[39;00m:\n\u001b[1;32m   6198\u001b[0m     keyarr, indexer, new_indexer \u001b[39m=\u001b[39m \u001b[39mself\u001b[39m\u001b[39m.\u001b[39m_reindex_non_unique(keyarr)\n\u001b[0;32m-> 6200\u001b[0m \u001b[39mself\u001b[39m\u001b[39m.\u001b[39m_raise_if_missing(keyarr, indexer, axis_name)\n\u001b[1;32m   6202\u001b[0m keyarr \u001b[39m=\u001b[39m \u001b[39mself\u001b[39m\u001b[39m.\u001b[39mtake(indexer)\n\u001b[1;32m   6203\u001b[0m \u001b[39mif\u001b[39;00m \u001b[39misinstance\u001b[39m(key, Index):\n\u001b[1;32m   6204\u001b[0m     \u001b[39m# GH 42790 - Preserve name from an Index\u001b[39;00m\n",
      "File \u001b[0;32m/opt/anaconda3/lib/python3.11/site-packages/pandas/core/indexes/base.py:6252\u001b[0m, in \u001b[0;36mIndex._raise_if_missing\u001b[0;34m(self, key, indexer, axis_name)\u001b[0m\n\u001b[1;32m   6249\u001b[0m     \u001b[39mraise\u001b[39;00m \u001b[39mKeyError\u001b[39;00m(\u001b[39mf\u001b[39m\u001b[39m\"\u001b[39m\u001b[39mNone of [\u001b[39m\u001b[39m{\u001b[39;00mkey\u001b[39m}\u001b[39;00m\u001b[39m] are in the [\u001b[39m\u001b[39m{\u001b[39;00maxis_name\u001b[39m}\u001b[39;00m\u001b[39m]\u001b[39m\u001b[39m\"\u001b[39m)\n\u001b[1;32m   6251\u001b[0m not_found \u001b[39m=\u001b[39m \u001b[39mlist\u001b[39m(ensure_index(key)[missing_mask\u001b[39m.\u001b[39mnonzero()[\u001b[39m0\u001b[39m]]\u001b[39m.\u001b[39munique())\n\u001b[0;32m-> 6252\u001b[0m \u001b[39mraise\u001b[39;00m \u001b[39mKeyError\u001b[39;00m(\u001b[39mf\u001b[39m\u001b[39m\"\u001b[39m\u001b[39m{\u001b[39;00mnot_found\u001b[39m}\u001b[39;00m\u001b[39m not in index\u001b[39m\u001b[39m\"\u001b[39m)\n",
      "\u001b[0;31mKeyError\u001b[0m: \"['violation_description'] not in index\""
     ]
    }
   ],
   "source": [
    "df['paid'] = df['total_payments'] > 0\n",
    "violation_stats = df.groupby('violation_code').agg(\n",
    "    total_tickets=('violation_code', 'size'),\n",
    "    tickets_paid=('paid', 'sum')\n",
    ").reset_index()\n",
    "\n",
    "# Calculate repayment rate for each violation type\n",
    "violation_stats['repayment_rate'] = violation_stats['tickets_paid'] / violation_stats['total_tickets']\n",
    "\n",
    "# Step 3: Identify the top 3 violations with high ticket counts and repayment rates\n",
    "# We can sort by 'total_tickets' and 'repayment_rate' to find the top violations\n",
    "top_violations = violation_stats.sort_values(by=['total_tickets', 'repayment_rate'], ascending=[False, False]).head(3)\n",
    "\n",
    "# Step 4: Create a plot to visualize the number of tickets and repayment rate\n",
    "violation_chart = alt.Chart(violation_stats).mark_circle(size=60).encode(\n",
    "    x=alt.X('total_tickets:Q', title='Total Tickets Issued'),\n",
    "    y=alt.Y('repayment_rate:Q', title='Repayment Rate'),\n",
    "    color=alt.condition(\n",
    "        alt.FieldOneOfPredicate(field='violation_code', oneOf=top_violations['violation_code'].tolist()),\n",
    "        alt.value('red'),  # Highlight top 3 violations\n",
    "        alt.value('blue')  # Other violations\n",
    "    ),\n",
    "    tooltip=['violation_code', 'total_tickets', 'repayment_rate']\n",
    ").properties(\n",
    "    title='Violation Types: Total Tickets Issued vs. Repayment Rate'\n",
    ")\n",
    "\n",
    "# Display the chart\n",
    "violation_chart.show()\n",
    "\n",
    "# Display the top 3 recommended violation types for increasing prices\n",
    "print(\"Top 3 Violation Types to Increase Prices:\")\n",
    "print(top_violations[['violation_code', 'violation_description', 'total_tickets', 'repayment_rate']])\n",
    "\n",
    "print(top_violations)"
   ]
  },
  {
   "cell_type": "code",
   "execution_count": null,
   "id": "cb04abb6-9778-4ad2-8afa-e1dda267a7d1",
   "metadata": {
    "vscode": {
     "languageId": "quarto"
    }
   },
   "outputs": [
    {
     "name": "stdout",
     "output_type": "stream",
     "text": [
      "Top 5 Most Common Violation Descriptions:\n",
      "                        violation_description  repayment_rate  total_tickets\n",
      "23   EXPIRED PLATES OR TEMPORARY REGISTRATION        0.608065          44811\n",
      "101                           STREET CLEANING        0.815896          28712\n",
      "90                 RESIDENTIAL PERMIT PARKING        0.745978          23683\n",
      "19   EXP. METER NON-CENTRAL BUSINESS DISTRICT        0.795485          20600\n",
      "81        PARKING/STANDING PROHIBITED ANYTIME        0.710677          19753\n"
     ]
    }
   ],
   "source": [
    "violation_summary = df.groupby('violation_description').agg(\n",
    "    total_tickets=('violation_description', 'size'),\n",
    "    tickets_paid=('paid', 'sum')\n",
    ").reset_index()\n",
    "\n",
    "violation_summary['repayment_rate'] = violation_summary['tickets_paid'] / violation_summary['total_tickets']\n",
    "\n",
    "violation_summary_sorted = violation_summary.sort_values(by='total_tickets', ascending=False)\n",
    "\n",
    "top_5_violations = violation_summary_sorted.head(5)\n",
    "\n",
    "print(\"Top 5 Most Common Violation Descriptions:\")\n",
    "print(top_5_violations[['violation_description', 'repayment_rate', 'total_tickets']])"
   ]
  },
  {
   "cell_type": "code",
   "execution_count": null,
   "id": "86c78138-22e9-4c2c-961e-a84ea3a710fa",
   "metadata": {
    "vscode": {
     "languageId": "quarto"
    }
   },
   "outputs": [
    {
     "data": {
      "text/html": [
       "\n",
       "<style>\n",
       "  #altair-viz-24a29b113dfc4855954b7239a95a089b.vega-embed {\n",
       "    width: 100%;\n",
       "    display: flex;\n",
       "  }\n",
       "\n",
       "  #altair-viz-24a29b113dfc4855954b7239a95a089b.vega-embed details,\n",
       "  #altair-viz-24a29b113dfc4855954b7239a95a089b.vega-embed details summary {\n",
       "    position: relative;\n",
       "  }\n",
       "</style>\n",
       "<div id=\"altair-viz-24a29b113dfc4855954b7239a95a089b\"></div>\n",
       "<script type=\"text/javascript\">\n",
       "  var VEGA_DEBUG = (typeof VEGA_DEBUG == \"undefined\") ? {} : VEGA_DEBUG;\n",
       "  (function(spec, embedOpt){\n",
       "    let outputDiv = document.currentScript.previousElementSibling;\n",
       "    if (outputDiv.id !== \"altair-viz-24a29b113dfc4855954b7239a95a089b\") {\n",
       "      outputDiv = document.getElementById(\"altair-viz-24a29b113dfc4855954b7239a95a089b\");\n",
       "    }\n",
       "    const paths = {\n",
       "      \"vega\": \"https://cdn.jsdelivr.net/npm/vega@5?noext\",\n",
       "      \"vega-lib\": \"https://cdn.jsdelivr.net/npm/vega-lib?noext\",\n",
       "      \"vega-lite\": \"https://cdn.jsdelivr.net/npm/vega-lite@5.20.1?noext\",\n",
       "      \"vega-embed\": \"https://cdn.jsdelivr.net/npm/vega-embed@6?noext\",\n",
       "    };\n",
       "\n",
       "    function maybeLoadScript(lib, version) {\n",
       "      var key = `${lib.replace(\"-\", \"\")}_version`;\n",
       "      return (VEGA_DEBUG[key] == version) ?\n",
       "        Promise.resolve(paths[lib]) :\n",
       "        new Promise(function(resolve, reject) {\n",
       "          var s = document.createElement('script');\n",
       "          document.getElementsByTagName(\"head\")[0].appendChild(s);\n",
       "          s.async = true;\n",
       "          s.onload = () => {\n",
       "            VEGA_DEBUG[key] = version;\n",
       "            return resolve(paths[lib]);\n",
       "          };\n",
       "          s.onerror = () => reject(`Error loading script: ${paths[lib]}`);\n",
       "          s.src = paths[lib];\n",
       "        });\n",
       "    }\n",
       "\n",
       "    function showError(err) {\n",
       "      outputDiv.innerHTML = `<div class=\"error\" style=\"color:red;\">${err}</div>`;\n",
       "      throw err;\n",
       "    }\n",
       "\n",
       "    function displayChart(vegaEmbed) {\n",
       "      vegaEmbed(outputDiv, spec, embedOpt)\n",
       "        .catch(err => showError(`Javascript Error: ${err.message}<br>This usually means there's a typo in your chart specification. See the javascript console for the full traceback.`));\n",
       "    }\n",
       "\n",
       "    if(typeof define === \"function\" && define.amd) {\n",
       "      requirejs.config({paths});\n",
       "      require([\"vega-embed\"], displayChart, err => showError(`Error loading script: ${err.message}`));\n",
       "    } else {\n",
       "      maybeLoadScript(\"vega\", \"5\")\n",
       "        .then(() => maybeLoadScript(\"vega-lite\", \"5.20.1\"))\n",
       "        .then(() => maybeLoadScript(\"vega-embed\", \"6\"))\n",
       "        .catch(showError)\n",
       "        .then(() => displayChart(vegaEmbed));\n",
       "    }\n",
       "  })({\"config\": {\"view\": {\"continuousWidth\": 300, \"continuousHeight\": 300}}, \"data\": {\"name\": \"data-cfc6b09e0afaffd4d60db3bd6bbaa024\"}, \"mark\": {\"type\": \"circle\", \"size\": 60}, \"encoding\": {\"color\": {\"condition\": {\"test\": {\"field\": \"violation_code\", \"oneOf\": [\"0976160F\", \"0964040B\", \"0964090E\"]}, \"value\": \"red\"}, \"value\": \"blue\"}, \"tooltip\": [{\"field\": \"violation_code\", \"type\": \"nominal\"}, {\"field\": \"total_tickets\", \"type\": \"quantitative\"}, {\"field\": \"repayment_rate\", \"type\": \"quantitative\"}], \"x\": {\"field\": \"total_tickets\", \"title\": \"Total Tickets Issued\", \"type\": \"quantitative\"}, \"y\": {\"field\": \"repayment_rate\", \"title\": \"Repayment Rate\", \"type\": \"quantitative\"}}, \"title\": \"Violation Types: Total Tickets Issued vs. Repayment Rate\", \"$schema\": \"https://vega.github.io/schema/vega-lite/v5.20.1.json\", \"datasets\": {\"data-cfc6b09e0afaffd4d60db3bd6bbaa024\": [{\"violation_code\": \"0912060\", \"violation_description\": \"STAND, PARK, OR OTHER USE OF BUS LANE\", \"total_tickets\": 1233, \"tickets_paid\": 746, \"repayment_rate\": 0.6050283860502839}, {\"violation_code\": \"0940060\", \"violation_description\": \"PARK/STAND ON BICYCLE PATH\", \"total_tickets\": 236, \"tickets_paid\": 161, \"repayment_rate\": 0.6822033898305084}, {\"violation_code\": \"0940080\", \"violation_description\": \"PARKED/STANDING UNATTENDED W/MOTOR RUNNI\", \"total_tickets\": 81, \"tickets_paid\": 40, \"repayment_rate\": 0.49382716049382713}, {\"violation_code\": \"0940170\", \"violation_description\": \"UNSAFE CONDITION\", \"total_tickets\": 64, \"tickets_paid\": 35, \"repayment_rate\": 0.546875}, {\"violation_code\": \"0940220\", \"violation_description\": \"NO OPERATOR SIGNAL\", \"total_tickets\": 32, \"tickets_paid\": 21, \"repayment_rate\": 0.65625}, {\"violation_code\": \"0964020A\", \"violation_description\": \"WRONG DIRECTION OR 12'' FROM CURB\", \"total_tickets\": 1111, \"tickets_paid\": 860, \"repayment_rate\": 0.774077407740774}, {\"violation_code\": \"0964020B\", \"violation_description\": \"OBSTRUCT ROADWAY\", \"total_tickets\": 1577, \"tickets_paid\": 799, \"repayment_rate\": 0.5066582117945466}, {\"violation_code\": \"0964020C\", \"violation_description\": \"PARK MOTORCYCLE/SCOOTER PARK AT 90 DEGREE ANGLE\", \"total_tickets\": 14, \"tickets_paid\": 10, \"repayment_rate\": 0.7142857142857143}, {\"violation_code\": \"0964030B\", \"violation_description\": \"OUTSIDE DIAGONAL MARKINGS\", \"total_tickets\": 110, \"tickets_paid\": 80, \"repayment_rate\": 0.7272727272727273}, {\"violation_code\": \"0964040B\", \"violation_description\": \"STREET CLEANING\", \"total_tickets\": 28712, \"tickets_paid\": 23426, \"repayment_rate\": 0.8158957926999164}, {\"violation_code\": \"0964040B\", \"violation_description\": \"STREET CLEANING OR SPECIAL EVENT\", \"total_tickets\": 3370, \"tickets_paid\": 2659, \"repayment_rate\": 0.7890207715133531}, {\"violation_code\": \"0964041\", \"violation_description\": \"SPECIAL EVENTS RESTRICTION\", \"total_tickets\": 245, \"tickets_paid\": 201, \"repayment_rate\": 0.8204081632653061}, {\"violation_code\": \"0964041B\", \"violation_description\": \"SPECIAL EVENTS RESTRICTION\", \"total_tickets\": 217, \"tickets_paid\": 157, \"repayment_rate\": 0.7235023041474654}, {\"violation_code\": \"0964041B\", \"violation_description\": \"Special Events\", \"total_tickets\": 25, \"tickets_paid\": 17, \"repayment_rate\": 0.68}, {\"violation_code\": \"0964050I\", \"violation_description\": \"DISABLED PARKING\", \"total_tickets\": 5, \"tickets_paid\": 3, \"repayment_rate\": 0.6}, {\"violation_code\": \"0964050J\", \"violation_description\": \"DISABLED PARKING ZONE\", \"total_tickets\": 2034, \"tickets_paid\": 1153, \"repayment_rate\": 0.5668633235004916}, {\"violation_code\": \"0964050J*\", \"violation_description\": \"INVALID PLACARD\", \"total_tickets\": 5, \"tickets_paid\": 3, \"repayment_rate\": 0.6}, {\"violation_code\": \"0964060\", \"violation_description\": \"3-7 AM SNOW ROUTE\", \"total_tickets\": 827, \"tickets_paid\": 605, \"repayment_rate\": 0.7315598548972189}, {\"violation_code\": \"0964060B\", \"violation_description\": \"3-7 AM SNOW ROUTE\", \"total_tickets\": 12, \"tickets_paid\": 8, \"repayment_rate\": 0.6666666666666666}, {\"violation_code\": \"0964070\", \"violation_description\": \"SNOW ROUTE: 2' OF SNOW OR MORE\", \"total_tickets\": 20, \"tickets_paid\": 13, \"repayment_rate\": 0.65}, {\"violation_code\": \"0964070\", \"violation_description\": \"SNOW ROUTE: 2'' OF SNOW OR MORE\", \"total_tickets\": 144, \"tickets_paid\": 101, \"repayment_rate\": 0.7013888888888888}, {\"violation_code\": \"0964080A\", \"violation_description\": \"RUSH HOUR PARKING\", \"total_tickets\": 11965, \"tickets_paid\": 9279, \"repayment_rate\": 0.7755119097367321}, {\"violation_code\": \"0964080B\", \"violation_description\": \"NO STANDING/PARKING TIME RESTRICTED\", \"total_tickets\": 8640, \"tickets_paid\": 6548, \"repayment_rate\": 0.7578703703703704}, {\"violation_code\": \"0964090E\", \"violation_description\": \"RESIDENTIAL PERMIT PARKING\", \"total_tickets\": 23683, \"tickets_paid\": 17667, \"repayment_rate\": 0.7459781277709749}, {\"violation_code\": \"0964091\", \"violation_description\": \"INDUSTRIAL PERMIT PARKING\", \"total_tickets\": 117, \"tickets_paid\": 99, \"repayment_rate\": 0.8461538461538461}, {\"violation_code\": \"0964091B\", \"violation_description\": \"INDUSTRIAL PERMIT PARKING\", \"total_tickets\": 3, \"tickets_paid\": 1, \"repayment_rate\": 0.3333333333333333}, {\"violation_code\": \"0964100A\", \"violation_description\": \"WITHIN 15' OF FIRE HYDRANT\", \"total_tickets\": 6104, \"tickets_paid\": 4203, \"repayment_rate\": 0.688564875491481}, {\"violation_code\": \"0964100B\", \"violation_description\": \"PARK IN FIRE LANE\", \"total_tickets\": 86, \"tickets_paid\": 49, \"repayment_rate\": 0.5697674418604651}, {\"violation_code\": \"0964100C\", \"violation_description\": \"BLOCK ACCESS/ALLEY/DRIVEWAY/FIRELANE\", \"total_tickets\": 1579, \"tickets_paid\": 1044, \"repayment_rate\": 0.6611779607346422}, {\"violation_code\": \"0964100D\", \"violation_description\": \"DISABLED CURB CUT\", \"total_tickets\": 436, \"tickets_paid\": 340, \"repayment_rate\": 0.7798165137614679}, {\"violation_code\": \"0964100E\", \"violation_description\": \"UNDER FIRE ESCAPE\", \"total_tickets\": 42, \"tickets_paid\": 30, \"repayment_rate\": 0.7142857142857143}, {\"violation_code\": \"0964100F\", \"violation_description\": \"20'OF CROSSWALK\", \"total_tickets\": 393, \"tickets_paid\": 284, \"repayment_rate\": 0.72264631043257}, {\"violation_code\": \"0964100G\", \"violation_description\": \"STOP SIGN OR TRAFFIC SIGNAL\", \"total_tickets\": 2191, \"tickets_paid\": 1777, \"repayment_rate\": 0.8110451848471018}, {\"violation_code\": \"0964100H\", \"violation_description\": \"THEATER ENTRANCE/EXIT\", \"total_tickets\": 4, \"tickets_paid\": 1, \"repayment_rate\": 0.25}, {\"violation_code\": \"0964110A\", \"violation_description\": \"DOUBLE PARKING OR STANDING\", \"total_tickets\": 2904, \"tickets_paid\": 1747, \"repayment_rate\": 0.6015840220385675}, {\"violation_code\": \"0964110B\", \"violation_description\": \"PARK OR STAND WITHIN INTERSECTION\", \"total_tickets\": 26, \"tickets_paid\": 19, \"repayment_rate\": 0.7307692307692307}, {\"violation_code\": \"0964110C\", \"violation_description\": \"PARK OR STAND ON CROSSWALK\", \"total_tickets\": 1953, \"tickets_paid\": 1402, \"repayment_rate\": 0.7178699436763953}, {\"violation_code\": \"0964110D\", \"violation_description\": \"PARK OR STAND ON SIDEWALK\", \"total_tickets\": 1036, \"tickets_paid\": 713, \"repayment_rate\": 0.6882239382239382}, {\"violation_code\": \"0964110E\", \"violation_description\": \"PARK OR STAND ON PARKWAY\", \"total_tickets\": 495, \"tickets_paid\": 362, \"repayment_rate\": 0.7313131313131314}, {\"violation_code\": \"0964110F\", \"violation_description\": \"PARK OR STAND ON BRIDGE\", \"total_tickets\": 40, \"tickets_paid\": 29, \"repayment_rate\": 0.725}, {\"violation_code\": \"0964110G\", \"violation_description\": \"PARK OR STAND IN VIADUCT/UNDERPASS\", \"total_tickets\": 247, \"tickets_paid\": 183, \"repayment_rate\": 0.7408906882591093}, {\"violation_code\": \"0964110H\", \"violation_description\": \"PARK OR STAND ON OR WITHIN 10' RR TRACKS\", \"total_tickets\": 17, \"tickets_paid\": 11, \"repayment_rate\": 0.6470588235294118}, {\"violation_code\": \"0964120A\", \"violation_description\": \"PARK OR STAND ON CITY PROPERTY\", \"total_tickets\": 183, \"tickets_paid\": 77, \"repayment_rate\": 0.4207650273224044}, {\"violation_code\": \"0964120B\", \"violation_description\": \"PARK OR STAND ON CHA PROPERTY\", \"total_tickets\": 62, \"tickets_paid\": 38, \"repayment_rate\": 0.6129032258064516}, {\"violation_code\": \"0964125\", \"violation_description\": \"NO CITY STICKER OR IMPROPER DISPLAY\", \"total_tickets\": 10758, \"tickets_paid\": 5973, \"repayment_rate\": 0.5552147239263804}, {\"violation_code\": \"0964125B\", \"violation_description\": \"NO CITY STICKER VEHICLE UNDER/EQUAL TO 16,000 LBS.\", \"total_tickets\": 14246, \"tickets_paid\": 6160, \"repayment_rate\": 0.43240207777621786}, {\"violation_code\": \"0964125C\", \"violation_description\": \"NO CITY STICKER VEHICLE OVER 16,000 LBS.\", \"total_tickets\": 131, \"tickets_paid\": 19, \"repayment_rate\": 0.1450381679389313}, {\"violation_code\": \"0964125D\", \"violation_description\": \"IMPROPER DISPLAY OF CITY STICKER\", \"total_tickets\": 399, \"tickets_paid\": 306, \"repayment_rate\": 0.7669172932330827}, {\"violation_code\": \"0964130\", \"violation_description\": \"PARK OR BLOCK ALLEY\", \"total_tickets\": 2050, \"tickets_paid\": 1109, \"repayment_rate\": 0.5409756097560976}, {\"violation_code\": \"0964130A\", \"violation_description\": \"PARK ALLEY\", \"total_tickets\": 998, \"tickets_paid\": 426, \"repayment_rate\": 0.42685370741482964}, {\"violation_code\": \"0964130B\", \"violation_description\": \"BLOCK ALLEY\", \"total_tickets\": 20, \"tickets_paid\": 13, \"repayment_rate\": 0.65}, {\"violation_code\": \"0964140B\", \"violation_description\": \"PARK OR STAND IN BUS/TAXI/CARRIAGE STAND\", \"total_tickets\": 6004, \"tickets_paid\": 4051, \"repayment_rate\": 0.6747168554297135}, {\"violation_code\": \"0964150A\", \"violation_description\": \"PARK OR STAND NEAR FIRE STATION OR RR XX\", \"total_tickets\": 7, \"tickets_paid\": 4, \"repayment_rate\": 0.5714285714285714}, {\"violation_code\": \"0964150B\", \"violation_description\": \"PARKING/STANDING PROHIBITED ANYTIME\", \"total_tickets\": 19753, \"tickets_paid\": 14038, \"repayment_rate\": 0.710676859211259}, {\"violation_code\": \"0964160A\", \"violation_description\": \"CURB LOADING ZONE\", \"total_tickets\": 1, \"tickets_paid\": 1, \"repayment_rate\": 1.0}, {\"violation_code\": \"0964160B\", \"violation_description\": \"CURB LOADING ZONE\", \"total_tickets\": 1204, \"tickets_paid\": 850, \"repayment_rate\": 0.7059800664451827}, {\"violation_code\": \"0964160C\", \"violation_description\": \"NO DISPLAY OF BACK-IN PERMIT\", \"total_tickets\": 5, \"tickets_paid\": 3, \"repayment_rate\": 0.6}, {\"violation_code\": \"0964170A\", \"violation_description\": \"TRUCK,RV,BUS, OR TAXI RESIDENTIAL STREET\", \"total_tickets\": 4789, \"tickets_paid\": 3332, \"repayment_rate\": 0.6957611192315724}, {\"violation_code\": \"0964170B\", \"violation_description\": \"TRUCK,MOTOR HOME, BUS BUSINESS STREET\", \"total_tickets\": 456, \"tickets_paid\": 314, \"repayment_rate\": 0.6885964912280702}, {\"violation_code\": \"0964170C\", \"violation_description\": \"VEH 6' OR HIGHER WITHIN 20' OF CROSSWALK\", \"total_tickets\": 41, \"tickets_paid\": 30, \"repayment_rate\": 0.7317073170731707}, {\"violation_code\": \"0964170D\", \"violation_description\": \"TRUCK OR SEMI-TRAILER PROHIBITED\", \"total_tickets\": 145, \"tickets_paid\": 78, \"repayment_rate\": 0.5379310344827586}, {\"violation_code\": \"0964170D\", \"violation_description\": \"TRUCK TRAILOR/SEMI/TRAILER PROHIBITED\", \"total_tickets\": 157, \"tickets_paid\": 72, \"repayment_rate\": 0.4585987261146497}, {\"violation_code\": \"0964180A\", \"violation_description\": \"NO PARKING IN LOOP\", \"total_tickets\": 34, \"tickets_paid\": 20, \"repayment_rate\": 0.5882352941176471}, {\"violation_code\": \"0964190\", \"violation_description\": \"EXPIRED METER OR OVERSTAY\", \"total_tickets\": 18756, \"tickets_paid\": 15122, \"repayment_rate\": 0.8062486670931969}, {\"violation_code\": \"0964190A\", \"violation_description\": \"EXP. METER NON-CENTRAL BUSINESS DISTRICT\", \"total_tickets\": 20600, \"tickets_paid\": 16387, \"repayment_rate\": 0.7954854368932038}, {\"violation_code\": \"0964190B\", \"violation_description\": \"EXPIRED METER CENTRAL BUSINESS DISTRICT\", \"total_tickets\": 9736, \"tickets_paid\": 7279, \"repayment_rate\": 0.7476376335250616}, {\"violation_code\": \"0964190C\", \"violation_description\": \"NON PYMT/NON-COM VEH PARKED IN COM LOADING ZONE\", \"total_tickets\": 100, \"tickets_paid\": 45, \"repayment_rate\": 0.45}, {\"violation_code\": \"0964200B\", \"violation_description\": \"OUTSIDE METERED SPACE\", \"total_tickets\": 63, \"tickets_paid\": 49, \"repayment_rate\": 0.7777777777777778}, {\"violation_code\": \"0964200B\", \"violation_description\": \"PARK OUTSIDE METERED SPACE\", \"total_tickets\": 278, \"tickets_paid\": 165, \"repayment_rate\": 0.5935251798561151}, {\"violation_code\": \"0964210\", \"violation_description\": \"FAIL TO DISPLAY TV NEWS PERMIT\", \"total_tickets\": 20, \"tickets_paid\": 13, \"repayment_rate\": 0.65}, {\"violation_code\": \"0968040I\", \"violation_description\": \"PARK/STAND IN WRIGLEY BUS PERMIT ZONE\", \"total_tickets\": 4, \"tickets_paid\": 3, \"repayment_rate\": 0.75}, {\"violation_code\": \"0976010A\", \"violation_description\": \"BRAKES REQUIRED DURING OPERATION\", \"total_tickets\": 1, \"tickets_paid\": 1, \"repayment_rate\": 1.0}, {\"violation_code\": \"0976020A\", \"violation_description\": \"SERVICE BRAKES:STOPPING CAPABILITY\", \"total_tickets\": 6, \"tickets_paid\": 5, \"repayment_rate\": 0.8333333333333334}, {\"violation_code\": \"0976020B\", \"violation_description\": \"HAND BRAKES:PROPER STOPPING CAPABILITY\", \"total_tickets\": 1, \"tickets_paid\": 1, \"repayment_rate\": 1.0}, {\"violation_code\": \"0976020E\", \"violation_description\": \"BRAKES REQUIRED IN GOOD WORKING ORDER\", \"total_tickets\": 1, \"tickets_paid\": 1, \"repayment_rate\": 1.0}, {\"violation_code\": \"0976040A\", \"violation_description\": \"HORN REQUIRED DURING OPERATION\", \"total_tickets\": 2, \"tickets_paid\": 0, \"repayment_rate\": 0.0}, {\"violation_code\": \"0976040B\", \"violation_description\": \"USE OF SIREN/BELL/WHISTLE PROHIBITED\", \"total_tickets\": 4, \"tickets_paid\": 3, \"repayment_rate\": 0.75}, {\"violation_code\": \"0976050A\", \"violation_description\": \"MOTORCYCLE HEAD LAMP VISIBLE 500'\", \"total_tickets\": 7, \"tickets_paid\": 2, \"repayment_rate\": 0.2857142857142857}, {\"violation_code\": \"0976050B\", \"violation_description\": \"TWO HEAD LAMPS REQUIRED VISIBLE 1000'\", \"total_tickets\": 443, \"tickets_paid\": 266, \"repayment_rate\": 0.600451467268623}, {\"violation_code\": \"0976050C\", \"violation_description\": \"RED REAR LAMP REQUIRED VISIBLE 500'\", \"total_tickets\": 115, \"tickets_paid\": 64, \"repayment_rate\": 0.5565217391304348}, {\"violation_code\": \"0976050D\", \"violation_description\": \"REAR PLATE LIT AND LEGIBLE FOR 50'\", \"total_tickets\": 110, \"tickets_paid\": 62, \"repayment_rate\": 0.5636363636363636}, {\"violation_code\": \"0976050E\", \"violation_description\": \"2 REAR TRAILER LAMPS REQ'D VISIBLE 500'\", \"total_tickets\": 4, \"tickets_paid\": 1, \"repayment_rate\": 0.25}, {\"violation_code\": \"0976070A\", \"violation_description\": \"IMPROPER SIDE COWL/FENDER LAMPS\", \"total_tickets\": 3, \"tickets_paid\": 2, \"repayment_rate\": 0.6666666666666666}, {\"violation_code\": \"0976070C\", \"violation_description\": \"BACK-UP LAMP LIT DURING OPERATION\", \"total_tickets\": 2, \"tickets_paid\": 2, \"repayment_rate\": 1.0}, {\"violation_code\": \"0976070D\", \"violation_description\": \"MORE THAN FOUR FRONT MOUNTED LAMPS\", \"total_tickets\": 1, \"tickets_paid\": 1, \"repayment_rate\": 1.0}, {\"violation_code\": \"0976080\", \"violation_description\": \"IMPROPER LAMPS NON-MOTOR VEHICLE\", \"total_tickets\": 9, \"tickets_paid\": 5, \"repayment_rate\": 0.5555555555555556}, {\"violation_code\": \"0976090B\", \"violation_description\": \"IMPROPER LAMP FOR PARKED VEH ON UNLIT ST\", \"total_tickets\": 9, \"tickets_paid\": 6, \"repayment_rate\": 0.6666666666666666}, {\"violation_code\": \"0976090C\", \"violation_description\": \"DEPR./DIMMED LAMPS\", \"total_tickets\": 4, \"tickets_paid\": 0, \"repayment_rate\": 0.0}, {\"violation_code\": \"0976100A\", \"violation_description\": \"SUSPENSION MODIFIED BEYOND 3\", \"total_tickets\": 1, \"tickets_paid\": 0, \"repayment_rate\": 0.0}, {\"violation_code\": \"0976110A\", \"violation_description\": \"PROPER FRONT AND REAR BUMPERS REQUIRED\", \"total_tickets\": 21, \"tickets_paid\": 11, \"repayment_rate\": 0.5238095238095238}, {\"violation_code\": \"0976120\", \"violation_description\": \"REAR VIEW MIRROR REQUIRED\", \"total_tickets\": 27, \"tickets_paid\": 20, \"repayment_rate\": 0.7407407407407407}, {\"violation_code\": \"0976130\", \"violation_description\": \"TWO RED REAR TRAILER REFLECTORS REQUIRED\", \"total_tickets\": 1, \"tickets_paid\": 1, \"repayment_rate\": 1.0}, {\"violation_code\": \"0976140A\", \"violation_description\": \"NO OR IMPROPER MUFFLER\", \"total_tickets\": 9, \"tickets_paid\": 5, \"repayment_rate\": 0.5555555555555556}, {\"violation_code\": \"0976140B\", \"violation_description\": \"EXCESS FUMES/SMOKE DURING OPERATION\", \"total_tickets\": 12, \"tickets_paid\": 7, \"repayment_rate\": 0.5833333333333334}, {\"violation_code\": \"0976150B\", \"violation_description\": \"BURGLAR ALARM SOUNDING OVER 4 MINUTES\", \"total_tickets\": 102, \"tickets_paid\": 78, \"repayment_rate\": 0.7647058823529411}, {\"violation_code\": \"0976160A\", \"violation_description\": \"MISSING/NONCOMPLIANT FRONT AND/OR REAR PLATE\", \"total_tickets\": 1024, \"tickets_paid\": 331, \"repayment_rate\": 0.3232421875}, {\"violation_code\": \"0976160A\", \"violation_description\": \"REAR AND FRONT PLATE REQUIRED\", \"total_tickets\": 15829, \"tickets_paid\": 8461, \"repayment_rate\": 0.5345252384863226}, {\"violation_code\": \"0976160B\", \"violation_description\": \"EXPIRED PLATE OR TEMPORARY REGISTRATION\", \"total_tickets\": 2720, \"tickets_paid\": 1120, \"repayment_rate\": 0.4117647058823529}, {\"violation_code\": \"0976160B\", \"violation_description\": \"REAR PLATE REQUIRED MOTORCYCLE/TRAILER\", \"total_tickets\": 352, \"tickets_paid\": 202, \"repayment_rate\": 0.5738636363636364}, {\"violation_code\": \"0976160C\", \"violation_description\": \"FRONT PLATE REQUIRED FOR TRUCK TRACTORS\", \"total_tickets\": 21, \"tickets_paid\": 12, \"repayment_rate\": 0.5714285714285714}, {\"violation_code\": \"0976160D\", \"violation_description\": \"NONCOMPLIANT PLATE(S)\", \"total_tickets\": 1920, \"tickets_paid\": 1186, \"repayment_rate\": 0.6177083333333333}, {\"violation_code\": \"0976160F\", \"violation_description\": \"EXPIRED PLATES OR TEMPORARY REGISTRATION\", \"total_tickets\": 44811, \"tickets_paid\": 27248, \"repayment_rate\": 0.6080649840440964}, {\"violation_code\": \"0976170\", \"violation_description\": \"NO CITY STICKER OR IMPROPER DISPLAY\", \"total_tickets\": 15, \"tickets_paid\": 10, \"repayment_rate\": 0.6666666666666666}, {\"violation_code\": \"0976180A\", \"violation_description\": \"SAFETY BELTS REQUIRED\", \"total_tickets\": 981, \"tickets_paid\": 700, \"repayment_rate\": 0.7135575942915392}, {\"violation_code\": \"0976180B\", \"violation_description\": \"SAFETY BELTS REQUIRED ON SCHOOL BUS\", \"total_tickets\": 54, \"tickets_paid\": 38, \"repayment_rate\": 0.7037037037037037}, {\"violation_code\": \"0976190\", \"violation_description\": \"COMMERCIAL IDENTIFICATION ETC. REQUIRED\", \"total_tickets\": 1, \"tickets_paid\": 1, \"repayment_rate\": 1.0}, {\"violation_code\": \"0976200A\", \"violation_description\": \"PROJECTING LOAD (LEFT OR RIGHT SIDE)\", \"total_tickets\": 6, \"tickets_paid\": 3, \"repayment_rate\": 0.5}, {\"violation_code\": \"0976200B\", \"violation_description\": \"PROJECTING LOAD (REAR)\", \"total_tickets\": 3, \"tickets_paid\": 3, \"repayment_rate\": 1.0}, {\"violation_code\": \"0976210A\", \"violation_description\": \"LAMPS BROKEN OR INOPERABLE\", \"total_tickets\": 162, \"tickets_paid\": 97, \"repayment_rate\": 0.5987654320987654}, {\"violation_code\": \"0976210B\", \"violation_description\": \"WINDOWS MISSING OR CRACKED BEYOND 6\", \"total_tickets\": 576, \"tickets_paid\": 351, \"repayment_rate\": 0.609375}, {\"violation_code\": \"0976220A\", \"violation_description\": \"OBSTRUCTED OR IMPROPERLY TINTED WINDOWS\", \"total_tickets\": 271, \"tickets_paid\": 155, \"repayment_rate\": 0.5719557195571956}, {\"violation_code\": \"0976220B\", \"violation_description\": \"SMOKED/TINTED WINDOWS PARKED/STANDING\", \"total_tickets\": 1697, \"tickets_paid\": 1086, \"repayment_rate\": 0.6399528579846788}, {\"violation_code\": \"0980080A\", \"violation_description\": \"PARK VEHICLE SOLE PURPOSE OF DISPLAYING FOR SALE\", \"total_tickets\": 664, \"tickets_paid\": 129, \"repayment_rate\": 0.19427710843373494}, {\"violation_code\": \"0980080B\", \"violation_description\": \"PARK VEHICLE TO GREASE OR REPAIR\", \"total_tickets\": 34, \"tickets_paid\": 14, \"repayment_rate\": 0.4117647058823529}, {\"violation_code\": \"0980080C\", \"violation_description\": \"PARK VEHICLE TO SELL MERCHANDISE\", \"total_tickets\": 12, \"tickets_paid\": 4, \"repayment_rate\": 0.3333333333333333}, {\"violation_code\": \"0980095\", \"violation_description\": \"EXCESSIVE DIESEL POWERED VEHICLE ENGINE RUNNING\", \"total_tickets\": 4, \"tickets_paid\": 2, \"repayment_rate\": 0.5}, {\"violation_code\": \"0980110A\", \"violation_description\": \"ABANDONED VEH. FOR 7 DAYS OR INOPERABLE\", \"total_tickets\": 1104, \"tickets_paid\": 281, \"repayment_rate\": 0.2545289855072464}, {\"violation_code\": \"0980110B\", \"violation_description\": \"HAZARDOUS DILAPIDATED VEHICLE\", \"total_tickets\": 148, \"tickets_paid\": 37, \"repayment_rate\": 0.25}, {\"violation_code\": \"0980110B\", \"violation_description\": \"HAZARDOUS DILAPITATED VEHICLE\", \"total_tickets\": 298, \"tickets_paid\": 69, \"repayment_rate\": 0.23154362416107382}, {\"violation_code\": \"0980120A\", \"violation_description\": \"NO PARK IN PUBLIC LOT\", \"total_tickets\": 119, \"tickets_paid\": 36, \"repayment_rate\": 0.3025210084033613}, {\"violation_code\": \"0980120B\", \"violation_description\": \"NO PARK IN PRIVATE LOT\", \"total_tickets\": 378, \"tickets_paid\": 220, \"repayment_rate\": 0.582010582010582}, {\"violation_code\": \"0980130A\", \"violation_description\": \"FAIL TO PAY OR OUTSIDE SPACE IN CITY LOT\", \"total_tickets\": 90, \"tickets_paid\": 66, \"repayment_rate\": 0.7333333333333333}, {\"violation_code\": \"0980130B\", \"violation_description\": \"PARK IN CITY LOT WHEN CLOSED\", \"total_tickets\": 225, \"tickets_paid\": 161, \"repayment_rate\": 0.7155555555555555}, {\"violation_code\": \"0980130C\", \"violation_description\": \"PARK IN CITY LOT OVER 30 DAYS\", \"total_tickets\": 9, \"tickets_paid\": 2, \"repayment_rate\": 0.2222222222222222}]}}, {\"mode\": \"vega-lite\"});\n",
       "</script>"
      ],
      "text/plain": [
       "alt.Chart(...)"
      ]
     },
     "metadata": {},
     "output_type": "display_data"
    },
    {
     "name": "stdout",
     "output_type": "stream",
     "text": [
      "Top 3 Violation Types to Increase Prices:\n",
      "    violation_code                     violation_description  total_tickets  \\\n",
      "101       0976160F  EXPIRED PLATES OR TEMPORARY REGISTRATION          44811   \n",
      "9         0964040B                           STREET CLEANING          28712   \n",
      "23        0964090E                RESIDENTIAL PERMIT PARKING          23683   \n",
      "\n",
      "     repayment_rate  \n",
      "101        0.608065  \n",
      "9          0.815896  \n",
      "23         0.745978  \n",
      "    violation_code                     violation_description  total_tickets  \\\n",
      "101       0976160F  EXPIRED PLATES OR TEMPORARY REGISTRATION          44811   \n",
      "9         0964040B                           STREET CLEANING          28712   \n",
      "23        0964090E                RESIDENTIAL PERMIT PARKING          23683   \n",
      "\n",
      "     tickets_paid  repayment_rate  \n",
      "101         27248        0.608065  \n",
      "9           23426        0.815896  \n",
      "23          17667        0.745978  \n"
     ]
    }
   ],
   "source": [
    "df['paid'] = df['total_payments'] > 0\n",
    "violation_stats = df.groupby(['violation_code', 'violation_description']).agg(\n",
    "    total_tickets=('violation_code', 'size'),\n",
    "    tickets_paid=('paid', 'sum')\n",
    ").reset_index()\n",
    "\n",
    "# Calculate repayment rate for each violation type\n",
    "violation_stats['repayment_rate'] = violation_stats['tickets_paid'] / violation_stats['total_tickets']\n",
    "\n",
    "# Step 3: Identify the top 3 violations with high ticket counts and repayment rates\n",
    "# We can sort by 'total_tickets' and 'repayment_rate' to find the top violations\n",
    "top_violations = violation_stats.sort_values(by=['total_tickets', 'repayment_rate'], ascending=[False, False]).head(3)\n",
    "\n",
    "# Step 4: Create a plot to visualize the number of tickets and repayment rate\n",
    "violation_chart = alt.Chart(violation_stats).mark_circle(size=60).encode(\n",
    "    x=alt.X('total_tickets:Q', title='Total Tickets Issued'),\n",
    "    y=alt.Y('repayment_rate:Q', title='Repayment Rate'),\n",
    "    color=alt.condition(\n",
    "        alt.FieldOneOfPredicate(field='violation_code', oneOf=top_violations['violation_code'].tolist()),\n",
    "        alt.value('red'),  # Highlight top 3 violations\n",
    "        alt.value('blue')  # Other violations\n",
    "    ),\n",
    "    tooltip=['violation_code', 'total_tickets', 'repayment_rate']\n",
    ").properties(\n",
    "    title='Violation Types: Total Tickets Issued vs. Repayment Rate'\n",
    ")\n",
    "\n",
    "# Display the chart\n",
    "violation_chart.show()\n",
    "\n",
    "# Display the top 3 recommended violation types for increasing prices\n",
    "print(\"Top 3 Violation Types to Increase Prices:\")\n",
    "print(top_violations[['violation_code', 'violation_description', 'total_tickets', 'repayment_rate']])\n",
    "\n",
    "print(top_violations)"
   ]
  },
  {
   "cell_type": "code",
   "execution_count": null,
   "id": "ee9c0bb1-b412-47a2-b9b2-78f5cce28191",
   "metadata": {
    "vscode": {
     "languageId": "quarto"
    }
   },
   "outputs": [
    {
     "ename": "KeyError",
     "evalue": "\"Column(s) ['fine_amount'] do not exist\"",
     "output_type": "error",
     "traceback": [
      "\u001b[0;31m---------------------------------------------------------------------------\u001b[0m",
      "\u001b[0;31mKeyError\u001b[0m                                  Traceback (most recent call last)",
      "File \u001b[1;32m/Users/hkkkkk/Documents/GitHub/ppha30538_fall2024/30538-dap-ii-problem-set-2-ps2-dap2-python-fall2024/pset2_template.qmd:1\u001b[0m\n\u001b[0;32m----> 1\u001b[0m violation_summary \u001b[39m=\u001b[39m df\u001b[39m.\u001b[39mgroupby(\u001b[39m'\u001b[39m\u001b[39mviolation_description\u001b[39m\u001b[39m'\u001b[39m)\u001b[39m.\u001b[39magg(\n\u001b[1;32m      2\u001b[0m     total_tickets\u001b[39m=\u001b[39m(\u001b[39m'\u001b[39m\u001b[39mviolation_description\u001b[39m\u001b[39m'\u001b[39m, \u001b[39m'\u001b[39m\u001b[39msize\u001b[39m\u001b[39m'\u001b[39m),\n\u001b[1;32m      3\u001b[0m     tickets_paid\u001b[39m=\u001b[39m(\u001b[39m'\u001b[39m\u001b[39mpaid\u001b[39m\u001b[39m'\u001b[39m, \u001b[39m'\u001b[39m\u001b[39msum\u001b[39m\u001b[39m'\u001b[39m),\n\u001b[1;32m      4\u001b[0m     avg_fine\u001b[39m=\u001b[39m(\u001b[39m'\u001b[39m\u001b[39mfine_amount\u001b[39m\u001b[39m'\u001b[39m, \u001b[39m'\u001b[39m\u001b[39mmean\u001b[39m\u001b[39m'\u001b[39m)  \u001b[39m# Adjust this column if the fine is named differently\u001b[39;00m\n\u001b[1;32m      5\u001b[0m )\u001b[39m.\u001b[39mreset_index()\n\u001b[1;32m      7\u001b[0m \u001b[39m# Calculate the repayment rate (fraction of tickets paid)\u001b[39;00m\n\u001b[1;32m      8\u001b[0m violation_summary[\u001b[39m'\u001b[39m\u001b[39mrepayment_rate\u001b[39m\u001b[39m'\u001b[39m] \u001b[39m=\u001b[39m violation_summary[\u001b[39m'\u001b[39m\u001b[39mtickets_paid\u001b[39m\u001b[39m'\u001b[39m] \u001b[39m/\u001b[39m violation_summary[\u001b[39m'\u001b[39m\u001b[39mtotal_tickets\u001b[39m\u001b[39m'\u001b[39m]\n",
      "File \u001b[0;32m/opt/anaconda3/lib/python3.11/site-packages/pandas/core/groupby/generic.py:1432\u001b[0m, in \u001b[0;36mDataFrameGroupBy.aggregate\u001b[0;34m(self, func, engine, engine_kwargs, *args, **kwargs)\u001b[0m\n\u001b[1;32m   1429\u001b[0m     kwargs[\u001b[39m\"\u001b[39m\u001b[39mengine_kwargs\u001b[39m\u001b[39m\"\u001b[39m] \u001b[39m=\u001b[39m engine_kwargs\n\u001b[1;32m   1431\u001b[0m op \u001b[39m=\u001b[39m GroupByApply(\u001b[39mself\u001b[39m, func, args\u001b[39m=\u001b[39margs, kwargs\u001b[39m=\u001b[39mkwargs)\n\u001b[0;32m-> 1432\u001b[0m result \u001b[39m=\u001b[39m op\u001b[39m.\u001b[39magg()\n\u001b[1;32m   1433\u001b[0m \u001b[39mif\u001b[39;00m \u001b[39mnot\u001b[39;00m is_dict_like(func) \u001b[39mand\u001b[39;00m result \u001b[39mis\u001b[39;00m \u001b[39mnot\u001b[39;00m \u001b[39mNone\u001b[39;00m:\n\u001b[1;32m   1434\u001b[0m     \u001b[39m# GH #52849\u001b[39;00m\n\u001b[1;32m   1435\u001b[0m     \u001b[39mif\u001b[39;00m \u001b[39mnot\u001b[39;00m \u001b[39mself\u001b[39m\u001b[39m.\u001b[39mas_index \u001b[39mand\u001b[39;00m is_list_like(func):\n",
      "File \u001b[0;32m/opt/anaconda3/lib/python3.11/site-packages/pandas/core/apply.py:190\u001b[0m, in \u001b[0;36mApply.agg\u001b[0;34m(self)\u001b[0m\n\u001b[1;32m    187\u001b[0m     \u001b[39mreturn\u001b[39;00m \u001b[39mself\u001b[39m\u001b[39m.\u001b[39mapply_str()\n\u001b[1;32m    189\u001b[0m \u001b[39mif\u001b[39;00m is_dict_like(func):\n\u001b[0;32m--> 190\u001b[0m     \u001b[39mreturn\u001b[39;00m \u001b[39mself\u001b[39m\u001b[39m.\u001b[39magg_dict_like()\n\u001b[1;32m    191\u001b[0m \u001b[39melif\u001b[39;00m is_list_like(func):\n\u001b[1;32m    192\u001b[0m     \u001b[39m# we require a list, but not a 'str'\u001b[39;00m\n\u001b[1;32m    193\u001b[0m     \u001b[39mreturn\u001b[39;00m \u001b[39mself\u001b[39m\u001b[39m.\u001b[39magg_list_like()\n",
      "File \u001b[0;32m/opt/anaconda3/lib/python3.11/site-packages/pandas/core/apply.py:423\u001b[0m, in \u001b[0;36mApply.agg_dict_like\u001b[0;34m(self)\u001b[0m\n\u001b[1;32m    415\u001b[0m \u001b[39mdef\u001b[39;00m \u001b[39magg_dict_like\u001b[39m(\u001b[39mself\u001b[39m) \u001b[39m-\u001b[39m\u001b[39m>\u001b[39m DataFrame \u001b[39m|\u001b[39m Series:\n\u001b[1;32m    416\u001b[0m \u001b[39m    \u001b[39m\u001b[39m\"\"\"\u001b[39;00m\n\u001b[1;32m    417\u001b[0m \u001b[39m    Compute aggregation in the case of a dict-like argument.\u001b[39;00m\n\u001b[1;32m    418\u001b[0m \n\u001b[0;32m   (...)\u001b[0m\n\u001b[1;32m    421\u001b[0m \u001b[39m    Result of aggregation.\u001b[39;00m\n\u001b[1;32m    422\u001b[0m \u001b[39m    \"\"\"\u001b[39;00m\n\u001b[0;32m--> 423\u001b[0m     \u001b[39mreturn\u001b[39;00m \u001b[39mself\u001b[39m\u001b[39m.\u001b[39magg_or_apply_dict_like(op_name\u001b[39m=\u001b[39m\u001b[39m\"\u001b[39m\u001b[39magg\u001b[39m\u001b[39m\"\u001b[39m)\n",
      "File \u001b[0;32m/opt/anaconda3/lib/python3.11/site-packages/pandas/core/apply.py:1608\u001b[0m, in \u001b[0;36mGroupByApply.agg_or_apply_dict_like\u001b[0;34m(self, op_name)\u001b[0m\n\u001b[1;32m   1603\u001b[0m     kwargs\u001b[39m.\u001b[39mupdate({\u001b[39m\"\u001b[39m\u001b[39mengine\u001b[39m\u001b[39m\"\u001b[39m: engine, \u001b[39m\"\u001b[39m\u001b[39mengine_kwargs\u001b[39m\u001b[39m\"\u001b[39m: engine_kwargs})\n\u001b[1;32m   1605\u001b[0m \u001b[39mwith\u001b[39;00m com\u001b[39m.\u001b[39mtemp_setattr(\n\u001b[1;32m   1606\u001b[0m     obj, \u001b[39m\"\u001b[39m\u001b[39mas_index\u001b[39m\u001b[39m\"\u001b[39m, \u001b[39mTrue\u001b[39;00m, condition\u001b[39m=\u001b[39m\u001b[39mhasattr\u001b[39m(obj, \u001b[39m\"\u001b[39m\u001b[39mas_index\u001b[39m\u001b[39m\"\u001b[39m)\n\u001b[1;32m   1607\u001b[0m ):\n\u001b[0;32m-> 1608\u001b[0m     result_index, result_data \u001b[39m=\u001b[39m \u001b[39mself\u001b[39m\u001b[39m.\u001b[39mcompute_dict_like(\n\u001b[1;32m   1609\u001b[0m         op_name, selected_obj, selection, kwargs\n\u001b[1;32m   1610\u001b[0m     )\n\u001b[1;32m   1611\u001b[0m result \u001b[39m=\u001b[39m \u001b[39mself\u001b[39m\u001b[39m.\u001b[39mwrap_results_dict_like(selected_obj, result_index, result_data)\n\u001b[1;32m   1612\u001b[0m \u001b[39mreturn\u001b[39;00m result\n",
      "File \u001b[0;32m/opt/anaconda3/lib/python3.11/site-packages/pandas/core/apply.py:462\u001b[0m, in \u001b[0;36mApply.compute_dict_like\u001b[0;34m(self, op_name, selected_obj, selection, kwargs)\u001b[0m\n\u001b[1;32m    460\u001b[0m is_groupby \u001b[39m=\u001b[39m \u001b[39misinstance\u001b[39m(obj, (DataFrameGroupBy, SeriesGroupBy))\n\u001b[1;32m    461\u001b[0m func \u001b[39m=\u001b[39m cast(AggFuncTypeDict, \u001b[39mself\u001b[39m\u001b[39m.\u001b[39mfunc)\n\u001b[0;32m--> 462\u001b[0m func \u001b[39m=\u001b[39m \u001b[39mself\u001b[39m\u001b[39m.\u001b[39mnormalize_dictlike_arg(op_name, selected_obj, func)\n\u001b[1;32m    464\u001b[0m is_non_unique_col \u001b[39m=\u001b[39m (\n\u001b[1;32m    465\u001b[0m     selected_obj\u001b[39m.\u001b[39mndim \u001b[39m==\u001b[39m \u001b[39m2\u001b[39m\n\u001b[1;32m    466\u001b[0m     \u001b[39mand\u001b[39;00m selected_obj\u001b[39m.\u001b[39mcolumns\u001b[39m.\u001b[39mnunique() \u001b[39m<\u001b[39m \u001b[39mlen\u001b[39m(selected_obj\u001b[39m.\u001b[39mcolumns)\n\u001b[1;32m    467\u001b[0m )\n\u001b[1;32m    469\u001b[0m \u001b[39mif\u001b[39;00m selected_obj\u001b[39m.\u001b[39mndim \u001b[39m==\u001b[39m \u001b[39m1\u001b[39m:\n\u001b[1;32m    470\u001b[0m     \u001b[39m# key only used for output\u001b[39;00m\n",
      "File \u001b[0;32m/opt/anaconda3/lib/python3.11/site-packages/pandas/core/apply.py:663\u001b[0m, in \u001b[0;36mApply.normalize_dictlike_arg\u001b[0;34m(self, how, obj, func)\u001b[0m\n\u001b[1;32m    661\u001b[0m     cols \u001b[39m=\u001b[39m Index(\u001b[39mlist\u001b[39m(func\u001b[39m.\u001b[39mkeys()))\u001b[39m.\u001b[39mdifference(obj\u001b[39m.\u001b[39mcolumns, sort\u001b[39m=\u001b[39m\u001b[39mTrue\u001b[39;00m)\n\u001b[1;32m    662\u001b[0m     \u001b[39mif\u001b[39;00m \u001b[39mlen\u001b[39m(cols) \u001b[39m>\u001b[39m \u001b[39m0\u001b[39m:\n\u001b[0;32m--> 663\u001b[0m         \u001b[39mraise\u001b[39;00m \u001b[39mKeyError\u001b[39;00m(\u001b[39mf\u001b[39m\u001b[39m\"\u001b[39m\u001b[39mColumn(s) \u001b[39m\u001b[39m{\u001b[39;00m\u001b[39mlist\u001b[39m(cols)\u001b[39m}\u001b[39;00m\u001b[39m do not exist\u001b[39m\u001b[39m\"\u001b[39m)\n\u001b[1;32m    665\u001b[0m aggregator_types \u001b[39m=\u001b[39m (\u001b[39mlist\u001b[39m, \u001b[39mtuple\u001b[39m, \u001b[39mdict\u001b[39m)\n\u001b[1;32m    667\u001b[0m \u001b[39m# if we have a dict of any non-scalars\u001b[39;00m\n\u001b[1;32m    668\u001b[0m \u001b[39m# eg. {'A' : ['mean']}, normalize all to\u001b[39;00m\n\u001b[1;32m    669\u001b[0m \u001b[39m# be list-likes\u001b[39;00m\n\u001b[1;32m    670\u001b[0m \u001b[39m# Cannot use func.values() because arg may be a Series\u001b[39;00m\n",
      "\u001b[0;31mKeyError\u001b[0m: \"Column(s) ['fine_amount'] do not exist\""
     ]
    }
   ],
   "source": [
    "violation_summary = df.groupby('violation_description').agg(\n",
    "    total_tickets=('violation_description', 'size'),\n",
    "    tickets_paid=('paid', 'sum'),\n",
    "    avg_fine=('fine_amount', 'mean')  # Adjust this column if the fine is named differently\n",
    ").reset_index()\n",
    "\n",
    "# Calculate the repayment rate (fraction of tickets paid)\n",
    "violation_summary['repayment_rate'] = violation_summary['tickets_paid'] / violation_summary['total_tickets']\n",
    "\n",
    "# Step 3: Sort by total tickets issued\n",
    "violation_summary_sorted = violation_summary.sort_values(by='total_tickets', ascending=False)\n",
    "\n",
    "# Step 4: Print the top 5 most common violation descriptions\n",
    "top_5_violations = violation_summary_sorted.head(5)\n",
    "\n",
    "print(\"Top 5 Most Common Violation Descriptions:\")\n",
    "print(top_5_violations[['violation_description', 'repayment_rate', 'avg_fine', 'total_tickets']])"
   ]
  },
  {
   "cell_type": "code",
   "execution_count": null,
   "id": "34f7b2cc-1b4b-40fe-8cf8-fd933d261188",
   "metadata": {
    "vscode": {
     "languageId": "quarto"
    }
   },
   "outputs": [
    {
     "name": "stdout",
     "output_type": "stream",
     "text": [
      "Top 5 Most Common Violation Descriptions:\n",
      "                        violation_description  repayment_rate  total_tickets\n",
      "23   EXPIRED PLATES OR TEMPORARY REGISTRATION        0.608065          44811\n",
      "101                           STREET CLEANING        0.815896          28712\n",
      "90                 RESIDENTIAL PERMIT PARKING        0.745978          23683\n",
      "19   EXP. METER NON-CENTRAL BUSINESS DISTRICT        0.795485          20600\n",
      "81        PARKING/STANDING PROHIBITED ANYTIME        0.710677          19753\n"
     ]
    }
   ],
   "source": [
    "violation_summary = df.groupby('violation_description').agg(\n",
    "    total_tickets=('violation_description', 'size'),\n",
    "    tickets_paid=('paid', 'sum')\n",
    ").reset_index()\n",
    "\n",
    "violation_summary['repayment_rate'] = violation_summary['tickets_paid'] / violation_summary['total_tickets']\n",
    "\n",
    "violation_summary_sorted = violation_summary.sort_values(by='total_tickets', ascending=False)\n",
    "\n",
    "top_5_violations = violation_summary_sorted.head(5)\n",
    "\n",
    "print(\"Top 5 Most Common Violation Descriptions:\")\n",
    "print(top_5_violations[['violation_description', 'repayment_rate', 'total_tickets']])"
   ]
  },
  {
   "cell_type": "code",
   "execution_count": null,
   "id": "316719e9-5a16-465a-890d-7c0b67bd3873",
   "metadata": {
    "vscode": {
     "languageId": "quarto"
    }
   },
   "outputs": [
    {
     "data": {
      "text/html": [
       "\n",
       "<style>\n",
       "  #altair-viz-14614e22e33d4635a04cc604fe61cddf.vega-embed {\n",
       "    width: 100%;\n",
       "    display: flex;\n",
       "  }\n",
       "\n",
       "  #altair-viz-14614e22e33d4635a04cc604fe61cddf.vega-embed details,\n",
       "  #altair-viz-14614e22e33d4635a04cc604fe61cddf.vega-embed details summary {\n",
       "    position: relative;\n",
       "  }\n",
       "</style>\n",
       "<div id=\"altair-viz-14614e22e33d4635a04cc604fe61cddf\"></div>\n",
       "<script type=\"text/javascript\">\n",
       "  var VEGA_DEBUG = (typeof VEGA_DEBUG == \"undefined\") ? {} : VEGA_DEBUG;\n",
       "  (function(spec, embedOpt){\n",
       "    let outputDiv = document.currentScript.previousElementSibling;\n",
       "    if (outputDiv.id !== \"altair-viz-14614e22e33d4635a04cc604fe61cddf\") {\n",
       "      outputDiv = document.getElementById(\"altair-viz-14614e22e33d4635a04cc604fe61cddf\");\n",
       "    }\n",
       "    const paths = {\n",
       "      \"vega\": \"https://cdn.jsdelivr.net/npm/vega@5?noext\",\n",
       "      \"vega-lib\": \"https://cdn.jsdelivr.net/npm/vega-lib?noext\",\n",
       "      \"vega-lite\": \"https://cdn.jsdelivr.net/npm/vega-lite@5.20.1?noext\",\n",
       "      \"vega-embed\": \"https://cdn.jsdelivr.net/npm/vega-embed@6?noext\",\n",
       "    };\n",
       "\n",
       "    function maybeLoadScript(lib, version) {\n",
       "      var key = `${lib.replace(\"-\", \"\")}_version`;\n",
       "      return (VEGA_DEBUG[key] == version) ?\n",
       "        Promise.resolve(paths[lib]) :\n",
       "        new Promise(function(resolve, reject) {\n",
       "          var s = document.createElement('script');\n",
       "          document.getElementsByTagName(\"head\")[0].appendChild(s);\n",
       "          s.async = true;\n",
       "          s.onload = () => {\n",
       "            VEGA_DEBUG[key] = version;\n",
       "            return resolve(paths[lib]);\n",
       "          };\n",
       "          s.onerror = () => reject(`Error loading script: ${paths[lib]}`);\n",
       "          s.src = paths[lib];\n",
       "        });\n",
       "    }\n",
       "\n",
       "    function showError(err) {\n",
       "      outputDiv.innerHTML = `<div class=\"error\" style=\"color:red;\">${err}</div>`;\n",
       "      throw err;\n",
       "    }\n",
       "\n",
       "    function displayChart(vegaEmbed) {\n",
       "      vegaEmbed(outputDiv, spec, embedOpt)\n",
       "        .catch(err => showError(`Javascript Error: ${err.message}<br>This usually means there's a typo in your chart specification. See the javascript console for the full traceback.`));\n",
       "    }\n",
       "\n",
       "    if(typeof define === \"function\" && define.amd) {\n",
       "      requirejs.config({paths});\n",
       "      require([\"vega-embed\"], displayChart, err => showError(`Error loading script: ${err.message}`));\n",
       "    } else {\n",
       "      maybeLoadScript(\"vega\", \"5\")\n",
       "        .then(() => maybeLoadScript(\"vega-lite\", \"5.20.1\"))\n",
       "        .then(() => maybeLoadScript(\"vega-embed\", \"6\"))\n",
       "        .catch(showError)\n",
       "        .then(() => displayChart(vegaEmbed));\n",
       "    }\n",
       "  })({\"config\": {\"view\": {\"continuousWidth\": 300, \"continuousHeight\": 300}}, \"data\": {\"name\": \"data-cfc6b09e0afaffd4d60db3bd6bbaa024\"}, \"mark\": {\"type\": \"circle\", \"size\": 60}, \"encoding\": {\"color\": {\"condition\": {\"test\": {\"field\": \"violation_code\", \"oneOf\": [\"0976160F\", \"0964040B\", \"0964090E\"]}, \"value\": \"red\"}, \"value\": \"blue\"}, \"tooltip\": [{\"field\": \"violation_code\", \"type\": \"nominal\"}, {\"field\": \"total_tickets\", \"type\": \"quantitative\"}, {\"field\": \"repayment_rate\", \"type\": \"quantitative\"}], \"x\": {\"field\": \"total_tickets\", \"title\": \"Total Tickets Issued\", \"type\": \"quantitative\"}, \"y\": {\"field\": \"repayment_rate\", \"title\": \"Repayment Rate\", \"type\": \"quantitative\"}}, \"title\": \"Violation Types: Total Tickets Issued vs. Repayment Rate\", \"$schema\": \"https://vega.github.io/schema/vega-lite/v5.20.1.json\", \"datasets\": {\"data-cfc6b09e0afaffd4d60db3bd6bbaa024\": [{\"violation_code\": \"0912060\", \"violation_description\": \"STAND, PARK, OR OTHER USE OF BUS LANE\", \"total_tickets\": 1233, \"tickets_paid\": 746, \"repayment_rate\": 0.6050283860502839}, {\"violation_code\": \"0940060\", \"violation_description\": \"PARK/STAND ON BICYCLE PATH\", \"total_tickets\": 236, \"tickets_paid\": 161, \"repayment_rate\": 0.6822033898305084}, {\"violation_code\": \"0940080\", \"violation_description\": \"PARKED/STANDING UNATTENDED W/MOTOR RUNNI\", \"total_tickets\": 81, \"tickets_paid\": 40, \"repayment_rate\": 0.49382716049382713}, {\"violation_code\": \"0940170\", \"violation_description\": \"UNSAFE CONDITION\", \"total_tickets\": 64, \"tickets_paid\": 35, \"repayment_rate\": 0.546875}, {\"violation_code\": \"0940220\", \"violation_description\": \"NO OPERATOR SIGNAL\", \"total_tickets\": 32, \"tickets_paid\": 21, \"repayment_rate\": 0.65625}, {\"violation_code\": \"0964020A\", \"violation_description\": \"WRONG DIRECTION OR 12'' FROM CURB\", \"total_tickets\": 1111, \"tickets_paid\": 860, \"repayment_rate\": 0.774077407740774}, {\"violation_code\": \"0964020B\", \"violation_description\": \"OBSTRUCT ROADWAY\", \"total_tickets\": 1577, \"tickets_paid\": 799, \"repayment_rate\": 0.5066582117945466}, {\"violation_code\": \"0964020C\", \"violation_description\": \"PARK MOTORCYCLE/SCOOTER PARK AT 90 DEGREE ANGLE\", \"total_tickets\": 14, \"tickets_paid\": 10, \"repayment_rate\": 0.7142857142857143}, {\"violation_code\": \"0964030B\", \"violation_description\": \"OUTSIDE DIAGONAL MARKINGS\", \"total_tickets\": 110, \"tickets_paid\": 80, \"repayment_rate\": 0.7272727272727273}, {\"violation_code\": \"0964040B\", \"violation_description\": \"STREET CLEANING\", \"total_tickets\": 28712, \"tickets_paid\": 23426, \"repayment_rate\": 0.8158957926999164}, {\"violation_code\": \"0964040B\", \"violation_description\": \"STREET CLEANING OR SPECIAL EVENT\", \"total_tickets\": 3370, \"tickets_paid\": 2659, \"repayment_rate\": 0.7890207715133531}, {\"violation_code\": \"0964041\", \"violation_description\": \"SPECIAL EVENTS RESTRICTION\", \"total_tickets\": 245, \"tickets_paid\": 201, \"repayment_rate\": 0.8204081632653061}, {\"violation_code\": \"0964041B\", \"violation_description\": \"SPECIAL EVENTS RESTRICTION\", \"total_tickets\": 217, \"tickets_paid\": 157, \"repayment_rate\": 0.7235023041474654}, {\"violation_code\": \"0964041B\", \"violation_description\": \"Special Events\", \"total_tickets\": 25, \"tickets_paid\": 17, \"repayment_rate\": 0.68}, {\"violation_code\": \"0964050I\", \"violation_description\": \"DISABLED PARKING\", \"total_tickets\": 5, \"tickets_paid\": 3, \"repayment_rate\": 0.6}, {\"violation_code\": \"0964050J\", \"violation_description\": \"DISABLED PARKING ZONE\", \"total_tickets\": 2034, \"tickets_paid\": 1153, \"repayment_rate\": 0.5668633235004916}, {\"violation_code\": \"0964050J*\", \"violation_description\": \"INVALID PLACARD\", \"total_tickets\": 5, \"tickets_paid\": 3, \"repayment_rate\": 0.6}, {\"violation_code\": \"0964060\", \"violation_description\": \"3-7 AM SNOW ROUTE\", \"total_tickets\": 827, \"tickets_paid\": 605, \"repayment_rate\": 0.7315598548972189}, {\"violation_code\": \"0964060B\", \"violation_description\": \"3-7 AM SNOW ROUTE\", \"total_tickets\": 12, \"tickets_paid\": 8, \"repayment_rate\": 0.6666666666666666}, {\"violation_code\": \"0964070\", \"violation_description\": \"SNOW ROUTE: 2' OF SNOW OR MORE\", \"total_tickets\": 20, \"tickets_paid\": 13, \"repayment_rate\": 0.65}, {\"violation_code\": \"0964070\", \"violation_description\": \"SNOW ROUTE: 2'' OF SNOW OR MORE\", \"total_tickets\": 144, \"tickets_paid\": 101, \"repayment_rate\": 0.7013888888888888}, {\"violation_code\": \"0964080A\", \"violation_description\": \"RUSH HOUR PARKING\", \"total_tickets\": 11965, \"tickets_paid\": 9279, \"repayment_rate\": 0.7755119097367321}, {\"violation_code\": \"0964080B\", \"violation_description\": \"NO STANDING/PARKING TIME RESTRICTED\", \"total_tickets\": 8640, \"tickets_paid\": 6548, \"repayment_rate\": 0.7578703703703704}, {\"violation_code\": \"0964090E\", \"violation_description\": \"RESIDENTIAL PERMIT PARKING\", \"total_tickets\": 23683, \"tickets_paid\": 17667, \"repayment_rate\": 0.7459781277709749}, {\"violation_code\": \"0964091\", \"violation_description\": \"INDUSTRIAL PERMIT PARKING\", \"total_tickets\": 117, \"tickets_paid\": 99, \"repayment_rate\": 0.8461538461538461}, {\"violation_code\": \"0964091B\", \"violation_description\": \"INDUSTRIAL PERMIT PARKING\", \"total_tickets\": 3, \"tickets_paid\": 1, \"repayment_rate\": 0.3333333333333333}, {\"violation_code\": \"0964100A\", \"violation_description\": \"WITHIN 15' OF FIRE HYDRANT\", \"total_tickets\": 6104, \"tickets_paid\": 4203, \"repayment_rate\": 0.688564875491481}, {\"violation_code\": \"0964100B\", \"violation_description\": \"PARK IN FIRE LANE\", \"total_tickets\": 86, \"tickets_paid\": 49, \"repayment_rate\": 0.5697674418604651}, {\"violation_code\": \"0964100C\", \"violation_description\": \"BLOCK ACCESS/ALLEY/DRIVEWAY/FIRELANE\", \"total_tickets\": 1579, \"tickets_paid\": 1044, \"repayment_rate\": 0.6611779607346422}, {\"violation_code\": \"0964100D\", \"violation_description\": \"DISABLED CURB CUT\", \"total_tickets\": 436, \"tickets_paid\": 340, \"repayment_rate\": 0.7798165137614679}, {\"violation_code\": \"0964100E\", \"violation_description\": \"UNDER FIRE ESCAPE\", \"total_tickets\": 42, \"tickets_paid\": 30, \"repayment_rate\": 0.7142857142857143}, {\"violation_code\": \"0964100F\", \"violation_description\": \"20'OF CROSSWALK\", \"total_tickets\": 393, \"tickets_paid\": 284, \"repayment_rate\": 0.72264631043257}, {\"violation_code\": \"0964100G\", \"violation_description\": \"STOP SIGN OR TRAFFIC SIGNAL\", \"total_tickets\": 2191, \"tickets_paid\": 1777, \"repayment_rate\": 0.8110451848471018}, {\"violation_code\": \"0964100H\", \"violation_description\": \"THEATER ENTRANCE/EXIT\", \"total_tickets\": 4, \"tickets_paid\": 1, \"repayment_rate\": 0.25}, {\"violation_code\": \"0964110A\", \"violation_description\": \"DOUBLE PARKING OR STANDING\", \"total_tickets\": 2904, \"tickets_paid\": 1747, \"repayment_rate\": 0.6015840220385675}, {\"violation_code\": \"0964110B\", \"violation_description\": \"PARK OR STAND WITHIN INTERSECTION\", \"total_tickets\": 26, \"tickets_paid\": 19, \"repayment_rate\": 0.7307692307692307}, {\"violation_code\": \"0964110C\", \"violation_description\": \"PARK OR STAND ON CROSSWALK\", \"total_tickets\": 1953, \"tickets_paid\": 1402, \"repayment_rate\": 0.7178699436763953}, {\"violation_code\": \"0964110D\", \"violation_description\": \"PARK OR STAND ON SIDEWALK\", \"total_tickets\": 1036, \"tickets_paid\": 713, \"repayment_rate\": 0.6882239382239382}, {\"violation_code\": \"0964110E\", \"violation_description\": \"PARK OR STAND ON PARKWAY\", \"total_tickets\": 495, \"tickets_paid\": 362, \"repayment_rate\": 0.7313131313131314}, {\"violation_code\": \"0964110F\", \"violation_description\": \"PARK OR STAND ON BRIDGE\", \"total_tickets\": 40, \"tickets_paid\": 29, \"repayment_rate\": 0.725}, {\"violation_code\": \"0964110G\", \"violation_description\": \"PARK OR STAND IN VIADUCT/UNDERPASS\", \"total_tickets\": 247, \"tickets_paid\": 183, \"repayment_rate\": 0.7408906882591093}, {\"violation_code\": \"0964110H\", \"violation_description\": \"PARK OR STAND ON OR WITHIN 10' RR TRACKS\", \"total_tickets\": 17, \"tickets_paid\": 11, \"repayment_rate\": 0.6470588235294118}, {\"violation_code\": \"0964120A\", \"violation_description\": \"PARK OR STAND ON CITY PROPERTY\", \"total_tickets\": 183, \"tickets_paid\": 77, \"repayment_rate\": 0.4207650273224044}, {\"violation_code\": \"0964120B\", \"violation_description\": \"PARK OR STAND ON CHA PROPERTY\", \"total_tickets\": 62, \"tickets_paid\": 38, \"repayment_rate\": 0.6129032258064516}, {\"violation_code\": \"0964125\", \"violation_description\": \"NO CITY STICKER OR IMPROPER DISPLAY\", \"total_tickets\": 10758, \"tickets_paid\": 5973, \"repayment_rate\": 0.5552147239263804}, {\"violation_code\": \"0964125B\", \"violation_description\": \"NO CITY STICKER VEHICLE UNDER/EQUAL TO 16,000 LBS.\", \"total_tickets\": 14246, \"tickets_paid\": 6160, \"repayment_rate\": 0.43240207777621786}, {\"violation_code\": \"0964125C\", \"violation_description\": \"NO CITY STICKER VEHICLE OVER 16,000 LBS.\", \"total_tickets\": 131, \"tickets_paid\": 19, \"repayment_rate\": 0.1450381679389313}, {\"violation_code\": \"0964125D\", \"violation_description\": \"IMPROPER DISPLAY OF CITY STICKER\", \"total_tickets\": 399, \"tickets_paid\": 306, \"repayment_rate\": 0.7669172932330827}, {\"violation_code\": \"0964130\", \"violation_description\": \"PARK OR BLOCK ALLEY\", \"total_tickets\": 2050, \"tickets_paid\": 1109, \"repayment_rate\": 0.5409756097560976}, {\"violation_code\": \"0964130A\", \"violation_description\": \"PARK ALLEY\", \"total_tickets\": 998, \"tickets_paid\": 426, \"repayment_rate\": 0.42685370741482964}, {\"violation_code\": \"0964130B\", \"violation_description\": \"BLOCK ALLEY\", \"total_tickets\": 20, \"tickets_paid\": 13, \"repayment_rate\": 0.65}, {\"violation_code\": \"0964140B\", \"violation_description\": \"PARK OR STAND IN BUS/TAXI/CARRIAGE STAND\", \"total_tickets\": 6004, \"tickets_paid\": 4051, \"repayment_rate\": 0.6747168554297135}, {\"violation_code\": \"0964150A\", \"violation_description\": \"PARK OR STAND NEAR FIRE STATION OR RR XX\", \"total_tickets\": 7, \"tickets_paid\": 4, \"repayment_rate\": 0.5714285714285714}, {\"violation_code\": \"0964150B\", \"violation_description\": \"PARKING/STANDING PROHIBITED ANYTIME\", \"total_tickets\": 19753, \"tickets_paid\": 14038, \"repayment_rate\": 0.710676859211259}, {\"violation_code\": \"0964160A\", \"violation_description\": \"CURB LOADING ZONE\", \"total_tickets\": 1, \"tickets_paid\": 1, \"repayment_rate\": 1.0}, {\"violation_code\": \"0964160B\", \"violation_description\": \"CURB LOADING ZONE\", \"total_tickets\": 1204, \"tickets_paid\": 850, \"repayment_rate\": 0.7059800664451827}, {\"violation_code\": \"0964160C\", \"violation_description\": \"NO DISPLAY OF BACK-IN PERMIT\", \"total_tickets\": 5, \"tickets_paid\": 3, \"repayment_rate\": 0.6}, {\"violation_code\": \"0964170A\", \"violation_description\": \"TRUCK,RV,BUS, OR TAXI RESIDENTIAL STREET\", \"total_tickets\": 4789, \"tickets_paid\": 3332, \"repayment_rate\": 0.6957611192315724}, {\"violation_code\": \"0964170B\", \"violation_description\": \"TRUCK,MOTOR HOME, BUS BUSINESS STREET\", \"total_tickets\": 456, \"tickets_paid\": 314, \"repayment_rate\": 0.6885964912280702}, {\"violation_code\": \"0964170C\", \"violation_description\": \"VEH 6' OR HIGHER WITHIN 20' OF CROSSWALK\", \"total_tickets\": 41, \"tickets_paid\": 30, \"repayment_rate\": 0.7317073170731707}, {\"violation_code\": \"0964170D\", \"violation_description\": \"TRUCK OR SEMI-TRAILER PROHIBITED\", \"total_tickets\": 145, \"tickets_paid\": 78, \"repayment_rate\": 0.5379310344827586}, {\"violation_code\": \"0964170D\", \"violation_description\": \"TRUCK TRAILOR/SEMI/TRAILER PROHIBITED\", \"total_tickets\": 157, \"tickets_paid\": 72, \"repayment_rate\": 0.4585987261146497}, {\"violation_code\": \"0964180A\", \"violation_description\": \"NO PARKING IN LOOP\", \"total_tickets\": 34, \"tickets_paid\": 20, \"repayment_rate\": 0.5882352941176471}, {\"violation_code\": \"0964190\", \"violation_description\": \"EXPIRED METER OR OVERSTAY\", \"total_tickets\": 18756, \"tickets_paid\": 15122, \"repayment_rate\": 0.8062486670931969}, {\"violation_code\": \"0964190A\", \"violation_description\": \"EXP. METER NON-CENTRAL BUSINESS DISTRICT\", \"total_tickets\": 20600, \"tickets_paid\": 16387, \"repayment_rate\": 0.7954854368932038}, {\"violation_code\": \"0964190B\", \"violation_description\": \"EXPIRED METER CENTRAL BUSINESS DISTRICT\", \"total_tickets\": 9736, \"tickets_paid\": 7279, \"repayment_rate\": 0.7476376335250616}, {\"violation_code\": \"0964190C\", \"violation_description\": \"NON PYMT/NON-COM VEH PARKED IN COM LOADING ZONE\", \"total_tickets\": 100, \"tickets_paid\": 45, \"repayment_rate\": 0.45}, {\"violation_code\": \"0964200B\", \"violation_description\": \"OUTSIDE METERED SPACE\", \"total_tickets\": 63, \"tickets_paid\": 49, \"repayment_rate\": 0.7777777777777778}, {\"violation_code\": \"0964200B\", \"violation_description\": \"PARK OUTSIDE METERED SPACE\", \"total_tickets\": 278, \"tickets_paid\": 165, \"repayment_rate\": 0.5935251798561151}, {\"violation_code\": \"0964210\", \"violation_description\": \"FAIL TO DISPLAY TV NEWS PERMIT\", \"total_tickets\": 20, \"tickets_paid\": 13, \"repayment_rate\": 0.65}, {\"violation_code\": \"0968040I\", \"violation_description\": \"PARK/STAND IN WRIGLEY BUS PERMIT ZONE\", \"total_tickets\": 4, \"tickets_paid\": 3, \"repayment_rate\": 0.75}, {\"violation_code\": \"0976010A\", \"violation_description\": \"BRAKES REQUIRED DURING OPERATION\", \"total_tickets\": 1, \"tickets_paid\": 1, \"repayment_rate\": 1.0}, {\"violation_code\": \"0976020A\", \"violation_description\": \"SERVICE BRAKES:STOPPING CAPABILITY\", \"total_tickets\": 6, \"tickets_paid\": 5, \"repayment_rate\": 0.8333333333333334}, {\"violation_code\": \"0976020B\", \"violation_description\": \"HAND BRAKES:PROPER STOPPING CAPABILITY\", \"total_tickets\": 1, \"tickets_paid\": 1, \"repayment_rate\": 1.0}, {\"violation_code\": \"0976020E\", \"violation_description\": \"BRAKES REQUIRED IN GOOD WORKING ORDER\", \"total_tickets\": 1, \"tickets_paid\": 1, \"repayment_rate\": 1.0}, {\"violation_code\": \"0976040A\", \"violation_description\": \"HORN REQUIRED DURING OPERATION\", \"total_tickets\": 2, \"tickets_paid\": 0, \"repayment_rate\": 0.0}, {\"violation_code\": \"0976040B\", \"violation_description\": \"USE OF SIREN/BELL/WHISTLE PROHIBITED\", \"total_tickets\": 4, \"tickets_paid\": 3, \"repayment_rate\": 0.75}, {\"violation_code\": \"0976050A\", \"violation_description\": \"MOTORCYCLE HEAD LAMP VISIBLE 500'\", \"total_tickets\": 7, \"tickets_paid\": 2, \"repayment_rate\": 0.2857142857142857}, {\"violation_code\": \"0976050B\", \"violation_description\": \"TWO HEAD LAMPS REQUIRED VISIBLE 1000'\", \"total_tickets\": 443, \"tickets_paid\": 266, \"repayment_rate\": 0.600451467268623}, {\"violation_code\": \"0976050C\", \"violation_description\": \"RED REAR LAMP REQUIRED VISIBLE 500'\", \"total_tickets\": 115, \"tickets_paid\": 64, \"repayment_rate\": 0.5565217391304348}, {\"violation_code\": \"0976050D\", \"violation_description\": \"REAR PLATE LIT AND LEGIBLE FOR 50'\", \"total_tickets\": 110, \"tickets_paid\": 62, \"repayment_rate\": 0.5636363636363636}, {\"violation_code\": \"0976050E\", \"violation_description\": \"2 REAR TRAILER LAMPS REQ'D VISIBLE 500'\", \"total_tickets\": 4, \"tickets_paid\": 1, \"repayment_rate\": 0.25}, {\"violation_code\": \"0976070A\", \"violation_description\": \"IMPROPER SIDE COWL/FENDER LAMPS\", \"total_tickets\": 3, \"tickets_paid\": 2, \"repayment_rate\": 0.6666666666666666}, {\"violation_code\": \"0976070C\", \"violation_description\": \"BACK-UP LAMP LIT DURING OPERATION\", \"total_tickets\": 2, \"tickets_paid\": 2, \"repayment_rate\": 1.0}, {\"violation_code\": \"0976070D\", \"violation_description\": \"MORE THAN FOUR FRONT MOUNTED LAMPS\", \"total_tickets\": 1, \"tickets_paid\": 1, \"repayment_rate\": 1.0}, {\"violation_code\": \"0976080\", \"violation_description\": \"IMPROPER LAMPS NON-MOTOR VEHICLE\", \"total_tickets\": 9, \"tickets_paid\": 5, \"repayment_rate\": 0.5555555555555556}, {\"violation_code\": \"0976090B\", \"violation_description\": \"IMPROPER LAMP FOR PARKED VEH ON UNLIT ST\", \"total_tickets\": 9, \"tickets_paid\": 6, \"repayment_rate\": 0.6666666666666666}, {\"violation_code\": \"0976090C\", \"violation_description\": \"DEPR./DIMMED LAMPS\", \"total_tickets\": 4, \"tickets_paid\": 0, \"repayment_rate\": 0.0}, {\"violation_code\": \"0976100A\", \"violation_description\": \"SUSPENSION MODIFIED BEYOND 3\", \"total_tickets\": 1, \"tickets_paid\": 0, \"repayment_rate\": 0.0}, {\"violation_code\": \"0976110A\", \"violation_description\": \"PROPER FRONT AND REAR BUMPERS REQUIRED\", \"total_tickets\": 21, \"tickets_paid\": 11, \"repayment_rate\": 0.5238095238095238}, {\"violation_code\": \"0976120\", \"violation_description\": \"REAR VIEW MIRROR REQUIRED\", \"total_tickets\": 27, \"tickets_paid\": 20, \"repayment_rate\": 0.7407407407407407}, {\"violation_code\": \"0976130\", \"violation_description\": \"TWO RED REAR TRAILER REFLECTORS REQUIRED\", \"total_tickets\": 1, \"tickets_paid\": 1, \"repayment_rate\": 1.0}, {\"violation_code\": \"0976140A\", \"violation_description\": \"NO OR IMPROPER MUFFLER\", \"total_tickets\": 9, \"tickets_paid\": 5, \"repayment_rate\": 0.5555555555555556}, {\"violation_code\": \"0976140B\", \"violation_description\": \"EXCESS FUMES/SMOKE DURING OPERATION\", \"total_tickets\": 12, \"tickets_paid\": 7, \"repayment_rate\": 0.5833333333333334}, {\"violation_code\": \"0976150B\", \"violation_description\": \"BURGLAR ALARM SOUNDING OVER 4 MINUTES\", \"total_tickets\": 102, \"tickets_paid\": 78, \"repayment_rate\": 0.7647058823529411}, {\"violation_code\": \"0976160A\", \"violation_description\": \"MISSING/NONCOMPLIANT FRONT AND/OR REAR PLATE\", \"total_tickets\": 1024, \"tickets_paid\": 331, \"repayment_rate\": 0.3232421875}, {\"violation_code\": \"0976160A\", \"violation_description\": \"REAR AND FRONT PLATE REQUIRED\", \"total_tickets\": 15829, \"tickets_paid\": 8461, \"repayment_rate\": 0.5345252384863226}, {\"violation_code\": \"0976160B\", \"violation_description\": \"EXPIRED PLATE OR TEMPORARY REGISTRATION\", \"total_tickets\": 2720, \"tickets_paid\": 1120, \"repayment_rate\": 0.4117647058823529}, {\"violation_code\": \"0976160B\", \"violation_description\": \"REAR PLATE REQUIRED MOTORCYCLE/TRAILER\", \"total_tickets\": 352, \"tickets_paid\": 202, \"repayment_rate\": 0.5738636363636364}, {\"violation_code\": \"0976160C\", \"violation_description\": \"FRONT PLATE REQUIRED FOR TRUCK TRACTORS\", \"total_tickets\": 21, \"tickets_paid\": 12, \"repayment_rate\": 0.5714285714285714}, {\"violation_code\": \"0976160D\", \"violation_description\": \"NONCOMPLIANT PLATE(S)\", \"total_tickets\": 1920, \"tickets_paid\": 1186, \"repayment_rate\": 0.6177083333333333}, {\"violation_code\": \"0976160F\", \"violation_description\": \"EXPIRED PLATES OR TEMPORARY REGISTRATION\", \"total_tickets\": 44811, \"tickets_paid\": 27248, \"repayment_rate\": 0.6080649840440964}, {\"violation_code\": \"0976170\", \"violation_description\": \"NO CITY STICKER OR IMPROPER DISPLAY\", \"total_tickets\": 15, \"tickets_paid\": 10, \"repayment_rate\": 0.6666666666666666}, {\"violation_code\": \"0976180A\", \"violation_description\": \"SAFETY BELTS REQUIRED\", \"total_tickets\": 981, \"tickets_paid\": 700, \"repayment_rate\": 0.7135575942915392}, {\"violation_code\": \"0976180B\", \"violation_description\": \"SAFETY BELTS REQUIRED ON SCHOOL BUS\", \"total_tickets\": 54, \"tickets_paid\": 38, \"repayment_rate\": 0.7037037037037037}, {\"violation_code\": \"0976190\", \"violation_description\": \"COMMERCIAL IDENTIFICATION ETC. REQUIRED\", \"total_tickets\": 1, \"tickets_paid\": 1, \"repayment_rate\": 1.0}, {\"violation_code\": \"0976200A\", \"violation_description\": \"PROJECTING LOAD (LEFT OR RIGHT SIDE)\", \"total_tickets\": 6, \"tickets_paid\": 3, \"repayment_rate\": 0.5}, {\"violation_code\": \"0976200B\", \"violation_description\": \"PROJECTING LOAD (REAR)\", \"total_tickets\": 3, \"tickets_paid\": 3, \"repayment_rate\": 1.0}, {\"violation_code\": \"0976210A\", \"violation_description\": \"LAMPS BROKEN OR INOPERABLE\", \"total_tickets\": 162, \"tickets_paid\": 97, \"repayment_rate\": 0.5987654320987654}, {\"violation_code\": \"0976210B\", \"violation_description\": \"WINDOWS MISSING OR CRACKED BEYOND 6\", \"total_tickets\": 576, \"tickets_paid\": 351, \"repayment_rate\": 0.609375}, {\"violation_code\": \"0976220A\", \"violation_description\": \"OBSTRUCTED OR IMPROPERLY TINTED WINDOWS\", \"total_tickets\": 271, \"tickets_paid\": 155, \"repayment_rate\": 0.5719557195571956}, {\"violation_code\": \"0976220B\", \"violation_description\": \"SMOKED/TINTED WINDOWS PARKED/STANDING\", \"total_tickets\": 1697, \"tickets_paid\": 1086, \"repayment_rate\": 0.6399528579846788}, {\"violation_code\": \"0980080A\", \"violation_description\": \"PARK VEHICLE SOLE PURPOSE OF DISPLAYING FOR SALE\", \"total_tickets\": 664, \"tickets_paid\": 129, \"repayment_rate\": 0.19427710843373494}, {\"violation_code\": \"0980080B\", \"violation_description\": \"PARK VEHICLE TO GREASE OR REPAIR\", \"total_tickets\": 34, \"tickets_paid\": 14, \"repayment_rate\": 0.4117647058823529}, {\"violation_code\": \"0980080C\", \"violation_description\": \"PARK VEHICLE TO SELL MERCHANDISE\", \"total_tickets\": 12, \"tickets_paid\": 4, \"repayment_rate\": 0.3333333333333333}, {\"violation_code\": \"0980095\", \"violation_description\": \"EXCESSIVE DIESEL POWERED VEHICLE ENGINE RUNNING\", \"total_tickets\": 4, \"tickets_paid\": 2, \"repayment_rate\": 0.5}, {\"violation_code\": \"0980110A\", \"violation_description\": \"ABANDONED VEH. FOR 7 DAYS OR INOPERABLE\", \"total_tickets\": 1104, \"tickets_paid\": 281, \"repayment_rate\": 0.2545289855072464}, {\"violation_code\": \"0980110B\", \"violation_description\": \"HAZARDOUS DILAPIDATED VEHICLE\", \"total_tickets\": 148, \"tickets_paid\": 37, \"repayment_rate\": 0.25}, {\"violation_code\": \"0980110B\", \"violation_description\": \"HAZARDOUS DILAPITATED VEHICLE\", \"total_tickets\": 298, \"tickets_paid\": 69, \"repayment_rate\": 0.23154362416107382}, {\"violation_code\": \"0980120A\", \"violation_description\": \"NO PARK IN PUBLIC LOT\", \"total_tickets\": 119, \"tickets_paid\": 36, \"repayment_rate\": 0.3025210084033613}, {\"violation_code\": \"0980120B\", \"violation_description\": \"NO PARK IN PRIVATE LOT\", \"total_tickets\": 378, \"tickets_paid\": 220, \"repayment_rate\": 0.582010582010582}, {\"violation_code\": \"0980130A\", \"violation_description\": \"FAIL TO PAY OR OUTSIDE SPACE IN CITY LOT\", \"total_tickets\": 90, \"tickets_paid\": 66, \"repayment_rate\": 0.7333333333333333}, {\"violation_code\": \"0980130B\", \"violation_description\": \"PARK IN CITY LOT WHEN CLOSED\", \"total_tickets\": 225, \"tickets_paid\": 161, \"repayment_rate\": 0.7155555555555555}, {\"violation_code\": \"0980130C\", \"violation_description\": \"PARK IN CITY LOT OVER 30 DAYS\", \"total_tickets\": 9, \"tickets_paid\": 2, \"repayment_rate\": 0.2222222222222222}]}}, {\"mode\": \"vega-lite\"});\n",
       "</script>"
      ],
      "text/plain": [
       "alt.Chart(...)"
      ]
     },
     "metadata": {},
     "output_type": "display_data"
    },
    {
     "name": "stdout",
     "output_type": "stream",
     "text": [
      "Top 3 Violation Types to Increase Prices:\n",
      "    violation_code                     violation_description  total_tickets  \\\n",
      "101       0976160F  EXPIRED PLATES OR TEMPORARY REGISTRATION          44811   \n",
      "9         0964040B                           STREET CLEANING          28712   \n",
      "23        0964090E                RESIDENTIAL PERMIT PARKING          23683   \n",
      "\n",
      "     repayment_rate  \n",
      "101        0.608065  \n",
      "9          0.815896  \n",
      "23         0.745978  \n",
      "    violation_code                     violation_description  total_tickets  \\\n",
      "101       0976160F  EXPIRED PLATES OR TEMPORARY REGISTRATION          44811   \n",
      "9         0964040B                           STREET CLEANING          28712   \n",
      "23        0964090E                RESIDENTIAL PERMIT PARKING          23683   \n",
      "\n",
      "     tickets_paid  repayment_rate  \n",
      "101         27248        0.608065  \n",
      "9           23426        0.815896  \n",
      "23          17667        0.745978  \n"
     ]
    }
   ],
   "source": [
    "df['paid'] = df['total_payments'] > 0\n",
    "violation_stats = df.groupby(['violation_code', 'violation_description']).agg(\n",
    "    total_tickets=('violation_code', 'size'),\n",
    "    tickets_paid=('paid', 'sum')\n",
    ").reset_index()\n",
    "\n",
    "# Calculate repayment rate for each violation type\n",
    "violation_stats['repayment_rate'] = violation_stats['tickets_paid'] / violation_stats['total_tickets']\n",
    "\n",
    "# Step 3: Identify the top 3 violations with high ticket counts and repayment rates\n",
    "# We can sort by 'total_tickets' and 'repayment_rate' to find the top violations\n",
    "top_violations = violation_stats.sort_values(by=['total_tickets', 'repayment_rate'], ascending=[False, False]).head(3)\n",
    "\n",
    "# Step 4: Create a plot to visualize the number of tickets and repayment rate\n",
    "violation_chart = alt.Chart(violation_stats).mark_circle(size=60).encode(\n",
    "    x=alt.X('total_tickets:Q', title='Total Tickets Issued'),\n",
    "    y=alt.Y('repayment_rate:Q', title='Repayment Rate'),\n",
    "    color=alt.condition(\n",
    "        alt.FieldOneOfPredicate(field='violation_code', oneOf=top_violations['violation_code'].tolist()),\n",
    "        alt.value('red'),  # Highlight top 3 violations\n",
    "        alt.value('blue')  # Other violations\n",
    "    ),\n",
    "    tooltip=['violation_code', 'total_tickets', 'repayment_rate']\n",
    ").properties(\n",
    "    title='Violation Types: Total Tickets Issued vs. Repayment Rate'\n",
    ")\n",
    "\n",
    "# Display the chart\n",
    "violation_chart.show()\n",
    "\n",
    "# Display the top 3 recommended violation types for increasing prices\n",
    "print(\"Top 3 Violation Types to Increase Prices:\")\n",
    "print(top_violations[['violation_code', 'violation_description', 'total_tickets', 'repayment_rate']])\n",
    "\n",
    "print(top_violations)"
   ]
  },
  {
   "cell_type": "code",
   "execution_count": null,
   "id": "9261d588-a3fa-4f10-8ba0-21cf081f3084",
   "metadata": {
    "vscode": {
     "languageId": "quarto"
    }
   },
   "outputs": [
    {
     "ename": "KeyError",
     "evalue": "\"Column(s) ['fine_amount'] do not exist\"",
     "output_type": "error",
     "traceback": [
      "\u001b[0;31m---------------------------------------------------------------------------\u001b[0m",
      "\u001b[0;31mKeyError\u001b[0m                                  Traceback (most recent call last)",
      "File \u001b[1;32m/Users/hkkkkk/Documents/GitHub/ppha30538_fall2024/30538-dap-ii-problem-set-2-ps2-dap2-python-fall2024/pset2_template.qmd:12\u001b[0m\n\u001b[1;32m      8\u001b[0m violation_stats[\u001b[39m'\u001b[39m\u001b[39mrepayment_rate\u001b[39m\u001b[39m'\u001b[39m] \u001b[39m=\u001b[39m violation_stats[\u001b[39m'\u001b[39m\u001b[39mtickets_paid\u001b[39m\u001b[39m'\u001b[39m] \u001b[39m/\u001b[39m violation_stats[\u001b[39m'\u001b[39m\u001b[39mtotal_tickets\u001b[39m\u001b[39m'\u001b[39m]\n\u001b[1;32m     10\u001b[0m \u001b[39m# Step 3: Identify the top 3 violations with high ticket counts and repayment rates\u001b[39;00m\n\u001b[1;32m     11\u001b[0m \u001b[39m# We can sort by 'total_tickets' and 'repayment_rate' to find the top violations\u001b[39;00m\n\u001b[0;32m---> 12\u001b[0m violation_summary \u001b[39m=\u001b[39m df\u001b[39m.\u001b[39mgroupby(\u001b[39m'\u001b[39m\u001b[39mviolation_description\u001b[39m\u001b[39m'\u001b[39m)\u001b[39m.\u001b[39magg(\n\u001b[1;32m     13\u001b[0m     total_tickets\u001b[39m=\u001b[39m(\u001b[39m'\u001b[39m\u001b[39mviolation_description\u001b[39m\u001b[39m'\u001b[39m, \u001b[39m'\u001b[39m\u001b[39msize\u001b[39m\u001b[39m'\u001b[39m),\n\u001b[1;32m     14\u001b[0m     tickets_paid\u001b[39m=\u001b[39m(\u001b[39m'\u001b[39m\u001b[39mpaid\u001b[39m\u001b[39m'\u001b[39m, \u001b[39m'\u001b[39m\u001b[39msum\u001b[39m\u001b[39m'\u001b[39m),\n\u001b[1;32m     15\u001b[0m     avg_fine\u001b[39m=\u001b[39m(\u001b[39m'\u001b[39m\u001b[39mfine_amount\u001b[39m\u001b[39m'\u001b[39m, \u001b[39m'\u001b[39m\u001b[39mmean\u001b[39m\u001b[39m'\u001b[39m)  \u001b[39m# Adjust this if your column for fines has a different name\u001b[39;00m\n\u001b[1;32m     16\u001b[0m )\u001b[39m.\u001b[39mreset_index()\n\u001b[1;32m     18\u001b[0m \u001b[39m# Calculate the repayment rate (fraction of tickets paid)\u001b[39;00m\n\u001b[1;32m     19\u001b[0m violation_summary[\u001b[39m'\u001b[39m\u001b[39mrepayment_rate\u001b[39m\u001b[39m'\u001b[39m] \u001b[39m=\u001b[39m violation_summary[\u001b[39m'\u001b[39m\u001b[39mtickets_paid\u001b[39m\u001b[39m'\u001b[39m] \u001b[39m/\u001b[39m violation_summary[\u001b[39m'\u001b[39m\u001b[39mtotal_tickets\u001b[39m\u001b[39m'\u001b[39m]\n",
      "File \u001b[0;32m/opt/anaconda3/lib/python3.11/site-packages/pandas/core/groupby/generic.py:1432\u001b[0m, in \u001b[0;36mDataFrameGroupBy.aggregate\u001b[0;34m(self, func, engine, engine_kwargs, *args, **kwargs)\u001b[0m\n\u001b[1;32m   1429\u001b[0m     kwargs[\u001b[39m\"\u001b[39m\u001b[39mengine_kwargs\u001b[39m\u001b[39m\"\u001b[39m] \u001b[39m=\u001b[39m engine_kwargs\n\u001b[1;32m   1431\u001b[0m op \u001b[39m=\u001b[39m GroupByApply(\u001b[39mself\u001b[39m, func, args\u001b[39m=\u001b[39margs, kwargs\u001b[39m=\u001b[39mkwargs)\n\u001b[0;32m-> 1432\u001b[0m result \u001b[39m=\u001b[39m op\u001b[39m.\u001b[39magg()\n\u001b[1;32m   1433\u001b[0m \u001b[39mif\u001b[39;00m \u001b[39mnot\u001b[39;00m is_dict_like(func) \u001b[39mand\u001b[39;00m result \u001b[39mis\u001b[39;00m \u001b[39mnot\u001b[39;00m \u001b[39mNone\u001b[39;00m:\n\u001b[1;32m   1434\u001b[0m     \u001b[39m# GH #52849\u001b[39;00m\n\u001b[1;32m   1435\u001b[0m     \u001b[39mif\u001b[39;00m \u001b[39mnot\u001b[39;00m \u001b[39mself\u001b[39m\u001b[39m.\u001b[39mas_index \u001b[39mand\u001b[39;00m is_list_like(func):\n",
      "File \u001b[0;32m/opt/anaconda3/lib/python3.11/site-packages/pandas/core/apply.py:190\u001b[0m, in \u001b[0;36mApply.agg\u001b[0;34m(self)\u001b[0m\n\u001b[1;32m    187\u001b[0m     \u001b[39mreturn\u001b[39;00m \u001b[39mself\u001b[39m\u001b[39m.\u001b[39mapply_str()\n\u001b[1;32m    189\u001b[0m \u001b[39mif\u001b[39;00m is_dict_like(func):\n\u001b[0;32m--> 190\u001b[0m     \u001b[39mreturn\u001b[39;00m \u001b[39mself\u001b[39m\u001b[39m.\u001b[39magg_dict_like()\n\u001b[1;32m    191\u001b[0m \u001b[39melif\u001b[39;00m is_list_like(func):\n\u001b[1;32m    192\u001b[0m     \u001b[39m# we require a list, but not a 'str'\u001b[39;00m\n\u001b[1;32m    193\u001b[0m     \u001b[39mreturn\u001b[39;00m \u001b[39mself\u001b[39m\u001b[39m.\u001b[39magg_list_like()\n",
      "File \u001b[0;32m/opt/anaconda3/lib/python3.11/site-packages/pandas/core/apply.py:423\u001b[0m, in \u001b[0;36mApply.agg_dict_like\u001b[0;34m(self)\u001b[0m\n\u001b[1;32m    415\u001b[0m \u001b[39mdef\u001b[39;00m \u001b[39magg_dict_like\u001b[39m(\u001b[39mself\u001b[39m) \u001b[39m-\u001b[39m\u001b[39m>\u001b[39m DataFrame \u001b[39m|\u001b[39m Series:\n\u001b[1;32m    416\u001b[0m \u001b[39m    \u001b[39m\u001b[39m\"\"\"\u001b[39;00m\n\u001b[1;32m    417\u001b[0m \u001b[39m    Compute aggregation in the case of a dict-like argument.\u001b[39;00m\n\u001b[1;32m    418\u001b[0m \n\u001b[0;32m   (...)\u001b[0m\n\u001b[1;32m    421\u001b[0m \u001b[39m    Result of aggregation.\u001b[39;00m\n\u001b[1;32m    422\u001b[0m \u001b[39m    \"\"\"\u001b[39;00m\n\u001b[0;32m--> 423\u001b[0m     \u001b[39mreturn\u001b[39;00m \u001b[39mself\u001b[39m\u001b[39m.\u001b[39magg_or_apply_dict_like(op_name\u001b[39m=\u001b[39m\u001b[39m\"\u001b[39m\u001b[39magg\u001b[39m\u001b[39m\"\u001b[39m)\n",
      "File \u001b[0;32m/opt/anaconda3/lib/python3.11/site-packages/pandas/core/apply.py:1608\u001b[0m, in \u001b[0;36mGroupByApply.agg_or_apply_dict_like\u001b[0;34m(self, op_name)\u001b[0m\n\u001b[1;32m   1603\u001b[0m     kwargs\u001b[39m.\u001b[39mupdate({\u001b[39m\"\u001b[39m\u001b[39mengine\u001b[39m\u001b[39m\"\u001b[39m: engine, \u001b[39m\"\u001b[39m\u001b[39mengine_kwargs\u001b[39m\u001b[39m\"\u001b[39m: engine_kwargs})\n\u001b[1;32m   1605\u001b[0m \u001b[39mwith\u001b[39;00m com\u001b[39m.\u001b[39mtemp_setattr(\n\u001b[1;32m   1606\u001b[0m     obj, \u001b[39m\"\u001b[39m\u001b[39mas_index\u001b[39m\u001b[39m\"\u001b[39m, \u001b[39mTrue\u001b[39;00m, condition\u001b[39m=\u001b[39m\u001b[39mhasattr\u001b[39m(obj, \u001b[39m\"\u001b[39m\u001b[39mas_index\u001b[39m\u001b[39m\"\u001b[39m)\n\u001b[1;32m   1607\u001b[0m ):\n\u001b[0;32m-> 1608\u001b[0m     result_index, result_data \u001b[39m=\u001b[39m \u001b[39mself\u001b[39m\u001b[39m.\u001b[39mcompute_dict_like(\n\u001b[1;32m   1609\u001b[0m         op_name, selected_obj, selection, kwargs\n\u001b[1;32m   1610\u001b[0m     )\n\u001b[1;32m   1611\u001b[0m result \u001b[39m=\u001b[39m \u001b[39mself\u001b[39m\u001b[39m.\u001b[39mwrap_results_dict_like(selected_obj, result_index, result_data)\n\u001b[1;32m   1612\u001b[0m \u001b[39mreturn\u001b[39;00m result\n",
      "File \u001b[0;32m/opt/anaconda3/lib/python3.11/site-packages/pandas/core/apply.py:462\u001b[0m, in \u001b[0;36mApply.compute_dict_like\u001b[0;34m(self, op_name, selected_obj, selection, kwargs)\u001b[0m\n\u001b[1;32m    460\u001b[0m is_groupby \u001b[39m=\u001b[39m \u001b[39misinstance\u001b[39m(obj, (DataFrameGroupBy, SeriesGroupBy))\n\u001b[1;32m    461\u001b[0m func \u001b[39m=\u001b[39m cast(AggFuncTypeDict, \u001b[39mself\u001b[39m\u001b[39m.\u001b[39mfunc)\n\u001b[0;32m--> 462\u001b[0m func \u001b[39m=\u001b[39m \u001b[39mself\u001b[39m\u001b[39m.\u001b[39mnormalize_dictlike_arg(op_name, selected_obj, func)\n\u001b[1;32m    464\u001b[0m is_non_unique_col \u001b[39m=\u001b[39m (\n\u001b[1;32m    465\u001b[0m     selected_obj\u001b[39m.\u001b[39mndim \u001b[39m==\u001b[39m \u001b[39m2\u001b[39m\n\u001b[1;32m    466\u001b[0m     \u001b[39mand\u001b[39;00m selected_obj\u001b[39m.\u001b[39mcolumns\u001b[39m.\u001b[39mnunique() \u001b[39m<\u001b[39m \u001b[39mlen\u001b[39m(selected_obj\u001b[39m.\u001b[39mcolumns)\n\u001b[1;32m    467\u001b[0m )\n\u001b[1;32m    469\u001b[0m \u001b[39mif\u001b[39;00m selected_obj\u001b[39m.\u001b[39mndim \u001b[39m==\u001b[39m \u001b[39m1\u001b[39m:\n\u001b[1;32m    470\u001b[0m     \u001b[39m# key only used for output\u001b[39;00m\n",
      "File \u001b[0;32m/opt/anaconda3/lib/python3.11/site-packages/pandas/core/apply.py:663\u001b[0m, in \u001b[0;36mApply.normalize_dictlike_arg\u001b[0;34m(self, how, obj, func)\u001b[0m\n\u001b[1;32m    661\u001b[0m     cols \u001b[39m=\u001b[39m Index(\u001b[39mlist\u001b[39m(func\u001b[39m.\u001b[39mkeys()))\u001b[39m.\u001b[39mdifference(obj\u001b[39m.\u001b[39mcolumns, sort\u001b[39m=\u001b[39m\u001b[39mTrue\u001b[39;00m)\n\u001b[1;32m    662\u001b[0m     \u001b[39mif\u001b[39;00m \u001b[39mlen\u001b[39m(cols) \u001b[39m>\u001b[39m \u001b[39m0\u001b[39m:\n\u001b[0;32m--> 663\u001b[0m         \u001b[39mraise\u001b[39;00m \u001b[39mKeyError\u001b[39;00m(\u001b[39mf\u001b[39m\u001b[39m\"\u001b[39m\u001b[39mColumn(s) \u001b[39m\u001b[39m{\u001b[39;00m\u001b[39mlist\u001b[39m(cols)\u001b[39m}\u001b[39;00m\u001b[39m do not exist\u001b[39m\u001b[39m\"\u001b[39m)\n\u001b[1;32m    665\u001b[0m aggregator_types \u001b[39m=\u001b[39m (\u001b[39mlist\u001b[39m, \u001b[39mtuple\u001b[39m, \u001b[39mdict\u001b[39m)\n\u001b[1;32m    667\u001b[0m \u001b[39m# if we have a dict of any non-scalars\u001b[39;00m\n\u001b[1;32m    668\u001b[0m \u001b[39m# eg. {'A' : ['mean']}, normalize all to\u001b[39;00m\n\u001b[1;32m    669\u001b[0m \u001b[39m# be list-likes\u001b[39;00m\n\u001b[1;32m    670\u001b[0m \u001b[39m# Cannot use func.values() because arg may be a Series\u001b[39;00m\n",
      "\u001b[0;31mKeyError\u001b[0m: \"Column(s) ['fine_amount'] do not exist\""
     ]
    }
   ],
   "source": [
    "df['paid'] = df['total_payments'] > 0\n",
    "violation_stats = df.groupby(['violation_code', 'violation_description']).agg(\n",
    "    total_tickets=('violation_code', 'size'),\n",
    "    tickets_paid=('paid', 'sum')\n",
    ").reset_index()\n",
    "\n",
    "# Calculate repayment rate for each violation type\n",
    "violation_stats['repayment_rate'] = violation_stats['tickets_paid'] / violation_stats['total_tickets']\n",
    "\n",
    "# Step 3: Identify the top 3 violations with high ticket counts and repayment rates\n",
    "# We can sort by 'total_tickets' and 'repayment_rate' to find the top violations\n",
    "violation_summary = df.groupby('violation_description').agg(\n",
    "    total_tickets=('violation_description', 'size'),\n",
    "    tickets_paid=('paid', 'sum'),\n",
    "    avg_fine=('fine_amount', 'mean')  # Adjust this if your column for fines has a different name\n",
    ").reset_index()\n",
    "\n",
    "# Calculate the repayment rate (fraction of tickets paid)\n",
    "violation_summary['repayment_rate'] = violation_summary['tickets_paid'] / violation_summary['total_tickets']\n",
    "\n",
    "# Step 3: Sort by total tickets issued to find the most common violations\n",
    "violation_summary_sorted = violation_summary.sort_values(by=['total_tickets', 'repayment_rate'], ascending=[False, False])\n",
    "\n",
    "# Step 4: Select the top 3 violation types for price increase recommendation\n",
    "top_3_violations = violation_summary_sorted.head(3)\n",
    "\n",
    "# Print the top 3 violation types\n",
    "print(\"Top 3 Violation Types to Increase Prices:\")\n",
    "print(top_3_violations[['violation_description', 'repayment_rate', 'avg_fine', 'total_tickets']])\n",
    "\n",
    "# Step 5: Create a plot to visualize total tickets vs repayment rate\n",
    "violation_chart = alt.Chart(violation_summary).mark_circle(size=60).encode(\n",
    "    x=alt.X('total_tickets:Q', title='Total Tickets Issued'),\n",
    "    y=alt.Y('repayment_rate:Q', title='Repayment Rate'),\n",
    "    color=alt.condition(\n",
    "        alt.FieldOneOfPredicate(field='violation_description', oneOf=top_3_violations['violation_description'].tolist()),\n",
    "        alt.value('red'),  # Highlight the top 3 violation types\n",
    "        alt.value('blue')  # All other violation types\n",
    "    ),\n",
    "    tooltip=['violation_description', 'total_tickets', 'repayment_rate']\n",
    ").properties(\n",
    "    title='Violation Types: Total Tickets Issued vs Repayment Rate'\n",
    ")\n",
    "\n",
    "# Show the chart\n",
    "violation_chart.show()"
   ]
  },
  {
   "cell_type": "code",
   "execution_count": null,
   "id": "215ed736-292e-4e93-9020-541b690dfd93",
   "metadata": {
    "vscode": {
     "languageId": "quarto"
    }
   },
   "outputs": [
    {
     "data": {
      "text/html": [
       "\n",
       "<style>\n",
       "  #altair-viz-9f0b247a6c88459fbce77243a48503eb.vega-embed {\n",
       "    width: 100%;\n",
       "    display: flex;\n",
       "  }\n",
       "\n",
       "  #altair-viz-9f0b247a6c88459fbce77243a48503eb.vega-embed details,\n",
       "  #altair-viz-9f0b247a6c88459fbce77243a48503eb.vega-embed details summary {\n",
       "    position: relative;\n",
       "  }\n",
       "</style>\n",
       "<div id=\"altair-viz-9f0b247a6c88459fbce77243a48503eb\"></div>\n",
       "<script type=\"text/javascript\">\n",
       "  var VEGA_DEBUG = (typeof VEGA_DEBUG == \"undefined\") ? {} : VEGA_DEBUG;\n",
       "  (function(spec, embedOpt){\n",
       "    let outputDiv = document.currentScript.previousElementSibling;\n",
       "    if (outputDiv.id !== \"altair-viz-9f0b247a6c88459fbce77243a48503eb\") {\n",
       "      outputDiv = document.getElementById(\"altair-viz-9f0b247a6c88459fbce77243a48503eb\");\n",
       "    }\n",
       "    const paths = {\n",
       "      \"vega\": \"https://cdn.jsdelivr.net/npm/vega@5?noext\",\n",
       "      \"vega-lib\": \"https://cdn.jsdelivr.net/npm/vega-lib?noext\",\n",
       "      \"vega-lite\": \"https://cdn.jsdelivr.net/npm/vega-lite@5.20.1?noext\",\n",
       "      \"vega-embed\": \"https://cdn.jsdelivr.net/npm/vega-embed@6?noext\",\n",
       "    };\n",
       "\n",
       "    function maybeLoadScript(lib, version) {\n",
       "      var key = `${lib.replace(\"-\", \"\")}_version`;\n",
       "      return (VEGA_DEBUG[key] == version) ?\n",
       "        Promise.resolve(paths[lib]) :\n",
       "        new Promise(function(resolve, reject) {\n",
       "          var s = document.createElement('script');\n",
       "          document.getElementsByTagName(\"head\")[0].appendChild(s);\n",
       "          s.async = true;\n",
       "          s.onload = () => {\n",
       "            VEGA_DEBUG[key] = version;\n",
       "            return resolve(paths[lib]);\n",
       "          };\n",
       "          s.onerror = () => reject(`Error loading script: ${paths[lib]}`);\n",
       "          s.src = paths[lib];\n",
       "        });\n",
       "    }\n",
       "\n",
       "    function showError(err) {\n",
       "      outputDiv.innerHTML = `<div class=\"error\" style=\"color:red;\">${err}</div>`;\n",
       "      throw err;\n",
       "    }\n",
       "\n",
       "    function displayChart(vegaEmbed) {\n",
       "      vegaEmbed(outputDiv, spec, embedOpt)\n",
       "        .catch(err => showError(`Javascript Error: ${err.message}<br>This usually means there's a typo in your chart specification. See the javascript console for the full traceback.`));\n",
       "    }\n",
       "\n",
       "    if(typeof define === \"function\" && define.amd) {\n",
       "      requirejs.config({paths});\n",
       "      require([\"vega-embed\"], displayChart, err => showError(`Error loading script: ${err.message}`));\n",
       "    } else {\n",
       "      maybeLoadScript(\"vega\", \"5\")\n",
       "        .then(() => maybeLoadScript(\"vega-lite\", \"5.20.1\"))\n",
       "        .then(() => maybeLoadScript(\"vega-embed\", \"6\"))\n",
       "        .catch(showError)\n",
       "        .then(() => displayChart(vegaEmbed));\n",
       "    }\n",
       "  })({\"config\": {\"view\": {\"continuousWidth\": 300, \"continuousHeight\": 300}}, \"data\": {\"name\": \"data-cfc6b09e0afaffd4d60db3bd6bbaa024\"}, \"mark\": {\"type\": \"circle\", \"size\": 60}, \"encoding\": {\"color\": {\"condition\": {\"test\": {\"field\": \"violation_code\", \"oneOf\": [\"0976160F\", \"0964040B\", \"0964090E\"]}, \"value\": \"red\"}, \"value\": \"blue\"}, \"tooltip\": [{\"field\": \"violation_code\", \"type\": \"nominal\"}, {\"field\": \"total_tickets\", \"type\": \"quantitative\"}, {\"field\": \"repayment_rate\", \"type\": \"quantitative\"}], \"x\": {\"field\": \"total_tickets\", \"title\": \"Total Tickets Issued\", \"type\": \"quantitative\"}, \"y\": {\"field\": \"repayment_rate\", \"title\": \"Repayment Rate\", \"type\": \"quantitative\"}}, \"title\": \"Violation Types: Total Tickets Issued vs. Repayment Rate\", \"$schema\": \"https://vega.github.io/schema/vega-lite/v5.20.1.json\", \"datasets\": {\"data-cfc6b09e0afaffd4d60db3bd6bbaa024\": [{\"violation_code\": \"0912060\", \"violation_description\": \"STAND, PARK, OR OTHER USE OF BUS LANE\", \"total_tickets\": 1233, \"tickets_paid\": 746, \"repayment_rate\": 0.6050283860502839}, {\"violation_code\": \"0940060\", \"violation_description\": \"PARK/STAND ON BICYCLE PATH\", \"total_tickets\": 236, \"tickets_paid\": 161, \"repayment_rate\": 0.6822033898305084}, {\"violation_code\": \"0940080\", \"violation_description\": \"PARKED/STANDING UNATTENDED W/MOTOR RUNNI\", \"total_tickets\": 81, \"tickets_paid\": 40, \"repayment_rate\": 0.49382716049382713}, {\"violation_code\": \"0940170\", \"violation_description\": \"UNSAFE CONDITION\", \"total_tickets\": 64, \"tickets_paid\": 35, \"repayment_rate\": 0.546875}, {\"violation_code\": \"0940220\", \"violation_description\": \"NO OPERATOR SIGNAL\", \"total_tickets\": 32, \"tickets_paid\": 21, \"repayment_rate\": 0.65625}, {\"violation_code\": \"0964020A\", \"violation_description\": \"WRONG DIRECTION OR 12'' FROM CURB\", \"total_tickets\": 1111, \"tickets_paid\": 860, \"repayment_rate\": 0.774077407740774}, {\"violation_code\": \"0964020B\", \"violation_description\": \"OBSTRUCT ROADWAY\", \"total_tickets\": 1577, \"tickets_paid\": 799, \"repayment_rate\": 0.5066582117945466}, {\"violation_code\": \"0964020C\", \"violation_description\": \"PARK MOTORCYCLE/SCOOTER PARK AT 90 DEGREE ANGLE\", \"total_tickets\": 14, \"tickets_paid\": 10, \"repayment_rate\": 0.7142857142857143}, {\"violation_code\": \"0964030B\", \"violation_description\": \"OUTSIDE DIAGONAL MARKINGS\", \"total_tickets\": 110, \"tickets_paid\": 80, \"repayment_rate\": 0.7272727272727273}, {\"violation_code\": \"0964040B\", \"violation_description\": \"STREET CLEANING\", \"total_tickets\": 28712, \"tickets_paid\": 23426, \"repayment_rate\": 0.8158957926999164}, {\"violation_code\": \"0964040B\", \"violation_description\": \"STREET CLEANING OR SPECIAL EVENT\", \"total_tickets\": 3370, \"tickets_paid\": 2659, \"repayment_rate\": 0.7890207715133531}, {\"violation_code\": \"0964041\", \"violation_description\": \"SPECIAL EVENTS RESTRICTION\", \"total_tickets\": 245, \"tickets_paid\": 201, \"repayment_rate\": 0.8204081632653061}, {\"violation_code\": \"0964041B\", \"violation_description\": \"SPECIAL EVENTS RESTRICTION\", \"total_tickets\": 217, \"tickets_paid\": 157, \"repayment_rate\": 0.7235023041474654}, {\"violation_code\": \"0964041B\", \"violation_description\": \"Special Events\", \"total_tickets\": 25, \"tickets_paid\": 17, \"repayment_rate\": 0.68}, {\"violation_code\": \"0964050I\", \"violation_description\": \"DISABLED PARKING\", \"total_tickets\": 5, \"tickets_paid\": 3, \"repayment_rate\": 0.6}, {\"violation_code\": \"0964050J\", \"violation_description\": \"DISABLED PARKING ZONE\", \"total_tickets\": 2034, \"tickets_paid\": 1153, \"repayment_rate\": 0.5668633235004916}, {\"violation_code\": \"0964050J*\", \"violation_description\": \"INVALID PLACARD\", \"total_tickets\": 5, \"tickets_paid\": 3, \"repayment_rate\": 0.6}, {\"violation_code\": \"0964060\", \"violation_description\": \"3-7 AM SNOW ROUTE\", \"total_tickets\": 827, \"tickets_paid\": 605, \"repayment_rate\": 0.7315598548972189}, {\"violation_code\": \"0964060B\", \"violation_description\": \"3-7 AM SNOW ROUTE\", \"total_tickets\": 12, \"tickets_paid\": 8, \"repayment_rate\": 0.6666666666666666}, {\"violation_code\": \"0964070\", \"violation_description\": \"SNOW ROUTE: 2' OF SNOW OR MORE\", \"total_tickets\": 20, \"tickets_paid\": 13, \"repayment_rate\": 0.65}, {\"violation_code\": \"0964070\", \"violation_description\": \"SNOW ROUTE: 2'' OF SNOW OR MORE\", \"total_tickets\": 144, \"tickets_paid\": 101, \"repayment_rate\": 0.7013888888888888}, {\"violation_code\": \"0964080A\", \"violation_description\": \"RUSH HOUR PARKING\", \"total_tickets\": 11965, \"tickets_paid\": 9279, \"repayment_rate\": 0.7755119097367321}, {\"violation_code\": \"0964080B\", \"violation_description\": \"NO STANDING/PARKING TIME RESTRICTED\", \"total_tickets\": 8640, \"tickets_paid\": 6548, \"repayment_rate\": 0.7578703703703704}, {\"violation_code\": \"0964090E\", \"violation_description\": \"RESIDENTIAL PERMIT PARKING\", \"total_tickets\": 23683, \"tickets_paid\": 17667, \"repayment_rate\": 0.7459781277709749}, {\"violation_code\": \"0964091\", \"violation_description\": \"INDUSTRIAL PERMIT PARKING\", \"total_tickets\": 117, \"tickets_paid\": 99, \"repayment_rate\": 0.8461538461538461}, {\"violation_code\": \"0964091B\", \"violation_description\": \"INDUSTRIAL PERMIT PARKING\", \"total_tickets\": 3, \"tickets_paid\": 1, \"repayment_rate\": 0.3333333333333333}, {\"violation_code\": \"0964100A\", \"violation_description\": \"WITHIN 15' OF FIRE HYDRANT\", \"total_tickets\": 6104, \"tickets_paid\": 4203, \"repayment_rate\": 0.688564875491481}, {\"violation_code\": \"0964100B\", \"violation_description\": \"PARK IN FIRE LANE\", \"total_tickets\": 86, \"tickets_paid\": 49, \"repayment_rate\": 0.5697674418604651}, {\"violation_code\": \"0964100C\", \"violation_description\": \"BLOCK ACCESS/ALLEY/DRIVEWAY/FIRELANE\", \"total_tickets\": 1579, \"tickets_paid\": 1044, \"repayment_rate\": 0.6611779607346422}, {\"violation_code\": \"0964100D\", \"violation_description\": \"DISABLED CURB CUT\", \"total_tickets\": 436, \"tickets_paid\": 340, \"repayment_rate\": 0.7798165137614679}, {\"violation_code\": \"0964100E\", \"violation_description\": \"UNDER FIRE ESCAPE\", \"total_tickets\": 42, \"tickets_paid\": 30, \"repayment_rate\": 0.7142857142857143}, {\"violation_code\": \"0964100F\", \"violation_description\": \"20'OF CROSSWALK\", \"total_tickets\": 393, \"tickets_paid\": 284, \"repayment_rate\": 0.72264631043257}, {\"violation_code\": \"0964100G\", \"violation_description\": \"STOP SIGN OR TRAFFIC SIGNAL\", \"total_tickets\": 2191, \"tickets_paid\": 1777, \"repayment_rate\": 0.8110451848471018}, {\"violation_code\": \"0964100H\", \"violation_description\": \"THEATER ENTRANCE/EXIT\", \"total_tickets\": 4, \"tickets_paid\": 1, \"repayment_rate\": 0.25}, {\"violation_code\": \"0964110A\", \"violation_description\": \"DOUBLE PARKING OR STANDING\", \"total_tickets\": 2904, \"tickets_paid\": 1747, \"repayment_rate\": 0.6015840220385675}, {\"violation_code\": \"0964110B\", \"violation_description\": \"PARK OR STAND WITHIN INTERSECTION\", \"total_tickets\": 26, \"tickets_paid\": 19, \"repayment_rate\": 0.7307692307692307}, {\"violation_code\": \"0964110C\", \"violation_description\": \"PARK OR STAND ON CROSSWALK\", \"total_tickets\": 1953, \"tickets_paid\": 1402, \"repayment_rate\": 0.7178699436763953}, {\"violation_code\": \"0964110D\", \"violation_description\": \"PARK OR STAND ON SIDEWALK\", \"total_tickets\": 1036, \"tickets_paid\": 713, \"repayment_rate\": 0.6882239382239382}, {\"violation_code\": \"0964110E\", \"violation_description\": \"PARK OR STAND ON PARKWAY\", \"total_tickets\": 495, \"tickets_paid\": 362, \"repayment_rate\": 0.7313131313131314}, {\"violation_code\": \"0964110F\", \"violation_description\": \"PARK OR STAND ON BRIDGE\", \"total_tickets\": 40, \"tickets_paid\": 29, \"repayment_rate\": 0.725}, {\"violation_code\": \"0964110G\", \"violation_description\": \"PARK OR STAND IN VIADUCT/UNDERPASS\", \"total_tickets\": 247, \"tickets_paid\": 183, \"repayment_rate\": 0.7408906882591093}, {\"violation_code\": \"0964110H\", \"violation_description\": \"PARK OR STAND ON OR WITHIN 10' RR TRACKS\", \"total_tickets\": 17, \"tickets_paid\": 11, \"repayment_rate\": 0.6470588235294118}, {\"violation_code\": \"0964120A\", \"violation_description\": \"PARK OR STAND ON CITY PROPERTY\", \"total_tickets\": 183, \"tickets_paid\": 77, \"repayment_rate\": 0.4207650273224044}, {\"violation_code\": \"0964120B\", \"violation_description\": \"PARK OR STAND ON CHA PROPERTY\", \"total_tickets\": 62, \"tickets_paid\": 38, \"repayment_rate\": 0.6129032258064516}, {\"violation_code\": \"0964125\", \"violation_description\": \"NO CITY STICKER OR IMPROPER DISPLAY\", \"total_tickets\": 10758, \"tickets_paid\": 5973, \"repayment_rate\": 0.5552147239263804}, {\"violation_code\": \"0964125B\", \"violation_description\": \"NO CITY STICKER VEHICLE UNDER/EQUAL TO 16,000 LBS.\", \"total_tickets\": 14246, \"tickets_paid\": 6160, \"repayment_rate\": 0.43240207777621786}, {\"violation_code\": \"0964125C\", \"violation_description\": \"NO CITY STICKER VEHICLE OVER 16,000 LBS.\", \"total_tickets\": 131, \"tickets_paid\": 19, \"repayment_rate\": 0.1450381679389313}, {\"violation_code\": \"0964125D\", \"violation_description\": \"IMPROPER DISPLAY OF CITY STICKER\", \"total_tickets\": 399, \"tickets_paid\": 306, \"repayment_rate\": 0.7669172932330827}, {\"violation_code\": \"0964130\", \"violation_description\": \"PARK OR BLOCK ALLEY\", \"total_tickets\": 2050, \"tickets_paid\": 1109, \"repayment_rate\": 0.5409756097560976}, {\"violation_code\": \"0964130A\", \"violation_description\": \"PARK ALLEY\", \"total_tickets\": 998, \"tickets_paid\": 426, \"repayment_rate\": 0.42685370741482964}, {\"violation_code\": \"0964130B\", \"violation_description\": \"BLOCK ALLEY\", \"total_tickets\": 20, \"tickets_paid\": 13, \"repayment_rate\": 0.65}, {\"violation_code\": \"0964140B\", \"violation_description\": \"PARK OR STAND IN BUS/TAXI/CARRIAGE STAND\", \"total_tickets\": 6004, \"tickets_paid\": 4051, \"repayment_rate\": 0.6747168554297135}, {\"violation_code\": \"0964150A\", \"violation_description\": \"PARK OR STAND NEAR FIRE STATION OR RR XX\", \"total_tickets\": 7, \"tickets_paid\": 4, \"repayment_rate\": 0.5714285714285714}, {\"violation_code\": \"0964150B\", \"violation_description\": \"PARKING/STANDING PROHIBITED ANYTIME\", \"total_tickets\": 19753, \"tickets_paid\": 14038, \"repayment_rate\": 0.710676859211259}, {\"violation_code\": \"0964160A\", \"violation_description\": \"CURB LOADING ZONE\", \"total_tickets\": 1, \"tickets_paid\": 1, \"repayment_rate\": 1.0}, {\"violation_code\": \"0964160B\", \"violation_description\": \"CURB LOADING ZONE\", \"total_tickets\": 1204, \"tickets_paid\": 850, \"repayment_rate\": 0.7059800664451827}, {\"violation_code\": \"0964160C\", \"violation_description\": \"NO DISPLAY OF BACK-IN PERMIT\", \"total_tickets\": 5, \"tickets_paid\": 3, \"repayment_rate\": 0.6}, {\"violation_code\": \"0964170A\", \"violation_description\": \"TRUCK,RV,BUS, OR TAXI RESIDENTIAL STREET\", \"total_tickets\": 4789, \"tickets_paid\": 3332, \"repayment_rate\": 0.6957611192315724}, {\"violation_code\": \"0964170B\", \"violation_description\": \"TRUCK,MOTOR HOME, BUS BUSINESS STREET\", \"total_tickets\": 456, \"tickets_paid\": 314, \"repayment_rate\": 0.6885964912280702}, {\"violation_code\": \"0964170C\", \"violation_description\": \"VEH 6' OR HIGHER WITHIN 20' OF CROSSWALK\", \"total_tickets\": 41, \"tickets_paid\": 30, \"repayment_rate\": 0.7317073170731707}, {\"violation_code\": \"0964170D\", \"violation_description\": \"TRUCK OR SEMI-TRAILER PROHIBITED\", \"total_tickets\": 145, \"tickets_paid\": 78, \"repayment_rate\": 0.5379310344827586}, {\"violation_code\": \"0964170D\", \"violation_description\": \"TRUCK TRAILOR/SEMI/TRAILER PROHIBITED\", \"total_tickets\": 157, \"tickets_paid\": 72, \"repayment_rate\": 0.4585987261146497}, {\"violation_code\": \"0964180A\", \"violation_description\": \"NO PARKING IN LOOP\", \"total_tickets\": 34, \"tickets_paid\": 20, \"repayment_rate\": 0.5882352941176471}, {\"violation_code\": \"0964190\", \"violation_description\": \"EXPIRED METER OR OVERSTAY\", \"total_tickets\": 18756, \"tickets_paid\": 15122, \"repayment_rate\": 0.8062486670931969}, {\"violation_code\": \"0964190A\", \"violation_description\": \"EXP. METER NON-CENTRAL BUSINESS DISTRICT\", \"total_tickets\": 20600, \"tickets_paid\": 16387, \"repayment_rate\": 0.7954854368932038}, {\"violation_code\": \"0964190B\", \"violation_description\": \"EXPIRED METER CENTRAL BUSINESS DISTRICT\", \"total_tickets\": 9736, \"tickets_paid\": 7279, \"repayment_rate\": 0.7476376335250616}, {\"violation_code\": \"0964190C\", \"violation_description\": \"NON PYMT/NON-COM VEH PARKED IN COM LOADING ZONE\", \"total_tickets\": 100, \"tickets_paid\": 45, \"repayment_rate\": 0.45}, {\"violation_code\": \"0964200B\", \"violation_description\": \"OUTSIDE METERED SPACE\", \"total_tickets\": 63, \"tickets_paid\": 49, \"repayment_rate\": 0.7777777777777778}, {\"violation_code\": \"0964200B\", \"violation_description\": \"PARK OUTSIDE METERED SPACE\", \"total_tickets\": 278, \"tickets_paid\": 165, \"repayment_rate\": 0.5935251798561151}, {\"violation_code\": \"0964210\", \"violation_description\": \"FAIL TO DISPLAY TV NEWS PERMIT\", \"total_tickets\": 20, \"tickets_paid\": 13, \"repayment_rate\": 0.65}, {\"violation_code\": \"0968040I\", \"violation_description\": \"PARK/STAND IN WRIGLEY BUS PERMIT ZONE\", \"total_tickets\": 4, \"tickets_paid\": 3, \"repayment_rate\": 0.75}, {\"violation_code\": \"0976010A\", \"violation_description\": \"BRAKES REQUIRED DURING OPERATION\", \"total_tickets\": 1, \"tickets_paid\": 1, \"repayment_rate\": 1.0}, {\"violation_code\": \"0976020A\", \"violation_description\": \"SERVICE BRAKES:STOPPING CAPABILITY\", \"total_tickets\": 6, \"tickets_paid\": 5, \"repayment_rate\": 0.8333333333333334}, {\"violation_code\": \"0976020B\", \"violation_description\": \"HAND BRAKES:PROPER STOPPING CAPABILITY\", \"total_tickets\": 1, \"tickets_paid\": 1, \"repayment_rate\": 1.0}, {\"violation_code\": \"0976020E\", \"violation_description\": \"BRAKES REQUIRED IN GOOD WORKING ORDER\", \"total_tickets\": 1, \"tickets_paid\": 1, \"repayment_rate\": 1.0}, {\"violation_code\": \"0976040A\", \"violation_description\": \"HORN REQUIRED DURING OPERATION\", \"total_tickets\": 2, \"tickets_paid\": 0, \"repayment_rate\": 0.0}, {\"violation_code\": \"0976040B\", \"violation_description\": \"USE OF SIREN/BELL/WHISTLE PROHIBITED\", \"total_tickets\": 4, \"tickets_paid\": 3, \"repayment_rate\": 0.75}, {\"violation_code\": \"0976050A\", \"violation_description\": \"MOTORCYCLE HEAD LAMP VISIBLE 500'\", \"total_tickets\": 7, \"tickets_paid\": 2, \"repayment_rate\": 0.2857142857142857}, {\"violation_code\": \"0976050B\", \"violation_description\": \"TWO HEAD LAMPS REQUIRED VISIBLE 1000'\", \"total_tickets\": 443, \"tickets_paid\": 266, \"repayment_rate\": 0.600451467268623}, {\"violation_code\": \"0976050C\", \"violation_description\": \"RED REAR LAMP REQUIRED VISIBLE 500'\", \"total_tickets\": 115, \"tickets_paid\": 64, \"repayment_rate\": 0.5565217391304348}, {\"violation_code\": \"0976050D\", \"violation_description\": \"REAR PLATE LIT AND LEGIBLE FOR 50'\", \"total_tickets\": 110, \"tickets_paid\": 62, \"repayment_rate\": 0.5636363636363636}, {\"violation_code\": \"0976050E\", \"violation_description\": \"2 REAR TRAILER LAMPS REQ'D VISIBLE 500'\", \"total_tickets\": 4, \"tickets_paid\": 1, \"repayment_rate\": 0.25}, {\"violation_code\": \"0976070A\", \"violation_description\": \"IMPROPER SIDE COWL/FENDER LAMPS\", \"total_tickets\": 3, \"tickets_paid\": 2, \"repayment_rate\": 0.6666666666666666}, {\"violation_code\": \"0976070C\", \"violation_description\": \"BACK-UP LAMP LIT DURING OPERATION\", \"total_tickets\": 2, \"tickets_paid\": 2, \"repayment_rate\": 1.0}, {\"violation_code\": \"0976070D\", \"violation_description\": \"MORE THAN FOUR FRONT MOUNTED LAMPS\", \"total_tickets\": 1, \"tickets_paid\": 1, \"repayment_rate\": 1.0}, {\"violation_code\": \"0976080\", \"violation_description\": \"IMPROPER LAMPS NON-MOTOR VEHICLE\", \"total_tickets\": 9, \"tickets_paid\": 5, \"repayment_rate\": 0.5555555555555556}, {\"violation_code\": \"0976090B\", \"violation_description\": \"IMPROPER LAMP FOR PARKED VEH ON UNLIT ST\", \"total_tickets\": 9, \"tickets_paid\": 6, \"repayment_rate\": 0.6666666666666666}, {\"violation_code\": \"0976090C\", \"violation_description\": \"DEPR./DIMMED LAMPS\", \"total_tickets\": 4, \"tickets_paid\": 0, \"repayment_rate\": 0.0}, {\"violation_code\": \"0976100A\", \"violation_description\": \"SUSPENSION MODIFIED BEYOND 3\", \"total_tickets\": 1, \"tickets_paid\": 0, \"repayment_rate\": 0.0}, {\"violation_code\": \"0976110A\", \"violation_description\": \"PROPER FRONT AND REAR BUMPERS REQUIRED\", \"total_tickets\": 21, \"tickets_paid\": 11, \"repayment_rate\": 0.5238095238095238}, {\"violation_code\": \"0976120\", \"violation_description\": \"REAR VIEW MIRROR REQUIRED\", \"total_tickets\": 27, \"tickets_paid\": 20, \"repayment_rate\": 0.7407407407407407}, {\"violation_code\": \"0976130\", \"violation_description\": \"TWO RED REAR TRAILER REFLECTORS REQUIRED\", \"total_tickets\": 1, \"tickets_paid\": 1, \"repayment_rate\": 1.0}, {\"violation_code\": \"0976140A\", \"violation_description\": \"NO OR IMPROPER MUFFLER\", \"total_tickets\": 9, \"tickets_paid\": 5, \"repayment_rate\": 0.5555555555555556}, {\"violation_code\": \"0976140B\", \"violation_description\": \"EXCESS FUMES/SMOKE DURING OPERATION\", \"total_tickets\": 12, \"tickets_paid\": 7, \"repayment_rate\": 0.5833333333333334}, {\"violation_code\": \"0976150B\", \"violation_description\": \"BURGLAR ALARM SOUNDING OVER 4 MINUTES\", \"total_tickets\": 102, \"tickets_paid\": 78, \"repayment_rate\": 0.7647058823529411}, {\"violation_code\": \"0976160A\", \"violation_description\": \"MISSING/NONCOMPLIANT FRONT AND/OR REAR PLATE\", \"total_tickets\": 1024, \"tickets_paid\": 331, \"repayment_rate\": 0.3232421875}, {\"violation_code\": \"0976160A\", \"violation_description\": \"REAR AND FRONT PLATE REQUIRED\", \"total_tickets\": 15829, \"tickets_paid\": 8461, \"repayment_rate\": 0.5345252384863226}, {\"violation_code\": \"0976160B\", \"violation_description\": \"EXPIRED PLATE OR TEMPORARY REGISTRATION\", \"total_tickets\": 2720, \"tickets_paid\": 1120, \"repayment_rate\": 0.4117647058823529}, {\"violation_code\": \"0976160B\", \"violation_description\": \"REAR PLATE REQUIRED MOTORCYCLE/TRAILER\", \"total_tickets\": 352, \"tickets_paid\": 202, \"repayment_rate\": 0.5738636363636364}, {\"violation_code\": \"0976160C\", \"violation_description\": \"FRONT PLATE REQUIRED FOR TRUCK TRACTORS\", \"total_tickets\": 21, \"tickets_paid\": 12, \"repayment_rate\": 0.5714285714285714}, {\"violation_code\": \"0976160D\", \"violation_description\": \"NONCOMPLIANT PLATE(S)\", \"total_tickets\": 1920, \"tickets_paid\": 1186, \"repayment_rate\": 0.6177083333333333}, {\"violation_code\": \"0976160F\", \"violation_description\": \"EXPIRED PLATES OR TEMPORARY REGISTRATION\", \"total_tickets\": 44811, \"tickets_paid\": 27248, \"repayment_rate\": 0.6080649840440964}, {\"violation_code\": \"0976170\", \"violation_description\": \"NO CITY STICKER OR IMPROPER DISPLAY\", \"total_tickets\": 15, \"tickets_paid\": 10, \"repayment_rate\": 0.6666666666666666}, {\"violation_code\": \"0976180A\", \"violation_description\": \"SAFETY BELTS REQUIRED\", \"total_tickets\": 981, \"tickets_paid\": 700, \"repayment_rate\": 0.7135575942915392}, {\"violation_code\": \"0976180B\", \"violation_description\": \"SAFETY BELTS REQUIRED ON SCHOOL BUS\", \"total_tickets\": 54, \"tickets_paid\": 38, \"repayment_rate\": 0.7037037037037037}, {\"violation_code\": \"0976190\", \"violation_description\": \"COMMERCIAL IDENTIFICATION ETC. REQUIRED\", \"total_tickets\": 1, \"tickets_paid\": 1, \"repayment_rate\": 1.0}, {\"violation_code\": \"0976200A\", \"violation_description\": \"PROJECTING LOAD (LEFT OR RIGHT SIDE)\", \"total_tickets\": 6, \"tickets_paid\": 3, \"repayment_rate\": 0.5}, {\"violation_code\": \"0976200B\", \"violation_description\": \"PROJECTING LOAD (REAR)\", \"total_tickets\": 3, \"tickets_paid\": 3, \"repayment_rate\": 1.0}, {\"violation_code\": \"0976210A\", \"violation_description\": \"LAMPS BROKEN OR INOPERABLE\", \"total_tickets\": 162, \"tickets_paid\": 97, \"repayment_rate\": 0.5987654320987654}, {\"violation_code\": \"0976210B\", \"violation_description\": \"WINDOWS MISSING OR CRACKED BEYOND 6\", \"total_tickets\": 576, \"tickets_paid\": 351, \"repayment_rate\": 0.609375}, {\"violation_code\": \"0976220A\", \"violation_description\": \"OBSTRUCTED OR IMPROPERLY TINTED WINDOWS\", \"total_tickets\": 271, \"tickets_paid\": 155, \"repayment_rate\": 0.5719557195571956}, {\"violation_code\": \"0976220B\", \"violation_description\": \"SMOKED/TINTED WINDOWS PARKED/STANDING\", \"total_tickets\": 1697, \"tickets_paid\": 1086, \"repayment_rate\": 0.6399528579846788}, {\"violation_code\": \"0980080A\", \"violation_description\": \"PARK VEHICLE SOLE PURPOSE OF DISPLAYING FOR SALE\", \"total_tickets\": 664, \"tickets_paid\": 129, \"repayment_rate\": 0.19427710843373494}, {\"violation_code\": \"0980080B\", \"violation_description\": \"PARK VEHICLE TO GREASE OR REPAIR\", \"total_tickets\": 34, \"tickets_paid\": 14, \"repayment_rate\": 0.4117647058823529}, {\"violation_code\": \"0980080C\", \"violation_description\": \"PARK VEHICLE TO SELL MERCHANDISE\", \"total_tickets\": 12, \"tickets_paid\": 4, \"repayment_rate\": 0.3333333333333333}, {\"violation_code\": \"0980095\", \"violation_description\": \"EXCESSIVE DIESEL POWERED VEHICLE ENGINE RUNNING\", \"total_tickets\": 4, \"tickets_paid\": 2, \"repayment_rate\": 0.5}, {\"violation_code\": \"0980110A\", \"violation_description\": \"ABANDONED VEH. FOR 7 DAYS OR INOPERABLE\", \"total_tickets\": 1104, \"tickets_paid\": 281, \"repayment_rate\": 0.2545289855072464}, {\"violation_code\": \"0980110B\", \"violation_description\": \"HAZARDOUS DILAPIDATED VEHICLE\", \"total_tickets\": 148, \"tickets_paid\": 37, \"repayment_rate\": 0.25}, {\"violation_code\": \"0980110B\", \"violation_description\": \"HAZARDOUS DILAPITATED VEHICLE\", \"total_tickets\": 298, \"tickets_paid\": 69, \"repayment_rate\": 0.23154362416107382}, {\"violation_code\": \"0980120A\", \"violation_description\": \"NO PARK IN PUBLIC LOT\", \"total_tickets\": 119, \"tickets_paid\": 36, \"repayment_rate\": 0.3025210084033613}, {\"violation_code\": \"0980120B\", \"violation_description\": \"NO PARK IN PRIVATE LOT\", \"total_tickets\": 378, \"tickets_paid\": 220, \"repayment_rate\": 0.582010582010582}, {\"violation_code\": \"0980130A\", \"violation_description\": \"FAIL TO PAY OR OUTSIDE SPACE IN CITY LOT\", \"total_tickets\": 90, \"tickets_paid\": 66, \"repayment_rate\": 0.7333333333333333}, {\"violation_code\": \"0980130B\", \"violation_description\": \"PARK IN CITY LOT WHEN CLOSED\", \"total_tickets\": 225, \"tickets_paid\": 161, \"repayment_rate\": 0.7155555555555555}, {\"violation_code\": \"0980130C\", \"violation_description\": \"PARK IN CITY LOT OVER 30 DAYS\", \"total_tickets\": 9, \"tickets_paid\": 2, \"repayment_rate\": 0.2222222222222222}]}}, {\"mode\": \"vega-lite\"});\n",
       "</script>"
      ],
      "text/plain": [
       "alt.Chart(...)"
      ]
     },
     "metadata": {},
     "output_type": "display_data"
    },
    {
     "name": "stdout",
     "output_type": "stream",
     "text": [
      "Top 3 Violation Types to Increase Prices:\n",
      "    violation_code                     violation_description  total_tickets  \\\n",
      "101       0976160F  EXPIRED PLATES OR TEMPORARY REGISTRATION          44811   \n",
      "9         0964040B                           STREET CLEANING          28712   \n",
      "23        0964090E                RESIDENTIAL PERMIT PARKING          23683   \n",
      "\n",
      "     repayment_rate  \n",
      "101        0.608065  \n",
      "9          0.815896  \n",
      "23         0.745978  \n",
      "    violation_code                     violation_description  total_tickets  \\\n",
      "101       0976160F  EXPIRED PLATES OR TEMPORARY REGISTRATION          44811   \n",
      "9         0964040B                           STREET CLEANING          28712   \n",
      "23        0964090E                RESIDENTIAL PERMIT PARKING          23683   \n",
      "\n",
      "     tickets_paid  repayment_rate  \n",
      "101         27248        0.608065  \n",
      "9           23426        0.815896  \n",
      "23          17667        0.745978  \n"
     ]
    }
   ],
   "source": [
    "df['paid'] = df['total_payments'] > 0\n",
    "violation_stats = df.groupby(['violation_code', 'violation_description']).agg(\n",
    "    total_tickets=('violation_code', 'size'),\n",
    "    tickets_paid=('paid', 'sum')\n",
    ").reset_index()\n",
    "\n",
    "# Calculate repayment rate for each violation type\n",
    "violation_stats['repayment_rate'] = violation_stats['tickets_paid'] / violation_stats['total_tickets']\n",
    "\n",
    "# Step 3: Identify the top 3 violations with high ticket counts and repayment rates\n",
    "# We can sort by 'total_tickets' and 'repayment_rate' to find the top violations\n",
    "top_violations = violation_stats.sort_values(by=['total_tickets', 'repayment_rate'], ascending=[False, False]).head(3)\n",
    "\n",
    "# Step 4: Create a plot to visualize the number of tickets and repayment rate\n",
    "violation_chart = alt.Chart(violation_stats).mark_circle(size=60).encode(\n",
    "    x=alt.X('total_tickets:Q', title='Total Tickets Issued'),\n",
    "    y=alt.Y('repayment_rate:Q', title='Repayment Rate'),\n",
    "    color=alt.condition(\n",
    "        alt.FieldOneOfPredicate(field='violation_code', oneOf=top_violations['violation_code'].tolist()),\n",
    "        alt.value('red'),  # Highlight top 3 violations\n",
    "        alt.value('blue')  # Other violations\n",
    "    ),\n",
    "    tooltip=['violation_code', 'total_tickets', 'repayment_rate']\n",
    ").properties(\n",
    "    title='Violation Types: Total Tickets Issued vs. Repayment Rate'\n",
    ")\n",
    "\n",
    "# Display the chart\n",
    "violation_chart.show()\n",
    "\n",
    "# Display the top 3 recommended violation types for increasing prices\n",
    "print(\"Top 3 Violation Types to Increase Prices:\")\n",
    "print(top_violations[['violation_code', 'violation_description', 'total_tickets', 'repayment_rate']])\n",
    "\n",
    "print(top_violations)"
   ]
  },
  {
   "cell_type": "code",
   "execution_count": null,
   "id": "d61ecfda-3347-4e25-9c59-7187fe2b94c0",
   "metadata": {
    "vscode": {
     "languageId": "quarto"
    }
   },
   "outputs": [
    {
     "ename": "KeyError",
     "evalue": "\"Column(s) ['fine_amount'] do not exist\"",
     "output_type": "error",
     "traceback": [
      "\u001b[0;31m---------------------------------------------------------------------------\u001b[0m",
      "\u001b[0;31mKeyError\u001b[0m                                  Traceback (most recent call last)",
      "File \u001b[1;32m/Users/hkkkkk/Documents/GitHub/ppha30538_fall2024/30538-dap-ii-problem-set-2-ps2-dap2-python-fall2024/pset2_template.qmd:1\u001b[0m\n\u001b[0;32m----> 1\u001b[0m violation_summary \u001b[39m=\u001b[39m df\u001b[39m.\u001b[39mgroupby(\u001b[39m'\u001b[39m\u001b[39mviolation_description\u001b[39m\u001b[39m'\u001b[39m)\u001b[39m.\u001b[39magg(\n\u001b[1;32m      2\u001b[0m     total_tickets\u001b[39m=\u001b[39m(\u001b[39m'\u001b[39m\u001b[39mviolation_description\u001b[39m\u001b[39m'\u001b[39m, \u001b[39m'\u001b[39m\u001b[39msize\u001b[39m\u001b[39m'\u001b[39m),\n\u001b[1;32m      3\u001b[0m     tickets_paid\u001b[39m=\u001b[39m(\u001b[39m'\u001b[39m\u001b[39mpaid\u001b[39m\u001b[39m'\u001b[39m, \u001b[39m'\u001b[39m\u001b[39msum\u001b[39m\u001b[39m'\u001b[39m),\n\u001b[1;32m      4\u001b[0m     avg_fine\u001b[39m=\u001b[39m(\u001b[39m'\u001b[39m\u001b[39mfine_amount\u001b[39m\u001b[39m'\u001b[39m, \u001b[39m'\u001b[39m\u001b[39mmean\u001b[39m\u001b[39m'\u001b[39m)  \u001b[39m# Adjust this if your column for fines has a different name\u001b[39;00m\n\u001b[1;32m      5\u001b[0m )\u001b[39m.\u001b[39mreset_index()\n\u001b[1;32m      7\u001b[0m \u001b[39m# Calculate the repayment rate (fraction of tickets paid)\u001b[39;00m\n\u001b[1;32m      8\u001b[0m violation_summary[\u001b[39m'\u001b[39m\u001b[39mrepayment_rate\u001b[39m\u001b[39m'\u001b[39m] \u001b[39m=\u001b[39m violation_summary[\u001b[39m'\u001b[39m\u001b[39mtickets_paid\u001b[39m\u001b[39m'\u001b[39m] \u001b[39m/\u001b[39m violation_summary[\u001b[39m'\u001b[39m\u001b[39mtotal_tickets\u001b[39m\u001b[39m'\u001b[39m]\n",
      "File \u001b[0;32m/opt/anaconda3/lib/python3.11/site-packages/pandas/core/groupby/generic.py:1432\u001b[0m, in \u001b[0;36mDataFrameGroupBy.aggregate\u001b[0;34m(self, func, engine, engine_kwargs, *args, **kwargs)\u001b[0m\n\u001b[1;32m   1429\u001b[0m     kwargs[\u001b[39m\"\u001b[39m\u001b[39mengine_kwargs\u001b[39m\u001b[39m\"\u001b[39m] \u001b[39m=\u001b[39m engine_kwargs\n\u001b[1;32m   1431\u001b[0m op \u001b[39m=\u001b[39m GroupByApply(\u001b[39mself\u001b[39m, func, args\u001b[39m=\u001b[39margs, kwargs\u001b[39m=\u001b[39mkwargs)\n\u001b[0;32m-> 1432\u001b[0m result \u001b[39m=\u001b[39m op\u001b[39m.\u001b[39magg()\n\u001b[1;32m   1433\u001b[0m \u001b[39mif\u001b[39;00m \u001b[39mnot\u001b[39;00m is_dict_like(func) \u001b[39mand\u001b[39;00m result \u001b[39mis\u001b[39;00m \u001b[39mnot\u001b[39;00m \u001b[39mNone\u001b[39;00m:\n\u001b[1;32m   1434\u001b[0m     \u001b[39m# GH #52849\u001b[39;00m\n\u001b[1;32m   1435\u001b[0m     \u001b[39mif\u001b[39;00m \u001b[39mnot\u001b[39;00m \u001b[39mself\u001b[39m\u001b[39m.\u001b[39mas_index \u001b[39mand\u001b[39;00m is_list_like(func):\n",
      "File \u001b[0;32m/opt/anaconda3/lib/python3.11/site-packages/pandas/core/apply.py:190\u001b[0m, in \u001b[0;36mApply.agg\u001b[0;34m(self)\u001b[0m\n\u001b[1;32m    187\u001b[0m     \u001b[39mreturn\u001b[39;00m \u001b[39mself\u001b[39m\u001b[39m.\u001b[39mapply_str()\n\u001b[1;32m    189\u001b[0m \u001b[39mif\u001b[39;00m is_dict_like(func):\n\u001b[0;32m--> 190\u001b[0m     \u001b[39mreturn\u001b[39;00m \u001b[39mself\u001b[39m\u001b[39m.\u001b[39magg_dict_like()\n\u001b[1;32m    191\u001b[0m \u001b[39melif\u001b[39;00m is_list_like(func):\n\u001b[1;32m    192\u001b[0m     \u001b[39m# we require a list, but not a 'str'\u001b[39;00m\n\u001b[1;32m    193\u001b[0m     \u001b[39mreturn\u001b[39;00m \u001b[39mself\u001b[39m\u001b[39m.\u001b[39magg_list_like()\n",
      "File \u001b[0;32m/opt/anaconda3/lib/python3.11/site-packages/pandas/core/apply.py:423\u001b[0m, in \u001b[0;36mApply.agg_dict_like\u001b[0;34m(self)\u001b[0m\n\u001b[1;32m    415\u001b[0m \u001b[39mdef\u001b[39;00m \u001b[39magg_dict_like\u001b[39m(\u001b[39mself\u001b[39m) \u001b[39m-\u001b[39m\u001b[39m>\u001b[39m DataFrame \u001b[39m|\u001b[39m Series:\n\u001b[1;32m    416\u001b[0m \u001b[39m    \u001b[39m\u001b[39m\"\"\"\u001b[39;00m\n\u001b[1;32m    417\u001b[0m \u001b[39m    Compute aggregation in the case of a dict-like argument.\u001b[39;00m\n\u001b[1;32m    418\u001b[0m \n\u001b[0;32m   (...)\u001b[0m\n\u001b[1;32m    421\u001b[0m \u001b[39m    Result of aggregation.\u001b[39;00m\n\u001b[1;32m    422\u001b[0m \u001b[39m    \"\"\"\u001b[39;00m\n\u001b[0;32m--> 423\u001b[0m     \u001b[39mreturn\u001b[39;00m \u001b[39mself\u001b[39m\u001b[39m.\u001b[39magg_or_apply_dict_like(op_name\u001b[39m=\u001b[39m\u001b[39m\"\u001b[39m\u001b[39magg\u001b[39m\u001b[39m\"\u001b[39m)\n",
      "File \u001b[0;32m/opt/anaconda3/lib/python3.11/site-packages/pandas/core/apply.py:1608\u001b[0m, in \u001b[0;36mGroupByApply.agg_or_apply_dict_like\u001b[0;34m(self, op_name)\u001b[0m\n\u001b[1;32m   1603\u001b[0m     kwargs\u001b[39m.\u001b[39mupdate({\u001b[39m\"\u001b[39m\u001b[39mengine\u001b[39m\u001b[39m\"\u001b[39m: engine, \u001b[39m\"\u001b[39m\u001b[39mengine_kwargs\u001b[39m\u001b[39m\"\u001b[39m: engine_kwargs})\n\u001b[1;32m   1605\u001b[0m \u001b[39mwith\u001b[39;00m com\u001b[39m.\u001b[39mtemp_setattr(\n\u001b[1;32m   1606\u001b[0m     obj, \u001b[39m\"\u001b[39m\u001b[39mas_index\u001b[39m\u001b[39m\"\u001b[39m, \u001b[39mTrue\u001b[39;00m, condition\u001b[39m=\u001b[39m\u001b[39mhasattr\u001b[39m(obj, \u001b[39m\"\u001b[39m\u001b[39mas_index\u001b[39m\u001b[39m\"\u001b[39m)\n\u001b[1;32m   1607\u001b[0m ):\n\u001b[0;32m-> 1608\u001b[0m     result_index, result_data \u001b[39m=\u001b[39m \u001b[39mself\u001b[39m\u001b[39m.\u001b[39mcompute_dict_like(\n\u001b[1;32m   1609\u001b[0m         op_name, selected_obj, selection, kwargs\n\u001b[1;32m   1610\u001b[0m     )\n\u001b[1;32m   1611\u001b[0m result \u001b[39m=\u001b[39m \u001b[39mself\u001b[39m\u001b[39m.\u001b[39mwrap_results_dict_like(selected_obj, result_index, result_data)\n\u001b[1;32m   1612\u001b[0m \u001b[39mreturn\u001b[39;00m result\n",
      "File \u001b[0;32m/opt/anaconda3/lib/python3.11/site-packages/pandas/core/apply.py:462\u001b[0m, in \u001b[0;36mApply.compute_dict_like\u001b[0;34m(self, op_name, selected_obj, selection, kwargs)\u001b[0m\n\u001b[1;32m    460\u001b[0m is_groupby \u001b[39m=\u001b[39m \u001b[39misinstance\u001b[39m(obj, (DataFrameGroupBy, SeriesGroupBy))\n\u001b[1;32m    461\u001b[0m func \u001b[39m=\u001b[39m cast(AggFuncTypeDict, \u001b[39mself\u001b[39m\u001b[39m.\u001b[39mfunc)\n\u001b[0;32m--> 462\u001b[0m func \u001b[39m=\u001b[39m \u001b[39mself\u001b[39m\u001b[39m.\u001b[39mnormalize_dictlike_arg(op_name, selected_obj, func)\n\u001b[1;32m    464\u001b[0m is_non_unique_col \u001b[39m=\u001b[39m (\n\u001b[1;32m    465\u001b[0m     selected_obj\u001b[39m.\u001b[39mndim \u001b[39m==\u001b[39m \u001b[39m2\u001b[39m\n\u001b[1;32m    466\u001b[0m     \u001b[39mand\u001b[39;00m selected_obj\u001b[39m.\u001b[39mcolumns\u001b[39m.\u001b[39mnunique() \u001b[39m<\u001b[39m \u001b[39mlen\u001b[39m(selected_obj\u001b[39m.\u001b[39mcolumns)\n\u001b[1;32m    467\u001b[0m )\n\u001b[1;32m    469\u001b[0m \u001b[39mif\u001b[39;00m selected_obj\u001b[39m.\u001b[39mndim \u001b[39m==\u001b[39m \u001b[39m1\u001b[39m:\n\u001b[1;32m    470\u001b[0m     \u001b[39m# key only used for output\u001b[39;00m\n",
      "File \u001b[0;32m/opt/anaconda3/lib/python3.11/site-packages/pandas/core/apply.py:663\u001b[0m, in \u001b[0;36mApply.normalize_dictlike_arg\u001b[0;34m(self, how, obj, func)\u001b[0m\n\u001b[1;32m    661\u001b[0m     cols \u001b[39m=\u001b[39m Index(\u001b[39mlist\u001b[39m(func\u001b[39m.\u001b[39mkeys()))\u001b[39m.\u001b[39mdifference(obj\u001b[39m.\u001b[39mcolumns, sort\u001b[39m=\u001b[39m\u001b[39mTrue\u001b[39;00m)\n\u001b[1;32m    662\u001b[0m     \u001b[39mif\u001b[39;00m \u001b[39mlen\u001b[39m(cols) \u001b[39m>\u001b[39m \u001b[39m0\u001b[39m:\n\u001b[0;32m--> 663\u001b[0m         \u001b[39mraise\u001b[39;00m \u001b[39mKeyError\u001b[39;00m(\u001b[39mf\u001b[39m\u001b[39m\"\u001b[39m\u001b[39mColumn(s) \u001b[39m\u001b[39m{\u001b[39;00m\u001b[39mlist\u001b[39m(cols)\u001b[39m}\u001b[39;00m\u001b[39m do not exist\u001b[39m\u001b[39m\"\u001b[39m)\n\u001b[1;32m    665\u001b[0m aggregator_types \u001b[39m=\u001b[39m (\u001b[39mlist\u001b[39m, \u001b[39mtuple\u001b[39m, \u001b[39mdict\u001b[39m)\n\u001b[1;32m    667\u001b[0m \u001b[39m# if we have a dict of any non-scalars\u001b[39;00m\n\u001b[1;32m    668\u001b[0m \u001b[39m# eg. {'A' : ['mean']}, normalize all to\u001b[39;00m\n\u001b[1;32m    669\u001b[0m \u001b[39m# be list-likes\u001b[39;00m\n\u001b[1;32m    670\u001b[0m \u001b[39m# Cannot use func.values() because arg may be a Series\u001b[39;00m\n",
      "\u001b[0;31mKeyError\u001b[0m: \"Column(s) ['fine_amount'] do not exist\""
     ]
    }
   ],
   "source": [
    "violation_summary = df.groupby('violation_description').agg(\n",
    "    total_tickets=('violation_description', 'size'),\n",
    "    tickets_paid=('paid', 'sum'),\n",
    "    avg_fine=('fine_amount', 'mean')  # Adjust this if your column for fines has a different name\n",
    ").reset_index()\n",
    "\n",
    "# Calculate the repayment rate (fraction of tickets paid)\n",
    "violation_summary['repayment_rate'] = violation_summary['tickets_paid'] / violation_summary['total_tickets']\n",
    "\n",
    "# Step 3: Filter for violations that appear at least 100 times and exclude the outlier with a high fine\n",
    "violation_summary_filtered = violation_summary[(violation_summary['total_tickets'] >= 100) & (violation_summary['avg_fine'] < 500)]  # Assume 500 is the outlier threshold\n",
    "\n",
    "# Step 4: Create a scatter plot of average fine vs repayment rate\n",
    "scatter_plot = alt.Chart(violation_summary_filtered).mark_circle(size=60).encode(\n",
    "    x=alt.X('avg_fine:Q', title='Average Fine Amount ($)'),\n",
    "    y=alt.Y('repayment_rate:Q', title='Repayment Rate'),\n",
    "    tooltip=['violation_description', 'avg_fine', 'repayment_rate']\n",
    ").properties(\n",
    "    title='Relationship Between Fine Amount and Repayment Rate'\n",
    ")"
   ]
  },
  {
   "cell_type": "code",
   "execution_count": null,
   "id": "a3c9b9a9-0536-481b-b4ee-aff5ed6d4cce",
   "metadata": {
    "vscode": {
     "languageId": "quarto"
    }
   },
   "outputs": [
    {
     "data": {
      "text/html": [
       "\n",
       "<style>\n",
       "  #altair-viz-acb55dc2717046d5b378e90ee358960c.vega-embed {\n",
       "    width: 100%;\n",
       "    display: flex;\n",
       "  }\n",
       "\n",
       "  #altair-viz-acb55dc2717046d5b378e90ee358960c.vega-embed details,\n",
       "  #altair-viz-acb55dc2717046d5b378e90ee358960c.vega-embed details summary {\n",
       "    position: relative;\n",
       "  }\n",
       "</style>\n",
       "<div id=\"altair-viz-acb55dc2717046d5b378e90ee358960c\"></div>\n",
       "<script type=\"text/javascript\">\n",
       "  var VEGA_DEBUG = (typeof VEGA_DEBUG == \"undefined\") ? {} : VEGA_DEBUG;\n",
       "  (function(spec, embedOpt){\n",
       "    let outputDiv = document.currentScript.previousElementSibling;\n",
       "    if (outputDiv.id !== \"altair-viz-acb55dc2717046d5b378e90ee358960c\") {\n",
       "      outputDiv = document.getElementById(\"altair-viz-acb55dc2717046d5b378e90ee358960c\");\n",
       "    }\n",
       "    const paths = {\n",
       "      \"vega\": \"https://cdn.jsdelivr.net/npm/vega@5?noext\",\n",
       "      \"vega-lib\": \"https://cdn.jsdelivr.net/npm/vega-lib?noext\",\n",
       "      \"vega-lite\": \"https://cdn.jsdelivr.net/npm/vega-lite@5.20.1?noext\",\n",
       "      \"vega-embed\": \"https://cdn.jsdelivr.net/npm/vega-embed@6?noext\",\n",
       "    };\n",
       "\n",
       "    function maybeLoadScript(lib, version) {\n",
       "      var key = `${lib.replace(\"-\", \"\")}_version`;\n",
       "      return (VEGA_DEBUG[key] == version) ?\n",
       "        Promise.resolve(paths[lib]) :\n",
       "        new Promise(function(resolve, reject) {\n",
       "          var s = document.createElement('script');\n",
       "          document.getElementsByTagName(\"head\")[0].appendChild(s);\n",
       "          s.async = true;\n",
       "          s.onload = () => {\n",
       "            VEGA_DEBUG[key] = version;\n",
       "            return resolve(paths[lib]);\n",
       "          };\n",
       "          s.onerror = () => reject(`Error loading script: ${paths[lib]}`);\n",
       "          s.src = paths[lib];\n",
       "        });\n",
       "    }\n",
       "\n",
       "    function showError(err) {\n",
       "      outputDiv.innerHTML = `<div class=\"error\" style=\"color:red;\">${err}</div>`;\n",
       "      throw err;\n",
       "    }\n",
       "\n",
       "    function displayChart(vegaEmbed) {\n",
       "      vegaEmbed(outputDiv, spec, embedOpt)\n",
       "        .catch(err => showError(`Javascript Error: ${err.message}<br>This usually means there's a typo in your chart specification. See the javascript console for the full traceback.`));\n",
       "    }\n",
       "\n",
       "    if(typeof define === \"function\" && define.amd) {\n",
       "      requirejs.config({paths});\n",
       "      require([\"vega-embed\"], displayChart, err => showError(`Error loading script: ${err.message}`));\n",
       "    } else {\n",
       "      maybeLoadScript(\"vega\", \"5\")\n",
       "        .then(() => maybeLoadScript(\"vega-lite\", \"5.20.1\"))\n",
       "        .then(() => maybeLoadScript(\"vega-embed\", \"6\"))\n",
       "        .catch(showError)\n",
       "        .then(() => displayChart(vegaEmbed));\n",
       "    }\n",
       "  })({\"config\": {\"view\": {\"continuousWidth\": 300, \"continuousHeight\": 300}}, \"data\": {\"name\": \"data-be3b27b995d50fe5c3ac6ef56e77bb83\"}, \"mark\": {\"type\": \"circle\", \"size\": 60}, \"encoding\": {\"tooltip\": [{\"field\": \"violation_description\", \"type\": \"nominal\"}, {\"field\": \"total_tickets\", \"type\": \"quantitative\"}, {\"field\": \"repayment_rate\", \"type\": \"quantitative\"}], \"x\": {\"field\": \"total_tickets\", \"title\": \"Total Tickets Issued\", \"type\": \"quantitative\"}, \"y\": {\"field\": \"repayment_rate\", \"title\": \"Repayment Rate\", \"type\": \"quantitative\"}}, \"title\": \"Relationship Between Total Tickets Issued and Repayment Rate\", \"$schema\": \"https://vega.github.io/schema/vega-lite/v5.20.1.json\", \"datasets\": {\"data-be3b27b995d50fe5c3ac6ef56e77bb83\": [{\"violation_description\": \"20'OF CROSSWALK\", \"total_tickets\": 393, \"tickets_paid\": 284, \"repayment_rate\": 0.72264631043257}, {\"violation_description\": \"3-7 AM SNOW ROUTE\", \"total_tickets\": 839, \"tickets_paid\": 613, \"repayment_rate\": 0.7306317044100119}, {\"violation_description\": \"ABANDONED VEH. FOR 7 DAYS OR INOPERABLE\", \"total_tickets\": 1104, \"tickets_paid\": 281, \"repayment_rate\": 0.2545289855072464}, {\"violation_description\": \"BLOCK ACCESS/ALLEY/DRIVEWAY/FIRELANE\", \"total_tickets\": 1579, \"tickets_paid\": 1044, \"repayment_rate\": 0.6611779607346422}, {\"violation_description\": \"BURGLAR ALARM SOUNDING OVER 4 MINUTES\", \"total_tickets\": 102, \"tickets_paid\": 78, \"repayment_rate\": 0.7647058823529411}, {\"violation_description\": \"CURB LOADING ZONE\", \"total_tickets\": 1205, \"tickets_paid\": 851, \"repayment_rate\": 0.7062240663900415}, {\"violation_description\": \"DISABLED CURB CUT\", \"total_tickets\": 436, \"tickets_paid\": 340, \"repayment_rate\": 0.7798165137614679}, {\"violation_description\": \"DISABLED PARKING ZONE\", \"total_tickets\": 2034, \"tickets_paid\": 1153, \"repayment_rate\": 0.5668633235004916}, {\"violation_description\": \"DOUBLE PARKING OR STANDING\", \"total_tickets\": 2904, \"tickets_paid\": 1747, \"repayment_rate\": 0.6015840220385675}, {\"violation_description\": \"EXP. METER NON-CENTRAL BUSINESS DISTRICT\", \"total_tickets\": 20600, \"tickets_paid\": 16387, \"repayment_rate\": 0.7954854368932038}, {\"violation_description\": \"EXPIRED METER CENTRAL BUSINESS DISTRICT\", \"total_tickets\": 9736, \"tickets_paid\": 7279, \"repayment_rate\": 0.7476376335250616}, {\"violation_description\": \"EXPIRED METER OR OVERSTAY\", \"total_tickets\": 18756, \"tickets_paid\": 15122, \"repayment_rate\": 0.8062486670931969}, {\"violation_description\": \"EXPIRED PLATE OR TEMPORARY REGISTRATION\", \"total_tickets\": 2720, \"tickets_paid\": 1120, \"repayment_rate\": 0.4117647058823529}, {\"violation_description\": \"EXPIRED PLATES OR TEMPORARY REGISTRATION\", \"total_tickets\": 44811, \"tickets_paid\": 27248, \"repayment_rate\": 0.6080649840440964}, {\"violation_description\": \"HAZARDOUS DILAPIDATED VEHICLE\", \"total_tickets\": 148, \"tickets_paid\": 37, \"repayment_rate\": 0.25}, {\"violation_description\": \"HAZARDOUS DILAPITATED VEHICLE\", \"total_tickets\": 298, \"tickets_paid\": 69, \"repayment_rate\": 0.23154362416107382}, {\"violation_description\": \"IMPROPER DISPLAY OF CITY STICKER\", \"total_tickets\": 399, \"tickets_paid\": 306, \"repayment_rate\": 0.7669172932330827}, {\"violation_description\": \"INDUSTRIAL PERMIT PARKING\", \"total_tickets\": 120, \"tickets_paid\": 100, \"repayment_rate\": 0.8333333333333334}, {\"violation_description\": \"LAMPS BROKEN OR INOPERABLE\", \"total_tickets\": 162, \"tickets_paid\": 97, \"repayment_rate\": 0.5987654320987654}, {\"violation_description\": \"MISSING/NONCOMPLIANT FRONT AND/OR REAR PLATE\", \"total_tickets\": 1024, \"tickets_paid\": 331, \"repayment_rate\": 0.3232421875}, {\"violation_description\": \"NO CITY STICKER OR IMPROPER DISPLAY\", \"total_tickets\": 10773, \"tickets_paid\": 5983, \"repayment_rate\": 0.5553699062470993}, {\"violation_description\": \"NO CITY STICKER VEHICLE OVER 16,000 LBS.\", \"total_tickets\": 131, \"tickets_paid\": 19, \"repayment_rate\": 0.1450381679389313}, {\"violation_description\": \"NO CITY STICKER VEHICLE UNDER/EQUAL TO 16,000 LBS.\", \"total_tickets\": 14246, \"tickets_paid\": 6160, \"repayment_rate\": 0.43240207777621786}, {\"violation_description\": \"NO PARK IN PRIVATE LOT\", \"total_tickets\": 378, \"tickets_paid\": 220, \"repayment_rate\": 0.582010582010582}, {\"violation_description\": \"NO PARK IN PUBLIC LOT\", \"total_tickets\": 119, \"tickets_paid\": 36, \"repayment_rate\": 0.3025210084033613}, {\"violation_description\": \"NO STANDING/PARKING TIME RESTRICTED\", \"total_tickets\": 8640, \"tickets_paid\": 6548, \"repayment_rate\": 0.7578703703703704}, {\"violation_description\": \"NON PYMT/NON-COM VEH PARKED IN COM LOADING ZONE\", \"total_tickets\": 100, \"tickets_paid\": 45, \"repayment_rate\": 0.45}, {\"violation_description\": \"NONCOMPLIANT PLATE(S)\", \"total_tickets\": 1920, \"tickets_paid\": 1186, \"repayment_rate\": 0.6177083333333333}, {\"violation_description\": \"OBSTRUCT ROADWAY\", \"total_tickets\": 1577, \"tickets_paid\": 799, \"repayment_rate\": 0.5066582117945466}, {\"violation_description\": \"OBSTRUCTED OR IMPROPERLY TINTED WINDOWS\", \"total_tickets\": 271, \"tickets_paid\": 155, \"repayment_rate\": 0.5719557195571956}, {\"violation_description\": \"OUTSIDE DIAGONAL MARKINGS\", \"total_tickets\": 110, \"tickets_paid\": 80, \"repayment_rate\": 0.7272727272727273}, {\"violation_description\": \"PARK ALLEY\", \"total_tickets\": 998, \"tickets_paid\": 426, \"repayment_rate\": 0.42685370741482964}, {\"violation_description\": \"PARK IN CITY LOT WHEN CLOSED\", \"total_tickets\": 225, \"tickets_paid\": 161, \"repayment_rate\": 0.7155555555555555}, {\"violation_description\": \"PARK OR BLOCK ALLEY\", \"total_tickets\": 2050, \"tickets_paid\": 1109, \"repayment_rate\": 0.5409756097560976}, {\"violation_description\": \"PARK OR STAND IN BUS/TAXI/CARRIAGE STAND\", \"total_tickets\": 6004, \"tickets_paid\": 4051, \"repayment_rate\": 0.6747168554297135}, {\"violation_description\": \"PARK OR STAND IN VIADUCT/UNDERPASS\", \"total_tickets\": 247, \"tickets_paid\": 183, \"repayment_rate\": 0.7408906882591093}, {\"violation_description\": \"PARK OR STAND ON CITY PROPERTY\", \"total_tickets\": 183, \"tickets_paid\": 77, \"repayment_rate\": 0.4207650273224044}, {\"violation_description\": \"PARK OR STAND ON CROSSWALK\", \"total_tickets\": 1953, \"tickets_paid\": 1402, \"repayment_rate\": 0.7178699436763953}, {\"violation_description\": \"PARK OR STAND ON PARKWAY\", \"total_tickets\": 495, \"tickets_paid\": 362, \"repayment_rate\": 0.7313131313131314}, {\"violation_description\": \"PARK OR STAND ON SIDEWALK\", \"total_tickets\": 1036, \"tickets_paid\": 713, \"repayment_rate\": 0.6882239382239382}, {\"violation_description\": \"PARK OUTSIDE METERED SPACE\", \"total_tickets\": 278, \"tickets_paid\": 165, \"repayment_rate\": 0.5935251798561151}, {\"violation_description\": \"PARK VEHICLE SOLE PURPOSE OF DISPLAYING FOR SALE\", \"total_tickets\": 664, \"tickets_paid\": 129, \"repayment_rate\": 0.19427710843373494}, {\"violation_description\": \"PARK/STAND ON BICYCLE PATH\", \"total_tickets\": 236, \"tickets_paid\": 161, \"repayment_rate\": 0.6822033898305084}, {\"violation_description\": \"PARKING/STANDING PROHIBITED ANYTIME\", \"total_tickets\": 19753, \"tickets_paid\": 14038, \"repayment_rate\": 0.710676859211259}, {\"violation_description\": \"REAR AND FRONT PLATE REQUIRED\", \"total_tickets\": 15829, \"tickets_paid\": 8461, \"repayment_rate\": 0.5345252384863226}, {\"violation_description\": \"REAR PLATE LIT AND LEGIBLE FOR 50'\", \"total_tickets\": 110, \"tickets_paid\": 62, \"repayment_rate\": 0.5636363636363636}, {\"violation_description\": \"REAR PLATE REQUIRED MOTORCYCLE/TRAILER\", \"total_tickets\": 352, \"tickets_paid\": 202, \"repayment_rate\": 0.5738636363636364}, {\"violation_description\": \"RED REAR LAMP REQUIRED VISIBLE 500'\", \"total_tickets\": 115, \"tickets_paid\": 64, \"repayment_rate\": 0.5565217391304348}, {\"violation_description\": \"RESIDENTIAL PERMIT PARKING\", \"total_tickets\": 23683, \"tickets_paid\": 17667, \"repayment_rate\": 0.7459781277709749}, {\"violation_description\": \"RUSH HOUR PARKING\", \"total_tickets\": 11965, \"tickets_paid\": 9279, \"repayment_rate\": 0.7755119097367321}, {\"violation_description\": \"SAFETY BELTS REQUIRED\", \"total_tickets\": 981, \"tickets_paid\": 700, \"repayment_rate\": 0.7135575942915392}, {\"violation_description\": \"SMOKED/TINTED WINDOWS PARKED/STANDING\", \"total_tickets\": 1697, \"tickets_paid\": 1086, \"repayment_rate\": 0.6399528579846788}, {\"violation_description\": \"SNOW ROUTE: 2'' OF SNOW OR MORE\", \"total_tickets\": 144, \"tickets_paid\": 101, \"repayment_rate\": 0.7013888888888888}, {\"violation_description\": \"SPECIAL EVENTS RESTRICTION\", \"total_tickets\": 462, \"tickets_paid\": 358, \"repayment_rate\": 0.7748917748917749}, {\"violation_description\": \"STAND, PARK, OR OTHER USE OF BUS LANE\", \"total_tickets\": 1233, \"tickets_paid\": 746, \"repayment_rate\": 0.6050283860502839}, {\"violation_description\": \"STOP SIGN OR TRAFFIC SIGNAL\", \"total_tickets\": 2191, \"tickets_paid\": 1777, \"repayment_rate\": 0.8110451848471018}, {\"violation_description\": \"STREET CLEANING\", \"total_tickets\": 28712, \"tickets_paid\": 23426, \"repayment_rate\": 0.8158957926999164}, {\"violation_description\": \"STREET CLEANING OR SPECIAL EVENT\", \"total_tickets\": 3370, \"tickets_paid\": 2659, \"repayment_rate\": 0.7890207715133531}, {\"violation_description\": \"TRUCK OR SEMI-TRAILER PROHIBITED\", \"total_tickets\": 145, \"tickets_paid\": 78, \"repayment_rate\": 0.5379310344827586}, {\"violation_description\": \"TRUCK TRAILOR/SEMI/TRAILER PROHIBITED\", \"total_tickets\": 157, \"tickets_paid\": 72, \"repayment_rate\": 0.4585987261146497}, {\"violation_description\": \"TRUCK,MOTOR HOME, BUS BUSINESS STREET\", \"total_tickets\": 456, \"tickets_paid\": 314, \"repayment_rate\": 0.6885964912280702}, {\"violation_description\": \"TRUCK,RV,BUS, OR TAXI RESIDENTIAL STREET\", \"total_tickets\": 4789, \"tickets_paid\": 3332, \"repayment_rate\": 0.6957611192315724}, {\"violation_description\": \"TWO HEAD LAMPS REQUIRED VISIBLE 1000'\", \"total_tickets\": 443, \"tickets_paid\": 266, \"repayment_rate\": 0.600451467268623}, {\"violation_description\": \"WINDOWS MISSING OR CRACKED BEYOND 6\", \"total_tickets\": 576, \"tickets_paid\": 351, \"repayment_rate\": 0.609375}, {\"violation_description\": \"WITHIN 15' OF FIRE HYDRANT\", \"total_tickets\": 6104, \"tickets_paid\": 4203, \"repayment_rate\": 0.688564875491481}, {\"violation_description\": \"WRONG DIRECTION OR 12'' FROM CURB\", \"total_tickets\": 1111, \"tickets_paid\": 860, \"repayment_rate\": 0.774077407740774}]}}, {\"mode\": \"vega-lite\"});\n",
       "</script>"
      ],
      "text/plain": [
       "alt.Chart(...)"
      ]
     },
     "metadata": {},
     "output_type": "display_data"
    },
    {
     "data": {
      "text/html": [
       "\n",
       "<style>\n",
       "  #altair-viz-6fe79320e28f41f09a5fe5d6e3b578ca.vega-embed {\n",
       "    width: 100%;\n",
       "    display: flex;\n",
       "  }\n",
       "\n",
       "  #altair-viz-6fe79320e28f41f09a5fe5d6e3b578ca.vega-embed details,\n",
       "  #altair-viz-6fe79320e28f41f09a5fe5d6e3b578ca.vega-embed details summary {\n",
       "    position: relative;\n",
       "  }\n",
       "</style>\n",
       "<div id=\"altair-viz-6fe79320e28f41f09a5fe5d6e3b578ca\"></div>\n",
       "<script type=\"text/javascript\">\n",
       "  var VEGA_DEBUG = (typeof VEGA_DEBUG == \"undefined\") ? {} : VEGA_DEBUG;\n",
       "  (function(spec, embedOpt){\n",
       "    let outputDiv = document.currentScript.previousElementSibling;\n",
       "    if (outputDiv.id !== \"altair-viz-6fe79320e28f41f09a5fe5d6e3b578ca\") {\n",
       "      outputDiv = document.getElementById(\"altair-viz-6fe79320e28f41f09a5fe5d6e3b578ca\");\n",
       "    }\n",
       "    const paths = {\n",
       "      \"vega\": \"https://cdn.jsdelivr.net/npm/vega@5?noext\",\n",
       "      \"vega-lib\": \"https://cdn.jsdelivr.net/npm/vega-lib?noext\",\n",
       "      \"vega-lite\": \"https://cdn.jsdelivr.net/npm/vega-lite@5.20.1?noext\",\n",
       "      \"vega-embed\": \"https://cdn.jsdelivr.net/npm/vega-embed@6?noext\",\n",
       "    };\n",
       "\n",
       "    function maybeLoadScript(lib, version) {\n",
       "      var key = `${lib.replace(\"-\", \"\")}_version`;\n",
       "      return (VEGA_DEBUG[key] == version) ?\n",
       "        Promise.resolve(paths[lib]) :\n",
       "        new Promise(function(resolve, reject) {\n",
       "          var s = document.createElement('script');\n",
       "          document.getElementsByTagName(\"head\")[0].appendChild(s);\n",
       "          s.async = true;\n",
       "          s.onload = () => {\n",
       "            VEGA_DEBUG[key] = version;\n",
       "            return resolve(paths[lib]);\n",
       "          };\n",
       "          s.onerror = () => reject(`Error loading script: ${paths[lib]}`);\n",
       "          s.src = paths[lib];\n",
       "        });\n",
       "    }\n",
       "\n",
       "    function showError(err) {\n",
       "      outputDiv.innerHTML = `<div class=\"error\" style=\"color:red;\">${err}</div>`;\n",
       "      throw err;\n",
       "    }\n",
       "\n",
       "    function displayChart(vegaEmbed) {\n",
       "      vegaEmbed(outputDiv, spec, embedOpt)\n",
       "        .catch(err => showError(`Javascript Error: ${err.message}<br>This usually means there's a typo in your chart specification. See the javascript console for the full traceback.`));\n",
       "    }\n",
       "\n",
       "    if(typeof define === \"function\" && define.amd) {\n",
       "      requirejs.config({paths});\n",
       "      require([\"vega-embed\"], displayChart, err => showError(`Error loading script: ${err.message}`));\n",
       "    } else {\n",
       "      maybeLoadScript(\"vega\", \"5\")\n",
       "        .then(() => maybeLoadScript(\"vega-lite\", \"5.20.1\"))\n",
       "        .then(() => maybeLoadScript(\"vega-embed\", \"6\"))\n",
       "        .catch(showError)\n",
       "        .then(() => displayChart(vegaEmbed));\n",
       "    }\n",
       "  })({\"config\": {\"view\": {\"continuousWidth\": 300, \"continuousHeight\": 300}}, \"data\": {\"name\": \"data-be3b27b995d50fe5c3ac6ef56e77bb83\"}, \"mark\": {\"type\": \"bar\"}, \"encoding\": {\"tooltip\": [{\"field\": \"violation_description\", \"type\": \"nominal\"}, {\"field\": \"total_tickets\", \"type\": \"quantitative\"}, {\"field\": \"repayment_rate\", \"type\": \"quantitative\"}], \"x\": {\"field\": \"violation_description\", \"sort\": \"-y\", \"title\": \"Violation Description\", \"type\": \"nominal\"}, \"y\": {\"field\": \"repayment_rate\", \"title\": \"Repayment Rate\", \"type\": \"quantitative\"}}, \"title\": \"Bar Plot of Repayment Rate by Violation Description\", \"$schema\": \"https://vega.github.io/schema/vega-lite/v5.20.1.json\", \"datasets\": {\"data-be3b27b995d50fe5c3ac6ef56e77bb83\": [{\"violation_description\": \"20'OF CROSSWALK\", \"total_tickets\": 393, \"tickets_paid\": 284, \"repayment_rate\": 0.72264631043257}, {\"violation_description\": \"3-7 AM SNOW ROUTE\", \"total_tickets\": 839, \"tickets_paid\": 613, \"repayment_rate\": 0.7306317044100119}, {\"violation_description\": \"ABANDONED VEH. FOR 7 DAYS OR INOPERABLE\", \"total_tickets\": 1104, \"tickets_paid\": 281, \"repayment_rate\": 0.2545289855072464}, {\"violation_description\": \"BLOCK ACCESS/ALLEY/DRIVEWAY/FIRELANE\", \"total_tickets\": 1579, \"tickets_paid\": 1044, \"repayment_rate\": 0.6611779607346422}, {\"violation_description\": \"BURGLAR ALARM SOUNDING OVER 4 MINUTES\", \"total_tickets\": 102, \"tickets_paid\": 78, \"repayment_rate\": 0.7647058823529411}, {\"violation_description\": \"CURB LOADING ZONE\", \"total_tickets\": 1205, \"tickets_paid\": 851, \"repayment_rate\": 0.7062240663900415}, {\"violation_description\": \"DISABLED CURB CUT\", \"total_tickets\": 436, \"tickets_paid\": 340, \"repayment_rate\": 0.7798165137614679}, {\"violation_description\": \"DISABLED PARKING ZONE\", \"total_tickets\": 2034, \"tickets_paid\": 1153, \"repayment_rate\": 0.5668633235004916}, {\"violation_description\": \"DOUBLE PARKING OR STANDING\", \"total_tickets\": 2904, \"tickets_paid\": 1747, \"repayment_rate\": 0.6015840220385675}, {\"violation_description\": \"EXP. METER NON-CENTRAL BUSINESS DISTRICT\", \"total_tickets\": 20600, \"tickets_paid\": 16387, \"repayment_rate\": 0.7954854368932038}, {\"violation_description\": \"EXPIRED METER CENTRAL BUSINESS DISTRICT\", \"total_tickets\": 9736, \"tickets_paid\": 7279, \"repayment_rate\": 0.7476376335250616}, {\"violation_description\": \"EXPIRED METER OR OVERSTAY\", \"total_tickets\": 18756, \"tickets_paid\": 15122, \"repayment_rate\": 0.8062486670931969}, {\"violation_description\": \"EXPIRED PLATE OR TEMPORARY REGISTRATION\", \"total_tickets\": 2720, \"tickets_paid\": 1120, \"repayment_rate\": 0.4117647058823529}, {\"violation_description\": \"EXPIRED PLATES OR TEMPORARY REGISTRATION\", \"total_tickets\": 44811, \"tickets_paid\": 27248, \"repayment_rate\": 0.6080649840440964}, {\"violation_description\": \"HAZARDOUS DILAPIDATED VEHICLE\", \"total_tickets\": 148, \"tickets_paid\": 37, \"repayment_rate\": 0.25}, {\"violation_description\": \"HAZARDOUS DILAPITATED VEHICLE\", \"total_tickets\": 298, \"tickets_paid\": 69, \"repayment_rate\": 0.23154362416107382}, {\"violation_description\": \"IMPROPER DISPLAY OF CITY STICKER\", \"total_tickets\": 399, \"tickets_paid\": 306, \"repayment_rate\": 0.7669172932330827}, {\"violation_description\": \"INDUSTRIAL PERMIT PARKING\", \"total_tickets\": 120, \"tickets_paid\": 100, \"repayment_rate\": 0.8333333333333334}, {\"violation_description\": \"LAMPS BROKEN OR INOPERABLE\", \"total_tickets\": 162, \"tickets_paid\": 97, \"repayment_rate\": 0.5987654320987654}, {\"violation_description\": \"MISSING/NONCOMPLIANT FRONT AND/OR REAR PLATE\", \"total_tickets\": 1024, \"tickets_paid\": 331, \"repayment_rate\": 0.3232421875}, {\"violation_description\": \"NO CITY STICKER OR IMPROPER DISPLAY\", \"total_tickets\": 10773, \"tickets_paid\": 5983, \"repayment_rate\": 0.5553699062470993}, {\"violation_description\": \"NO CITY STICKER VEHICLE OVER 16,000 LBS.\", \"total_tickets\": 131, \"tickets_paid\": 19, \"repayment_rate\": 0.1450381679389313}, {\"violation_description\": \"NO CITY STICKER VEHICLE UNDER/EQUAL TO 16,000 LBS.\", \"total_tickets\": 14246, \"tickets_paid\": 6160, \"repayment_rate\": 0.43240207777621786}, {\"violation_description\": \"NO PARK IN PRIVATE LOT\", \"total_tickets\": 378, \"tickets_paid\": 220, \"repayment_rate\": 0.582010582010582}, {\"violation_description\": \"NO PARK IN PUBLIC LOT\", \"total_tickets\": 119, \"tickets_paid\": 36, \"repayment_rate\": 0.3025210084033613}, {\"violation_description\": \"NO STANDING/PARKING TIME RESTRICTED\", \"total_tickets\": 8640, \"tickets_paid\": 6548, \"repayment_rate\": 0.7578703703703704}, {\"violation_description\": \"NON PYMT/NON-COM VEH PARKED IN COM LOADING ZONE\", \"total_tickets\": 100, \"tickets_paid\": 45, \"repayment_rate\": 0.45}, {\"violation_description\": \"NONCOMPLIANT PLATE(S)\", \"total_tickets\": 1920, \"tickets_paid\": 1186, \"repayment_rate\": 0.6177083333333333}, {\"violation_description\": \"OBSTRUCT ROADWAY\", \"total_tickets\": 1577, \"tickets_paid\": 799, \"repayment_rate\": 0.5066582117945466}, {\"violation_description\": \"OBSTRUCTED OR IMPROPERLY TINTED WINDOWS\", \"total_tickets\": 271, \"tickets_paid\": 155, \"repayment_rate\": 0.5719557195571956}, {\"violation_description\": \"OUTSIDE DIAGONAL MARKINGS\", \"total_tickets\": 110, \"tickets_paid\": 80, \"repayment_rate\": 0.7272727272727273}, {\"violation_description\": \"PARK ALLEY\", \"total_tickets\": 998, \"tickets_paid\": 426, \"repayment_rate\": 0.42685370741482964}, {\"violation_description\": \"PARK IN CITY LOT WHEN CLOSED\", \"total_tickets\": 225, \"tickets_paid\": 161, \"repayment_rate\": 0.7155555555555555}, {\"violation_description\": \"PARK OR BLOCK ALLEY\", \"total_tickets\": 2050, \"tickets_paid\": 1109, \"repayment_rate\": 0.5409756097560976}, {\"violation_description\": \"PARK OR STAND IN BUS/TAXI/CARRIAGE STAND\", \"total_tickets\": 6004, \"tickets_paid\": 4051, \"repayment_rate\": 0.6747168554297135}, {\"violation_description\": \"PARK OR STAND IN VIADUCT/UNDERPASS\", \"total_tickets\": 247, \"tickets_paid\": 183, \"repayment_rate\": 0.7408906882591093}, {\"violation_description\": \"PARK OR STAND ON CITY PROPERTY\", \"total_tickets\": 183, \"tickets_paid\": 77, \"repayment_rate\": 0.4207650273224044}, {\"violation_description\": \"PARK OR STAND ON CROSSWALK\", \"total_tickets\": 1953, \"tickets_paid\": 1402, \"repayment_rate\": 0.7178699436763953}, {\"violation_description\": \"PARK OR STAND ON PARKWAY\", \"total_tickets\": 495, \"tickets_paid\": 362, \"repayment_rate\": 0.7313131313131314}, {\"violation_description\": \"PARK OR STAND ON SIDEWALK\", \"total_tickets\": 1036, \"tickets_paid\": 713, \"repayment_rate\": 0.6882239382239382}, {\"violation_description\": \"PARK OUTSIDE METERED SPACE\", \"total_tickets\": 278, \"tickets_paid\": 165, \"repayment_rate\": 0.5935251798561151}, {\"violation_description\": \"PARK VEHICLE SOLE PURPOSE OF DISPLAYING FOR SALE\", \"total_tickets\": 664, \"tickets_paid\": 129, \"repayment_rate\": 0.19427710843373494}, {\"violation_description\": \"PARK/STAND ON BICYCLE PATH\", \"total_tickets\": 236, \"tickets_paid\": 161, \"repayment_rate\": 0.6822033898305084}, {\"violation_description\": \"PARKING/STANDING PROHIBITED ANYTIME\", \"total_tickets\": 19753, \"tickets_paid\": 14038, \"repayment_rate\": 0.710676859211259}, {\"violation_description\": \"REAR AND FRONT PLATE REQUIRED\", \"total_tickets\": 15829, \"tickets_paid\": 8461, \"repayment_rate\": 0.5345252384863226}, {\"violation_description\": \"REAR PLATE LIT AND LEGIBLE FOR 50'\", \"total_tickets\": 110, \"tickets_paid\": 62, \"repayment_rate\": 0.5636363636363636}, {\"violation_description\": \"REAR PLATE REQUIRED MOTORCYCLE/TRAILER\", \"total_tickets\": 352, \"tickets_paid\": 202, \"repayment_rate\": 0.5738636363636364}, {\"violation_description\": \"RED REAR LAMP REQUIRED VISIBLE 500'\", \"total_tickets\": 115, \"tickets_paid\": 64, \"repayment_rate\": 0.5565217391304348}, {\"violation_description\": \"RESIDENTIAL PERMIT PARKING\", \"total_tickets\": 23683, \"tickets_paid\": 17667, \"repayment_rate\": 0.7459781277709749}, {\"violation_description\": \"RUSH HOUR PARKING\", \"total_tickets\": 11965, \"tickets_paid\": 9279, \"repayment_rate\": 0.7755119097367321}, {\"violation_description\": \"SAFETY BELTS REQUIRED\", \"total_tickets\": 981, \"tickets_paid\": 700, \"repayment_rate\": 0.7135575942915392}, {\"violation_description\": \"SMOKED/TINTED WINDOWS PARKED/STANDING\", \"total_tickets\": 1697, \"tickets_paid\": 1086, \"repayment_rate\": 0.6399528579846788}, {\"violation_description\": \"SNOW ROUTE: 2'' OF SNOW OR MORE\", \"total_tickets\": 144, \"tickets_paid\": 101, \"repayment_rate\": 0.7013888888888888}, {\"violation_description\": \"SPECIAL EVENTS RESTRICTION\", \"total_tickets\": 462, \"tickets_paid\": 358, \"repayment_rate\": 0.7748917748917749}, {\"violation_description\": \"STAND, PARK, OR OTHER USE OF BUS LANE\", \"total_tickets\": 1233, \"tickets_paid\": 746, \"repayment_rate\": 0.6050283860502839}, {\"violation_description\": \"STOP SIGN OR TRAFFIC SIGNAL\", \"total_tickets\": 2191, \"tickets_paid\": 1777, \"repayment_rate\": 0.8110451848471018}, {\"violation_description\": \"STREET CLEANING\", \"total_tickets\": 28712, \"tickets_paid\": 23426, \"repayment_rate\": 0.8158957926999164}, {\"violation_description\": \"STREET CLEANING OR SPECIAL EVENT\", \"total_tickets\": 3370, \"tickets_paid\": 2659, \"repayment_rate\": 0.7890207715133531}, {\"violation_description\": \"TRUCK OR SEMI-TRAILER PROHIBITED\", \"total_tickets\": 145, \"tickets_paid\": 78, \"repayment_rate\": 0.5379310344827586}, {\"violation_description\": \"TRUCK TRAILOR/SEMI/TRAILER PROHIBITED\", \"total_tickets\": 157, \"tickets_paid\": 72, \"repayment_rate\": 0.4585987261146497}, {\"violation_description\": \"TRUCK,MOTOR HOME, BUS BUSINESS STREET\", \"total_tickets\": 456, \"tickets_paid\": 314, \"repayment_rate\": 0.6885964912280702}, {\"violation_description\": \"TRUCK,RV,BUS, OR TAXI RESIDENTIAL STREET\", \"total_tickets\": 4789, \"tickets_paid\": 3332, \"repayment_rate\": 0.6957611192315724}, {\"violation_description\": \"TWO HEAD LAMPS REQUIRED VISIBLE 1000'\", \"total_tickets\": 443, \"tickets_paid\": 266, \"repayment_rate\": 0.600451467268623}, {\"violation_description\": \"WINDOWS MISSING OR CRACKED BEYOND 6\", \"total_tickets\": 576, \"tickets_paid\": 351, \"repayment_rate\": 0.609375}, {\"violation_description\": \"WITHIN 15' OF FIRE HYDRANT\", \"total_tickets\": 6104, \"tickets_paid\": 4203, \"repayment_rate\": 0.688564875491481}, {\"violation_description\": \"WRONG DIRECTION OR 12'' FROM CURB\", \"total_tickets\": 1111, \"tickets_paid\": 860, \"repayment_rate\": 0.774077407740774}]}}, {\"mode\": \"vega-lite\"});\n",
       "</script>"
      ],
      "text/plain": [
       "alt.Chart(...)"
      ]
     },
     "metadata": {},
     "output_type": "display_data"
    },
    {
     "data": {
      "text/html": [
       "\n",
       "<style>\n",
       "  #altair-viz-d123b3c62fd64d98b20674f190cfac1f.vega-embed {\n",
       "    width: 100%;\n",
       "    display: flex;\n",
       "  }\n",
       "\n",
       "  #altair-viz-d123b3c62fd64d98b20674f190cfac1f.vega-embed details,\n",
       "  #altair-viz-d123b3c62fd64d98b20674f190cfac1f.vega-embed details summary {\n",
       "    position: relative;\n",
       "  }\n",
       "</style>\n",
       "<div id=\"altair-viz-d123b3c62fd64d98b20674f190cfac1f\"></div>\n",
       "<script type=\"text/javascript\">\n",
       "  var VEGA_DEBUG = (typeof VEGA_DEBUG == \"undefined\") ? {} : VEGA_DEBUG;\n",
       "  (function(spec, embedOpt){\n",
       "    let outputDiv = document.currentScript.previousElementSibling;\n",
       "    if (outputDiv.id !== \"altair-viz-d123b3c62fd64d98b20674f190cfac1f\") {\n",
       "      outputDiv = document.getElementById(\"altair-viz-d123b3c62fd64d98b20674f190cfac1f\");\n",
       "    }\n",
       "    const paths = {\n",
       "      \"vega\": \"https://cdn.jsdelivr.net/npm/vega@5?noext\",\n",
       "      \"vega-lib\": \"https://cdn.jsdelivr.net/npm/vega-lib?noext\",\n",
       "      \"vega-lite\": \"https://cdn.jsdelivr.net/npm/vega-lite@5.20.1?noext\",\n",
       "      \"vega-embed\": \"https://cdn.jsdelivr.net/npm/vega-embed@6?noext\",\n",
       "    };\n",
       "\n",
       "    function maybeLoadScript(lib, version) {\n",
       "      var key = `${lib.replace(\"-\", \"\")}_version`;\n",
       "      return (VEGA_DEBUG[key] == version) ?\n",
       "        Promise.resolve(paths[lib]) :\n",
       "        new Promise(function(resolve, reject) {\n",
       "          var s = document.createElement('script');\n",
       "          document.getElementsByTagName(\"head\")[0].appendChild(s);\n",
       "          s.async = true;\n",
       "          s.onload = () => {\n",
       "            VEGA_DEBUG[key] = version;\n",
       "            return resolve(paths[lib]);\n",
       "          };\n",
       "          s.onerror = () => reject(`Error loading script: ${paths[lib]}`);\n",
       "          s.src = paths[lib];\n",
       "        });\n",
       "    }\n",
       "\n",
       "    function showError(err) {\n",
       "      outputDiv.innerHTML = `<div class=\"error\" style=\"color:red;\">${err}</div>`;\n",
       "      throw err;\n",
       "    }\n",
       "\n",
       "    function displayChart(vegaEmbed) {\n",
       "      vegaEmbed(outputDiv, spec, embedOpt)\n",
       "        .catch(err => showError(`Javascript Error: ${err.message}<br>This usually means there's a typo in your chart specification. See the javascript console for the full traceback.`));\n",
       "    }\n",
       "\n",
       "    if(typeof define === \"function\" && define.amd) {\n",
       "      requirejs.config({paths});\n",
       "      require([\"vega-embed\"], displayChart, err => showError(`Error loading script: ${err.message}`));\n",
       "    } else {\n",
       "      maybeLoadScript(\"vega\", \"5\")\n",
       "        .then(() => maybeLoadScript(\"vega-lite\", \"5.20.1\"))\n",
       "        .then(() => maybeLoadScript(\"vega-embed\", \"6\"))\n",
       "        .catch(showError)\n",
       "        .then(() => displayChart(vegaEmbed));\n",
       "    }\n",
       "  })({\"config\": {\"view\": {\"continuousWidth\": 300, \"continuousHeight\": 300}}, \"data\": {\"name\": \"data-be3b27b995d50fe5c3ac6ef56e77bb83\"}, \"mark\": {\"type\": \"boxplot\"}, \"encoding\": {\"tooltip\": [{\"field\": \"violation_description\", \"type\": \"nominal\"}, {\"field\": \"total_tickets\", \"type\": \"quantitative\"}, {\"field\": \"repayment_rate\", \"type\": \"quantitative\"}], \"x\": {\"field\": \"violation_description\", \"sort\": \"-y\", \"title\": \"Violation Description\", \"type\": \"nominal\"}, \"y\": {\"field\": \"repayment_rate\", \"title\": \"Repayment Rate\", \"type\": \"quantitative\"}}, \"title\": \"Box Plot of Repayment Rate by Violation Description\", \"$schema\": \"https://vega.github.io/schema/vega-lite/v5.20.1.json\", \"datasets\": {\"data-be3b27b995d50fe5c3ac6ef56e77bb83\": [{\"violation_description\": \"20'OF CROSSWALK\", \"total_tickets\": 393, \"tickets_paid\": 284, \"repayment_rate\": 0.72264631043257}, {\"violation_description\": \"3-7 AM SNOW ROUTE\", \"total_tickets\": 839, \"tickets_paid\": 613, \"repayment_rate\": 0.7306317044100119}, {\"violation_description\": \"ABANDONED VEH. FOR 7 DAYS OR INOPERABLE\", \"total_tickets\": 1104, \"tickets_paid\": 281, \"repayment_rate\": 0.2545289855072464}, {\"violation_description\": \"BLOCK ACCESS/ALLEY/DRIVEWAY/FIRELANE\", \"total_tickets\": 1579, \"tickets_paid\": 1044, \"repayment_rate\": 0.6611779607346422}, {\"violation_description\": \"BURGLAR ALARM SOUNDING OVER 4 MINUTES\", \"total_tickets\": 102, \"tickets_paid\": 78, \"repayment_rate\": 0.7647058823529411}, {\"violation_description\": \"CURB LOADING ZONE\", \"total_tickets\": 1205, \"tickets_paid\": 851, \"repayment_rate\": 0.7062240663900415}, {\"violation_description\": \"DISABLED CURB CUT\", \"total_tickets\": 436, \"tickets_paid\": 340, \"repayment_rate\": 0.7798165137614679}, {\"violation_description\": \"DISABLED PARKING ZONE\", \"total_tickets\": 2034, \"tickets_paid\": 1153, \"repayment_rate\": 0.5668633235004916}, {\"violation_description\": \"DOUBLE PARKING OR STANDING\", \"total_tickets\": 2904, \"tickets_paid\": 1747, \"repayment_rate\": 0.6015840220385675}, {\"violation_description\": \"EXP. METER NON-CENTRAL BUSINESS DISTRICT\", \"total_tickets\": 20600, \"tickets_paid\": 16387, \"repayment_rate\": 0.7954854368932038}, {\"violation_description\": \"EXPIRED METER CENTRAL BUSINESS DISTRICT\", \"total_tickets\": 9736, \"tickets_paid\": 7279, \"repayment_rate\": 0.7476376335250616}, {\"violation_description\": \"EXPIRED METER OR OVERSTAY\", \"total_tickets\": 18756, \"tickets_paid\": 15122, \"repayment_rate\": 0.8062486670931969}, {\"violation_description\": \"EXPIRED PLATE OR TEMPORARY REGISTRATION\", \"total_tickets\": 2720, \"tickets_paid\": 1120, \"repayment_rate\": 0.4117647058823529}, {\"violation_description\": \"EXPIRED PLATES OR TEMPORARY REGISTRATION\", \"total_tickets\": 44811, \"tickets_paid\": 27248, \"repayment_rate\": 0.6080649840440964}, {\"violation_description\": \"HAZARDOUS DILAPIDATED VEHICLE\", \"total_tickets\": 148, \"tickets_paid\": 37, \"repayment_rate\": 0.25}, {\"violation_description\": \"HAZARDOUS DILAPITATED VEHICLE\", \"total_tickets\": 298, \"tickets_paid\": 69, \"repayment_rate\": 0.23154362416107382}, {\"violation_description\": \"IMPROPER DISPLAY OF CITY STICKER\", \"total_tickets\": 399, \"tickets_paid\": 306, \"repayment_rate\": 0.7669172932330827}, {\"violation_description\": \"INDUSTRIAL PERMIT PARKING\", \"total_tickets\": 120, \"tickets_paid\": 100, \"repayment_rate\": 0.8333333333333334}, {\"violation_description\": \"LAMPS BROKEN OR INOPERABLE\", \"total_tickets\": 162, \"tickets_paid\": 97, \"repayment_rate\": 0.5987654320987654}, {\"violation_description\": \"MISSING/NONCOMPLIANT FRONT AND/OR REAR PLATE\", \"total_tickets\": 1024, \"tickets_paid\": 331, \"repayment_rate\": 0.3232421875}, {\"violation_description\": \"NO CITY STICKER OR IMPROPER DISPLAY\", \"total_tickets\": 10773, \"tickets_paid\": 5983, \"repayment_rate\": 0.5553699062470993}, {\"violation_description\": \"NO CITY STICKER VEHICLE OVER 16,000 LBS.\", \"total_tickets\": 131, \"tickets_paid\": 19, \"repayment_rate\": 0.1450381679389313}, {\"violation_description\": \"NO CITY STICKER VEHICLE UNDER/EQUAL TO 16,000 LBS.\", \"total_tickets\": 14246, \"tickets_paid\": 6160, \"repayment_rate\": 0.43240207777621786}, {\"violation_description\": \"NO PARK IN PRIVATE LOT\", \"total_tickets\": 378, \"tickets_paid\": 220, \"repayment_rate\": 0.582010582010582}, {\"violation_description\": \"NO PARK IN PUBLIC LOT\", \"total_tickets\": 119, \"tickets_paid\": 36, \"repayment_rate\": 0.3025210084033613}, {\"violation_description\": \"NO STANDING/PARKING TIME RESTRICTED\", \"total_tickets\": 8640, \"tickets_paid\": 6548, \"repayment_rate\": 0.7578703703703704}, {\"violation_description\": \"NON PYMT/NON-COM VEH PARKED IN COM LOADING ZONE\", \"total_tickets\": 100, \"tickets_paid\": 45, \"repayment_rate\": 0.45}, {\"violation_description\": \"NONCOMPLIANT PLATE(S)\", \"total_tickets\": 1920, \"tickets_paid\": 1186, \"repayment_rate\": 0.6177083333333333}, {\"violation_description\": \"OBSTRUCT ROADWAY\", \"total_tickets\": 1577, \"tickets_paid\": 799, \"repayment_rate\": 0.5066582117945466}, {\"violation_description\": \"OBSTRUCTED OR IMPROPERLY TINTED WINDOWS\", \"total_tickets\": 271, \"tickets_paid\": 155, \"repayment_rate\": 0.5719557195571956}, {\"violation_description\": \"OUTSIDE DIAGONAL MARKINGS\", \"total_tickets\": 110, \"tickets_paid\": 80, \"repayment_rate\": 0.7272727272727273}, {\"violation_description\": \"PARK ALLEY\", \"total_tickets\": 998, \"tickets_paid\": 426, \"repayment_rate\": 0.42685370741482964}, {\"violation_description\": \"PARK IN CITY LOT WHEN CLOSED\", \"total_tickets\": 225, \"tickets_paid\": 161, \"repayment_rate\": 0.7155555555555555}, {\"violation_description\": \"PARK OR BLOCK ALLEY\", \"total_tickets\": 2050, \"tickets_paid\": 1109, \"repayment_rate\": 0.5409756097560976}, {\"violation_description\": \"PARK OR STAND IN BUS/TAXI/CARRIAGE STAND\", \"total_tickets\": 6004, \"tickets_paid\": 4051, \"repayment_rate\": 0.6747168554297135}, {\"violation_description\": \"PARK OR STAND IN VIADUCT/UNDERPASS\", \"total_tickets\": 247, \"tickets_paid\": 183, \"repayment_rate\": 0.7408906882591093}, {\"violation_description\": \"PARK OR STAND ON CITY PROPERTY\", \"total_tickets\": 183, \"tickets_paid\": 77, \"repayment_rate\": 0.4207650273224044}, {\"violation_description\": \"PARK OR STAND ON CROSSWALK\", \"total_tickets\": 1953, \"tickets_paid\": 1402, \"repayment_rate\": 0.7178699436763953}, {\"violation_description\": \"PARK OR STAND ON PARKWAY\", \"total_tickets\": 495, \"tickets_paid\": 362, \"repayment_rate\": 0.7313131313131314}, {\"violation_description\": \"PARK OR STAND ON SIDEWALK\", \"total_tickets\": 1036, \"tickets_paid\": 713, \"repayment_rate\": 0.6882239382239382}, {\"violation_description\": \"PARK OUTSIDE METERED SPACE\", \"total_tickets\": 278, \"tickets_paid\": 165, \"repayment_rate\": 0.5935251798561151}, {\"violation_description\": \"PARK VEHICLE SOLE PURPOSE OF DISPLAYING FOR SALE\", \"total_tickets\": 664, \"tickets_paid\": 129, \"repayment_rate\": 0.19427710843373494}, {\"violation_description\": \"PARK/STAND ON BICYCLE PATH\", \"total_tickets\": 236, \"tickets_paid\": 161, \"repayment_rate\": 0.6822033898305084}, {\"violation_description\": \"PARKING/STANDING PROHIBITED ANYTIME\", \"total_tickets\": 19753, \"tickets_paid\": 14038, \"repayment_rate\": 0.710676859211259}, {\"violation_description\": \"REAR AND FRONT PLATE REQUIRED\", \"total_tickets\": 15829, \"tickets_paid\": 8461, \"repayment_rate\": 0.5345252384863226}, {\"violation_description\": \"REAR PLATE LIT AND LEGIBLE FOR 50'\", \"total_tickets\": 110, \"tickets_paid\": 62, \"repayment_rate\": 0.5636363636363636}, {\"violation_description\": \"REAR PLATE REQUIRED MOTORCYCLE/TRAILER\", \"total_tickets\": 352, \"tickets_paid\": 202, \"repayment_rate\": 0.5738636363636364}, {\"violation_description\": \"RED REAR LAMP REQUIRED VISIBLE 500'\", \"total_tickets\": 115, \"tickets_paid\": 64, \"repayment_rate\": 0.5565217391304348}, {\"violation_description\": \"RESIDENTIAL PERMIT PARKING\", \"total_tickets\": 23683, \"tickets_paid\": 17667, \"repayment_rate\": 0.7459781277709749}, {\"violation_description\": \"RUSH HOUR PARKING\", \"total_tickets\": 11965, \"tickets_paid\": 9279, \"repayment_rate\": 0.7755119097367321}, {\"violation_description\": \"SAFETY BELTS REQUIRED\", \"total_tickets\": 981, \"tickets_paid\": 700, \"repayment_rate\": 0.7135575942915392}, {\"violation_description\": \"SMOKED/TINTED WINDOWS PARKED/STANDING\", \"total_tickets\": 1697, \"tickets_paid\": 1086, \"repayment_rate\": 0.6399528579846788}, {\"violation_description\": \"SNOW ROUTE: 2'' OF SNOW OR MORE\", \"total_tickets\": 144, \"tickets_paid\": 101, \"repayment_rate\": 0.7013888888888888}, {\"violation_description\": \"SPECIAL EVENTS RESTRICTION\", \"total_tickets\": 462, \"tickets_paid\": 358, \"repayment_rate\": 0.7748917748917749}, {\"violation_description\": \"STAND, PARK, OR OTHER USE OF BUS LANE\", \"total_tickets\": 1233, \"tickets_paid\": 746, \"repayment_rate\": 0.6050283860502839}, {\"violation_description\": \"STOP SIGN OR TRAFFIC SIGNAL\", \"total_tickets\": 2191, \"tickets_paid\": 1777, \"repayment_rate\": 0.8110451848471018}, {\"violation_description\": \"STREET CLEANING\", \"total_tickets\": 28712, \"tickets_paid\": 23426, \"repayment_rate\": 0.8158957926999164}, {\"violation_description\": \"STREET CLEANING OR SPECIAL EVENT\", \"total_tickets\": 3370, \"tickets_paid\": 2659, \"repayment_rate\": 0.7890207715133531}, {\"violation_description\": \"TRUCK OR SEMI-TRAILER PROHIBITED\", \"total_tickets\": 145, \"tickets_paid\": 78, \"repayment_rate\": 0.5379310344827586}, {\"violation_description\": \"TRUCK TRAILOR/SEMI/TRAILER PROHIBITED\", \"total_tickets\": 157, \"tickets_paid\": 72, \"repayment_rate\": 0.4585987261146497}, {\"violation_description\": \"TRUCK,MOTOR HOME, BUS BUSINESS STREET\", \"total_tickets\": 456, \"tickets_paid\": 314, \"repayment_rate\": 0.6885964912280702}, {\"violation_description\": \"TRUCK,RV,BUS, OR TAXI RESIDENTIAL STREET\", \"total_tickets\": 4789, \"tickets_paid\": 3332, \"repayment_rate\": 0.6957611192315724}, {\"violation_description\": \"TWO HEAD LAMPS REQUIRED VISIBLE 1000'\", \"total_tickets\": 443, \"tickets_paid\": 266, \"repayment_rate\": 0.600451467268623}, {\"violation_description\": \"WINDOWS MISSING OR CRACKED BEYOND 6\", \"total_tickets\": 576, \"tickets_paid\": 351, \"repayment_rate\": 0.609375}, {\"violation_description\": \"WITHIN 15' OF FIRE HYDRANT\", \"total_tickets\": 6104, \"tickets_paid\": 4203, \"repayment_rate\": 0.688564875491481}, {\"violation_description\": \"WRONG DIRECTION OR 12'' FROM CURB\", \"total_tickets\": 1111, \"tickets_paid\": 860, \"repayment_rate\": 0.774077407740774}]}}, {\"mode\": \"vega-lite\"});\n",
       "</script>"
      ],
      "text/plain": [
       "alt.Chart(...)"
      ]
     },
     "metadata": {},
     "output_type": "display_data"
    }
   ],
   "source": [
    "violation_summary['repayment_rate'] = violation_summary['tickets_paid'] / violation_summary['total_tickets']\n",
    "\n",
    "# Step 3: Filter for violations that appear at least 100 times\n",
    "violation_summary_filtered = violation_summary[violation_summary['total_tickets'] >= 100]\n",
    "\n",
    "# Step 4: Create a scatter plot of repayment rate (without fine calculation)\n",
    "scatter_plot = alt.Chart(violation_summary_filtered).mark_circle(size=60).encode(\n",
    "    x=alt.X('total_tickets:Q', title='Total Tickets Issued'),\n",
    "    y=alt.Y('repayment_rate:Q', title='Repayment Rate'),\n",
    "    tooltip=['violation_description', 'total_tickets', 'repayment_rate']\n",
    ").properties(\n",
    "    title='Relationship Between Total Tickets Issued and Repayment Rate'\n",
    ")\n",
    "\n",
    "# Step 5: Create additional plots\n",
    "\n",
    "# Plot 2: Bar plot of the average repayment rate\n",
    "bar_plot = alt.Chart(violation_summary_filtered).mark_bar().encode(\n",
    "    x=alt.X('violation_description:N', sort='-y', title='Violation Description'),\n",
    "    y=alt.Y('repayment_rate:Q', title='Repayment Rate'),\n",
    "    tooltip=['violation_description', 'total_tickets', 'repayment_rate']\n",
    ").properties(\n",
    "    title='Bar Plot of Repayment Rate by Violation Description'\n",
    ")\n",
    "\n",
    "# Plot 3: Box plot of repayment rate by violation description\n",
    "box_plot = alt.Chart(violation_summary_filtered).mark_boxplot().encode(\n",
    "    x=alt.X('violation_description:N', sort='-y', title='Violation Description'),\n",
    "    y=alt.Y('repayment_rate:Q', title='Repayment Rate'),\n",
    "    tooltip=['violation_description', 'total_tickets', 'repayment_rate']\n",
    ").properties(\n",
    "    title='Box Plot of Repayment Rate by Violation Description'\n",
    ")\n",
    "\n",
    "# Display the charts\n",
    "scatter_plot.show()\n",
    "bar_plot.show()\n",
    "box_plot.show()"
   ]
  },
  {
   "cell_type": "code",
   "execution_count": null,
   "id": "97f666ca-e84d-4afa-b618-f83541f4efb5",
   "metadata": {
    "vscode": {
     "languageId": "quarto"
    }
   },
   "outputs": [
    {
     "data": {
      "text/html": [
       "\n",
       "<style>\n",
       "  #altair-viz-af7bb1141f4f4401b8ae51016ff646ad.vega-embed {\n",
       "    width: 100%;\n",
       "    display: flex;\n",
       "  }\n",
       "\n",
       "  #altair-viz-af7bb1141f4f4401b8ae51016ff646ad.vega-embed details,\n",
       "  #altair-viz-af7bb1141f4f4401b8ae51016ff646ad.vega-embed details summary {\n",
       "    position: relative;\n",
       "  }\n",
       "</style>\n",
       "<div id=\"altair-viz-af7bb1141f4f4401b8ae51016ff646ad\"></div>\n",
       "<script type=\"text/javascript\">\n",
       "  var VEGA_DEBUG = (typeof VEGA_DEBUG == \"undefined\") ? {} : VEGA_DEBUG;\n",
       "  (function(spec, embedOpt){\n",
       "    let outputDiv = document.currentScript.previousElementSibling;\n",
       "    if (outputDiv.id !== \"altair-viz-af7bb1141f4f4401b8ae51016ff646ad\") {\n",
       "      outputDiv = document.getElementById(\"altair-viz-af7bb1141f4f4401b8ae51016ff646ad\");\n",
       "    }\n",
       "    const paths = {\n",
       "      \"vega\": \"https://cdn.jsdelivr.net/npm/vega@5?noext\",\n",
       "      \"vega-lib\": \"https://cdn.jsdelivr.net/npm/vega-lib?noext\",\n",
       "      \"vega-lite\": \"https://cdn.jsdelivr.net/npm/vega-lite@5.20.1?noext\",\n",
       "      \"vega-embed\": \"https://cdn.jsdelivr.net/npm/vega-embed@6?noext\",\n",
       "    };\n",
       "\n",
       "    function maybeLoadScript(lib, version) {\n",
       "      var key = `${lib.replace(\"-\", \"\")}_version`;\n",
       "      return (VEGA_DEBUG[key] == version) ?\n",
       "        Promise.resolve(paths[lib]) :\n",
       "        new Promise(function(resolve, reject) {\n",
       "          var s = document.createElement('script');\n",
       "          document.getElementsByTagName(\"head\")[0].appendChild(s);\n",
       "          s.async = true;\n",
       "          s.onload = () => {\n",
       "            VEGA_DEBUG[key] = version;\n",
       "            return resolve(paths[lib]);\n",
       "          };\n",
       "          s.onerror = () => reject(`Error loading script: ${paths[lib]}`);\n",
       "          s.src = paths[lib];\n",
       "        });\n",
       "    }\n",
       "\n",
       "    function showError(err) {\n",
       "      outputDiv.innerHTML = `<div class=\"error\" style=\"color:red;\">${err}</div>`;\n",
       "      throw err;\n",
       "    }\n",
       "\n",
       "    function displayChart(vegaEmbed) {\n",
       "      vegaEmbed(outputDiv, spec, embedOpt)\n",
       "        .catch(err => showError(`Javascript Error: ${err.message}<br>This usually means there's a typo in your chart specification. See the javascript console for the full traceback.`));\n",
       "    }\n",
       "\n",
       "    if(typeof define === \"function\" && define.amd) {\n",
       "      requirejs.config({paths});\n",
       "      require([\"vega-embed\"], displayChart, err => showError(`Error loading script: ${err.message}`));\n",
       "    } else {\n",
       "      maybeLoadScript(\"vega\", \"5\")\n",
       "        .then(() => maybeLoadScript(\"vega-lite\", \"5.20.1\"))\n",
       "        .then(() => maybeLoadScript(\"vega-embed\", \"6\"))\n",
       "        .catch(showError)\n",
       "        .then(() => displayChart(vegaEmbed));\n",
       "    }\n",
       "  })({\"config\": {\"view\": {\"continuousWidth\": 300, \"continuousHeight\": 300}}, \"data\": {\"name\": \"data-be3b27b995d50fe5c3ac6ef56e77bb83\"}, \"mark\": {\"type\": \"circle\", \"size\": 60}, \"encoding\": {\"tooltip\": [{\"field\": \"violation_description\", \"type\": \"nominal\"}, {\"field\": \"total_tickets\", \"type\": \"quantitative\"}, {\"field\": \"repayment_rate\", \"type\": \"quantitative\"}], \"x\": {\"field\": \"total_tickets\", \"title\": \"Total Tickets Issued\", \"type\": \"quantitative\"}, \"y\": {\"field\": \"repayment_rate\", \"title\": \"Repayment Rate\", \"type\": \"quantitative\"}}, \"title\": \"Relationship Between Total Tickets Issued and Repayment Rate\", \"$schema\": \"https://vega.github.io/schema/vega-lite/v5.20.1.json\", \"datasets\": {\"data-be3b27b995d50fe5c3ac6ef56e77bb83\": [{\"violation_description\": \"20'OF CROSSWALK\", \"total_tickets\": 393, \"tickets_paid\": 284, \"repayment_rate\": 0.72264631043257}, {\"violation_description\": \"3-7 AM SNOW ROUTE\", \"total_tickets\": 839, \"tickets_paid\": 613, \"repayment_rate\": 0.7306317044100119}, {\"violation_description\": \"ABANDONED VEH. FOR 7 DAYS OR INOPERABLE\", \"total_tickets\": 1104, \"tickets_paid\": 281, \"repayment_rate\": 0.2545289855072464}, {\"violation_description\": \"BLOCK ACCESS/ALLEY/DRIVEWAY/FIRELANE\", \"total_tickets\": 1579, \"tickets_paid\": 1044, \"repayment_rate\": 0.6611779607346422}, {\"violation_description\": \"BURGLAR ALARM SOUNDING OVER 4 MINUTES\", \"total_tickets\": 102, \"tickets_paid\": 78, \"repayment_rate\": 0.7647058823529411}, {\"violation_description\": \"CURB LOADING ZONE\", \"total_tickets\": 1205, \"tickets_paid\": 851, \"repayment_rate\": 0.7062240663900415}, {\"violation_description\": \"DISABLED CURB CUT\", \"total_tickets\": 436, \"tickets_paid\": 340, \"repayment_rate\": 0.7798165137614679}, {\"violation_description\": \"DISABLED PARKING ZONE\", \"total_tickets\": 2034, \"tickets_paid\": 1153, \"repayment_rate\": 0.5668633235004916}, {\"violation_description\": \"DOUBLE PARKING OR STANDING\", \"total_tickets\": 2904, \"tickets_paid\": 1747, \"repayment_rate\": 0.6015840220385675}, {\"violation_description\": \"EXP. METER NON-CENTRAL BUSINESS DISTRICT\", \"total_tickets\": 20600, \"tickets_paid\": 16387, \"repayment_rate\": 0.7954854368932038}, {\"violation_description\": \"EXPIRED METER CENTRAL BUSINESS DISTRICT\", \"total_tickets\": 9736, \"tickets_paid\": 7279, \"repayment_rate\": 0.7476376335250616}, {\"violation_description\": \"EXPIRED METER OR OVERSTAY\", \"total_tickets\": 18756, \"tickets_paid\": 15122, \"repayment_rate\": 0.8062486670931969}, {\"violation_description\": \"EXPIRED PLATE OR TEMPORARY REGISTRATION\", \"total_tickets\": 2720, \"tickets_paid\": 1120, \"repayment_rate\": 0.4117647058823529}, {\"violation_description\": \"EXPIRED PLATES OR TEMPORARY REGISTRATION\", \"total_tickets\": 44811, \"tickets_paid\": 27248, \"repayment_rate\": 0.6080649840440964}, {\"violation_description\": \"HAZARDOUS DILAPIDATED VEHICLE\", \"total_tickets\": 148, \"tickets_paid\": 37, \"repayment_rate\": 0.25}, {\"violation_description\": \"HAZARDOUS DILAPITATED VEHICLE\", \"total_tickets\": 298, \"tickets_paid\": 69, \"repayment_rate\": 0.23154362416107382}, {\"violation_description\": \"IMPROPER DISPLAY OF CITY STICKER\", \"total_tickets\": 399, \"tickets_paid\": 306, \"repayment_rate\": 0.7669172932330827}, {\"violation_description\": \"INDUSTRIAL PERMIT PARKING\", \"total_tickets\": 120, \"tickets_paid\": 100, \"repayment_rate\": 0.8333333333333334}, {\"violation_description\": \"LAMPS BROKEN OR INOPERABLE\", \"total_tickets\": 162, \"tickets_paid\": 97, \"repayment_rate\": 0.5987654320987654}, {\"violation_description\": \"MISSING/NONCOMPLIANT FRONT AND/OR REAR PLATE\", \"total_tickets\": 1024, \"tickets_paid\": 331, \"repayment_rate\": 0.3232421875}, {\"violation_description\": \"NO CITY STICKER OR IMPROPER DISPLAY\", \"total_tickets\": 10773, \"tickets_paid\": 5983, \"repayment_rate\": 0.5553699062470993}, {\"violation_description\": \"NO CITY STICKER VEHICLE OVER 16,000 LBS.\", \"total_tickets\": 131, \"tickets_paid\": 19, \"repayment_rate\": 0.1450381679389313}, {\"violation_description\": \"NO CITY STICKER VEHICLE UNDER/EQUAL TO 16,000 LBS.\", \"total_tickets\": 14246, \"tickets_paid\": 6160, \"repayment_rate\": 0.43240207777621786}, {\"violation_description\": \"NO PARK IN PRIVATE LOT\", \"total_tickets\": 378, \"tickets_paid\": 220, \"repayment_rate\": 0.582010582010582}, {\"violation_description\": \"NO PARK IN PUBLIC LOT\", \"total_tickets\": 119, \"tickets_paid\": 36, \"repayment_rate\": 0.3025210084033613}, {\"violation_description\": \"NO STANDING/PARKING TIME RESTRICTED\", \"total_tickets\": 8640, \"tickets_paid\": 6548, \"repayment_rate\": 0.7578703703703704}, {\"violation_description\": \"NON PYMT/NON-COM VEH PARKED IN COM LOADING ZONE\", \"total_tickets\": 100, \"tickets_paid\": 45, \"repayment_rate\": 0.45}, {\"violation_description\": \"NONCOMPLIANT PLATE(S)\", \"total_tickets\": 1920, \"tickets_paid\": 1186, \"repayment_rate\": 0.6177083333333333}, {\"violation_description\": \"OBSTRUCT ROADWAY\", \"total_tickets\": 1577, \"tickets_paid\": 799, \"repayment_rate\": 0.5066582117945466}, {\"violation_description\": \"OBSTRUCTED OR IMPROPERLY TINTED WINDOWS\", \"total_tickets\": 271, \"tickets_paid\": 155, \"repayment_rate\": 0.5719557195571956}, {\"violation_description\": \"OUTSIDE DIAGONAL MARKINGS\", \"total_tickets\": 110, \"tickets_paid\": 80, \"repayment_rate\": 0.7272727272727273}, {\"violation_description\": \"PARK ALLEY\", \"total_tickets\": 998, \"tickets_paid\": 426, \"repayment_rate\": 0.42685370741482964}, {\"violation_description\": \"PARK IN CITY LOT WHEN CLOSED\", \"total_tickets\": 225, \"tickets_paid\": 161, \"repayment_rate\": 0.7155555555555555}, {\"violation_description\": \"PARK OR BLOCK ALLEY\", \"total_tickets\": 2050, \"tickets_paid\": 1109, \"repayment_rate\": 0.5409756097560976}, {\"violation_description\": \"PARK OR STAND IN BUS/TAXI/CARRIAGE STAND\", \"total_tickets\": 6004, \"tickets_paid\": 4051, \"repayment_rate\": 0.6747168554297135}, {\"violation_description\": \"PARK OR STAND IN VIADUCT/UNDERPASS\", \"total_tickets\": 247, \"tickets_paid\": 183, \"repayment_rate\": 0.7408906882591093}, {\"violation_description\": \"PARK OR STAND ON CITY PROPERTY\", \"total_tickets\": 183, \"tickets_paid\": 77, \"repayment_rate\": 0.4207650273224044}, {\"violation_description\": \"PARK OR STAND ON CROSSWALK\", \"total_tickets\": 1953, \"tickets_paid\": 1402, \"repayment_rate\": 0.7178699436763953}, {\"violation_description\": \"PARK OR STAND ON PARKWAY\", \"total_tickets\": 495, \"tickets_paid\": 362, \"repayment_rate\": 0.7313131313131314}, {\"violation_description\": \"PARK OR STAND ON SIDEWALK\", \"total_tickets\": 1036, \"tickets_paid\": 713, \"repayment_rate\": 0.6882239382239382}, {\"violation_description\": \"PARK OUTSIDE METERED SPACE\", \"total_tickets\": 278, \"tickets_paid\": 165, \"repayment_rate\": 0.5935251798561151}, {\"violation_description\": \"PARK VEHICLE SOLE PURPOSE OF DISPLAYING FOR SALE\", \"total_tickets\": 664, \"tickets_paid\": 129, \"repayment_rate\": 0.19427710843373494}, {\"violation_description\": \"PARK/STAND ON BICYCLE PATH\", \"total_tickets\": 236, \"tickets_paid\": 161, \"repayment_rate\": 0.6822033898305084}, {\"violation_description\": \"PARKING/STANDING PROHIBITED ANYTIME\", \"total_tickets\": 19753, \"tickets_paid\": 14038, \"repayment_rate\": 0.710676859211259}, {\"violation_description\": \"REAR AND FRONT PLATE REQUIRED\", \"total_tickets\": 15829, \"tickets_paid\": 8461, \"repayment_rate\": 0.5345252384863226}, {\"violation_description\": \"REAR PLATE LIT AND LEGIBLE FOR 50'\", \"total_tickets\": 110, \"tickets_paid\": 62, \"repayment_rate\": 0.5636363636363636}, {\"violation_description\": \"REAR PLATE REQUIRED MOTORCYCLE/TRAILER\", \"total_tickets\": 352, \"tickets_paid\": 202, \"repayment_rate\": 0.5738636363636364}, {\"violation_description\": \"RED REAR LAMP REQUIRED VISIBLE 500'\", \"total_tickets\": 115, \"tickets_paid\": 64, \"repayment_rate\": 0.5565217391304348}, {\"violation_description\": \"RESIDENTIAL PERMIT PARKING\", \"total_tickets\": 23683, \"tickets_paid\": 17667, \"repayment_rate\": 0.7459781277709749}, {\"violation_description\": \"RUSH HOUR PARKING\", \"total_tickets\": 11965, \"tickets_paid\": 9279, \"repayment_rate\": 0.7755119097367321}, {\"violation_description\": \"SAFETY BELTS REQUIRED\", \"total_tickets\": 981, \"tickets_paid\": 700, \"repayment_rate\": 0.7135575942915392}, {\"violation_description\": \"SMOKED/TINTED WINDOWS PARKED/STANDING\", \"total_tickets\": 1697, \"tickets_paid\": 1086, \"repayment_rate\": 0.6399528579846788}, {\"violation_description\": \"SNOW ROUTE: 2'' OF SNOW OR MORE\", \"total_tickets\": 144, \"tickets_paid\": 101, \"repayment_rate\": 0.7013888888888888}, {\"violation_description\": \"SPECIAL EVENTS RESTRICTION\", \"total_tickets\": 462, \"tickets_paid\": 358, \"repayment_rate\": 0.7748917748917749}, {\"violation_description\": \"STAND, PARK, OR OTHER USE OF BUS LANE\", \"total_tickets\": 1233, \"tickets_paid\": 746, \"repayment_rate\": 0.6050283860502839}, {\"violation_description\": \"STOP SIGN OR TRAFFIC SIGNAL\", \"total_tickets\": 2191, \"tickets_paid\": 1777, \"repayment_rate\": 0.8110451848471018}, {\"violation_description\": \"STREET CLEANING\", \"total_tickets\": 28712, \"tickets_paid\": 23426, \"repayment_rate\": 0.8158957926999164}, {\"violation_description\": \"STREET CLEANING OR SPECIAL EVENT\", \"total_tickets\": 3370, \"tickets_paid\": 2659, \"repayment_rate\": 0.7890207715133531}, {\"violation_description\": \"TRUCK OR SEMI-TRAILER PROHIBITED\", \"total_tickets\": 145, \"tickets_paid\": 78, \"repayment_rate\": 0.5379310344827586}, {\"violation_description\": \"TRUCK TRAILOR/SEMI/TRAILER PROHIBITED\", \"total_tickets\": 157, \"tickets_paid\": 72, \"repayment_rate\": 0.4585987261146497}, {\"violation_description\": \"TRUCK,MOTOR HOME, BUS BUSINESS STREET\", \"total_tickets\": 456, \"tickets_paid\": 314, \"repayment_rate\": 0.6885964912280702}, {\"violation_description\": \"TRUCK,RV,BUS, OR TAXI RESIDENTIAL STREET\", \"total_tickets\": 4789, \"tickets_paid\": 3332, \"repayment_rate\": 0.6957611192315724}, {\"violation_description\": \"TWO HEAD LAMPS REQUIRED VISIBLE 1000'\", \"total_tickets\": 443, \"tickets_paid\": 266, \"repayment_rate\": 0.600451467268623}, {\"violation_description\": \"WINDOWS MISSING OR CRACKED BEYOND 6\", \"total_tickets\": 576, \"tickets_paid\": 351, \"repayment_rate\": 0.609375}, {\"violation_description\": \"WITHIN 15' OF FIRE HYDRANT\", \"total_tickets\": 6104, \"tickets_paid\": 4203, \"repayment_rate\": 0.688564875491481}, {\"violation_description\": \"WRONG DIRECTION OR 12'' FROM CURB\", \"total_tickets\": 1111, \"tickets_paid\": 860, \"repayment_rate\": 0.774077407740774}]}}, {\"mode\": \"vega-lite\"});\n",
       "</script>"
      ],
      "text/plain": [
       "alt.Chart(...)"
      ]
     },
     "metadata": {},
     "output_type": "display_data"
    },
    {
     "data": {
      "text/html": [
       "\n",
       "<style>\n",
       "  #altair-viz-19fb59c183f94efb8fd51d4d886a6969.vega-embed {\n",
       "    width: 100%;\n",
       "    display: flex;\n",
       "  }\n",
       "\n",
       "  #altair-viz-19fb59c183f94efb8fd51d4d886a6969.vega-embed details,\n",
       "  #altair-viz-19fb59c183f94efb8fd51d4d886a6969.vega-embed details summary {\n",
       "    position: relative;\n",
       "  }\n",
       "</style>\n",
       "<div id=\"altair-viz-19fb59c183f94efb8fd51d4d886a6969\"></div>\n",
       "<script type=\"text/javascript\">\n",
       "  var VEGA_DEBUG = (typeof VEGA_DEBUG == \"undefined\") ? {} : VEGA_DEBUG;\n",
       "  (function(spec, embedOpt){\n",
       "    let outputDiv = document.currentScript.previousElementSibling;\n",
       "    if (outputDiv.id !== \"altair-viz-19fb59c183f94efb8fd51d4d886a6969\") {\n",
       "      outputDiv = document.getElementById(\"altair-viz-19fb59c183f94efb8fd51d4d886a6969\");\n",
       "    }\n",
       "    const paths = {\n",
       "      \"vega\": \"https://cdn.jsdelivr.net/npm/vega@5?noext\",\n",
       "      \"vega-lib\": \"https://cdn.jsdelivr.net/npm/vega-lib?noext\",\n",
       "      \"vega-lite\": \"https://cdn.jsdelivr.net/npm/vega-lite@5.20.1?noext\",\n",
       "      \"vega-embed\": \"https://cdn.jsdelivr.net/npm/vega-embed@6?noext\",\n",
       "    };\n",
       "\n",
       "    function maybeLoadScript(lib, version) {\n",
       "      var key = `${lib.replace(\"-\", \"\")}_version`;\n",
       "      return (VEGA_DEBUG[key] == version) ?\n",
       "        Promise.resolve(paths[lib]) :\n",
       "        new Promise(function(resolve, reject) {\n",
       "          var s = document.createElement('script');\n",
       "          document.getElementsByTagName(\"head\")[0].appendChild(s);\n",
       "          s.async = true;\n",
       "          s.onload = () => {\n",
       "            VEGA_DEBUG[key] = version;\n",
       "            return resolve(paths[lib]);\n",
       "          };\n",
       "          s.onerror = () => reject(`Error loading script: ${paths[lib]}`);\n",
       "          s.src = paths[lib];\n",
       "        });\n",
       "    }\n",
       "\n",
       "    function showError(err) {\n",
       "      outputDiv.innerHTML = `<div class=\"error\" style=\"color:red;\">${err}</div>`;\n",
       "      throw err;\n",
       "    }\n",
       "\n",
       "    function displayChart(vegaEmbed) {\n",
       "      vegaEmbed(outputDiv, spec, embedOpt)\n",
       "        .catch(err => showError(`Javascript Error: ${err.message}<br>This usually means there's a typo in your chart specification. See the javascript console for the full traceback.`));\n",
       "    }\n",
       "\n",
       "    if(typeof define === \"function\" && define.amd) {\n",
       "      requirejs.config({paths});\n",
       "      require([\"vega-embed\"], displayChart, err => showError(`Error loading script: ${err.message}`));\n",
       "    } else {\n",
       "      maybeLoadScript(\"vega\", \"5\")\n",
       "        .then(() => maybeLoadScript(\"vega-lite\", \"5.20.1\"))\n",
       "        .then(() => maybeLoadScript(\"vega-embed\", \"6\"))\n",
       "        .catch(showError)\n",
       "        .then(() => displayChart(vegaEmbed));\n",
       "    }\n",
       "  })({\"config\": {\"view\": {\"continuousWidth\": 300, \"continuousHeight\": 300}}, \"data\": {\"name\": \"data-be3b27b995d50fe5c3ac6ef56e77bb83\"}, \"mark\": {\"type\": \"bar\"}, \"encoding\": {\"tooltip\": [{\"field\": \"violation_description\", \"type\": \"nominal\"}, {\"field\": \"total_tickets\", \"type\": \"quantitative\"}, {\"field\": \"repayment_rate\", \"type\": \"quantitative\"}], \"x\": {\"field\": \"violation_description\", \"sort\": \"-y\", \"title\": \"Violation Description\", \"type\": \"nominal\"}, \"y\": {\"field\": \"repayment_rate\", \"title\": \"Repayment Rate\", \"type\": \"quantitative\"}}, \"title\": \"Bar Plot of Repayment Rate by Violation Description\", \"$schema\": \"https://vega.github.io/schema/vega-lite/v5.20.1.json\", \"datasets\": {\"data-be3b27b995d50fe5c3ac6ef56e77bb83\": [{\"violation_description\": \"20'OF CROSSWALK\", \"total_tickets\": 393, \"tickets_paid\": 284, \"repayment_rate\": 0.72264631043257}, {\"violation_description\": \"3-7 AM SNOW ROUTE\", \"total_tickets\": 839, \"tickets_paid\": 613, \"repayment_rate\": 0.7306317044100119}, {\"violation_description\": \"ABANDONED VEH. FOR 7 DAYS OR INOPERABLE\", \"total_tickets\": 1104, \"tickets_paid\": 281, \"repayment_rate\": 0.2545289855072464}, {\"violation_description\": \"BLOCK ACCESS/ALLEY/DRIVEWAY/FIRELANE\", \"total_tickets\": 1579, \"tickets_paid\": 1044, \"repayment_rate\": 0.6611779607346422}, {\"violation_description\": \"BURGLAR ALARM SOUNDING OVER 4 MINUTES\", \"total_tickets\": 102, \"tickets_paid\": 78, \"repayment_rate\": 0.7647058823529411}, {\"violation_description\": \"CURB LOADING ZONE\", \"total_tickets\": 1205, \"tickets_paid\": 851, \"repayment_rate\": 0.7062240663900415}, {\"violation_description\": \"DISABLED CURB CUT\", \"total_tickets\": 436, \"tickets_paid\": 340, \"repayment_rate\": 0.7798165137614679}, {\"violation_description\": \"DISABLED PARKING ZONE\", \"total_tickets\": 2034, \"tickets_paid\": 1153, \"repayment_rate\": 0.5668633235004916}, {\"violation_description\": \"DOUBLE PARKING OR STANDING\", \"total_tickets\": 2904, \"tickets_paid\": 1747, \"repayment_rate\": 0.6015840220385675}, {\"violation_description\": \"EXP. METER NON-CENTRAL BUSINESS DISTRICT\", \"total_tickets\": 20600, \"tickets_paid\": 16387, \"repayment_rate\": 0.7954854368932038}, {\"violation_description\": \"EXPIRED METER CENTRAL BUSINESS DISTRICT\", \"total_tickets\": 9736, \"tickets_paid\": 7279, \"repayment_rate\": 0.7476376335250616}, {\"violation_description\": \"EXPIRED METER OR OVERSTAY\", \"total_tickets\": 18756, \"tickets_paid\": 15122, \"repayment_rate\": 0.8062486670931969}, {\"violation_description\": \"EXPIRED PLATE OR TEMPORARY REGISTRATION\", \"total_tickets\": 2720, \"tickets_paid\": 1120, \"repayment_rate\": 0.4117647058823529}, {\"violation_description\": \"EXPIRED PLATES OR TEMPORARY REGISTRATION\", \"total_tickets\": 44811, \"tickets_paid\": 27248, \"repayment_rate\": 0.6080649840440964}, {\"violation_description\": \"HAZARDOUS DILAPIDATED VEHICLE\", \"total_tickets\": 148, \"tickets_paid\": 37, \"repayment_rate\": 0.25}, {\"violation_description\": \"HAZARDOUS DILAPITATED VEHICLE\", \"total_tickets\": 298, \"tickets_paid\": 69, \"repayment_rate\": 0.23154362416107382}, {\"violation_description\": \"IMPROPER DISPLAY OF CITY STICKER\", \"total_tickets\": 399, \"tickets_paid\": 306, \"repayment_rate\": 0.7669172932330827}, {\"violation_description\": \"INDUSTRIAL PERMIT PARKING\", \"total_tickets\": 120, \"tickets_paid\": 100, \"repayment_rate\": 0.8333333333333334}, {\"violation_description\": \"LAMPS BROKEN OR INOPERABLE\", \"total_tickets\": 162, \"tickets_paid\": 97, \"repayment_rate\": 0.5987654320987654}, {\"violation_description\": \"MISSING/NONCOMPLIANT FRONT AND/OR REAR PLATE\", \"total_tickets\": 1024, \"tickets_paid\": 331, \"repayment_rate\": 0.3232421875}, {\"violation_description\": \"NO CITY STICKER OR IMPROPER DISPLAY\", \"total_tickets\": 10773, \"tickets_paid\": 5983, \"repayment_rate\": 0.5553699062470993}, {\"violation_description\": \"NO CITY STICKER VEHICLE OVER 16,000 LBS.\", \"total_tickets\": 131, \"tickets_paid\": 19, \"repayment_rate\": 0.1450381679389313}, {\"violation_description\": \"NO CITY STICKER VEHICLE UNDER/EQUAL TO 16,000 LBS.\", \"total_tickets\": 14246, \"tickets_paid\": 6160, \"repayment_rate\": 0.43240207777621786}, {\"violation_description\": \"NO PARK IN PRIVATE LOT\", \"total_tickets\": 378, \"tickets_paid\": 220, \"repayment_rate\": 0.582010582010582}, {\"violation_description\": \"NO PARK IN PUBLIC LOT\", \"total_tickets\": 119, \"tickets_paid\": 36, \"repayment_rate\": 0.3025210084033613}, {\"violation_description\": \"NO STANDING/PARKING TIME RESTRICTED\", \"total_tickets\": 8640, \"tickets_paid\": 6548, \"repayment_rate\": 0.7578703703703704}, {\"violation_description\": \"NON PYMT/NON-COM VEH PARKED IN COM LOADING ZONE\", \"total_tickets\": 100, \"tickets_paid\": 45, \"repayment_rate\": 0.45}, {\"violation_description\": \"NONCOMPLIANT PLATE(S)\", \"total_tickets\": 1920, \"tickets_paid\": 1186, \"repayment_rate\": 0.6177083333333333}, {\"violation_description\": \"OBSTRUCT ROADWAY\", \"total_tickets\": 1577, \"tickets_paid\": 799, \"repayment_rate\": 0.5066582117945466}, {\"violation_description\": \"OBSTRUCTED OR IMPROPERLY TINTED WINDOWS\", \"total_tickets\": 271, \"tickets_paid\": 155, \"repayment_rate\": 0.5719557195571956}, {\"violation_description\": \"OUTSIDE DIAGONAL MARKINGS\", \"total_tickets\": 110, \"tickets_paid\": 80, \"repayment_rate\": 0.7272727272727273}, {\"violation_description\": \"PARK ALLEY\", \"total_tickets\": 998, \"tickets_paid\": 426, \"repayment_rate\": 0.42685370741482964}, {\"violation_description\": \"PARK IN CITY LOT WHEN CLOSED\", \"total_tickets\": 225, \"tickets_paid\": 161, \"repayment_rate\": 0.7155555555555555}, {\"violation_description\": \"PARK OR BLOCK ALLEY\", \"total_tickets\": 2050, \"tickets_paid\": 1109, \"repayment_rate\": 0.5409756097560976}, {\"violation_description\": \"PARK OR STAND IN BUS/TAXI/CARRIAGE STAND\", \"total_tickets\": 6004, \"tickets_paid\": 4051, \"repayment_rate\": 0.6747168554297135}, {\"violation_description\": \"PARK OR STAND IN VIADUCT/UNDERPASS\", \"total_tickets\": 247, \"tickets_paid\": 183, \"repayment_rate\": 0.7408906882591093}, {\"violation_description\": \"PARK OR STAND ON CITY PROPERTY\", \"total_tickets\": 183, \"tickets_paid\": 77, \"repayment_rate\": 0.4207650273224044}, {\"violation_description\": \"PARK OR STAND ON CROSSWALK\", \"total_tickets\": 1953, \"tickets_paid\": 1402, \"repayment_rate\": 0.7178699436763953}, {\"violation_description\": \"PARK OR STAND ON PARKWAY\", \"total_tickets\": 495, \"tickets_paid\": 362, \"repayment_rate\": 0.7313131313131314}, {\"violation_description\": \"PARK OR STAND ON SIDEWALK\", \"total_tickets\": 1036, \"tickets_paid\": 713, \"repayment_rate\": 0.6882239382239382}, {\"violation_description\": \"PARK OUTSIDE METERED SPACE\", \"total_tickets\": 278, \"tickets_paid\": 165, \"repayment_rate\": 0.5935251798561151}, {\"violation_description\": \"PARK VEHICLE SOLE PURPOSE OF DISPLAYING FOR SALE\", \"total_tickets\": 664, \"tickets_paid\": 129, \"repayment_rate\": 0.19427710843373494}, {\"violation_description\": \"PARK/STAND ON BICYCLE PATH\", \"total_tickets\": 236, \"tickets_paid\": 161, \"repayment_rate\": 0.6822033898305084}, {\"violation_description\": \"PARKING/STANDING PROHIBITED ANYTIME\", \"total_tickets\": 19753, \"tickets_paid\": 14038, \"repayment_rate\": 0.710676859211259}, {\"violation_description\": \"REAR AND FRONT PLATE REQUIRED\", \"total_tickets\": 15829, \"tickets_paid\": 8461, \"repayment_rate\": 0.5345252384863226}, {\"violation_description\": \"REAR PLATE LIT AND LEGIBLE FOR 50'\", \"total_tickets\": 110, \"tickets_paid\": 62, \"repayment_rate\": 0.5636363636363636}, {\"violation_description\": \"REAR PLATE REQUIRED MOTORCYCLE/TRAILER\", \"total_tickets\": 352, \"tickets_paid\": 202, \"repayment_rate\": 0.5738636363636364}, {\"violation_description\": \"RED REAR LAMP REQUIRED VISIBLE 500'\", \"total_tickets\": 115, \"tickets_paid\": 64, \"repayment_rate\": 0.5565217391304348}, {\"violation_description\": \"RESIDENTIAL PERMIT PARKING\", \"total_tickets\": 23683, \"tickets_paid\": 17667, \"repayment_rate\": 0.7459781277709749}, {\"violation_description\": \"RUSH HOUR PARKING\", \"total_tickets\": 11965, \"tickets_paid\": 9279, \"repayment_rate\": 0.7755119097367321}, {\"violation_description\": \"SAFETY BELTS REQUIRED\", \"total_tickets\": 981, \"tickets_paid\": 700, \"repayment_rate\": 0.7135575942915392}, {\"violation_description\": \"SMOKED/TINTED WINDOWS PARKED/STANDING\", \"total_tickets\": 1697, \"tickets_paid\": 1086, \"repayment_rate\": 0.6399528579846788}, {\"violation_description\": \"SNOW ROUTE: 2'' OF SNOW OR MORE\", \"total_tickets\": 144, \"tickets_paid\": 101, \"repayment_rate\": 0.7013888888888888}, {\"violation_description\": \"SPECIAL EVENTS RESTRICTION\", \"total_tickets\": 462, \"tickets_paid\": 358, \"repayment_rate\": 0.7748917748917749}, {\"violation_description\": \"STAND, PARK, OR OTHER USE OF BUS LANE\", \"total_tickets\": 1233, \"tickets_paid\": 746, \"repayment_rate\": 0.6050283860502839}, {\"violation_description\": \"STOP SIGN OR TRAFFIC SIGNAL\", \"total_tickets\": 2191, \"tickets_paid\": 1777, \"repayment_rate\": 0.8110451848471018}, {\"violation_description\": \"STREET CLEANING\", \"total_tickets\": 28712, \"tickets_paid\": 23426, \"repayment_rate\": 0.8158957926999164}, {\"violation_description\": \"STREET CLEANING OR SPECIAL EVENT\", \"total_tickets\": 3370, \"tickets_paid\": 2659, \"repayment_rate\": 0.7890207715133531}, {\"violation_description\": \"TRUCK OR SEMI-TRAILER PROHIBITED\", \"total_tickets\": 145, \"tickets_paid\": 78, \"repayment_rate\": 0.5379310344827586}, {\"violation_description\": \"TRUCK TRAILOR/SEMI/TRAILER PROHIBITED\", \"total_tickets\": 157, \"tickets_paid\": 72, \"repayment_rate\": 0.4585987261146497}, {\"violation_description\": \"TRUCK,MOTOR HOME, BUS BUSINESS STREET\", \"total_tickets\": 456, \"tickets_paid\": 314, \"repayment_rate\": 0.6885964912280702}, {\"violation_description\": \"TRUCK,RV,BUS, OR TAXI RESIDENTIAL STREET\", \"total_tickets\": 4789, \"tickets_paid\": 3332, \"repayment_rate\": 0.6957611192315724}, {\"violation_description\": \"TWO HEAD LAMPS REQUIRED VISIBLE 1000'\", \"total_tickets\": 443, \"tickets_paid\": 266, \"repayment_rate\": 0.600451467268623}, {\"violation_description\": \"WINDOWS MISSING OR CRACKED BEYOND 6\", \"total_tickets\": 576, \"tickets_paid\": 351, \"repayment_rate\": 0.609375}, {\"violation_description\": \"WITHIN 15' OF FIRE HYDRANT\", \"total_tickets\": 6104, \"tickets_paid\": 4203, \"repayment_rate\": 0.688564875491481}, {\"violation_description\": \"WRONG DIRECTION OR 12'' FROM CURB\", \"total_tickets\": 1111, \"tickets_paid\": 860, \"repayment_rate\": 0.774077407740774}]}}, {\"mode\": \"vega-lite\"});\n",
       "</script>"
      ],
      "text/plain": [
       "alt.Chart(...)"
      ]
     },
     "metadata": {},
     "output_type": "display_data"
    },
    {
     "data": {
      "text/html": [
       "\n",
       "<style>\n",
       "  #altair-viz-bb789d6f88044454883fe52e878e822c.vega-embed {\n",
       "    width: 100%;\n",
       "    display: flex;\n",
       "  }\n",
       "\n",
       "  #altair-viz-bb789d6f88044454883fe52e878e822c.vega-embed details,\n",
       "  #altair-viz-bb789d6f88044454883fe52e878e822c.vega-embed details summary {\n",
       "    position: relative;\n",
       "  }\n",
       "</style>\n",
       "<div id=\"altair-viz-bb789d6f88044454883fe52e878e822c\"></div>\n",
       "<script type=\"text/javascript\">\n",
       "  var VEGA_DEBUG = (typeof VEGA_DEBUG == \"undefined\") ? {} : VEGA_DEBUG;\n",
       "  (function(spec, embedOpt){\n",
       "    let outputDiv = document.currentScript.previousElementSibling;\n",
       "    if (outputDiv.id !== \"altair-viz-bb789d6f88044454883fe52e878e822c\") {\n",
       "      outputDiv = document.getElementById(\"altair-viz-bb789d6f88044454883fe52e878e822c\");\n",
       "    }\n",
       "    const paths = {\n",
       "      \"vega\": \"https://cdn.jsdelivr.net/npm/vega@5?noext\",\n",
       "      \"vega-lib\": \"https://cdn.jsdelivr.net/npm/vega-lib?noext\",\n",
       "      \"vega-lite\": \"https://cdn.jsdelivr.net/npm/vega-lite@5.20.1?noext\",\n",
       "      \"vega-embed\": \"https://cdn.jsdelivr.net/npm/vega-embed@6?noext\",\n",
       "    };\n",
       "\n",
       "    function maybeLoadScript(lib, version) {\n",
       "      var key = `${lib.replace(\"-\", \"\")}_version`;\n",
       "      return (VEGA_DEBUG[key] == version) ?\n",
       "        Promise.resolve(paths[lib]) :\n",
       "        new Promise(function(resolve, reject) {\n",
       "          var s = document.createElement('script');\n",
       "          document.getElementsByTagName(\"head\")[0].appendChild(s);\n",
       "          s.async = true;\n",
       "          s.onload = () => {\n",
       "            VEGA_DEBUG[key] = version;\n",
       "            return resolve(paths[lib]);\n",
       "          };\n",
       "          s.onerror = () => reject(`Error loading script: ${paths[lib]}`);\n",
       "          s.src = paths[lib];\n",
       "        });\n",
       "    }\n",
       "\n",
       "    function showError(err) {\n",
       "      outputDiv.innerHTML = `<div class=\"error\" style=\"color:red;\">${err}</div>`;\n",
       "      throw err;\n",
       "    }\n",
       "\n",
       "    function displayChart(vegaEmbed) {\n",
       "      vegaEmbed(outputDiv, spec, embedOpt)\n",
       "        .catch(err => showError(`Javascript Error: ${err.message}<br>This usually means there's a typo in your chart specification. See the javascript console for the full traceback.`));\n",
       "    }\n",
       "\n",
       "    if(typeof define === \"function\" && define.amd) {\n",
       "      requirejs.config({paths});\n",
       "      require([\"vega-embed\"], displayChart, err => showError(`Error loading script: ${err.message}`));\n",
       "    } else {\n",
       "      maybeLoadScript(\"vega\", \"5\")\n",
       "        .then(() => maybeLoadScript(\"vega-lite\", \"5.20.1\"))\n",
       "        .then(() => maybeLoadScript(\"vega-embed\", \"6\"))\n",
       "        .catch(showError)\n",
       "        .then(() => displayChart(vegaEmbed));\n",
       "    }\n",
       "  })({\"config\": {\"view\": {\"continuousWidth\": 300, \"continuousHeight\": 300}}, \"data\": {\"name\": \"data-be3b27b995d50fe5c3ac6ef56e77bb83\"}, \"mark\": {\"type\": \"rect\"}, \"encoding\": {\"color\": {\"field\": \"repayment_rate\", \"scale\": {\"scheme\": \"blues\"}, \"title\": \"Repayment Rate\", \"type\": \"quantitative\"}, \"tooltip\": [{\"field\": \"violation_description\", \"type\": \"nominal\"}, {\"field\": \"total_tickets\", \"type\": \"quantitative\"}, {\"field\": \"repayment_rate\", \"type\": \"quantitative\"}], \"x\": {\"field\": \"total_tickets\", \"title\": \"Total Tickets Issued\", \"type\": \"quantitative\"}, \"y\": {\"field\": \"repayment_rate\", \"title\": \"Repayment Rate\", \"type\": \"quantitative\"}}, \"title\": \"Heatmap of Total Tickets vs Repayment Rate\", \"$schema\": \"https://vega.github.io/schema/vega-lite/v5.20.1.json\", \"datasets\": {\"data-be3b27b995d50fe5c3ac6ef56e77bb83\": [{\"violation_description\": \"20'OF CROSSWALK\", \"total_tickets\": 393, \"tickets_paid\": 284, \"repayment_rate\": 0.72264631043257}, {\"violation_description\": \"3-7 AM SNOW ROUTE\", \"total_tickets\": 839, \"tickets_paid\": 613, \"repayment_rate\": 0.7306317044100119}, {\"violation_description\": \"ABANDONED VEH. FOR 7 DAYS OR INOPERABLE\", \"total_tickets\": 1104, \"tickets_paid\": 281, \"repayment_rate\": 0.2545289855072464}, {\"violation_description\": \"BLOCK ACCESS/ALLEY/DRIVEWAY/FIRELANE\", \"total_tickets\": 1579, \"tickets_paid\": 1044, \"repayment_rate\": 0.6611779607346422}, {\"violation_description\": \"BURGLAR ALARM SOUNDING OVER 4 MINUTES\", \"total_tickets\": 102, \"tickets_paid\": 78, \"repayment_rate\": 0.7647058823529411}, {\"violation_description\": \"CURB LOADING ZONE\", \"total_tickets\": 1205, \"tickets_paid\": 851, \"repayment_rate\": 0.7062240663900415}, {\"violation_description\": \"DISABLED CURB CUT\", \"total_tickets\": 436, \"tickets_paid\": 340, \"repayment_rate\": 0.7798165137614679}, {\"violation_description\": \"DISABLED PARKING ZONE\", \"total_tickets\": 2034, \"tickets_paid\": 1153, \"repayment_rate\": 0.5668633235004916}, {\"violation_description\": \"DOUBLE PARKING OR STANDING\", \"total_tickets\": 2904, \"tickets_paid\": 1747, \"repayment_rate\": 0.6015840220385675}, {\"violation_description\": \"EXP. METER NON-CENTRAL BUSINESS DISTRICT\", \"total_tickets\": 20600, \"tickets_paid\": 16387, \"repayment_rate\": 0.7954854368932038}, {\"violation_description\": \"EXPIRED METER CENTRAL BUSINESS DISTRICT\", \"total_tickets\": 9736, \"tickets_paid\": 7279, \"repayment_rate\": 0.7476376335250616}, {\"violation_description\": \"EXPIRED METER OR OVERSTAY\", \"total_tickets\": 18756, \"tickets_paid\": 15122, \"repayment_rate\": 0.8062486670931969}, {\"violation_description\": \"EXPIRED PLATE OR TEMPORARY REGISTRATION\", \"total_tickets\": 2720, \"tickets_paid\": 1120, \"repayment_rate\": 0.4117647058823529}, {\"violation_description\": \"EXPIRED PLATES OR TEMPORARY REGISTRATION\", \"total_tickets\": 44811, \"tickets_paid\": 27248, \"repayment_rate\": 0.6080649840440964}, {\"violation_description\": \"HAZARDOUS DILAPIDATED VEHICLE\", \"total_tickets\": 148, \"tickets_paid\": 37, \"repayment_rate\": 0.25}, {\"violation_description\": \"HAZARDOUS DILAPITATED VEHICLE\", \"total_tickets\": 298, \"tickets_paid\": 69, \"repayment_rate\": 0.23154362416107382}, {\"violation_description\": \"IMPROPER DISPLAY OF CITY STICKER\", \"total_tickets\": 399, \"tickets_paid\": 306, \"repayment_rate\": 0.7669172932330827}, {\"violation_description\": \"INDUSTRIAL PERMIT PARKING\", \"total_tickets\": 120, \"tickets_paid\": 100, \"repayment_rate\": 0.8333333333333334}, {\"violation_description\": \"LAMPS BROKEN OR INOPERABLE\", \"total_tickets\": 162, \"tickets_paid\": 97, \"repayment_rate\": 0.5987654320987654}, {\"violation_description\": \"MISSING/NONCOMPLIANT FRONT AND/OR REAR PLATE\", \"total_tickets\": 1024, \"tickets_paid\": 331, \"repayment_rate\": 0.3232421875}, {\"violation_description\": \"NO CITY STICKER OR IMPROPER DISPLAY\", \"total_tickets\": 10773, \"tickets_paid\": 5983, \"repayment_rate\": 0.5553699062470993}, {\"violation_description\": \"NO CITY STICKER VEHICLE OVER 16,000 LBS.\", \"total_tickets\": 131, \"tickets_paid\": 19, \"repayment_rate\": 0.1450381679389313}, {\"violation_description\": \"NO CITY STICKER VEHICLE UNDER/EQUAL TO 16,000 LBS.\", \"total_tickets\": 14246, \"tickets_paid\": 6160, \"repayment_rate\": 0.43240207777621786}, {\"violation_description\": \"NO PARK IN PRIVATE LOT\", \"total_tickets\": 378, \"tickets_paid\": 220, \"repayment_rate\": 0.582010582010582}, {\"violation_description\": \"NO PARK IN PUBLIC LOT\", \"total_tickets\": 119, \"tickets_paid\": 36, \"repayment_rate\": 0.3025210084033613}, {\"violation_description\": \"NO STANDING/PARKING TIME RESTRICTED\", \"total_tickets\": 8640, \"tickets_paid\": 6548, \"repayment_rate\": 0.7578703703703704}, {\"violation_description\": \"NON PYMT/NON-COM VEH PARKED IN COM LOADING ZONE\", \"total_tickets\": 100, \"tickets_paid\": 45, \"repayment_rate\": 0.45}, {\"violation_description\": \"NONCOMPLIANT PLATE(S)\", \"total_tickets\": 1920, \"tickets_paid\": 1186, \"repayment_rate\": 0.6177083333333333}, {\"violation_description\": \"OBSTRUCT ROADWAY\", \"total_tickets\": 1577, \"tickets_paid\": 799, \"repayment_rate\": 0.5066582117945466}, {\"violation_description\": \"OBSTRUCTED OR IMPROPERLY TINTED WINDOWS\", \"total_tickets\": 271, \"tickets_paid\": 155, \"repayment_rate\": 0.5719557195571956}, {\"violation_description\": \"OUTSIDE DIAGONAL MARKINGS\", \"total_tickets\": 110, \"tickets_paid\": 80, \"repayment_rate\": 0.7272727272727273}, {\"violation_description\": \"PARK ALLEY\", \"total_tickets\": 998, \"tickets_paid\": 426, \"repayment_rate\": 0.42685370741482964}, {\"violation_description\": \"PARK IN CITY LOT WHEN CLOSED\", \"total_tickets\": 225, \"tickets_paid\": 161, \"repayment_rate\": 0.7155555555555555}, {\"violation_description\": \"PARK OR BLOCK ALLEY\", \"total_tickets\": 2050, \"tickets_paid\": 1109, \"repayment_rate\": 0.5409756097560976}, {\"violation_description\": \"PARK OR STAND IN BUS/TAXI/CARRIAGE STAND\", \"total_tickets\": 6004, \"tickets_paid\": 4051, \"repayment_rate\": 0.6747168554297135}, {\"violation_description\": \"PARK OR STAND IN VIADUCT/UNDERPASS\", \"total_tickets\": 247, \"tickets_paid\": 183, \"repayment_rate\": 0.7408906882591093}, {\"violation_description\": \"PARK OR STAND ON CITY PROPERTY\", \"total_tickets\": 183, \"tickets_paid\": 77, \"repayment_rate\": 0.4207650273224044}, {\"violation_description\": \"PARK OR STAND ON CROSSWALK\", \"total_tickets\": 1953, \"tickets_paid\": 1402, \"repayment_rate\": 0.7178699436763953}, {\"violation_description\": \"PARK OR STAND ON PARKWAY\", \"total_tickets\": 495, \"tickets_paid\": 362, \"repayment_rate\": 0.7313131313131314}, {\"violation_description\": \"PARK OR STAND ON SIDEWALK\", \"total_tickets\": 1036, \"tickets_paid\": 713, \"repayment_rate\": 0.6882239382239382}, {\"violation_description\": \"PARK OUTSIDE METERED SPACE\", \"total_tickets\": 278, \"tickets_paid\": 165, \"repayment_rate\": 0.5935251798561151}, {\"violation_description\": \"PARK VEHICLE SOLE PURPOSE OF DISPLAYING FOR SALE\", \"total_tickets\": 664, \"tickets_paid\": 129, \"repayment_rate\": 0.19427710843373494}, {\"violation_description\": \"PARK/STAND ON BICYCLE PATH\", \"total_tickets\": 236, \"tickets_paid\": 161, \"repayment_rate\": 0.6822033898305084}, {\"violation_description\": \"PARKING/STANDING PROHIBITED ANYTIME\", \"total_tickets\": 19753, \"tickets_paid\": 14038, \"repayment_rate\": 0.710676859211259}, {\"violation_description\": \"REAR AND FRONT PLATE REQUIRED\", \"total_tickets\": 15829, \"tickets_paid\": 8461, \"repayment_rate\": 0.5345252384863226}, {\"violation_description\": \"REAR PLATE LIT AND LEGIBLE FOR 50'\", \"total_tickets\": 110, \"tickets_paid\": 62, \"repayment_rate\": 0.5636363636363636}, {\"violation_description\": \"REAR PLATE REQUIRED MOTORCYCLE/TRAILER\", \"total_tickets\": 352, \"tickets_paid\": 202, \"repayment_rate\": 0.5738636363636364}, {\"violation_description\": \"RED REAR LAMP REQUIRED VISIBLE 500'\", \"total_tickets\": 115, \"tickets_paid\": 64, \"repayment_rate\": 0.5565217391304348}, {\"violation_description\": \"RESIDENTIAL PERMIT PARKING\", \"total_tickets\": 23683, \"tickets_paid\": 17667, \"repayment_rate\": 0.7459781277709749}, {\"violation_description\": \"RUSH HOUR PARKING\", \"total_tickets\": 11965, \"tickets_paid\": 9279, \"repayment_rate\": 0.7755119097367321}, {\"violation_description\": \"SAFETY BELTS REQUIRED\", \"total_tickets\": 981, \"tickets_paid\": 700, \"repayment_rate\": 0.7135575942915392}, {\"violation_description\": \"SMOKED/TINTED WINDOWS PARKED/STANDING\", \"total_tickets\": 1697, \"tickets_paid\": 1086, \"repayment_rate\": 0.6399528579846788}, {\"violation_description\": \"SNOW ROUTE: 2'' OF SNOW OR MORE\", \"total_tickets\": 144, \"tickets_paid\": 101, \"repayment_rate\": 0.7013888888888888}, {\"violation_description\": \"SPECIAL EVENTS RESTRICTION\", \"total_tickets\": 462, \"tickets_paid\": 358, \"repayment_rate\": 0.7748917748917749}, {\"violation_description\": \"STAND, PARK, OR OTHER USE OF BUS LANE\", \"total_tickets\": 1233, \"tickets_paid\": 746, \"repayment_rate\": 0.6050283860502839}, {\"violation_description\": \"STOP SIGN OR TRAFFIC SIGNAL\", \"total_tickets\": 2191, \"tickets_paid\": 1777, \"repayment_rate\": 0.8110451848471018}, {\"violation_description\": \"STREET CLEANING\", \"total_tickets\": 28712, \"tickets_paid\": 23426, \"repayment_rate\": 0.8158957926999164}, {\"violation_description\": \"STREET CLEANING OR SPECIAL EVENT\", \"total_tickets\": 3370, \"tickets_paid\": 2659, \"repayment_rate\": 0.7890207715133531}, {\"violation_description\": \"TRUCK OR SEMI-TRAILER PROHIBITED\", \"total_tickets\": 145, \"tickets_paid\": 78, \"repayment_rate\": 0.5379310344827586}, {\"violation_description\": \"TRUCK TRAILOR/SEMI/TRAILER PROHIBITED\", \"total_tickets\": 157, \"tickets_paid\": 72, \"repayment_rate\": 0.4585987261146497}, {\"violation_description\": \"TRUCK,MOTOR HOME, BUS BUSINESS STREET\", \"total_tickets\": 456, \"tickets_paid\": 314, \"repayment_rate\": 0.6885964912280702}, {\"violation_description\": \"TRUCK,RV,BUS, OR TAXI RESIDENTIAL STREET\", \"total_tickets\": 4789, \"tickets_paid\": 3332, \"repayment_rate\": 0.6957611192315724}, {\"violation_description\": \"TWO HEAD LAMPS REQUIRED VISIBLE 1000'\", \"total_tickets\": 443, \"tickets_paid\": 266, \"repayment_rate\": 0.600451467268623}, {\"violation_description\": \"WINDOWS MISSING OR CRACKED BEYOND 6\", \"total_tickets\": 576, \"tickets_paid\": 351, \"repayment_rate\": 0.609375}, {\"violation_description\": \"WITHIN 15' OF FIRE HYDRANT\", \"total_tickets\": 6104, \"tickets_paid\": 4203, \"repayment_rate\": 0.688564875491481}, {\"violation_description\": \"WRONG DIRECTION OR 12'' FROM CURB\", \"total_tickets\": 1111, \"tickets_paid\": 860, \"repayment_rate\": 0.774077407740774}]}}, {\"mode\": \"vega-lite\"});\n",
       "</script>"
      ],
      "text/plain": [
       "alt.Chart(...)"
      ]
     },
     "metadata": {},
     "output_type": "display_data"
    }
   ],
   "source": [
    "violation_summary['repayment_rate'] = violation_summary['tickets_paid'] / violation_summary['total_tickets']\n",
    "\n",
    "violation_summary_filtered = violation_summary[violation_summary['total_tickets'] >= 100]\n",
    "#scatter plot \n",
    "scatter_plot = alt.Chart(violation_summary_filtered).mark_circle(size=60).encode(\n",
    "    x=alt.X('total_tickets:Q', title='Total Tickets Issued'),\n",
    "    y=alt.Y('repayment_rate:Q', title='Repayment Rate'),\n",
    "    tooltip=['violation_description', 'total_tickets', 'repayment_rate']\n",
    ").properties(\n",
    "    title='Relationship Between Total Tickets Issued and Repayment Rate'\n",
    ")\n",
    "scatter_plot.show()\n",
    "\n",
    "#bar plot \n",
    "bar_plot = alt.Chart(violation_summary_filtered).mark_bar().encode(\n",
    "    x=alt.X('violation_description:N', sort='-y', title='Violation Description'),\n",
    "    y=alt.Y('repayment_rate:Q', title='Repayment Rate'),\n",
    "    tooltip=['violation_description', 'total_tickets', 'repayment_rate']\n",
    ").properties(\n",
    "    title='Bar Plot of Repayment Rate by Violation Description'\n",
    ")\n",
    "bar_plot.show()\n",
    "# Plot 3: Box plot of repayment rate by violation description\n",
    "heatmap = alt.Chart(violation_summary_filtered).mark_rect().encode(\n",
    "    x=alt.X('total_tickets:Q', title='Total Tickets Issued'),\n",
    "    y=alt.Y('repayment_rate:Q', title='Repayment Rate'),\n",
    "    color=alt.Color('repayment_rate:Q', scale=alt.Scale(scheme='blues'), title='Repayment Rate'),\n",
    "    tooltip=['violation_description', 'total_tickets', 'repayment_rate']\n",
    ").properties(\n",
    "    title='Heatmap of Total Tickets vs Repayment Rate'\n",
    ")\n",
    "heatmap.show()\n",
    "# Display the heatmap\n",
    "\n",
    "# Display the charts"
   ]
  },
  {
   "cell_type": "code",
   "execution_count": null,
   "id": "dff0fd08-16fe-4bcc-b90f-d3247e5e235c",
   "metadata": {
    "vscode": {
     "languageId": "quarto"
    }
   },
   "outputs": [
    {
     "data": {
      "text/html": [
       "\n",
       "<style>\n",
       "  #altair-viz-cc134702e516434ab3bc73c7f1f10c7f.vega-embed {\n",
       "    width: 100%;\n",
       "    display: flex;\n",
       "  }\n",
       "\n",
       "  #altair-viz-cc134702e516434ab3bc73c7f1f10c7f.vega-embed details,\n",
       "  #altair-viz-cc134702e516434ab3bc73c7f1f10c7f.vega-embed details summary {\n",
       "    position: relative;\n",
       "  }\n",
       "</style>\n",
       "<div id=\"altair-viz-cc134702e516434ab3bc73c7f1f10c7f\"></div>\n",
       "<script type=\"text/javascript\">\n",
       "  var VEGA_DEBUG = (typeof VEGA_DEBUG == \"undefined\") ? {} : VEGA_DEBUG;\n",
       "  (function(spec, embedOpt){\n",
       "    let outputDiv = document.currentScript.previousElementSibling;\n",
       "    if (outputDiv.id !== \"altair-viz-cc134702e516434ab3bc73c7f1f10c7f\") {\n",
       "      outputDiv = document.getElementById(\"altair-viz-cc134702e516434ab3bc73c7f1f10c7f\");\n",
       "    }\n",
       "    const paths = {\n",
       "      \"vega\": \"https://cdn.jsdelivr.net/npm/vega@5?noext\",\n",
       "      \"vega-lib\": \"https://cdn.jsdelivr.net/npm/vega-lib?noext\",\n",
       "      \"vega-lite\": \"https://cdn.jsdelivr.net/npm/vega-lite@5.20.1?noext\",\n",
       "      \"vega-embed\": \"https://cdn.jsdelivr.net/npm/vega-embed@6?noext\",\n",
       "    };\n",
       "\n",
       "    function maybeLoadScript(lib, version) {\n",
       "      var key = `${lib.replace(\"-\", \"\")}_version`;\n",
       "      return (VEGA_DEBUG[key] == version) ?\n",
       "        Promise.resolve(paths[lib]) :\n",
       "        new Promise(function(resolve, reject) {\n",
       "          var s = document.createElement('script');\n",
       "          document.getElementsByTagName(\"head\")[0].appendChild(s);\n",
       "          s.async = true;\n",
       "          s.onload = () => {\n",
       "            VEGA_DEBUG[key] = version;\n",
       "            return resolve(paths[lib]);\n",
       "          };\n",
       "          s.onerror = () => reject(`Error loading script: ${paths[lib]}`);\n",
       "          s.src = paths[lib];\n",
       "        });\n",
       "    }\n",
       "\n",
       "    function showError(err) {\n",
       "      outputDiv.innerHTML = `<div class=\"error\" style=\"color:red;\">${err}</div>`;\n",
       "      throw err;\n",
       "    }\n",
       "\n",
       "    function displayChart(vegaEmbed) {\n",
       "      vegaEmbed(outputDiv, spec, embedOpt)\n",
       "        .catch(err => showError(`Javascript Error: ${err.message}<br>This usually means there's a typo in your chart specification. See the javascript console for the full traceback.`));\n",
       "    }\n",
       "\n",
       "    if(typeof define === \"function\" && define.amd) {\n",
       "      requirejs.config({paths});\n",
       "      require([\"vega-embed\"], displayChart, err => showError(`Error loading script: ${err.message}`));\n",
       "    } else {\n",
       "      maybeLoadScript(\"vega\", \"5\")\n",
       "        .then(() => maybeLoadScript(\"vega-lite\", \"5.20.1\"))\n",
       "        .then(() => maybeLoadScript(\"vega-embed\", \"6\"))\n",
       "        .catch(showError)\n",
       "        .then(() => displayChart(vegaEmbed));\n",
       "    }\n",
       "  })({\"config\": {\"view\": {\"continuousWidth\": 300, \"continuousHeight\": 300}}, \"data\": {\"name\": \"data-953883e3eaeff663890382dbdbd39466\"}, \"mark\": {\"type\": \"line\"}, \"encoding\": {\"tooltip\": [{\"field\": \"issue_date\", \"type\": \"temporal\"}, {\"field\": \"ticket_count\", \"type\": \"quantitative\"}], \"x\": {\"axis\": {\"format\": \"%Y-%m\", \"labelAngle\": -45, \"tickCount\": \"month\", \"title\": \"Month of Issue\"}, \"field\": \"issue_date\", \"type\": \"temporal\"}, \"y\": {\"field\": \"ticket_count\", \"type\": \"quantitative\"}}, \"title\": \"Number of Missing City Sticker Tickets Over Time\", \"$schema\": \"https://vega.github.io/schema/vega-lite/v5.20.1.json\", \"datasets\": {\"data-953883e3eaeff663890382dbdbd39466\": [{\"issue_date\": \"2007-01-01T00:00:00\", \"ticket_count\": 160}, {\"issue_date\": \"2007-02-01T00:00:00\", \"ticket_count\": 104}, {\"issue_date\": \"2007-03-01T00:00:00\", \"ticket_count\": 161}, {\"issue_date\": \"2007-04-01T00:00:00\", \"ticket_count\": 158}, {\"issue_date\": \"2007-05-01T00:00:00\", \"ticket_count\": 126}, {\"issue_date\": \"2007-06-01T00:00:00\", \"ticket_count\": 80}, {\"issue_date\": \"2007-07-01T00:00:00\", \"ticket_count\": 399}, {\"issue_date\": \"2007-08-01T00:00:00\", \"ticket_count\": 345}, {\"issue_date\": \"2007-09-01T00:00:00\", \"ticket_count\": 224}, {\"issue_date\": \"2007-10-01T00:00:00\", \"ticket_count\": 221}, {\"issue_date\": \"2007-11-01T00:00:00\", \"ticket_count\": 168}, {\"issue_date\": \"2007-12-01T00:00:00\", \"ticket_count\": 118}, {\"issue_date\": \"2008-01-01T00:00:00\", \"ticket_count\": 132}, {\"issue_date\": \"2008-02-01T00:00:00\", \"ticket_count\": 149}, {\"issue_date\": \"2008-03-01T00:00:00\", \"ticket_count\": 192}, {\"issue_date\": \"2008-04-01T00:00:00\", \"ticket_count\": 166}, {\"issue_date\": \"2008-05-01T00:00:00\", \"ticket_count\": 139}, {\"issue_date\": \"2008-06-01T00:00:00\", \"ticket_count\": 72}, {\"issue_date\": \"2008-07-01T00:00:00\", \"ticket_count\": 382}, {\"issue_date\": \"2008-08-01T00:00:00\", \"ticket_count\": 342}, {\"issue_date\": \"2008-09-01T00:00:00\", \"ticket_count\": 213}, {\"issue_date\": \"2008-10-01T00:00:00\", \"ticket_count\": 197}, {\"issue_date\": \"2008-11-01T00:00:00\", \"ticket_count\": 148}, {\"issue_date\": \"2008-12-01T00:00:00\", \"ticket_count\": 80}, {\"issue_date\": \"2009-01-01T00:00:00\", \"ticket_count\": 81}, {\"issue_date\": \"2009-02-01T00:00:00\", \"ticket_count\": 121}, {\"issue_date\": \"2009-03-01T00:00:00\", \"ticket_count\": 171}, {\"issue_date\": \"2009-04-01T00:00:00\", \"ticket_count\": 149}, {\"issue_date\": \"2009-05-01T00:00:00\", \"ticket_count\": 132}, {\"issue_date\": \"2009-06-01T00:00:00\", \"ticket_count\": 89}, {\"issue_date\": \"2009-07-01T00:00:00\", \"ticket_count\": 392}, {\"issue_date\": \"2009-08-01T00:00:00\", \"ticket_count\": 347}, {\"issue_date\": \"2009-09-01T00:00:00\", \"ticket_count\": 211}, {\"issue_date\": \"2009-10-01T00:00:00\", \"ticket_count\": 188}, {\"issue_date\": \"2009-11-01T00:00:00\", \"ticket_count\": 170}, {\"issue_date\": \"2009-12-01T00:00:00\", \"ticket_count\": 98}, {\"issue_date\": \"2010-01-01T00:00:00\", \"ticket_count\": 156}, {\"issue_date\": \"2010-02-01T00:00:00\", \"ticket_count\": 129}, {\"issue_date\": \"2010-03-01T00:00:00\", \"ticket_count\": 153}, {\"issue_date\": \"2010-04-01T00:00:00\", \"ticket_count\": 138}, {\"issue_date\": \"2010-05-01T00:00:00\", \"ticket_count\": 140}, {\"issue_date\": \"2010-06-01T00:00:00\", \"ticket_count\": 99}, {\"issue_date\": \"2010-07-01T00:00:00\", \"ticket_count\": 26}, {\"issue_date\": \"2010-08-01T00:00:00\", \"ticket_count\": 425}, {\"issue_date\": \"2010-09-01T00:00:00\", \"ticket_count\": 237}, {\"issue_date\": \"2010-10-01T00:00:00\", \"ticket_count\": 197}, {\"issue_date\": \"2010-11-01T00:00:00\", \"ticket_count\": 168}, {\"issue_date\": \"2010-12-01T00:00:00\", \"ticket_count\": 117}, {\"issue_date\": \"2011-01-01T00:00:00\", \"ticket_count\": 153}, {\"issue_date\": \"2011-02-01T00:00:00\", \"ticket_count\": 87}, {\"issue_date\": \"2011-03-01T00:00:00\", \"ticket_count\": 147}, {\"issue_date\": \"2011-04-01T00:00:00\", \"ticket_count\": 135}, {\"issue_date\": \"2011-05-01T00:00:00\", \"ticket_count\": 134}, {\"issue_date\": \"2011-06-01T00:00:00\", \"ticket_count\": 78}, {\"issue_date\": \"2011-07-01T00:00:00\", \"ticket_count\": 317}, {\"issue_date\": \"2011-08-01T00:00:00\", \"ticket_count\": 313}, {\"issue_date\": \"2011-09-01T00:00:00\", \"ticket_count\": 171}, {\"issue_date\": \"2011-10-01T00:00:00\", \"ticket_count\": 136}, {\"issue_date\": \"2011-11-01T00:00:00\", \"ticket_count\": 139}, {\"issue_date\": \"2011-12-01T00:00:00\", \"ticket_count\": 123}, {\"issue_date\": \"2012-01-01T00:00:00\", \"ticket_count\": 114}, {\"issue_date\": \"2012-02-01T00:00:00\", \"ticket_count\": 138}, {\"issue_date\": \"2012-03-01T00:00:00\", \"ticket_count\": 181}, {\"issue_date\": \"2012-04-01T00:00:00\", \"ticket_count\": 142}, {\"issue_date\": \"2012-05-01T00:00:00\", \"ticket_count\": 115}, {\"issue_date\": \"2012-06-01T00:00:00\", \"ticket_count\": 100}, {\"issue_date\": \"2012-07-01T00:00:00\", \"ticket_count\": 414}, {\"issue_date\": \"2012-08-01T00:00:00\", \"ticket_count\": 319}, {\"issue_date\": \"2012-09-01T00:00:00\", \"ticket_count\": 179}, {\"issue_date\": \"2012-10-01T00:00:00\", \"ticket_count\": 171}, {\"issue_date\": \"2012-11-01T00:00:00\", \"ticket_count\": 157}, {\"issue_date\": \"2012-12-01T00:00:00\", \"ticket_count\": 162}, {\"issue_date\": \"2013-01-01T00:00:00\", \"ticket_count\": 196}, {\"issue_date\": \"2013-02-01T00:00:00\", \"ticket_count\": 158}, {\"issue_date\": \"2013-03-01T00:00:00\", \"ticket_count\": 199}, {\"issue_date\": \"2013-04-01T00:00:00\", \"ticket_count\": 187}, {\"issue_date\": \"2013-05-01T00:00:00\", \"ticket_count\": 179}, {\"issue_date\": \"2013-06-01T00:00:00\", \"ticket_count\": 140}, {\"issue_date\": \"2013-07-01T00:00:00\", \"ticket_count\": 499}, {\"issue_date\": \"2013-08-01T00:00:00\", \"ticket_count\": 355}, {\"issue_date\": \"2013-09-01T00:00:00\", \"ticket_count\": 221}, {\"issue_date\": \"2013-10-01T00:00:00\", \"ticket_count\": 208}, {\"issue_date\": \"2013-11-01T00:00:00\", \"ticket_count\": 127}, {\"issue_date\": \"2013-12-01T00:00:00\", \"ticket_count\": 98}, {\"issue_date\": \"2014-01-01T00:00:00\", \"ticket_count\": 100}, {\"issue_date\": \"2014-02-01T00:00:00\", \"ticket_count\": 147}, {\"issue_date\": \"2014-03-01T00:00:00\", \"ticket_count\": 155}, {\"issue_date\": \"2014-04-01T00:00:00\", \"ticket_count\": 144}, {\"issue_date\": \"2014-05-01T00:00:00\", \"ticket_count\": 178}, {\"issue_date\": \"2014-06-01T00:00:00\", \"ticket_count\": 116}, {\"issue_date\": \"2014-07-01T00:00:00\", \"ticket_count\": 267}, {\"issue_date\": \"2014-08-01T00:00:00\", \"ticket_count\": 245}, {\"issue_date\": \"2014-09-01T00:00:00\", \"ticket_count\": 178}, {\"issue_date\": \"2014-10-01T00:00:00\", \"ticket_count\": 165}, {\"issue_date\": \"2014-11-01T00:00:00\", \"ticket_count\": 153}, {\"issue_date\": \"2014-12-01T00:00:00\", \"ticket_count\": 177}, {\"issue_date\": \"2015-01-01T00:00:00\", \"ticket_count\": 179}, {\"issue_date\": \"2015-02-01T00:00:00\", \"ticket_count\": 142}, {\"issue_date\": \"2015-03-01T00:00:00\", \"ticket_count\": 223}, {\"issue_date\": \"2015-04-01T00:00:00\", \"ticket_count\": 191}, {\"issue_date\": \"2015-05-01T00:00:00\", \"ticket_count\": 191}, {\"issue_date\": \"2015-06-01T00:00:00\", \"ticket_count\": 198}, {\"issue_date\": \"2015-07-01T00:00:00\", \"ticket_count\": 217}, {\"issue_date\": \"2015-08-01T00:00:00\", \"ticket_count\": 210}, {\"issue_date\": \"2015-09-01T00:00:00\", \"ticket_count\": 225}, {\"issue_date\": \"2015-10-01T00:00:00\", \"ticket_count\": 245}, {\"issue_date\": \"2015-11-01T00:00:00\", \"ticket_count\": 226}, {\"issue_date\": \"2015-12-01T00:00:00\", \"ticket_count\": 220}, {\"issue_date\": \"2016-01-01T00:00:00\", \"ticket_count\": 202}, {\"issue_date\": \"2016-02-01T00:00:00\", \"ticket_count\": 206}, {\"issue_date\": \"2016-03-01T00:00:00\", \"ticket_count\": 241}, {\"issue_date\": \"2016-04-01T00:00:00\", \"ticket_count\": 203}, {\"issue_date\": \"2016-05-01T00:00:00\", \"ticket_count\": 185}, {\"issue_date\": \"2016-06-01T00:00:00\", \"ticket_count\": 175}, {\"issue_date\": \"2016-07-01T00:00:00\", \"ticket_count\": 160}, {\"issue_date\": \"2016-08-01T00:00:00\", \"ticket_count\": 151}, {\"issue_date\": \"2016-09-01T00:00:00\", \"ticket_count\": 183}, {\"issue_date\": \"2016-10-01T00:00:00\", \"ticket_count\": 220}, {\"issue_date\": \"2016-11-01T00:00:00\", \"ticket_count\": 182}, {\"issue_date\": \"2016-12-01T00:00:00\", \"ticket_count\": 156}, {\"issue_date\": \"2017-01-01T00:00:00\", \"ticket_count\": 238}, {\"issue_date\": \"2017-02-01T00:00:00\", \"ticket_count\": 190}, {\"issue_date\": \"2017-03-01T00:00:00\", \"ticket_count\": 211}, {\"issue_date\": \"2017-04-01T00:00:00\", \"ticket_count\": 191}, {\"issue_date\": \"2017-05-01T00:00:00\", \"ticket_count\": 192}, {\"issue_date\": \"2017-06-01T00:00:00\", \"ticket_count\": 177}, {\"issue_date\": \"2017-07-01T00:00:00\", \"ticket_count\": 166}, {\"issue_date\": \"2017-08-01T00:00:00\", \"ticket_count\": 173}, {\"issue_date\": \"2017-09-01T00:00:00\", \"ticket_count\": 188}, {\"issue_date\": \"2017-10-01T00:00:00\", \"ticket_count\": 169}, {\"issue_date\": \"2017-11-01T00:00:00\", \"ticket_count\": 202}, {\"issue_date\": \"2017-12-01T00:00:00\", \"ticket_count\": 159}, {\"issue_date\": \"2018-01-01T00:00:00\", \"ticket_count\": 168}, {\"issue_date\": \"2018-02-01T00:00:00\", \"ticket_count\": 119}, {\"issue_date\": \"2018-03-01T00:00:00\", \"ticket_count\": 171}, {\"issue_date\": \"2018-04-01T00:00:00\", \"ticket_count\": 153}, {\"issue_date\": \"2018-05-01T00:00:00\", \"ticket_count\": 79}]}}, {\"mode\": \"vega-lite\"});\n",
       "</script>"
      ],
      "text/plain": [
       "alt.Chart(...)"
      ]
     },
     "metadata": {},
     "output_type": "display_data"
    }
   ],
   "source": [
    "city_sticker_by_month = city_sticker_tickets.groupby(city_sticker_tickets['issue_date'].dt.to_period('M')).size().reset_index(name='ticket_count')\n",
    "\n",
    "city_sticker_by_month['issue_date'] = city_sticker_by_month['issue_date'].dt.to_timestamp()\n",
    "\n",
    "chart = alt.Chart(city_sticker_by_month).mark_line().encode(\n",
    "    x=alt.X('issue_date:T', \n",
    "            axis=alt.Axis(format='%Y-%m',  \n",
    "                          labelAngle=-45,  \n",
    "                          tickCount='month',\n",
    "                          title='Month of Issue')\n",
    "           ),\n",
    "    y='ticket_count:Q',\n",
    "    tooltip=['issue_date', 'ticket_count']\n",
    ").properties(\n",
    "    title='Number of Missing City Sticker Tickets Over Time'\n",
    ")\n",
    "\n",
    "chart.show()"
   ]
  },
  {
   "cell_type": "code",
   "execution_count": null,
   "id": "8bb4397b-aa32-4ada-b770-033fce5f67c0",
   "metadata": {
    "vscode": {
     "languageId": "quarto"
    }
   },
   "outputs": [
    {
     "name": "stdout",
     "output_type": "stream",
     "text": [
      "Projected revenue increase: $15816000.00\n"
     ]
    }
   ],
   "source": [
    "city_sticker_tickets_prior = city_sticker_tickets[(city_sticker_tickets['issue_date'] >= '2012-02-25') &                                (city_sticker_tickets['issue_date'] < '2013-01-01')]\n",
    "\n",
    "num_tickets_prior = len(city_sticker_tickets_prior)\n",
    "old_price = 120 \n",
    "new_price = 200 \n",
    "\n",
    "revenue_before = num_tickets_prior * old_price\n",
    "revenue_after = num_tickets_prior * new_price\n",
    "revenue_increase = (revenue_after - revenue_before) * 100 \n",
    "\n",
    "print(f\"Projected revenue increase: ${revenue_increase:.2f}\")"
   ]
  },
  {
   "cell_type": "code",
   "execution_count": null,
   "id": "c372d7dc-29f2-4b45-8a53-6bc2f536e43a",
   "metadata": {
    "vscode": {
     "languageId": "quarto"
    }
   },
   "outputs": [
    {
     "name": "stdout",
     "output_type": "stream",
     "text": [
      "Repayment Rate in 2012 (Feb 25 onwards): 51.80%\n",
      "Repayment Rate in 2013: 43.79%\n",
      "Projected Change in Revenue: $5,025,190.49\n"
     ]
    }
   ],
   "source": [
    "tickets_2012 = city_sticker_tickets[(city_sticker_tickets['issue_date'] >= '2012-02-25') & (city_sticker_tickets['issue_date'] < '2013-01-01')]\n",
    "tickets_2013 = city_sticker_tickets[city_sticker_tickets['issue_date'].dt.year == 2013]\n",
    "\n",
    "tickets_2012['paid'] = tickets_2012['total_payments'] > 0\n",
    "num_tickets_2012 = len(tickets_2012)\n",
    "num_paid_2012 = tickets_2012['paid'].sum()\n",
    "repayment_rate_2012 = num_paid_2012 / num_tickets_2012\n",
    "\n",
    "tickets_2013['paid'] = tickets_2013['total_payments'] > 0\n",
    "num_tickets_2013 = len(tickets_2013)\n",
    "num_paid_2013 = tickets_2013['paid'].sum()\n",
    "repayment_rate_2013 = num_paid_2013 / num_tickets_2013\n",
    "\n",
    "print(f\"Repayment Rate in 2012 (Feb 25 onwards): {repayment_rate_2012:.2%}\")\n",
    "print(f\"Repayment Rate in 2013: {repayment_rate_2013:.2%}\")\n",
    "\n",
    "old_price = 120 \n",
    "new_price = 200  \n",
    "revenue_before = num_tickets_2012 * repayment_rate_2012 * old_price\n",
    "\n",
    "revenue_after = num_tickets_2012 * repayment_rate_2013 * new_price  \n",
    "\n",
    "revenue_change = (revenue_after - revenue_before) * 100  \n",
    "\n",
    "print(f\"Projected Change in Revenue: ${revenue_change:,.2f}\")"
   ]
  },
  {
   "cell_type": "code",
   "execution_count": null,
   "id": "34970fa0-6b49-4ee6-af68-553a62452477",
   "metadata": {
    "vscode": {
     "languageId": "quarto"
    }
   },
   "outputs": [
    {
     "data": {
      "text/html": [
       "\n",
       "<style>\n",
       "  #altair-viz-4dd3cbb495f44a23a425dfa85ab47190.vega-embed {\n",
       "    width: 100%;\n",
       "    display: flex;\n",
       "  }\n",
       "\n",
       "  #altair-viz-4dd3cbb495f44a23a425dfa85ab47190.vega-embed details,\n",
       "  #altair-viz-4dd3cbb495f44a23a425dfa85ab47190.vega-embed details summary {\n",
       "    position: relative;\n",
       "  }\n",
       "</style>\n",
       "<div id=\"altair-viz-4dd3cbb495f44a23a425dfa85ab47190\"></div>\n",
       "<script type=\"text/javascript\">\n",
       "  var VEGA_DEBUG = (typeof VEGA_DEBUG == \"undefined\") ? {} : VEGA_DEBUG;\n",
       "  (function(spec, embedOpt){\n",
       "    let outputDiv = document.currentScript.previousElementSibling;\n",
       "    if (outputDiv.id !== \"altair-viz-4dd3cbb495f44a23a425dfa85ab47190\") {\n",
       "      outputDiv = document.getElementById(\"altair-viz-4dd3cbb495f44a23a425dfa85ab47190\");\n",
       "    }\n",
       "    const paths = {\n",
       "      \"vega\": \"https://cdn.jsdelivr.net/npm/vega@5?noext\",\n",
       "      \"vega-lib\": \"https://cdn.jsdelivr.net/npm/vega-lib?noext\",\n",
       "      \"vega-lite\": \"https://cdn.jsdelivr.net/npm/vega-lite@5.20.1?noext\",\n",
       "      \"vega-embed\": \"https://cdn.jsdelivr.net/npm/vega-embed@6?noext\",\n",
       "    };\n",
       "\n",
       "    function maybeLoadScript(lib, version) {\n",
       "      var key = `${lib.replace(\"-\", \"\")}_version`;\n",
       "      return (VEGA_DEBUG[key] == version) ?\n",
       "        Promise.resolve(paths[lib]) :\n",
       "        new Promise(function(resolve, reject) {\n",
       "          var s = document.createElement('script');\n",
       "          document.getElementsByTagName(\"head\")[0].appendChild(s);\n",
       "          s.async = true;\n",
       "          s.onload = () => {\n",
       "            VEGA_DEBUG[key] = version;\n",
       "            return resolve(paths[lib]);\n",
       "          };\n",
       "          s.onerror = () => reject(`Error loading script: ${paths[lib]}`);\n",
       "          s.src = paths[lib];\n",
       "        });\n",
       "    }\n",
       "\n",
       "    function showError(err) {\n",
       "      outputDiv.innerHTML = `<div class=\"error\" style=\"color:red;\">${err}</div>`;\n",
       "      throw err;\n",
       "    }\n",
       "\n",
       "    function displayChart(vegaEmbed) {\n",
       "      vegaEmbed(outputDiv, spec, embedOpt)\n",
       "        .catch(err => showError(`Javascript Error: ${err.message}<br>This usually means there's a typo in your chart specification. See the javascript console for the full traceback.`));\n",
       "    }\n",
       "\n",
       "    if(typeof define === \"function\" && define.amd) {\n",
       "      requirejs.config({paths});\n",
       "      require([\"vega-embed\"], displayChart, err => showError(`Error loading script: ${err.message}`));\n",
       "    } else {\n",
       "      maybeLoadScript(\"vega\", \"5\")\n",
       "        .then(() => maybeLoadScript(\"vega-lite\", \"5.20.1\"))\n",
       "        .then(() => maybeLoadScript(\"vega-embed\", \"6\"))\n",
       "        .catch(showError)\n",
       "        .then(() => displayChart(vegaEmbed));\n",
       "    }\n",
       "  })({\"config\": {\"view\": {\"continuousWidth\": 300, \"continuousHeight\": 300}}, \"layer\": [{\"data\": {\"name\": \"data-b0671a151ec70b985b1d010447c5c586\"}, \"mark\": {\"type\": \"line\"}, \"encoding\": {\"tooltip\": [{\"field\": \"month\", \"type\": \"temporal\"}, {\"field\": \"repayment_rate\", \"type\": \"quantitative\"}], \"x\": {\"field\": \"month\", \"title\": \"Month\", \"type\": \"temporal\"}, \"y\": {\"field\": \"repayment_rate\", \"title\": \"Repayment Rate\", \"type\": \"quantitative\"}}, \"title\": \"Repayment Rates for Missing City Sticker Tickets\"}, {\"data\": {\"name\": \"data-26b483c840285d36dae7e77c5dc8deab\"}, \"mark\": {\"type\": \"rule\", \"color\": \"red\"}, \"encoding\": {\"x\": {\"field\": \"policy_change\", \"type\": \"temporal\"}}}], \"$schema\": \"https://vega.github.io/schema/vega-lite/v5.20.1.json\", \"datasets\": {\"data-b0671a151ec70b985b1d010447c5c586\": [{\"month\": \"2007-01-01T00:00:00\", \"total_tickets\": 160, \"tickets_paid\": 87, \"repayment_rate\": 0.54375}, {\"month\": \"2007-02-01T00:00:00\", \"total_tickets\": 104, \"tickets_paid\": 54, \"repayment_rate\": 0.5192307692307693}, {\"month\": \"2007-03-01T00:00:00\", \"total_tickets\": 161, \"tickets_paid\": 92, \"repayment_rate\": 0.5714285714285714}, {\"month\": \"2007-04-01T00:00:00\", \"total_tickets\": 158, \"tickets_paid\": 86, \"repayment_rate\": 0.5443037974683544}, {\"month\": \"2007-05-01T00:00:00\", \"total_tickets\": 126, \"tickets_paid\": 67, \"repayment_rate\": 0.5317460317460317}, {\"month\": \"2007-06-01T00:00:00\", \"total_tickets\": 80, \"tickets_paid\": 49, \"repayment_rate\": 0.6125}, {\"month\": \"2007-07-01T00:00:00\", \"total_tickets\": 399, \"tickets_paid\": 260, \"repayment_rate\": 0.6516290726817042}, {\"month\": \"2007-08-01T00:00:00\", \"total_tickets\": 345, \"tickets_paid\": 200, \"repayment_rate\": 0.5797101449275363}, {\"month\": \"2007-09-01T00:00:00\", \"total_tickets\": 224, \"tickets_paid\": 115, \"repayment_rate\": 0.5133928571428571}, {\"month\": \"2007-10-01T00:00:00\", \"total_tickets\": 221, \"tickets_paid\": 119, \"repayment_rate\": 0.5384615384615384}, {\"month\": \"2007-11-01T00:00:00\", \"total_tickets\": 168, \"tickets_paid\": 88, \"repayment_rate\": 0.5238095238095238}, {\"month\": \"2007-12-01T00:00:00\", \"total_tickets\": 118, \"tickets_paid\": 49, \"repayment_rate\": 0.4152542372881356}, {\"month\": \"2008-01-01T00:00:00\", \"total_tickets\": 132, \"tickets_paid\": 75, \"repayment_rate\": 0.5681818181818182}, {\"month\": \"2008-02-01T00:00:00\", \"total_tickets\": 149, \"tickets_paid\": 86, \"repayment_rate\": 0.5771812080536913}, {\"month\": \"2008-03-01T00:00:00\", \"total_tickets\": 192, \"tickets_paid\": 104, \"repayment_rate\": 0.5416666666666666}, {\"month\": \"2008-04-01T00:00:00\", \"total_tickets\": 166, \"tickets_paid\": 89, \"repayment_rate\": 0.536144578313253}, {\"month\": \"2008-05-01T00:00:00\", \"total_tickets\": 139, \"tickets_paid\": 79, \"repayment_rate\": 0.5683453237410072}, {\"month\": \"2008-06-01T00:00:00\", \"total_tickets\": 72, \"tickets_paid\": 41, \"repayment_rate\": 0.5694444444444444}, {\"month\": \"2008-07-01T00:00:00\", \"total_tickets\": 382, \"tickets_paid\": 255, \"repayment_rate\": 0.6675392670157068}, {\"month\": \"2008-08-01T00:00:00\", \"total_tickets\": 342, \"tickets_paid\": 211, \"repayment_rate\": 0.6169590643274854}, {\"month\": \"2008-09-01T00:00:00\", \"total_tickets\": 213, \"tickets_paid\": 125, \"repayment_rate\": 0.5868544600938967}, {\"month\": \"2008-10-01T00:00:00\", \"total_tickets\": 197, \"tickets_paid\": 123, \"repayment_rate\": 0.6243654822335025}, {\"month\": \"2008-11-01T00:00:00\", \"total_tickets\": 148, \"tickets_paid\": 75, \"repayment_rate\": 0.5067567567567568}, {\"month\": \"2008-12-01T00:00:00\", \"total_tickets\": 80, \"tickets_paid\": 49, \"repayment_rate\": 0.6125}, {\"month\": \"2009-01-01T00:00:00\", \"total_tickets\": 81, \"tickets_paid\": 46, \"repayment_rate\": 0.5679012345679012}, {\"month\": \"2009-02-01T00:00:00\", \"total_tickets\": 121, \"tickets_paid\": 62, \"repayment_rate\": 0.512396694214876}, {\"month\": \"2009-03-01T00:00:00\", \"total_tickets\": 171, \"tickets_paid\": 98, \"repayment_rate\": 0.5730994152046783}, {\"month\": \"2009-04-01T00:00:00\", \"total_tickets\": 149, \"tickets_paid\": 82, \"repayment_rate\": 0.5503355704697986}, {\"month\": \"2009-05-01T00:00:00\", \"total_tickets\": 132, \"tickets_paid\": 75, \"repayment_rate\": 0.5681818181818182}, {\"month\": \"2009-06-01T00:00:00\", \"total_tickets\": 89, \"tickets_paid\": 47, \"repayment_rate\": 0.5280898876404494}, {\"month\": \"2009-07-01T00:00:00\", \"total_tickets\": 392, \"tickets_paid\": 228, \"repayment_rate\": 0.5816326530612245}, {\"month\": \"2009-08-01T00:00:00\", \"total_tickets\": 347, \"tickets_paid\": 187, \"repayment_rate\": 0.5389048991354467}, {\"month\": \"2009-09-01T00:00:00\", \"total_tickets\": 211, \"tickets_paid\": 113, \"repayment_rate\": 0.5355450236966824}, {\"month\": \"2009-10-01T00:00:00\", \"total_tickets\": 188, \"tickets_paid\": 88, \"repayment_rate\": 0.46808510638297873}, {\"month\": \"2009-11-01T00:00:00\", \"total_tickets\": 170, \"tickets_paid\": 79, \"repayment_rate\": 0.4647058823529412}, {\"month\": \"2009-12-01T00:00:00\", \"total_tickets\": 98, \"tickets_paid\": 56, \"repayment_rate\": 0.5714285714285714}, {\"month\": \"2010-01-01T00:00:00\", \"total_tickets\": 156, \"tickets_paid\": 81, \"repayment_rate\": 0.5192307692307693}, {\"month\": \"2010-02-01T00:00:00\", \"total_tickets\": 129, \"tickets_paid\": 68, \"repayment_rate\": 0.5271317829457365}, {\"month\": \"2010-03-01T00:00:00\", \"total_tickets\": 153, \"tickets_paid\": 77, \"repayment_rate\": 0.5032679738562091}, {\"month\": \"2010-04-01T00:00:00\", \"total_tickets\": 138, \"tickets_paid\": 84, \"repayment_rate\": 0.6086956521739131}, {\"month\": \"2010-05-01T00:00:00\", \"total_tickets\": 140, \"tickets_paid\": 78, \"repayment_rate\": 0.5571428571428572}, {\"month\": \"2010-06-01T00:00:00\", \"total_tickets\": 99, \"tickets_paid\": 46, \"repayment_rate\": 0.46464646464646464}, {\"month\": \"2010-07-01T00:00:00\", \"total_tickets\": 26, \"tickets_paid\": 3, \"repayment_rate\": 0.11538461538461539}, {\"month\": \"2010-08-01T00:00:00\", \"total_tickets\": 425, \"tickets_paid\": 247, \"repayment_rate\": 0.5811764705882353}, {\"month\": \"2010-09-01T00:00:00\", \"total_tickets\": 237, \"tickets_paid\": 122, \"repayment_rate\": 0.5147679324894515}, {\"month\": \"2010-10-01T00:00:00\", \"total_tickets\": 197, \"tickets_paid\": 110, \"repayment_rate\": 0.5583756345177665}, {\"month\": \"2010-11-01T00:00:00\", \"total_tickets\": 168, \"tickets_paid\": 74, \"repayment_rate\": 0.44047619047619047}, {\"month\": \"2010-12-01T00:00:00\", \"total_tickets\": 117, \"tickets_paid\": 67, \"repayment_rate\": 0.5726495726495726}, {\"month\": \"2011-01-01T00:00:00\", \"total_tickets\": 153, \"tickets_paid\": 89, \"repayment_rate\": 0.5816993464052288}, {\"month\": \"2011-02-01T00:00:00\", \"total_tickets\": 87, \"tickets_paid\": 48, \"repayment_rate\": 0.5517241379310345}, {\"month\": \"2011-03-01T00:00:00\", \"total_tickets\": 147, \"tickets_paid\": 75, \"repayment_rate\": 0.5102040816326531}, {\"month\": \"2011-04-01T00:00:00\", \"total_tickets\": 135, \"tickets_paid\": 68, \"repayment_rate\": 0.5037037037037037}, {\"month\": \"2011-05-01T00:00:00\", \"total_tickets\": 134, \"tickets_paid\": 65, \"repayment_rate\": 0.48507462686567165}, {\"month\": \"2011-06-01T00:00:00\", \"total_tickets\": 78, \"tickets_paid\": 43, \"repayment_rate\": 0.5512820512820513}, {\"month\": \"2011-07-01T00:00:00\", \"total_tickets\": 317, \"tickets_paid\": 185, \"repayment_rate\": 0.583596214511041}, {\"month\": \"2011-08-01T00:00:00\", \"total_tickets\": 313, \"tickets_paid\": 181, \"repayment_rate\": 0.5782747603833865}, {\"month\": \"2011-09-01T00:00:00\", \"total_tickets\": 171, \"tickets_paid\": 99, \"repayment_rate\": 0.5789473684210527}, {\"month\": \"2011-10-01T00:00:00\", \"total_tickets\": 136, \"tickets_paid\": 75, \"repayment_rate\": 0.5514705882352942}, {\"month\": \"2011-11-01T00:00:00\", \"total_tickets\": 139, \"tickets_paid\": 70, \"repayment_rate\": 0.5035971223021583}, {\"month\": \"2011-12-01T00:00:00\", \"total_tickets\": 123, \"tickets_paid\": 72, \"repayment_rate\": 0.5853658536585366}, {\"month\": \"2012-01-01T00:00:00\", \"total_tickets\": 114, \"tickets_paid\": 57, \"repayment_rate\": 0.5}, {\"month\": \"2012-02-01T00:00:00\", \"total_tickets\": 138, \"tickets_paid\": 68, \"repayment_rate\": 0.4927536231884058}, {\"month\": \"2012-03-01T00:00:00\", \"total_tickets\": 181, \"tickets_paid\": 98, \"repayment_rate\": 0.5414364640883977}, {\"month\": \"2012-04-01T00:00:00\", \"total_tickets\": 142, \"tickets_paid\": 79, \"repayment_rate\": 0.5563380281690141}, {\"month\": \"2012-05-01T00:00:00\", \"total_tickets\": 115, \"tickets_paid\": 61, \"repayment_rate\": 0.5304347826086957}, {\"month\": \"2012-06-01T00:00:00\", \"total_tickets\": 100, \"tickets_paid\": 47, \"repayment_rate\": 0.47}, {\"month\": \"2012-07-01T00:00:00\", \"total_tickets\": 414, \"tickets_paid\": 231, \"repayment_rate\": 0.5579710144927537}, {\"month\": \"2012-08-01T00:00:00\", \"total_tickets\": 319, \"tickets_paid\": 165, \"repayment_rate\": 0.5172413793103449}, {\"month\": \"2012-09-01T00:00:00\", \"total_tickets\": 179, \"tickets_paid\": 96, \"repayment_rate\": 0.5363128491620112}, {\"month\": \"2012-10-01T00:00:00\", \"total_tickets\": 171, \"tickets_paid\": 84, \"repayment_rate\": 0.49122807017543857}, {\"month\": \"2012-11-01T00:00:00\", \"total_tickets\": 157, \"tickets_paid\": 73, \"repayment_rate\": 0.46496815286624205}, {\"month\": \"2012-12-01T00:00:00\", \"total_tickets\": 162, \"tickets_paid\": 72, \"repayment_rate\": 0.4444444444444444}, {\"month\": \"2013-01-01T00:00:00\", \"total_tickets\": 196, \"tickets_paid\": 78, \"repayment_rate\": 0.3979591836734694}, {\"month\": \"2013-02-01T00:00:00\", \"total_tickets\": 158, \"tickets_paid\": 64, \"repayment_rate\": 0.4050632911392405}, {\"month\": \"2013-03-01T00:00:00\", \"total_tickets\": 199, \"tickets_paid\": 91, \"repayment_rate\": 0.457286432160804}, {\"month\": \"2013-04-01T00:00:00\", \"total_tickets\": 187, \"tickets_paid\": 81, \"repayment_rate\": 0.43315508021390375}, {\"month\": \"2013-05-01T00:00:00\", \"total_tickets\": 179, \"tickets_paid\": 87, \"repayment_rate\": 0.4860335195530726}, {\"month\": \"2013-06-01T00:00:00\", \"total_tickets\": 140, \"tickets_paid\": 55, \"repayment_rate\": 0.39285714285714285}, {\"month\": \"2013-07-01T00:00:00\", \"total_tickets\": 499, \"tickets_paid\": 291, \"repayment_rate\": 0.5831663326653307}, {\"month\": \"2013-08-01T00:00:00\", \"total_tickets\": 355, \"tickets_paid\": 151, \"repayment_rate\": 0.4253521126760563}, {\"month\": \"2013-09-01T00:00:00\", \"total_tickets\": 221, \"tickets_paid\": 86, \"repayment_rate\": 0.3891402714932127}, {\"month\": \"2013-10-01T00:00:00\", \"total_tickets\": 208, \"tickets_paid\": 65, \"repayment_rate\": 0.3125}, {\"month\": \"2013-11-01T00:00:00\", \"total_tickets\": 127, \"tickets_paid\": 45, \"repayment_rate\": 0.3543307086614173}, {\"month\": \"2013-12-01T00:00:00\", \"total_tickets\": 98, \"tickets_paid\": 30, \"repayment_rate\": 0.30612244897959184}, {\"month\": \"2014-01-01T00:00:00\", \"total_tickets\": 100, \"tickets_paid\": 47, \"repayment_rate\": 0.47}, {\"month\": \"2014-02-01T00:00:00\", \"total_tickets\": 147, \"tickets_paid\": 63, \"repayment_rate\": 0.42857142857142855}, {\"month\": \"2014-03-01T00:00:00\", \"total_tickets\": 155, \"tickets_paid\": 67, \"repayment_rate\": 0.432258064516129}, {\"month\": \"2014-04-01T00:00:00\", \"total_tickets\": 144, \"tickets_paid\": 55, \"repayment_rate\": 0.3819444444444444}, {\"month\": \"2014-05-01T00:00:00\", \"total_tickets\": 178, \"tickets_paid\": 66, \"repayment_rate\": 0.3707865168539326}, {\"month\": \"2014-06-01T00:00:00\", \"total_tickets\": 116, \"tickets_paid\": 49, \"repayment_rate\": 0.4224137931034483}, {\"month\": \"2014-07-01T00:00:00\", \"total_tickets\": 267, \"tickets_paid\": 128, \"repayment_rate\": 0.4794007490636704}, {\"month\": \"2014-08-01T00:00:00\", \"total_tickets\": 245, \"tickets_paid\": 102, \"repayment_rate\": 0.4163265306122449}, {\"month\": \"2014-09-01T00:00:00\", \"total_tickets\": 178, \"tickets_paid\": 63, \"repayment_rate\": 0.3539325842696629}, {\"month\": \"2014-10-01T00:00:00\", \"total_tickets\": 165, \"tickets_paid\": 63, \"repayment_rate\": 0.38181818181818183}, {\"month\": \"2014-11-01T00:00:00\", \"total_tickets\": 153, \"tickets_paid\": 59, \"repayment_rate\": 0.38562091503267976}, {\"month\": \"2014-12-01T00:00:00\", \"total_tickets\": 177, \"tickets_paid\": 79, \"repayment_rate\": 0.4463276836158192}, {\"month\": \"2015-01-01T00:00:00\", \"total_tickets\": 179, \"tickets_paid\": 84, \"repayment_rate\": 0.4692737430167598}, {\"month\": \"2015-02-01T00:00:00\", \"total_tickets\": 142, \"tickets_paid\": 61, \"repayment_rate\": 0.4295774647887324}, {\"month\": \"2015-03-01T00:00:00\", \"total_tickets\": 223, \"tickets_paid\": 99, \"repayment_rate\": 0.4439461883408072}, {\"month\": \"2015-04-01T00:00:00\", \"total_tickets\": 191, \"tickets_paid\": 72, \"repayment_rate\": 0.3769633507853403}, {\"month\": \"2015-05-01T00:00:00\", \"total_tickets\": 191, \"tickets_paid\": 90, \"repayment_rate\": 0.4712041884816754}, {\"month\": \"2015-06-01T00:00:00\", \"total_tickets\": 198, \"tickets_paid\": 79, \"repayment_rate\": 0.398989898989899}, {\"month\": \"2015-07-01T00:00:00\", \"total_tickets\": 217, \"tickets_paid\": 102, \"repayment_rate\": 0.4700460829493088}, {\"month\": \"2015-08-01T00:00:00\", \"total_tickets\": 210, \"tickets_paid\": 80, \"repayment_rate\": 0.38095238095238093}, {\"month\": \"2015-09-01T00:00:00\", \"total_tickets\": 225, \"tickets_paid\": 98, \"repayment_rate\": 0.43555555555555553}, {\"month\": \"2015-10-01T00:00:00\", \"total_tickets\": 245, \"tickets_paid\": 105, \"repayment_rate\": 0.42857142857142855}, {\"month\": \"2015-11-01T00:00:00\", \"total_tickets\": 226, \"tickets_paid\": 105, \"repayment_rate\": 0.4646017699115044}, {\"month\": \"2015-12-01T00:00:00\", \"total_tickets\": 220, \"tickets_paid\": 106, \"repayment_rate\": 0.4818181818181818}, {\"month\": \"2016-01-01T00:00:00\", \"total_tickets\": 202, \"tickets_paid\": 92, \"repayment_rate\": 0.45544554455445546}, {\"month\": \"2016-02-01T00:00:00\", \"total_tickets\": 206, \"tickets_paid\": 91, \"repayment_rate\": 0.441747572815534}, {\"month\": \"2016-03-01T00:00:00\", \"total_tickets\": 241, \"tickets_paid\": 112, \"repayment_rate\": 0.46473029045643155}, {\"month\": \"2016-04-01T00:00:00\", \"total_tickets\": 203, \"tickets_paid\": 81, \"repayment_rate\": 0.39901477832512317}, {\"month\": \"2016-05-01T00:00:00\", \"total_tickets\": 185, \"tickets_paid\": 76, \"repayment_rate\": 0.41081081081081083}, {\"month\": \"2016-06-01T00:00:00\", \"total_tickets\": 175, \"tickets_paid\": 81, \"repayment_rate\": 0.46285714285714286}, {\"month\": \"2016-07-01T00:00:00\", \"total_tickets\": 160, \"tickets_paid\": 85, \"repayment_rate\": 0.53125}, {\"month\": \"2016-08-01T00:00:00\", \"total_tickets\": 151, \"tickets_paid\": 65, \"repayment_rate\": 0.4304635761589404}, {\"month\": \"2016-09-01T00:00:00\", \"total_tickets\": 183, \"tickets_paid\": 81, \"repayment_rate\": 0.4426229508196721}, {\"month\": \"2016-10-01T00:00:00\", \"total_tickets\": 220, \"tickets_paid\": 97, \"repayment_rate\": 0.4409090909090909}, {\"month\": \"2016-11-01T00:00:00\", \"total_tickets\": 182, \"tickets_paid\": 80, \"repayment_rate\": 0.43956043956043955}, {\"month\": \"2016-12-01T00:00:00\", \"total_tickets\": 156, \"tickets_paid\": 80, \"repayment_rate\": 0.5128205128205128}, {\"month\": \"2017-01-01T00:00:00\", \"total_tickets\": 238, \"tickets_paid\": 124, \"repayment_rate\": 0.5210084033613446}, {\"month\": \"2017-02-01T00:00:00\", \"total_tickets\": 190, \"tickets_paid\": 77, \"repayment_rate\": 0.4052631578947368}, {\"month\": \"2017-03-01T00:00:00\", \"total_tickets\": 211, \"tickets_paid\": 98, \"repayment_rate\": 0.46445497630331756}, {\"month\": \"2017-04-01T00:00:00\", \"total_tickets\": 191, \"tickets_paid\": 79, \"repayment_rate\": 0.41361256544502617}, {\"month\": \"2017-05-01T00:00:00\", \"total_tickets\": 192, \"tickets_paid\": 84, \"repayment_rate\": 0.4375}, {\"month\": \"2017-06-01T00:00:00\", \"total_tickets\": 177, \"tickets_paid\": 72, \"repayment_rate\": 0.4067796610169492}, {\"month\": \"2017-07-01T00:00:00\", \"total_tickets\": 166, \"tickets_paid\": 71, \"repayment_rate\": 0.42771084337349397}, {\"month\": \"2017-08-01T00:00:00\", \"total_tickets\": 173, \"tickets_paid\": 67, \"repayment_rate\": 0.3872832369942196}, {\"month\": \"2017-09-01T00:00:00\", \"total_tickets\": 188, \"tickets_paid\": 62, \"repayment_rate\": 0.32978723404255317}, {\"month\": \"2017-10-01T00:00:00\", \"total_tickets\": 169, \"tickets_paid\": 66, \"repayment_rate\": 0.3905325443786982}, {\"month\": \"2017-11-01T00:00:00\", \"total_tickets\": 202, \"tickets_paid\": 72, \"repayment_rate\": 0.3564356435643564}, {\"month\": \"2017-12-01T00:00:00\", \"total_tickets\": 159, \"tickets_paid\": 54, \"repayment_rate\": 0.33962264150943394}, {\"month\": \"2018-01-01T00:00:00\", \"total_tickets\": 168, \"tickets_paid\": 49, \"repayment_rate\": 0.2916666666666667}, {\"month\": \"2018-02-01T00:00:00\", \"total_tickets\": 119, \"tickets_paid\": 31, \"repayment_rate\": 0.2605042016806723}, {\"month\": \"2018-03-01T00:00:00\", \"total_tickets\": 171, \"tickets_paid\": 40, \"repayment_rate\": 0.23391812865497075}, {\"month\": \"2018-04-01T00:00:00\", \"total_tickets\": 153, \"tickets_paid\": 20, \"repayment_rate\": 0.13071895424836602}, {\"month\": \"2018-05-01T00:00:00\", \"total_tickets\": 79, \"tickets_paid\": 3, \"repayment_rate\": 0.0379746835443038}], \"data-26b483c840285d36dae7e77c5dc8deab\": [{\"policy_change\": \"2012-02-25T00:00:00\"}]}}, {\"mode\": \"vega-lite\"});\n",
       "</script>"
      ],
      "text/plain": [
       "alt.LayerChart(...)"
      ]
     },
     "metadata": {},
     "output_type": "display_data"
    }
   ],
   "source": [
    "city_sticker_tickets['month'] = city_sticker_tickets['issue_date'].dt.to_period('M')\n",
    "\n",
    "city_sticker_tickets['paid'] = city_sticker_tickets['total_payments'] > 0\n",
    "\n",
    "monthly_repayment = city_sticker_tickets.groupby('month').agg(\n",
    "    total_tickets=('combined_code', 'size'),\n",
    "    tickets_paid=('paid', 'sum')\n",
    ").reset_index()\n",
    "\n",
    "monthly_repayment['repayment_rate'] = monthly_repayment['tickets_paid'] / monthly_repayment['total_tickets']\n",
    "\n",
    "monthly_repayment['month'] = monthly_repayment['month'].dt.to_timestamp()\n",
    "\n",
    "repayment_rate_chart = alt.Chart(monthly_repayment).mark_line().encode(\n",
    "    x=alt.X('month:T', title='Month'),\n",
    "    y=alt.Y('repayment_rate:Q', title='Repayment Rate'),\n",
    "    tooltip=['month', 'repayment_rate']\n",
    ").properties(\n",
    "    title='Repayment Rates for Missing City Sticker Tickets'\n",
    ")\n",
    "\n",
    "policy_change_date = pd.to_datetime('2012-02-25')\n",
    "policy_change_line = alt.Chart(pd.DataFrame({'policy_change': [policy_change_date]})).mark_rule(color='red').encode(\n",
    "    x='policy_change:T'\n",
    ")\n",
    "\n",
    "final_chart = repayment_rate_chart + policy_change_line\n",
    "\n",
    "final_chart.show()"
   ]
  },
  {
   "cell_type": "code",
   "execution_count": null,
   "id": "13fe7ba2-0356-4298-9cdb-f59ff8eb55ca",
   "metadata": {
    "vscode": {
     "languageId": "quarto"
    }
   },
   "outputs": [
    {
     "ename": "KeyError",
     "evalue": "'unpaid_fine'",
     "output_type": "error",
     "traceback": [
      "\u001b[0;31m---------------------------------------------------------------------------\u001b[0m",
      "\u001b[0;31mKeyError\u001b[0m                                  Traceback (most recent call last)",
      "File \u001b[0;32m/opt/anaconda3/lib/python3.11/site-packages/pandas/core/indexes/base.py:3805\u001b[0m, in \u001b[0;36mIndex.get_loc\u001b[0;34m(self, key)\u001b[0m\n\u001b[1;32m   3804\u001b[0m \u001b[39mtry\u001b[39;00m:\n\u001b[0;32m-> 3805\u001b[0m     \u001b[39mreturn\u001b[39;00m \u001b[39mself\u001b[39m\u001b[39m.\u001b[39m_engine\u001b[39m.\u001b[39mget_loc(casted_key)\n\u001b[1;32m   3806\u001b[0m \u001b[39mexcept\u001b[39;00m \u001b[39mKeyError\u001b[39;00m \u001b[39mas\u001b[39;00m err:\n",
      "File \u001b[0;32mindex.pyx:167\u001b[0m, in \u001b[0;36mpandas._libs.index.IndexEngine.get_loc\u001b[0;34m()\u001b[0m\n",
      "File \u001b[0;32mindex.pyx:196\u001b[0m, in \u001b[0;36mpandas._libs.index.IndexEngine.get_loc\u001b[0;34m()\u001b[0m\n",
      "File \u001b[0;32mpandas/_libs/hashtable_class_helper.pxi:7081\u001b[0m, in \u001b[0;36mpandas._libs.hashtable.PyObjectHashTable.get_item\u001b[0;34m()\u001b[0m\n",
      "File \u001b[0;32mpandas/_libs/hashtable_class_helper.pxi:7089\u001b[0m, in \u001b[0;36mpandas._libs.hashtable.PyObjectHashTable.get_item\u001b[0;34m()\u001b[0m\n",
      "\u001b[0;31mKeyError\u001b[0m: 'unpaid_fine'",
      "\nThe above exception was the direct cause of the following exception:\n",
      "\u001b[0;31mKeyError\u001b[0m                                  Traceback (most recent call last)",
      "File \u001b[1;32m/Users/hkkkkk/Documents/GitHub/ppha30538_fall2024/30538-dap-ii-problem-set-2-ps2-dap2-python-fall2024/pset2_template.qmd:1\u001b[0m\n\u001b[0;32m----> 1\u001b[0m df[\u001b[39m'\u001b[39m\u001b[39mfine_ratio\u001b[39m\u001b[39m'\u001b[39m] \u001b[39m=\u001b[39m df[\u001b[39m'\u001b[39m\u001b[39munpaid_fine\u001b[39m\u001b[39m'\u001b[39m] \u001b[39m/\u001b[39m df[\u001b[39m'\u001b[39m\u001b[39minitial_fine\u001b[39m\u001b[39m'\u001b[39m]\n\u001b[1;32m      3\u001b[0m \u001b[39m# Step 2: Filter for violations that appear at least 100 times\u001b[39;00m\n\u001b[1;32m      4\u001b[0m common_violations \u001b[39m=\u001b[39m df\u001b[39m.\u001b[39mgroupby(\u001b[39m'\u001b[39m\u001b[39mviolation_description\u001b[39m\u001b[39m'\u001b[39m)\u001b[39m.\u001b[39mfilter(\u001b[39mlambda\u001b[39;00m x: \u001b[39mlen\u001b[39m(x) \u001b[39m>\u001b[39m\u001b[39m=\u001b[39m \u001b[39m100\u001b[39m)\n",
      "File \u001b[0;32m/opt/anaconda3/lib/python3.11/site-packages/pandas/core/frame.py:4090\u001b[0m, in \u001b[0;36mDataFrame.__getitem__\u001b[0;34m(self, key)\u001b[0m\n\u001b[1;32m   4088\u001b[0m \u001b[39mif\u001b[39;00m \u001b[39mself\u001b[39m\u001b[39m.\u001b[39mcolumns\u001b[39m.\u001b[39mnlevels \u001b[39m>\u001b[39m \u001b[39m1\u001b[39m:\n\u001b[1;32m   4089\u001b[0m     \u001b[39mreturn\u001b[39;00m \u001b[39mself\u001b[39m\u001b[39m.\u001b[39m_getitem_multilevel(key)\n\u001b[0;32m-> 4090\u001b[0m indexer \u001b[39m=\u001b[39m \u001b[39mself\u001b[39m\u001b[39m.\u001b[39mcolumns\u001b[39m.\u001b[39mget_loc(key)\n\u001b[1;32m   4091\u001b[0m \u001b[39mif\u001b[39;00m is_integer(indexer):\n\u001b[1;32m   4092\u001b[0m     indexer \u001b[39m=\u001b[39m [indexer]\n",
      "File \u001b[0;32m/opt/anaconda3/lib/python3.11/site-packages/pandas/core/indexes/base.py:3812\u001b[0m, in \u001b[0;36mIndex.get_loc\u001b[0;34m(self, key)\u001b[0m\n\u001b[1;32m   3807\u001b[0m     \u001b[39mif\u001b[39;00m \u001b[39misinstance\u001b[39m(casted_key, \u001b[39mslice\u001b[39m) \u001b[39mor\u001b[39;00m (\n\u001b[1;32m   3808\u001b[0m         \u001b[39misinstance\u001b[39m(casted_key, abc\u001b[39m.\u001b[39mIterable)\n\u001b[1;32m   3809\u001b[0m         \u001b[39mand\u001b[39;00m \u001b[39many\u001b[39m(\u001b[39misinstance\u001b[39m(x, \u001b[39mslice\u001b[39m) \u001b[39mfor\u001b[39;00m x \u001b[39min\u001b[39;00m casted_key)\n\u001b[1;32m   3810\u001b[0m     ):\n\u001b[1;32m   3811\u001b[0m         \u001b[39mraise\u001b[39;00m InvalidIndexError(key)\n\u001b[0;32m-> 3812\u001b[0m     \u001b[39mraise\u001b[39;00m \u001b[39mKeyError\u001b[39;00m(key) \u001b[39mfrom\u001b[39;00m \u001b[39merr\u001b[39;00m\n\u001b[1;32m   3813\u001b[0m \u001b[39mexcept\u001b[39;00m \u001b[39mTypeError\u001b[39;00m:\n\u001b[1;32m   3814\u001b[0m     \u001b[39m# If we have a listlike key, _check_indexing_error will raise\u001b[39;00m\n\u001b[1;32m   3815\u001b[0m     \u001b[39m#  InvalidIndexError. Otherwise we fall through and re-raise\u001b[39;00m\n\u001b[1;32m   3816\u001b[0m     \u001b[39m#  the TypeError.\u001b[39;00m\n\u001b[1;32m   3817\u001b[0m     \u001b[39mself\u001b[39m\u001b[39m.\u001b[39m_check_indexing_error(key)\n",
      "\u001b[0;31mKeyError\u001b[0m: 'unpaid_fine'"
     ]
    }
   ],
   "source": [
    "df['fine_ratio'] = df['unpaid_fine'] / df['initial_fine']\n",
    "\n",
    "# Step 2: Filter for violations that appear at least 100 times\n",
    "common_violations = df.groupby('violation_description').filter(lambda x: len(x) >= 100)\n",
    "\n",
    "# Step 3: Check if the fine ratio is equal to 2 (i.e., if the fine doubles) and find violations that do not double\n",
    "violations_no_double = common_violations[common_violations['fine_ratio'] != 2]\n",
    "\n",
    "# Step 4: Group by violation description and calculate the average increase\n",
    "violation_fine_increase = violations_no_double.groupby('violation_description').agg(\n",
    "    total_citations=('violation_description', 'size'),\n",
    "    avg_initial_fine=('initial_fine', 'mean'),\n",
    "    avg_unpaid_fine=('unpaid_fine', 'mean'),\n",
    "    avg_increase=('fine_ratio', 'mean')\n",
    ").reset_index()\n",
    "\n",
    "# Display the violations where fines do not double and the average increase\n",
    "print(\"Violations where fines do not double and their average increase:\")\n",
    "print(violation_fine_increase)"
   ]
  },
  {
   "cell_type": "code",
   "execution_count": null,
   "id": "e760f7f0-23f5-4efa-8c95-bbea4a51cf28",
   "metadata": {
    "vscode": {
     "languageId": "quarto"
    }
   },
   "outputs": [
    {
     "name": "stdout",
     "output_type": "stream",
     "text": [
      "Violations where fines do not double and their average increase:\n",
      "   violation_code  total_citations  avg_initial_fine  avg_unpaid_fine  \\\n",
      "0         0912060             1102         46.325136       180.000000   \n",
      "1         0940060              212         44.285377       277.594340   \n",
      "2        0964020A             1023          5.343011        50.000000   \n",
      "3        0964020B             1339         23.580314       150.000000   \n",
      "4        0964030B              106         18.547170        90.566038   \n",
      "..            ...              ...               ...              ...   \n",
      "57       0980110A              741         61.947881       144.736842   \n",
      "58       0980110B              306         78.122941       142.320261   \n",
      "59       0980120A              101         53.834653        97.029703   \n",
      "60       0980120B              327         14.449541        50.000000   \n",
      "61       0980130B              210         16.842381        93.809524   \n",
      "\n",
      "    avg_increase  \n",
      "0            inf  \n",
      "1            inf  \n",
      "2            inf  \n",
      "3            inf  \n",
      "4            inf  \n",
      "..           ...  \n",
      "57           inf  \n",
      "58           inf  \n",
      "59           inf  \n",
      "60           inf  \n",
      "61           inf  \n",
      "\n",
      "[62 rows x 5 columns]\n"
     ]
    }
   ],
   "source": [
    "df['fine_ratio'] = df['fine_level2_amount'] / df['current_amount_due']\n",
    "\n",
    "# Step 2: Filter for violations that appear at least 100 times\n",
    "common_violations = df.groupby('violation_code').filter(lambda x: len(x) >= 100)\n",
    "\n",
    "# Step 3: Find violations where the fine does not double (i.e., fine_ratio != 2)\n",
    "violations_no_double = common_violations[common_violations['fine_ratio'] != 2]\n",
    "\n",
    "# Step 4: Group by violation code and calculate the average increase\n",
    "violation_fine_increase = violations_no_double.groupby('violation_code').agg(\n",
    "    total_citations=('violation_code', 'size'),\n",
    "    avg_initial_fine=('current_amount_due', 'mean'),\n",
    "    avg_unpaid_fine=('fine_level2_amount', 'mean'),\n",
    "    avg_increase=('fine_ratio', 'mean')\n",
    ").reset_index()\n",
    "\n",
    "# Display the violations where fines do not double and the average increase\n",
    "print(\"Violations where fines do not double and their average increase:\")\n",
    "print(violation_fine_increase)"
   ]
  },
  {
   "cell_type": "code",
   "execution_count": null,
   "id": "a385a37c-84da-428c-bfe7-e65137e06369",
   "metadata": {
    "vscode": {
     "languageId": "quarto"
    }
   },
   "outputs": [
    {
     "name": "stdout",
     "output_type": "stream",
     "text": [
      "Projected revenue increase: $15816000.00\n"
     ]
    }
   ],
   "source": [
    "city_sticker_tickets_prior = city_sticker_tickets[(city_sticker_tickets['issue_date'] >= '2012-02-25') &                                (city_sticker_tickets['issue_date'] < '2013-01-01')]\n",
    "\n",
    "num_tickets_prior = len(city_sticker_tickets_prior)\n",
    "old_price = 120 \n",
    "new_price = 200 \n",
    "\n",
    "revenue_before = num_tickets_prior * old_price\n",
    "revenue_after = num_tickets_prior * new_price\n",
    "revenue_increase = (revenue_after - revenue_before) * 100 \n",
    "\n",
    "print(f\"Projected revenue increase: ${revenue_increase:.2f}\")"
   ]
  },
  {
   "cell_type": "code",
   "execution_count": null,
   "id": "8ecdf9b7-917e-4c9a-aadb-c0b3ca3c2b04",
   "metadata": {
    "vscode": {
     "languageId": "quarto"
    }
   },
   "outputs": [
    {
     "data": {
      "text/html": [
       "\n",
       "<style>\n",
       "  #altair-viz-600994d06c80450794a92942be3ddb9a.vega-embed {\n",
       "    width: 100%;\n",
       "    display: flex;\n",
       "  }\n",
       "\n",
       "  #altair-viz-600994d06c80450794a92942be3ddb9a.vega-embed details,\n",
       "  #altair-viz-600994d06c80450794a92942be3ddb9a.vega-embed details summary {\n",
       "    position: relative;\n",
       "  }\n",
       "</style>\n",
       "<div id=\"altair-viz-600994d06c80450794a92942be3ddb9a\"></div>\n",
       "<script type=\"text/javascript\">\n",
       "  var VEGA_DEBUG = (typeof VEGA_DEBUG == \"undefined\") ? {} : VEGA_DEBUG;\n",
       "  (function(spec, embedOpt){\n",
       "    let outputDiv = document.currentScript.previousElementSibling;\n",
       "    if (outputDiv.id !== \"altair-viz-600994d06c80450794a92942be3ddb9a\") {\n",
       "      outputDiv = document.getElementById(\"altair-viz-600994d06c80450794a92942be3ddb9a\");\n",
       "    }\n",
       "    const paths = {\n",
       "      \"vega\": \"https://cdn.jsdelivr.net/npm/vega@5?noext\",\n",
       "      \"vega-lib\": \"https://cdn.jsdelivr.net/npm/vega-lib?noext\",\n",
       "      \"vega-lite\": \"https://cdn.jsdelivr.net/npm/vega-lite@5.20.1?noext\",\n",
       "      \"vega-embed\": \"https://cdn.jsdelivr.net/npm/vega-embed@6?noext\",\n",
       "    };\n",
       "\n",
       "    function maybeLoadScript(lib, version) {\n",
       "      var key = `${lib.replace(\"-\", \"\")}_version`;\n",
       "      return (VEGA_DEBUG[key] == version) ?\n",
       "        Promise.resolve(paths[lib]) :\n",
       "        new Promise(function(resolve, reject) {\n",
       "          var s = document.createElement('script');\n",
       "          document.getElementsByTagName(\"head\")[0].appendChild(s);\n",
       "          s.async = true;\n",
       "          s.onload = () => {\n",
       "            VEGA_DEBUG[key] = version;\n",
       "            return resolve(paths[lib]);\n",
       "          };\n",
       "          s.onerror = () => reject(`Error loading script: ${paths[lib]}`);\n",
       "          s.src = paths[lib];\n",
       "        });\n",
       "    }\n",
       "\n",
       "    function showError(err) {\n",
       "      outputDiv.innerHTML = `<div class=\"error\" style=\"color:red;\">${err}</div>`;\n",
       "      throw err;\n",
       "    }\n",
       "\n",
       "    function displayChart(vegaEmbed) {\n",
       "      vegaEmbed(outputDiv, spec, embedOpt)\n",
       "        .catch(err => showError(`Javascript Error: ${err.message}<br>This usually means there's a typo in your chart specification. See the javascript console for the full traceback.`));\n",
       "    }\n",
       "\n",
       "    if(typeof define === \"function\" && define.amd) {\n",
       "      requirejs.config({paths});\n",
       "      require([\"vega-embed\"], displayChart, err => showError(`Error loading script: ${err.message}`));\n",
       "    } else {\n",
       "      maybeLoadScript(\"vega\", \"5\")\n",
       "        .then(() => maybeLoadScript(\"vega-lite\", \"5.20.1\"))\n",
       "        .then(() => maybeLoadScript(\"vega-embed\", \"6\"))\n",
       "        .catch(showError)\n",
       "        .then(() => displayChart(vegaEmbed));\n",
       "    }\n",
       "  })({\"config\": {\"view\": {\"continuousWidth\": 300, \"continuousHeight\": 300}}, \"data\": {\"name\": \"data-953883e3eaeff663890382dbdbd39466\"}, \"mark\": {\"type\": \"line\"}, \"encoding\": {\"tooltip\": [{\"field\": \"issue_date\", \"type\": \"temporal\"}, {\"field\": \"ticket_count\", \"type\": \"quantitative\"}], \"x\": {\"field\": \"issue_date\", \"type\": \"temporal\"}, \"y\": {\"field\": \"ticket_count\", \"type\": \"quantitative\"}}, \"title\": \"Number of Missing City Sticker Tickets Over Time\", \"$schema\": \"https://vega.github.io/schema/vega-lite/v5.20.1.json\", \"datasets\": {\"data-953883e3eaeff663890382dbdbd39466\": [{\"issue_date\": \"2007-01-01T00:00:00\", \"ticket_count\": 160}, {\"issue_date\": \"2007-02-01T00:00:00\", \"ticket_count\": 104}, {\"issue_date\": \"2007-03-01T00:00:00\", \"ticket_count\": 161}, {\"issue_date\": \"2007-04-01T00:00:00\", \"ticket_count\": 158}, {\"issue_date\": \"2007-05-01T00:00:00\", \"ticket_count\": 126}, {\"issue_date\": \"2007-06-01T00:00:00\", \"ticket_count\": 80}, {\"issue_date\": \"2007-07-01T00:00:00\", \"ticket_count\": 399}, {\"issue_date\": \"2007-08-01T00:00:00\", \"ticket_count\": 345}, {\"issue_date\": \"2007-09-01T00:00:00\", \"ticket_count\": 224}, {\"issue_date\": \"2007-10-01T00:00:00\", \"ticket_count\": 221}, {\"issue_date\": \"2007-11-01T00:00:00\", \"ticket_count\": 168}, {\"issue_date\": \"2007-12-01T00:00:00\", \"ticket_count\": 118}, {\"issue_date\": \"2008-01-01T00:00:00\", \"ticket_count\": 132}, {\"issue_date\": \"2008-02-01T00:00:00\", \"ticket_count\": 149}, {\"issue_date\": \"2008-03-01T00:00:00\", \"ticket_count\": 192}, {\"issue_date\": \"2008-04-01T00:00:00\", \"ticket_count\": 166}, {\"issue_date\": \"2008-05-01T00:00:00\", \"ticket_count\": 139}, {\"issue_date\": \"2008-06-01T00:00:00\", \"ticket_count\": 72}, {\"issue_date\": \"2008-07-01T00:00:00\", \"ticket_count\": 382}, {\"issue_date\": \"2008-08-01T00:00:00\", \"ticket_count\": 342}, {\"issue_date\": \"2008-09-01T00:00:00\", \"ticket_count\": 213}, {\"issue_date\": \"2008-10-01T00:00:00\", \"ticket_count\": 197}, {\"issue_date\": \"2008-11-01T00:00:00\", \"ticket_count\": 148}, {\"issue_date\": \"2008-12-01T00:00:00\", \"ticket_count\": 80}, {\"issue_date\": \"2009-01-01T00:00:00\", \"ticket_count\": 81}, {\"issue_date\": \"2009-02-01T00:00:00\", \"ticket_count\": 121}, {\"issue_date\": \"2009-03-01T00:00:00\", \"ticket_count\": 171}, {\"issue_date\": \"2009-04-01T00:00:00\", \"ticket_count\": 149}, {\"issue_date\": \"2009-05-01T00:00:00\", \"ticket_count\": 132}, {\"issue_date\": \"2009-06-01T00:00:00\", \"ticket_count\": 89}, {\"issue_date\": \"2009-07-01T00:00:00\", \"ticket_count\": 392}, {\"issue_date\": \"2009-08-01T00:00:00\", \"ticket_count\": 347}, {\"issue_date\": \"2009-09-01T00:00:00\", \"ticket_count\": 211}, {\"issue_date\": \"2009-10-01T00:00:00\", \"ticket_count\": 188}, {\"issue_date\": \"2009-11-01T00:00:00\", \"ticket_count\": 170}, {\"issue_date\": \"2009-12-01T00:00:00\", \"ticket_count\": 98}, {\"issue_date\": \"2010-01-01T00:00:00\", \"ticket_count\": 156}, {\"issue_date\": \"2010-02-01T00:00:00\", \"ticket_count\": 129}, {\"issue_date\": \"2010-03-01T00:00:00\", \"ticket_count\": 153}, {\"issue_date\": \"2010-04-01T00:00:00\", \"ticket_count\": 138}, {\"issue_date\": \"2010-05-01T00:00:00\", \"ticket_count\": 140}, {\"issue_date\": \"2010-06-01T00:00:00\", \"ticket_count\": 99}, {\"issue_date\": \"2010-07-01T00:00:00\", \"ticket_count\": 26}, {\"issue_date\": \"2010-08-01T00:00:00\", \"ticket_count\": 425}, {\"issue_date\": \"2010-09-01T00:00:00\", \"ticket_count\": 237}, {\"issue_date\": \"2010-10-01T00:00:00\", \"ticket_count\": 197}, {\"issue_date\": \"2010-11-01T00:00:00\", \"ticket_count\": 168}, {\"issue_date\": \"2010-12-01T00:00:00\", \"ticket_count\": 117}, {\"issue_date\": \"2011-01-01T00:00:00\", \"ticket_count\": 153}, {\"issue_date\": \"2011-02-01T00:00:00\", \"ticket_count\": 87}, {\"issue_date\": \"2011-03-01T00:00:00\", \"ticket_count\": 147}, {\"issue_date\": \"2011-04-01T00:00:00\", \"ticket_count\": 135}, {\"issue_date\": \"2011-05-01T00:00:00\", \"ticket_count\": 134}, {\"issue_date\": \"2011-06-01T00:00:00\", \"ticket_count\": 78}, {\"issue_date\": \"2011-07-01T00:00:00\", \"ticket_count\": 317}, {\"issue_date\": \"2011-08-01T00:00:00\", \"ticket_count\": 313}, {\"issue_date\": \"2011-09-01T00:00:00\", \"ticket_count\": 171}, {\"issue_date\": \"2011-10-01T00:00:00\", \"ticket_count\": 136}, {\"issue_date\": \"2011-11-01T00:00:00\", \"ticket_count\": 139}, {\"issue_date\": \"2011-12-01T00:00:00\", \"ticket_count\": 123}, {\"issue_date\": \"2012-01-01T00:00:00\", \"ticket_count\": 114}, {\"issue_date\": \"2012-02-01T00:00:00\", \"ticket_count\": 138}, {\"issue_date\": \"2012-03-01T00:00:00\", \"ticket_count\": 181}, {\"issue_date\": \"2012-04-01T00:00:00\", \"ticket_count\": 142}, {\"issue_date\": \"2012-05-01T00:00:00\", \"ticket_count\": 115}, {\"issue_date\": \"2012-06-01T00:00:00\", \"ticket_count\": 100}, {\"issue_date\": \"2012-07-01T00:00:00\", \"ticket_count\": 414}, {\"issue_date\": \"2012-08-01T00:00:00\", \"ticket_count\": 319}, {\"issue_date\": \"2012-09-01T00:00:00\", \"ticket_count\": 179}, {\"issue_date\": \"2012-10-01T00:00:00\", \"ticket_count\": 171}, {\"issue_date\": \"2012-11-01T00:00:00\", \"ticket_count\": 157}, {\"issue_date\": \"2012-12-01T00:00:00\", \"ticket_count\": 162}, {\"issue_date\": \"2013-01-01T00:00:00\", \"ticket_count\": 196}, {\"issue_date\": \"2013-02-01T00:00:00\", \"ticket_count\": 158}, {\"issue_date\": \"2013-03-01T00:00:00\", \"ticket_count\": 199}, {\"issue_date\": \"2013-04-01T00:00:00\", \"ticket_count\": 187}, {\"issue_date\": \"2013-05-01T00:00:00\", \"ticket_count\": 179}, {\"issue_date\": \"2013-06-01T00:00:00\", \"ticket_count\": 140}, {\"issue_date\": \"2013-07-01T00:00:00\", \"ticket_count\": 499}, {\"issue_date\": \"2013-08-01T00:00:00\", \"ticket_count\": 355}, {\"issue_date\": \"2013-09-01T00:00:00\", \"ticket_count\": 221}, {\"issue_date\": \"2013-10-01T00:00:00\", \"ticket_count\": 208}, {\"issue_date\": \"2013-11-01T00:00:00\", \"ticket_count\": 127}, {\"issue_date\": \"2013-12-01T00:00:00\", \"ticket_count\": 98}, {\"issue_date\": \"2014-01-01T00:00:00\", \"ticket_count\": 100}, {\"issue_date\": \"2014-02-01T00:00:00\", \"ticket_count\": 147}, {\"issue_date\": \"2014-03-01T00:00:00\", \"ticket_count\": 155}, {\"issue_date\": \"2014-04-01T00:00:00\", \"ticket_count\": 144}, {\"issue_date\": \"2014-05-01T00:00:00\", \"ticket_count\": 178}, {\"issue_date\": \"2014-06-01T00:00:00\", \"ticket_count\": 116}, {\"issue_date\": \"2014-07-01T00:00:00\", \"ticket_count\": 267}, {\"issue_date\": \"2014-08-01T00:00:00\", \"ticket_count\": 245}, {\"issue_date\": \"2014-09-01T00:00:00\", \"ticket_count\": 178}, {\"issue_date\": \"2014-10-01T00:00:00\", \"ticket_count\": 165}, {\"issue_date\": \"2014-11-01T00:00:00\", \"ticket_count\": 153}, {\"issue_date\": \"2014-12-01T00:00:00\", \"ticket_count\": 177}, {\"issue_date\": \"2015-01-01T00:00:00\", \"ticket_count\": 179}, {\"issue_date\": \"2015-02-01T00:00:00\", \"ticket_count\": 142}, {\"issue_date\": \"2015-03-01T00:00:00\", \"ticket_count\": 223}, {\"issue_date\": \"2015-04-01T00:00:00\", \"ticket_count\": 191}, {\"issue_date\": \"2015-05-01T00:00:00\", \"ticket_count\": 191}, {\"issue_date\": \"2015-06-01T00:00:00\", \"ticket_count\": 198}, {\"issue_date\": \"2015-07-01T00:00:00\", \"ticket_count\": 217}, {\"issue_date\": \"2015-08-01T00:00:00\", \"ticket_count\": 210}, {\"issue_date\": \"2015-09-01T00:00:00\", \"ticket_count\": 225}, {\"issue_date\": \"2015-10-01T00:00:00\", \"ticket_count\": 245}, {\"issue_date\": \"2015-11-01T00:00:00\", \"ticket_count\": 226}, {\"issue_date\": \"2015-12-01T00:00:00\", \"ticket_count\": 220}, {\"issue_date\": \"2016-01-01T00:00:00\", \"ticket_count\": 202}, {\"issue_date\": \"2016-02-01T00:00:00\", \"ticket_count\": 206}, {\"issue_date\": \"2016-03-01T00:00:00\", \"ticket_count\": 241}, {\"issue_date\": \"2016-04-01T00:00:00\", \"ticket_count\": 203}, {\"issue_date\": \"2016-05-01T00:00:00\", \"ticket_count\": 185}, {\"issue_date\": \"2016-06-01T00:00:00\", \"ticket_count\": 175}, {\"issue_date\": \"2016-07-01T00:00:00\", \"ticket_count\": 160}, {\"issue_date\": \"2016-08-01T00:00:00\", \"ticket_count\": 151}, {\"issue_date\": \"2016-09-01T00:00:00\", \"ticket_count\": 183}, {\"issue_date\": \"2016-10-01T00:00:00\", \"ticket_count\": 220}, {\"issue_date\": \"2016-11-01T00:00:00\", \"ticket_count\": 182}, {\"issue_date\": \"2016-12-01T00:00:00\", \"ticket_count\": 156}, {\"issue_date\": \"2017-01-01T00:00:00\", \"ticket_count\": 238}, {\"issue_date\": \"2017-02-01T00:00:00\", \"ticket_count\": 190}, {\"issue_date\": \"2017-03-01T00:00:00\", \"ticket_count\": 211}, {\"issue_date\": \"2017-04-01T00:00:00\", \"ticket_count\": 191}, {\"issue_date\": \"2017-05-01T00:00:00\", \"ticket_count\": 192}, {\"issue_date\": \"2017-06-01T00:00:00\", \"ticket_count\": 177}, {\"issue_date\": \"2017-07-01T00:00:00\", \"ticket_count\": 166}, {\"issue_date\": \"2017-08-01T00:00:00\", \"ticket_count\": 173}, {\"issue_date\": \"2017-09-01T00:00:00\", \"ticket_count\": 188}, {\"issue_date\": \"2017-10-01T00:00:00\", \"ticket_count\": 169}, {\"issue_date\": \"2017-11-01T00:00:00\", \"ticket_count\": 202}, {\"issue_date\": \"2017-12-01T00:00:00\", \"ticket_count\": 159}, {\"issue_date\": \"2018-01-01T00:00:00\", \"ticket_count\": 168}, {\"issue_date\": \"2018-02-01T00:00:00\", \"ticket_count\": 119}, {\"issue_date\": \"2018-03-01T00:00:00\", \"ticket_count\": 171}, {\"issue_date\": \"2018-04-01T00:00:00\", \"ticket_count\": 153}, {\"issue_date\": \"2018-05-01T00:00:00\", \"ticket_count\": 79}]}}, {\"mode\": \"vega-lite\"});\n",
       "</script>"
      ],
      "text/plain": [
       "alt.Chart(...)"
      ]
     },
     "metadata": {},
     "output_type": "display_data"
    }
   ],
   "source": [
    "df['combined_code'] = df['violation_code'].replace({\n",
    "    '0964125': 'CitySticker',\n",
    "    '0964125B': 'CitySticker'\n",
    "})\n",
    "\n",
    "df['issue_date'] = pd.to_datetime(df['issue_date'], errors='coerce')\n",
    "\n",
    "city_sticker_tickets = df[df['combined_code'] == 'CitySticker']\n",
    "\n",
    "city_sticker_tickets_by_month = city_sticker_tickets.groupby(city_sticker_tickets['issue_date'].dt.to_period('M')).size().reset_index(name='ticket_count')\n",
    "\n",
    "city_sticker_tickets_by_month['issue_date'] = city_sticker_tickets_by_month['issue_date'].dt.to_timestamp()\n",
    "\n",
    "chart = alt.Chart(city_sticker_tickets_by_month).mark_line().encode(\n",
    "    x='issue_date:T',\n",
    "    y='ticket_count:Q',\n",
    "    tooltip=['issue_date:T', 'ticket_count:Q']\n",
    ").properties(\n",
    "    title='Number of Missing City Sticker Tickets Over Time'\n",
    ")\n",
    "\n",
    "chart.show()"
   ]
  },
  {
   "cell_type": "code",
   "execution_count": null,
   "id": "f50ea554-aa8b-48e1-8723-c64530a0b054",
   "metadata": {
    "vscode": {
     "languageId": "quarto"
    }
   },
   "outputs": [
    {
     "name": "stdout",
     "output_type": "stream",
     "text": [
      "Projected revenue increase: $15816000.00\n"
     ]
    }
   ],
   "source": [
    "city_sticker_tickets_prior = city_sticker_tickets[(city_sticker_tickets['issue_date'] >= '2012-02-25') &                                (city_sticker_tickets['issue_date'] < '2013-01-01')]\n",
    "\n",
    "num_tickets_prior = len(city_sticker_tickets_prior)\n",
    "old_price = 120 \n",
    "new_price = 200 \n",
    "\n",
    "revenue_before = num_tickets_prior * old_price\n",
    "revenue_after = num_tickets_prior * new_price\n",
    "revenue_increase = (revenue_after - revenue_before) * 100 \n",
    "\n",
    "print(f\"Projected revenue increase: ${revenue_increase:.2f}\")"
   ]
  }
 ],
 "metadata": {
  "kernelspec": {
   "display_name": "Python 3",
   "language": "python",
   "name": "python3"
  },
  "language_info": {
   "name": "python",
   "version": "3.11.10"
  }
 },
 "nbformat": 4,
 "nbformat_minor": 2
}
